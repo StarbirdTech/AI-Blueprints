{
 "cells": [
  {
   "cell_type": "markdown",
   "id": "c5f8d3ca-e260-4d56-967d-dc4feb92e2e4",
   "metadata": {
    "jp-MarkdownHeadingCollapsed": true
   },
   "source": [
    "<h1 style=\\\"text-align: center; font-size: 50px;\\\"> 🤖 Agentic RAG for AI Studio with TRT-LLM and LangGraph </h1>"
   ]
  },
  {
   "cell_type": "markdown",
   "id": "38f858ca",
   "metadata": {},
   "source": [
    "# Notebook Overview\n",
    "- Imports\n",
    "- Configurations\n",
    "- Verify Assets\n",
    "- Memory Store\n",
    "- Retriever\n",
    "- State Model\n",
    "- LLM Setup\n",
    "- Node Functions\n",
    "- Graph Definition\n",
    "- Graph Visualization\n",
    "- Generated Answer\n",
    "- Retrieved Context\n",
    "- Message History"
   ]
  },
  {
   "cell_type": "markdown",
   "id": "f8b7b5e0-2acd-4729-b8a2-03e81cf0df2d",
   "metadata": {},
   "source": [
    "# Imports"
   ]
  },
  {
   "cell_type": "code",
   "execution_count": 1,
   "id": "1c533cc2-9ca5-442a-9409-bbad88be3eb4",
   "metadata": {
    "scrolled": true
   },
   "outputs": [
    {
     "name": "stdout",
     "output_type": "stream",
     "text": [
      "\u001b[33mWARNING: Running pip as the 'root' user can result in broken permissions and conflicting behaviour with the system package manager, possibly rendering your system unusable. It is recommended to use a virtual environment instead: https://pip.pypa.io/warnings/venv. Use the --root-user-action option if you know what you are doing and want to suppress this warning.\u001b[0m\u001b[33m\n",
      "\u001b[0mNote: you may need to restart the kernel to use updated packages.\n"
     ]
    }
   ],
   "source": [
    "%pip install -r ../requirements.txt --quiet"
   ]
  },
  {
   "cell_type": "code",
   "execution_count": 2,
   "id": "8b95da1c-2715-497b-b1e0-2aaefe09dc04",
   "metadata": {},
   "outputs": [
    {
     "name": "stderr",
     "output_type": "stream",
     "text": [
      "/usr/local/lib/python3.12/dist-packages/tqdm/auto.py:21: TqdmWarning: IProgress not found. Please update jupyter and ipywidgets. See https://ipywidgets.readthedocs.io/en/stable/user_install.html\n",
      "  from .autonotebook import tqdm as notebook_tqdm\n",
      "2025-06-13 21:28:16,613 - INFO - flashinfer.jit: Prebuilt kernels not found, using JIT backend\n"
     ]
    },
    {
     "name": "stdout",
     "output_type": "stream",
     "text": [
      "[TensorRT-LLM] TensorRT-LLM version: 0.18.0\n"
     ]
    }
   ],
   "source": [
    "from __future__ import annotations\n",
    "\n",
    "# ─────── Standard Library ───────\n",
    "import base64\n",
    "import json\n",
    "import logging\n",
    "import os\n",
    "import sys\n",
    "import shutil\n",
    "from pathlib import Path\n",
    "import yaml\n",
    "from typing import Any, Dict, List, Literal, Optional, TypedDict\n",
    "from collections import namedtuple\n",
    "import warnings\n",
    "import torch\n",
    "\n",
    "# ─────── LangChain & Vector Store ───────\n",
    "from langchain.docstore.document import Document\n",
    "from langchain.embeddings import HuggingFaceEmbeddings\n",
    "from langchain_community.document_loaders import (\n",
    "    UnstructuredMarkdownLoader,\n",
    "    TextLoader,\n",
    ")\n",
    "from langchain_community.vectorstores import Chroma\n",
    "from langchain_text_splitters import RecursiveCharacterTextSplitter\n",
    "\n",
    "# ─────── Agent Framework & Messaging ───────\n",
    "from langgraph.graph import StateGraph, START, END\n",
    "from langchain_core.messages import HumanMessage\n",
    "\n",
    "# ─────── TRT-LLM ───────\n",
    "import tensorrt_llm\n",
    "parent_dir = os.path.dirname(os.path.abspath('.'))\n",
    "sys.path.append(parent_dir)\n",
    "from src.trt_llm_langchain import TensorRTLangchain\n",
    "\n",
    "# ─────── Observability & Display ───────\n",
    "from IPython.display import display, HTML\n",
    "\n",
    "# ─────── MLflow integration ───────\n",
    "import mlflow\n",
    "\n",
    "# === Internal modules ===\n",
    "\n",
    "# Add 'src' directory to system path (2 levels up)\n",
    "src_path = os.path.abspath(os.path.join(os.getcwd(), \"..\"))\n",
    "if src_path not in sys.path:\n",
    "    sys.path.append(src_path)"
   ]
  },
  {
   "cell_type": "markdown",
   "id": "14909251-86d2-4eff-b15e-4a8c4cbddc61",
   "metadata": {},
   "source": [
    "# Configurations"
   ]
  },
  {
   "cell_type": "code",
   "execution_count": 3,
   "id": "27be6c46",
   "metadata": {},
   "outputs": [],
   "source": [
    "# Suppress Python warnings\n",
    "warnings.filterwarnings(\"ignore\")"
   ]
  },
  {
   "cell_type": "code",
   "execution_count": 4,
   "id": "5b49f4d0-7662-43ce-ae95-59c13af024bc",
   "metadata": {},
   "outputs": [],
   "source": [
    "TOPIC: str = \"AI Studio\"\n",
    "CONTEXT_DIR: Path = Path(\"../data/context\")             \n",
    "CHROMA_DIR: Path = Path(\"../data/chroma_store\")     \n",
    "MEMORY_PATH: Path = Path(\"../data/memory/memory.json\")     \n",
    "MANIFEST_PATH: Path = CHROMA_DIR / \"manifest.json\"\n",
    "MODEL_PATH = 'nvidia/Llama-3.1-Nemotron-Nano-8B-v1'\n",
    "MLFLOW_EXPERIMENT_NAME = \"AIStudio-Agentic-Experiment\"\n",
    "MLFLOW_RUN_NAME = \"AIStudio-Agentic-Run\"\n",
    "MLFLOW_MODEL_NAME = \"AIStudio-Agentic-Model\""
   ]
  },
  {
   "cell_type": "code",
   "execution_count": 5,
   "id": "072a781b-9d7c-4b5b-bf58-bc0a11ae5d7f",
   "metadata": {},
   "outputs": [],
   "source": [
    "logger = logging.getLogger(\"Agentic_rag_logger\")\n",
    "logger.setLevel(logging.INFO)\n",
    "\n",
    "formatter = logging.Formatter(\"%(asctime)s - %(levelname)s - %(message)s\", datefmt=\"%Y-%m-%d %H:%M:%S\")\n",
    "stream_handler = logging.StreamHandler()\n",
    "stream_handler.setFormatter(formatter)\n",
    "logger.addHandler(stream_handler)\n",
    "logger.propagate = False"
   ]
  },
  {
   "cell_type": "code",
   "execution_count": 6,
   "id": "d1fe7c53",
   "metadata": {},
   "outputs": [
    {
     "name": "stdout",
     "output_type": "stream",
     "text": [
      "Using device: cuda\n"
     ]
    }
   ],
   "source": [
    "device = torch.device(\"cuda\" if torch.cuda.is_available() else \"cpu\")\n",
    "print(f\"Using device: {device}\")"
   ]
  },
  {
   "cell_type": "code",
   "execution_count": 7,
   "id": "92c8dc01-e50f-4077-9056-b966895ad8ab",
   "metadata": {},
   "outputs": [
    {
     "name": "stderr",
     "output_type": "stream",
     "text": [
      "2025-06-13 21:28:18 - INFO - Notebook execution started.\n"
     ]
    }
   ],
   "source": [
    "logger.info('Notebook execution started.')"
   ]
  },
  {
   "cell_type": "markdown",
   "id": "a8dad079",
   "metadata": {},
   "source": [
    "## Verify Assets"
   ]
  },
  {
   "cell_type": "code",
   "execution_count": 8,
   "id": "98593ec3",
   "metadata": {},
   "outputs": [
    {
     "name": "stderr",
     "output_type": "stream",
     "text": [
      "2025-06-13 21:28:18 - INFO - CONTEXT is properly configured. \n",
      "2025-06-13 21:28:18 - INFO - CHROMA is properly configured. \n",
      "2025-06-13 21:28:18 - INFO - MEMORY is properly configured. \n",
      "2025-06-13 21:28:18 - INFO - MANIFEST is properly configured. \n"
     ]
    }
   ],
   "source": [
    "def log_asset_status(asset_path: str, asset_name: str, success_message: str, failure_message: str) -> None:\n",
    "    \"\"\"\n",
    "    Logs the status of a given asset based on its existence.\n",
    "\n",
    "    Parameters:\n",
    "        asset_path (str): File or directory path to check.\n",
    "        asset_name (str): Name of the asset for logging context.\n",
    "        success_message (str): Message to log if asset exists.\n",
    "        failure_message (str): Message to log if asset does not exist.\n",
    "    \"\"\"\n",
    "    if Path(asset_path).exists():\n",
    "        logger.info(f\"{asset_name} is properly configured. {success_message}\")\n",
    "    else:\n",
    "        logger.info(f\"{asset_name} is not properly configured. {failure_message}\")\n",
    "\n",
    "\n",
    "log_asset_status(\n",
    "    asset_path=CONTEXT_DIR,\n",
    "    asset_name=\"CONTEXT\",\n",
    "    success_message=\"\",\n",
    "    failure_message=\"Please check if CONTEXT path was downloaded correctly in your project on AI Studio.\"\n",
    ")\n",
    "\n",
    "log_asset_status(\n",
    "    asset_path=CHROMA_DIR,\n",
    "    asset_name=\"CHROMA\",\n",
    "    success_message=\"\",\n",
    "    failure_message=\"Please check if CHROMA path was downloaded correctly in your project on AI Studio.\"\n",
    ")\n",
    "\n",
    "log_asset_status(\n",
    "    asset_path=MEMORY_PATH,\n",
    "    asset_name=\"MEMORY\",\n",
    "    success_message=\"\",\n",
    "    failure_message=\"Please check if the MEMORY path was propely connfigured in your project on AI Studio.\"\n",
    ")\n",
    "\n",
    "log_asset_status(\n",
    "    asset_path=MANIFEST_PATH,\n",
    "    asset_name=\"MANIFEST\",\n",
    "    success_message=\"\",\n",
    "    failure_message=\"Please check if the MANIFEST path was propely connfigured in your project on AI Studio.\"\n",
    ")"
   ]
  },
  {
   "cell_type": "markdown",
   "id": "ed7129f5-36b1-4bd1-b6a5-60cbe7a42987",
   "metadata": {},
   "source": [
    "# Memory Store"
   ]
  },
  {
   "cell_type": "code",
   "execution_count": 9,
   "id": "3f6d1bb2-2523-482c-9ecf-3be4d3b617b4",
   "metadata": {},
   "outputs": [],
   "source": [
    "class SimpleKVMemory:\n",
    "    \"\"\"Very small persistent key-value store (JSON on disk).\"\"\"\n",
    "\n",
    "    def __init__(self, file_path: Path) -> None:\n",
    "        self.file_path: Path = file_path\n",
    "        self._store: Dict[str, str] = self._load()\n",
    "\n",
    "    # ---------- public ----------------------------------------------------\n",
    "    def get(self, key: str) -> Optional[str]:\n",
    "        \"\"\"Return answer if present, else None.\"\"\"\n",
    "        return self._store.get(key)\n",
    "\n",
    "    def set(self, key: str, value: str) -> None:\n",
    "        \"\"\"Save answer and flush to disk.\"\"\"\n",
    "        self._store[key] = value\n",
    "        self._dump()\n",
    "\n",
    "    # ---------- private ---------------------------------------------------\n",
    "    def _load(self) -> Dict[str, str]:\n",
    "        if self.file_path.exists():\n",
    "            try:\n",
    "                with self.file_path.open(\"r\", encoding=\"utf-8\") as f:\n",
    "                    return json.load(f)\n",
    "            except Exception as exc:  \n",
    "                logger.warning(\"Failed to load memory (%s). Starting fresh.\", exc)\n",
    "        return {}\n",
    "\n",
    "    def _dump(self) -> None:\n",
    "        self.file_path.parent.mkdir(parents=True, exist_ok=True)\n",
    "        with self.file_path.open(\"w\", encoding=\"utf-8\") as f:\n",
    "            json.dump(self._store, f, ensure_ascii=False, indent=2)\n",
    "\n",
    "\n",
    "memory: SimpleKVMemory = SimpleKVMemory(MEMORY_PATH)"
   ]
  },
  {
   "cell_type": "markdown",
   "id": "a9b720a2-f149-4884-9a80-9deaf3e93adb",
   "metadata": {},
   "source": [
    "# Retriever"
   ]
  },
  {
   "cell_type": "code",
   "execution_count": 10,
   "id": "02559242-2e99-4cf8-9b27-43efa42f22ad",
   "metadata": {},
   "outputs": [],
   "source": [
    "try:\n",
    "    # Initialize the embedding model\n",
    "    embed_model = HuggingFaceEmbeddings(\n",
    "        model_name=\"sentence-transformers/all-mpnet-base-v2\",\n",
    "        encode_kwargs={\"normalize_embeddings\": True},\n",
    "    )\n",
    "except:\n",
    "    logger.info('First embedding model error was ignored.')\n",
    "    # Initialize the embedding model again\n",
    "    embed_model = HuggingFaceEmbeddings(\n",
    "        model_name=\"sentence-transformers/all-mpnet-base-v2\",\n",
    "        encode_kwargs={\"normalize_embeddings\": True},\n",
    "    )"
   ]
  },
  {
   "cell_type": "code",
   "execution_count": 11,
   "id": "93ef5358-547a-414e-96a4-95f1535ef403",
   "metadata": {},
   "outputs": [],
   "source": [
    "# Loader: try UnstructuredMarkdown, fallback to plain Text\n",
    "def _load_markdown(path: Path) -> List[Document]:\n",
    "    try:\n",
    "        return UnstructuredMarkdownLoader(str(path)).load()\n",
    "    except Exception:\n",
    "        return TextLoader(str(path), encoding=\"utf-8\").load()\n",
    "\n",
    "# Compute a sorted list of all Markdown file paths (as strings)\n",
    "def _current_manifest() -> List[str]:\n",
    "    return sorted(str(p.resolve()) for p in CONTEXT_DIR.rglob(\"*.md\"))\n",
    "\n",
    "# Check whether we need to rebuild: manifest file missing or contents differ\n",
    "def _needs_rebuild() -> bool:\n",
    "    if not CHROMA_DIR.exists() or not MANIFEST_PATH.exists():\n",
    "        return True\n",
    "    try:\n",
    "        old = json.loads(MANIFEST_PATH.read_text(encoding=\"utf-8\"))\n",
    "    except Exception:\n",
    "        return True\n",
    "    return old != _current_manifest()\n",
    "\n",
    "# Save the current manifest so future runs can compare\n",
    "def _save_manifest(manifest: List[str]) -> None:\n",
    "    CHROMA_DIR.mkdir(parents=True, exist_ok=True)\n",
    "    MANIFEST_PATH.write_text(json.dumps(manifest, indent=2), encoding=\"utf-8\")\n",
    "\n",
    "# Build or load the Chroma vectorstore\n",
    "def _build_vectorstore() -> Chroma:\n",
    "    collection = \"-\".join(TOPIC.split())\n",
    "\n",
    "    # If the manifest has changed, wipe & rebuild\n",
    "    if _needs_rebuild():\n",
    "        if CHROMA_DIR.exists():\n",
    "            shutil.rmtree(CHROMA_DIR)\n",
    "        logger.info(\"Building new Chroma index from Markdown files…\")\n",
    "\n",
    "        splitter = RecursiveCharacterTextSplitter(\n",
    "            chunk_size=1024, chunk_overlap=128, add_start_index=True\n",
    "        )\n",
    "        docs: List[Document] = []\n",
    "\n",
    "        for md_file in CONTEXT_DIR.rglob(\"*.md\"):\n",
    "            for page in _load_markdown(md_file):\n",
    "                for chunk in splitter.split_documents([page]):\n",
    "                    chunk.metadata.setdefault(\"source\", md_file.name)\n",
    "                    docs.append(chunk)\n",
    "\n",
    "        chroma = Chroma.from_documents(\n",
    "            docs,\n",
    "            embedding=embed_model,\n",
    "            collection_name=collection,\n",
    "            persist_directory=str(CHROMA_DIR),\n",
    "        )\n",
    "        _save_manifest(_current_manifest())\n",
    "        logger.info(\"Chroma index rebuilt with %d chunks.\", len(docs))\n",
    "        return chroma\n",
    "\n",
    "    # Otherwise, load the existing, up-to-date index\n",
    "    logger.info(\"Loading existing Chroma index from %s\", CHROMA_DIR)\n",
    "    return Chroma(\n",
    "        collection_name=collection,\n",
    "        persist_directory=str(CHROMA_DIR),\n",
    "        embedding_function=embed_model,\n",
    "    )\n",
    "\n",
    "def retrieve(query: str, top_k: int = 5) -> List[str]:\n",
    "    \"\"\"Return the top-k most relevant Markdown chunks.\"\"\"\n",
    "    return [doc.page_content for doc in vectorstore.similarity_search(query, k=top_k)]"
   ]
  },
  {
   "cell_type": "code",
   "execution_count": 12,
   "id": "e2bfe088-9975-402f-95e3-a7accf385574",
   "metadata": {},
   "outputs": [
    {
     "name": "stderr",
     "output_type": "stream",
     "text": [
      "2025-06-13 21:28:23 - INFO - Building new Chroma index from Markdown files…\n",
      "2025-06-13 21:28:43 - INFO - Chroma index rebuilt with 238 chunks.\n"
     ]
    },
    {
     "name": "stdout",
     "output_type": "stream",
     "text": [
      "CPU times: user 6.31 s, sys: 988 ms, total: 7.3 s\n",
      "Wall time: 21.7 s\n"
     ]
    }
   ],
   "source": [
    "%%time\n",
    "\n",
    "# Initialize once at import/run\n",
    "vectorstore: Chroma = _build_vectorstore()"
   ]
  },
  {
   "cell_type": "markdown",
   "id": "588eaa69-07ea-41f8-9fb6-6e6a9a55a101",
   "metadata": {},
   "source": [
    "# State Model"
   ]
  },
  {
   "cell_type": "code",
   "execution_count": 13,
   "id": "f4d57c81-4540-46bf-ac95-2c569cc011d5",
   "metadata": {},
   "outputs": [],
   "source": [
    "class RAGState(TypedDict, total=False):\n",
    "    topic: str\n",
    "    query: str\n",
    "    is_relevant: Optional[bool]\n",
    "    rewritten_query: Optional[str]\n",
    "    retrieved_chunks: List[str]\n",
    "    answer: Optional[str]\n",
    "    from_memory: Optional[bool]\n",
    "    messages: List[Dict[str, Any]]  # full conversation with LLM"
   ]
  },
  {
   "cell_type": "markdown",
   "id": "2f0bfa26-1ee9-4a63-af86-0e72695c51d4",
   "metadata": {},
   "source": [
    "# LLM Setup"
   ]
  },
  {
   "cell_type": "code",
   "execution_count": 14,
   "id": "c0c3cb58-8dae-48a0-8572-151b4f5d3e21",
   "metadata": {},
   "outputs": [],
   "source": [
    "sampling_params = tensorrt_llm.SamplingParams(\n",
    "    temperature=0.0,        # Greedy decoding – no randomness\n",
    "    top_k=1,                # Only the highest probability token is considered\n",
    "    repetition_penalty=1.2, # Discourage redundant rambling\n",
    "    stop_token_ids=[128009], # EOS token (from tokenizer config)\n",
    "    max_tokens=4096,\n",
    ")"
   ]
  },
  {
   "cell_type": "code",
   "execution_count": 15,
   "id": "ed8e2ec1-ebd4-4b85-82a5-9954ba479ff6",
   "metadata": {},
   "outputs": [
    {
     "name": "stderr",
     "output_type": "stream",
     "text": [
      "Loading Model: \u001b[1;32m[1/3]\t\u001b[0mDownloading HF model\n",
      "\u001b[38;20mDownloaded model to /root/.cache/huggingface/hub/models--nvidia--Llama-3.1-Nemotron-Nano-8B-v1/snapshots/a22e1c57330633cd3522903f9bb82480bf3192a6\n",
      "\u001b[0m\u001b[38;20mTime: 0.555s\n",
      "\u001b[0mLoading Model: \u001b[1;32m[2/3]\t\u001b[0mLoading HF model to memory\n",
      "230it [00:00, 445.28it/s]\n",
      "\u001b[38;20mTime: 1.140s\n",
      "\u001b[0mLoading Model: \u001b[1;32m[3/3]\t\u001b[0mBuilding TRT-LLM engine\n",
      "\u001b[38;20mTime: 934.242s\n",
      "\u001b[0m\u001b[1;32mLoading model done.\n",
      "\u001b[0m\u001b[38;20mTotal latency: 935.938s\n",
      "\u001b[0m2025-06-13 21:44:49,819 - INFO - flashinfer.jit: Prebuilt kernels not found, using JIT backend\n"
     ]
    },
    {
     "name": "stdout",
     "output_type": "stream",
     "text": [
      "[TensorRT-LLM] TensorRT-LLM version: 0.18.0\n",
      "[TensorRT-LLM][INFO] Engine version 0.18.0 found in the config file, assuming engine(s) built by new builder API.\n",
      "[TensorRT-LLM][INFO] Refreshed the MPI local session\n",
      "[TensorRT-LLM][INFO] MPI size: 1, MPI local size: 1, rank: 0\n",
      "[TensorRT-LLM][INFO] Rank 0 is using GPU 0\n",
      "[TensorRT-LLM][WARNING] Fix optionalParams : KV cache reuse disabled because model was not built with paged context FMHA support\n",
      "[TensorRT-LLM][INFO] TRTGptModel maxNumSequences: 2048\n",
      "[TensorRT-LLM][INFO] TRTGptModel maxBatchSize: 2048\n",
      "[TensorRT-LLM][INFO] TRTGptModel maxBeamWidth: 1\n",
      "[TensorRT-LLM][INFO] TRTGptModel maxSequenceLen: 131072\n",
      "[TensorRT-LLM][INFO] TRTGptModel maxDraftLen: 0\n",
      "[TensorRT-LLM][INFO] TRTGptModel mMaxAttentionWindowSize: (131072) * 32\n",
      "[TensorRT-LLM][INFO] TRTGptModel enableTrtOverlap: 0\n",
      "[TensorRT-LLM][INFO] TRTGptModel normalizeLogProbs: 0\n",
      "[TensorRT-LLM][INFO] TRTGptModel maxNumTokens: 8192\n",
      "[TensorRT-LLM][INFO] TRTGptModel maxInputLen: 8192 = min(maxSequenceLen - 1, maxNumTokens) since context FMHA and usePackedInput are enabled\n",
      "[TensorRT-LLM][INFO] TRTGptModel If model type is encoder, maxInputLen would be reset in trtEncoderModel to maxInputLen: min(maxSequenceLen, maxNumTokens).\n",
      "[TensorRT-LLM][INFO] Capacity Scheduler Policy: GUARANTEED_NO_EVICT\n",
      "[TensorRT-LLM][INFO] Context Chunking Scheduler Policy: None\n",
      "[TensorRT-LLM][INFO] Loaded engine size: 15415 MiB\n",
      "[TensorRT-LLM][INFO] Inspecting the engine to identify potential runtime issues...\n",
      "[TensorRT-LLM][INFO] The profiling verbosity of the engine does not allow this analysis to proceed. Re-build the engine with 'detailed' profiling verbosity to get more diagnostics.\n",
      "[TensorRT-LLM][INFO] [MemUsageChange] Allocated 1152.01 MiB for execution context memory.\n",
      "[TensorRT-LLM][INFO] [MemUsageChange] TensorRT-managed allocation in IExecutionContext creation: CPU +0, GPU +0, now: CPU 0, GPU 15380 (MiB)\n",
      "[TensorRT-LLM][INFO] [MemUsageChange] Allocated 6.98 GB GPU memory for runtime buffers.\n",
      "[TensorRT-LLM][INFO] [MemUsageChange] Allocated 8.04 GB GPU memory for decoder.\n",
      "[TensorRT-LLM][INFO] Memory usage when calculating max tokens in paged kv cache: total: 47.99 GiB, available: 14.83 GiB\n",
      "[TensorRT-LLM][INFO] Number of blocks in KV cache primary pool: 1709\n",
      "[TensorRT-LLM][INFO] Number of blocks in KV cache secondary pool: 0, onboard blocks to primary memory before reuse: true\n",
      "[TensorRT-LLM][WARNING] maxAttentionWindow and maxSequenceLen are too large for at least one sequence to fit in kvCache. they are reduced to 109376\n",
      "[TensorRT-LLM][INFO] Number of tokens per block: 64.\n",
      "[TensorRT-LLM][INFO] [MemUsageChange] Allocated 13.35 GiB for max tokens in paged KV cache (109376).\n",
      "CPU times: user 1min 33s, sys: 14min 49s, total: 16min 22s\n",
      "Wall time: 16min 35s\n"
     ]
    }
   ],
   "source": [
    "%%time\n",
    "\n",
    "llm = TensorRTLangchain(\n",
    "    model_path=MODEL_PATH, \n",
    "    sampling_params=sampling_params,\n",
    "    build_engine=True,              # force-build now\n",
    "    engine_save_path=\".\"  # path where the .trt file goes\n",
    ")"
   ]
  },
  {
   "cell_type": "code",
   "execution_count": 16,
   "id": "d1b49c0f-20ea-4331-9d2e-35cf25852686",
   "metadata": {},
   "outputs": [],
   "source": [
    "Response = namedtuple(\"Response\", [\"content\"])\n",
    "\n",
    "def get_response_from_llm(llm, system_prompt, user_prompt):\n",
    "    meta_llama_prompt = f'''\n",
    "    <|begin_of_text|><|start_header_id|>system<|end_header_id|>\n",
    "    \n",
    "    {system_prompt}<|eot_id|><|start_header_id|>user<|end_header_id|>\n",
    "    \n",
    "    {user_prompt}<|eot_id|><|start_header_id|>assistant<|end_header_id|>\n",
    "    '''\n",
    "    return Response(content=llm(meta_llama_prompt))"
   ]
  },
  {
   "cell_type": "markdown",
   "id": "0e299c50-b78b-4f80-ab24-fb3d4e29f1d1",
   "metadata": {},
   "source": [
    "# Node Functions"
   ]
  },
  {
   "cell_type": "code",
   "execution_count": 17,
   "id": "6f817e4b-e6f9-4916-b210-211c124ddcff",
   "metadata": {},
   "outputs": [],
   "source": [
    "def ingest_query(state: RAGState) -> Dict[str, Any]:\n",
    "    \"\"\"\n",
    "    Log the incoming user query and record it in the message history.\n",
    "    \"\"\"\n",
    "    user_query = state[\"query\"]\n",
    "    logger.info(\"Received user query: %s\", user_query)\n",
    "    previous_messages = state.get(\"messages\", [])\n",
    "    new_messages = previous_messages + [{\"role\": \"user\", \"content\": user_query}]\n",
    "    return {\"messages\": new_messages}\n",
    "\n",
    "\n",
    "def check_relevance(state: RAGState) -> Dict[str, Any]:\n",
    "    \"\"\"\n",
    "    Ask the LLM whether the query relates to our topic.\n",
    "    If not relevant, include a default apology answer.\n",
    "    \"\"\"\n",
    "    topic = state[\"topic\"]\n",
    "    user_query = state[\"query\"]\n",
    "    \n",
    "    system_prompt = (\n",
    "        \"You are a strict classifier. Only respond with either \\\"yes\\\" or \\\"no\\\". \"\n",
    "        \"Do not include any additional words, explanations, or punctuation. \"\n",
    "        \"Answer based solely on whether the user's query is about the specified topic.\"\n",
    "    )\n",
    "    \n",
    "    user_prompt = (\n",
    "        f\"The topic is: \\\"{topic}\\\"\\n\\n\"\n",
    "        f\"User query: \\\"{user_query}\\\"\\n\\n\"\n",
    "        \"Is this query related to the topic above? Respond with only 'yes' or 'no'.\"\n",
    "        \"Answer: \"\n",
    "    )\n",
    "    \n",
    "    response = get_response_from_llm(llm, system_prompt, user_prompt)\n",
    "\n",
    "    is_relevant = \"yes\" in response.content.strip().lower()\n",
    "    logger.info(\"Relevance check result: %s\", is_relevant)\n",
    "\n",
    "    messages = state.get(\"messages\", []) + [\n",
    "        {\"role\": \"developer\", \"content\": 'Relevance check result:'},\n",
    "        {\"role\": \"assistant\", \"content\": response.content}\n",
    "    ]\n",
    "    result: Dict[str, Any] = {\"is_relevant\": is_relevant, \"messages\": messages}\n",
    "\n",
    "    if not is_relevant:\n",
    "        result[\"answer\"] = (\n",
    "            f\"Sorry, I can only answer questions related to {topic}.\"\n",
    "        )\n",
    "    return result\n",
    "\n",
    "\n",
    "def check_memory(state: RAGState) -> Dict[str, Any]:\n",
    "    \"\"\"\n",
    "    Look up the exact user query in memory and return the cached answer if found.\n",
    "    \"\"\"\n",
    "    raw_query = state[\"query\"]\n",
    "    key = raw_query.strip().lower()\n",
    "    cached_answer = memory.get(key)\n",
    "    if cached_answer is not None:\n",
    "        logger.info(\"Cache hit for query: %s\", raw_query)\n",
    "        return {\"answer\": cached_answer, \"from_memory\": True}\n",
    "    logger.info(\"Cache miss for query: %s\", raw_query)\n",
    "    return {\"from_memory\": False}\n",
    "\n",
    "\n",
    "def rewrite_query(state: RAGState) -> Dict[str, Any]:\n",
    "    \"\"\"\n",
    "    Correct any grammar in the question and rewrite it as a clear statement\n",
    "    without altering its meaning, to improve retrieval.\n",
    "    \"\"\"\n",
    "    original = state[\"query\"]\n",
    "    \n",
    "    system_prompt = (\n",
    "        \"You are a rewriting assistant. Your only task is to convert a question into a \"\n",
    "        \"grammatically correct statement. Do not change its meaning. \"\n",
    "        \"Output only the corrected statement—no explanations or extra text.\"\n",
    "    )\n",
    "    \n",
    "    user_prompt = (\n",
    "        \"Convert the following question into a grammatically correct statement \"\n",
    "        \"that preserves the original meaning exactly:\\n\\n\"\n",
    "        \"Note: Output only the corrected statement—no explanations or extra text.\"\n",
    "        f\"Question: \\\"{original}\\\"\\n\\n\"\n",
    "        \"Corrected Statement:\"\n",
    "    )\n",
    "        \n",
    "    response = get_response_from_llm(llm, system_prompt, user_prompt)\n",
    "\n",
    "    rewritten = response.content.strip()\n",
    "    logger.info(\"Rewritten query: %s\", rewritten)\n",
    "\n",
    "    messages = state.get(\"messages\", []) + [\n",
    "        {\"role\": \"developer\", \"content\": 'Rewritten query: '},\n",
    "        {\"role\": \"assistant\", \"content\": rewritten}\n",
    "    ]\n",
    "    return {\"rewritten_query\": rewritten, \"messages\": messages}\n",
    "\n",
    "\n",
    "def retrieve_chunks(state: RAGState) -> Dict[str, Any]:\n",
    "    \"\"\"\n",
    "    Fetch the top-k most relevant chunks for the rewritten query.\n",
    "    \"\"\"\n",
    "    statement = state[\"rewritten_query\"]\n",
    "    chunks = retrieve(statement)\n",
    "    logger.info(\"Retrieved %d chunks for query.\", len(chunks))\n",
    "    return {\"retrieved_chunks\": chunks}\n",
    "\n",
    "\n",
    "def generate_answer(state: RAGState) -> Dict[str, Any]:\n",
    "    \"\"\"\n",
    "    Use the LLM to generate an answer based solely on retrieved context.\n",
    "    \"\"\"\n",
    "    topic = state[\"topic\"]\n",
    "    user_query = state[\"query\"]\n",
    "    context = \"\\n\\n---\\n\\n\".join(state[\"retrieved_chunks\"])\n",
    "    \n",
    "    system_prompt = (\n",
    "        f\"You are a knowledgeable assistant specialized in {topic}. Your task is to answer \"\n",
    "        \"the user query using only the information found within the <context> block. \"\n",
    "        \"Ignore any external knowledge. If the context does not contain the answer, reply exactly with: \\\"I don't know.\\\" \"\n",
    "        \"Do not assume, infer, or add any extra information. \"\n",
    "        \"Respond with only the answer—do not include any introductory or explanatory text.\"\n",
    "    )\n",
    "    \n",
    "    user_prompt = (\n",
    "        f\"<context>\\n{context}\\n</context>\\n\\n\"\n",
    "        f\"User query: \\\"{user_query}\\\"\\n\\n\"\n",
    "        \"Based only on the context above, provide the exact answer to the query. \"\n",
    "        \"If the context does not contain the answer, respond exactly with: \\\"I don't know.\\\" \"\n",
    "        \"Give only the answer—do not include any intro phrases such as 'The answer is' or 'Here it is'.\"\n",
    "        \"Use all relevant contextual information to provide a thorough, comprehensive answer to the user’s question.\"\n",
    "        \"Answer: \"\n",
    "    )\n",
    "\n",
    "\n",
    "    response = get_response_from_llm(llm, system_prompt, user_prompt)\n",
    "\n",
    "    answer = response.content.strip()\n",
    "    logger.info(\"Generated answer (%d chars)\", len(answer))\n",
    "\n",
    "    messages = state.get(\"messages\", []) + [\n",
    "        {\"role\": \"developer\", \"content\": 'Generated answer: '},\n",
    "        {\"role\": \"assistant\", \"content\": answer}\n",
    "    ]\n",
    "    return {\"answer\": answer, \"messages\": messages}\n",
    "\n",
    "\n",
    "def update_memory(state: RAGState) -> Dict[str, Any]:\n",
    "    \"\"\"\n",
    "    Store new query-answer pairs in memory for faster future lookup.\n",
    "    \"\"\"\n",
    "    if state.get(\"from_memory\"):\n",
    "        return {}\n",
    "    raw_query = state[\"query\"]\n",
    "    key = raw_query.strip().lower()\n",
    "    memory.set(key, state[\"answer\"])\n",
    "    logger.info(\"Stored query-answer in memory for key: %s\", key)\n",
    "    return {}\n",
    "\n",
    "\n",
    "def output_answer(state: RAGState) -> Dict[str, Any]:\n",
    "    \"\"\"\n",
    "    Present the final answer to the user (e.g., print or API response).\n",
    "    \"\"\"\n",
    "    print(\"\\n=== Answer ===\\n\", state[\"answer\"], \"\\n==============\\n\")\n",
    "    return {}"
   ]
  },
  {
   "cell_type": "markdown",
   "id": "fb4b0622-ae83-4838-9160-6d087ce35d03",
   "metadata": {},
   "source": [
    "# Graph Definition"
   ]
  },
  {
   "cell_type": "code",
   "execution_count": 18,
   "id": "475e5a8c-b34c-41a7-8b2d-9073841a49cf",
   "metadata": {},
   "outputs": [],
   "source": [
    "def route_relevance(state: RAGState) -> Literal[\"irrelevant\", \"relevant\"]:\n",
    "    return \"relevant\" if state[\"is_relevant\"] else \"irrelevant\"\n",
    "\n",
    "\n",
    "def route_memory(state: RAGState) -> Literal[\"cached\", \"not_cached\"]:\n",
    "    return \"cached\" if state.get(\"from_memory\") else \"not_cached\"\n",
    "\n",
    "\n",
    "rag_graph = StateGraph(RAGState)\n",
    "\n",
    "# Nodes\n",
    "rag_graph.add_node(\"ingest_query\", ingest_query)\n",
    "rag_graph.add_node(\"check_relevance\", check_relevance)\n",
    "rag_graph.add_node(\"rewrite_query\", rewrite_query)\n",
    "rag_graph.add_node(\"check_memory\", check_memory)\n",
    "rag_graph.add_node(\"retrieve_chunks\", retrieve_chunks)\n",
    "rag_graph.add_node(\"generate_answer\", generate_answer)\n",
    "rag_graph.add_node(\"update_memory\", update_memory)\n",
    "rag_graph.add_node(\"output_answer\", output_answer)\n",
    "\n",
    "# Edges\n",
    "rag_graph.add_edge(START, \"ingest_query\")\n",
    "rag_graph.add_edge(\"ingest_query\", \"check_relevance\")\n",
    "\n",
    "rag_graph.add_conditional_edges(\n",
    "    \"check_relevance\",\n",
    "    route_relevance,\n",
    "    {\n",
    "        \"irrelevant\": \"output_answer\",      \n",
    "        \"relevant\": \"check_memory\",\n",
    "    },\n",
    ")\n",
    "\n",
    "rag_graph.add_conditional_edges(\n",
    "    \"check_memory\",\n",
    "    route_memory,\n",
    "    {\n",
    "        \"cached\": \"output_answer\",\n",
    "        \"not_cached\": \"rewrite_query\",\n",
    "    },\n",
    ")\n",
    "\n",
    "rag_graph.add_edge(\"rewrite_query\", \"retrieve_chunks\")\n",
    "rag_graph.add_edge(\"retrieve_chunks\", \"generate_answer\")\n",
    "rag_graph.add_edge(\"generate_answer\", \"update_memory\")\n",
    "rag_graph.add_edge(\"update_memory\", \"output_answer\")\n",
    "rag_graph.add_edge(\"output_answer\", END)\n",
    "\n",
    "compiled_graph = rag_graph.compile()"
   ]
  },
  {
   "cell_type": "markdown",
   "id": "8c99d3d4-7e34-4d1d-9240-0bf6d86e5e42",
   "metadata": {},
   "source": [
    "# Graph Visualization"
   ]
  },
  {
   "cell_type": "code",
   "execution_count": 19,
   "id": "751ce349-f764-4b94-aaf1-297c754cc84d",
   "metadata": {},
   "outputs": [],
   "source": [
    "def display_image(image_bytes: bytes, width=400):\n",
    "    decoded_img_bytes = base64.b64encode(image_bytes).decode('utf-8')\n",
    "    html = f'<img src=\"data:image/png;base64,{decoded_img_bytes}\" style=\"width: {width}px;\" />'\n",
    "    display(HTML(html))"
   ]
  },
  {
   "cell_type": "code",
   "execution_count": 20,
   "id": "e35c73df-c446-4e5d-a628-2927d7d86a7d",
   "metadata": {},
   "outputs": [
    {
     "data": {
      "text/html": [
       "<img src=\"data:image/png;base64,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\" style=\"width: 400px;\" />"
      ],
      "text/plain": [
       "<IPython.core.display.HTML object>"
      ]
     },
     "metadata": {},
     "output_type": "display_data"
    }
   ],
   "source": [
    "png = compiled_graph.get_graph().draw_mermaid_png()\n",
    "display_image(png)"
   ]
  },
  {
   "cell_type": "markdown",
   "id": "fc4d05ba-ed68-46a5-971a-491ffb93c17a",
   "metadata": {},
   "source": [
    "# Generated Answer"
   ]
  },
  {
   "cell_type": "code",
   "execution_count": 21,
   "id": "06a6da3d-6f53-46b7-9bbb-09b30636ae07",
   "metadata": {},
   "outputs": [
    {
     "name": "stderr",
     "output_type": "stream",
     "text": [
      "2025-06-13 21:45:21 - INFO - Received user query: How to create a project in ai studio\n",
      "Processed requests: 100%|██████████| 1/1 [00:31<00:00, 31.04s/it]\n",
      "2025-06-13 21:45:52 - INFO - Relevance check result: True\n",
      "2025-06-13 21:45:52 - INFO - Cache miss for query: How to create a project in ai studio\n",
      "Processed requests: 100%|██████████| 1/1 [00:00<00:00,  2.22it/s]\n",
      "2025-06-13 21:45:53 - INFO - Rewritten query: To create a project in AI Studio, follow these steps.\n",
      "2025-06-13 21:45:53 - INFO - Retrieved 5 chunks for query.\n",
      "Processed requests: 100%|██████████| 1/1 [00:02<00:00,  2.39s/it]\n",
      "2025-06-13 21:45:55 - INFO - Generated answer (413 chars)\n",
      "2025-06-13 21:45:55 - INFO - Stored query-answer in memory for key: how to create a project in ai studio\n"
     ]
    },
    {
     "name": "stdout",
     "output_type": "stream",
     "text": [
      "\n",
      "=== Answer ===\n",
      " Select New Project From the Projects Home Page; enter a name and optional description, followed by choosing a privacy setting. Then pick an associated Git repo and specify a local folder to store your project's code. Click Continue once done. Add relevant tags to facilitate collaboration among team members. Click Create Workspace to save your new workspace. Choose a workspace template and click Create Project. \n",
      "==============\n",
      "\n",
      "CPU times: user 729 ms, sys: 460 ms, total: 1.19 s\n",
      "Wall time: 34.3 s\n"
     ]
    }
   ],
   "source": [
    "%%time\n",
    "\n",
    "final_graph = compiled_graph.invoke(\n",
    "        input={\n",
    "            \"topic\": TOPIC,\n",
    "            \"query\": 'How to create a project in ai studio',\n",
    "            \"messages\": [],\n",
    "        },\n",
    "    )\n",
    "\n",
    "            # \"query\": 'What is AI Studio?',\n",
    "            # \"query\": 'What are the technical requiemetns of ai studi',\n",
    "            # \"query\": 'How to create a project in ai studio',\n",
    "            # \"query\": 'How can i create a workspace in ai studio',\n",
    "            # \"query\": 'how can i use ai studio',"
   ]
  },
  {
   "cell_type": "markdown",
   "id": "13ab967a-48d4-45ba-ac65-a6fc2300a1e8",
   "metadata": {},
   "source": [
    "# Retrieved Context"
   ]
  },
  {
   "cell_type": "code",
   "execution_count": 22,
   "id": "3cb5e5f7-5822-417e-b8aa-af3627dc88d8",
   "metadata": {},
   "outputs": [
    {
     "data": {
      "text/plain": [
       "['Software:\\n\\nWindows 10 or 11 or Linux Ubuntu 22.04 LTS\\n\\nWindows OS requires Windows Subsystem for Linux (WSL). AIS installs WSL if not present.\\n\\nGit is required for github cloning, but not a requirement to use the app.\\n\\nInternet access is required for downloading container images and for web syncing of project metadata.\\n\\nCreating Your First AI Studio Project\\n\\nProjects are the main concept AI Studio is built around. They should be used to house all the information needed for someone to recreate a data science experiment, model training or data processing activity. To do this you will need to make a few changes to the way you may normally develop but the benefits are that when you are coming back to a project at a later date, handing off work or onboarding a new team member the setup time for that new person to continue from where you left off should be basically instant.\\n\\nCreate the Project',\n",
       " \"title: 'Navigating the Projects Page' sidebar_position: 1\\n\\nNavigating the Projects Page\\n\\nWhether you’re a returning AI Studio user or this is your first time, you can find and manage your projects on a single pane of glass, directly from the Projects Page.\\n\\nDive into an existing project directly from the home page by clicking on the project tile. You can narrow homepage results with filters and customize how to sort them to find your projects in a snap.\\n\\n:::tip Clicking the icon in the upper-right corner of a project tile triggers the project options dropdown box to appear. :::\\n\\nTo create a new project:\\n\\nFrom the Projects home page, select New Project.\\n\\nEnter a name and description for your project, then choose a privacy status for the project.\\n\\n(Optional) Enter the URL for the Git Repository you wish to connect to the project and select a local folder to download your repository to, then click Continue. :::tip Add tags to your project to make it easier for collaborators to find and organize them. :::\",\n",
       " 'Click Create Workspace to save your new workspace.\\n\\nClick on the play icon in your workspace tile to instantiate your environment.\\n\\n:::warning The blue progress bar indicates that the application is still building the container for your workspace. This process should take about 5 minutes, depending on your device’s capabilities. DO NOT navigate away from the window or select another workspace until the progress bar vanishes. :::\\n\\nAI Studio projects can support more than one workspace to accommodate projects that require an ensemble of models to complete your team’s work.',\n",
       " \"Technical Requirements\\n\\nHardware:\\n\\nWindows 10 or 11 or Linux Ubuntu 22.04 LTS on a workstation\\n\\nGPU is not required, but is strongly recommended. AI Studio currently supports NVIDIA GPUs with 528.89 drivers or newer.\\n\\nSoftware:\\n\\nWin OS requires Windows Subsystem for Linux (WSL). AIS installs WSL if not present.\\n\\nGit is required for github cloning, but not a requirement to use the app. Git Repository Path - https://github.com/HPInc/aistudio-samples.git\\n\\nInternet access for web synching of project metadata.\\n\\nActivate, Install, and Configure AI Studio\\n\\nActivate (Admins Only): Click the link from the email you received.\\n\\n:::note Do not follow automated onboarding steps after clicking the activation link if you are an EAP user. Instead use the EAP installers emailed separately. :::\\n\\nDownload & Install: Download the Windows or Linux installer provided to you and install AI Studio.\\n\\nSign in: Log in with your existing HPID or create one if you don't already have one.\",\n",
       " '(Optional) Use the assets catalog to select an asset to connect to from your list of configured assets or follow the steps for Connecting Data To a Project. :::note Assets are objects, so they can be models or datasets. You can also click Continue without adding asset information to connect data to your project later from the Assets tab. :::\\n\\nChoose a workspace template, then click Create Project to create your new project.\\n\\nTo use your project:\\n\\nFrom the Projects home page, choose the project you wish to use.\\n\\nManage and run the workspaces from the Overview tab.\\n\\nMonitor experiment runs in TensorBoard or MLflow from the Monitor tab.\\n\\nDeploy your models locally from the Deployments tab.\\n\\nImport models and datasets from AWS S3, Azure Blob Storage, or the GCP Object Store from the Assets tab.\\n\\nFiltering Projects\\n\\nWhen using AI Studio, managing numerous projects can be challenging. To streamline this process, you can mark important projects as urgent using the ellipses menu and then filter by urgency.']"
      ]
     },
     "execution_count": 22,
     "metadata": {},
     "output_type": "execute_result"
    }
   ],
   "source": [
    "final_graph.get('retrieved_chunks')"
   ]
  },
  {
   "cell_type": "markdown",
   "id": "16159a90-d40d-4d20-b9e6-57cb3bd14cf3",
   "metadata": {},
   "source": [
    "# Message History"
   ]
  },
  {
   "cell_type": "code",
   "execution_count": 23,
   "id": "370f4cac-c92f-4f8b-b2e5-10cd12e08a87",
   "metadata": {},
   "outputs": [
    {
     "data": {
      "text/plain": [
       "[{'role': 'user', 'content': 'How to create a project in ai studio'},\n",
       " {'role': 'developer', 'content': 'Relevance check result:'},\n",
       " {'role': 'assistant', 'content': ' yes'},\n",
       " {'role': 'developer', 'content': 'Rewritten query: '},\n",
       " {'role': 'assistant',\n",
       "  'content': 'To create a project in AI Studio, follow these steps.'},\n",
       " {'role': 'developer', 'content': 'Generated answer: '},\n",
       " {'role': 'assistant',\n",
       "  'content': \"Select New Project From the Projects Home Page; enter a name and optional description, followed by choosing a privacy setting. Then pick an associated Git repo and specify a local folder to store your project's code. Click Continue once done. Add relevant tags to facilitate collaboration among team members. Click Create Workspace to save your new workspace. Choose a workspace template and click Create Project.\"}]"
      ]
     },
     "execution_count": 23,
     "metadata": {},
     "output_type": "execute_result"
    }
   ],
   "source": [
    "final_graph.get('messages')"
   ]
  },
  {
   "cell_type": "code",
   "execution_count": 24,
   "id": "1723e941-2523-4db6-ab89-fedffbc0be0b",
   "metadata": {},
   "outputs": [
    {
     "name": "stderr",
     "output_type": "stream",
     "text": [
      "2025-06-13 21:45:55 - INFO - Notebook execution completed.\n"
     ]
    }
   ],
   "source": [
    "logger.info('Notebook execution completed.')"
   ]
  },
  {
   "cell_type": "markdown",
   "id": "d0c45acb",
   "metadata": {},
   "source": [
    "Built with ❤️ using Z by HP AI Studio."
   ]
  }
 ],
 "metadata": {
  "kernelspec": {
   "display_name": "Python 3 (ipykernel)",
   "language": "python",
   "name": "python3"
  },
  "language_info": {
   "codemirror_mode": {
    "name": "ipython",
    "version": 3
   },
   "file_extension": ".py",
   "mimetype": "text/x-python",
   "name": "python",
   "nbconvert_exporter": "python",
   "pygments_lexer": "ipython3",
   "version": "3.12.3"
  }
 },
 "nbformat": 4,
 "nbformat_minor": 5
}
