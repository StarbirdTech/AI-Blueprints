{
 "cells": [
  {
   "cell_type": "markdown",
   "id": "09c5c5fe",
   "metadata": {},
   "source": [
    "<h1 style=\\\"text-align: center; font-size: 50px;\\\"> Register Model </h1>"
   ]
  },
  {
   "cell_type": "markdown",
   "id": "f8f8921d",
   "metadata": {},
   "source": [
    "# Notebook Overview\n",
    "\n",
    "- Start Execution\n",
    "- Install and Import Libraries\n",
    "- Define User Constants\n",
    "- Define Workflow Methods Loaded with cuDF\n",
    "- Log Results to MLFlow"
   ]
  },
  {
   "cell_type": "markdown",
   "id": "02964e19",
   "metadata": {},
   "source": [
    "# Start Execution"
   ]
  },
  {
   "cell_type": "code",
   "execution_count": null,
   "id": "98e6d2d4",
   "metadata": {},
   "outputs": [],
   "source": [
    "import logging\n",
    "import time\n",
    "\n",
    "# Configure logger\n",
    "logger: logging.Logger = logging.getLogger(\"run_workflow_logger\")\n",
    "logger.setLevel(logging.INFO)\n",
    "logger.propagate = False  # Prevent duplicate logs from parent loggers\n",
    "\n",
    "# Set formatter\n",
    "formatter: logging.Formatter = logging.Formatter(\n",
    "    fmt=\"%(asctime)s - %(levelname)s - %(message)s\",\n",
    "    datefmt=\"%Y-%m-%d %H:%M:%S\"\n",
    ")\n",
    "\n",
    "# Configure and attach stream handler\n",
    "stream_handler: logging.StreamHandler = logging.StreamHandler()\n",
    "stream_handler.setFormatter(formatter)\n",
    "logger.addHandler(stream_handler)"
   ]
  },
  {
   "cell_type": "code",
   "execution_count": 2,
   "id": "c40cd27a-a4a7-4c09-89c0-5be4217717c3",
   "metadata": {},
   "outputs": [
    {
     "name": "stderr",
     "output_type": "stream",
     "text": [
      "2025-07-11 22:53:07 - INFO - Notebook execution started.\n"
     ]
    }
   ],
   "source": [
    "start_time = time.time()  \n",
    "\n",
    "logger.info(\"Notebook execution started.\")"
   ]
  },
  {
   "cell_type": "markdown",
   "id": "0703af31",
   "metadata": {},
   "source": [
    "# Install and Import Libraries"
   ]
  },
  {
   "cell_type": "code",
   "execution_count": 3,
   "id": "b23a663a-22ec-4f40-ab6b-5bd5659d5e4d",
   "metadata": {},
   "outputs": [
    {
     "name": "stdout",
     "output_type": "stream",
     "text": [
      "Note: you may need to restart the kernel to use updated packages.\n",
      "CPU times: user 19.7 ms, sys: 8.12 ms, total: 27.8 ms\n",
      "Wall time: 1.18 s\n"
     ]
    }
   ],
   "source": [
    "%%time\n",
    "\n",
    "%pip install -r ../requirements.txt --quiet"
   ]
  },
  {
   "cell_type": "code",
   "execution_count": null,
   "id": "33c42869",
   "metadata": {},
   "outputs": [],
   "source": [
    "# Enable GPU-accelerated pandas API via cuDF\n",
    "%load_ext cudf.pandas"
   ]
  },
  {
   "cell_type": "code",
   "execution_count": null,
   "id": "64d7b672",
   "metadata": {},
   "outputs": [],
   "source": [
    "# ------------------------- Standard Library Imports -------------------------\n",
    "\n",
    "import warnings   # Warning management and filtering\n",
    "import sys        # System-specific parameters and functions\n",
    "import os\n",
    "from pathlib import Path\n",
    "import json\n",
    "\n",
    "# Ensure project root is included in Python's module search path\n",
    "sys.path.append('..') \n",
    "\n",
    "# ------------------------- Core Package Imports -------------------------\n",
    "\n",
    "import pandas as pd                            # DataFrame operations\n",
    "from src.opencellid_downloader import download_and_extract  # Data acquisition utility\n",
    "\n",
    "# ------------------------- Visualization & Dashboard Libraries -------------------------\n",
    "\n",
    "import hvplot.pandas                           # High-level plotting API for pandas/cuDF\n",
    "import pydeck as pdk                           # WebGL-powered interactive geospatial visualizations\n",
    "import panel as pn                             # Dashboarding framework for interactive apps\n",
    "import param                                   # Parameterized configuration support\n",
    "import time                                    # Execution timing utility\n",
    "import mlflow                                  # Model tracking and experiment management\n",
    "\n",
    "# Initialize Panel with the required extensions and a material design theme\n",
    "pn.extension(\"deckgl\", loading_indicator=True, template=\"material\")"
   ]
  },
  {
   "cell_type": "markdown",
   "id": "6d7f5bdc",
   "metadata": {},
   "source": [
    "# User Defined Constants"
   ]
  },
  {
   "cell_type": "code",
   "execution_count": null,
   "id": "010e5ab5",
   "metadata": {},
   "outputs": [],
   "source": [
    "# ------------------------ Suppress Verbose Logs ------------------------\n",
    "warnings.filterwarnings(\"ignore\")"
   ]
  },
  {
   "cell_type": "code",
   "execution_count": null,
   "id": "bf3c5c14",
   "metadata": {},
   "outputs": [],
   "source": [
    "# ------------------------- Paths -------------------------\n",
    "DATA_PATH = '../data/cell_towers_us.csv'\n",
    "DATA_URL = 'https://s3.amazonaws.com/mcc-mnc.net/mcc-mnc.csv'"
   ]
  },
  {
   "cell_type": "markdown",
   "id": "2ac5b5e1",
   "metadata": {},
   "source": [
    "# Define MLFlow Model"
   ]
  },
  {
   "cell_type": "code",
   "execution_count": null,
   "id": "cda8e25d",
   "metadata": {},
   "outputs": [],
   "source": [
    "class OpenCellEDA(mlflow.pyfunc.PythonModel):\n",
    "    def load_context(self, context):\n",
    "        self.dashboard_html = context.artifacts[\"dashboard\"]\n",
    "\n",
    "    def predict(self, context, model_input: pd.DataFrame, params=None):\n",
    "        # just return the dashboard html as a single-row df\n",
    "        return pd.DataFrame(\n",
    "            {\"dashboard_html\": [pathlib.Path(self.dashboard_html).read_text()]}\n",
    "        )\n",
    "    \n",
    "# --- helpers -------------------------------------------------\n",
    "def load_opencellid(dataset_dir: str | Path) -> pd.DataFrame:\n",
    "    \"\"\"\n",
    "    Download (if missing) and load the OpenCellID CSV into a DataFrame.\n",
    "    \"\"\"\n",
    "    dataset_dir = Path(dataset_dir)\n",
    "    dataset_dir.mkdir(parents=True, exist_ok=True)\n",
    "    csv_path = dataset_dir / \"OCID_sample.csv\"\n",
    "\n",
    "    if not csv_path.exists():\n",
    "        download_and_extract(dataset_dir)  # your existing util\n",
    "\n",
    "    return pd.read_csv(csv_path)\n",
    "\n",
    "\n",
    "def describe_dataset(df: pd.DataFrame) -> pd.DataFrame:\n",
    "    \"\"\"\n",
    "    Return a simple statistical summary of the dataset.\n",
    "    \"\"\"\n",
    "    return df.describe(include=\"all\")\n",
    "\n",
    "def plot_panel_dashboard(df: pd.DataFrame, out_html: str | Path = \"dashboard.html\"):\n",
    "    \"\"\"\n",
    "    Build a Panel dashboard and save it as a static HTML file.\n",
    "    \"\"\"\n",
    "    map_plot = df.hvplot.points(\n",
    "        x=\"lon\", y=\"lat\", geo=True, tiles=\"OSM\", width=800, height=450\n",
    "    )\n",
    "    pn.panel(map_plot).save(out_html)\n",
    "    return out_html\n"
   ]
  },
  {
   "cell_type": "markdown",
   "id": "ad6afb46",
   "metadata": {},
   "source": [
    "# Log Results to MLFlow"
   ]
  },
  {
   "cell_type": "code",
   "execution_count": null,
   "id": "6ee99a68",
   "metadata": {},
   "outputs": [],
   "source": [
    "mlflow.set_tracking_uri(\"/phoenix/mlflow\")\n",
    "mlflow.set_experiment(\"OpenCellID-EDA\")\n",
    "\n",
    "with mlflow.start_run(run_name=\"EDA\") as run:\n",
    "    t0 = time.perf_counter()\n",
    "    df = load_opencellid(DATA_PATH)\n",
    "    mlflow.log_metric(\"load_time_sec\", time.perf_counter() - t0)\n",
    "    mlflow.log_metric(\"num_rows\", len(df))\n",
    "\n",
    "    t0 = time.perf_counter()\n",
    "    stats = describe_dataset(df)\n",
    "    mlflow.log_metric(\"describe_time_sec\", time.perf_counter() - t0)\n",
    "\n",
    "    stats_path = \"stats.csv\"\n",
    "    stats.to_csv(stats_path, index=False)\n",
    "    mlflow.log_artifact(stats_path)\n",
    "\n",
    "    plot_panel_dashboard(df, DASHBOARD_FILE)\n",
    "    mlflow.log_artifact(DASHBOARD_FILE, artifact_path=\"dashboard\")\n",
    "\n",
    "    # register a tiny pyfunc so users can load the dashboard from MLflow\n",
    "    OpenCellEDA.log_model(\n",
    "        artifact_path=\"opencellid_dashboard_model\",\n",
    "        artifacts={\"dashboard\": DASHBOARD_FILE},\n",
    "        registered_model_name=\"OpenCellID-EDA\",\n",
    "        pip_requirements=\"../requirements.txt\",\n",
    "    )"
   ]
  },
  {
   "cell_type": "code",
   "execution_count": 6,
   "id": "8649162e-d673-4370-9a6f-9b37a8a1f34d",
   "metadata": {},
   "outputs": [
    {
     "name": "stderr",
     "output_type": "stream",
     "text": [
      "2025-07-11 22:55:27 - INFO - ⏱️ Total execution time: 2m 19.95s\n",
      "2025-07-11 22:55:27 - INFO - ✅ Notebook execution completed successfully.\n"
     ]
    }
   ],
   "source": [
    "end_time: float = time.time()\n",
    "elapsed_time: float = end_time - start_time\n",
    "elapsed_minutes: int = int(elapsed_time // 60)\n",
    "elapsed_seconds: float = elapsed_time % 60\n",
    "\n",
    "logger.info(f\"⏱️ Total execution time: {elapsed_minutes}m {elapsed_seconds:.2f}s\")\n",
    "logger.info(\"✅ Notebook execution completed successfully.\")"
   ]
  },
  {
   "cell_type": "markdown",
   "id": "d46e5db7-5e01-4186-a958-1b5585b71a7a",
   "metadata": {},
   "source": [
    "Built with ❤️ using [**HP AI Studio**](https://hp.com/ai-studio)."
   ]
  }
 ],
 "metadata": {
  "kernelspec": {
   "display_name": "Python [conda env:base] *",
   "language": "python",
   "name": "conda-base-py"
  },
  "language_info": {
   "codemirror_mode": {
    "name": "ipython",
    "version": 3
   },
   "file_extension": ".py",
   "mimetype": "text/x-python",
   "name": "python",
   "nbconvert_exporter": "python",
   "pygments_lexer": "ipython3",
   "version": "3.12.7"
  }
 },
 "nbformat": 4,
 "nbformat_minor": 5
}
