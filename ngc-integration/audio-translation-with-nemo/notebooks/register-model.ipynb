{
 "cells": [
  {
   "cell_type": "markdown",
   "metadata": {},
   "source": [
    "<h1 style=\\\"text-align: center; font-size: 50px;\\\"> Register Model </h1>"
   ]
  },
  {
   "cell_type": "markdown",
   "metadata": {},
   "source": [
    "# Notebook Overview\n",
    "\n",
    "- Start Execution\n",
    "- Install and Import Libraries\n",
    "- Configure Settings\n",
    "- Register the Model Log Results to MLFlow"
   ]
  },
  {
   "cell_type": "markdown",
   "metadata": {},
   "source": [
    "# Start Execution"
   ]
  },
  {
   "cell_type": "code",
   "execution_count": 1,
   "metadata": {},
   "outputs": [],
   "source": [
    "import logging\n",
    "import time\n",
    "\n",
    "# Configure logger\n",
    "logger: logging.Logger = logging.getLogger(\"register_model_logger\")\n",
    "logger.setLevel(logging.INFO)\n",
    "logger.propagate = False  # Prevent duplicate logs from parent loggers\n",
    "\n",
    "# Set formatter\n",
    "formatter: logging.Formatter = logging.Formatter(\n",
    "    fmt=\"%(asctime)s - %(levelname)s - %(message)s\",\n",
    "    datefmt=\"%Y-%m-%d %H:%M:%S\"\n",
    ")\n",
    "\n",
    "# Configure and attach stream handler\n",
    "stream_handler: logging.StreamHandler = logging.StreamHandler()\n",
    "stream_handler.setFormatter(formatter)\n",
    "logger.addHandler(stream_handler)"
   ]
  },
  {
   "cell_type": "code",
   "execution_count": 2,
   "metadata": {},
   "outputs": [
    {
     "name": "stderr",
     "output_type": "stream",
     "text": [
      "2025-08-21 14:51:28 - INFO - Notebook execution started.\n"
     ]
    }
   ],
   "source": [
    "start_time = time.time()  \n",
    "logger.info(\"Notebook execution started.\")"
   ]
  },
  {
   "cell_type": "markdown",
   "metadata": {},
   "source": [
    "# Install and Import Libraries"
   ]
  },
  {
   "cell_type": "code",
   "execution_count": 3,
   "metadata": {},
   "outputs": [
    {
     "name": "stdout",
     "output_type": "stream",
     "text": [
      "Note: you may need to restart the kernel to use updated packages.\n",
      "CPU times: user 29.4 ms, sys: 1.4 ms, total: 30.8 ms\n",
      "Wall time: 2.39 s\n"
     ]
    }
   ],
   "source": [
    "%%time\n",
    "\n",
    "%pip install -r ../requirements.txt --quiet"
   ]
  },
  {
   "cell_type": "code",
   "execution_count": 4,
   "metadata": {},
   "outputs": [
    {
     "name": "stderr",
     "output_type": "stream",
     "text": [
      "[NeMo W 2025-08-21 14:51:35 nemo_logging:349] /opt/conda/envs/aistudio/lib/python3.10/site-packages/_distutils_hack/__init__.py:53: UserWarning: Reliance on distutils from stdlib is deprecated. Users must rely on setuptools to provide the distutils module. Avoid importing distutils or import setuptools first, and avoid setting SETUPTOOLS_USE_DISTUTILS=stdlib. Register concerns at https://github.com/pypa/setuptools/issues/new?template=distutils-deprecation.yml\n",
      "      warnings.warn(\n",
      "    \n"
     ]
    }
   ],
   "source": [
    "\n",
    "\n",
    "import nemo                             # NVIDIA NeMo core package\n",
    "import nemo.collections.asr as nemo_asr # Speech Recognition (ASR) collection\n",
    "import nemo.collections.tts as nemo_tts # Text-to-Speech (TTS) collection\n",
    "\n",
    "# ------------------------- Transformers -------------------------\n",
    "from transformers import MarianMTModel, MarianTokenizer\n",
    "\n",
    "# ------------------------- Audio Processing Utilities -------------------------\n",
    "import IPython                          # For playing audio inside Jupyter Notebooks\n",
    "import soundfile                        # For reading and writing audio files\n",
    "from pathlib import Path                # Filesystem path management\n",
    "\n",
    "# ------------------------- System Utilities -------------------------\n",
    "\n",
    "import os                               # Operating system interfaces\n",
    "import shutil                           # High-level file operations\n",
    "import uuid                             # Unique ID generation\n",
    "import io                               # Input/Output core tools\n",
    "import base64                           # Encoding and decoding base64 strings\n",
    "import json                             # JSON serialization and deserialization\n",
    "import warnings                         # Suppressing and managing warnings\n",
    "import numpy as np                      # Numerical array operations\n",
    "np.float_ = np.float64\n",
    "import torch\n",
    "\n",
    "# ------------------------- MLflow Integration -------------------------\n",
    "\n",
    "import mlflow                           # MLflow experiment tracking and model management\n",
    "from mlflow.types.schema import Schema, ColSpec\n",
    "from mlflow.types import ParamSchema, ParamSpec\n",
    "from mlflow.models import ModelSignature\n",
    "\n",
    "# ------------------------ Utils Import ------------------------\n",
    "import sys\n",
    "sys.path.append(\"../src\")\n",
    "from onnx_utils import ModelExportConfig\n",
    "from utils import load_config"
   ]
  },
  {
   "cell_type": "markdown",
   "metadata": {},
   "source": [
    "# Configure Settings"
   ]
  },
  {
   "cell_type": "code",
   "execution_count": 5,
   "metadata": {},
   "outputs": [],
   "source": [
    "# ------------------------ Suppress Verbose Logs ------------------------\n",
    "warnings.filterwarnings(\"ignore\")\n",
    "\n",
    "# Suppress NeMo internal logging\n",
    "logging.getLogger('nemo_logger').setLevel(logging.ERROR)"
   ]
  },
  {
   "cell_type": "code",
   "execution_count": 6,
   "metadata": {},
   "outputs": [],
   "source": [
    "# ------------------------- Model File Paths -------------------------\n",
    "MT_MODEL = \"Helsinki-NLP/opus-mt-en-es\"\n",
    "ASR_MODEL_PATH = \"/home/jovyan/datafabric/STT_En_Citrinet_1024_Gamma_0.25/stt_en_citrinet_1024_gamma_0_25.nemo\"                  # Speech-to-Text (ASR) model\n",
    "SPECTROGRAM_GENERATOR_PATH = \"/home/jovyan/datafabric/TTS_Es_Multispeaker_FastPitch_HiFiGAN/tts_es_fastpitch_multispeaker.nemo\"  # Spectrogram generator model (FastPitch)\n",
    "VOCODER_PATH = \"/home/jovyan/datafabric/TTS_Es_Multispeaker_FastPitch_HiFiGAN/tts_es_hifigan_ft_fastpitch_multispeaker.nemo\"     # Vocoder model (HiFiGAN)\n",
    "\n",
    "AUDIO_SAMPLE_PATH = \"../data/ForrestGump.mp3\"      # Path to the input English audio sample\n",
    "\n",
    "# ------------------------- MLflow Experiment Configuration -------------------------\n",
    "\n",
    "EXPERIMENT_NAME = \"NeMo_Translation_Experiment\"    # MLflow experiment name\n",
    "RUN_NAME = \"NeMo_en_es_Translation_Run\"            # Specific run name inside the experiment\n",
    "MODEL_NAME = \"nemo_en_es\"                          # Registered model name in MLflow\n",
    "DEMO_PATH = \"../demo\"                              # Path to save demo outputs"
   ]
  },
  {
   "cell_type": "markdown",
   "metadata": {},
   "source": [
    "# Register the Model and Log Results to MLFlow"
   ]
  },
  {
   "cell_type": "code",
   "execution_count": 7,
   "metadata": {},
   "outputs": [],
   "source": [
    "class NemoTranslationModel(mlflow.pyfunc.PythonModel):\n",
    "    \"\"\"\n",
    "    A custom MLflow pyfunc model for performing end-to-end audio translation using NVIDIA NeMo models.\n",
    "    \"\"\"\n",
    "\n",
    "    def load_context(self, context):\n",
    "        \"\"\"Load NeMo models and prepare the temporary working directory.\"\"\"\n",
    "        model_dir = context.artifacts[\"model\"]\n",
    "\n",
    "        self.asr_model = nemo_asr.models.EncDecCTCModel.restore_from(f\"{model_dir}/enc_dec_CTC.nemo\")\n",
    "        self.mt_tokenizer = MarianTokenizer.from_pretrained(MT_MODEL)\n",
    "        self.mt_model = MarianMTModel.from_pretrained(MT_MODEL)\n",
    "        self.spectrogram_generator = nemo_tts.models.FastPitchModel.restore_from(f\"{model_dir}/fast_pitch.nemo\")\n",
    "        self.vocoder = nemo_tts.models.HifiGanModel.restore_from(f\"{model_dir}/hifi_gan.nemo\")\n",
    "\n",
    "        self.framerate = 41000\n",
    "\n",
    "        os.makedirs(\"/phoenix/mlflow/tmp\", exist_ok=True)\n",
    "\n",
    "    def transcribe_audio(self, model_input):\n",
    "        \"\"\"Deserialize base64-encoded audio, save it temporarily, and perform speech-to-text.\"\"\"\n",
    "        serialized_audio = model_input['source_serialized_audio'][0]\n",
    "        audio_buffer = io.BytesIO(base64.b64decode(serialized_audio))\n",
    "        audio_array, self.framerate = soundfile.read(audio_buffer)\n",
    "\n",
    "        # Ensure mono-channel audio\n",
    "        if audio_array.ndim > 1:\n",
    "            audio_array = audio_array[:, 0]\n",
    "\n",
    "        temp_wave_path = f\"/phoenix/mlflow/tmp/{self.file_id}.wav\"\n",
    "        soundfile.write(temp_wave_path, audio_array, self.framerate)\n",
    "\n",
    "        # Perform ASR\n",
    "        transcribed_text = self.asr_model.cuda().transcribe([temp_wave_path])\n",
    "        return transcribed_text\n",
    "\n",
    "    def text_to_audio(self, text: str):\n",
    "        \"\"\"Generate audio waveform from text using TTS models.\"\"\"\n",
    "        parsed_tokens = self.spectrogram_generator.cuda().parse(text)\n",
    "        spectrogram = self.spectrogram_generator.cuda().generate_spectrogram(tokens=parsed_tokens, speaker=2)\n",
    "        audio_tensor = self.vocoder.cuda().convert_spectrogram_to_audio(spec=spectrogram)\n",
    "\n",
    "        return audio_tensor.to('cpu').detach().numpy()\n",
    "\n",
    "    def serialize_audio(self, audio_array: np.ndarray):\n",
    "        \"\"\"Serialize a NumPy audio array into a base64-encoded WAV file.\"\"\"\n",
    "\n",
    "        \n",
    "        wave_path = f\"/phoenix/mlflow/tmp/out_{self.file_id}.wav\"\n",
    "        soundfile.write(wave_path, audio_array, samplerate=self.framerate, format='WAV')\n",
    "\n",
    "        with io.BytesIO() as buffer:\n",
    "            soundfile.write(buffer, audio_array, samplerate=self.framerate, format='WAV')\n",
    "            buffer.seek(0)\n",
    "            audio_base64 = base64.b64encode(buffer.read()).decode('utf-8')\n",
    "\n",
    "        return audio_base64\n",
    "\n",
    "    def predict(self, context, model_input, params=None):\n",
    "        \"\"\"\n",
    "        Perform inference:\n",
    "        1. Transcribe audio (if input is audio)\n",
    "        2. Translate text using Hugging Face MarianMT\n",
    "        3. Synthesize translated text into speech\n",
    "        4. Serialize the audio if needed\n",
    "        \"\"\"\n",
    "\n",
    "        self.file_id = uuid.uuid1()\n",
    "        use_audio = params.get(\"use_audio\", False)\n",
    "\n",
    "        if use_audio:\n",
    "            source_text = self.transcribe_audio(model_input)[0]\n",
    "        else:\n",
    "            source_text = model_input['source_text'][0]\n",
    "\n",
    "        # Move model to GPU if available\n",
    "        device = torch.device(\"cuda\" if torch.cuda.is_available() else \"cpu\")\n",
    "        self.mt_model = self.mt_model.to(device)\n",
    "\n",
    "        # Tokenize and move inputs to device\n",
    "        inputs = self.mt_tokenizer(source_text, return_tensors=\"pt\", padding=True)\n",
    "        inputs = {key: value.to(device) for key, value in inputs.items()}\n",
    "\n",
    "        # Generate translation\n",
    "        translated = self.mt_model.generate(**inputs)\n",
    "        translated_text = self.mt_tokenizer.decode(translated[0], skip_special_tokens=True)\n",
    "\n",
    "        translated_audio_base64 = \"\"\n",
    "        if use_audio:\n",
    "            audio_array = self.text_to_audio(translated_text)\n",
    "            translated_audio_base64 = self.serialize_audio(audio_array[0])\n",
    "\n",
    "        return {\n",
    "            \"original_text\": source_text,\n",
    "            \"translated_text\": translated_text,\n",
    "            \"translated_serialized_audio\": translated_audio_base64,\n",
    "        }\n",
    "\n",
    "    @classmethod\n",
    "    def log_model(cls, model_name: str, nemo_models: dict, demo_folder: str, config_path: str, pip_requirements: str | list[str] | None = None,):\n",
    "        \"\"\"\n",
    "        Log the translation model to MLflow with model artifacts and signatures.\n",
    "        \n",
    "        Args:\n",
    "            model_name: Name under which to register the model.\n",
    "            nemo_models: Dictionary mapping component names to their local .nemo file paths.\n",
    "            demo_folder: Path to the demo files folder.\n",
    "        \"\"\"\n",
    "        sys.path.append(\"../src\")\n",
    "        from onnx_utils import ModelExportConfig,log_model\n",
    "        \n",
    "        input_schema = Schema([\n",
    "            ColSpec(\"string\", \"source_text\"),\n",
    "            ColSpec(\"string\", \"source_serialized_audio\"),\n",
    "        ])\n",
    "\n",
    "        output_schema = Schema([\n",
    "            ColSpec(\"string\", \"original_text\"),\n",
    "            ColSpec(\"string\", \"translated_text\"),\n",
    "            ColSpec(\"string\", \"translated_serialized_audio\"),\n",
    "        ])\n",
    "\n",
    "        params_schema = ParamSchema([\n",
    "            ParamSpec(\"use_audio\", \"boolean\", False)\n",
    "        ])\n",
    "\n",
    "        signature = ModelSignature(\n",
    "            inputs=input_schema,\n",
    "            outputs=output_schema,\n",
    "            params=params_schema\n",
    "        )\n",
    "\n",
    "        os.makedirs(model_name, exist_ok=True)\n",
    "\n",
    "        # Copy NeMo model artifacts\n",
    "        if \"enc_dec_CTC\" in nemo_models:\n",
    "            shutil.copyfile(nemo_models[\"enc_dec_CTC\"], f\"{model_name}/enc_dec_CTC.nemo\")\n",
    "        if \"fast_pitch\" in nemo_models:\n",
    "            shutil.copyfile(nemo_models[\"fast_pitch\"], f\"{model_name}/fast_pitch.nemo\")\n",
    "        if \"hifi_gan\" in nemo_models:\n",
    "            shutil.copyfile(nemo_models[\"hifi_gan\"], f\"{model_name}/hifi_gan.nemo\")\n",
    "\n",
    "        device = torch.device(\"cuda\" if torch.cuda.is_available() else \"cpu\")\n",
    "\n",
    "        # Loading Models in memory to convert to onnx\n",
    "        mt_model = MarianMTModel.from_pretrained(MT_MODEL)\n",
    "        asr_model = nemo_asr.models.EncDecCTCModel.restore_from(nemo_models[\"enc_dec_CTC\"])\n",
    "        fast_pitch_model = nemo_tts.models.FastPitchModel.restore_from(nemo_models[\"fast_pitch\"])\n",
    "        hifi_gan_model = nemo_tts.models.HifiGanModel.restore_from(nemo_models[\"hifi_gan\"])\n",
    "      \n",
    "\n",
    "        # 🎯 Create ModelExportConfig objects with loaded models (manual configuration)\n",
    "        model_configs = [ \n",
    "            ModelExportConfig(\n",
    "                model=mt_model,                         # 🚀 Pre-loaded Transformers model!\n",
    "                model_name=\"Helsinki-NLP\",              # ONNX file naming\n",
    "                task=\"translation\",                     # Model task\n",
    "            ),\n",
    "            # NeMo ASR model\n",
    "            ModelExportConfig(\n",
    "                model=asr_model.to(device),                        # 🚀 Pre-loaded NeMo ASR model!\n",
    "                model_name=\"enc_dec_CTC\",               # ONNX file naming\n",
    "            ),\n",
    "            # NeMo FastPitch model\n",
    "            ModelExportConfig(\n",
    "                model=fast_pitch_model.to(device),                 # 🚀 Pre-loaded NeMo TTS model!\n",
    "                model_name=\"fast_pitch\",                # ONNX file naming\n",
    "            ),\n",
    "            # NeMo HifiGAN model\n",
    "            ModelExportConfig(\n",
    "                model=hifi_gan_model.to(device),                   # 🚀 Pre-loaded NeMo Vocoder model!\n",
    "                model_name=\"hifi_gan\",                  # ONNX file naming\n",
    "            ),\n",
    "        ] \n",
    "            \n",
    "            \n",
    "        log_model(\n",
    "            artifact_path=model_name,\n",
    "            python_model=cls(),\n",
    "            artifacts={\"model\": model_name, \"demo\": demo_folder, \"config\": config_path},\n",
    "            signature=signature,\n",
    "            models_to_convert_onnx=model_configs,\n",
    "            pip_requirements=pip_requirements\n",
    "        )\n",
    "\n",
    "         # Clean up temporary files\n",
    "        shutil.rmtree(model_name)"
   ]
  },
  {
   "cell_type": "code",
   "execution_count": 8,
   "metadata": {},
   "outputs": [
    {
     "name": "stderr",
     "output_type": "stream",
     "text": [
      "WARNING: Logging before flag parsing goes to stderr.\n",
      "W0821 14:51:39.830279 139865642697152 file_store.py:333] Malformed experiment 'tmp'. Detailed error Yaml file '/phoenix/mlflow/tmp/meta.yaml' does not exist.\n",
      "Traceback (most recent call last):\n",
      "  File \"/opt/conda/envs/aistudio/lib/python3.10/site-packages/mlflow/store/tracking/file_store.py\", line 329, in search_experiments\n",
      "    exp = self._get_experiment(exp_id, view_type)\n",
      "  File \"/opt/conda/envs/aistudio/lib/python3.10/site-packages/mlflow/store/tracking/file_store.py\", line 427, in _get_experiment\n",
      "    meta = FileStore._read_yaml(experiment_dir, FileStore.META_DATA_FILE_NAME)\n",
      "  File \"/opt/conda/envs/aistudio/lib/python3.10/site-packages/mlflow/store/tracking/file_store.py\", line 1373, in _read_yaml\n",
      "    return _read_helper(root, file_name, attempts_remaining=retries)\n",
      "  File \"/opt/conda/envs/aistudio/lib/python3.10/site-packages/mlflow/store/tracking/file_store.py\", line 1366, in _read_helper\n",
      "    result = read_yaml(root, file_name)\n",
      "  File \"/opt/conda/envs/aistudio/lib/python3.10/site-packages/mlflow/utils/file_utils.py\", line 310, in read_yaml\n",
      "    raise MissingConfigException(f\"Yaml file '{file_path}' does not exist.\")\n",
      "mlflow.exceptions.MissingConfigException: Yaml file '/phoenix/mlflow/tmp/meta.yaml' does not exist.\n",
      "2025-08-21 14:52:08 - INFO - 🔧 Generating ONNX model(s) for specified models...\n",
      "2025-08-21 14:52:08 - INFO - 🔄 Converting transformers model: Helsinki-NLP\n",
      "2025-08-21 14:52:08 - INFO - 🔍 Model identified as: transformers\n",
      "2025-08-21 14:52:08 - INFO - 🤗 Converting loaded Transformers model for task: translation with opset 12\n",
      "2025-08-21 14:52:12 - INFO - ✅ Transformers model exported to: Helsinki-NLP.onnx\n",
      "2025-08-21 14:52:12 - INFO - ✅ Converted Helsinki-NLP: Helsinki-NLP.onnx\n",
      "2025-08-21 14:52:12 - INFO - 🔄 Converting nemo model: enc_dec_CTC\n",
      "2025-08-21 14:52:12 - INFO - 🔍 Model identified as: nemo\n",
      "2025-08-21 14:52:12 - INFO - 🔄 Exporting loaded NeMo model with format: ONNX\n",
      "2025-08-21 14:52:12 - INFO - 🔄 Using official NVIDIA export() method\n",
      "2025-08-21 14:52:22 - INFO - Model saved to ONNX: enc_dec_CTC.onnx\n",
      "2025-08-21 14:52:22 - INFO - ✅ Converted enc_dec_CTC: enc_dec_CTC.onnx\n",
      "2025-08-21 14:52:22 - INFO - 🔄 Converting nemo model: fast_pitch\n",
      "2025-08-21 14:52:22 - INFO - 🔍 Model identified as: nemo\n",
      "2025-08-21 14:52:22 - INFO - 🔄 Exporting loaded NeMo model with format: ONNX\n",
      "2025-08-21 14:52:22 - INFO - 🔄 Using official NVIDIA export() method\n",
      "2025-08-21 14:52:25 - INFO - Model saved to ONNX: fast_pitch.onnx\n",
      "2025-08-21 14:52:25 - INFO - ✅ Converted fast_pitch: fast_pitch.onnx\n",
      "2025-08-21 14:52:25 - INFO - 🔄 Converting nemo model: hifi_gan\n",
      "2025-08-21 14:52:25 - INFO - 🔍 Model identified as: nemo\n",
      "2025-08-21 14:52:25 - INFO - 🔄 Exporting loaded NeMo model with format: ONNX\n",
      "2025-08-21 14:52:25 - INFO - 🔄 Using official NVIDIA export() method\n"
     ]
    },
    {
     "name": "stdout",
     "output_type": "stream",
     "text": [
      "Removing weight norm...\n",
      "Removing weight norm...\n"
     ]
    },
    {
     "name": "stderr",
     "output_type": "stream",
     "text": [
      "2025-08-21 14:52:26 - INFO - Model saved to ONNX: hifi_gan.onnx\n",
      "2025-08-21 14:52:26 - INFO - ✅ Converted hifi_gan: hifi_gan.onnx\n",
      "2025-08-21 14:52:26 - INFO - 📦 Added ONNX artifact: onnx_Helsinki-NLP -> Helsinki-NLP.onnx\n",
      "2025-08-21 14:52:26 - INFO - 📦 Added ONNX artifact: onnx_enc_dec_CTC -> enc_dec_CTC.onnx\n",
      "2025-08-21 14:52:26 - INFO - 📦 Added ONNX artifact: onnx_fast_pitch -> fast_pitch.onnx\n",
      "2025-08-21 14:52:26 - INFO - 📦 Added ONNX artifact: onnx_hifi_gan -> hifi_gan.onnx\n",
      "2025-08-21 14:52:26 - INFO -   Creating individual model directories for artifacts...\n",
      "2025-08-21 14:52:26 - INFO -   Copying ONNX models for 4 models: ['Helsinki-NLP', 'enc_dec_CTC', 'fast_pitch', 'hifi_gan']\n",
      "2025-08-21 14:52:26 - INFO - 📄 Model file already has correct name: Helsinki-NLP.onnx\n",
      "2025-08-21 14:52:26 - INFO - 📄 Model file already has correct name: enc_dec_CTC.onnx\n",
      "2025-08-21 14:52:26 - INFO - 📄 Model file already has correct name: fast_pitch.onnx\n",
      "2025-08-21 14:52:26 - INFO - 📄 Model file already has correct name: hifi_gan.onnx\n",
      "2025-08-21 14:52:26 - INFO - 📦 Added model file artifact: model_Helsinki-NLP -> Helsinki-NLP.onnx\n",
      "2025-08-21 14:52:26 - INFO - 📦 Added model file artifact: model_enc_dec_CTC -> enc_dec_CTC.onnx\n",
      "2025-08-21 14:52:26 - INFO - 📦 Added model file artifact: model_fast_pitch -> fast_pitch.onnx\n",
      "2025-08-21 14:52:26 - INFO - 📦 Added model file artifact: model_hifi_gan -> hifi_gan.onnx\n",
      "2025-08-21 14:52:26 - INFO - ✅ Copied 4 model files!\n"
     ]
    },
    {
     "data": {
      "application/vnd.jupyter.widget-view+json": {
       "model_id": "3478c12dcb754067b710ee1ac85d297b",
       "version_major": 2,
       "version_minor": 0
      },
      "text/plain": [
       "Downloading artifacts:   0%|          | 0/3 [00:00<?, ?it/s]"
      ]
     },
     "metadata": {},
     "output_type": "display_data"
    },
    {
     "data": {
      "application/vnd.jupyter.widget-view+json": {
       "model_id": "4ab2fd04ed964187bc3e2a9cfd2f6734",
       "version_major": 2,
       "version_minor": 0
      },
      "text/plain": [
       "Downloading artifacts:   0%|          | 0/26 [00:00<?, ?it/s]"
      ]
     },
     "metadata": {},
     "output_type": "display_data"
    },
    {
     "data": {
      "application/vnd.jupyter.widget-view+json": {
       "model_id": "40ffd8dc10a34f2da8c11bdbd06c96f0",
       "version_major": 2,
       "version_minor": 0
      },
      "text/plain": [
       "Downloading artifacts:   0%|          | 0/1 [00:00<?, ?it/s]"
      ]
     },
     "metadata": {},
     "output_type": "display_data"
    },
    {
     "data": {
      "application/vnd.jupyter.widget-view+json": {
       "model_id": "fd99eaf5755b4b79babe3925e0d00637",
       "version_major": 2,
       "version_minor": 0
      },
      "text/plain": [
       "Downloading artifacts:   0%|          | 0/1 [00:00<?, ?it/s]"
      ]
     },
     "metadata": {},
     "output_type": "display_data"
    },
    {
     "data": {
      "application/vnd.jupyter.widget-view+json": {
       "model_id": "62592c7e1e654b5b856662117126e3e6",
       "version_major": 2,
       "version_minor": 0
      },
      "text/plain": [
       "Downloading artifacts:   0%|          | 0/1 [00:00<?, ?it/s]"
      ]
     },
     "metadata": {},
     "output_type": "display_data"
    },
    {
     "data": {
      "application/vnd.jupyter.widget-view+json": {
       "model_id": "d3bbb746db334696a502500656dd66b4",
       "version_major": 2,
       "version_minor": 0
      },
      "text/plain": [
       "Downloading artifacts:   0%|          | 0/1 [00:00<?, ?it/s]"
      ]
     },
     "metadata": {},
     "output_type": "display_data"
    },
    {
     "data": {
      "application/vnd.jupyter.widget-view+json": {
       "model_id": "7ef35288d8a7494482e92fd52d78ea15",
       "version_major": 2,
       "version_minor": 0
      },
      "text/plain": [
       "Downloading artifacts:   0%|          | 0/1 [00:00<?, ?it/s]"
      ]
     },
     "metadata": {},
     "output_type": "display_data"
    },
    {
     "data": {
      "application/vnd.jupyter.widget-view+json": {
       "model_id": "ce07495f1ca949f993c28b6899428695",
       "version_major": 2,
       "version_minor": 0
      },
      "text/plain": [
       "Downloading artifacts:   0%|          | 0/1 [00:00<?, ?it/s]"
      ]
     },
     "metadata": {},
     "output_type": "display_data"
    },
    {
     "data": {
      "application/vnd.jupyter.widget-view+json": {
       "model_id": "be55917a358d4915931db8e5ee497fb1",
       "version_major": 2,
       "version_minor": 0
      },
      "text/plain": [
       "Downloading artifacts:   0%|          | 0/1 [00:00<?, ?it/s]"
      ]
     },
     "metadata": {},
     "output_type": "display_data"
    },
    {
     "data": {
      "application/vnd.jupyter.widget-view+json": {
       "model_id": "990179986633400e94f0829f2870a711",
       "version_major": 2,
       "version_minor": 0
      },
      "text/plain": [
       "Downloading artifacts:   0%|          | 0/1 [00:00<?, ?it/s]"
      ]
     },
     "metadata": {},
     "output_type": "display_data"
    },
    {
     "data": {
      "application/vnd.jupyter.widget-view+json": {
       "model_id": "b5a8564989ed4c8198583242307a8ece",
       "version_major": 2,
       "version_minor": 0
      },
      "text/plain": [
       "Downloading artifacts:   0%|          | 0/1 [00:00<?, ?it/s]"
      ]
     },
     "metadata": {},
     "output_type": "display_data"
    },
    {
     "name": "stderr",
     "output_type": "stream",
     "text": [
      "2025-08-21 14:52:47 - INFO - Model logged with artifacts: ['model', 'demo', 'config', 'onnx_Helsinki-NLP', 'onnx_enc_dec_CTC', 'onnx_fast_pitch', 'onnx_hifi_gan', 'model_Helsinki-NLP', 'model_enc_dec_CTC', 'model_fast_pitch', 'model_hifi_gan']\n",
      "2025-08-21 14:52:47 - INFO - ✅ Model logged with 4 model directories created!\n",
      "Registered model 'nemo_en_es' already exists. Creating a new version of this model...\n",
      "Created version '3' of model 'nemo_en_es'.\n"
     ]
    }
   ],
   "source": [
    "# ------------------------- MLflow Model Logging and Registration -------------------------\n",
    "\n",
    "mlflow.set_tracking_uri('/phoenix/mlflow')\n",
    "# Set the MLflow experiment\n",
    "mlflow.set_experiment(experiment_name=EXPERIMENT_NAME)\n",
    "\n",
    "# Start a new MLflow run\n",
    "with mlflow.start_run(run_name=RUN_NAME) as run:\n",
    "    # Define the set of NeMo model components to be logged\n",
    "    nemo_model_artifacts = {\n",
    "        \"enc_dec_CTC\": ASR_MODEL_PATH,\n",
    "        \"fast_pitch\": SPECTROGRAM_GENERATOR_PATH,\n",
    "        \"hifi_gan\": VOCODER_PATH,\n",
    "    }\n",
    "\n",
    "    # Log the custom translation model with specified artifacts and demo folder\n",
    "    NemoTranslationModel.log_model(\n",
    "        model_name=MODEL_NAME,\n",
    "        nemo_models=nemo_model_artifacts,\n",
    "        demo_folder=\"../demo\",\n",
    "        config_path=\"../configs/config.yaml\",\n",
    "        pip_requirements=\"../requirements.txt\"\n",
    "    )\n",
    "\n",
    "    # Register the logged model in MLflow Model Registry\n",
    "    mlflow.register_model(\n",
    "        model_uri=f\"runs:/{run.info.run_id}/{MODEL_NAME}\",\n",
    "        name=MODEL_NAME\n",
    "    )"
   ]
  },
  {
   "cell_type": "code",
   "execution_count": 9,
   "metadata": {},
   "outputs": [
    {
     "name": "stdout",
     "output_type": "stream",
     "text": [
      "✅ Model 'nemo_en_es' successfully logged and registered under experiment 'NeMo_Translation_Experiment'.\n"
     ]
    }
   ],
   "source": [
    "# ------------------------- Success Confirmation -------------------------\n",
    "\n",
    "print(f\"✅ Model '{MODEL_NAME}' successfully logged and registered under experiment '{EXPERIMENT_NAME}'.\")"
   ]
  },
  {
   "cell_type": "code",
   "execution_count": 10,
   "metadata": {},
   "outputs": [
    {
     "name": "stderr",
     "output_type": "stream",
     "text": [
      "2025-08-21 14:52:47 - INFO - ⏱️ Total execution time: 1m 19.08s\n",
      "2025-08-21 14:52:47 - INFO - ✅ Notebook execution completed successfully.\n"
     ]
    }
   ],
   "source": [
    "end_time: float = time.time()\n",
    "elapsed_time: float = end_time - start_time\n",
    "elapsed_minutes: int = int(elapsed_time // 60)\n",
    "elapsed_seconds: float = elapsed_time % 60\n",
    "\n",
    "logger.info(f\"⏱️ Total execution time: {elapsed_minutes}m {elapsed_seconds:.2f}s\")\n",
    "logger.info(\"✅ Notebook execution completed successfully.\")"
   ]
  },
  {
   "cell_type": "markdown",
   "metadata": {},
   "source": [
    "Built with ❤️ using [**HP AI Studio**](https://hp.com/ai-studio)."
   ]
  }
 ],
 "metadata": {
  "kernelspec": {
   "display_name": "aistudio",
   "language": "python",
   "name": "aistudio"
  },
  "language_info": {
   "codemirror_mode": {
    "name": "ipython",
    "version": 3
   },
   "file_extension": ".py",
   "mimetype": "text/x-python",
   "name": "python",
   "nbconvert_exporter": "python",
   "pygments_lexer": "ipython3",
   "version": "3.10.12"
  }
 },
 "nbformat": 4,
 "nbformat_minor": 4
}
