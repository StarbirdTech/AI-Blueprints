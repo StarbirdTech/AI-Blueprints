{
 "cells": [
  {
   "cell_type": "markdown",
   "id": "ac55612e",
   "metadata": {},
   "source": [
    "Notebook Overview\n",
    "- Start Execution\n",
    "- Install and Import Libraries\n",
    "- Configure Settings\n",
    "- Verify Assets\n",
    "- Other sections..."
   ]
  },
  {
   "cell_type": "markdown",
   "id": "5a614c02",
   "metadata": {},
   "source": [
    "## Start Execution"
   ]
  },
  {
   "cell_type": "code",
   "execution_count": null,
   "id": "a681d0fb",
   "metadata": {},
   "outputs": [],
   "source": [
    "import logging\n",
    "import time\n",
    "\n",
    "# Configure logger\n",
    "logger: logging.Logger = logging.getLogger(\"register_model_logger\")\n",
    "logger.setLevel(logging.INFO)\n",
    "logger.propagate = False  # Prevent duplicate logs from parent loggers\n",
    "\n",
    "# Set formatter\n",
    "formatter: logging.Formatter = logging.Formatter(\n",
    "    fmt=\"%(asctime)s - %(levelname)s - %(message)s\",\n",
    "    datefmt=\"%Y-%m-%d %H:%M:%S\"\n",
    ")\n",
    "\n",
    "# Configure and attach stream handler\n",
    "stream_handler: logging.StreamHandler = logging.StreamHandler()\n",
    "stream_handler.setFormatter(formatter)\n",
    "logger.addHandler(stream_handler)"
   ]
  },
  {
   "cell_type": "code",
   "execution_count": null,
   "id": "654ed854",
   "metadata": {},
   "outputs": [],
   "source": [
    "start_time = time.time()  \n",
    "\n",
    "logger.info(\"Notebook execution started.\")"
   ]
  },
  {
   "cell_type": "markdown",
   "id": "e5b7ba27",
   "metadata": {},
   "source": [
    "## Install and Import Libraries"
   ]
  },
  {
   "cell_type": "code",
   "execution_count": null,
   "id": "006f7912",
   "metadata": {},
   "outputs": [],
   "source": [
    "from PIL import Image\n",
    "import base64\n",
    "from io import BytesIO\n",
    "import warnings                         \n",
    "import logging  \n",
    "\n",
    "\n",
    "import numpy as np\n",
    "import pandas as pd  \n",
    "\n",
    "import matplotlib.pyplot as plt\n",
    "\n",
    "\n",
    "from tensorflow.keras.models import Sequential\n",
    "from tensorflow.keras.layers import Conv2D, MaxPool2D, Flatten, Dense\n",
    "from tensorflow.keras.utils import to_categorical\n",
    "from tensorflow.keras.datasets import mnist\n",
    "\n",
    "# ------------------------ MLflow Integration ------------------------\n",
    "import mlflow\n",
    "from mlflow import MlflowClient\n",
    "from mlflow.models.signature import ModelSignature\n",
    "from mlflow.types.schema import Schema, ColSpec"
   ]
  },
  {
   "cell_type": "markdown",
   "id": "93a54160",
   "metadata": {},
   "source": [
    "## Configure Settings"
   ]
  },
  {
   "cell_type": "code",
   "execution_count": null,
   "id": "533e5e56",
   "metadata": {},
   "outputs": [],
   "source": [
    "# ------------------------- MLflow Experiment Configuration -------------------------\n",
    "EXPERIMENT_NAME = 'MNIST with TensorFlow'\n",
    "RUN_NAME = \"MNIST_Run\"\n",
    "MODEL_NAME = \"MNIST_Model\"\n",
    "MODEL_PATH = \"model_keras_mnist.keras\""
   ]
  },
  {
   "cell_type": "code",
   "execution_count": null,
   "id": "ff4cb7cb",
   "metadata": {},
   "outputs": [],
   "source": [
    "# Suppress Python warnings\n",
    "warnings.filterwarnings(\"ignore\")"
   ]
  },
  {
   "cell_type": "markdown",
   "id": "ce982fa3",
   "metadata": {},
   "source": [
    "## Logging Model to MLflow"
   ]
  },
  {
   "cell_type": "code",
   "execution_count": null,
   "id": "9c6d53c6",
   "metadata": {},
   "outputs": [],
   "source": [
    "def base64_to_numpy(base64_string):\n",
    "    \"\"\"\n",
    "        Convert a base64 to a numpy array.\n",
    "    \"\"\"\n",
    "    if \",\" in base64_string:\n",
    "        base64_string = base64_string.split(\",\")[1]\n",
    "    image_data = base64.b64decode(base64_string)\n",
    "\n",
    "    image = Image.open(BytesIO(image_data))\n",
    "\n",
    "    if image.mode != 'L':\n",
    "        image = image.convert('L')\n",
    "    image = image.resize((28, 28))\n",
    "\n",
    "    array = np.array(image) / 255\n",
    "    \n",
    "    array = array.reshape(1, 28, 28, 1)\n",
    "\n",
    "    return array"
   ]
  },
  {
   "cell_type": "code",
   "execution_count": null,
   "id": "2366c25a",
   "metadata": {},
   "outputs": [],
   "source": [
    "# Load and preprocess MNIST data\n",
    "(x_train, y_train), (x_test, y_test) = mnist.load_data()\n",
    "x_train = x_train.reshape(-1, 28, 28, 1).astype(\"float32\") / 255.0\n",
    "x_test = x_test.reshape(-1, 28, 28, 1).astype(\"float32\") / 255.0\n",
    "y_cat_train = to_categorical(y_train, 10)\n",
    "y_cat_test = to_categorical(y_test, 10)\n",
    "\n",
    "# Build a simple CNN model\n",
    "model = Sequential([\n",
    "    Conv2D(32, kernel_size=(4, 4), activation='relu', input_shape=(28, 28, 1)),\n",
    "    MaxPool2D(pool_size=(2, 2)),\n",
    "    Flatten(),\n",
    "    Dense(128, activation='relu'),\n",
    "    Dense(10, activation='softmax')\n",
    "])\n",
    "\n",
    "model.compile(optimizer='adam', loss='categorical_crossentropy', metrics=['accuracy'])\n",
    "model.fit(x_train, y_cat_train, epochs=4, validation_data=(x_test, y_cat_test))"
   ]
  },
  {
   "cell_type": "code",
   "execution_count": null,
   "id": "213e83e7",
   "metadata": {},
   "outputs": [],
   "source": [
    "class MNISTModel(mlflow.pyfunc.PythonModel):\n",
    "    def init(self, keras_model):\n",
    "        \"\"\"\n",
    "        Load keras model.\n",
    "        \"\"\"\n",
    "        try:\n",
    "            # Load the model\n",
    "            self.model = keras_model\n",
    "\n",
    "        except Exception as e:\n",
    "            logger.error(f\"Error loading context: {str(e)}\")\n",
    "            raise\n",
    "\n",
    "    def predict(self, context, model_input, params = None):\n",
    "        \"\"\"\n",
    "        Computes the predicted digit, by converting the base64 to a numpy array.\n",
    "        \"\"\"\n",
    "        try:\n",
    "            if isinstance(model_input, pd.DataFrame):\n",
    "                image_input = model_input.iloc[0, 0]\n",
    "            elif isinstance(model_input, list):\n",
    "                image_input = model_input[0]\n",
    "            else:\n",
    "                image_input = str(model_input)\n",
    "                \n",
    "            base64_string = base64_to_numpy(image_input)\n",
    "\n",
    "            predictions = self.model.predict(base64_string)\n",
    "\n",
    "            predicted_classes = np.argmax(predictions, axis = 1)\n",
    "            \n",
    "            return predicted_classes\n",
    "        \n",
    "        except Exception as e:\n",
    "            logger.error(f\"Error performing prediction: {str(e)}\")\n",
    "            raise\n",
    "    \n",
    "    @classmethod\n",
    "    def log_model(cls, model_name):\n",
    "        \"\"\"\n",
    "        Logs the model to MLflow with appropriate artifacts and schema.\n",
    "        \"\"\"\n",
    "        try:\n",
    "            # Define input and output schema\n",
    "            input_schema = Schema([\n",
    "                ColSpec(\"string\", name = \"digit\"),\n",
    "                ])\n",
    "            output_schema = Schema([\n",
    "                ColSpec(\"long\", name = \"prediction\"),\n",
    "            ])\n",
    "            \n",
    "            # Define model signature\n",
    "            signature = ModelSignature(inputs=input_schema, outputs=output_schema)\n",
    "            \n",
    "            # Log the model in MLflow\n",
    "            \n",
    "            mlflow.pyfunc.log_model(\n",
    "                    artifact_path=model_name,\n",
    "                    python_model=MNISTModel(model),\n",
    "                    signature=signature\n",
    "                    )\n",
    "\n",
    "        except Exception as e:\n",
    "            logger.error(f\"Error logging model: {str(e)}\")\n",
    "            raise   "
   ]
  },
  {
   "cell_type": "code",
   "execution_count": null,
   "id": "326467bc",
   "metadata": {},
   "outputs": [],
   "source": [
    "logger.info(f'Starting the experiment: {EXPERIMENT_NAME}')\n",
    "\n",
    "mlflow.set_tracking_uri('/phoenix/mlflow')\n",
    "# Set the MLflow experiment name\n",
    "mlflow.set_experiment(experiment_name=EXPERIMENT_NAME)\n",
    "\n",
    "# Start an MLflow run\n",
    "with mlflow.start_run(run_name=RUN_NAME) as run:\n",
    "    # Print the artifact URI for reference\n",
    "    logging.info(f\"Run's Artifact URI: {run.info.artifact_uri}\")\n",
    "    test_loss, test_accuracy = model.evaluate(x_test,y_cat_test, verbose = 0)\n",
    "    mlflow.log_metrics({\"test_accuracy\": test_accuracy})\n",
    "    mlflow.log_metrics({\"test_lost\": test_loss})\n",
    "\n",
    "    # Log the model to MLflow\n",
    "    MNISTModel.log_model(model_name=MODEL_NAME)\n",
    "\n",
    "    # Register the logged model in MLflow Model Registry\n",
    "    mlflow.register_model(\n",
    "        model_uri=f\"runs:/{run.info.run_id}/{MODEL_NAME}\", \n",
    "        name=MODEL_NAME\n",
    "    )\n",
    "\n",
    "logger.info(f'Registered the model: {MODEL_NAME}')"
   ]
  },
  {
   "cell_type": "markdown",
   "id": "68aee271",
   "metadata": {},
   "source": [
    "## Fetching the Latest Model Version from MLflow"
   ]
  },
  {
   "cell_type": "code",
   "execution_count": null,
   "id": "fefd78bc",
   "metadata": {},
   "outputs": [],
   "source": [
    "# Initialize the MLflow client\n",
    "client = MlflowClient()\n",
    "\n",
    "# Retrieve the latest version of the model\n",
    "model_metadata = client.get_latest_versions(MODEL_NAME, stages=[\"None\"])\n",
    "latest_model_version = model_metadata[0].version  # Extract the latest model version\n",
    "\n",
    "# Fetch model information, including its signature\n",
    "model_info = mlflow.models.get_model_info(f\"models:/{MODEL_NAME}/{latest_model_version}\")\n",
    "\n",
    "# Print the latest model version and its signature\n",
    "logger.info(f\"Latest Model Version: {latest_model_version}\")\n",
    "logger.info(f\"Model Signature: {model_info.signature}\")"
   ]
  },
  {
   "cell_type": "markdown",
   "id": "eb7d2315",
   "metadata": {},
   "source": [
    "## Loading the Model and Running Inference"
   ]
  },
  {
   "cell_type": "code",
   "execution_count": null,
   "id": "bb1dc539",
   "metadata": {},
   "outputs": [],
   "source": [
    "model = mlflow.pyfunc.load_model(model_uri=f\"models:/{MODEL_NAME}/{latest_model_version}\")\n",
    "\n",
    "# Base64 example\n",
    "base = \"/9j/4AAQSkZJRgABAQAAAQABAAD/2wBDAAgGBgcGBQgHBwcJCQgKDBQNDAsLDBkSEw8UHRofHh0aHBwgJC4nICIsIxwcKDcpLDAxNDQ0Hyc5PTgyPC4zNDL/wAALCAAcABwBAREA/8QAHwAAAQUBAQEBAQEAAAAAAAAAAAECAwQFBgcICQoL/8QAtRAAAgEDAwIEAwUFBAQAAAF9AQIDAAQRBRIhMUEGE1FhByJxFDKBkaEII0KxwRVS0fAkM2JyggkKFhcYGRolJicoKSo0NTY3ODk6Q0RFRkdISUpTVFVWV1hZWmNkZWZnaGlqc3R1dnd4eXqDhIWGh4iJipKTlJWWl5iZmqKjpKWmp6ipqrKztLW2t7i5usLDxMXGx8jJytLT1NXW19jZ2uHi4+Tl5ufo6erx8vP09fb3+Pn6/9oACAEBAAA/APn+prW0uL66itbSCSe4lbbHFEpZmPoAOtaWt+FtZ8Ox28mqWghS4LCNlmSQblxuU7GO1huGQcHnpWPRXoOiWF/pfhiwh0K2ln8R+JfMWNoh89vaK2w7f7pdg2Wzwq9sk1X+IY03SItJ8JabMLk6QsjX1wpOJLuQr5gHsuxQP/rVw1Fen+EfFmueF/AN3qkup3C2yMbPR7QkBXmbJkk9SsYOcfd3MK8yd3lkaSRizsSzMxyST1JptFXLnVb280+ysJ5y9rYhxbx4AEe9tzdBzk9z7elU6K//2Q==\"\n",
    "numpy_image = base64_to_numpy(base)\n",
    "# Image of the base64 example\n",
    "plt.imshow(numpy_image.squeeze(), cmap= 'gray') \n",
    "\n",
    "base_input = pd.DataFrame({\"digit\": [base]})\n",
    "# Prediction of base64\n",
    "predictions = model.predict(base_input)\n",
    "\n",
    "logger.info(f\"Predicted class: {predictions}\")"
   ]
  },
  {
   "cell_type": "code",
   "execution_count": null,
   "id": "5164c5ec",
   "metadata": {},
   "outputs": [],
   "source": [
    "end_time: float = time.time()\n",
    "elapsed_time: float = end_time - start_time\n",
    "elapsed_minutes: int = int(elapsed_time // 60)\n",
    "elapsed_seconds: float = elapsed_time % 60\n",
    "\n",
    "logger.info(f\"⏱️ Total execution time: {elapsed_minutes}m {elapsed_seconds:.2f}s\")\n",
    "logger.info(\"✅ Notebook execution completed successfully.\")"
   ]
  },
  {
   "cell_type": "markdown",
   "id": "3c014fa3",
   "metadata": {},
   "source": [
    "Built with ❤️ using [**Z by HP AI Studio**](https://zdocs.datascience.hp.com/docs/aistudio/overview)."
   ]
  }
 ],
 "metadata": {
  "language_info": {
   "name": "python"
  }
 },
 "nbformat": 4,
 "nbformat_minor": 5
}
