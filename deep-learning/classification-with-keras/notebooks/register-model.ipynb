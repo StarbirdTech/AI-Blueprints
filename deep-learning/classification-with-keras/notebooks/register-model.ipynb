{
 "cells": [
  {
   "cell_type": "markdown",
   "id": "84b69bee",
   "metadata": {},
   "source": [
    "<h1 style=\"text-align: center; font-size: 50px;\"> Handwritten digit classification with keras MLflow integration </h1>"
   ]
  },
  {
   "cell_type": "markdown",
   "id": "ac55612e",
   "metadata": {},
   "source": [
    "Notebook Overview\n",
    "- Start Execution\n",
    "- User Constants \n",
    "- Install and Import Libraries\n",
    "- Configure Settings\n",
    "- Logging Model to MLflow\n",
    "- Fetching the Latest Model Version from MLflow\n",
    "- Loading the Model and Running Inference\n"
   ]
  },
  {
   "cell_type": "markdown",
   "id": "5a614c02",
   "metadata": {},
   "source": [
    "## Start Execution"
   ]
  },
  {
   "cell_type": "code",
   "execution_count": 1,
   "id": "6ec1dcff-fdb1-4122-96af-42fb86ceee71",
   "metadata": {},
   "outputs": [
    {
     "name": "stdout",
     "output_type": "stream",
     "text": [
      "Note: you may need to restart the kernel to use updated packages.\n"
     ]
    }
   ],
   "source": [
    "%pip install -r ../requirements.txt --quiet"
   ]
  },
  {
   "cell_type": "code",
   "execution_count": 2,
   "id": "a681d0fb",
   "metadata": {},
   "outputs": [],
   "source": [
    "import logging\n",
    "import time\n",
    "\n",
    "# Configure logger\n",
    "logger: logging.Logger = logging.getLogger(\"register_model_logger\")\n",
    "logger.setLevel(logging.INFO)\n",
    "logger.propagate = False  # Prevent duplicate logs from parent loggers\n",
    "\n",
    "# Set formatter\n",
    "formatter: logging.Formatter = logging.Formatter(\n",
    "    fmt=\"%(asctime)s - %(levelname)s - %(message)s\",\n",
    "    datefmt=\"%Y-%m-%d %H:%M:%S\"\n",
    ")\n",
    "\n",
    "# Configure and attach stream handler\n",
    "stream_handler: logging.StreamHandler = logging.StreamHandler()\n",
    "stream_handler.setFormatter(formatter)\n",
    "logger.addHandler(stream_handler)"
   ]
  },
  {
   "cell_type": "code",
   "execution_count": null,
   "id": "654ed854",
   "metadata": {},
   "outputs": [
    {
     "name": "stderr",
     "output_type": "stream",
     "text": [
      "2025-07-30 23:14:42 - INFO - Notebook execution started.\n"
     ]
    }
   ],
   "source": [
    "start_time = time.time()  \n",
    "\n",
    "logger.info(\"Notebook execution started.\")"
   ]
  },
  {
   "cell_type": "markdown",
   "id": "0f225fb0",
   "metadata": {},
   "source": [
    "## User Constants"
   ]
  },
  {
   "cell_type": "code",
   "execution_count": 4,
   "id": "8bcec653",
   "metadata": {},
   "outputs": [],
   "source": [
    "DIGIT_BASE64 = \"/9j/4AAQSkZJRgABAQAAAQABAAD/2wBDAAgGBgcGBQgHBwcJCQgKDBQNDAsLDBkSEw8UHRofHh0aHBwgJC4nICIsIxwcKDcpLDAxNDQ0Hyc5PTgyPC4zNDL/wAALCAAcABwBAREA/8QAHwAAAQUBAQEBAQEAAAAAAAAAAAECAwQFBgcICQoL/8QAtRAAAgEDAwIEAwUFBAQAAAF9AQIDAAQRBRIhMUEGE1FhByJxFDKBkaEII0KxwRVS0fAkM2JyggkKFhcYGRolJicoKSo0NTY3ODk6Q0RFRkdISUpTVFVWV1hZWmNkZWZnaGlqc3R1dnd4eXqDhIWGh4iJipKTlJWWl5iZmqKjpKWmp6ipqrKztLW2t7i5usLDxMXGx8jJytLT1NXW19jZ2uHi4+Tl5ufo6erx8vP09fb3+Pn6/9oACAEBAAA/APn+prW0uL66itbSCSe4lbbHFEpZmPoAOtaWt+FtZ8Ox28mqWghS4LCNlmSQblxuU7GO1huGQcHnpWPRXoOiWF/pfhiwh0K2ln8R+JfMWNoh89vaK2w7f7pdg2Wzwq9sk1X+IY03SItJ8JabMLk6QsjX1wpOJLuQr5gHsuxQP/rVw1Fen+EfFmueF/AN3qkup3C2yMbPR7QkBXmbJkk9SsYOcfd3MK8yd3lkaSRizsSzMxyST1JptFXLnVb280+ysJ5y9rYhxbx4AEe9tzdBzk9z7elU6K//2Q==\""
   ]
  },
  {
   "cell_type": "markdown",
   "id": "e5b7ba27",
   "metadata": {},
   "source": [
    "## Install and Import Libraries"
   ]
  },
  {
   "cell_type": "code",
   "execution_count": 5,
   "id": "006f7912",
   "metadata": {},
   "outputs": [
    {
     "name": "stderr",
     "output_type": "stream",
     "text": [
      "2025-07-30 23:14:44.854399: I tensorflow/core/util/port.cc:153] oneDNN custom operations are on. You may see slightly different numerical results due to floating-point round-off errors from different computation orders. To turn them off, set the environment variable `TF_ENABLE_ONEDNN_OPTS=0`.\n",
      "2025-07-30 23:14:44.898210: E external/local_xla/xla/stream_executor/cuda/cuda_fft.cc:477] Unable to register cuFFT factory: Attempting to register factory for plugin cuFFT when one has already been registered\n",
      "WARNING: All log messages before absl::InitializeLog() is called are written to STDERR\n",
      "E0000 00:00:1753917284.940406    5008 cuda_dnn.cc:8310] Unable to register cuDNN factory: Attempting to register factory for plugin cuDNN when one has already been registered\n",
      "E0000 00:00:1753917284.959325    5008 cuda_blas.cc:1418] Unable to register cuBLAS factory: Attempting to register factory for plugin cuBLAS when one has already been registered\n",
      "2025-07-30 23:14:45.012698: I tensorflow/core/platform/cpu_feature_guard.cc:210] This TensorFlow binary is optimized to use available CPU instructions in performance-critical operations.\n",
      "To enable the following instructions: AVX2 AVX_VNNI FMA, in other operations, rebuild TensorFlow with the appropriate compiler flags.\n"
     ]
    }
   ],
   "source": [
    "from PIL import Image\n",
    "import base64\n",
    "from io import BytesIO\n",
    "import warnings                         \n",
    "import logging  \n",
    "import sys\n",
    "import os\n",
    "\n",
    "import numpy as np\n",
    "import pandas as pd  \n",
    "\n",
    "import matplotlib.pyplot as plt\n",
    "\n",
    "\n",
    "from tensorflow.keras.models import Sequential\n",
    "from tensorflow.keras.layers import Conv2D, MaxPool2D, Flatten, Dense\n",
    "from tensorflow.keras.utils import to_categorical\n",
    "from tensorflow.keras.datasets import mnist\n",
    "\n",
    "# ------------------------ MLflow Integration ------------------------\n",
    "import mlflow\n",
    "from mlflow import MlflowClient\n",
    "from mlflow.models.signature import ModelSignature\n",
    "from mlflow.types.schema import Schema, ColSpec\n",
    "\n",
    "\n",
    "# ------------------------ Utils Import ------------------------\n",
    "sys.path.append(\"../src\")\n",
    "from onnx_utils import ModelExportConfig\n",
    "from utils import load_config\n"
   ]
  },
  {
   "cell_type": "markdown",
   "id": "93a54160",
   "metadata": {},
   "source": [
    "## Configure Settings"
   ]
  },
  {
   "cell_type": "code",
   "execution_count": 6,
   "id": "533e5e56",
   "metadata": {},
   "outputs": [],
   "source": [
    "# ------------------------- MLflow Experiment Configuration -------------------------\n",
    "EXPERIMENT_NAME = 'MNIST with TensorFlow'\n",
    "RUN_NAME = \"MNIST_Run\"\n",
    "MODEL_NAME = \"MNIST_Model\"\n",
    "MODEL_PATH = \"model_keras_mnist.keras\""
   ]
  },
  {
   "cell_type": "code",
   "execution_count": 7,
   "id": "ff4cb7cb",
   "metadata": {},
   "outputs": [],
   "source": [
    "# Suppress Python warnings\n",
    "warnings.filterwarnings(\"ignore\")"
   ]
  },
  {
   "cell_type": "code",
   "execution_count": null,
   "id": "677de928-7830-4aae-90ed-0332ea50e1c7",
   "metadata": {},
   "outputs": [
    {
     "name": "stderr",
     "output_type": "stream",
     "text": [
      "2025-07-30 23:14:56 - INFO - ✅ Configuration loaded successfully\n"
     ]
    }
   ],
   "source": [
    "# Configuration paths\n",
    "CONFIG_PATH = \"../configs/config.yaml\" \n",
    "DEMO_FOLDER = \"../demo\"\n",
    "\n",
    "# Load configuration\n",
    "config = load_config(CONFIG_PATH)\n",
    "\n",
    "logger.info(\"✅ Configuration loaded successfully\")"
   ]
  },
  {
   "cell_type": "markdown",
   "id": "ce982fa3",
   "metadata": {},
   "source": [
    "## Logging Model to MLflow"
   ]
  },
  {
   "cell_type": "code",
   "execution_count": 9,
   "id": "9c6d53c6",
   "metadata": {},
   "outputs": [
    {
     "name": "stderr",
     "output_type": "stream",
     "text": [
      "/opt/conda/lib/python3.12/site-packages/mlflow/pyfunc/utils/data_validation.py:168: UserWarning: \u001b[33mAdd type hints to the `predict` method to enable data validation and automatic signature inference during model logging. Check https://mlflow.org/docs/latest/model/python_model.html#type-hint-usage-in-pythonmodel for more details.\u001b[0m\n",
      "  color_warning(\n"
     ]
    }
   ],
   "source": [
    "class MNISTModel(mlflow.pyfunc.PythonModel):\n",
    "    def load_context(self, context):\n",
    "        \"\"\"\n",
    "        Load model and configuration from artifacts.\n",
    "        \"\"\"\n",
    "        try:\n",
    "            import tensorflow as tf\n",
    "            import yaml\n",
    "            \n",
    "            # Load the model from artifacts\n",
    "            self.model = tf.keras.models.load_model(context.artifacts[\"mnist_model\"])\n",
    "            \n",
    "            # Load configuration from artifacts (like vanilla-rag does)\n",
    "            config_path = context.artifacts[\"config\"]\n",
    "            with open(config_path, 'r') as f:\n",
    "                self.config = yaml.safe_load(f)\n",
    "            \n",
    "            logger.info(\"✅ Model and configuration loaded successfully\")\n",
    "\n",
    "        except Exception as e:\n",
    "            logger.error(f\"❌ Error loading context: {str(e)}\")\n",
    "            raise\n",
    "\n",
    "    def predict(self, context, model_input, params=None):\n",
    "        \"\"\"\n",
    "        Computes the predicted digit, by converting the base64 to a numpy array.\n",
    "        \"\"\"\n",
    "        try:\n",
    "            if isinstance(model_input, pd.DataFrame):\n",
    "                image_input = model_input.iloc[0, 0]\n",
    "            elif isinstance(model_input, list):\n",
    "                image_input = model_input[0]\n",
    "            else:\n",
    "                image_input = str(model_input)\n",
    "                \n",
    "            base64_array = base64_to_numpy(image_input)\n",
    "\n",
    "            predictions = self.model.predict(base64_array)\n",
    "            predicted_classes = np.argmax(predictions, axis=1)\n",
    "            \n",
    "            return predicted_classes.tolist()\n",
    "        \n",
    "        except Exception as e:\n",
    "            logger.error(f\"❌ Error performing prediction: {str(e)}\")\n",
    "            raise\n",
    "    \n",
    "    @classmethod\n",
    "    def log_model(cls,artifact_path, config_path, demo_folder):\n",
    "        \"\"\"\n",
    "        Logs the model to MLflow with appropriate artifacts and schema (vanilla-rag pattern).\n",
    "        \"\"\"\n",
    "        \n",
    "        try:\n",
    "            sys.path.append(\"../src\")\n",
    "            from onnx_utils import ModelExportConfig,log_model\n",
    "            \n",
    "            # Define input and output schema\n",
    "            input_schema = Schema([\n",
    "                ColSpec(\"string\", name=\"digit\"),\n",
    "            ])\n",
    "            output_schema = Schema([\n",
    "                ColSpec(\"long\", name=\"prediction\"),\n",
    "            ])\n",
    "            \n",
    "            # Define model signature\n",
    "            signature = ModelSignature(inputs=input_schema, outputs=output_schema)\n",
    "            \n",
    "            # Save the model\n",
    "            model.save(MODEL_PATH)\n",
    "          \n",
    "            artifacts = {\n",
    "                \"mnist_model\": MODEL_PATH,\n",
    "                \"config\": config_path\n",
    "            }\n",
    "            \n",
    "            if demo_folder and os.path.exists(demo_folder):\n",
    "                artifacts[\"demo\"] = demo_folder\n",
    "                logger.info(f\"✅ Demo folder added to artifacts: {demo_folder}\")\n",
    "\n",
    "            model_configs= [\n",
    "                ModelExportConfig(\n",
    "                       model_path=MODEL_PATH,\n",
    "                       model_name=\"keras_converted\",\n",
    "                       input_shape=(None, 28, 28, 1),\n",
    "                )    \n",
    "            ]\n",
    "\n",
    "            log_model(\n",
    "                    artifact_path=artifact_path,\n",
    "                    python_model=cls(),\n",
    "                    artifacts=artifacts,\n",
    "                    signature=signature,\n",
    "                    models_to_convert_onnx=model_configs,\n",
    "                    pip_requirements=[\n",
    "                    \"tensorflow>=2.0.0\",\n",
    "                    \"numpy\",\n",
    "                    \"pillow\",\n",
    "                    \"streamlit>=1.28.0\",\n",
    "                    \"pyyaml\"\n",
    "                    ]\n",
    "                )\n",
    "            \n",
    "            logger.info(\"✅ Model and artifacts successfully registered in MLflow\")\n",
    "\n",
    "        except Exception as e:\n",
    "            logger.error(f\"❌ Error logging model: {str(e)}\")\n",
    "            raise"
   ]
  },
  {
   "cell_type": "code",
   "execution_count": 10,
   "id": "2366c25a",
   "metadata": {},
   "outputs": [
    {
     "name": "stderr",
     "output_type": "stream",
     "text": [
      "I0000 00:00:1753917298.086265    5008 gpu_device.cc:2022] Created device /job:localhost/replica:0/task:0/device:GPU:0 with 1768 MB memory:  -> device: 0, name: NVIDIA RTX A500 Laptop GPU, pci bus id: 0000:01:00.0, compute capability: 8.6\n"
     ]
    },
    {
     "name": "stdout",
     "output_type": "stream",
     "text": [
      "Epoch 1/4\n"
     ]
    },
    {
     "name": "stderr",
     "output_type": "stream",
     "text": [
      "WARNING: All log messages before absl::InitializeLog() is called are written to STDERR\n",
      "I0000 00:00:1753917303.641084    5078 service.cc:148] XLA service 0x7358d0004d30 initialized for platform CUDA (this does not guarantee that XLA will be used). Devices:\n",
      "I0000 00:00:1753917303.641406    5078 service.cc:156]   StreamExecutor device (0): NVIDIA RTX A500 Laptop GPU, Compute Capability 8.6\n",
      "2025-07-30 23:15:03.781647: I tensorflow/compiler/mlir/tensorflow/utils/dump_mlir_util.cc:268] disabling MLIR crash reproducer, set env var `MLIR_CRASH_REPRODUCER_DIRECTORY` to enable.\n",
      "I0000 00:00:1753917304.284137    5078 cuda_dnn.cc:529] Loaded cuDNN version 90300\n",
      "2025-07-30 23:15:05.670308: I external/local_xla/xla/stream_executor/cuda/cuda_asm_compiler.cc:397] ptxas warning : Registers are spilled to local memory in function 'gemm_fusion_dot_200', 4 bytes spill stores, 4 bytes spill loads\n",
      "\n"
     ]
    },
    {
     "name": "stdout",
     "output_type": "stream",
     "text": [
      "\u001b[1m   2/1875\u001b[0m \u001b[37m━━━━━━━━━━━━━━━━━━━━\u001b[0m \u001b[1m2:05\u001b[0m 67ms/step - accuracy: 0.0703 - loss: 2.3017      "
     ]
    },
    {
     "name": "stderr",
     "output_type": "stream",
     "text": [
      "I0000 00:00:1753917314.104221    5078 device_compiler.h:188] Compiled cluster using XLA!  This line is logged at most once for the lifetime of the process.\n"
     ]
    },
    {
     "name": "stdout",
     "output_type": "stream",
     "text": [
      "\u001b[1m1875/1875\u001b[0m \u001b[32m━━━━━━━━━━━━━━━━━━━━\u001b[0m\u001b[37m\u001b[0m \u001b[1m72s\u001b[0m 31ms/step - accuracy: 0.9163 - loss: 0.2746 - val_accuracy: 0.9791 - val_loss: 0.0640\n",
      "Epoch 2/4\n",
      "\u001b[1m1875/1875\u001b[0m \u001b[32m━━━━━━━━━━━━━━━━━━━━\u001b[0m\u001b[37m\u001b[0m \u001b[1m48s\u001b[0m 25ms/step - accuracy: 0.9844 - loss: 0.0481 - val_accuracy: 0.9811 - val_loss: 0.0564\n",
      "Epoch 3/4\n",
      "\u001b[1m1875/1875\u001b[0m \u001b[32m━━━━━━━━━━━━━━━━━━━━\u001b[0m\u001b[37m\u001b[0m \u001b[1m52s\u001b[0m 28ms/step - accuracy: 0.9907 - loss: 0.0301 - val_accuracy: 0.9884 - val_loss: 0.0348\n",
      "Epoch 4/4\n",
      "\u001b[1m1875/1875\u001b[0m \u001b[32m━━━━━━━━━━━━━━━━━━━━\u001b[0m\u001b[37m\u001b[0m \u001b[1m46s\u001b[0m 24ms/step - accuracy: 0.9942 - loss: 0.0186 - val_accuracy: 0.9887 - val_loss: 0.0361\n"
     ]
    },
    {
     "data": {
      "text/plain": [
       "<keras.src.callbacks.history.History at 0x735a63037dd0>"
      ]
     },
     "execution_count": 10,
     "metadata": {},
     "output_type": "execute_result"
    }
   ],
   "source": [
    "# Load and preprocess MNIST data\n",
    "(x_train, y_train), (x_test, y_test) = mnist.load_data()\n",
    "x_train = x_train.reshape(-1, 28, 28, 1).astype(\"float32\") / 255.0\n",
    "x_test = x_test.reshape(-1, 28, 28, 1).astype(\"float32\") / 255.0\n",
    "y_cat_train = to_categorical(y_train, 10)\n",
    "y_cat_test = to_categorical(y_test, 10)\n",
    "\n",
    "# Build a simple CNN model\n",
    "model = Sequential([\n",
    "    Conv2D(32, kernel_size=(4, 4), activation='relu', input_shape=(28, 28, 1)),\n",
    "    MaxPool2D(pool_size=(2, 2)),\n",
    "    Flatten(),\n",
    "    Dense(128, activation='relu'),\n",
    "    Dense(10, activation='softmax')\n",
    "])\n",
    "\n",
    "model.compile(optimizer='adam', loss='categorical_crossentropy', metrics=['accuracy'])\n",
    "model.fit(x_train, y_cat_train, epochs=4, validation_data=(x_test, y_cat_test))"
   ]
  },
  {
   "cell_type": "code",
   "execution_count": 11,
   "id": "213e83e7",
   "metadata": {},
   "outputs": [],
   "source": [
    "def base64_to_numpy(base64_string):\n",
    "    \"\"\"\n",
    "    Convert base64 string to numpy array for MNIST digit prediction.\n",
    "    \"\"\"\n",
    "    try:\n",
    "        # Decode the base64 string\n",
    "        image_data = base64.b64decode(base64_string)\n",
    "        \n",
    "        # Open the image using PIL\n",
    "        image = Image.open(BytesIO(image_data))\n",
    "        \n",
    "        # Convert to grayscale if not already\n",
    "        if image.mode != 'L':\n",
    "            image = image.convert('L')\n",
    "        \n",
    "        # Resize to 28x28 if needed\n",
    "        if image.size != (28, 28):\n",
    "            image = image.resize((28, 28))\n",
    "        \n",
    "        # Convert to numpy array\n",
    "        numpy_array = np.array(image)\n",
    "        \n",
    "        # Normalize pixel values to 0-1 range\n",
    "        numpy_array = numpy_array.astype('float32') / 255.0\n",
    "        \n",
    "        # Reshape for model input (1, 28, 28, 1)\n",
    "        numpy_array = numpy_array.reshape(1, 28, 28, 1)\n",
    "        \n",
    "        return numpy_array\n",
    "        \n",
    "    except Exception as e:\n",
    "        logger.error(f\"Error converting base64 to numpy: {str(e)}\")\n",
    "        raise"
   ]
  },
  {
   "cell_type": "code",
   "execution_count": 12,
   "id": "326467bc",
   "metadata": {},
   "outputs": [
    {
     "name": "stderr",
     "output_type": "stream",
     "text": [
      "2025-07-30 23:18:37 - INFO - 🚀 Starting the experiment: MNIST with TensorFlow\n",
      "2025-07-30 23:18:40 - INFO - 📁 Run's Artifact URI: /phoenix/mlflow/999571145261950321/e179bd65bd764cf4bbdcbabd56e1c24c/artifacts\n",
      "2025-07-30 23:18:47 - INFO - 📊 Test accuracy: 0.9887\n",
      "2025-07-30 23:18:47 - INFO - ✅ Demo folder added to artifacts: ../demo\n"
     ]
    },
    {
     "name": "stdout",
     "output_type": "stream",
     "text": [
      "Converting model with input shape: (None, 28, 28, 1)\n",
      "Attempting direct conversion from Keras model...\n"
     ]
    },
    {
     "name": "stderr",
     "output_type": "stream",
     "text": [
      "I0000 00:00:1753917530.428167    5008 devices.cc:67] Number of eligible GPUs (core count >= 8, compute capability >= 0.0): 1\n",
      "I0000 00:00:1753917530.429837    5008 single_machine.cc:361] Starting new session\n",
      "I0000 00:00:1753917530.440837    5008 gpu_device.cc:2022] Created device /job:localhost/replica:0/task:0/device:GPU:0 with 1768 MB memory:  -> device: 0, name: NVIDIA RTX A500 Laptop GPU, pci bus id: 0000:01:00.0, compute capability: 8.6\n",
      "I0000 00:00:1753917531.014947    5008 gpu_device.cc:2022] Created device /job:localhost/replica:0/task:0/device:GPU:0 with 1768 MB memory:  -> device: 0, name: NVIDIA RTX A500 Laptop GPU, pci bus id: 0000:01:00.0, compute capability: 8.6\n",
      "I0000 00:00:1753917531.318392    5008 devices.cc:67] Number of eligible GPUs (core count >= 8, compute capability >= 0.0): 1\n",
      "I0000 00:00:1753917531.322444    5008 single_machine.cc:361] Starting new session\n",
      "I0000 00:00:1753917531.328303    5008 gpu_device.cc:2022] Created device /job:localhost/replica:0/task:0/device:GPU:0 with 1768 MB memory:  -> device: 0, name: NVIDIA RTX A500 Laptop GPU, pci bus id: 0000:01:00.0, compute capability: 8.6\n"
     ]
    },
    {
     "name": "stdout",
     "output_type": "stream",
     "text": [
      "✅ Direct conversion successful!\n",
      "Model saved to ONNX: keras_converted.onnx\n",
      "✅ ONNX model saved to: keras_converted.onnx\n"
     ]
    },
    {
     "data": {
      "application/vnd.jupyter.widget-view+json": {
       "model_id": "f1f79f196edf416d989533bfe9638ffa",
       "version_major": 2,
       "version_minor": 0
      },
      "text/plain": [
       "Downloading artifacts:   0%|          | 0/1 [00:00<?, ?it/s]"
      ]
     },
     "metadata": {},
     "output_type": "display_data"
    },
    {
     "data": {
      "application/vnd.jupyter.widget-view+json": {
       "model_id": "b9df0da993b44edb91a7c6d9f65a5731",
       "version_major": 2,
       "version_minor": 0
      },
      "text/plain": [
       "Downloading artifacts:   0%|          | 0/1 [00:00<?, ?it/s]"
      ]
     },
     "metadata": {},
     "output_type": "display_data"
    },
    {
     "data": {
      "application/vnd.jupyter.widget-view+json": {
       "model_id": "f1c16e560d5c4d09bf0295a2dd046a7c",
       "version_major": 2,
       "version_minor": 0
      },
      "text/plain": [
       "Downloading artifacts:   0%|          | 0/7 [00:00<?, ?it/s]"
      ]
     },
     "metadata": {},
     "output_type": "display_data"
    },
    {
     "data": {
      "application/vnd.jupyter.widget-view+json": {
       "model_id": "0a3a5d0bf9864f6299e43f07c716107d",
       "version_major": 2,
       "version_minor": 0
      },
      "text/plain": [
       "Downloading artifacts:   0%|          | 0/1 [00:00<?, ?it/s]"
      ]
     },
     "metadata": {},
     "output_type": "display_data"
    },
    {
     "data": {
      "application/vnd.jupyter.widget-view+json": {
       "model_id": "83bf53acc149434e86f1f2934a943073",
       "version_major": 2,
       "version_minor": 0
      },
      "text/plain": [
       "Downloading artifacts:   0%|          | 0/1 [00:00<?, ?it/s]"
      ]
     },
     "metadata": {},
     "output_type": "display_data"
    },
    {
     "name": "stderr",
     "output_type": "stream",
     "text": [
      "2025/07/30 23:18:55 WARNING mlflow.utils.requirements_utils: Detected one or more mismatches between the model's dependencies and the current Python environment:\n",
      " - streamlit (current: uninstalled, required: streamlit>=1.28.0)\n",
      "To fix the mismatches, call `mlflow.pyfunc.get_model_dependencies(model_uri)` to fetch the model's environment and install dependencies using the resulting environment file.\n",
      "2025-07-30 23:18:58 - INFO - ✅ Model and artifacts successfully registered in MLflow\n",
      "Registered model 'MNIST_Model' already exists. Creating a new version of this model...\n",
      "Created version '8' of model 'MNIST_Model'.\n",
      "2025-07-30 23:19:01 - INFO - ✅ Model registered successfully with run ID: e179bd65bd764cf4bbdcbabd56e1c24c\n"
     ]
    }
   ],
   "source": [
    "logger.info(f'🚀 Starting the experiment: {EXPERIMENT_NAME}')\n",
    "\n",
    "mlflow.set_tracking_uri('/phoenix/mlflow')\n",
    "# Set the MLflow experiment name\n",
    "mlflow.set_experiment(experiment_name=EXPERIMENT_NAME)\n",
    "\n",
    "# Start an MLflow run\n",
    "with mlflow.start_run(run_name=RUN_NAME) as run:\n",
    "    # Print the artifact URI for reference\n",
    "    logger.info(f\"📁 Run's Artifact URI: {run.info.artifact_uri}\")\n",
    "    \n",
    "    # Evaluate model\n",
    "    test_loss, test_accuracy = model.evaluate(x_test, y_cat_test, verbose=0)\n",
    "    mlflow.log_metrics({\"test_accuracy\": test_accuracy})\n",
    "    mlflow.log_metrics({\"test_loss\": test_loss})\n",
    "    \n",
    "    logger.info(f\"📊 Test accuracy: {test_accuracy:.4f}\")\n",
    "\n",
    "    # Log the model to MLflow using vanilla-rag pattern\n",
    "    MNISTModel.log_model(\n",
    "        artifact_path=MODEL_NAME,\n",
    "        config_path=CONFIG_PATH,\n",
    "        demo_folder=DEMO_FOLDER\n",
    "    )\n",
    "\n",
    "    # Register the logged model in MLflow Model Registry\n",
    "    model_uri = f\"runs:/{run.info.run_id}/{MODEL_NAME}\"\n",
    "    mlflow.register_model(\n",
    "        model_uri=model_uri,\n",
    "        name=MODEL_NAME\n",
    "    )\n",
    "    \n",
    "    logger.info(f\"✅ Model registered successfully with run ID: {run.info.run_id}\")"
   ]
  },
  {
   "cell_type": "markdown",
   "id": "68aee271",
   "metadata": {},
   "source": [
    "## Fetching the Latest Model Version from MLflow"
   ]
  },
  {
   "cell_type": "code",
   "execution_count": 13,
   "id": "fefd78bc",
   "metadata": {},
   "outputs": [
    {
     "name": "stderr",
     "output_type": "stream",
     "text": [
      "2025-07-30 23:19:05 - INFO - Latest Model Version: 8\n",
      "2025-07-30 23:19:05 - INFO - Model Signature: inputs: \n",
      "  ['digit': string (required)]\n",
      "outputs: \n",
      "  ['prediction': long (required)]\n",
      "params: \n",
      "  None\n",
      "\n"
     ]
    }
   ],
   "source": [
    "# Initialize the MLflow client\n",
    "client = MlflowClient()\n",
    "\n",
    "# Retrieve the latest version of the model\n",
    "model_metadata = client.get_latest_versions(MODEL_NAME, stages=[\"None\"])\n",
    "latest_model_version = model_metadata[0].version  # Extract the latest model version\n",
    "\n",
    "# Fetch model information, including its signature\n",
    "model_info = mlflow.models.get_model_info(f\"models:/{MODEL_NAME}/{latest_model_version}\")\n",
    "\n",
    "# Print the latest model version and its signature\n",
    "logger.info(f\"Latest Model Version: {latest_model_version}\")\n",
    "logger.info(f\"Model Signature: {model_info.signature}\")"
   ]
  },
  {
   "cell_type": "markdown",
   "id": "eb7d2315",
   "metadata": {},
   "source": [
    "## Loading the Model and Running Inference"
   ]
  },
  {
   "cell_type": "code",
   "execution_count": 14,
   "id": "bb1dc539",
   "metadata": {},
   "outputs": [
    {
     "name": "stderr",
     "output_type": "stream",
     "text": [
      "2025/07/30 23:19:05 WARNING mlflow.utils.requirements_utils: Detected one or more mismatches between the model's dependencies and the current Python environment:\n",
      " - streamlit (current: uninstalled, required: streamlit>=1.28.0)\n",
      "To fix the mismatches, call `mlflow.pyfunc.get_model_dependencies(model_uri)` to fetch the model's environment and install dependencies using the resulting environment file.\n",
      "2025-07-30 23:19:06 - INFO - ✅ Model and configuration loaded successfully\n"
     ]
    },
    {
     "name": "stdout",
     "output_type": "stream",
     "text": [
      "\u001b[1m1/1\u001b[0m \u001b[32m━━━━━━━━━━━━━━━━━━━━\u001b[0m\u001b[37m\u001b[0m \u001b[1m1s\u001b[0m 742ms/step\n"
     ]
    },
    {
     "name": "stderr",
     "output_type": "stream",
     "text": [
      "2025-07-30 23:19:07 - INFO - Predicted class: [9]\n"
     ]
    },
    {
     "data": {
      "image/png": "[encoded data removed]",
      "text/plain": [
       "<Figure size 640x480 with 1 Axes>"
      ]
     },
     "metadata": {},
     "output_type": "display_data"
    }
   ],
   "source": [
    "model = mlflow.pyfunc.load_model(model_uri=f\"models:/{MODEL_NAME}/{latest_model_version}\")\n",
    "\n",
    "# Base64 example\n",
    "base = DIGIT_BASE64\n",
    "numpy_image = base64_to_numpy(base)\n",
    "# Image of the base64 example\n",
    "plt.imshow(numpy_image.squeeze(), cmap= 'gray') \n",
    "\n",
    "base_input = pd.DataFrame({\"digit\": [base]})\n",
    "# Prediction of base64\n",
    "predictions = model.predict(base_input)\n",
    "\n",
    "logger.info(f\"Predicted class: {predictions}\")"
   ]
  },
  {
   "cell_type": "code",
   "execution_count": 15,
   "id": "5164c5ec",
   "metadata": {},
   "outputs": [
    {
     "name": "stderr",
     "output_type": "stream",
     "text": [
      "2025-07-30 23:19:07 - INFO - ⏱️ Total execution time: 4m 24.68s\n",
      "2025-07-30 23:19:07 - INFO - ✅ Notebook execution completed successfully.\n"
     ]
    }
   ],
   "source": [
    "end_time: float = time.time()\n",
    "elapsed_time: float = end_time - start_time\n",
    "elapsed_minutes: int = int(elapsed_time // 60)\n",
    "elapsed_seconds: float = elapsed_time % 60\n",
    "\n",
    "logger.info(f\"⏱️ Total execution time: {elapsed_minutes}m {elapsed_seconds:.2f}s\")\n",
    "logger.info(\"✅ Notebook execution completed successfully.\")"
   ]
  },
  {
   "cell_type": "markdown",
   "id": "3c014fa3",
   "metadata": {},
   "source": [
    "Built with ❤️ using [**Z by HP AI Studio**](https://zdocs.datascience.hp.com/docs/aistudio/overview)."
   ]
  }
 ],
 "metadata": {
  "kernelspec": {
   "display_name": "Python [conda env:base] *",
   "language": "python",
   "name": "conda-base-py"
  },
  "language_info": {
   "codemirror_mode": {
    "name": "ipython",
    "version": 3
   },
   "file_extension": ".py",
   "mimetype": "text/x-python",
   "name": "python",
   "nbconvert_exporter": "python",
   "pygments_lexer": "ipython3",
   "version": "3.12.7"
  }
 },
 "nbformat": 4,
 "nbformat_minor": 5
}
