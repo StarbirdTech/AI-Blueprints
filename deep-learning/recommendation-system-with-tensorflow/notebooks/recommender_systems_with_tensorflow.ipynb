{
 "cells": [
  {
   "cell_type": "markdown",
   "metadata": {},
   "source": [
    "<h1 style=\\\"text-align: center; font-size: 50px;\\\">🎥 Advanced Recommender Systems with Tensorflow </h1>\n",
    "This notebook builds a simple recommender system for movies using TensorFlow. It trains on user-item interaction data to predict movie preferences"
   ]
  },
  {
   "cell_type": "markdown",
   "metadata": {},
   "source": [
    "## Notebook Overview\n",
    "- Imports\n",
    "- Configurations\n",
    "- Loading Data\n",
    "- Exploratory Data Analysis 📊\n",
    "- Modeling using Memory-Based Collaborative Filtering \n",
    "- Memory-Based Collaborative Filtering\n",
    "- Model-based Collaborative Filtering\n",
    "- Logging Model to MLflow\n",
    "- Fetching the Latest Model Version from MLflow\n",
    "- Loading the Model and Running Inference"
   ]
  },
  {
   "cell_type": "markdown",
   "metadata": {},
   "source": [
    "## Imports"
   ]
  },
  {
   "cell_type": "code",
   "execution_count": 1,
   "metadata": {},
   "outputs": [
    {
     "name": "stderr",
     "output_type": "stream",
     "text": [
      "2025-06-02 16:37:19.403740: I tensorflow/core/util/port.cc:153] oneDNN custom operations are on. You may see slightly different numerical results due to floating-point round-off errors from different computation orders. To turn them off, set the environment variable `TF_ENABLE_ONEDNN_OPTS=0`.\n",
      "2025-06-02 16:37:19.502251: E external/local_xla/xla/stream_executor/cuda/cuda_fft.cc:477] Unable to register cuFFT factory: Attempting to register factory for plugin cuFFT when one has already been registered\n",
      "WARNING: All log messages before absl::InitializeLog() is called are written to STDERR\n",
      "E0000 00:00:1748882239.542517     562 cuda_dnn.cc:8310] Unable to register cuDNN factory: Attempting to register factory for plugin cuDNN when one has already been registered\n",
      "E0000 00:00:1748882239.553316     562 cuda_blas.cc:1418] Unable to register cuBLAS factory: Attempting to register factory for plugin cuBLAS when one has already been registered\n",
      "2025-06-02 16:37:19.639011: I tensorflow/core/platform/cpu_feature_guard.cc:210] This TensorFlow binary is optimized to use available CPU instructions in performance-critical operations.\n",
      "To enable the following instructions: AVX2 AVX_VNNI FMA, in other operations, rebuild TensorFlow with the appropriate compiler flags.\n"
     ]
    }
   ],
   "source": [
    "# ------------------------ Data Manipulation ------------------------\n",
    "import numpy as np\n",
    "import pandas as pd\n",
    "\n",
    "# # ------------------------ Statistical and Machine Learning tools ------------------------\n",
    "from sklearn.model_selection import train_test_split\n",
    "from sklearn.metrics.pairwise import pairwise_distances\n",
    "from sklearn.metrics import mean_squared_error\n",
    "from math import sqrt\n",
    "import scipy.sparse as sp\n",
    "from scipy.sparse.linalg import svds\n",
    "\n",
    "# ------------------------ Deep learning framework ------------------------\n",
    "import tensorflow as tf\n",
    "from tensorflow.keras.callbacks import TensorBoard\n",
    "\n",
    "# ------------------------ System Utilities ------------------------\n",
    "import os\n",
    "import warnings\n",
    "import logging\n",
    "import datetime\n",
    "from pathlib import Path\n",
    "\n",
    "# ------------------------ Visualization Libraries ------------------------\n",
    "import matplotlib.pyplot as plt\n",
    "\n",
    "# ------------------------ MLflow Integration ------------------------\n",
    "import mlflow\n",
    "from mlflow import MlflowClient\n",
    "from mlflow.types.schema import Schema, ColSpec\n",
    "from mlflow.models import ModelSignature"
   ]
  },
  {
   "cell_type": "markdown",
   "metadata": {},
   "source": [
    "## Configurations"
   ]
  },
  {
   "cell_type": "code",
   "execution_count": 2,
   "metadata": {},
   "outputs": [],
   "source": [
    "# Suppress Python warnings\n",
    "warnings.filterwarnings(\"ignore\")"
   ]
  },
  {
   "cell_type": "code",
   "execution_count": 3,
   "metadata": {},
   "outputs": [],
   "source": [
    "# Create logger\n",
    "logger = logging.getLogger(\"recommender_logger\")\n",
    "logger.setLevel(logging.INFO)\n",
    "\n",
    "formatter = logging.Formatter(\"%(asctime)s - %(levelname)s - %(message)s\", \n",
    "                              datefmt=\"%Y-%m-%d %H:%M:%S\")  \n",
    "\n",
    "stream_handler = logging.StreamHandler()\n",
    "stream_handler.setFormatter(formatter)\n",
    "logger.addHandler(stream_handler)\n",
    "logger.propagate = False"
   ]
  },
  {
   "cell_type": "code",
   "execution_count": 4,
   "metadata": {},
   "outputs": [],
   "source": [
    "# ------------------------- Paths -------------------------\n",
    "DATA_PATH = \"/home/jovyan/datafabric/tutorial/\"\n",
    "LOG_DIR = \"/phoenix/tensorboard/tensorlogs/\"\n",
    "OUTPUT_DIR = \"../model_artifacts\"\n",
    "ARTIFACT_PATH = \"movie_recommender_model\"\n",
    "# Name of the MLflow experiment for tracking performance and metrics\n",
    "EXPERIMENT_NAME = \"MovieRecommenderExperiment\"\n",
    "RUN_NAME = \"Movie_Recommender_Run\"\n",
    "MODEL_NAME = \"Movie_Recommender_Model\""
   ]
  },
  {
   "cell_type": "code",
   "execution_count": 5,
   "metadata": {},
   "outputs": [
    {
     "name": "stderr",
     "output_type": "stream",
     "text": [
      "2025-06-02 16:37:22 - INFO - Notebook execution started.\n"
     ]
    }
   ],
   "source": [
    "logger.info('Notebook execution started.')"
   ]
  },
  {
   "cell_type": "markdown",
   "metadata": {},
   "source": [
    "## Verify Assets"
   ]
  },
  {
   "cell_type": "code",
   "execution_count": 6,
   "metadata": {},
   "outputs": [
    {
     "name": "stderr",
     "output_type": "stream",
     "text": [
      "2025-06-02 16:37:22 - INFO - The Dataset is properly configured.\n"
     ]
    }
   ],
   "source": [
    "# Check whether the Dataset file exists\n",
    "is_dataset_available = Path(DATA_PATH).exists()\n",
    "\n",
    "# Log the configuration status of the dataset\n",
    "if is_dataset_available:\n",
    "    logger.info(\"The Dataset is properly configured.\")\n",
    "else:\n",
    "    logger.info(\n",
    "        \"The Dataset is not properly configured. Please create and download the required assets \"\n",
    "        \"in your project on AI Studio.\"\n",
    "    )"
   ]
  },
  {
   "cell_type": "markdown",
   "metadata": {},
   "source": [
    "## Loading Data"
   ]
  },
  {
   "cell_type": "code",
   "execution_count": 7,
   "metadata": {},
   "outputs": [],
   "source": [
    "asset_folder = DATA_PATH"
   ]
  },
  {
   "cell_type": "markdown",
   "metadata": {},
   "source": [
    "### [MovieLens100K](https://files.grouplens.org/datasets/movielens/ml-100k-README.txt)"
   ]
  },
  {
   "cell_type": "markdown",
   "metadata": {},
   "source": [
    "#### `u.data:` dataset containing user interactions with items that identifies movies.\n",
    "**Columns** \n",
    "\n",
    "- `user_id:` A unique identifier for each user.\n",
    "\n",
    "- `item_id:` A unique identifier for each item (a movie, in this case).\n",
    "\n",
    "- `rating:` The rating given by the user to the item. It is usually on a scale (e.g., 1 to 5).\n",
    "\n",
    "- `timestamp:` The timestamp indicating when the rating was given."
   ]
  },
  {
   "cell_type": "code",
   "execution_count": 8,
   "metadata": {
    "collapsed": false,
    "jupyter": {
     "outputs_hidden": false
    }
   },
   "outputs": [],
   "source": [
    "column_names = ['user_id', 'item_id', 'rating', 'timestamp']\n",
    "df = pd.read_csv(f\"{asset_folder}ml-100k/u.data\", sep='\\t', names=column_names)"
   ]
  },
  {
   "cell_type": "code",
   "execution_count": 9,
   "metadata": {
    "collapsed": false,
    "jupyter": {
     "outputs_hidden": false
    }
   },
   "outputs": [
    {
     "data": {
      "text/html": [
       "<div>\n",
       "<style scoped>\n",
       "    .dataframe tbody tr th:only-of-type {\n",
       "        vertical-align: middle;\n",
       "    }\n",
       "\n",
       "    .dataframe tbody tr th {\n",
       "        vertical-align: top;\n",
       "    }\n",
       "\n",
       "    .dataframe thead th {\n",
       "        text-align: right;\n",
       "    }\n",
       "</style>\n",
       "<table border=\"1\" class=\"dataframe\">\n",
       "  <thead>\n",
       "    <tr style=\"text-align: right;\">\n",
       "      <th></th>\n",
       "      <th>user_id</th>\n",
       "      <th>item_id</th>\n",
       "      <th>rating</th>\n",
       "      <th>timestamp</th>\n",
       "    </tr>\n",
       "  </thead>\n",
       "  <tbody>\n",
       "    <tr>\n",
       "      <th>0</th>\n",
       "      <td>196</td>\n",
       "      <td>242</td>\n",
       "      <td>3</td>\n",
       "      <td>881250949</td>\n",
       "    </tr>\n",
       "    <tr>\n",
       "      <th>1</th>\n",
       "      <td>186</td>\n",
       "      <td>302</td>\n",
       "      <td>3</td>\n",
       "      <td>891717742</td>\n",
       "    </tr>\n",
       "    <tr>\n",
       "      <th>2</th>\n",
       "      <td>22</td>\n",
       "      <td>377</td>\n",
       "      <td>1</td>\n",
       "      <td>878887116</td>\n",
       "    </tr>\n",
       "    <tr>\n",
       "      <th>3</th>\n",
       "      <td>244</td>\n",
       "      <td>51</td>\n",
       "      <td>2</td>\n",
       "      <td>880606923</td>\n",
       "    </tr>\n",
       "    <tr>\n",
       "      <th>4</th>\n",
       "      <td>166</td>\n",
       "      <td>346</td>\n",
       "      <td>1</td>\n",
       "      <td>886397596</td>\n",
       "    </tr>\n",
       "  </tbody>\n",
       "</table>\n",
       "</div>"
      ],
      "text/plain": [
       "   user_id  item_id  rating  timestamp\n",
       "0      196      242       3  881250949\n",
       "1      186      302       3  891717742\n",
       "2       22      377       1  878887116\n",
       "3      244       51       2  880606923\n",
       "4      166      346       1  886397596"
      ]
     },
     "execution_count": 9,
     "metadata": {},
     "output_type": "execute_result"
    }
   ],
   "source": [
    "df.head()"
   ]
  },
  {
   "cell_type": "markdown",
   "metadata": {},
   "source": [
    "**Note we only have the item_id, not the movie name. We can use the `Movie_ID_Titles.data` file to grab the movie names and merge into a unique DataFrame:**"
   ]
  },
  {
   "cell_type": "markdown",
   "metadata": {},
   "source": [
    "#### `Movie_Id_Titles:` dataset containing movie titles corresponding to the item IDs in the `u.data` file. \n",
    "\n",
    "**Columns** \n",
    "\n",
    "- `item_id:` A unique identifier for each movie.\n",
    "\n",
    "- `title:` The title of the movie, including its release year."
   ]
  },
  {
   "cell_type": "code",
   "execution_count": 10,
   "metadata": {
    "collapsed": false,
    "jupyter": {
     "outputs_hidden": false
    }
   },
   "outputs": [
    {
     "data": {
      "text/html": [
       "<div>\n",
       "<style scoped>\n",
       "    .dataframe tbody tr th:only-of-type {\n",
       "        vertical-align: middle;\n",
       "    }\n",
       "\n",
       "    .dataframe tbody tr th {\n",
       "        vertical-align: top;\n",
       "    }\n",
       "\n",
       "    .dataframe thead th {\n",
       "        text-align: right;\n",
       "    }\n",
       "</style>\n",
       "<table border=\"1\" class=\"dataframe\">\n",
       "  <thead>\n",
       "    <tr style=\"text-align: right;\">\n",
       "      <th></th>\n",
       "      <th>item_id</th>\n",
       "      <th>title</th>\n",
       "    </tr>\n",
       "  </thead>\n",
       "  <tbody>\n",
       "    <tr>\n",
       "      <th>0</th>\n",
       "      <td>1</td>\n",
       "      <td>Toy Story (1995)</td>\n",
       "    </tr>\n",
       "    <tr>\n",
       "      <th>1</th>\n",
       "      <td>2</td>\n",
       "      <td>GoldenEye (1995)</td>\n",
       "    </tr>\n",
       "  </tbody>\n",
       "</table>\n",
       "</div>"
      ],
      "text/plain": [
       "   item_id             title\n",
       "0        1  Toy Story (1995)\n",
       "1        2  GoldenEye (1995)"
      ]
     },
     "execution_count": 10,
     "metadata": {},
     "output_type": "execute_result"
    }
   ],
   "source": [
    "movie_titles = pd.read_csv(f\"{asset_folder}Movie_Id_Titles.csv\")\n",
    "movie_titles.head(2)"
   ]
  },
  {
   "cell_type": "markdown",
   "metadata": {},
   "source": [
    "Then merge the dataframes:"
   ]
  },
  {
   "cell_type": "code",
   "execution_count": 11,
   "metadata": {
    "collapsed": false,
    "jupyter": {
     "outputs_hidden": false
    },
    "scrolled": true
   },
   "outputs": [],
   "source": [
    "df = pd.merge(df,movie_titles,on='item_id')"
   ]
  },
  {
   "cell_type": "markdown",
   "metadata": {},
   "source": [
    "##### Final DataFrame"
   ]
  },
  {
   "cell_type": "code",
   "execution_count": 12,
   "metadata": {},
   "outputs": [
    {
     "data": {
      "text/html": [
       "<div>\n",
       "<style scoped>\n",
       "    .dataframe tbody tr th:only-of-type {\n",
       "        vertical-align: middle;\n",
       "    }\n",
       "\n",
       "    .dataframe tbody tr th {\n",
       "        vertical-align: top;\n",
       "    }\n",
       "\n",
       "    .dataframe thead th {\n",
       "        text-align: right;\n",
       "    }\n",
       "</style>\n",
       "<table border=\"1\" class=\"dataframe\">\n",
       "  <thead>\n",
       "    <tr style=\"text-align: right;\">\n",
       "      <th></th>\n",
       "      <th>user_id</th>\n",
       "      <th>item_id</th>\n",
       "      <th>rating</th>\n",
       "      <th>timestamp</th>\n",
       "      <th>title</th>\n",
       "    </tr>\n",
       "  </thead>\n",
       "  <tbody>\n",
       "    <tr>\n",
       "      <th>61379</th>\n",
       "      <td>583</td>\n",
       "      <td>530</td>\n",
       "      <td>4</td>\n",
       "      <td>879384404</td>\n",
       "      <td>Man Who Would Be King, The (1975)</td>\n",
       "    </tr>\n",
       "    <tr>\n",
       "      <th>16319</th>\n",
       "      <td>393</td>\n",
       "      <td>233</td>\n",
       "      <td>3</td>\n",
       "      <td>889730460</td>\n",
       "      <td>Under Siege (1992)</td>\n",
       "    </tr>\n",
       "  </tbody>\n",
       "</table>\n",
       "</div>"
      ],
      "text/plain": [
       "       user_id  item_id  rating  timestamp                              title\n",
       "61379      583      530       4  879384404  Man Who Would Be King, The (1975)\n",
       "16319      393      233       3  889730460                 Under Siege (1992)"
      ]
     },
     "metadata": {},
     "output_type": "display_data"
    },
    {
     "data": {
      "text/plain": [
       "(100000, 5)"
      ]
     },
     "metadata": {},
     "output_type": "display_data"
    }
   ],
   "source": [
    "display(df.sample(2))\n",
    "display(df.shape)"
   ]
  },
  {
   "cell_type": "markdown",
   "metadata": {},
   "source": [
    "Now, we have a total of 100003 rows and 5 columns in our DataFrame. Let's explore it! 😎"
   ]
  },
  {
   "cell_type": "markdown",
   "metadata": {},
   "source": [
    "## Exploratory Data Analysis 📊"
   ]
  },
  {
   "cell_type": "code",
   "execution_count": 13,
   "metadata": {
    "collapsed": false,
    "jupyter": {
     "outputs_hidden": false
    }
   },
   "outputs": [
    {
     "name": "stderr",
     "output_type": "stream",
     "text": [
      "2025-06-02 16:37:22 - INFO - The dataset contains 943 users and 1682 different movies.\n"
     ]
    }
   ],
   "source": [
    "n_users = df.user_id.nunique()\n",
    "n_items = df.item_id.nunique()\n",
    "\n",
    "logger.info(f'The dataset contains {n_users} users and {n_items} different movies.')"
   ]
  },
  {
   "cell_type": "markdown",
   "metadata": {},
   "source": [
    "#### Rating"
   ]
  },
  {
   "cell_type": "code",
   "execution_count": 14,
   "metadata": {},
   "outputs": [
    {
     "data": {
      "image/png": "[encoded data removed]",
      "text/plain": [
       "<Figure size 1000x500 with 1 Axes>"
      ]
     },
     "metadata": {},
     "output_type": "display_data"
    }
   ],
   "source": [
    "rating_stats = df['rating'].describe().drop('count')\n",
    "plt.figure(figsize=(10, 5))\n",
    "rating_stats.plot(kind='bar', color='orange')\n",
    "plt.title('Rating Statistics')\n",
    "plt.xlabel('Statistic')\n",
    "plt.ylabel('Value')\n",
    "plt.xticks(rotation=45)\n",
    "plt.grid(axis='y')\n",
    "plt.show()"
   ]
  },
  {
   "cell_type": "code",
   "execution_count": 15,
   "metadata": {},
   "outputs": [
    {
     "data": {
      "image/png": "[encoded data removed]",
      "text/plain": [
       "<Figure size 1000x500 with 1 Axes>"
      ]
     },
     "metadata": {},
     "output_type": "display_data"
    }
   ],
   "source": [
    "movie_ratings_count = df.groupby('title')['rating'].count().sort_values(ascending=False)\n",
    "top_5_movies = movie_ratings_count.head(5)\n",
    "\n",
    "plt.figure(figsize=(10, 5))\n",
    "top_5_movies.plot(kind='bar', color='purple')\n",
    "plt.title('Top 5 Most Rated Movies')\n",
    "plt.xlabel('Movie Title')\n",
    "plt.ylabel('Number of Ratings')\n",
    "plt.xticks(rotation=45)\n",
    "plt.grid(axis='y')\n",
    "plt.show()"
   ]
  },
  {
   "cell_type": "code",
   "execution_count": 16,
   "metadata": {},
   "outputs": [
    {
     "data": {
      "image/png": "[encoded data removed]",
      "text/plain": [
       "<Figure size 1000x500 with 1 Axes>"
      ]
     },
     "metadata": {},
     "output_type": "display_data"
    }
   ],
   "source": [
    "df_5_ratings = df[df['rating'] == 5]\n",
    "movies_5_ratings = df_5_ratings.groupby('title')['rating'].count().sort_values(ascending=False).head(5)\n",
    "\n",
    "plt.figure(figsize=(10, 5))\n",
    "movies_5_ratings.plot(kind='bar', color='green')\n",
    "plt.title('Top 5 Movies with Highest Rating')\n",
    "plt.xlabel('Movie Title')\n",
    "plt.ylabel('Number of 5 Ratings')\n",
    "plt.xticks(rotation=45)\n",
    "plt.grid(axis='y')\n",
    "plt.show()"
   ]
  },
  {
   "cell_type": "markdown",
   "metadata": {},
   "source": [
    "## Modeling using Memory-Based Collaborative Filtering"
   ]
  },
  {
   "cell_type": "markdown",
   "metadata": {},
   "source": [
    "### What is Collaborative Filtering?\n",
    "Collaborative filtering is a method used to predict what a user might like by collecting preferences from many users. The basic idea is that if users agree in the past, they will agree in the future.\n",
    "\n",
    "\n",
    "### Memory-Based Collaborative Filtering\n",
    "In memory-based collaborative filtering, the algorithm makes predictions based on the entire user-item dataset stored in memory. It directly uses the historical data to find patterns.\n",
    "\n",
    "In our recommendation system experiment, we are evaluating the performance of three different collaborative filtering techniques: User-User Collaborative Filtering, Item-Item Collaborative Filtering, and SVD-based Collaborative Filtering.\n",
    "\n",
    "- User-User Collaborative Filtering: We calculate the RMSE (Root Mean Square Error) for predictions made by finding users similar to the target user and using their ratings to predict new items.\n",
    "\n",
    "- Item-Item Collaborative Filtering: We calculate the RMSE for predictions made by finding items similar to the ones the target user has liked and using those similarities to make new recommendations.\n",
    "\n",
    "- SVD-based Collaborative Filtering: We use Singular Value Decomposition (SVD) to factorize the user-item interaction matrix and predict missing values. The RMSE of these predictions is also calculated."
   ]
  },
  {
   "cell_type": "markdown",
   "metadata": {},
   "source": [
    "### Train Test Split\n",
    "\n",
    "Recommendation Systems by their very nature are very difficult to evaluate, but we will still show you how to evaluate them in this tutorial. In order to do this, we'll split our data into two sets. However, we won't do our classic X_train,X_test,y_train,y_test split. Instead we can actually just segement the data into two sets of data:"
   ]
  },
  {
   "cell_type": "code",
   "execution_count": 17,
   "metadata": {
    "collapsed": false,
    "jupyter": {
     "outputs_hidden": false
    }
   },
   "outputs": [],
   "source": [
    "train_data, test_data = train_test_split(df, test_size=0.25)"
   ]
  },
  {
   "cell_type": "markdown",
   "metadata": {},
   "source": [
    "## Memory-Based Collaborative Filtering"
   ]
  },
  {
   "cell_type": "code",
   "execution_count": 18,
   "metadata": {
    "collapsed": false,
    "jupyter": {
     "outputs_hidden": false
    }
   },
   "outputs": [],
   "source": [
    "#Create two user-item matrices, one for training and another for testing\n",
    "train_data_matrix = np.zeros((n_users, n_items))\n",
    "for line in train_data.itertuples():\n",
    "    train_data_matrix[line[1]-1, line[2]-1] = line[3]  \n",
    "\n",
    "test_data_matrix = np.zeros((n_users, n_items))\n",
    "for line in test_data.itertuples():\n",
    "    test_data_matrix[line[1]-1, line[2]-1] = line[3]"
   ]
  },
  {
   "cell_type": "markdown",
   "metadata": {},
   "source": [
    "You can use the [pairwise_distances](http://scikit-learn.org/stable/modules/generated/sklearn.metrics.pairwise.pairwise_distances.html) function from sklearn to calculate the cosine similarity. Note, the output will range from 0 to 1 since the ratings are all positive."
   ]
  },
  {
   "cell_type": "code",
   "execution_count": 19,
   "metadata": {
    "collapsed": false,
    "jupyter": {
     "outputs_hidden": false
    }
   },
   "outputs": [],
   "source": [
    "user_similarity = pairwise_distances(train_data_matrix, metric='cosine')\n",
    "item_similarity = pairwise_distances(train_data_matrix.T, metric='cosine')"
   ]
  },
  {
   "cell_type": "code",
   "execution_count": 20,
   "metadata": {},
   "outputs": [],
   "source": [
    "def predict(ratings, similarity, type='user'):\n",
    "    \"\"\"\n",
    "    Predicts ratings using collaborative filtering based on user or item similarity.\n",
    "\n",
    "    Parameters:\n",
    "        ratings (array): A matrix where each row represents a user and each column represents an item.\n",
    "        similarity (array): A similarity matrix representing relationships between users or items.\n",
    "        type (str): Defines the type of prediction. Defaults to 'user'.\n",
    "\n",
    "    Returns:\n",
    "        array: A matrix of predicted ratings.\n",
    "    \"\"\"\n",
    "    try:\n",
    "        if type == 'user':\n",
    "            mean_user_rating = ratings.mean(axis=1)\n",
    "            #You use np.newaxis so that mean_user_rating has same format as ratings\n",
    "            ratings_diff = (ratings - mean_user_rating[:, np.newaxis]) \n",
    "            pred = mean_user_rating[:, np.newaxis] + similarity.dot(ratings_diff) / np.array([np.abs(similarity).sum(axis=1)]).T\n",
    "        elif type == 'item':\n",
    "            pred = ratings.dot(similarity) / np.array([np.abs(similarity).sum(axis=1)])     \n",
    "        return pred\n",
    "    except Exception as e:\n",
    "        logger.error(f\"Error predicting ratings: {str(e)}\")\n",
    "        raise"
   ]
  },
  {
   "cell_type": "code",
   "execution_count": 21,
   "metadata": {
    "collapsed": false,
    "jupyter": {
     "outputs_hidden": false
    }
   },
   "outputs": [],
   "source": [
    "item_prediction = predict(train_data_matrix, item_similarity, type='item')\n",
    "user_prediction = predict(train_data_matrix, user_similarity, type='user')"
   ]
  },
  {
   "cell_type": "markdown",
   "metadata": {},
   "source": [
    "### Evaluation"
   ]
  },
  {
   "cell_type": "markdown",
   "metadata": {},
   "source": [
    "Since you only want to consider predicted ratings that are in the test dataset, you filter out all other elements in the prediction matrix with `prediction[ground_truth.nonzero()]`. "
   ]
  },
  {
   "cell_type": "code",
   "execution_count": 22,
   "metadata": {},
   "outputs": [],
   "source": [
    "def rmse(prediction, ground_truth):\n",
    "    \"\"\"\n",
    "    Computes the Root Mean Square Error (RMSE) between predicted values and ground truth values.\n",
    "\n",
    "    Parameters:\n",
    "        prediction (array-like): Predicted values.\n",
    "        ground_truth (array-like): Actual values.\n",
    "\n",
    "    Returns:\n",
    "        float: The RMSE value.\n",
    "    \"\"\"\n",
    "    try:\n",
    "        prediction = prediction[ground_truth.nonzero()].flatten() \n",
    "        ground_truth = ground_truth[ground_truth.nonzero()].flatten()\n",
    "        return sqrt(mean_squared_error(prediction, ground_truth))\n",
    "    except Exception as e:\n",
    "            logger.error(f\"Error computing rmse: {str(e)}\")\n",
    "            raise"
   ]
  },
  {
   "cell_type": "code",
   "execution_count": 23,
   "metadata": {
    "collapsed": false,
    "jupyter": {
     "outputs_hidden": false
    }
   },
   "outputs": [
    {
     "name": "stderr",
     "output_type": "stream",
     "text": [
      "2025-06-02 16:37:23 - INFO - User-based CF RMSE: 3.1260337497984616\n",
      "2025-06-02 16:37:23 - INFO - Item-based CF RMSE: 3.4555232349861527\n"
     ]
    }
   ],
   "source": [
    "logger.info('User-based CF RMSE: ' + str(rmse(user_prediction, test_data_matrix)))\n",
    "logger.info('Item-based CF RMSE: ' + str(rmse(item_prediction, test_data_matrix)))"
   ]
  },
  {
   "cell_type": "markdown",
   "metadata": {},
   "source": [
    "## Model-based Collaborative Filtering"
   ]
  },
  {
   "cell_type": "code",
   "execution_count": 24,
   "metadata": {
    "collapsed": false,
    "jupyter": {
     "outputs_hidden": false
    }
   },
   "outputs": [
    {
     "name": "stderr",
     "output_type": "stream",
     "text": [
      "2025-06-02 16:37:23 - INFO - The sparsity level is 93.7%\n"
     ]
    }
   ],
   "source": [
    "sparsity=round(1.0-len(df)/float(n_users*n_items),3)\n",
    "logger.info('The sparsity level is ' +  str(sparsity*100) + '%')"
   ]
  },
  {
   "cell_type": "markdown",
   "metadata": {},
   "source": [
    "### SVD"
   ]
  },
  {
   "cell_type": "code",
   "execution_count": 25,
   "metadata": {
    "collapsed": false,
    "jupyter": {
     "outputs_hidden": false
    }
   },
   "outputs": [
    {
     "name": "stderr",
     "output_type": "stream",
     "text": [
      "2025-06-02 16:37:23 - INFO - User-based CF MSE: 2.7222065280416343\n"
     ]
    }
   ],
   "source": [
    "#get SVD components from train matrix. Choose k.\n",
    "u, s, vt = svds(train_data_matrix, k = 20)\n",
    "s_diag_matrix=np.diag(s)\n",
    "X_pred = np.dot(np.dot(u, s_diag_matrix), vt)\n",
    "logger.info('User-based CF MSE: ' + str(rmse(X_pred, test_data_matrix)))"
   ]
  },
  {
   "cell_type": "markdown",
   "metadata": {},
   "source": [
    "### Tensorboard + Mlflow"
   ]
  },
  {
   "cell_type": "code",
   "execution_count": 26,
   "metadata": {},
   "outputs": [
    {
     "name": "stderr",
     "output_type": "stream",
     "text": [
      "2025/06/02 16:37:23 INFO mlflow.tracking.fluent: Experiment with name 'MovieRecommenderExperiment' does not exist. Creating a new experiment.\n",
      "2025-06-02 16:37:23.706699: E external/local_xla/xla/stream_executor/cuda/cuda_driver.cc:152] failed call to cuInit: INTERNAL: CUDA error: Failed call to cuInit: UNKNOWN ERROR (303)\n"
     ]
    }
   ],
   "source": [
    "log_dir = LOG_DIR + datetime.datetime.now().strftime(\"%Y%m%d-%H%M%S\")\n",
    "tensorboard_callback = TensorBoard(log_dir=log_dir, histogram_freq=1, write_graph=True, write_images=True)\n",
    "\n",
    "mlflow.set_experiment(EXPERIMENT_NAME)\n",
    "with mlflow.start_run() as run:\n",
    "    user_rmse = rmse(user_prediction, test_data_matrix)\n",
    "    item_rmse = rmse(item_prediction, test_data_matrix)\n",
    "    svd_rmse = rmse(X_pred, test_data_matrix)\n",
    "    \n",
    "    mlflow.log_metric(\"User_based_CF_RMSE\", user_rmse)\n",
    "    mlflow.log_metric(\"Item_based_CF_RMSE\", item_rmse)\n",
    "    mlflow.log_metric(\"User_based_CF_MSE_SVD\", svd_rmse)\n",
    "    \n",
    "    writer = tf.summary.create_file_writer(log_dir)\n",
    "    \n",
    "    with writer.as_default():\n",
    "        tf.summary.scalar(\"User_based_CF_RMSE\", user_rmse, step=1)\n",
    "        tf.summary.scalar(\"Item_based_CF_RMSE\", item_rmse, step=1)\n",
    "        tf.summary.scalar(\"User_based_CF_MSE_SVD\", svd_rmse, step=1)\n",
    "        writer.flush()\n",
    "\n",
    "    mlflow.tensorflow.autolog()\n"
   ]
  },
  {
   "cell_type": "markdown",
   "metadata": {},
   "source": [
    "### MLflow + Model Service"
   ]
  },
  {
   "cell_type": "code",
   "execution_count": 27,
   "metadata": {},
   "outputs": [
    {
     "name": "stderr",
     "output_type": "stream",
     "text": [
      "/opt/conda/lib/python3.12/site-packages/mlflow/pyfunc/utils/data_validation.py:168: UserWarning: \u001b[33mAdd type hints to the `predict` method to enable data validation and automatic signature inference during model logging. Check https://mlflow.org/docs/latest/model/python_model.html#type-hint-usage-in-pythonmodel for more details.\u001b[0m\n",
      "  color_warning(\n"
     ]
    }
   ],
   "source": [
    "def normalize_ratings(ratings, min_rating=1, max_rating=5):\n",
    "    \"\"\"\n",
    "    Normalizes rating values\n",
    "\n",
    "    Parameters:\n",
    "        ratings (array): A matrix where each row represents a user and each column represents an item.\n",
    "        min_rating (int): Minimal movie rating. Defaults to 1.\n",
    "        max_rating (int, optional): Maximal movie rating . Defaults to 5.\n",
    "\n",
    "    Returns:\n",
    "        array: Normalized values.\n",
    "    \"\"\"\n",
    "    ratings = np.array(ratings)\n",
    "    if ratings.max() == ratings.min():\n",
    "        return np.full(ratings.shape, (max_rating + min_rating) / 2)\n",
    "    normalized_ratings = (ratings - ratings.min()) / (ratings.max() - ratings.min()) * (max_rating - min_rating) + min_rating\n",
    "    return np.clip(normalized_ratings, min_rating, max_rating)  \n",
    "\n",
    "class MovieRecommender(mlflow.pyfunc.PythonModel):\n",
    "\n",
    "    def load_context(self, context):\n",
    "        \"\"\"\n",
    "        Loads training data from the MLflow context.\n",
    "        \"\"\"\n",
    "        try:\n",
    "            self.train_data_matrix = np.load(context.artifacts[\"train_data_matrix\"])\n",
    "            self.movie_titles = pd.read_csv(context.artifacts[\"movie_titles_path\"])\n",
    "            self.n_users, self.n_items = self.train_data_matrix.shape\n",
    "        except Exception as e:\n",
    "            logger.error(f\"Error loading context: {str(e)}\")\n",
    "            raise\n",
    "\n",
    "    def predict(self, context, model_input):\n",
    "        \"\"\"\n",
    "        Performs prediction using specified prediction method.\n",
    "\n",
    "        Parameters:\n",
    "            context: MLflow context.\n",
    "            model_input: Input data\n",
    "\n",
    "        Returns:\n",
    "            array: Model prediction output.\n",
    "        \"\"\"\n",
    "        try:\n",
    "            movie_id = int(model_input['movie_id'][0])\n",
    "            rating = float(model_input['rating'][0])\n",
    "\n",
    "            user_ratings = np.zeros(self.n_items)\n",
    "            user_ratings[movie_id - 1] = rating\n",
    "\n",
    "            ratings = np.vstack([self.train_data_matrix, user_ratings])\n",
    "\n",
    "            item_similarity = pairwise_distances(ratings.T, metric='cosine')\n",
    "\n",
    "            mean_item_rating = ratings[:-1].mean(axis=0)  \n",
    "            ratings_diff = (ratings[:-1] - mean_item_rating)\n",
    "            pred = mean_item_rating + item_similarity.dot(ratings_diff.T).T[-1]\n",
    "\n",
    "            user_pred_normalized = normalize_ratings(pred)\n",
    "\n",
    "            movie_titles = self.movie_titles['title'].tolist()\n",
    "\n",
    "            predictions_with_titles = list(zip(movie_titles, user_pred_normalized))\n",
    "\n",
    "            ordenaded_list = sorted(predictions_with_titles, reverse = True)\n",
    "\n",
    "            best_five_movies = ordenaded_list[:5]\n",
    "\n",
    "            return best_five_movies\n",
    "        \n",
    "        except Exception as e:\n",
    "            logger.error(f\"Error performing prediction: {str(e)}\")\n",
    "            raise\n",
    "\n",
    "    @classmethod\n",
    "    def log_model(cls, train_data_matrix_path, movie_titles_path):\n",
    "        \"\"\"\n",
    "        Log the Recommender model to MLflow with model artifacts and signatures.\n",
    "\n",
    "        Parameters:\n",
    "            train_data_matrix_path (array): Path to training data.\n",
    "            movie_titles_path (array): Path to movie titles.\n",
    "        \"\"\"\n",
    "        try:\n",
    "            input_schema = Schema([\n",
    "                ColSpec(\"long\", \"movie_id\"),\n",
    "                ColSpec(\"double\", \"rating\")\n",
    "            ])\n",
    "            output_schema = Schema([\n",
    "                ColSpec(\"string\", \"movie_title\"),\n",
    "                ColSpec(\"double\", \"prediction\")\n",
    "            ])\n",
    "            signature = ModelSignature(inputs=input_schema, outputs=output_schema)\n",
    "\n",
    "            mlflow.pyfunc.log_model(\n",
    "                artifact_path=ARTIFACT_PATH ,\n",
    "                python_model=cls(),\n",
    "                artifacts={\n",
    "                    \"train_data_matrix\": train_data_matrix_path,\n",
    "                    \"movie_titles_path\": movie_titles_path\n",
    "                },\n",
    "                signature=signature,\n",
    "                pip_requirements=[\"mlflow\", \"pandas\", \"scikit-learn\", \"numpy\"]\n",
    "            )\n",
    "        except Exception as e:\n",
    "            logger.error(f\"Error logging model: {str(e)}\")\n",
    "            raise\n",
    "\n",
    "output_dir = OUTPUT_DIR\n",
    "os.makedirs(output_dir, exist_ok=True)\n",
    "train_data_matrix_path = os.path.join(output_dir, \"train_data_matrix.npy\")\n",
    "np.save(train_data_matrix_path, train_data_matrix)\n",
    "movie_titles_path = os.path.join(output_dir, \"movie_titles.csv\")\n",
    "movie_titles.to_csv(movie_titles_path, index=False)"
   ]
  },
  {
   "cell_type": "code",
   "execution_count": 28,
   "metadata": {},
   "outputs": [
    {
     "name": "stderr",
     "output_type": "stream",
     "text": [
      "2025-06-02 16:37:23 - INFO - Starting the experiment: MovieRecommenderExperiment\n"
     ]
    },
    {
     "data": {
      "application/vnd.jupyter.widget-view+json": {
       "model_id": "e342a26d4e77427f9c33934c2db488f6",
       "version_major": 2,
       "version_minor": 0
      },
      "text/plain": [
       "Downloading artifacts:   0%|          | 0/1 [00:00<?, ?it/s]"
      ]
     },
     "metadata": {},
     "output_type": "display_data"
    },
    {
     "data": {
      "application/vnd.jupyter.widget-view+json": {
       "model_id": "f711d565168f481c89f481ca1c17eb7c",
       "version_major": 2,
       "version_minor": 0
      },
      "text/plain": [
       "Downloading artifacts:   0%|          | 0/1 [00:00<?, ?it/s]"
      ]
     },
     "metadata": {},
     "output_type": "display_data"
    },
    {
     "name": "stderr",
     "output_type": "stream",
     "text": [
      "Successfully registered model 'Movie_Recommender_Model'.\n",
      "Created version '1' of model 'Movie_Recommender_Model'.\n",
      "2025-06-02 16:37:25 - INFO - Registered the model: Movie_Recommender_Model\n"
     ]
    }
   ],
   "source": [
    "logger.info(f'Starting the experiment: {EXPERIMENT_NAME}')\n",
    "\n",
    "# Set the MLflow experiment name\n",
    "mlflow.set_experiment(experiment_name=EXPERIMENT_NAME)\n",
    "\n",
    "# Start an MLflow run\n",
    "with mlflow.start_run(run_name=RUN_NAME) as run:\n",
    "    # Print the artifact URI for reference\n",
    "    logging.info(f\"Run's Artifact URI: {run.info.artifact_uri}\")\n",
    "\n",
    "    # Log the model to MLflow\n",
    "    MovieRecommender.log_model(train_data_matrix_path, movie_titles_path)\n",
    "\n",
    "    # Register the logged model in MLflow Model Registry\n",
    "    mlflow.register_model(\n",
    "        model_uri=f\"runs:/{run.info.run_id}/{MODEL_NAME}\", \n",
    "        name=MODEL_NAME\n",
    "    )\n",
    "\n",
    "logger.info(f'Registered the model: {MODEL_NAME}')"
   ]
  },
  {
   "cell_type": "markdown",
   "metadata": {},
   "source": [
    "## Fetching the Latest Model Version from MLflow"
   ]
  },
  {
   "cell_type": "code",
   "execution_count": 29,
   "metadata": {},
   "outputs": [
    {
     "name": "stderr",
     "output_type": "stream",
     "text": [
      "2025-06-02 16:37:25 - INFO - Latest Model Version: 1\n",
      "2025-06-02 16:37:25 - INFO - Model Signature: inputs: \n",
      "  ['movie_id': long (required), 'rating': double (required)]\n",
      "outputs: \n",
      "  ['movie_title': string (required), 'prediction': double (required)]\n",
      "params: \n",
      "  None\n",
      "\n"
     ]
    }
   ],
   "source": [
    "# Initialize the MLflow client\n",
    "client = MlflowClient()\n",
    "\n",
    "# Retrieve the latest version of the model\n",
    "model_metadata = client.get_latest_versions(MODEL_NAME, stages=[\"None\"])\n",
    "latest_model_version = model_metadata[0].version  # Extract the latest model version\n",
    "\n",
    "# Fetch model information, including its signature\n",
    "model_info = mlflow.models.get_model_info(f\"models:/{MODEL_NAME}/{latest_model_version}\")\n",
    "\n",
    "# Print the latest model version and its signature\n",
    "logger.info(f\"Latest Model Version: {latest_model_version}\")\n",
    "logger.info(f\"Model Signature: {model_info.signature}\")"
   ]
  },
  {
   "cell_type": "markdown",
   "metadata": {},
   "source": [
    "## Loading the Model and Running Inference"
   ]
  },
  {
   "cell_type": "code",
   "execution_count": 30,
   "metadata": {},
   "outputs": [
    {
     "name": "stderr",
     "output_type": "stream",
     "text": [
      "2025-06-02 16:37:25 - INFO - [('Á köldum klaka (Cold Fever) (1994)', 4.6049744855948855), ('unknown', 3.860581985810099), ('Zeus and Roxanne (1997)', 4.764475102950704), (\"Young Poisoner's Handbook, The (1995)\", 3.9072083626390834), ('Young Guns II (1990)', 2.1503191082542354)]\n"
     ]
    }
   ],
   "source": [
    "model = mlflow.pyfunc.load_model(model_uri=f\"models:/{MODEL_NAME}/{latest_model_version}\")\n",
    "df_input = pd.DataFrame({\n",
    "    'movie_id': [2],\n",
    "    'rating': [3.5],\n",
    "})\n",
    "prediction = model.predict(df_input)\n",
    "logger.info(prediction)"
   ]
  },
  {
   "cell_type": "code",
   "execution_count": 31,
   "metadata": {},
   "outputs": [
    {
     "name": "stderr",
     "output_type": "stream",
     "text": [
      "2025-06-02 16:37:25 - INFO - Notebook execution completed.\n"
     ]
    }
   ],
   "source": [
    "logger.info('Notebook execution completed.')"
   ]
  },
  {
   "cell_type": "markdown",
   "metadata": {},
   "source": [
    "Built with ❤️ using [**Z by HP AI Studio**](https://zdocs.datascience.hp.com/docs/aistudio/overview)."
   ]
  }
 ],
 "metadata": {
  "kernelspec": {
   "display_name": "Python [conda env:base] *",
   "language": "python",
   "name": "conda-base-py"
  },
  "language_info": {
   "codemirror_mode": {
    "name": "ipython",
    "version": 3
   },
   "file_extension": ".py",
   "mimetype": "text/x-python",
   "name": "python",
   "nbconvert_exporter": "python",
   "pygments_lexer": "ipython3",
   "version": "3.12.7"
  }
 },
 "nbformat": 4,
 "nbformat_minor": 4
}
