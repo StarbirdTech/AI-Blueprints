{
 "cells": [
  {
   "cell_type": "markdown",
   "id": "33add9a1",
   "metadata": {},
   "source": [
    "<h1 style=\\\"text-align: center; font-size: 50px;\\\">🎥 Advanced Recommender Systems with Tensorflow MLflow Integration</h1>"
   ]
  },
  {
   "cell_type": "markdown",
   "id": "941a5ecc",
   "metadata": {},
   "source": [
    "## Notebook Overview\n",
    "- Start Execution\n",
    "- User Constants\n",
    "- Install and Import Libraries\n",
    "- Configure Settings\n",
    "- Verify Assets\n",
    "- Loading Data\n",
    "- Memory-Based Collaborative Filtering\n",
    "- Logging Model to MLflow\n",
    "- Fetching the Latest Model Version from MLflow\n",
    "- Loading the Model and Running Inference"
   ]
  },
  {
   "cell_type": "markdown",
   "id": "58d7cc22",
   "metadata": {},
   "source": [
    "## Start Execution"
   ]
  },
  {
   "cell_type": "code",
   "execution_count": 1,
   "id": "3d7f98b2",
   "metadata": {},
   "outputs": [],
   "source": [
    "import logging\n",
    "import time\n",
    "\n",
    "# Configure logger\n",
    "logger: logging.Logger = logging.getLogger(\"register_model_logger\")\n",
    "logger.setLevel(logging.INFO)\n",
    "logger.propagate = False  # Prevent duplicate logs from parent loggers\n",
    "\n",
    "# Set formatter\n",
    "formatter: logging.Formatter = logging.Formatter(\n",
    "    fmt=\"%(asctime)s - %(levelname)s - %(message)s\",\n",
    "    datefmt=\"%Y-%m-%d %H:%M:%S\"\n",
    ")\n",
    "\n",
    "# Configure and attach stream handler\n",
    "stream_handler: logging.StreamHandler = logging.StreamHandler()\n",
    "stream_handler.setFormatter(formatter)\n",
    "logger.addHandler(stream_handler)"
   ]
  },
  {
   "cell_type": "code",
   "execution_count": 2,
   "id": "9cc56990",
   "metadata": {},
   "outputs": [
    {
     "name": "stderr",
     "output_type": "stream",
     "text": [
      "2025-07-16 12:58:07 - INFO - Notebook execution started.\n"
     ]
    }
   ],
   "source": [
    "start_time = time.time()  \n",
    "\n",
    "logger.info(\"Notebook execution started.\")"
   ]
  },
  {
   "cell_type": "markdown",
   "id": "962119a1",
   "metadata": {},
   "source": [
    "## User Constants"
   ]
  },
  {
   "cell_type": "code",
   "execution_count": 3,
   "id": "fdfeb283",
   "metadata": {},
   "outputs": [],
   "source": [
    "MOVIE_ID = 5\n",
    "RATING = 3.5"
   ]
  },
  {
   "cell_type": "markdown",
   "id": "7b8bc0a7",
   "metadata": {},
   "source": [
    "## Install and Import Libraries"
   ]
  },
  {
   "cell_type": "code",
   "execution_count": 4,
   "id": "fb96815c",
   "metadata": {},
   "outputs": [
    {
     "name": "stderr",
     "output_type": "stream",
     "text": [
      "2025-07-16 12:58:08.788409: I tensorflow/core/util/port.cc:153] oneDNN custom operations are on. You may see slightly different numerical results due to floating-point round-off errors from different computation orders. To turn them off, set the environment variable `TF_ENABLE_ONEDNN_OPTS=0`.\n",
      "2025-07-16 12:58:08.801098: E external/local_xla/xla/stream_executor/cuda/cuda_fft.cc:477] Unable to register cuFFT factory: Attempting to register factory for plugin cuFFT when one has already been registered\n",
      "WARNING: All log messages before absl::InitializeLog() is called are written to STDERR\n",
      "E0000 00:00:1752670688.813373     339 cuda_dnn.cc:8310] Unable to register cuDNN factory: Attempting to register factory for plugin cuDNN when one has already been registered\n",
      "E0000 00:00:1752670688.817183     339 cuda_blas.cc:1418] Unable to register cuBLAS factory: Attempting to register factory for plugin cuBLAS when one has already been registered\n",
      "2025-07-16 12:58:08.832428: I tensorflow/core/platform/cpu_feature_guard.cc:210] This TensorFlow binary is optimized to use available CPU instructions in performance-critical operations.\n",
      "To enable the following instructions: AVX2 AVX512F AVX512_VNNI AVX512_BF16 FMA, in other operations, rebuild TensorFlow with the appropriate compiler flags.\n"
     ]
    }
   ],
   "source": [
    "# ------------------------ Data Manipulation ------------------------\n",
    "import numpy as np\n",
    "import pandas as pd\n",
    "\n",
    "# # ------------------------ Statistical and Machine Learning tools ------------------------\n",
    "from sklearn.model_selection import train_test_split\n",
    "from sklearn.metrics.pairwise import pairwise_distances\n",
    "from sklearn.metrics import mean_squared_error\n",
    "from math import sqrt\n",
    "import scipy.sparse as sp\n",
    "from scipy.sparse.linalg import svds\n",
    "\n",
    "# ------------------------ Deep learning framework ------------------------\n",
    "import tensorflow as tf\n",
    "from tensorflow.keras.callbacks import TensorBoard\n",
    "\n",
    "# ------------------------ System Utilities ------------------------\n",
    "import os\n",
    "import warnings\n",
    "import datetime\n",
    "from pathlib import Path\n",
    "\n",
    "# ------------------------ Visualization Libraries ------------------------\n",
    "import matplotlib.pyplot as plt\n",
    "\n",
    "# ------------------------ MLflow Integration ------------------------\n",
    "import mlflow\n",
    "from mlflow import MlflowClient\n",
    "from mlflow.types.schema import Schema, ColSpec\n",
    "from mlflow.models import ModelSignature"
   ]
  },
  {
   "cell_type": "markdown",
   "id": "39c31719",
   "metadata": {},
   "source": [
    "## Configure Settings"
   ]
  },
  {
   "cell_type": "code",
   "execution_count": 5,
   "id": "496aff02",
   "metadata": {},
   "outputs": [],
   "source": [
    "# Suppress Python warnings\n",
    "warnings.filterwarnings(\"ignore\")"
   ]
  },
  {
   "cell_type": "code",
   "execution_count": 6,
   "id": "9c29e5f8",
   "metadata": {},
   "outputs": [],
   "source": [
    "# ------------------------- Paths -------------------------\n",
    "DATA_PATH = \"/home/jovyan/datafabric/tutorial/\"\n",
    "LOG_DIR = \"/phoenix/tensorboard/tensorlogs/\"\n",
    "OUTPUT_DIR = \"../model_artifacts\"\n",
    "ARTIFACT_PATH = \"movie_recommender_model\"\n",
    "# Name of the MLflow experiment for tracking performance and metrics\n",
    "EXPERIMENT_NAME = \"MovieRecommenderExperiment\"\n",
    "RUN_NAME = \"Movie_Recommender_Run\"\n",
    "MODEL_NAME = \"Movie_Recommender_Model\""
   ]
  },
  {
   "cell_type": "markdown",
   "id": "17fbf0c8",
   "metadata": {},
   "source": [
    "## Verify Assets"
   ]
  },
  {
   "cell_type": "code",
   "execution_count": 7,
   "id": "ac01d900",
   "metadata": {},
   "outputs": [
    {
     "name": "stderr",
     "output_type": "stream",
     "text": [
      "2025-07-16 12:58:10 - INFO - The Dataset is properly configured.\n"
     ]
    }
   ],
   "source": [
    "# Check whether the Dataset file exists\n",
    "is_dataset_available = Path(DATA_PATH).exists()\n",
    "\n",
    "# Log the configuration status of the dataset\n",
    "if is_dataset_available:\n",
    "    logger.info(\"The Dataset is properly configured.\")\n",
    "else:\n",
    "    logger.info(\n",
    "        \"The Dataset is not properly configured. Please create and download the required assets \"\n",
    "        \"in your project on AI Studio.\"\n",
    "    )"
   ]
  },
  {
   "cell_type": "markdown",
   "id": "c983952e",
   "metadata": {},
   "source": [
    "## Loading Data"
   ]
  },
  {
   "cell_type": "code",
   "execution_count": 8,
   "id": "5967d7e0",
   "metadata": {},
   "outputs": [],
   "source": [
    "asset_folder = DATA_PATH"
   ]
  },
  {
   "cell_type": "code",
   "execution_count": 9,
   "id": "ca8ae366",
   "metadata": {},
   "outputs": [],
   "source": [
    "column_names = ['user_id', 'item_id', 'rating', 'timestamp']\n",
    "df = pd.read_csv(f\"{asset_folder}ml-100k/u.data\", sep='\\t', names=column_names)"
   ]
  },
  {
   "cell_type": "code",
   "execution_count": 10,
   "id": "33cdb612",
   "metadata": {},
   "outputs": [],
   "source": [
    "movie_titles = pd.read_csv(f\"{asset_folder}Movie_Id_Titles.csv\")"
   ]
  },
  {
   "cell_type": "code",
   "execution_count": 11,
   "id": "9687a775",
   "metadata": {},
   "outputs": [],
   "source": [
    "df = pd.merge(df,movie_titles,on='item_id')"
   ]
  },
  {
   "cell_type": "code",
   "execution_count": 12,
   "id": "93eca569",
   "metadata": {},
   "outputs": [
    {
     "data": {
      "text/html": [
       "<div>\n",
       "<style scoped>\n",
       "    .dataframe tbody tr th:only-of-type {\n",
       "        vertical-align: middle;\n",
       "    }\n",
       "\n",
       "    .dataframe tbody tr th {\n",
       "        vertical-align: top;\n",
       "    }\n",
       "\n",
       "    .dataframe thead th {\n",
       "        text-align: right;\n",
       "    }\n",
       "</style>\n",
       "<table border=\"1\" class=\"dataframe\">\n",
       "  <thead>\n",
       "    <tr style=\"text-align: right;\">\n",
       "      <th></th>\n",
       "      <th>user_id</th>\n",
       "      <th>item_id</th>\n",
       "      <th>rating</th>\n",
       "      <th>timestamp</th>\n",
       "      <th>title</th>\n",
       "    </tr>\n",
       "  </thead>\n",
       "  <tbody>\n",
       "    <tr>\n",
       "      <th>62513</th>\n",
       "      <td>500</td>\n",
       "      <td>77</td>\n",
       "      <td>3</td>\n",
       "      <td>883875793</td>\n",
       "      <td>Firm, The (1993)</td>\n",
       "    </tr>\n",
       "    <tr>\n",
       "      <th>52039</th>\n",
       "      <td>303</td>\n",
       "      <td>1509</td>\n",
       "      <td>1</td>\n",
       "      <td>879544435</td>\n",
       "      <td>Getting Even with Dad (1994)</td>\n",
       "    </tr>\n",
       "  </tbody>\n",
       "</table>\n",
       "</div>"
      ],
      "text/plain": [
       "       user_id  item_id  rating  timestamp                         title\n",
       "62513      500       77       3  883875793              Firm, The (1993)\n",
       "52039      303     1509       1  879544435  Getting Even with Dad (1994)"
      ]
     },
     "metadata": {},
     "output_type": "display_data"
    },
    {
     "data": {
      "text/plain": [
       "(100000, 5)"
      ]
     },
     "metadata": {},
     "output_type": "display_data"
    }
   ],
   "source": [
    "display(df.sample(2))\n",
    "display(df.shape)"
   ]
  },
  {
   "cell_type": "code",
   "execution_count": 13,
   "id": "b15959fd",
   "metadata": {},
   "outputs": [],
   "source": [
    "train_data, test_data = train_test_split(df, test_size=0.25)"
   ]
  },
  {
   "cell_type": "markdown",
   "id": "98fdcc42",
   "metadata": {},
   "source": [
    "## Memory-Based Collaborative Filtering"
   ]
  },
  {
   "cell_type": "code",
   "execution_count": 14,
   "id": "b4eb7dc9",
   "metadata": {},
   "outputs": [],
   "source": [
    "n_users = df.user_id.nunique()\n",
    "n_items = df.item_id.nunique()\n",
    "#Create two user-item matrices, one for training and another for testing\n",
    "train_data_matrix = np.zeros((n_users, n_items))\n",
    "for line in train_data.itertuples():\n",
    "    train_data_matrix[line[1]-1, line[2]-1] = line[3]  \n",
    "\n",
    "test_data_matrix = np.zeros((n_users, n_items))\n",
    "for line in test_data.itertuples():\n",
    "    test_data_matrix[line[1]-1, line[2]-1] = line[3]"
   ]
  },
  {
   "cell_type": "code",
   "execution_count": 15,
   "id": "a312d642",
   "metadata": {},
   "outputs": [],
   "source": [
    "user_similarity = pairwise_distances(train_data_matrix, metric='cosine')\n",
    "item_similarity = pairwise_distances(train_data_matrix.T, metric='cosine')"
   ]
  },
  {
   "cell_type": "code",
   "execution_count": 16,
   "id": "d3d64d2c",
   "metadata": {},
   "outputs": [],
   "source": [
    "def predict(ratings, similarity, type='user'):\n",
    "    \"\"\"\n",
    "    Predicts ratings using collaborative filtering based on user or item similarity.\n",
    "\n",
    "    Parameters:\n",
    "        ratings (array): A matrix where each row represents a user and each column represents an item.\n",
    "        similarity (array): A similarity matrix representing relationships between users or items.\n",
    "        type (str): Defines the type of prediction. Defaults to 'user'.\n",
    "\n",
    "    Returns:\n",
    "        array: A matrix of predicted ratings.\n",
    "    \"\"\"\n",
    "    try:\n",
    "        if type == 'user':\n",
    "            mean_user_rating = ratings.mean(axis=1)\n",
    "            #You use np.newaxis so that mean_user_rating has same format as ratings\n",
    "            ratings_diff = (ratings - mean_user_rating[:, np.newaxis]) \n",
    "            pred = mean_user_rating[:, np.newaxis] + similarity.dot(ratings_diff) / np.array([np.abs(similarity).sum(axis=1)]).T\n",
    "        elif type == 'item':\n",
    "            pred = ratings.dot(similarity) / np.array([np.abs(similarity).sum(axis=1)])     \n",
    "        return pred\n",
    "    except Exception as e:\n",
    "        logger.error(f\"Error predicting ratings: {str(e)}\")\n",
    "        raise"
   ]
  },
  {
   "cell_type": "code",
   "execution_count": 17,
   "id": "8c6e8b11",
   "metadata": {},
   "outputs": [],
   "source": [
    "item_prediction = predict(train_data_matrix, item_similarity, type='item')\n",
    "user_prediction = predict(train_data_matrix, user_similarity, type='user')"
   ]
  },
  {
   "cell_type": "markdown",
   "id": "ae66b05b",
   "metadata": {},
   "source": [
    "### SVD"
   ]
  },
  {
   "cell_type": "code",
   "execution_count": 18,
   "id": "8c07c407",
   "metadata": {},
   "outputs": [],
   "source": [
    "def rmse(prediction, ground_truth):\n",
    "    \"\"\"\n",
    "    Computes the Root Mean Square Error (RMSE) between predicted values and ground truth values.\n",
    "\n",
    "    Parameters:\n",
    "        prediction (array-like): Predicted values.\n",
    "        ground_truth (array-like): Actual values.\n",
    "\n",
    "    Returns:\n",
    "        float: The RMSE value.\n",
    "    \"\"\"\n",
    "    try:\n",
    "        prediction = prediction[ground_truth.nonzero()].flatten() \n",
    "        ground_truth = ground_truth[ground_truth.nonzero()].flatten()\n",
    "        return sqrt(mean_squared_error(prediction, ground_truth))\n",
    "    except Exception as e:\n",
    "            logger.error(f\"Error computing rmse: {str(e)}\")\n",
    "            raise"
   ]
  },
  {
   "cell_type": "code",
   "execution_count": 19,
   "id": "cd7a8f39",
   "metadata": {},
   "outputs": [
    {
     "name": "stderr",
     "output_type": "stream",
     "text": [
      "2025-07-16 12:58:14 - INFO - User-based CF MSE: 2.720641027318057\n"
     ]
    }
   ],
   "source": [
    "#get SVD components from train matrix. Choose k.\n",
    "u, s, vt = svds(train_data_matrix, k = 20)\n",
    "s_diag_matrix=np.diag(s)\n",
    "X_pred = np.dot(np.dot(u, s_diag_matrix), vt)\n",
    "logger.info('User-based CF MSE: ' + str(rmse(X_pred, test_data_matrix)))"
   ]
  },
  {
   "cell_type": "markdown",
   "id": "b056ae32",
   "metadata": {},
   "source": [
    "## Logging Model to MLflow"
   ]
  },
  {
   "cell_type": "code",
   "execution_count": 20,
   "id": "fd7dc7b2",
   "metadata": {},
   "outputs": [],
   "source": [
    "def normalize_ratings(ratings, min_rating=1, max_rating=5):\n",
    "    \"\"\"\n",
    "    Normalizes rating values\n",
    "\n",
    "    Parameters:\n",
    "        ratings (array): A matrix where each row represents a user and each column represents an item.\n",
    "        min_rating (int): Minimal movie rating. Defaults to 1.\n",
    "        max_rating (int, optional): Maximal movie rating . Defaults to 5.\n",
    "\n",
    "    Returns:\n",
    "        array: Normalized values.\n",
    "    \"\"\"\n",
    "    ratings = np.array(ratings)\n",
    "    if ratings.max() == ratings.min():\n",
    "        return np.full(ratings.shape, (max_rating + min_rating) / 2)\n",
    "    normalized_ratings = (ratings - ratings.min()) / (ratings.max() - ratings.min()) * (max_rating - min_rating) + min_rating\n",
    "    return np.clip(normalized_ratings, min_rating, max_rating)  \n",
    "\n",
    "class MovieRecommender(mlflow.pyfunc.PythonModel):\n",
    "\n",
    "    def load_context(self, context):\n",
    "        \"\"\"\n",
    "        Loads training data from the MLflow context.\n",
    "        \"\"\"\n",
    "        try:\n",
    "            self.train_data_matrix = np.load(context.artifacts[\"train_data_matrix\"])\n",
    "            self.movie_titles = pd.read_csv(context.artifacts[\"movie_titles_path\"])\n",
    "            self.n_users, self.n_items = self.train_data_matrix.shape\n",
    "        except Exception as e:\n",
    "            logger.error(f\"Error loading context: {str(e)}\")\n",
    "            raise\n",
    "\n",
    "    def predict(self, context, model_input):\n",
    "        \"\"\"\n",
    "        Performs prediction using specified prediction method.\n",
    "\n",
    "        Parameters:\n",
    "            context: MLflow context.\n",
    "            model_input: Input data\n",
    "\n",
    "        Returns:\n",
    "            array: Model prediction output.\n",
    "        \"\"\"\n",
    "        try:\n",
    "            movie_id = int(model_input['movie_id'][0])\n",
    "            rating = float(model_input['rating'][0])\n",
    "\n",
    "            user_ratings = np.zeros(self.n_items)\n",
    "            user_ratings[movie_id - 1] = rating\n",
    "\n",
    "            ratings = np.vstack([self.train_data_matrix, user_ratings])\n",
    "\n",
    "            item_similarity = pairwise_distances(ratings.T, metric='cosine')\n",
    "\n",
    "            mean_item_rating = ratings[:-1].mean(axis=0)  \n",
    "            ratings_diff = (ratings[:-1] - mean_item_rating)\n",
    "            pred = mean_item_rating + item_similarity.dot(ratings_diff.T).T[-1]\n",
    "\n",
    "            user_pred_normalized = normalize_ratings(pred)\n",
    "\n",
    "            movie_titles = self.movie_titles['title'].tolist()\n",
    "\n",
    "            predictions_with_titles = list(zip(movie_titles, user_pred_normalized))\n",
    "\n",
    "            ordenaded_list = sorted(predictions_with_titles, reverse = True)\n",
    "\n",
    "            best_five_movies = ordenaded_list[:5]\n",
    "\n",
    "            return best_five_movies\n",
    "        \n",
    "        except Exception as e:\n",
    "            logger.error(f\"Error performing prediction: {str(e)}\")\n",
    "            raise\n",
    "\n",
    "    @classmethod\n",
    "    def log_model(cls, train_data_matrix_path, movie_titles_path):\n",
    "        \"\"\"\n",
    "        Log the Recommender model to MLflow with model artifacts and signatures.\n",
    "\n",
    "        Parameters:\n",
    "            train_data_matrix_path (array): Path to training data.\n",
    "            movie_titles_path (array): Path to movie titles.\n",
    "        \"\"\"\n",
    "        try:\n",
    "            input_schema = Schema([\n",
    "                ColSpec(\"long\", \"movie_id\"),\n",
    "                ColSpec(\"double\", \"rating\")\n",
    "            ])\n",
    "            output_schema = Schema([\n",
    "                ColSpec(\"string\", \"movie_title\"),\n",
    "                ColSpec(\"double\", \"prediction\")\n",
    "            ])\n",
    "            signature = ModelSignature(inputs=input_schema, outputs=output_schema)\n",
    "\n",
    "            mlflow.pyfunc.log_model(\n",
    "                artifact_path=ARTIFACT_PATH ,\n",
    "                python_model=cls(),\n",
    "                artifacts={\n",
    "                    \"train_data_matrix\": train_data_matrix_path,\n",
    "                    \"movie_titles_path\": movie_titles_path\n",
    "                },\n",
    "                signature=signature,\n",
    "                pip_requirements=[\"mlflow\", \"pandas\", \"scikit-learn\", \"numpy\"]\n",
    "            )\n",
    "        except Exception as e:\n",
    "            logger.error(f\"Error logging model: {str(e)}\")\n",
    "            raise\n",
    "\n",
    "output_dir = OUTPUT_DIR\n",
    "os.makedirs(output_dir, exist_ok=True)\n",
    "train_data_matrix_path = os.path.join(output_dir, \"train_data_matrix.npy\")\n",
    "np.save(train_data_matrix_path, train_data_matrix)\n",
    "movie_titles_path = os.path.join(output_dir, \"movie_titles.csv\")\n",
    "movie_titles.to_csv(movie_titles_path, index=False)"
   ]
  },
  {
   "cell_type": "code",
   "execution_count": 21,
   "id": "6962cdad",
   "metadata": {},
   "outputs": [
    {
     "name": "stderr",
     "output_type": "stream",
     "text": [
      "2025-07-16 12:58:14 - INFO - Starting the experiment: MovieRecommenderExperiment\n"
     ]
    },
    {
     "data": {
      "application/vnd.jupyter.widget-view+json": {
       "model_id": "2588dbdf5eb04968a92604f56c27b933",
       "version_major": 2,
       "version_minor": 0
      },
      "text/plain": [
       "Downloading artifacts:   0%|          | 0/1 [00:00<?, ?it/s]"
      ]
     },
     "metadata": {},
     "output_type": "display_data"
    },
    {
     "data": {
      "application/vnd.jupyter.widget-view+json": {
       "model_id": "924fbf1cdbdd493fa5fda8c4aa0e7bef",
       "version_major": 2,
       "version_minor": 0
      },
      "text/plain": [
       "Downloading artifacts:   0%|          | 0/1 [00:00<?, ?it/s]"
      ]
     },
     "metadata": {},
     "output_type": "display_data"
    },
    {
     "name": "stderr",
     "output_type": "stream",
     "text": [
      "Registered model 'Movie_Recommender_Model' already exists. Creating a new version of this model...\n",
      "Created version '8' of model 'Movie_Recommender_Model'.\n",
      "2025-07-16 12:58:17 - INFO - Registered the model: Movie_Recommender_Model\n"
     ]
    }
   ],
   "source": [
    "logger.info(f'Starting the experiment: {EXPERIMENT_NAME}')\n",
    "\n",
    "# Set the MLflow experiment name\n",
    "mlflow.set_tracking_uri(\"/phoenix/mlflow\")\n",
    "mlflow.set_experiment(experiment_name=EXPERIMENT_NAME)\n",
    "\n",
    "# Start an MLflow run\n",
    "with mlflow.start_run(run_name=RUN_NAME) as run:\n",
    "    user_rmse = rmse(user_prediction, test_data_matrix)\n",
    "    item_rmse = rmse(item_prediction, test_data_matrix)\n",
    "    svd_rmse = rmse(X_pred, test_data_matrix)\n",
    "    \n",
    "    mlflow.log_metric(\"User_based_CF_RMSE\", user_rmse)\n",
    "    mlflow.log_metric(\"Item_based_CF_RMSE\", item_rmse)\n",
    "    mlflow.log_metric(\"User_based_CF_MSE_SVD\", svd_rmse)\n",
    "    # Print the artifact URI for reference\n",
    "    logging.info(f\"Run's Artifact URI: {run.info.artifact_uri}\")\n",
    "\n",
    "    # Log the model to MLflow\n",
    "    MovieRecommender.log_model(train_data_matrix_path, movie_titles_path)\n",
    "\n",
    "    # Register the logged model in MLflow Model Registry\n",
    "    mlflow.register_model(\n",
    "        model_uri=f\"runs:/{run.info.run_id}/{MODEL_NAME}\", \n",
    "        name=MODEL_NAME\n",
    "    )\n",
    "\n",
    "logger.info(f'Registered the model: {MODEL_NAME}')"
   ]
  },
  {
   "cell_type": "markdown",
   "id": "f9839e30",
   "metadata": {},
   "source": [
    "## Fetching the Latest Model Version from MLflow"
   ]
  },
  {
   "cell_type": "code",
   "execution_count": 22,
   "id": "2f23993b",
   "metadata": {},
   "outputs": [
    {
     "name": "stderr",
     "output_type": "stream",
     "text": [
      "2025-07-16 12:58:17 - INFO - Latest Model Version: 8\n",
      "2025-07-16 12:58:17 - INFO - Model Signature: inputs: \n",
      "  ['movie_id': long (required), 'rating': double (required)]\n",
      "outputs: \n",
      "  ['movie_title': string (required), 'prediction': double (required)]\n",
      "params: \n",
      "  None\n",
      "\n"
     ]
    }
   ],
   "source": [
    "# Initialize the MLflow client\n",
    "client = MlflowClient()\n",
    "\n",
    "# Retrieve the latest version of the model\n",
    "model_metadata = client.get_latest_versions(MODEL_NAME, stages=[\"None\"])\n",
    "latest_model_version = model_metadata[0].version  # Extract the latest model version\n",
    "\n",
    "# Fetch model information, including its signature\n",
    "model_info = mlflow.models.get_model_info(f\"models:/{MODEL_NAME}/{latest_model_version}\")\n",
    "\n",
    "# Print the latest model version and its signature\n",
    "logger.info(f\"Latest Model Version: {latest_model_version}\")\n",
    "logger.info(f\"Model Signature: {model_info.signature}\")"
   ]
  },
  {
   "cell_type": "markdown",
   "id": "6cfaa33e",
   "metadata": {},
   "source": [
    "## Loading the Model and Running Inference"
   ]
  },
  {
   "cell_type": "code",
   "execution_count": 23,
   "id": "c05d5e8a",
   "metadata": {},
   "outputs": [
    {
     "name": "stderr",
     "output_type": "stream",
     "text": [
      "2025-07-16 12:58:17 - INFO - [('Á köldum klaka (Cold Fever) (1994)', 4.646959466729642), ('unknown', 4.246263010290732), ('Zeus and Roxanne (1997)', 4.636585145483254), (\"Young Poisoner's Handbook, The (1995)\", 3.9477992567162175), ('Young Guns II (1990)', 2.1466161165198754)]\n"
     ]
    }
   ],
   "source": [
    "model = mlflow.pyfunc.load_model(model_uri=f\"models:/{MODEL_NAME}/{latest_model_version}\")\n",
    "df_input = pd.DataFrame({\n",
    "    'movie_id': [MOVIE_ID],\n",
    "    'rating': [RATING],\n",
    "})\n",
    "prediction = model.predict(df_input)\n",
    "logger.info(prediction)"
   ]
  },
  {
   "cell_type": "code",
   "execution_count": 24,
   "id": "85a5bf68",
   "metadata": {},
   "outputs": [
    {
     "name": "stderr",
     "output_type": "stream",
     "text": [
      "2025-07-16 12:58:17 - INFO - ⏱️ Total execution time: 0m 9.59s\n",
      "2025-07-16 12:58:17 - INFO - ✅ Notebook execution completed successfully.\n"
     ]
    }
   ],
   "source": [
    "end_time: float = time.time()\n",
    "elapsed_time: float = end_time - start_time\n",
    "elapsed_minutes: int = int(elapsed_time // 60)\n",
    "elapsed_seconds: float = elapsed_time % 60\n",
    "\n",
    "logger.info(f\"⏱️ Total execution time: {elapsed_minutes}m {elapsed_seconds:.2f}s\")\n",
    "logger.info(\"✅ Notebook execution completed successfully.\")"
   ]
  },
  {
   "cell_type": "markdown",
   "id": "97fb8f8f",
   "metadata": {},
   "source": [
    "Built with ❤️ using [**Z by HP AI Studio**](https://zdocs.datascience.hp.com/docs/aistudio/overview)."
   ]
  }
 ],
 "metadata": {
  "kernelspec": {
   "display_name": "Python [conda env:base] *",
   "language": "python",
   "name": "conda-base-py"
  },
  "language_info": {
   "codemirror_mode": {
    "name": "ipython",
    "version": 3
   },
   "file_extension": ".py",
   "mimetype": "text/x-python",
   "name": "python",
   "nbconvert_exporter": "python",
   "pygments_lexer": "ipython3",
   "version": "3.12.7"
  }
 },
 "nbformat": 4,
 "nbformat_minor": 5
}
