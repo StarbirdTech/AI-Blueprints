{
 "cells": [
  {
   "attachments": {},
   "cell_type": "markdown",
   "metadata": {},
   "source": [
    "<h1 style=\\\"text-align: center; font-size: 50px;\\\">❓\n",
    " Pre-trained BERT for building a Q&A system </h1>"
   ]
  },
  {
   "attachments": {},
   "cell_type": "markdown",
   "metadata": {},
   "source": [
    "##### **😉 Hello there!**\n",
    "\n",
    "Before starting to explore and run this notebook, here are a few things you should know:"
   ]
  },
  {
   "attachments": {},
   "cell_type": "markdown",
   "metadata": {},
   "source": [
    "<div class=\"alert alert-info\">\n",
    "<b>🧐 What is BERT?</b>\n",
    "\n",
    "It is a language representation model which stands for Bidirectional Encoder Representations from Transformers. BERT model can be finetuned with just one additional output layer to create state-of-the-art models for a wide range of tasks, such as question answering and language inference, without substantial taskspecific architecture modifications. See more details in the official paper [BERT: Pre-training of Deep Bidirectional Transformers for Language Understanding.](https://arxiv.org/abs/1810.04805)\n",
    "</div>"
   ]
  },
  {
   "attachments": {},
   "cell_type": "markdown",
   "metadata": {},
   "source": [
    "<div class=\"alert alert-info\">\n",
    "<b>🧐 What is transformers?</b>\n",
    "\n",
    "[Transformers](https://huggingface.co/docs/transformers/index) provides APIs and tools to easily download and train state-of-the-art pretrained models. Using pretrained models can reduce your compute costs, carbon footprint, and save you the time and resources required to train a model from scratch. These models support common tasks in different modalities, such as:\n",
    "\n",
    "- Natural Language Processing\n",
    "- Computer Vision\n",
    "- Audio\n",
    "- Multimodal\n",
    "</div>"
   ]
  },
  {
   "attachments": {},
   "cell_type": "markdown",
   "metadata": {},
   "source": [
    "<div class=\"alert alert-info\">\n",
    "<b>🧐 What is HuggingFace?</b>\n",
    "\n",
    "[Hugging Face, Inc.](https://huggingface.co/) is a French company that develops tools for building applications using machine learning. It is most notable for its Transformers library built for natural language processing applications and its platform that allows users to share machine learning models and datasets. The [HuggingFace Hub ](https://huggingface.co/docs/hub/index) is a platform with over 120k models, 20k datasets, and 50k demo apps (Spaces), all open source and publicly available, in an online platform where people can easily collaborate and build ML together. The Hub works as a central place where anyone can explore, experiment, collaborate and build technology with Machine Learning.\n",
    "</div>"
   ]
  },
  {
   "cell_type": "markdown",
   "metadata": {},
   "source": [
    "# Notebook Overview\n",
    "- Imports\n",
    "- Configurations\n",
    "- Dataset\n",
    "- Tokenizer\n",
    "- Targets\n",
    "- Training\n",
    "- Inference\n",
    "- Logging Model to MLflow\n",
    "- Fetching the Latest Model Version from MLflow\n",
    "- Loading the Model and Running Inference"
   ]
  },
  {
   "cell_type": "markdown",
   "metadata": {},
   "source": [
    "# Imports"
   ]
  },
  {
   "cell_type": "code",
   "execution_count": 1,
   "metadata": {},
   "outputs": [
    {
     "name": "stdout",
     "output_type": "stream",
     "text": [
      "Note: you may need to restart the kernel to use updated packages.\n"
     ]
    }
   ],
   "source": [
    "%pip install -r ../requirements.txt --quiet"
   ]
  },
  {
   "cell_type": "code",
   "execution_count": 2,
   "metadata": {},
   "outputs": [
    {
     "name": "stderr",
     "output_type": "stream",
     "text": [
      "2025-06-12 17:48:30.952745: I tensorflow/core/util/port.cc:153] oneDNN custom operations are on. You may see slightly different numerical results due to floating-point round-off errors from different computation orders. To turn them off, set the environment variable `TF_ENABLE_ONEDNN_OPTS=0`.\n",
      "2025-06-12 17:48:30.966798: E external/local_xla/xla/stream_executor/cuda/cuda_fft.cc:467] Unable to register cuFFT factory: Attempting to register factory for plugin cuFFT when one has already been registered\n",
      "WARNING: All log messages before absl::InitializeLog() is called are written to STDERR\n",
      "E0000 00:00:1749750510.982928     976 cuda_dnn.cc:8579] Unable to register cuDNN factory: Attempting to register factory for plugin cuDNN when one has already been registered\n",
      "E0000 00:00:1749750510.987701     976 cuda_blas.cc:1407] Unable to register cuBLAS factory: Attempting to register factory for plugin cuBLAS when one has already been registered\n",
      "W0000 00:00:1749750511.001541     976 computation_placer.cc:177] computation placer already registered. Please check linkage and avoid linking the same target more than once.\n",
      "W0000 00:00:1749750511.001557     976 computation_placer.cc:177] computation placer already registered. Please check linkage and avoid linking the same target more than once.\n",
      "W0000 00:00:1749750511.001558     976 computation_placer.cc:177] computation placer already registered. Please check linkage and avoid linking the same target more than once.\n",
      "W0000 00:00:1749750511.001560     976 computation_placer.cc:177] computation placer already registered. Please check linkage and avoid linking the same target more than once.\n",
      "2025-06-12 17:48:31.007100: I tensorflow/core/platform/cpu_feature_guard.cc:210] This TensorFlow binary is optimized to use available CPU instructions in performance-critical operations.\n",
      "To enable the following instructions: AVX2 AVX512F AVX512_VNNI AVX512_BF16 AVX512_FP16 AVX_VNNI AMX_TILE AMX_INT8 AMX_BF16 FMA, in other operations, rebuild TensorFlow with the appropriate compiler flags.\n"
     ]
    }
   ],
   "source": [
    "# ------------------------ Standard Library Imports ------------------------\n",
    "import logging\n",
    "from datetime import datetime\n",
    "import warnings\n",
    "import shutil\n",
    "from pathlib import Path\n",
    "\n",
    "# ------------------------ Third-Party Libraries ------------------------\n",
    "import torch\n",
    "\n",
    "# ------------------------ MLflow for Experiment Tracking and Model Management ------------------------\n",
    "import mlflow\n",
    "from mlflow.types.schema import Schema, ColSpec\n",
    "from mlflow.types import ParamSchema, ParamSpec\n",
    "from mlflow.models import ModelSignature\n",
    "from mlflow import MlflowClient\n",
    "\n",
    "from datasets import load_dataset\n",
    "from evaluate import load as load_metric\n",
    "from tqdm.autonotebook import tqdm\n",
    "from transformers import AutoTokenizer, AutoModelForQuestionAnswering, TrainingArguments, Trainer, pipeline"
   ]
  },
  {
   "cell_type": "markdown",
   "metadata": {},
   "source": [
    "# Configurations"
   ]
  },
  {
   "cell_type": "code",
   "execution_count": 3,
   "metadata": {},
   "outputs": [],
   "source": [
    "warnings.filterwarnings(\"ignore\")"
   ]
  },
  {
   "cell_type": "code",
   "execution_count": 4,
   "metadata": {},
   "outputs": [],
   "source": [
    "# === Create logger ===\n",
    "logger = logging.getLogger(\"training-notebook\")\n",
    "logger.setLevel(logging.INFO)\n",
    "\n",
    "formatter = logging.Formatter(\"%(asctime)s - %(levelname)s - %(message)s\", \n",
    "                             datefmt=\"%Y-%m-%d %H:%M:%S\") \n",
    "\n",
    "stream_handler = logging.StreamHandler()\n",
    "stream_handler.setFormatter(formatter)\n",
    "logger.addHandler(stream_handler)\n",
    "logger.propagate = False"
   ]
  },
  {
   "cell_type": "code",
   "execution_count": 5,
   "metadata": {},
   "outputs": [],
   "source": [
    "# ------------------------- Define global experiment and run names to be used throughout the notebook -------------------------\n",
    "\n",
    "MODEL_CHECKPOINT = \"distilbert-base-cased\"\n",
    "EXPERIMENT_SET = \"BERT Q&A - distilbert-base-cased\"\n",
    "SAVE_MODEL_NAME = \"../distilbert_bertqa\"\n",
    "EXPERIMENT_NAME = \"BERT model for Q&A\"\n",
    "MODEL_NAME = \"BERT_QA\"\n",
    "RUN_NAME = 'BERT_QA'\n",
    "NAME = 'BERT_QA'\n",
    "\n",
    "# ------------------------- Set up the chunk separator for text processing -------------------------\n",
    "CHUNK_SEPARATOR = \"\\n\\n\""
   ]
  },
  {
   "cell_type": "code",
   "execution_count": 6,
   "metadata": {},
   "outputs": [
    {
     "name": "stderr",
     "output_type": "stream",
     "text": [
      "2025-06-12 17:48:42 - INFO - Notebook execution started.\n"
     ]
    }
   ],
   "source": [
    "logger.info('Notebook execution started.')"
   ]
  },
  {
   "cell_type": "code",
   "execution_count": 7,
   "metadata": {},
   "outputs": [],
   "source": [
    "start_time_all_execution = datetime.now() # This variable is to help us to see in how much time this notebook will run"
   ]
  },
  {
   "attachments": {},
   "cell_type": "markdown",
   "metadata": {},
   "source": [
    "# Dataset"
   ]
  },
  {
   "attachments": {},
   "cell_type": "markdown",
   "metadata": {},
   "source": [
    "### <b>🧐 What is the SQuAD dataset?</b>\n",
    "\n",
    "Stanford Question Answering Dataset ([SQuAD](https://rajpurkar.github.io/SQuAD-explorer/)) is a reading comprehension dataset, consisting of questions posed by crowdworkers on a set of Wikipedia articles, where the answer to every question is a segment of text, or span, from the corresponding reading passage, or the question might be unanswerable. See more details at SQuAD.\n",
    "\n",
    "In this case, we're going to download this dataset from the [HuggingFace datasets](https://huggingface.co/datasets) repository.\n",
    "</div>"
   ]
  },
  {
   "cell_type": "code",
   "execution_count": 8,
   "metadata": {},
   "outputs": [
    {
     "data": {
      "application/vnd.jupyter.widget-view+json": {
       "model_id": "9f3458f04810480ea4ef64e62c0d3afa",
       "version_major": 2,
       "version_minor": 0
      },
      "text/plain": [
       "README.md:   0%|          | 0.00/7.62k [00:00<?, ?B/s]"
      ]
     },
     "metadata": {},
     "output_type": "display_data"
    },
    {
     "data": {
      "application/vnd.jupyter.widget-view+json": {
       "model_id": "f18109750b1140789f2baa87f21ea3e1",
       "version_major": 2,
       "version_minor": 0
      },
      "text/plain": [
       "train-00000-of-00001.parquet:   0%|          | 0.00/14.5M [00:00<?, ?B/s]"
      ]
     },
     "metadata": {},
     "output_type": "display_data"
    },
    {
     "data": {
      "application/vnd.jupyter.widget-view+json": {
       "model_id": "2b8a2dd6a16342d5bfb30de446ff97f4",
       "version_major": 2,
       "version_minor": 0
      },
      "text/plain": [
       "validation-00000-of-00001.parquet:   0%|          | 0.00/1.82M [00:00<?, ?B/s]"
      ]
     },
     "metadata": {},
     "output_type": "display_data"
    },
    {
     "data": {
      "application/vnd.jupyter.widget-view+json": {
       "model_id": "27d27b0ff94d4cfc86996b65caf1dc39",
       "version_major": 2,
       "version_minor": 0
      },
      "text/plain": [
       "Generating train split:   0%|          | 0/87599 [00:00<?, ? examples/s]"
      ]
     },
     "metadata": {},
     "output_type": "display_data"
    },
    {
     "data": {
      "application/vnd.jupyter.widget-view+json": {
       "model_id": "776e2641d06041b7b3e1b1b2e5e1936b",
       "version_major": 2,
       "version_minor": 0
      },
      "text/plain": [
       "Generating validation split:   0%|          | 0/10570 [00:00<?, ? examples/s]"
      ]
     },
     "metadata": {},
     "output_type": "display_data"
    },
    {
     "data": {
      "text/plain": [
       "DatasetDict({\n",
       "    train: Dataset({\n",
       "        features: ['id', 'title', 'context', 'question', 'answers'],\n",
       "        num_rows: 87599\n",
       "    })\n",
       "    validation: Dataset({\n",
       "        features: ['id', 'title', 'context', 'question', 'answers'],\n",
       "        num_rows: 10570\n",
       "    })\n",
       "})"
      ]
     },
     "execution_count": 8,
     "metadata": {},
     "output_type": "execute_result"
    }
   ],
   "source": [
    "squad_dataset = load_dataset(\"squad\") # Downloading the dataset\n",
    "squad_dataset"
   ]
  },
  {
   "attachments": {},
   "cell_type": "markdown",
   "metadata": {},
   "source": [
    "By printing the squad_dataset variable, we can see it is a dict composed by two key-values: the 'train' key, with all the train dataset as value, and the 'validation' key, with all the validation dataset as value. In this first part, we're using just the train dataset. Let's explore it a little bit, shall we?"
   ]
  },
  {
   "attachments": {},
   "cell_type": "markdown",
   "metadata": {},
   "source": [
    "## **Training dataset**"
   ]
  },
  {
   "attachments": {},
   "cell_type": "markdown",
   "metadata": {},
   "source": [
    "As we saw, we have and dict with two key-values. Let's access the \"train\" key."
   ]
  },
  {
   "cell_type": "code",
   "execution_count": 9,
   "metadata": {},
   "outputs": [
    {
     "data": {
      "text/plain": [
       "Dataset({\n",
       "    features: ['id', 'title', 'context', 'question', 'answers'],\n",
       "    num_rows: 87599\n",
       "})"
      ]
     },
     "execution_count": 9,
     "metadata": {},
     "output_type": "execute_result"
    }
   ],
   "source": [
    "squad_train_dataset = squad_dataset['train']\n",
    "squad_train_dataset"
   ]
  },
  {
   "attachments": {},
   "cell_type": "markdown",
   "metadata": {},
   "source": [
    "We can see that, inside the squad_train_dataset, we have another type of data, which is a Dataset type, (very similar to a dict) composed by two key-values: 'features' and 'num_rows'. \n",
    "We have in this Dataset 87599 rows, which corresponds to 87599 indixes inside it, each index corresponds to one question-anwser input for our model, like this:\n",
    "\n"
   ]
  },
  {
   "cell_type": "code",
   "execution_count": 10,
   "metadata": {},
   "outputs": [
    {
     "data": {
      "text/plain": [
       "{'id': '5733be284776f4190066117f',\n",
       " 'title': 'University_of_Notre_Dame',\n",
       " 'context': 'Architecturally, the school has a Catholic character. Atop the Main Building\\'s gold dome is a golden statue of the Virgin Mary. Immediately in front of the Main Building and facing it, is a copper statue of Christ with arms upraised with the legend \"Venite Ad Me Omnes\". Next to the Main Building is the Basilica of the Sacred Heart. Immediately behind the basilica is the Grotto, a Marian place of prayer and reflection. It is a replica of the grotto at Lourdes, France where the Virgin Mary reputedly appeared to Saint Bernadette Soubirous in 1858. At the end of the main drive (and in a direct line that connects through 3 statues and the Gold Dome), is a simple, modern stone statue of Mary.',\n",
       " 'question': 'What is in front of the Notre Dame Main Building?',\n",
       " 'answers': {'text': ['a copper statue of Christ'], 'answer_start': [188]}}"
      ]
     },
     "execution_count": 10,
     "metadata": {},
     "output_type": "execute_result"
    }
   ],
   "source": [
    "index_input = 1\n",
    "\n",
    "squad_train_dataset[index_input]"
   ]
  },
  {
   "attachments": {},
   "cell_type": "markdown",
   "metadata": {},
   "source": [
    "Looking into the this input of this Dataset object, we can see our first input.\n",
    "\n",
    "The inputs are a dict where each key comes from the 'features' list we just seen earlier, so we have:\n",
    "\n",
    "- id: A unique id for each input\n",
    "- title: The title for the question-answer (to give context)\n",
    "- context: The text input for the model to search the answer for the question\n",
    "- question: The question based on the context\n",
    "- answers: The answer based on the context\n",
    "\n",
    "Each of this feature can be accessed individually, like this:"
   ]
  },
  {
   "cell_type": "code",
   "execution_count": 11,
   "metadata": {},
   "outputs": [
    {
     "name": "stderr",
     "output_type": "stream",
     "text": [
      "2025-06-12 17:48:53 - INFO - University_of_Notre_Dame\n",
      "2025-06-12 17:48:53 - INFO - Architecturally, the school has a Catholic character. Atop the Main Building's gold dome is a golden statue of the Virgin Mary. Immediately in front of the Main Building and facing it, is a copper statue of Christ with arms upraised with the legend \"Venite Ad Me Omnes\". Next to the Main Building is the Basilica of the Sacred Heart. Immediately behind the basilica is the Grotto, a Marian place of prayer and reflection. It is a replica of the grotto at Lourdes, France where the Virgin Mary reputedly appeared to Saint Bernadette Soubirous in 1858. At the end of the main drive (and in a direct line that connects through 3 statues and the Gold Dome), is a simple, modern stone statue of Mary.\n",
      "2025-06-12 17:48:53 - INFO - What is in front of the Notre Dame Main Building?\n",
      "2025-06-12 17:48:53 - INFO - {'text': ['a copper statue of Christ'], 'answer_start': [188]}\n"
     ]
    }
   ],
   "source": [
    "logger.info(squad_train_dataset[index_input]['title'])\n",
    "logger.info(squad_train_dataset[index_input]['context'])\n",
    "logger.info(squad_train_dataset[index_input]['question'])\n",
    "logger.info(squad_train_dataset[index_input]['answers'])"
   ]
  },
  {
   "attachments": {},
   "cell_type": "markdown",
   "metadata": {},
   "source": [
    "Something important to notice here is that the 'answers' is an key composed by a dict as a value with two key-values: 'text' and 'answer_start'.\n",
    "The 'text' key corresponds to a list with the text answers, so yes! We can have more than one answer for each question in the datasets!\n",
    "In this case, for the first input we just have one answer. But we should check in the rest of the inputs. Let's do this using the filter method."
   ]
  },
  {
   "cell_type": "code",
   "execution_count": 12,
   "metadata": {},
   "outputs": [
    {
     "data": {
      "application/vnd.jupyter.widget-view+json": {
       "model_id": "c37e22c9cb56458e8fcfd06d38d7049b",
       "version_major": 2,
       "version_minor": 0
      },
      "text/plain": [
       "Filter:   0%|          | 0/87599 [00:00<?, ? examples/s]"
      ]
     },
     "metadata": {},
     "output_type": "display_data"
    },
    {
     "data": {
      "text/plain": [
       "Dataset({\n",
       "    features: ['id', 'title', 'context', 'question', 'answers'],\n",
       "    num_rows: 0\n",
       "})"
      ]
     },
     "execution_count": 12,
     "metadata": {},
     "output_type": "execute_result"
    }
   ],
   "source": [
    "# Checking in the train dataset if we have just one answer for each question\n",
    "squad_train_dataset.filter(lambda x: len(x['answers']['text']) != 1)"
   ]
  },
  {
   "attachments": {},
   "cell_type": "markdown",
   "metadata": {},
   "source": [
    "Great, we don't have more than one answer for each question. \n",
    "\n",
    "Well, we're done exploring the train dataset. Let's go to the next part, shall we?"
   ]
  },
  {
   "attachments": {},
   "cell_type": "markdown",
   "metadata": {},
   "source": [
    "# Tokenizer"
   ]
  },
  {
   "attachments": {},
   "cell_type": "markdown",
   "metadata": {},
   "source": [
    "<b>🧐 What is a tokenizer?</b>\n",
    "\n",
    "A tokenizer is in charge of preparing the inputs for a model. There are a range of tokenizers, so let's get to know the BERT tokenizer and what it does with the text.\n",
    "</div>"
   ]
  },
  {
   "attachments": {},
   "cell_type": "markdown",
   "metadata": {},
   "source": [
    "## **BERT Tokenizer**"
   ]
  },
  {
   "attachments": {},
   "cell_type": "markdown",
   "metadata": {},
   "source": [
    "First thing we have to do is to load the [BERT](https://huggingface.co/docs/transformers/model_doc/bert) pre-trained model from the HuggigngFace Hub. In this case, we're using the [distilbert-base-cased](https://huggingface.co/distilbert-base-cased) model."
   ]
  },
  {
   "cell_type": "code",
   "execution_count": 13,
   "metadata": {},
   "outputs": [
    {
     "data": {
      "application/vnd.jupyter.widget-view+json": {
       "model_id": "e12821379c2844d8b24263f1343b1b01",
       "version_major": 2,
       "version_minor": 0
      },
      "text/plain": [
       "tokenizer_config.json:   0%|          | 0.00/49.0 [00:00<?, ?B/s]"
      ]
     },
     "metadata": {},
     "output_type": "display_data"
    },
    {
     "data": {
      "application/vnd.jupyter.widget-view+json": {
       "model_id": "2a15ae4ee7784a4c9cd60f7039cb6539",
       "version_major": 2,
       "version_minor": 0
      },
      "text/plain": [
       "config.json:   0%|          | 0.00/465 [00:00<?, ?B/s]"
      ]
     },
     "metadata": {},
     "output_type": "display_data"
    },
    {
     "data": {
      "application/vnd.jupyter.widget-view+json": {
       "model_id": "e783432c106f4f92ab9ed8e172d2e896",
       "version_major": 2,
       "version_minor": 0
      },
      "text/plain": [
       "vocab.txt:   0%|          | 0.00/213k [00:00<?, ?B/s]"
      ]
     },
     "metadata": {},
     "output_type": "display_data"
    },
    {
     "data": {
      "application/vnd.jupyter.widget-view+json": {
       "model_id": "71b35b132ced488db8f52a5f92e7186d",
       "version_major": 2,
       "version_minor": 0
      },
      "text/plain": [
       "tokenizer.json:   0%|          | 0.00/436k [00:00<?, ?B/s]"
      ]
     },
     "metadata": {},
     "output_type": "display_data"
    }
   ],
   "source": [
    "model_checkpoint_bbc = MODEL_CHECKPOINT #\"bert-base-cased\" is a larger option if you want to test!\n",
    "tokenizer = AutoTokenizer.from_pretrained(model_checkpoint_bbc) # getting the model's tokenizer "
   ]
  },
  {
   "attachments": {},
   "cell_type": "markdown",
   "metadata": {},
   "source": [
    "For exploring it, let's take the same sample from the train dataset exploration."
   ]
  },
  {
   "cell_type": "code",
   "execution_count": 14,
   "metadata": {},
   "outputs": [
    {
     "name": "stderr",
     "output_type": "stream",
     "text": [
      "2025-06-12 17:48:57 - INFO - Architecturally, the school has a Catholic character. Atop the Main Building's gold dome is a golden statue of the Virgin Mary. Immediately in front of the Main Building and facing it, is a copper statue of Christ with arms upraised with the legend \"Venite Ad Me Omnes\". Next to the Main Building is the Basilica of the Sacred Heart. Immediately behind the basilica is the Grotto, a Marian place of prayer and reflection. It is a replica of the grotto at Lourdes, France where the Virgin Mary reputedly appeared to Saint Bernadette Soubirous in 1858. At the end of the main drive (and in a direct line that connects through 3 statues and the Gold Dome), is a simple, modern stone statue of Mary.\n",
      "2025-06-12 17:48:57 - INFO - What is in front of the Notre Dame Main Building?\n"
     ]
    }
   ],
   "source": [
    "# getting just context and the question\n",
    "#print(index_input) # uncoment to remember the index\n",
    "context = squad_train_dataset[index_input]['context'] \n",
    "question = squad_train_dataset[index_input]['question']\n",
    "logger.info(context)\n",
    "logger.info(question)"
   ]
  },
  {
   "attachments": {},
   "cell_type": "markdown",
   "metadata": {},
   "source": [
    "Let's pass the question and the context for the tokenizer, in this order, since it is the way BERT receives the inputs."
   ]
  },
  {
   "cell_type": "code",
   "execution_count": 15,
   "metadata": {},
   "outputs": [
    {
     "data": {
      "text/plain": [
       "{'input_ids': [101, 1327, 1110, 1107, 1524, 1104, 1103, 10360, 8022, 4304, 4334, 136, 102, 22182, 1193, 117, 1103, 1278, 1144, 170, 2336, 1959, 119, 1335, 4184, 1103, 4304, 4334, 112, 188, 2284, 10945, 1110, 170, 5404, 5921, 1104, 1103, 6567, 2090, 119, 13301, 1107, 1524, 1104, 1103, 4304, 4334, 1105, 4749, 1122, 117, 1110, 170, 7335, 5921, 1104, 4028, 1114, 1739, 1146, 14089, 5591, 1114, 1103, 7051, 107, 159, 21462, 1566, 24930, 2508, 152, 1306, 3965, 107, 119, 5893, 1106, 1103, 4304, 4334, 1110, 1103, 19349, 1104, 1103, 11373, 4641, 119, 13301, 1481, 1103, 171, 17506, 9538, 1110, 1103, 144, 10595, 2430, 117, 170, 14789, 1282, 1104, 8070, 1105, 9284, 119, 1135, 1110, 170, 16498, 1104, 1103, 176, 10595, 2430, 1120, 10111, 20500, 117, 1699, 1187, 1103, 6567, 2090, 25153, 1193, 1691, 1106, 2216, 17666, 6397, 3786, 1573, 25422, 13149, 1107, 8109, 119, 1335, 1103, 1322, 1104, 1103, 1514, 2797, 113, 1105, 1107, 170, 2904, 1413, 1115, 8200, 1194, 124, 11739, 1105, 1103, 3487, 17917, 114, 117, 1110, 170, 3014, 117, 2030, 2576, 5921, 1104, 2090, 119, 102], 'attention_mask': [1, 1, 1, 1, 1, 1, 1, 1, 1, 1, 1, 1, 1, 1, 1, 1, 1, 1, 1, 1, 1, 1, 1, 1, 1, 1, 1, 1, 1, 1, 1, 1, 1, 1, 1, 1, 1, 1, 1, 1, 1, 1, 1, 1, 1, 1, 1, 1, 1, 1, 1, 1, 1, 1, 1, 1, 1, 1, 1, 1, 1, 1, 1, 1, 1, 1, 1, 1, 1, 1, 1, 1, 1, 1, 1, 1, 1, 1, 1, 1, 1, 1, 1, 1, 1, 1, 1, 1, 1, 1, 1, 1, 1, 1, 1, 1, 1, 1, 1, 1, 1, 1, 1, 1, 1, 1, 1, 1, 1, 1, 1, 1, 1, 1, 1, 1, 1, 1, 1, 1, 1, 1, 1, 1, 1, 1, 1, 1, 1, 1, 1, 1, 1, 1, 1, 1, 1, 1, 1, 1, 1, 1, 1, 1, 1, 1, 1, 1, 1, 1, 1, 1, 1, 1, 1, 1, 1, 1, 1, 1, 1, 1, 1, 1, 1, 1, 1, 1, 1, 1, 1, 1, 1, 1, 1, 1, 1]}"
      ]
     },
     "execution_count": 15,
     "metadata": {},
     "output_type": "execute_result"
    }
   ],
   "source": [
    "inputs = tokenizer(question, context) # Decoding the inputs\n",
    "inputs"
   ]
  },
  {
   "attachments": {},
   "cell_type": "markdown",
   "metadata": {},
   "source": [
    "We can see that it returned a big dict. Let's chekc its keys."
   ]
  },
  {
   "cell_type": "code",
   "execution_count": 16,
   "metadata": {},
   "outputs": [
    {
     "data": {
      "text/plain": [
       "dict_keys(['input_ids', 'attention_mask'])"
      ]
     },
     "execution_count": 16,
     "metadata": {},
     "output_type": "execute_result"
    }
   ],
   "source": [
    "inputs.keys()"
   ]
  },
  {
   "attachments": {},
   "cell_type": "markdown",
   "metadata": {},
   "source": [
    "We have 2 keys here, but in this experiment, we're just interested in the 'input_ids', okay? Let's understand it."
   ]
  },
  {
   "attachments": {},
   "cell_type": "markdown",
   "metadata": {},
   "source": [
    "### **input_ids**"
   ]
  },
  {
   "attachments": {},
   "cell_type": "markdown",
   "metadata": {},
   "source": [
    "Let's get the first 26 items."
   ]
  },
  {
   "cell_type": "code",
   "execution_count": 17,
   "metadata": {},
   "outputs": [
    {
     "name": "stderr",
     "output_type": "stream",
     "text": [
      "2025-06-12 17:48:57 - INFO - [101, 1327, 1110, 1107, 1524, 1104, 1103, 10360, 8022, 4304, 4334, 136, 102, 22182, 1193, 117, 1103, 1278, 1144, 170, 2336, 1959, 119, 1335, 4184, 1103, 4304]\n"
     ]
    }
   ],
   "source": [
    "logger.info(inputs['input_ids'][0:27])"
   ]
  },
  {
   "attachments": {},
   "cell_type": "markdown",
   "metadata": {},
   "source": [
    "You can be asking yourself what are those numbers. Let's decode them with the same tokenizer we've just used."
   ]
  },
  {
   "cell_type": "code",
   "execution_count": 18,
   "metadata": {},
   "outputs": [
    {
     "data": {
      "text/plain": [
       "'[CLS] What is in front of the Notre Dame Main Building? [SEP] Architecturally, the school has a Catholic character. Atop the Main'"
      ]
     },
     "execution_count": 18,
     "metadata": {},
     "output_type": "execute_result"
    }
   ],
   "source": [
    "tokenizer.decode(inputs['input_ids'][0:27])"
   ]
  },
  {
   "attachments": {},
   "cell_type": "markdown",
   "metadata": {},
   "source": [
    "Just like magic, right? 😌\n",
    "\n",
    "What the tokenizer did was to concatenate both the question and the context in one long string and give as output the dict with two keys, where the input_ids has a list of each token of the original context and answer in a numerical representation. For example, the token \"What\" from the text is corresponding to the input_id 1327."
   ]
  },
  {
   "attachments": {},
   "cell_type": "markdown",
   "metadata": {},
   "source": [
    "Ok, and how about the tokens [CLS] and [SEP]?\n",
    "\n",
    "Don't worry, I got you! These are called special tokens. CLS is the classification token and comes before the question. The SEP token is to delimit the begining and the end of the context. So, the format that BERT outputs is follows is:\n",
    "\n",
    "**[CLS] 'question' [SEP] 'context' [SEP]**"
   ]
  },
  {
   "attachments": {},
   "cell_type": "markdown",
   "metadata": {},
   "source": [
    "### **BERT and (way too) long contexts**"
   ]
  },
  {
   "attachments": {},
   "cell_type": "markdown",
   "metadata": {},
   "source": [
    "We saw that the context of the inputs can be very long. Let's get the context from the previous part."
   ]
  },
  {
   "cell_type": "code",
   "execution_count": 19,
   "metadata": {},
   "outputs": [
    {
     "name": "stderr",
     "output_type": "stream",
     "text": [
      "2025-06-12 17:48:58 - INFO - Architecturally, the school has a Catholic character. Atop the Main Building's gold dome is a golden statue of the Virgin Mary. Immediately in front of the Main Building and facing it, is a copper statue of Christ with arms upraised with the legend \"Venite Ad Me Omnes\". Next to the Main Building is the Basilica of the Sacred Heart. Immediately behind the basilica is the Grotto, a Marian place of prayer and reflection. It is a replica of the grotto at Lourdes, France where the Virgin Mary reputedly appeared to Saint Bernadette Soubirous in 1858. At the end of the main drive (and in a direct line that connects through 3 statues and the Gold Dome), is a simple, modern stone statue of Mary.\n",
      "2025-06-12 17:48:58 - INFO - Total number of words: 695\n",
      "2025-06-12 17:48:58 - INFO - Total number of sentences: 7\n"
     ]
    }
   ],
   "source": [
    "sentences = 0 \n",
    "for i in context:\n",
    "    if str(i) == '.':\n",
    "        sentences += 1\n",
    "\n",
    "logger.info(context)\n",
    "logger.info(f\"Total number of words: {len(context)}\")\n",
    "logger.info(f\"Total number of sentences: {sentences}\")"
   ]
  },
  {
   "attachments": {},
   "cell_type": "markdown",
   "metadata": {},
   "source": [
    "This was something that would worry in the NLP area, since it's pretty different from other commom application like next sentence predictions where the inputs were just single sentences, and not just that: BERT can only handle a limited number of tokens! (In 2023, right now, it is limited to 512 tokens). You could think \"Why we just don't truncate the context?\". Well, this is a terrible option since our answer could be cut off from it."
   ]
  },
  {
   "attachments": {},
   "cell_type": "markdown",
   "metadata": {},
   "source": [
    "The solution that was found is to split the context into **multiple context windows**!\n",
    "It means that one data sample will turn into multiple data samples, and at least one of them will certanly contain the answer.\n",
    "\n",
    "But, what if a part of the answer begins in one window and is cut off and then the rest is in the next window?\n",
    "\n",
    "Well, in this case, we use **overlaping windows**!\n",
    "It is easier to understand and visualize all of those concepts when we use the tokenizer again. Let's go!"
   ]
  },
  {
   "attachments": {},
   "cell_type": "markdown",
   "metadata": {},
   "source": [
    "### **Understanding the model's tokenizer**"
   ]
  },
  {
   "attachments": {},
   "cell_type": "markdown",
   "metadata": {},
   "source": [
    "As before, we're using the same quenstion and context from the previous part and also passing them to the tokenizer in this specific order. \n",
    "\n",
    "- max_length: refers to the maximum length of the entire input (including the question, context and special tokens [CLS] and [SEP]). \n",
    "- truncation: here, we're saying that we just want to truncate the second input, which is the context.\n",
    "- stride: this one defines how much overlap there is between the context windows when they're splited up.\n",
    "- return_overflowing_tokens: this one is to return the overlaping tokens."
   ]
  },
  {
   "cell_type": "code",
   "execution_count": 20,
   "metadata": {},
   "outputs": [],
   "source": [
    "inputs = tokenizer(\n",
    "    question,\n",
    "    context, \n",
    "    max_length=100,\n",
    "    truncation=\"only_second\",\n",
    "    stride=50,\n",
    "    return_overflowing_tokens=True\n",
    ")"
   ]
  },
  {
   "attachments": {},
   "cell_type": "markdown",
   "metadata": {},
   "source": [
    "Let's see what we've got in the inputs and its keys."
   ]
  },
  {
   "cell_type": "code",
   "execution_count": 21,
   "metadata": {},
   "outputs": [
    {
     "name": "stderr",
     "output_type": "stream",
     "text": [
      "2025-06-12 17:48:58 - INFO - {'input_ids': [[101, 1327, 1110, 1107, 1524, 1104, 1103, 10360, 8022, 4304, 4334, 136, 102, 22182, 1193, 117, 1103, 1278, 1144, 170, 2336, 1959, 119, 1335, 4184, 1103, 4304, 4334, 112, 188, 2284, 10945, 1110, 170, 5404, 5921, 1104, 1103, 6567, 2090, 119, 13301, 1107, 1524, 1104, 1103, 4304, 4334, 1105, 4749, 1122, 117, 1110, 170, 7335, 5921, 1104, 4028, 1114, 1739, 1146, 14089, 5591, 1114, 1103, 7051, 107, 159, 21462, 1566, 24930, 2508, 152, 1306, 3965, 107, 119, 5893, 1106, 1103, 4304, 4334, 1110, 1103, 19349, 1104, 1103, 11373, 4641, 119, 13301, 1481, 1103, 171, 17506, 9538, 1110, 1103, 144, 102], [101, 1327, 1110, 1107, 1524, 1104, 1103, 10360, 8022, 4304, 4334, 136, 102, 4749, 1122, 117, 1110, 170, 7335, 5921, 1104, 4028, 1114, 1739, 1146, 14089, 5591, 1114, 1103, 7051, 107, 159, 21462, 1566, 24930, 2508, 152, 1306, 3965, 107, 119, 5893, 1106, 1103, 4304, 4334, 1110, 1103, 19349, 1104, 1103, 11373, 4641, 119, 13301, 1481, 1103, 171, 17506, 9538, 1110, 1103, 144, 10595, 2430, 117, 170, 14789, 1282, 1104, 8070, 1105, 9284, 119, 1135, 1110, 170, 16498, 1104, 1103, 176, 10595, 2430, 1120, 10111, 20500, 117, 1699, 1187, 1103, 6567, 2090, 25153, 1193, 1691, 1106, 2216, 17666, 6397, 102], [101, 1327, 1110, 1107, 1524, 1104, 1103, 10360, 8022, 4304, 4334, 136, 102, 1104, 1103, 11373, 4641, 119, 13301, 1481, 1103, 171, 17506, 9538, 1110, 1103, 144, 10595, 2430, 117, 170, 14789, 1282, 1104, 8070, 1105, 9284, 119, 1135, 1110, 170, 16498, 1104, 1103, 176, 10595, 2430, 1120, 10111, 20500, 117, 1699, 1187, 1103, 6567, 2090, 25153, 1193, 1691, 1106, 2216, 17666, 6397, 3786, 1573, 25422, 13149, 1107, 8109, 119, 1335, 1103, 1322, 1104, 1103, 1514, 2797, 113, 1105, 1107, 170, 2904, 1413, 1115, 8200, 1194, 124, 11739, 1105, 1103, 3487, 17917, 114, 117, 1110, 170, 3014, 117, 2030, 102], [101, 1327, 1110, 1107, 1524, 1104, 1103, 10360, 8022, 4304, 4334, 136, 102, 20500, 117, 1699, 1187, 1103, 6567, 2090, 25153, 1193, 1691, 1106, 2216, 17666, 6397, 3786, 1573, 25422, 13149, 1107, 8109, 119, 1335, 1103, 1322, 1104, 1103, 1514, 2797, 113, 1105, 1107, 170, 2904, 1413, 1115, 8200, 1194, 124, 11739, 1105, 1103, 3487, 17917, 114, 117, 1110, 170, 3014, 117, 2030, 2576, 5921, 1104, 2090, 119, 102]], 'attention_mask': [[1, 1, 1, 1, 1, 1, 1, 1, 1, 1, 1, 1, 1, 1, 1, 1, 1, 1, 1, 1, 1, 1, 1, 1, 1, 1, 1, 1, 1, 1, 1, 1, 1, 1, 1, 1, 1, 1, 1, 1, 1, 1, 1, 1, 1, 1, 1, 1, 1, 1, 1, 1, 1, 1, 1, 1, 1, 1, 1, 1, 1, 1, 1, 1, 1, 1, 1, 1, 1, 1, 1, 1, 1, 1, 1, 1, 1, 1, 1, 1, 1, 1, 1, 1, 1, 1, 1, 1, 1, 1, 1, 1, 1, 1, 1, 1, 1, 1, 1, 1], [1, 1, 1, 1, 1, 1, 1, 1, 1, 1, 1, 1, 1, 1, 1, 1, 1, 1, 1, 1, 1, 1, 1, 1, 1, 1, 1, 1, 1, 1, 1, 1, 1, 1, 1, 1, 1, 1, 1, 1, 1, 1, 1, 1, 1, 1, 1, 1, 1, 1, 1, 1, 1, 1, 1, 1, 1, 1, 1, 1, 1, 1, 1, 1, 1, 1, 1, 1, 1, 1, 1, 1, 1, 1, 1, 1, 1, 1, 1, 1, 1, 1, 1, 1, 1, 1, 1, 1, 1, 1, 1, 1, 1, 1, 1, 1, 1, 1, 1, 1], [1, 1, 1, 1, 1, 1, 1, 1, 1, 1, 1, 1, 1, 1, 1, 1, 1, 1, 1, 1, 1, 1, 1, 1, 1, 1, 1, 1, 1, 1, 1, 1, 1, 1, 1, 1, 1, 1, 1, 1, 1, 1, 1, 1, 1, 1, 1, 1, 1, 1, 1, 1, 1, 1, 1, 1, 1, 1, 1, 1, 1, 1, 1, 1, 1, 1, 1, 1, 1, 1, 1, 1, 1, 1, 1, 1, 1, 1, 1, 1, 1, 1, 1, 1, 1, 1, 1, 1, 1, 1, 1, 1, 1, 1, 1, 1, 1, 1, 1, 1], [1, 1, 1, 1, 1, 1, 1, 1, 1, 1, 1, 1, 1, 1, 1, 1, 1, 1, 1, 1, 1, 1, 1, 1, 1, 1, 1, 1, 1, 1, 1, 1, 1, 1, 1, 1, 1, 1, 1, 1, 1, 1, 1, 1, 1, 1, 1, 1, 1, 1, 1, 1, 1, 1, 1, 1, 1, 1, 1, 1, 1, 1, 1, 1, 1, 1, 1, 1, 1]], 'overflow_to_sample_mapping': [0, 0, 0, 0]}\n",
      "2025-06-12 17:48:58 - INFO - dict_keys(['input_ids', 'attention_mask', 'overflow_to_sample_mapping'])\n"
     ]
    }
   ],
   "source": [
    "logger.info(inputs)\n",
    "logger.info(inputs.keys())"
   ]
  },
  {
   "attachments": {},
   "cell_type": "markdown",
   "metadata": {},
   "source": [
    "Despite the 'attention_mask' key appears again, we're just interested in the other 2 keys. Let's dive in!"
   ]
  },
  {
   "attachments": {},
   "cell_type": "markdown",
   "metadata": {},
   "source": [
    "#### **input_ids**"
   ]
  },
  {
   "attachments": {},
   "cell_type": "markdown",
   "metadata": {},
   "source": [
    "We can see now that the 'input_ids' is now a list of lists."
   ]
  },
  {
   "cell_type": "code",
   "execution_count": 22,
   "metadata": {},
   "outputs": [
    {
     "name": "stderr",
     "output_type": "stream",
     "text": [
      "2025-06-12 17:48:58 - INFO - Total number of lists: 4\n"
     ]
    }
   ],
   "source": [
    "logger.info(f'Total number of lists: {len(inputs[\"input_ids\"])}')"
   ]
  },
  {
   "attachments": {},
   "cell_type": "markdown",
   "metadata": {},
   "source": [
    "Let's decode those lists and see what we have."
   ]
  },
  {
   "cell_type": "code",
   "execution_count": 23,
   "metadata": {},
   "outputs": [
    {
     "name": "stderr",
     "output_type": "stream",
     "text": [
      "2025-06-12 17:48:58 - INFO - [CLS] What is in front of the Notre Dame Main Building? [SEP] Architecturally, the school has a Catholic character. Atop the Main Building ' s gold dome is a golden statue of the Virgin Mary. Immediately in front of the Main Building and facing it, is a copper statue of Christ with arms upraised with the legend \" Venite Ad Me Omnes \". Next to the Main Building is the Basilica of the Sacred Heart. Immediately behind the basilica is the G [SEP]\n",
      "2025-06-12 17:48:58 - INFO - [CLS] What is in front of the Notre Dame Main Building? [SEP] facing it, is a copper statue of Christ with arms upraised with the legend \" Venite Ad Me Omnes \". Next to the Main Building is the Basilica of the Sacred Heart. Immediately behind the basilica is the Grotto, a Marian place of prayer and reflection. It is a replica of the grotto at Lourdes, France where the Virgin Mary reputedly appeared to Saint Bernade [SEP]\n",
      "2025-06-12 17:48:58 - INFO - [CLS] What is in front of the Notre Dame Main Building? [SEP] of the Sacred Heart. Immediately behind the basilica is the Grotto, a Marian place of prayer and reflection. It is a replica of the grotto at Lourdes, France where the Virgin Mary reputedly appeared to Saint Bernadette Soubirous in 1858. At the end of the main drive ( and in a direct line that connects through 3 statues and the Gold Dome ), is a simple, modern [SEP]\n",
      "2025-06-12 17:48:58 - INFO - [CLS] What is in front of the Notre Dame Main Building? [SEP]rdes, France where the Virgin Mary reputedly appeared to Saint Bernadette Soubirous in 1858. At the end of the main drive ( and in a direct line that connects through 3 statues and the Gold Dome ), is a simple, modern stone statue of Mary. [SEP]\n"
     ]
    }
   ],
   "source": [
    "for id in inputs[\"input_ids\"]:\n",
    "    logger.info(tokenizer.decode(id))"
   ]
  },
  {
   "attachments": {},
   "cell_type": "markdown",
   "metadata": {},
   "source": [
    "Wonderful! The tokenizer has splited the context into 4 different inputs and has conserved the question and the special tokens in each one of them."
   ]
  },
  {
   "attachments": {},
   "cell_type": "markdown",
   "metadata": {},
   "source": [
    "#### **overflow_to_sample_mapping**"
   ]
  },
  {
   "attachments": {},
   "cell_type": "markdown",
   "metadata": {},
   "source": [
    "To do a better demonstration of what is this new key, let's pass to the tokenizer more than one input sample."
   ]
  },
  {
   "cell_type": "code",
   "execution_count": 24,
   "metadata": {},
   "outputs": [
    {
     "name": "stderr",
     "output_type": "stream",
     "text": [
      "2025-06-12 17:48:59 - INFO - To whom did the Virgin Mary allegedly appear in 1858 in Lourdes France?\n",
      "2025-06-12 17:48:59 - INFO - What is in front of the Notre Dame Main Building?\n",
      "2025-06-12 17:48:59 - INFO - The Basilica of the Sacred heart at Notre Dame is beside to which structure?\n"
     ]
    }
   ],
   "source": [
    "question_samples = squad_train_dataset[:3][\"question\"] # Getting the first 3 questions\n",
    "context_samples = squad_train_dataset[:3][\"context\"] #  and contexts\n",
    "\n",
    "for i in question_samples:\n",
    "    logger.info(i)"
   ]
  },
  {
   "cell_type": "code",
   "execution_count": 25,
   "metadata": {},
   "outputs": [
    {
     "name": "stderr",
     "output_type": "stream",
     "text": [
      "2025-06-12 17:48:59 - INFO - Architecturally, the school has a Catholic character. Atop the Main Building's gold dome is a golden statue of the Virgin Mary. Immediately in front of the Main Building and facing it, is a copper statue of Christ with arms upraised with the legend \"Venite Ad Me Omnes\". Next to the Main Building is the Basilica of the Sacred Heart. Immediately behind the basilica is the Grotto, a Marian place of prayer and reflection. It is a replica of the grotto at Lourdes, France where the Virgin Mary reputedly appeared to Saint Bernadette Soubirous in 1858. At the end of the main drive (and in a direct line that connects through 3 statues and the Gold Dome), is a simple, modern stone statue of Mary.\n"
     ]
    }
   ],
   "source": [
    "logger.info(context) # You can check if you want but those questions are from the same context, so no need to print all of the 3."
   ]
  },
  {
   "attachments": {},
   "cell_type": "markdown",
   "metadata": {},
   "source": [
    "Let's set up the tokenizer with these new samples and one more argument to understand the overflow mapping:\n",
    "\n",
    "- return_offsets_mapping: this returns the start and end character for each token (it will be explained after this part)"
   ]
  },
  {
   "cell_type": "code",
   "execution_count": 26,
   "metadata": {},
   "outputs": [],
   "source": [
    "inputs = tokenizer(\n",
    "    question_samples, \n",
    "    context_samples,\n",
    "    max_length=100,\n",
    "    truncation=\"only_second\",\n",
    "    stride=50,\n",
    "    return_overflowing_tokens=True,\n",
    "    return_offsets_mapping=True\n",
    ")"
   ]
  },
  {
   "attachments": {},
   "cell_type": "markdown",
   "metadata": {},
   "source": [
    "Let's see how many windows we have now with 3 inputs:"
   ]
  },
  {
   "cell_type": "code",
   "execution_count": 27,
   "metadata": {},
   "outputs": [
    {
     "name": "stderr",
     "output_type": "stream",
     "text": [
      "2025-06-12 17:48:59 - INFO - 12\n"
     ]
    }
   ],
   "source": [
    "logger.info(len(inputs[\"input_ids\"]))"
   ]
  },
  {
   "attachments": {},
   "cell_type": "markdown",
   "metadata": {},
   "source": [
    "Great! But how do we know how much each input was splitted on? That's what the overflow_to_sample_mapping gives to us! Look at this:"
   ]
  },
  {
   "cell_type": "code",
   "execution_count": 28,
   "metadata": {},
   "outputs": [
    {
     "data": {
      "text/plain": [
       "[0, 0, 0, 0, 1, 1, 1, 1, 2, 2, 2, 2]"
      ]
     },
     "execution_count": 28,
     "metadata": {},
     "output_type": "execute_result"
    }
   ],
   "source": [
    "inputs[\"overflow_to_sample_mapping\"]"
   ]
  },
  {
   "attachments": {},
   "cell_type": "markdown",
   "metadata": {},
   "source": [
    "The first sample corresponds to 0, so it was splied into 4 windows. The second sample corresponds to 1, and it was also splitted into 4 windows. The for the third sample, which is number 2. Since they como from the same context, it's usual to have the same amount of windows for the samples."
   ]
  },
  {
   "cell_type": "code",
   "execution_count": 29,
   "metadata": {},
   "outputs": [
    {
     "name": "stderr",
     "output_type": "stream",
     "text": [
      "2025-06-12 17:48:59 - INFO - [CLS] To whom did the Virgin Mary allegedly appear in 1858 in Lourdes France? [SEP] Architecturally, the school has a Catholic character. Atop the Main Building ' s gold dome is a golden statue of the Virgin Mary. Immediately in front of the Main Building and facing it, is a copper statue of Christ with arms upraised with the legend \" Venite Ad Me Omnes \". Next to the Main Building is the Basilica of the Sacred Heart. Immediately behind the basi [SEP]\n",
      "2025-06-12 17:48:59 - INFO - [CLS] To whom did the Virgin Mary allegedly appear in 1858 in Lourdes France? [SEP] the Main Building and facing it, is a copper statue of Christ with arms upraised with the legend \" Venite Ad Me Omnes \". Next to the Main Building is the Basilica of the Sacred Heart. Immediately behind the basilica is the Grotto, a Marian place of prayer and reflection. It is a replica of the grotto at Lourdes, France where the Virgin [SEP]\n",
      "2025-06-12 17:48:59 - INFO - [CLS] To whom did the Virgin Mary allegedly appear in 1858 in Lourdes France? [SEP] Next to the Main Building is the Basilica of the Sacred Heart. Immediately behind the basilica is the Grotto, a Marian place of prayer and reflection. It is a replica of the grotto at Lourdes, France where the Virgin Mary reputedly appeared to Saint Bernadette Soubirous in 1858. At the end of the main drive ( and in a direct line that connects through 3 [SEP]\n",
      "2025-06-12 17:48:59 - INFO - [CLS] To whom did the Virgin Mary allegedly appear in 1858 in Lourdes France? [SEP]. It is a replica of the grotto at Lourdes, France where the Virgin Mary reputedly appeared to Saint Bernadette Soubirous in 1858. At the end of the main drive ( and in a direct line that connects through 3 statues and the Gold Dome ), is a simple, modern stone statue of Mary. [SEP]\n",
      "2025-06-12 17:48:59 - INFO - [CLS] What is in front of the Notre Dame Main Building? [SEP] Architecturally, the school has a Catholic character. Atop the Main Building ' s gold dome is a golden statue of the Virgin Mary. Immediately in front of the Main Building and facing it, is a copper statue of Christ with arms upraised with the legend \" Venite Ad Me Omnes \". Next to the Main Building is the Basilica of the Sacred Heart. Immediately behind the basilica is the G [SEP]\n",
      "2025-06-12 17:48:59 - INFO - [CLS] What is in front of the Notre Dame Main Building? [SEP] facing it, is a copper statue of Christ with arms upraised with the legend \" Venite Ad Me Omnes \". Next to the Main Building is the Basilica of the Sacred Heart. Immediately behind the basilica is the Grotto, a Marian place of prayer and reflection. It is a replica of the grotto at Lourdes, France where the Virgin Mary reputedly appeared to Saint Bernade [SEP]\n",
      "2025-06-12 17:48:59 - INFO - [CLS] What is in front of the Notre Dame Main Building? [SEP] of the Sacred Heart. Immediately behind the basilica is the Grotto, a Marian place of prayer and reflection. It is a replica of the grotto at Lourdes, France where the Virgin Mary reputedly appeared to Saint Bernadette Soubirous in 1858. At the end of the main drive ( and in a direct line that connects through 3 statues and the Gold Dome ), is a simple, modern [SEP]\n",
      "2025-06-12 17:48:59 - INFO - [CLS] What is in front of the Notre Dame Main Building? [SEP]rdes, France where the Virgin Mary reputedly appeared to Saint Bernadette Soubirous in 1858. At the end of the main drive ( and in a direct line that connects through 3 statues and the Gold Dome ), is a simple, modern stone statue of Mary. [SEP]\n",
      "2025-06-12 17:48:59 - INFO - [CLS] The Basilica of the Sacred heart at Notre Dame is beside to which structure? [SEP] Architecturally, the school has a Catholic character. Atop the Main Building ' s gold dome is a golden statue of the Virgin Mary. Immediately in front of the Main Building and facing it, is a copper statue of Christ with arms upraised with the legend \" Venite Ad Me Omnes \". Next to the Main Building is the Basilica of the Sacred Heart. Immediately behind the basi [SEP]\n",
      "2025-06-12 17:48:59 - INFO - [CLS] The Basilica of the Sacred heart at Notre Dame is beside to which structure? [SEP] the Main Building and facing it, is a copper statue of Christ with arms upraised with the legend \" Venite Ad Me Omnes \". Next to the Main Building is the Basilica of the Sacred Heart. Immediately behind the basilica is the Grotto, a Marian place of prayer and reflection. It is a replica of the grotto at Lourdes, France where the Virgin [SEP]\n",
      "2025-06-12 17:48:59 - INFO - [CLS] The Basilica of the Sacred heart at Notre Dame is beside to which structure? [SEP] Next to the Main Building is the Basilica of the Sacred Heart. Immediately behind the basilica is the Grotto, a Marian place of prayer and reflection. It is a replica of the grotto at Lourdes, France where the Virgin Mary reputedly appeared to Saint Bernadette Soubirous in 1858. At the end of the main drive ( and in a direct line that connects through 3 [SEP]\n",
      "2025-06-12 17:48:59 - INFO - [CLS] The Basilica of the Sacred heart at Notre Dame is beside to which structure? [SEP]. It is a replica of the grotto at Lourdes, France where the Virgin Mary reputedly appeared to Saint Bernadette Soubirous in 1858. At the end of the main drive ( and in a direct line that connects through 3 statues and the Gold Dome ), is a simple, modern stone statue of Mary. [SEP]\n"
     ]
    }
   ],
   "source": [
    "for id in inputs[\"input_ids\"]:\n",
    "    logger.info(tokenizer.decode(id))"
   ]
  },
  {
   "attachments": {},
   "cell_type": "markdown",
   "metadata": {},
   "source": [
    "#### **offset_mapping**"
   ]
  },
  {
   "attachments": {},
   "cell_type": "markdown",
   "metadata": {},
   "source": [
    "To do a better demonstration, let's go back to the single input and pass to the same tokenizer from the previous part."
   ]
  },
  {
   "cell_type": "code",
   "execution_count": 30,
   "metadata": {},
   "outputs": [],
   "source": [
    "# print(question, \"\\n\", context) # descoment this cell if you don't remember them"
   ]
  },
  {
   "cell_type": "code",
   "execution_count": 31,
   "metadata": {},
   "outputs": [
    {
     "data": {
      "text/plain": [
       "dict_keys(['input_ids', 'attention_mask', 'offset_mapping', 'overflow_to_sample_mapping'])"
      ]
     },
     "execution_count": 31,
     "metadata": {},
     "output_type": "execute_result"
    }
   ],
   "source": [
    "inputs = tokenizer(\n",
    "    question,\n",
    "    context, \n",
    "    max_length=100,\n",
    "    truncation=\"only_second\",\n",
    "    stride=50,\n",
    "    return_overflowing_tokens=True,\n",
    "    return_offsets_mapping=True\n",
    ")\n",
    "\n",
    "inputs.keys()"
   ]
  },
  {
   "attachments": {},
   "cell_type": "markdown",
   "metadata": {},
   "source": [
    "We have now a new key, the offset_mapping key. Let's see it."
   ]
  },
  {
   "cell_type": "code",
   "execution_count": 32,
   "metadata": {},
   "outputs": [
    {
     "name": "stderr",
     "output_type": "stream",
     "text": [
      "2025-06-12 17:49:00 - INFO - [[(0, 0), (0, 4), (5, 7), (8, 10), (11, 16), (17, 19), (20, 23), (24, 29), (30, 34), (35, 39), (40, 48), (48, 49), (0, 0), (0, 13), (13, 15), (15, 16), (17, 20), (21, 27), (28, 31), (32, 33), (34, 42), (43, 52), (52, 53), (54, 56), (56, 58), (59, 62), (63, 67), (68, 76), (76, 77), (77, 78), (79, 83), (84, 88), (89, 91), (92, 93), (94, 100), (101, 107), (108, 110), (111, 114), (115, 121), (122, 126), (126, 127), (128, 139), (140, 142), (143, 148), (149, 151), (152, 155), (156, 160), (161, 169), (170, 173), (174, 180), (181, 183), (183, 184), (185, 187), (188, 189), (190, 196), (197, 203), (204, 206), (207, 213), (214, 218), (219, 223), (224, 226), (226, 229), (229, 232), (233, 237), (238, 241), (242, 248), (249, 250), (250, 251), (251, 254), (254, 256), (257, 259), (260, 262), (263, 264), (264, 265), (265, 268), (268, 269), (269, 270), (271, 275), (276, 278), (279, 282), (283, 287), (288, 296), (297, 299), (300, 303), (304, 312), (313, 315), (316, 319), (320, 326), (327, 332), (332, 333), (334, 345), (346, 352), (353, 356), (357, 358), (358, 361), (361, 365), (366, 368), (369, 372), (373, 374), (0, 0)], [(0, 0), (0, 4), (5, 7), (8, 10), (11, 16), (17, 19), (20, 23), (24, 29), (30, 34), (35, 39), (40, 48), (48, 49), (0, 0), (174, 180), (181, 183), (183, 184), (185, 187), (188, 189), (190, 196), (197, 203), (204, 206), (207, 213), (214, 218), (219, 223), (224, 226), (226, 229), (229, 232), (233, 237), (238, 241), (242, 248), (249, 250), (250, 251), (251, 254), (254, 256), (257, 259), (260, 262), (263, 264), (264, 265), (265, 268), (268, 269), (269, 270), (271, 275), (276, 278), (279, 282), (283, 287), (288, 296), (297, 299), (300, 303), (304, 312), (313, 315), (316, 319), (320, 326), (327, 332), (332, 333), (334, 345), (346, 352), (353, 356), (357, 358), (358, 361), (361, 365), (366, 368), (369, 372), (373, 374), (374, 377), (377, 379), (379, 380), (381, 382), (383, 389), (390, 395), (396, 398), (399, 405), (406, 409), (410, 420), (420, 421), (422, 424), (425, 427), (428, 429), (430, 437), (438, 440), (441, 444), (445, 446), (446, 449), (449, 451), (452, 454), (455, 458), (458, 462), (462, 463), (464, 470), (471, 476), (477, 480), (481, 487), (488, 492), (493, 500), (500, 502), (503, 511), (512, 514), (515, 520), (521, 525), (525, 528), (0, 0)]]\n"
     ]
    }
   ],
   "source": [
    "logger.info(inputs['offset_mapping'][:2])"
   ]
  },
  {
   "attachments": {},
   "cell_type": "markdown",
   "metadata": {},
   "source": [
    "We can see that it is a list composed of lists of tuples."
   ]
  },
  {
   "cell_type": "code",
   "execution_count": 33,
   "metadata": {},
   "outputs": [
    {
     "name": "stderr",
     "output_type": "stream",
     "text": [
      "2025-06-12 17:49:00 - INFO - Total number of lists: 4\n"
     ]
    }
   ],
   "source": [
    "logger.info(f\"Total number of lists: {len(inputs['offset_mapping'])}\")"
   ]
  },
  {
   "attachments": {},
   "cell_type": "markdown",
   "metadata": {},
   "source": [
    "Basically, the offset_mapping tell us the location of  the start and the end of each token from the **ORIGINAL** samples! Take a look at this:"
   ]
  },
  {
   "cell_type": "code",
   "execution_count": 34,
   "metadata": {},
   "outputs": [
    {
     "name": "stderr",
     "output_type": "stream",
     "text": [
      "2025-06-12 17:49:00 - INFO - [CLS] What is in front of the Notre Dame Main Building? [SEP] Architecturally, the school has a Catholic character. Atop the Main Building ' s gold dome is a golden statue of the Virgin Mary. Immediately in front of the Main Building and facing it, is a copper statue of Christ with arms upraised with the legend \" Venite Ad Me Omnes \". Next to the Main Building is the Basilica of the Sacred Heart. Immediately behind the basilica is the G [SEP]\n",
      "2025-06-12 17:49:00 - INFO - [(0, 0), (0, 4), (5, 7), (8, 10), (11, 16), (17, 19), (20, 23), (24, 29), (30, 34), (35, 39), (40, 48), (48, 49), (0, 0), (0, 13), (13, 15), (15, 16), (17, 20), (21, 27), (28, 31), (32, 33), (34, 42), (43, 52), (52, 53), (54, 56), (56, 58), (59, 62), (63, 67), (68, 76), (76, 77), (77, 78), (79, 83), (84, 88), (89, 91), (92, 93), (94, 100), (101, 107), (108, 110), (111, 114), (115, 121), (122, 126), (126, 127), (128, 139), (140, 142), (143, 148), (149, 151), (152, 155), (156, 160), (161, 169), (170, 173), (174, 180), (181, 183), (183, 184), (185, 187), (188, 189), (190, 196), (197, 203), (204, 206), (207, 213), (214, 218), (219, 223), (224, 226), (226, 229), (229, 232), (233, 237), (238, 241), (242, 248), (249, 250), (250, 251), (251, 254), (254, 256), (257, 259), (260, 262), (263, 264), (264, 265), (265, 268), (268, 269), (269, 270), (271, 275), (276, 278), (279, 282), (283, 287), (288, 296), (297, 299), (300, 303), (304, 312), (313, 315), (316, 319), (320, 326), (327, 332), (332, 333), (334, 345), (346, 352), (353, 356), (357, 358), (358, 361), (361, 365), (366, 368), (369, 372), (373, 374), (0, 0)]\n"
     ]
    }
   ],
   "source": [
    "logger.info(tokenizer.decode(inputs['input_ids'][0])) # Taking the first window\n",
    "logger.info(inputs['offset_mapping'][0])"
   ]
  },
  {
   "attachments": {},
   "cell_type": "markdown",
   "metadata": {},
   "source": [
    "Looking at the sentence and the offset_mapping, the (0,0) is for the special tokens. The (0,4) is for the location of the token \"What\", which is composed by 4 chars, so it starts at the position 0 and ends at position 4. The next is the (5, 7) for the location of the token \"is\", which starts at position 5 and ends at position 7, and so on."
   ]
  },
  {
   "attachments": {},
   "cell_type": "markdown",
   "metadata": {},
   "source": [
    "Notice that the word 'original' from the previous text is in bold and upper case. Let's understand why this is important in the next step."
   ]
  },
  {
   "attachments": {},
   "cell_type": "markdown",
   "metadata": {},
   "source": [
    "# Targets"
   ]
  },
  {
   "attachments": {},
   "cell_type": "markdown",
   "metadata": {},
   "source": [
    "We have just seen that we can work with long contexts by spliting them into multiple windows, right?"
   ]
  },
  {
   "cell_type": "code",
   "execution_count": 35,
   "metadata": {},
   "outputs": [
    {
     "name": "stderr",
     "output_type": "stream",
     "text": [
      "2025-06-12 17:49:01 - INFO - [CLS] What is in front of the Notre Dame Main Building? [SEP] Architecturally, the school has a Catholic character. Atop the Main Building ' s gold dome is a golden statue of the Virgin Mary. Immediately in front of the Main Building and facing it, is a copper statue of Christ with arms upraised with the legend \" Venite Ad Me Omnes \". Next to the Main Building is the Basilica of the Sacred Heart. Immediately behind the basilica is the G [SEP]\n",
      "2025-06-12 17:49:01 - INFO - [CLS] What is in front of the Notre Dame Main Building? [SEP] facing it, is a copper statue of Christ with arms upraised with the legend \" Venite Ad Me Omnes \". Next to the Main Building is the Basilica of the Sacred Heart. Immediately behind the basilica is the Grotto, a Marian place of prayer and reflection. It is a replica of the grotto at Lourdes, France where the Virgin Mary reputedly appeared to Saint Bernade [SEP]\n",
      "2025-06-12 17:49:01 - INFO - [CLS] What is in front of the Notre Dame Main Building? [SEP] of the Sacred Heart. Immediately behind the basilica is the Grotto, a Marian place of prayer and reflection. It is a replica of the grotto at Lourdes, France where the Virgin Mary reputedly appeared to Saint Bernadette Soubirous in 1858. At the end of the main drive ( and in a direct line that connects through 3 statues and the Gold Dome ), is a simple, modern [SEP]\n",
      "2025-06-12 17:49:01 - INFO - [CLS] What is in front of the Notre Dame Main Building? [SEP]rdes, France where the Virgin Mary reputedly appeared to Saint Bernadette Soubirous in 1858. At the end of the main drive ( and in a direct line that connects through 3 statues and the Gold Dome ), is a simple, modern stone statue of Mary. [SEP]\n"
     ]
    }
   ],
   "source": [
    "for id in inputs[\"input_ids\"]:\n",
    "    logger.info(tokenizer.decode(id))"
   ]
  },
  {
   "attachments": {},
   "cell_type": "markdown",
   "metadata": {},
   "source": [
    "\n",
    "Well, the thing is that the answer in the dataset comes with a start position, remember?"
   ]
  },
  {
   "cell_type": "code",
   "execution_count": 36,
   "metadata": {},
   "outputs": [
    {
     "name": "stderr",
     "output_type": "stream",
     "text": [
      "2025-06-12 17:49:01 - INFO - {'text': ['a copper statue of Christ'], 'answer_start': [188]}\n"
     ]
    }
   ],
   "source": [
    "answer = squad_train_dataset[index_input]['answers']\n",
    "logger.info(answer)\n",
    "#print(context) # uncoment here to remember the original context"
   ]
  },
  {
   "attachments": {},
   "cell_type": "markdown",
   "metadata": {},
   "source": [
    "But this start position is within the original context that has not been splited yet. After spliting it into windows of context, that position is no longer valid, and for the model, this is exactly the target that it is waiting for. So, we need to align this targets within the windows now, considering that sometimes the answer may not exist in one specific window or only exist in part."
   ]
  },
  {
   "attachments": {},
   "cell_type": "markdown",
   "metadata": {},
   "source": [
    "There's an useful method we can call from the tokenizer from all models (e.g. DistilBERT, bert-base-uncased, etc) which is the sequence_ids method. Let's take a look."
   ]
  },
  {
   "attachments": {},
   "cell_type": "markdown",
   "metadata": {},
   "source": [
    "### **sequence_ids method**"
   ]
  },
  {
   "cell_type": "code",
   "execution_count": 37,
   "metadata": {},
   "outputs": [
    {
     "name": "stderr",
     "output_type": "stream",
     "text": [
      "2025-06-12 17:49:01 - INFO - [None, 0, 0, 0, 0, 0, 0, 0, 0, 0, 0, 0, None, 1, 1, 1, 1, 1, 1, 1, 1, 1, 1, 1, 1, 1, 1, 1, 1, 1, 1, 1, 1, 1, 1, 1, 1, 1, 1, 1, 1, 1, 1, 1, 1, 1, 1, 1, 1, 1, 1, 1, 1, 1, 1, 1, 1, 1, 1, 1, 1, 1, 1, 1, 1, 1, 1, 1, 1, 1, 1, 1, 1, 1, 1, 1, 1, 1, 1, 1, 1, 1, 1, 1, 1, 1, 1, 1, 1, 1, 1, 1, 1, 1, 1, 1, 1, 1, 1, None]\n",
      "2025-06-12 17:49:01 - INFO - [CLS] What is in front of the Notre Dame Main Building? [SEP] Architecturally, the school has a Catholic character. Atop the Main Building ' s gold dome is a golden statue of the Virgin Mary. Immediately in front of the Main Building and facing it, is a copper statue of Christ with arms upraised with the legend \" Venite Ad Me Omnes \". Next to the Main Building is the Basilica of the Sacred Heart. Immediately behind the basilica is the G [SEP]\n"
     ]
    }
   ],
   "source": [
    "logger.info(inputs.sequence_ids(0)) # Getting the first window\n",
    "logger.info(tokenizer.decode(inputs['input_ids'][0])) # first window context"
   ]
  },
  {
   "attachments": {},
   "cell_type": "markdown",
   "metadata": {},
   "source": [
    "The meaning of each item is what follows:\n",
    "\n",
    "- None: special tokens like [CLS] and [SEP]\n",
    "- 0: is par of the question sentence\n",
    "- 1: is par of the the context sentence\n",
    "\n",
    "So, with this codification, we can now compare the start position of the answer in the original context and the start position of the answer in the windows!"
   ]
  },
  {
   "attachments": {},
   "cell_type": "markdown",
   "metadata": {},
   "source": [
    "### **Finding the answer: Window contexts and original context**"
   ]
  },
  {
   "attachments": {},
   "cell_type": "markdown",
   "metadata": {},
   "source": [
    "Let's see now what is the start index of the answer within the windows."
   ]
  },
  {
   "cell_type": "code",
   "execution_count": 38,
   "metadata": {},
   "outputs": [
    {
     "data": {
      "text/plain": [
       "(13, 98)"
      ]
     },
     "execution_count": 38,
     "metadata": {},
     "output_type": "execute_result"
    }
   ],
   "source": [
    "sequence_ids = inputs.sequence_ids(0) # Getting the first window\n",
    "\n",
    "wind_ctx_start = sequence_ids.index(1) # Getting the first occurence of 1, which means the index where the context begins\n",
    "wind_ctx_end = (len(sequence_ids) - sequence_ids[::-1].index(1) - 1) # Getting the index of the last 1, where the context ends\n",
    "\n",
    "wind_ctx_start, wind_ctx_end"
   ]
  },
  {
   "attachments": {},
   "cell_type": "markdown",
   "metadata": {},
   "source": [
    "And the original start answer position (within the context)"
   ]
  },
  {
   "cell_type": "code",
   "execution_count": 39,
   "metadata": {},
   "outputs": [
    {
     "name": "stderr",
     "output_type": "stream",
     "text": [
      "2025-06-12 17:49:02 - INFO - {'text': ['a copper statue of Christ'], 'answer_start': [188]}\n",
      "2025-06-12 17:49:02 - INFO - (188, 213)\n"
     ]
    }
   ],
   "source": [
    "logger.info(answer)\n",
    "ans_start_char = answer['answer_start'][0]\n",
    "ans_end_char = ans_start_char + len(answer['text'][0]) # the length of the text plus 515 is the final char of the answer\n",
    "\n",
    "logger.info((ans_start_char, ans_end_char))"
   ]
  },
  {
   "attachments": {},
   "cell_type": "markdown",
   "metadata": {},
   "source": [
    "OK! Let's now use the offset mapping since it tells us about the char positions within the context."
   ]
  },
  {
   "cell_type": "code",
   "execution_count": 40,
   "metadata": {},
   "outputs": [],
   "source": [
    "offset = inputs['offset_mapping'][0] # First windows\n",
    "# print(offset) # uncoment to remember the offset\n",
    "# print(tokenizer.decode(inputs['input_ids'][0])) # and how they correspond to the original sentences"
   ]
  },
  {
   "attachments": {},
   "cell_type": "markdown",
   "metadata": {},
   "source": [
    "Since the offset has the original char starts and ends and also the (0,0) for special tokens (in this case, we are focosing in the [SEP] token that tell us where the context starts and ends) in the original context, we can compare if those original indeces match with the window context indices we have."
   ]
  },
  {
   "cell_type": "code",
   "execution_count": 41,
   "metadata": {},
   "outputs": [
    {
     "data": {
      "text/plain": [
       "(53, 57)"
      ]
     },
     "execution_count": 41,
     "metadata": {},
     "output_type": "execute_result"
    }
   ],
   "source": [
    "start_idx = 0\n",
    "end_idx = 0\n",
    "\n",
    "if offset[wind_ctx_start][0] > ans_start_char or offset[wind_ctx_end][1] < ans_end_char:\n",
    "    logger.info(\"target is (0,0)\")\n",
    "else:\n",
    "    i = wind_ctx_start\n",
    "    for start_end_char in offset[wind_ctx_start:]:\n",
    "        start, end = start_end_char\n",
    "        if start == ans_start_char:\n",
    "            start_idx = i\n",
    "\n",
    "        if end == ans_end_char:\n",
    "            end_idx = i \n",
    "            break\n",
    "\n",
    "        i += 1\n",
    "    \n",
    "start_idx, end_idx"
   ]
  },
  {
   "attachments": {},
   "cell_type": "markdown",
   "metadata": {},
   "source": [
    "We need to get this indexes and use in the input_ids from the first sample and then decode it to see if the answers match."
   ]
  },
  {
   "cell_type": "code",
   "execution_count": 42,
   "metadata": {},
   "outputs": [],
   "source": [
    "input_ids = inputs['input_ids'][0]\n",
    "# tokenizer.decode(input_ids) # uncoment to visualize"
   ]
  },
  {
   "cell_type": "code",
   "execution_count": 43,
   "metadata": {},
   "outputs": [
    {
     "name": "stderr",
     "output_type": "stream",
     "text": [
      "2025-06-12 17:49:03 - INFO - [170, 7335, 5921, 1104, 4028]\n",
      "2025-06-12 17:49:03 - INFO - a copper statue of Christ\n"
     ]
    }
   ],
   "source": [
    "# Placing the start_idx and end_idx and decoding.\n",
    "logger.info(input_ids[start_idx:end_idx+1])\n",
    "logger.info(tokenizer.decode(input_ids[start_idx : end_idx + 1]))"
   ]
  },
  {
   "attachments": {},
   "cell_type": "markdown",
   "metadata": {},
   "source": [
    "Real answer"
   ]
  },
  {
   "cell_type": "code",
   "execution_count": 44,
   "metadata": {},
   "outputs": [
    {
     "data": {
      "text/plain": [
       "['a copper statue of Christ']"
      ]
     },
     "execution_count": 44,
     "metadata": {},
     "output_type": "execute_result"
    }
   ],
   "source": [
    "answer['text']"
   ]
  },
  {
   "attachments": {},
   "cell_type": "markdown",
   "metadata": {},
   "source": [
    "Yay! It matches!\n",
    "\n",
    "Now, we just have to turn this into a function."
   ]
  },
  {
   "cell_type": "code",
   "execution_count": 45,
   "metadata": {},
   "outputs": [],
   "source": [
    "def find_asnwer_token_idx(\n",
    "    ctx_start,\n",
    "    ctx_end,\n",
    "    ans_start_char,\n",
    "    ans_end_char,\n",
    "    offset\n",
    "):\n",
    "    \"\"\"\n",
    "    Finds the token-level start and end indices that align with the character-level \n",
    "    start and end positions of an answer within a given context span.\n",
    "\n",
    "    Args:\n",
    "        ctx_start (int): The index of the first token in the context span.\n",
    "        ctx_end (int): The index of the last token in the context span.\n",
    "        ans_start_char (int): The character-level start index of the answer in the original text.\n",
    "        ans_end_char (int): The character-level end index of the answer in the original text.\n",
    "        offset (List[Tuple[int, int]]): A list of tuples, where each tuple contains the \n",
    "            (start_char, end_char) positions of each token in the input sequence.\n",
    "\n",
    "    Returns:\n",
    "        tuple: A tuple (start_idx, end_idx) indicating the start and end token indices \n",
    "        of the answer within the context window. If the answer is not fully contained \n",
    "        within the context span, returns (0, 0).\n",
    "    \n",
    "    \"\"\"\n",
    "    \n",
    "\n",
    "    # If the context doesn't fully contain the answer, return (0, 0)\n",
    "    try:\n",
    "        start_idx = 0\n",
    "        end_idx = 0\n",
    "        if offset[ctx_start][0] > ans_start_char or offset[ctx_end][1] < ans_end_char:\n",
    "            pass  # Answer does not exist in the context window\n",
    "        else:\n",
    "            i = ctx_start\n",
    "            # Iterate over the offsets within the context window\n",
    "            for start_end_char in offset[ctx_start:]:\n",
    "                start, end = start_end_char\n",
    "                if start == ans_start_char:\n",
    "                    start_idx = i\n",
    "                if end == ans_end_char:\n",
    "                    end_idx = i\n",
    "                    break\n",
    "                i += 1\n",
    "        return start_idx, end_idx\n",
    "    \n",
    "    except Exception as e:\n",
    "            logger.error(f\"Error finding the token-level start and end indices: {str(e)}\")  "
   ]
  },
  {
   "cell_type": "code",
   "execution_count": 46,
   "metadata": {},
   "outputs": [
    {
     "data": {
      "text/plain": [
       "([53, 17, 0, 0], [57, 21, 0, 0])"
      ]
     },
     "execution_count": 46,
     "metadata": {},
     "output_type": "execute_result"
    }
   ],
   "source": [
    "# now applying to the whole dataset\n",
    "start_idxs = []\n",
    "end_idxs = []\n",
    "\n",
    "for i, offset in enumerate(inputs[\"offset_mapping\"]):\n",
    "    sequence_ids = inputs.sequence_ids(i)\n",
    "\n",
    "    ctx_start = sequence_ids.index(1)\n",
    "    ctx_end = len(sequence_ids) - sequence_ids[::-1].index(1) - 1\n",
    "\n",
    "    start_idx, end_idx = find_asnwer_token_idx(\n",
    "        ctx_start,\n",
    "        ctx_end,\n",
    "        ans_start_char,\n",
    "        ans_end_char,\n",
    "        offset\n",
    "    )\n",
    "\n",
    "    start_idxs.append(start_idx)\n",
    "    end_idxs.append(end_idx)\n",
    "\n",
    "start_idxs, end_idxs"
   ]
  },
  {
   "attachments": {},
   "cell_type": "markdown",
   "metadata": {},
   "source": [
    "They are in this format because of the overlapping, remember?\n",
    "In this input we have 4 windows, which means that for the firts window, the answer starts at index 53 and ends in index 57. Same for the second window. For the third and last windows, the answer does not appear. 😉"
   ]
  },
  {
   "attachments": {},
   "cell_type": "markdown",
   "metadata": {},
   "source": [
    "### Applying the tokenizer"
   ]
  },
  {
   "attachments": {},
   "cell_type": "markdown",
   "metadata": {},
   "source": [
    "One commum issue in this dataset is that some questions are badly formatted and have extra white spaces in the beggining of in the end of it. "
   ]
  },
  {
   "cell_type": "code",
   "execution_count": 47,
   "metadata": {},
   "outputs": [
    {
     "name": "stderr",
     "output_type": "stream",
     "text": [
      "2025-06-12 17:49:03 - INFO - In what city and state did Beyonce  grow up? \n",
      "2025-06-12 17:49:03 - INFO -  The album, Dangerously in Love  achieved what spot on the Billboard Top 100 chart?\n",
      "2025-06-12 17:49:03 - INFO - Which song did Beyonce sing at the first couple's inaugural ball? \n",
      "2025-06-12 17:49:03 - INFO - What event did Beyoncé perform at one month after Obama's inauguration? \n",
      "2025-06-12 17:49:03 - INFO - Where was the album released? \n",
      "2025-06-12 17:49:03 - INFO - What movie influenced Beyonce towards empowerment themes? \n"
     ]
    }
   ],
   "source": [
    "for q in squad_dataset[\"train\"][\"question\"][:1000]:\n",
    "    if q.strip() != q:\n",
    "        logger.info(q)"
   ]
  },
  {
   "attachments": {},
   "cell_type": "markdown",
   "metadata": {},
   "source": [
    "So, let's define our tokenizer function and add this particular par for dealing with extra white spaces."
   ]
  },
  {
   "cell_type": "code",
   "execution_count": 48,
   "metadata": {},
   "outputs": [],
   "source": [
    "# Defining some fixed args\n",
    "max_length = 384 # Indicated by Google\n",
    "stride = 128"
   ]
  },
  {
   "cell_type": "code",
   "execution_count": 49,
   "metadata": {},
   "outputs": [],
   "source": [
    "def tokenize_fn_train(batch):\n",
    "    \"\"\"\n",
    "    Tokenizes a batch of question-context pairs and computes the token-level \n",
    "    start and end positions of the answers for training a Question Answering model.\n",
    "\n",
    "    Args:\n",
    "        batch (dict): A dictionary containing the keys:\n",
    "            - 'question': List[str], the questions to be asked.\n",
    "            - 'context': List[str], the corresponding context paragraphs.\n",
    "            - 'answers': List[dict], where each dict contains:\n",
    "                - 'text': List[str], the ground truth answer text(s).\n",
    "                - 'answer_start': List[int], character-level start index of the answer in the context.\n",
    "\n",
    "    Returns:\n",
    "        dict: A dictionary with tokenized inputs ready for model training. It includes:\n",
    "            - input_ids: Token IDs.\n",
    "            - token_type_ids: Segment IDs.\n",
    "            - attention_mask: Attention mask.\n",
    "            - start_positions: Token-level start indices of the answer.\n",
    "            - end_positions: Token-level end indices of the answer.\n",
    "\n",
    "    \n",
    "    \"\"\"\n",
    "    try:\n",
    "    # Remove leading/trailing whitespaces from questions\n",
    "        questions = [q.strip() for q in batch['question']]\n",
    "\n",
    "        # Tokenize with sliding window and offset tracking\n",
    "        inputs = tokenizer(\n",
    "            questions,\n",
    "            batch['context'],\n",
    "            max_length=max_length,\n",
    "            truncation=\"only_second\",  # truncate only the context, not the question\n",
    "            stride=stride,\n",
    "            return_overflowing_tokens=True,\n",
    "            return_offsets_mapping=True,\n",
    "            padding=\"max_length\"\n",
    "        )\n",
    "\n",
    "        # Remove unused fields\n",
    "        offset_mapping = inputs.pop(\"offset_mapping\")\n",
    "        orig_sample_idxs = inputs.pop(\"overflow_to_sample_mapping\")\n",
    "\n",
    "        answers = batch['answers']\n",
    "        start_idxs, end_idxs = [], []\n",
    "\n",
    "        for i, offset in enumerate(offset_mapping):\n",
    "            sample_idx = orig_sample_idxs[i]\n",
    "            answer = answers[sample_idx]\n",
    "\n",
    "            # Extract character positions of the answer\n",
    "            ans_start_char = answer['answer_start'][0]\n",
    "            ans_end_char = ans_start_char + len(answer['text'][0])\n",
    "\n",
    "            sequence_ids = inputs.sequence_ids(i)\n",
    "\n",
    "            # Locate the context span in the tokenized input\n",
    "            ctx_start = sequence_ids.index(1)\n",
    "            ctx_end = len(sequence_ids) - sequence_ids[::-1].index(1) - 1\n",
    "\n",
    "            # Align character-level answer to token indices\n",
    "            start_idx, end_idx = find_asnwer_token_idx(\n",
    "                ctx_start,\n",
    "                ctx_end,\n",
    "                ans_start_char,\n",
    "                ans_end_char,\n",
    "                offset\n",
    "            )\n",
    "\n",
    "            start_idxs.append(start_idx)\n",
    "            end_idxs.append(end_idx)\n",
    "\n",
    "        # Add the computed start and end positions to the tokenized inputs\n",
    "        inputs[\"start_positions\"] = start_idxs\n",
    "        inputs[\"end_positions\"] = end_idxs\n",
    "\n",
    "        return inputs\n",
    "    \n",
    "    except Exception as e:\n",
    "            logger.error(f\"Error tokenizing batch of question-context: {str(e)}\")\n",
    "    "
   ]
  },
  {
   "attachments": {},
   "cell_type": "markdown",
   "metadata": {},
   "source": [
    "#### Tokenizing the train dataset"
   ]
  },
  {
   "cell_type": "code",
   "execution_count": 50,
   "metadata": {},
   "outputs": [
    {
     "data": {
      "application/vnd.jupyter.widget-view+json": {
       "model_id": "a58ad51a9ff14725af71ad3f8f2bffc1",
       "version_major": 2,
       "version_minor": 0
      },
      "text/plain": [
       "Map:   0%|          | 0/87599 [00:00<?, ? examples/s]"
      ]
     },
     "metadata": {},
     "output_type": "display_data"
    }
   ],
   "source": [
    "train_dataset = squad_train_dataset.map(\n",
    "    tokenize_fn_train,\n",
    "    batched=True,\n",
    "    remove_columns=squad_train_dataset.column_names\n",
    ")"
   ]
  },
  {
   "cell_type": "code",
   "execution_count": 51,
   "metadata": {},
   "outputs": [
    {
     "name": "stderr",
     "output_type": "stream",
     "text": [
      "2025-06-12 17:49:19 - INFO - Processed dataset: 88729\n",
      "Original dataset: 87599\n"
     ]
    }
   ],
   "source": [
    "# The actual train dataset ir a little bit  bigger than the original \n",
    "# Because we've expanded the context in windows\n",
    "logger.info(f'Processed dataset: {len(train_dataset)}\\nOriginal dataset: {len(squad_dataset[\"train\"])}')"
   ]
  },
  {
   "attachments": {},
   "cell_type": "markdown",
   "metadata": {},
   "source": [
    "Creating the same function for the validation dataset"
   ]
  },
  {
   "cell_type": "code",
   "execution_count": 52,
   "metadata": {},
   "outputs": [],
   "source": [
    "def tokenize_fn_validation(batch):\n",
    "    \"\"\"\n",
    "    Tokenizes a batch of question-context pairs and computes the token-level \n",
    "    start and end positions of the answers for validating a Question Answering model.\n",
    "\n",
    "    Args:\n",
    "        batch (dict): A dictionary containing the keys:\n",
    "            - 'question': List[str], the questions to be asked.\n",
    "            - 'context': List[str], the corresponding context paragraphs.\n",
    "            - 'answers': List[dict], where each dict contains:\n",
    "                - 'text': List[str], the ground truth answer text(s).\n",
    "                - 'answer_start': List[int], character-level start index of the answer in the context.\n",
    "\n",
    "    Returns:\n",
    "        dict: A dictionary with tokenized inputs ready for model training. It includes:\n",
    "            - input_ids: Token IDs.\n",
    "            - token_type_ids: Segment IDs.\n",
    "            - attention_mask: Attention mask.\n",
    "            - start_positions: Token-level start indices of the answer.\n",
    "            - end_positions: Token-level end indices of the answer.\n",
    "\n",
    "  \n",
    "    \"\"\"\n",
    "    try:\n",
    "        questions = [q.strip() for q in batch['question']]\n",
    "\n",
    "        inputs = tokenizer(\n",
    "            questions, \n",
    "            batch['context'],\n",
    "            max_length=max_length,\n",
    "            truncation=\"only_second\",\n",
    "            stride=stride,\n",
    "            return_overflowing_tokens=True,\n",
    "            return_offsets_mapping=True,\n",
    "            padding=\"max_length\"\n",
    "        )\n",
    "\n",
    "        orig_sample_idxs = inputs.pop(\"overflow_to_sample_mapping\")\n",
    "        sample_ids = []\n",
    "\n",
    "        for i in range(len(inputs[\"input_ids\"])):\n",
    "            # Getting the corresponding ID from the original samples (their identify the questions and contexts remember?) \n",
    "            sample_idx = orig_sample_idxs[i]\n",
    "            sample_ids.append(batch[\"id\"][sample_idx])\n",
    "\n",
    "            sequence_ids = inputs.sequence_ids(i) # 1:context | 0:question | (0,0): special tokens\n",
    "            offset = inputs[\"offset_mapping\"][i] # getting the sequence_ids for this sample\n",
    "\n",
    "            # Modifying the original offset_mapping \n",
    "            # When it is (0,0) or 0 replace with None\n",
    "            # And get just the context\n",
    "            inputs[\"offset_mapping\"][i] = [\n",
    "                x if sequence_ids[j] == 1 else None for j, x in enumerate(offset)\n",
    "            ]\n",
    "\n",
    "        inputs[\"sample_id\"] = sample_ids\n",
    "        return inputs\n",
    "    \n",
    "    except Exception as e:\n",
    "            logger.error(f\"Error tokenizing batch of question-context: {str(e)}\")"
   ]
  },
  {
   "cell_type": "code",
   "execution_count": 53,
   "metadata": {},
   "outputs": [
    {
     "data": {
      "application/vnd.jupyter.widget-view+json": {
       "model_id": "e94b33f8e17e4cfc86df284582132d6c",
       "version_major": 2,
       "version_minor": 0
      },
      "text/plain": [
       "Map:   0%|          | 0/10570 [00:00<?, ? examples/s]"
      ]
     },
     "metadata": {},
     "output_type": "display_data"
    },
    {
     "name": "stderr",
     "output_type": "stream",
     "text": [
      "2025-06-12 17:49:25 - INFO - Processed dataset: 10822\n",
      "Original dataset: 10570\n"
     ]
    }
   ],
   "source": [
    "validation_dataset = squad_dataset[\"validation\"].map(\n",
    "    tokenize_fn_validation,\n",
    "    batched=True,\n",
    "    remove_columns=squad_dataset[\"validation\"].column_names\n",
    ")\n",
    "\n",
    "logger.info(f'Processed dataset: {len(validation_dataset)}\\nOriginal dataset: {len(squad_dataset[\"validation\"])}')"
   ]
  },
  {
   "attachments": {},
   "cell_type": "markdown",
   "metadata": {},
   "source": [
    "## Metrics and Logits"
   ]
  },
  {
   "attachments": {},
   "cell_type": "markdown",
   "metadata": {},
   "source": [
    "We can load a metric called \"squad\" anduse it in our problem! Let's see how it will work."
   ]
  },
  {
   "cell_type": "code",
   "execution_count": 54,
   "metadata": {},
   "outputs": [
    {
     "data": {
      "application/vnd.jupyter.widget-view+json": {
       "model_id": "c7260d82a25540859ac60dd6294f0868",
       "version_major": 2,
       "version_minor": 0
      },
      "text/plain": [
       "Downloading builder script:   0%|          | 0.00/4.53k [00:00<?, ?B/s]"
      ]
     },
     "metadata": {},
     "output_type": "display_data"
    },
    {
     "data": {
      "application/vnd.jupyter.widget-view+json": {
       "model_id": "f33d14b2e71241989a90ba260d89be61",
       "version_major": 2,
       "version_minor": 0
      },
      "text/plain": [
       "Downloading extra modules:   0%|          | 0.00/3.32k [00:00<?, ?B/s]"
      ]
     },
     "metadata": {},
     "output_type": "display_data"
    }
   ],
   "source": [
    "metric = load_metric(\"squad\")"
   ]
  },
  {
   "cell_type": "code",
   "execution_count": 55,
   "metadata": {},
   "outputs": [
    {
     "data": {
      "text/plain": [
       "{'exact_match': 66.66666666666667, 'f1': 66.66666666666667}"
      ]
     },
     "execution_count": 55,
     "metadata": {},
     "output_type": "execute_result"
    }
   ],
   "source": [
    "# making some examples\n",
    "\n",
    "pred_answers = [\n",
    "    {'id': '1', 'prediction_text': 'Strawberry'},\n",
    "    {'id': '2', 'prediction_text': 'Agriculture industry'},\n",
    "    {'id': '3', 'prediction_text': 'Red'}\n",
    "]\n",
    "\n",
    "true_answers = [\n",
    "    {'id': '1', 'answers': {'text': ['Strawberry'], 'answer_start': [80]}},\n",
    "    {'id': '2', 'answers': {'text': ['Agroindustry'], 'answer_start': [65]}},\n",
    "    {'id': '3', 'answers': {'text': ['Red'], 'answer_start': [100]}}\n",
    "]\n",
    "\n",
    "# checking the metrics\n",
    "\n",
    "metric.compute(predictions=pred_answers, references=true_answers)"
   ]
  },
  {
   "attachments": {},
   "cell_type": "markdown",
   "metadata": {},
   "source": [
    "But, before heading to metrics, let's remember that the model outputs are Logits, numbers! We have to make it back to numbers."
   ]
  },
  {
   "attachments": {},
   "cell_type": "markdown",
   "metadata": {},
   "source": [
    "For that, we're donwloading a pretrained question-answering model to get predictions that are not random and use those predictions to learn how to convert the logits into answer strings.\n",
    "\n",
    "With it, we won't need the whole dataset, but just a part of it for learning how to turn them into strings!\n",
    "\n",
    "Let's dive in!"
   ]
  },
  {
   "attachments": {},
   "cell_type": "markdown",
   "metadata": {},
   "source": [
    "##### Learning how to transform logits into answers"
   ]
  },
  {
   "cell_type": "code",
   "execution_count": 56,
   "metadata": {},
   "outputs": [
    {
     "data": {
      "application/vnd.jupyter.widget-view+json": {
       "model_id": "a47290de30734cffa4ee146ff7983550",
       "version_major": 2,
       "version_minor": 0
      },
      "text/plain": [
       "tokenizer_config.json:   0%|          | 0.00/49.0 [00:00<?, ?B/s]"
      ]
     },
     "metadata": {},
     "output_type": "display_data"
    },
    {
     "data": {
      "application/vnd.jupyter.widget-view+json": {
       "model_id": "2bdcc36c94514c2b9a33cf39d218ad4d",
       "version_major": 2,
       "version_minor": 0
      },
      "text/plain": [
       "config.json:   0%|          | 0.00/473 [00:00<?, ?B/s]"
      ]
     },
     "metadata": {},
     "output_type": "display_data"
    },
    {
     "data": {
      "application/vnd.jupyter.widget-view+json": {
       "model_id": "390990f316114776a896912b537d2159",
       "version_major": 2,
       "version_minor": 0
      },
      "text/plain": [
       "vocab.txt:   0%|          | 0.00/213k [00:00<?, ?B/s]"
      ]
     },
     "metadata": {},
     "output_type": "display_data"
    },
    {
     "data": {
      "application/vnd.jupyter.widget-view+json": {
       "model_id": "db2be31f323247abb16cf99e5ba332f5",
       "version_major": 2,
       "version_minor": 0
      },
      "text/plain": [
       "tokenizer.json:   0%|          | 0.00/436k [00:00<?, ?B/s]"
      ]
     },
     "metadata": {},
     "output_type": "display_data"
    }
   ],
   "source": [
    "small_validation_dataset = squad_dataset[\"validation\"].select(range(100)) # Getting just the first 100 samples from the validation set \n",
    "trained_checkpoint = \"distilbert-base-cased-distilled-squad\" # model trained in q&a\n",
    "\n",
    "tokenizer2 = AutoTokenizer.from_pretrained(trained_checkpoint) # new tokenizer from distilbert-base-cased-distilled-squad\n",
    "\n",
    "# Here, since the tokenizer is a global variable \n",
    "# And we're training it with another model trained in q&a\n",
    "# We're temporarily exchanging this global variable for the tokenizer2\n",
    "original_tokenizer = tokenizer\n",
    "tokenizer = tokenizer2"
   ]
  },
  {
   "attachments": {},
   "cell_type": "markdown",
   "metadata": {},
   "source": [
    "Now, let's process this small validation dataset"
   ]
  },
  {
   "cell_type": "code",
   "execution_count": 57,
   "metadata": {},
   "outputs": [
    {
     "data": {
      "application/vnd.jupyter.widget-view+json": {
       "model_id": "e372281fe6304be9bfb6e9f66cf12a87",
       "version_major": 2,
       "version_minor": 0
      },
      "text/plain": [
       "Map:   0%|          | 0/100 [00:00<?, ? examples/s]"
      ]
     },
     "metadata": {},
     "output_type": "display_data"
    }
   ],
   "source": [
    "small_validation_processed = small_validation_dataset.map( # Now, we can use this new tokenizer from distilbert-base-cased-distilled-squad\n",
    "    tokenize_fn_validation,                                 # and map it into our small validation dataset using the function tokenize_fn_validation\n",
    "    batched=True,\n",
    "    remove_columns=squad_dataset[\"validation\"].column_names\n",
    ")"
   ]
  },
  {
   "attachments": {},
   "cell_type": "markdown",
   "metadata": {},
   "source": [
    "Once this cell is done, let's just get back with the first and original tokenizer from distilbert-base-cased model"
   ]
  },
  {
   "cell_type": "code",
   "execution_count": 58,
   "metadata": {},
   "outputs": [],
   "source": [
    "tokenizer = original_tokenizer"
   ]
  },
  {
   "attachments": {},
   "cell_type": "markdown",
   "metadata": {},
   "source": [
    "Now, it's time to change some things in our small dataset like unsed columns and change to torch format in order to pass the inputs to process in the GPU"
   ]
  },
  {
   "cell_type": "code",
   "execution_count": 59,
   "metadata": {},
   "outputs": [],
   "source": [
    "small_model_inputs =  small_validation_processed.remove_columns(['sample_id', 'offset_mapping']) # unused columns\n",
    "small_model_inputs.set_format(\"torch\")"
   ]
  },
  {
   "attachments": {},
   "cell_type": "markdown",
   "metadata": {},
   "source": [
    "#### Setting the GPU"
   ]
  },
  {
   "attachments": {},
   "cell_type": "markdown",
   "metadata": {},
   "source": [
    "Once the previous step is done, it's time to set the GPUas our device and move the inputs (now tensors) to there "
   ]
  },
  {
   "cell_type": "code",
   "execution_count": 60,
   "metadata": {},
   "outputs": [
    {
     "name": "stderr",
     "output_type": "stream",
     "text": [
      "2025-06-12 17:49:32 - INFO - Using device: cuda\n"
     ]
    }
   ],
   "source": [
    "# Setting the GPU as current device \n",
    "device = torch.device(\"cuda\" if torch.cuda.is_available() else \"cpu\")\n",
    "logger.info(f\"Using device: {device}\")"
   ]
  },
  {
   "cell_type": "code",
   "execution_count": 61,
   "metadata": {},
   "outputs": [],
   "source": [
    "small_model_inputs_gpu = {\n",
    "    k: small_model_inputs[k].to(device) for k in small_model_inputs.column_names\n",
    "}\n",
    "# All the data will come from the GPU now"
   ]
  },
  {
   "attachments": {},
   "cell_type": "markdown",
   "metadata": {},
   "source": [
    "Downloading the distilbert-base-cased-distilled-squad model and setting into the GPU"
   ]
  },
  {
   "cell_type": "code",
   "execution_count": 62,
   "metadata": {},
   "outputs": [
    {
     "data": {
      "application/vnd.jupyter.widget-view+json": {
       "model_id": "6c1393ff9f254fafb439350a8ebd5928",
       "version_major": 2,
       "version_minor": 0
      },
      "text/plain": [
       "model.safetensors:   0%|          | 0.00/261M [00:00<?, ?B/s]"
      ]
     },
     "metadata": {},
     "output_type": "display_data"
    }
   ],
   "source": [
    "trained_model =  AutoModelForQuestionAnswering.from_pretrained(trained_checkpoint).to(device)"
   ]
  },
  {
   "attachments": {},
   "cell_type": "markdown",
   "metadata": {},
   "source": [
    "Getting the model's output"
   ]
  },
  {
   "cell_type": "code",
   "execution_count": 63,
   "metadata": {},
   "outputs": [],
   "source": [
    "with torch.no_grad(): # This is just saying that we're not using any compution gradient (like we're not training)\n",
    "    outputs = trained_model(**small_model_inputs_gpu) # passing the inputs to distilbert-base-cased-distilled-squad and getting the outputs"
   ]
  },
  {
   "attachments": {},
   "cell_type": "markdown",
   "metadata": {},
   "source": [
    "Great! Let's see those outputs"
   ]
  },
  {
   "cell_type": "code",
   "execution_count": 64,
   "metadata": {},
   "outputs": [
    {
     "data": {
      "text/plain": [
       "QuestionAnsweringModelOutput(loss=None, start_logits=tensor([[ -2.2607,  -5.1783,  -5.2709,  ...,  -9.5243,  -9.5183,  -9.5288],\n",
       "        [ -2.5961,  -5.5482,  -5.5313,  ...,  -9.9597,  -9.9533,  -9.9860],\n",
       "        [ -3.7127,  -7.1848,  -8.5388,  ..., -11.6557, -11.6571, -11.6505],\n",
       "        ...,\n",
       "        [ -2.0260,  -4.4167,  -4.4980,  ...,  -8.1479,  -8.1530,  -8.1760],\n",
       "        [ -4.1553,  -5.8304,  -7.1643,  ..., -10.5255, -10.5251, -10.4890],\n",
       "        [ -3.2000,  -5.8162,  -6.7249,  ...,  -9.4935,  -9.5038,  -9.4871]],\n",
       "       device='cuda:0'), end_logits=tensor([[ -0.7353,  -4.9236,  -5.1048,  ...,  -8.8734,  -8.8916,  -8.8550],\n",
       "        [ -1.3056,  -5.3870,  -5.4945,  ...,  -9.4895,  -9.5039,  -9.4958],\n",
       "        [ -2.7649,  -7.2201,  -9.0916,  ..., -11.3106, -11.3414, -11.2702],\n",
       "        ...,\n",
       "        [ -0.0768,  -4.8210,  -4.4374,  ...,  -8.0483,  -8.0502,  -7.9903],\n",
       "        [ -2.7347,  -5.3650,  -7.2549,  ..., -10.0498, -10.0661,  -9.9886],\n",
       "        [ -1.0991,  -4.2569,  -6.1267,  ...,  -8.6882,  -8.6889,  -8.6272]],\n",
       "       device='cuda:0'), hidden_states=None, attentions=None)"
      ]
     },
     "execution_count": 64,
     "metadata": {},
     "output_type": "execute_result"
    }
   ],
   "source": [
    "outputs"
   ]
  },
  {
   "attachments": {},
   "cell_type": "markdown",
   "metadata": {},
   "source": [
    "This kind of QuestionAnsweringModelOutput object is composed with a tuple containing the start_logits and the end_logits."
   ]
  },
  {
   "attachments": {},
   "cell_type": "markdown",
   "metadata": {},
   "source": [
    "#### Turning the logits into IDs"
   ]
  },
  {
   "cell_type": "code",
   "execution_count": 65,
   "metadata": {},
   "outputs": [],
   "source": [
    "# Here, we're getting the logits, moving back to CPU and formatting as a numpy array (we don't need them in the tensor format anymore)\n",
    "start_logits = outputs.start_logits.cpu().numpy()\n",
    "end_logits = outputs.end_logits.cpu().numpy()"
   ]
  },
  {
   "attachments": {},
   "cell_type": "markdown",
   "metadata": {},
   "source": [
    "Let's remember how the ID's look like in the small_validation_processed"
   ]
  },
  {
   "cell_type": "code",
   "execution_count": 66,
   "metadata": {},
   "outputs": [
    {
     "data": {
      "text/plain": [
       "['56be4db0acb8001400a502ec',\n",
       " '56be4db0acb8001400a502ed',\n",
       " '56be4db0acb8001400a502ee']"
      ]
     },
     "execution_count": 66,
     "metadata": {},
     "output_type": "execute_result"
    }
   ],
   "source": [
    "small_validation_processed[\"sample_id\"][:3] # remember that small_validation_processed was processed by distilbert-base-cased-distilled-squad tokenizer"
   ]
  },
  {
   "attachments": {},
   "cell_type": "markdown",
   "metadata": {},
   "source": [
    "And how they look like in our validation dataset"
   ]
  },
  {
   "cell_type": "code",
   "execution_count": 67,
   "metadata": {},
   "outputs": [
    {
     "data": {
      "text/plain": [
       "['56be4db0acb8001400a502ec',\n",
       " '56be4db0acb8001400a502ed',\n",
       " '56be4db0acb8001400a502ee']"
      ]
     },
     "execution_count": 67,
     "metadata": {},
     "output_type": "execute_result"
    }
   ],
   "source": [
    "validation_dataset[\"sample_id\"][:3]"
   ]
  },
  {
   "attachments": {},
   "cell_type": "markdown",
   "metadata": {},
   "source": [
    "Also, they're not unique! Remebember that one ID could come from more than one question-answer input because of the windows? One input could be splitted into 2 or 3 or more windows, but they still form the same input."
   ]
  },
  {
   "cell_type": "code",
   "execution_count": 68,
   "metadata": {},
   "outputs": [
    {
     "name": "stderr",
     "output_type": "stream",
     "text": [
      "2025-06-12 17:50:21 - INFO - Total ID's from validation: 10822,\n",
      "Total unique ID's from validation: 10570\n"
     ]
    }
   ],
   "source": [
    "logger.info(f\"Total ID's from validation: {len(validation_dataset['sample_id'])},\\nTotal unique ID's from validation: {len(set(validation_dataset['sample_id']))}\")"
   ]
  },
  {
   "attachments": {},
   "cell_type": "markdown",
   "metadata": {},
   "source": [
    "So, for handling this case, we're building an dict where the key is the ID and the value is going to be an list pointing the indixes taht this ID corresponds in the small_validation_processed. If we have an input that was splited into 3 parts for examples, we want something like this:\n",
    "\n",
    "{'56be4db0acb8001400a502ef': [5, 6, 7]}"
   ]
  },
  {
   "cell_type": "code",
   "execution_count": 69,
   "metadata": {},
   "outputs": [],
   "source": [
    "sample_id2idxs = {}\n",
    "\n",
    "for i, id_ in enumerate(small_validation_processed['sample_id']): # looping through all the ID's and enumerating to get the index\n",
    "    if id_ not in sample_id2idxs: # Checking if this ID existis\n",
    "        sample_id2idxs[id_] = [i] # If not, we create an entry with the format we just saw above.\n",
    "    else:\n",
    "        logger.info(\"here\") # If existis,\n",
    "        sample_id2idxs[id_].append(i) # we just append into the existing list"
   ]
  },
  {
   "cell_type": "code",
   "execution_count": 70,
   "metadata": {},
   "outputs": [],
   "source": [
    "# sample_id2idxs # uncoment to see the result"
   ]
  },
  {
   "attachments": {},
   "cell_type": "markdown",
   "metadata": {},
   "source": [
    "Great! Now, let's understand how we're turning this into strings."
   ]
  },
  {
   "attachments": {},
   "cell_type": "markdown",
   "metadata": {},
   "source": [
    "Let's check the shape of our logits. We expect them to be in this shape:\n",
    "\n",
    "(number_of_samples, max_length)"
   ]
  },
  {
   "cell_type": "code",
   "execution_count": 71,
   "metadata": {},
   "outputs": [
    {
     "data": {
      "text/plain": [
       "((100, 384), (100, 384))"
      ]
     },
     "execution_count": 71,
     "metadata": {},
     "output_type": "execute_result"
    }
   ],
   "source": [
    "start_logits.shape, end_logits.shape # remember that they come from the outputs we got from distilbert-base-cased-distilled-squad"
   ]
  },
  {
   "attachments": {},
   "cell_type": "markdown",
   "metadata": {},
   "source": [
    "We will need to sort the indices of the logits in order to get where the values are stored within this indices.\n",
    "First, we negate the the values by placing a '-' in front of the array. This will sort them in descending order."
   ]
  },
  {
   "cell_type": "code",
   "execution_count": 72,
   "metadata": {},
   "outputs": [],
   "source": [
    "# uncoment to see\n",
    "#print(start_logits[0])\n",
    "#print()\n",
    "#print(-start_logits[0])"
   ]
  },
  {
   "attachments": {},
   "cell_type": "markdown",
   "metadata": {},
   "source": [
    "In this way, the largest values will be at the front. Then, when we call the argsort method, we organize this array by ascending order, getting this result:"
   ]
  },
  {
   "cell_type": "code",
   "execution_count": 73,
   "metadata": {},
   "outputs": [
    {
     "data": {
      "text/plain": [
       "array([ 46,  57,  47,  38,  39,  58,  50,  43,  45,  54,  56,  49,  13,\n",
       "        42,  40,  35,  27,  31,  48,  41,  53,  44,  37,  59,  78,  15,\n",
       "         0,  52,  24,  65,  81,  70,  18,  51,  55,  26,  69,  29,  28,\n",
       "        75,  61,  64,  23,  36,  32,  11, 101,  62,  66,  34,  95,  30,\n",
       "        63,  21,  19,  20,  17,  14,  22,  33,  68,  87, 171,  12,  76,\n",
       "        71,  73,  92, 110,  84, 151,   1,  74,   2,   6,  16,  80,  79,\n",
       "       105,  98,  10,  96, 136, 169, 106, 100,  93, 165,  67, 109,   8,\n",
       "        90,   3, 115,  60,   5,  97,   7, 103, 102,  86,  72, 111,  89,\n",
       "       108,   4,  88,  25, 132,  77, 123, 150, 124, 153,  83, 118,  82,\n",
       "        85, 107, 114, 143, 164, 137, 130, 166, 159, 131,  91,   9, 144,\n",
       "       139, 160,  94, 141, 128, 112, 134, 152, 170, 154, 117, 127, 104,\n",
       "       140, 157, 155, 133, 145, 119, 162, 138, 135, 156, 167, 168, 126,\n",
       "       148, 163, 161, 116,  99, 120, 142, 158, 125, 146, 113, 121, 147,\n",
       "       149, 129, 122, 311, 312, 304, 309, 313, 310, 300, 307, 316, 308,\n",
       "       314, 306, 317, 320, 319, 321, 291, 318, 301, 305, 287, 270, 315,\n",
       "       295, 289, 294, 251, 333, 303, 269, 299, 274, 265, 298, 176, 175,\n",
       "       338, 292, 323, 322, 290, 252, 296, 229, 177, 302, 297, 186, 245,\n",
       "       250, 283, 174, 256, 337, 266, 190, 293, 286, 264, 288, 331, 327,\n",
       "       234, 237, 227, 284, 255, 326, 276, 272, 233, 346, 191, 230, 218,\n",
       "       232, 179, 285, 273, 173, 187, 239, 332, 172, 267, 329, 238, 253,\n",
       "       334, 214, 192, 325, 278, 350, 259, 281, 268, 185, 254, 271, 279,\n",
       "       342, 345, 343, 181, 335, 183, 189, 260, 341, 275, 178, 228, 210,\n",
       "       324, 277, 212, 348, 209, 336, 261, 240, 249, 246, 194, 257, 182,\n",
       "       377, 258, 196, 195, 248, 188, 339, 197, 213, 378, 263, 208, 201,\n",
       "       205, 200, 225, 211, 282, 236, 204, 347, 203, 262, 223, 193, 330,\n",
       "       199, 202, 349, 184, 180, 351, 340, 226, 224, 243, 217, 372, 244,\n",
       "       241, 207, 235, 344, 215, 367, 247, 368, 382, 352, 379, 353, 221,\n",
       "       376, 231, 380, 220, 371, 366, 242, 219, 381, 206, 375, 369, 216,\n",
       "       198, 355, 383, 280, 328, 222, 358, 373, 357, 363, 356, 374, 354,\n",
       "       359, 365, 370, 364, 362, 361, 360])"
      ]
     },
     "execution_count": 73,
     "metadata": {},
     "output_type": "execute_result"
    }
   ],
   "source": [
    "indices = (-start_logits[0]).argsort() # here, we are taking just the first position for example.\n",
    "indices"
   ]
  },
  {
   "attachments": {},
   "cell_type": "markdown",
   "metadata": {},
   "source": [
    "If we use those indices in the original array, we get this result:"
   ]
  },
  {
   "cell_type": "code",
   "execution_count": 74,
   "metadata": {},
   "outputs": [
    {
     "data": {
      "text/plain": [
       "array([10.694441  ,  9.803685  ,  4.4599757 ,  4.4004855 ,  2.9437797 ,\n",
       "        2.7017365 ,  2.0126479 ,  1.5780729 ,  0.52237177,  0.02073575],\n",
       "      dtype=float32)"
      ]
     },
     "execution_count": 74,
     "metadata": {},
     "output_type": "execute_result"
    }
   ],
   "source": [
    "start_logits[0][indices][:10]"
   ]
  },
  {
   "attachments": {},
   "cell_type": "markdown",
   "metadata": {},
   "source": [
    "We have the start_logits showing in descending order!\n",
    "\n",
    "\n",
    "Now, let's really transform the logits into string and you'll understand everything."
   ]
  },
  {
   "cell_type": "code",
   "execution_count": 75,
   "metadata": {},
   "outputs": [],
   "source": [
    "n_largest = 20 # Number of start and end logits we want to search\n",
    "max_answer_length = 30 # Max answer length we want to allow\n",
    "predict_answers = [] # List of predicted answers will be stored \n",
    "\n",
    "for sample in small_validation_dataset: # For each sample in the NON-processed (it is not tokenized!) small validation dataset (CTRL+click if you want to remember)\n",
    "    sample_id = sample[\"id\"] # Get the id from this sample\n",
    "    context = sample[\"context\"] # and the context\n",
    "\n",
    "    # Initializing best_score and best_answer (they'll be update in the below looping)\n",
    "    best_score = float(\"-inf\") \n",
    "    best_answer = None\n",
    "\n",
    "    for idx in sample_id2idxs[sample_id]: # For each id in the sample_id2idxs (samples here are tokenized!) in the sample_id as index (remebmer it is a dict)\n",
    "        # Grabbing the start and end logits for this index\n",
    "        start_logit = start_logits[idx] \n",
    "        end_logit = end_logits[idx]\n",
    "        # And also get the offset mapping for this index\n",
    "        offsets = small_validation_processed[idx][\"offset_mapping\"] # note that this offset mapping is the processed, containg None for any position\n",
    "                                                                    # that is not in the context\n",
    "        # Sorting the logits as we saw                                                           \n",
    "        start_indices = (-start_logit).argsort() \n",
    "        end_indices = (-end_logit).argsort()\n",
    "\n",
    "        # Next step is to loop through the n_largest start and end logits\n",
    "        for start_idx in start_indices[:n_largest]:\n",
    "            for end_idx in end_indices[:n_largest]:\n",
    "                # Checking the cases where the answer:\n",
    "                if offsets[start_idx] is None or offsets[end_idx] is None: # Answer is not in the context\n",
    "                    continue\n",
    "                if end_idx < start_idx: # Answer does not exist (since is has negative length)\n",
    "                    continue\n",
    "                if (end_idx - start_idx + 1) > max_answer_length: # Answer is longer than allowed\n",
    "                    continue\n",
    "\n",
    "                # If we have an answer,\n",
    "                score = start_logit[start_idx] + end_logit[end_idx] # Compute the score for this answer\n",
    "                if score > best_score: # Checking if score is better than the current best_score\n",
    "                    best_score = score # If yes, compute\n",
    "\n",
    "                    # Getting the position of the first character and of the last character\n",
    "                    first_ch = offsets[start_idx][0] \n",
    "                    last_ch = offsets[end_idx][1]\n",
    "                    # Retrieving the answer as actual text using the them as indices in the context\n",
    "                    best_answer = context[first_ch:last_ch]\n",
    "        # And finally append to the list        \n",
    "        predict_answers.append({\"id\": sample_id, \"prediction_text\": best_answer})"
   ]
  },
  {
   "attachments": {},
   "cell_type": "markdown",
   "metadata": {},
   "source": [
    "Onde this is done, we just need to format the true answer in the right format for computing the metrcis.\n",
    "\n",
    "To remember the format, go to the beggining of the \"Metrics and Logits\" outline."
   ]
  },
  {
   "cell_type": "code",
   "execution_count": 76,
   "metadata": {},
   "outputs": [],
   "source": [
    "true_answers = [\n",
    "    {\n",
    "    \"id\": x[\"id\"],\n",
    "    \"answers\": x[\"answers\"]\n",
    "    }\n",
    "    for x in small_validation_dataset\n",
    "]"
   ]
  },
  {
   "cell_type": "code",
   "execution_count": 77,
   "metadata": {},
   "outputs": [],
   "source": [
    "#true_answers # uncoment to see the result"
   ]
  },
  {
   "attachments": {},
   "cell_type": "markdown",
   "metadata": {},
   "source": [
    "Yay! We can now turn the logits into string and finally compute the metrics!"
   ]
  },
  {
   "cell_type": "code",
   "execution_count": 78,
   "metadata": {},
   "outputs": [
    {
     "data": {
      "text/plain": [
       "{'exact_match': 83.0, 'f1': 88.25000000000004}"
      ]
     },
     "execution_count": 78,
     "metadata": {},
     "output_type": "execute_result"
    }
   ],
   "source": [
    "metric.compute(predictions=predict_answers, references=true_answers)"
   ]
  },
  {
   "attachments": {},
   "cell_type": "markdown",
   "metadata": {},
   "source": [
    "Let's turn the whole process into a function called compute_metrics"
   ]
  },
  {
   "attachments": {},
   "cell_type": "markdown",
   "metadata": {},
   "source": [
    "#### Computing metrics"
   ]
  },
  {
   "cell_type": "code",
   "execution_count": 79,
   "metadata": {},
   "outputs": [],
   "source": [
    "def compute_metrics(start_logits, end_logits, processed_dataset, orig_dataset):\n",
    "    \"\"\"\n",
    "    Computes evaluation metrics (e.g., EM/F1) for a Question Answering model by comparing\n",
    "    predicted answer spans with ground truth answers.\n",
    "\n",
    "    Args:\n",
    "        start_logits (List[np.ndarray]): List or array of start logits for each tokenized sample.\n",
    "        end_logits (List[np.ndarray]): List or array of end logits for each tokenized sample.\n",
    "        processed_dataset (Dataset or List[dict]): The tokenized dataset used for evaluation.\n",
    "            Must contain:\n",
    "                - \"sample_id\": Original sample ID corresponding to each tokenized chunk.\n",
    "                - \"offset_mapping\": Mapping of token indices to character spans in the context.\n",
    "        orig_dataset (List[dict]): The original dataset (before tokenization) with keys:\n",
    "            - \"id\" (str): Unique identifier for each QA sample.\n",
    "            - \"context\" (str): Context paragraph containing the answer.\n",
    "            - \"answers\" (dict): Ground truth answers with keys:\n",
    "                - \"text\": List of correct answer strings.\n",
    "                - \"answer_start\": List of starting character positions.\n",
    "\n",
    "    Returns:\n",
    "        dict: A dictionary containing computed metrics, such as:\n",
    "            - \"exact_match\": Percentage of exact match predictions.\n",
    "            - \"f1\": F1 score comparing predicted vs. ground-truth answers.\n",
    "\n",
    "    Example:\n",
    "        >>> from datasets import load_metric\n",
    "        >>> metric = load_metric(\"squad\")\n",
    "        >>> compute_metrics(start_logits, end_logits, tokenized_data, raw_data)\n",
    "    \"\"\"\n",
    "    try:   \n",
    "        sample_id2idxs = {}\n",
    "\n",
    "        for i, id_ in enumerate(processed_dataset[\"sample_id\"]):\n",
    "            if id_ not in sample_id2idxs:\n",
    "                sample_id2idxs[id_] = [i]\n",
    "            else:\n",
    "                sample_id2idxs[id_].append(i)\n",
    "\n",
    "        predicted_answers = []\n",
    "        for sample in tqdm(orig_dataset):\n",
    "\n",
    "            sample_id = sample[\"id\"]\n",
    "            context = sample['context']\n",
    "\n",
    "            best_score = float(\"-inf\")\n",
    "            best_answer = None\n",
    "\n",
    "            for idx in sample_id2idxs[sample_id]:\n",
    "                start_logit = start_logits[idx]\n",
    "                end_logit = end_logits[idx]\n",
    "\n",
    "                offsets = processed_dataset[idx][\"offset_mapping\"]\n",
    "\n",
    "                start_indices = (-start_logit).argsort()\n",
    "                end_indices = (-end_logit).argsort()\n",
    "\n",
    "                for start_idx in start_indices[:n_largest]:\n",
    "                    for end_idx in end_indices[:n_largest]:\n",
    "                        if offsets[start_idx] is None or offsets[end_idx] is None:\n",
    "                            continue\n",
    "\n",
    "                        if end_idx < start_idx:\n",
    "                            continue\n",
    "\n",
    "                        if (end_idx - start_idx + 1) > max_answer_length:\n",
    "                            continue\n",
    "\n",
    "                        score = start_logit[start_idx] + end_logit[end_idx]\n",
    "                        if score > best_score:\n",
    "                            best_score = score\n",
    "\n",
    "                            first_ch = offsets[start_idx][0] \n",
    "                            last_ch = offsets[end_idx][1]\n",
    "                            best_answer = context[first_ch:last_ch]\n",
    "                    \n",
    "            predicted_answers.append({\"id\": sample_id, \"prediction_text\": best_answer})\n",
    "        true_answers = [{\"id\": x[\"id\"], \"answers\": x[\"answers\"]} for x in orig_dataset]\n",
    "        y = metric.compute(predictions=predicted_answers, references=true_answers)\n",
    "\n",
    "        logger.info(\"Computing metrics done successfully\")\n",
    "        return y\n",
    "    except Exception as e:\n",
    "            logger.error(f\"Error computing the metrics: {str(e)}\")"
   ]
  },
  {
   "attachments": {},
   "cell_type": "markdown",
   "metadata": {},
   "source": [
    "Let's run the function on the small datasets we used earlier"
   ]
  },
  {
   "cell_type": "code",
   "execution_count": 80,
   "metadata": {},
   "outputs": [
    {
     "data": {
      "application/vnd.jupyter.widget-view+json": {
       "model_id": "7bf546609a1e4058a6763dd5df453bc4",
       "version_major": 2,
       "version_minor": 0
      },
      "text/plain": [
       "  0%|          | 0/100 [00:00<?, ?it/s]"
      ]
     },
     "metadata": {},
     "output_type": "display_data"
    },
    {
     "name": "stderr",
     "output_type": "stream",
     "text": [
      "2025-06-12 17:50:23 - INFO - Computing metrics done successfully\n"
     ]
    },
    {
     "data": {
      "text/plain": [
       "{'exact_match': 83.0, 'f1': 88.25000000000004}"
      ]
     },
     "execution_count": 80,
     "metadata": {},
     "output_type": "execute_result"
    }
   ],
   "source": [
    "compute_metrics(\n",
    "    start_logits,\n",
    "    end_logits,\n",
    "    small_validation_processed,\n",
    "    small_validation_dataset\n",
    ")"
   ]
  },
  {
   "attachments": {},
   "cell_type": "markdown",
   "metadata": {},
   "source": [
    "Great!\n",
    "This function will be used after our training step is done!"
   ]
  },
  {
   "attachments": {},
   "cell_type": "markdown",
   "metadata": {},
   "source": [
    "# Training"
   ]
  },
  {
   "cell_type": "code",
   "execution_count": 81,
   "metadata": {},
   "outputs": [
    {
     "data": {
      "text/plain": [
       "<Experiment: artifact_location='/phoenix/mlflow/445958085533839573', creation_time=1749695764229, experiment_id='445958085533839573', last_update_time=1749695764229, lifecycle_stage='active', name='BERT Q&A - distilbert-base-cased', tags={}>"
      ]
     },
     "execution_count": 81,
     "metadata": {},
     "output_type": "execute_result"
    }
   ],
   "source": [
    "mlflow.end_run()\n",
    "mlflow.set_tracking_uri('/phoenix/mlflow')\n",
    "mlflow.set_experiment(EXPERIMENT_SET)"
   ]
  },
  {
   "cell_type": "code",
   "execution_count": 82,
   "metadata": {},
   "outputs": [
    {
     "data": {
      "application/vnd.jupyter.widget-view+json": {
       "model_id": "67ff1f7276e84661b93e48d51cd83a28",
       "version_major": 2,
       "version_minor": 0
      },
      "text/plain": [
       "model.safetensors:   0%|          | 0.00/263M [00:00<?, ?B/s]"
      ]
     },
     "metadata": {},
     "output_type": "display_data"
    },
    {
     "name": "stderr",
     "output_type": "stream",
     "text": [
      "Some weights of DistilBertForQuestionAnswering were not initialized from the model checkpoint at distilbert-base-cased and are newly initialized: ['qa_outputs.bias', 'qa_outputs.weight']\n",
      "You should probably TRAIN this model on a down-stream task to be able to use it for predictions and inference.\n"
     ]
    }
   ],
   "source": [
    "model = AutoModelForQuestionAnswering.from_pretrained(model_checkpoint_bbc) # Loading the model we want to fine-tune (distilbert-base-cased)"
   ]
  },
  {
   "attachments": {},
   "cell_type": "markdown",
   "metadata": {},
   "source": [
    "Now it is time to create our TrainingArguments object with all the necssary arguments for the training step"
   ]
  },
  {
   "cell_type": "code",
   "execution_count": 83,
   "metadata": {},
   "outputs": [],
   "source": [
    "args = TrainingArguments(\n",
    "    \"finetuned-squad\", # this is a default name for this model and task\n",
    "    evaluation_strategy=\"no\", # No, because we'll compute metrics manually\n",
    "    save_strategy=\"epoch\", # saving for each step (you can use epoch as well)\n",
    "    learning_rate=2e-5, # learnin rate value \n",
    "    num_train_epochs=3, # 3 epoch in total (max is 4 since out inputs are very large, more tha that is not recommended)\n",
    "    weight_decay=0.01, # regularization technique\n",
    "    fp16=True # speed up the process\n",
    ")"
   ]
  },
  {
   "attachments": {},
   "cell_type": "markdown",
   "metadata": {},
   "source": [
    "Now, let's instantiate a trainer object"
   ]
  },
  {
   "cell_type": "code",
   "execution_count": 84,
   "metadata": {},
   "outputs": [],
   "source": [
    "trainer = Trainer(\n",
    "    model=model, # our model\n",
    "    args=args, # our args\n",
    "    train_dataset=train_dataset, # our datasets\n",
    "    eval_dataset=validation_dataset,\n",
    "    tokenizer=tokenizer # and our tokenizer\n",
    ")"
   ]
  },
  {
   "attachments": {},
   "cell_type": "markdown",
   "metadata": {},
   "source": [
    "Checking if the GPU is available"
   ]
  },
  {
   "cell_type": "code",
   "execution_count": 85,
   "metadata": {},
   "outputs": [
    {
     "data": {
      "text/plain": [
       "True"
      ]
     },
     "execution_count": 85,
     "metadata": {},
     "output_type": "execute_result"
    }
   ],
   "source": [
    "torch.cuda.is_available()"
   ]
  },
  {
   "attachments": {},
   "cell_type": "markdown",
   "metadata": {},
   "source": [
    "The time has come! Let's train!"
   ]
  },
  {
   "cell_type": "code",
   "execution_count": 86,
   "metadata": {},
   "outputs": [
    {
     "data": {
      "text/html": [
       "\n",
       "    <div>\n",
       "      \n",
       "      <progress value='11092' max='11092' style='width:300px; height:20px; vertical-align: middle;'></progress>\n",
       "      [11092/11092 3:14:16, Epoch 1/1]\n",
       "    </div>\n",
       "    <table border=\"1\" class=\"dataframe\">\n",
       "  <thead>\n",
       " <tr style=\"text-align: left;\">\n",
       "      <th>Step</th>\n",
       "      <th>Training Loss</th>\n",
       "    </tr>\n",
       "  </thead>\n",
       "  <tbody>\n",
       "    <tr>\n",
       "      <td>500</td>\n",
       "      <td>3.354500</td>\n",
       "    </tr>\n",
       "    <tr>\n",
       "      <td>1000</td>\n",
       "      <td>2.288100</td>\n",
       "    </tr>\n",
       "    <tr>\n",
       "      <td>1500</td>\n",
       "      <td>2.033200</td>\n",
       "    </tr>\n",
       "    <tr>\n",
       "      <td>2000</td>\n",
       "      <td>1.778900</td>\n",
       "    </tr>\n",
       "    <tr>\n",
       "      <td>2500</td>\n",
       "      <td>1.677800</td>\n",
       "    </tr>\n",
       "    <tr>\n",
       "      <td>3000</td>\n",
       "      <td>1.588100</td>\n",
       "    </tr>\n",
       "    <tr>\n",
       "      <td>3500</td>\n",
       "      <td>1.503500</td>\n",
       "    </tr>\n",
       "    <tr>\n",
       "      <td>4000</td>\n",
       "      <td>1.429000</td>\n",
       "    </tr>\n",
       "    <tr>\n",
       "      <td>4500</td>\n",
       "      <td>1.399700</td>\n",
       "    </tr>\n",
       "    <tr>\n",
       "      <td>5000</td>\n",
       "      <td>1.401700</td>\n",
       "    </tr>\n",
       "    <tr>\n",
       "      <td>5500</td>\n",
       "      <td>1.357400</td>\n",
       "    </tr>\n",
       "    <tr>\n",
       "      <td>6000</td>\n",
       "      <td>1.355600</td>\n",
       "    </tr>\n",
       "    <tr>\n",
       "      <td>6500</td>\n",
       "      <td>1.334000</td>\n",
       "    </tr>\n",
       "    <tr>\n",
       "      <td>7000</td>\n",
       "      <td>1.279600</td>\n",
       "    </tr>\n",
       "    <tr>\n",
       "      <td>7500</td>\n",
       "      <td>1.290000</td>\n",
       "    </tr>\n",
       "    <tr>\n",
       "      <td>8000</td>\n",
       "      <td>1.272100</td>\n",
       "    </tr>\n",
       "    <tr>\n",
       "      <td>8500</td>\n",
       "      <td>1.257400</td>\n",
       "    </tr>\n",
       "    <tr>\n",
       "      <td>9000</td>\n",
       "      <td>1.271900</td>\n",
       "    </tr>\n",
       "    <tr>\n",
       "      <td>9500</td>\n",
       "      <td>1.203100</td>\n",
       "    </tr>\n",
       "    <tr>\n",
       "      <td>10000</td>\n",
       "      <td>1.238100</td>\n",
       "    </tr>\n",
       "    <tr>\n",
       "      <td>10500</td>\n",
       "      <td>1.226300</td>\n",
       "    </tr>\n",
       "    <tr>\n",
       "      <td>11000</td>\n",
       "      <td>1.239700</td>\n",
       "    </tr>\n",
       "  </tbody>\n",
       "</table><p>"
      ],
      "text/plain": [
       "<IPython.core.display.HTML object>"
      ]
     },
     "metadata": {},
     "output_type": "display_data"
    },
    {
     "name": "stderr",
     "output_type": "stream",
     "text": [
      "2025-06-12 21:05:26 - INFO - Total time for training: 3:14:24.882890\n"
     ]
    }
   ],
   "source": [
    "mlflow.end_run()\n",
    "start_time_training = datetime.now() # this is for computing the time it take for the training\n",
    "with mlflow.start_run():\n",
    "    trainer.train() \n",
    "logger.info(f'Total time for training: {datetime.now() - start_time_training}')"
   ]
  },
  {
   "attachments": {},
   "cell_type": "markdown",
   "metadata": {},
   "source": [
    "## Prediction"
   ]
  },
  {
   "attachments": {},
   "cell_type": "markdown",
   "metadata": {},
   "source": [
    "Now, let's do the evaluation."
   ]
  },
  {
   "cell_type": "code",
   "execution_count": 87,
   "metadata": {},
   "outputs": [
    {
     "data": {
      "text/html": [],
      "text/plain": [
       "<IPython.core.display.HTML object>"
      ]
     },
     "metadata": {},
     "output_type": "display_data"
    },
    {
     "data": {
      "text/plain": [
       "PredictionOutput(predictions=(array([[-1.9882812, -8.296875 , -8.3515625, ..., -9.4765625, -9.4765625,\n",
       "        -9.453125 ],\n",
       "       [-1.8408203, -8.2578125, -8.3046875, ..., -9.484375 , -9.4921875,\n",
       "        -9.46875  ],\n",
       "       [-2.1269531, -7.890625 , -8.734375 , ..., -9.3359375, -9.3125   ,\n",
       "        -9.3125   ],\n",
       "       ...,\n",
       "       [-2.4316406, -8.7109375, -9.3359375, ..., -9.375    , -9.359375 ,\n",
       "        -9.3125   ],\n",
       "       [-1.7060547, -8.7734375, -8.8984375, ..., -9.453125 , -9.390625 ,\n",
       "        -9.3203125],\n",
       "       [-1.5048828, -8.375    , -9.0078125, ..., -9.453125 , -9.4375   ,\n",
       "        -9.3671875]], dtype=float32), array([[-1.9130859, -8.6640625, -8.40625  , ..., -9.5      , -9.484375 ,\n",
       "        -9.5078125],\n",
       "       [-1.7792969, -8.5859375, -8.328125 , ..., -9.4921875, -9.4765625,\n",
       "        -9.5      ],\n",
       "       [-1.9101562, -7.3710938, -9.109375 , ..., -9.71875  , -9.734375 ,\n",
       "        -9.7265625],\n",
       "       ...,\n",
       "       [-2.1152344, -8.921875 , -9.0390625, ..., -9.6328125, -9.671875 ,\n",
       "        -9.703125 ],\n",
       "       [-1.4306641, -9.1953125, -8.7890625, ..., -9.59375  , -9.6640625,\n",
       "        -9.6953125],\n",
       "       [-1.203125 , -9.1875   , -9.1171875, ..., -9.578125 , -9.609375 ,\n",
       "        -9.6640625]], dtype=float32)), label_ids=None, metrics={'test_runtime': 213.6361, 'test_samples_per_second': 50.656, 'test_steps_per_second': 6.333})"
      ]
     },
     "execution_count": 87,
     "metadata": {},
     "output_type": "execute_result"
    }
   ],
   "source": [
    "trainer_prediction = trainer.predict(validation_dataset) # getting the predictions for the validation set\n",
    "trainer_prediction"
   ]
  },
  {
   "attachments": {},
   "cell_type": "markdown",
   "metadata": {},
   "source": [
    "And grab just the prediction values from this objetc"
   ]
  },
  {
   "cell_type": "code",
   "execution_count": 88,
   "metadata": {},
   "outputs": [
    {
     "data": {
      "text/plain": [
       "(array([[-1.9882812, -8.296875 , -8.3515625, ..., -9.4765625, -9.4765625,\n",
       "         -9.453125 ],\n",
       "        [-1.8408203, -8.2578125, -8.3046875, ..., -9.484375 , -9.4921875,\n",
       "         -9.46875  ],\n",
       "        [-2.1269531, -7.890625 , -8.734375 , ..., -9.3359375, -9.3125   ,\n",
       "         -9.3125   ],\n",
       "        ...,\n",
       "        [-2.4316406, -8.7109375, -9.3359375, ..., -9.375    , -9.359375 ,\n",
       "         -9.3125   ],\n",
       "        [-1.7060547, -8.7734375, -8.8984375, ..., -9.453125 , -9.390625 ,\n",
       "         -9.3203125],\n",
       "        [-1.5048828, -8.375    , -9.0078125, ..., -9.453125 , -9.4375   ,\n",
       "         -9.3671875]], dtype=float32),\n",
       " array([[-1.9130859, -8.6640625, -8.40625  , ..., -9.5      , -9.484375 ,\n",
       "         -9.5078125],\n",
       "        [-1.7792969, -8.5859375, -8.328125 , ..., -9.4921875, -9.4765625,\n",
       "         -9.5      ],\n",
       "        [-1.9101562, -7.3710938, -9.109375 , ..., -9.71875  , -9.734375 ,\n",
       "         -9.7265625],\n",
       "        ...,\n",
       "        [-2.1152344, -8.921875 , -9.0390625, ..., -9.6328125, -9.671875 ,\n",
       "         -9.703125 ],\n",
       "        [-1.4306641, -9.1953125, -8.7890625, ..., -9.59375  , -9.6640625,\n",
       "         -9.6953125],\n",
       "        [-1.203125 , -9.1875   , -9.1171875, ..., -9.578125 , -9.609375 ,\n",
       "         -9.6640625]], dtype=float32))"
      ]
     },
     "execution_count": 88,
     "metadata": {},
     "output_type": "execute_result"
    }
   ],
   "source": [
    "predictions, _, _ = trainer_prediction\n",
    "predictions"
   ]
  },
  {
   "attachments": {},
   "cell_type": "markdown",
   "metadata": {},
   "source": [
    "We have a tuple with two arrays, the start_logits and end_logits!"
   ]
  },
  {
   "cell_type": "code",
   "execution_count": 89,
   "metadata": {},
   "outputs": [],
   "source": [
    "start_logits, end_logits = predictions"
   ]
  },
  {
   "attachments": {},
   "cell_type": "markdown",
   "metadata": {},
   "source": [
    "##### Computing the metrics"
   ]
  },
  {
   "cell_type": "code",
   "execution_count": 90,
   "metadata": {},
   "outputs": [
    {
     "data": {
      "application/vnd.jupyter.widget-view+json": {
       "model_id": "7f48b3226cd04a92b76df7d2f48fb258",
       "version_major": 2,
       "version_minor": 0
      },
      "text/plain": [
       "  0%|          | 0/10570 [00:00<?, ?it/s]"
      ]
     },
     "metadata": {},
     "output_type": "display_data"
    },
    {
     "name": "stderr",
     "output_type": "stream",
     "text": [
      "2025-06-12 21:09:19 - INFO - Computing metrics done successfully\n"
     ]
    },
    {
     "data": {
      "text/plain": [
       "{'exact_match': 74.75875118259225, 'f1': 83.17063675229315}"
      ]
     },
     "execution_count": 90,
     "metadata": {},
     "output_type": "execute_result"
    }
   ],
   "source": [
    "compute_metrics(\n",
    "    start_logits,\n",
    "    end_logits,\n",
    "    validation_dataset,\n",
    "    squad_dataset['validation']\n",
    ")"
   ]
  },
  {
   "attachments": {},
   "cell_type": "markdown",
   "metadata": {},
   "source": [
    "Saving the model for further usage"
   ]
  },
  {
   "cell_type": "code",
   "execution_count": 91,
   "metadata": {},
   "outputs": [],
   "source": [
    "trainer.save_model(SAVE_MODEL_NAME)"
   ]
  },
  {
   "attachments": {},
   "cell_type": "markdown",
   "metadata": {},
   "source": [
    "# Inference"
   ]
  },
  {
   "attachments": {},
   "cell_type": "markdown",
   "metadata": {},
   "source": [
    "We can create a question-answering pipeline from transformers and pass our model to it."
   ]
  },
  {
   "cell_type": "code",
   "execution_count": 92,
   "metadata": {},
   "outputs": [
    {
     "name": "stderr",
     "output_type": "stream",
     "text": [
      "Device set to use cuda:0\n"
     ]
    }
   ],
   "source": [
    "model_name = SAVE_MODEL_NAME\n",
    "qa_pipeline = pipeline(\n",
    "    'question-answering',\n",
    "    model = model_name,\n",
    "    device=0 #GPU\n",
    ")"
   ]
  },
  {
   "attachments": {},
   "cell_type": "markdown",
   "metadata": {},
   "source": [
    "Testing the pipeline"
   ]
  },
  {
   "cell_type": "code",
   "execution_count": 93,
   "metadata": {},
   "outputs": [
    {
     "data": {
      "text/plain": [
       "{'score': 0.49953535199165344,\n",
       " 'start': 40,\n",
       " 'end': 62,\n",
       " 'answer': 'a delicious team lunch'}"
      ]
     },
     "execution_count": 93,
     "metadata": {},
     "output_type": "execute_result"
    }
   ],
   "source": [
    "context = \"Tomorrow the Atlântico is going to have a delicious team lunch!\"\n",
    "question = \"What did the Atlântico is going to have tomorrow?\"\n",
    "qa_pipeline(context=context, question=question)"
   ]
  },
  {
   "cell_type": "markdown",
   "metadata": {},
   "source": [
    "## Logging Model to MLflow"
   ]
  },
  {
   "cell_type": "code",
   "execution_count": 94,
   "metadata": {},
   "outputs": [
    {
     "name": "stderr",
     "output_type": "stream",
     "text": [
      "/opt/conda/lib/python3.12/site-packages/mlflow/pyfunc/utils/data_validation.py:168: UserWarning: \u001b[33mAdd type hints to the `predict` method to enable data validation and automatic signature inference during model logging. Check https://mlflow.org/docs/latest/model/python_model.html#type-hint-usage-in-pythonmodel for more details.\u001b[0m\n",
      "  color_warning(\n"
     ]
    }
   ],
   "source": [
    "class DistilBERTModel(mlflow.pyfunc.PythonModel):\n",
    "    def _preprocess(self, inputs):\n",
    "        \"\"\"\n",
    "        Preprocesses the input data.\n",
    "\n",
    "        Args:\n",
    "            inputs: A dictionary containing two keys:\n",
    "                - 'context': A list with the context text.\n",
    "                - 'question': A list with the question to be answered.\n",
    "\n",
    "        Returns:\n",
    "            tuple: A tuple containing the context (str) and the question (str).\n",
    "        \"\"\"\n",
    "        try:\n",
    "                context = inputs['context'][0]\n",
    "                question = inputs['question'][0]\n",
    "                print(\"pre processing\", context,question)\n",
    "                return context, question\n",
    "        \n",
    "        except Exception as e:\n",
    "            logger.error(f\"Error preprocessing the input data: {str(e)}\")  \n",
    "\n",
    "    def load_context(self, context):\n",
    "        \"\"\"\n",
    "        Loads the question-answering pipeline using the saved model artifact.\n",
    "\n",
    "        Args:\n",
    "            context: The MLflow context object \n",
    "                containing the loaded artifacts.\n",
    "        \"\"\"\n",
    "        try:\n",
    "            self.model = pipeline(\n",
    "            'question-answering',\n",
    "             model=context.artifacts[\"model\"],\n",
    "             device=0\n",
    "        )\n",
    "        except Exception as e:\n",
    "            logger.error(f\"Error loading the question-answering pipeline: {str(e)}\")     \n",
    "\n",
    "    def predict(self, context, model_input, params):\n",
    "        \"\"\"\n",
    "        Runs inference using the loaded model and input data.\n",
    "\n",
    "        Args:\n",
    "            context: The MLflow context object \n",
    "                with access to artifacts.\n",
    "            model_input: A dictionary containing 'context' and 'question' keys.\n",
    "\n",
    "        Returns:\n",
    "            The output from the model containing the predicted answer and optionally the score.\n",
    "        \"\"\"\n",
    "        try:\n",
    "            in_ctx, question = self._preprocess(model_input)\n",
    "            output = self.model(context=in_ctx, question=question)\n",
    "            return output\n",
    "        except Exception as e:\n",
    "            logger.error(f\"Error running inference: {str(e)}\")  \n",
    "\n",
    "    @classmethod\n",
    "    def log_model(cls, model_name, source_trainer = None, source_pipeline = None, demo_folder=\"../demo\"):\n",
    "        \"\"\"\n",
    "        Logs the model to MLflow, including artifacts, dependencies, and input/output signatures.\n",
    "\n",
    "        Args:\n",
    "            model_name: Path where the model will be temporarily saved before logging.\n",
    "            source_trainer: A trainer object with a `.save_model()` method. Defaults to None.\n",
    "            source_pipeline: A pipeline object with a `.save_pretrained()` method. Defaults to None.\n",
    "            demo_folder: Path to the folder containing the compiled demo UI. Defaults to \"demo\".\n",
    "        \"\"\"\n",
    "        try:\n",
    "            input_schema = Schema(\n",
    "            [\n",
    "                ColSpec(\"string\", \"context\"),\n",
    "                ColSpec(\"string\", \"question\"),\n",
    "            ]\n",
    "            )\n",
    "            output_schema = Schema(\n",
    "                [\n",
    "                    ColSpec(\"string\", \"answer\")\n",
    "                ]\n",
    "            )\n",
    "            \n",
    "            params_schema = ParamSchema(\n",
    "                [\n",
    "                    ParamSpec(\"show_score\", \"boolean\", False)\n",
    "                ]\n",
    "            )\n",
    "          \n",
    "            signature = ModelSignature(inputs=input_schema, outputs=output_schema, params=params_schema)\n",
    "            if source_trainer is not None:\n",
    "                source_trainer.save_model(model_name)\n",
    "            elif source_pipeline is not None:\n",
    "                source_pipeline.save_pretrained(model_name)\n",
    "                 \n",
    "            requirements = [\n",
    "                \"transformers==4.48.0\",\n",
    "                \"tf_keras\"\n",
    "            ]\n",
    "            mlflow.pyfunc.log_model(\n",
    "                model_name,\n",
    "                python_model=cls(),\n",
    "                artifacts={\"model\": model_name, \"demo\": demo_folder},\n",
    "                signature=signature,\n",
    "                pip_requirements=requirements\n",
    "            )\n",
    "            shutil.rmtree(model_name)\n",
    "            logger.info(\"Logging model to MLflow done successfully\")\n",
    "\n",
    "        except Exception as e:\n",
    "            logger.error(f\"Error logging model to MLflow: {str(e)}\")"
   ]
  },
  {
   "cell_type": "code",
   "execution_count": 95,
   "metadata": {},
   "outputs": [
    {
     "name": "stderr",
     "output_type": "stream",
     "text": [
      "2025/06/12 21:09:43 INFO mlflow.tracking.fluent: Experiment with name 'BERT model for Q&A' does not exist. Creating a new experiment.\n",
      "2025-06-12 21:09:43 - INFO - Run's Artifact URI: /phoenix/mlflow/927113709811671098/4efd4b38ad0d4c908aeaea27a39deb09/artifacts\n"
     ]
    },
    {
     "data": {
      "application/vnd.jupyter.widget-view+json": {
       "model_id": "bbd07b2a995e45bdbe0a15f4c924025f",
       "version_major": 2,
       "version_minor": 0
      },
      "text/plain": [
       "Downloading artifacts:   0%|          | 0/6 [00:00<?, ?it/s]"
      ]
     },
     "metadata": {},
     "output_type": "display_data"
    },
    {
     "data": {
      "application/vnd.jupyter.widget-view+json": {
       "model_id": "2cb019eca7bf4b4fa392ceebd5c1c32d",
       "version_major": 2,
       "version_minor": 0
      },
      "text/plain": [
       "Downloading artifacts:   0%|          | 0/19 [00:00<?, ?it/s]"
      ]
     },
     "metadata": {},
     "output_type": "display_data"
    },
    {
     "name": "stderr",
     "output_type": "stream",
     "text": [
      "2025-06-12 21:10:59 - INFO - Logging model to MLflow done successfully\n",
      "Successfully registered model 'BERT_QA'.\n",
      "Created version '1' of model 'BERT_QA'.\n"
     ]
    }
   ],
   "source": [
    "mlflow.set_tracking_uri('/phoenix/mlflow')\n",
    "mlflow.set_experiment(experiment_name = EXPERIMENT_NAME)\n",
    "with mlflow.start_run(run_name= RUN_NAME) as run:\n",
    "    logger.info(f\"Run's Artifact URI: {run.info.artifact_uri}\")\n",
    "    DistilBERTModel.log_model(model_name = MODEL_NAME, source_pipeline=qa_pipeline)\n",
    "    mlflow.register_model(model_uri = f\"runs:/{run.info.run_id}/{MODEL_NAME}\", name = NAME)"
   ]
  },
  {
   "cell_type": "markdown",
   "metadata": {},
   "source": [
    "## Fetching the Latest Model Version from MLflow"
   ]
  },
  {
   "cell_type": "code",
   "execution_count": 96,
   "metadata": {},
   "outputs": [
    {
     "name": "stdout",
     "output_type": "stream",
     "text": [
      "1 inputs: \n",
      "  ['context': string (required), 'question': string (required)]\n",
      "outputs: \n",
      "  ['answer': string (required)]\n",
      "params: \n",
      "  ['show_score': boolean (default: False)]\n",
      "\n"
     ]
    }
   ],
   "source": [
    "client = mlflow.MlflowClient()\n",
    "model_metadata = client.get_latest_versions(MODEL_NAME, stages=[\"None\"])\n",
    "latest_model_version = model_metadata[0].version\n",
    "print(latest_model_version, mlflow.models.get_model_info(f\"models:/BERT_QA/{latest_model_version}\").signature)"
   ]
  },
  {
   "cell_type": "markdown",
   "metadata": {},
   "source": [
    "## Loading the Model and Running Inference"
   ]
  },
  {
   "cell_type": "code",
   "execution_count": 97,
   "metadata": {},
   "outputs": [
    {
     "name": "stderr",
     "output_type": "stream",
     "text": [
      "Device set to use cuda:0\n"
     ]
    },
    {
     "name": "stdout",
     "output_type": "stream",
     "text": [
      "pre processing ['Marta is mother of John and Amanda'] [\"what is the name of Marta's daugther?\"]\n"
     ]
    },
    {
     "data": {
      "text/plain": [
       "{'score': 0.5648714900016785,\n",
       " 'start': 19,\n",
       " 'end': 34,\n",
       " 'answer': 'John and Amanda'}"
      ]
     },
     "execution_count": 97,
     "metadata": {},
     "output_type": "execute_result"
    }
   ],
   "source": [
    "model = mlflow.pyfunc.load_model(model_uri=f\"models:/BERT_QA/{latest_model_version}\")\n",
    "context = \"Marta is mother of John and Amanda\"\n",
    "question = \"what is the name of Marta's daugther?\"\n",
    "model.predict({\"context\": [context], \"question\":[question]})"
   ]
  },
  {
   "cell_type": "code",
   "execution_count": 98,
   "metadata": {},
   "outputs": [
    {
     "name": "stderr",
     "output_type": "stream",
     "text": [
      "2025-06-12 21:11:10 - INFO -  3:22:27.706008\n"
     ]
    }
   ],
   "source": [
    "logger.info(f' {datetime.now() - start_time_all_execution}')"
   ]
  },
  {
   "cell_type": "code",
   "execution_count": 99,
   "metadata": {},
   "outputs": [
    {
     "name": "stderr",
     "output_type": "stream",
     "text": [
      "2025-06-12 21:11:10 - INFO - Notebook execution completed.\n"
     ]
    }
   ],
   "source": [
    "logger.info('Notebook execution completed.')"
   ]
  },
  {
   "cell_type": "markdown",
   "metadata": {},
   "source": [
    "Built with ❤️ using Z by HP AI Studio."
   ]
  }
 ],
 "metadata": {
  "kernelspec": {
   "display_name": "Python [conda env:base] *",
   "language": "python",
   "name": "conda-base-py"
  },
  "language_info": {
   "codemirror_mode": {
    "name": "ipython",
    "version": 3
   },
   "file_extension": ".py",
   "mimetype": "text/x-python",
   "name": "python",
   "nbconvert_exporter": "python",
   "pygments_lexer": "ipython3",
   "version": "3.12.7"
  }
 },
 "nbformat": 4,
 "nbformat_minor": 4
}
