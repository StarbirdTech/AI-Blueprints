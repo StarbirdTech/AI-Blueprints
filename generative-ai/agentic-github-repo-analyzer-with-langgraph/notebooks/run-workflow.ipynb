{
 "cells": [
  {
   "cell_type": "markdown",
   "id": "c5f8d3ca-e260-4d56-967d-dc4feb92e2e4",
   "metadata": {},
   "source": [
    "<h1 style=\\\"text-align: center; font-size: 50px;\\\"> ⚙️ Run Workflow </h1>"
   ]
  },
  {
   "cell_type": "markdown",
   "id": "74217537-b174-49e0-b746-f3c53b5b0043",
   "metadata": {},
   "source": [
    "📘 Project Overview: \n",
    " This notebook demonstrates a modular architecture for answering natural language questions \n",
    " over a GitHub Repo using only local and open-source models (e.g., LLaMA.cpp).\n",
    " The system processes long documents chunk-by-chunk and synthesizes a final answer using a multi-step LLM workflow."
   ]
  },
  {
   "cell_type": "markdown",
   "id": "38f858ca",
   "metadata": {},
   "source": [
    "# Notebook Overview\n",
    "\n",
    "- Start Execution\n",
    "- Define User Constants\n",
    "- Install and Import Libraries\n",
    "- Configure Settings\n",
    "- Verify Assets\n",
    "- KV Memory\n",
    "- Download the GitHub Repo\n",
    "- LLM Setup\n",
    "- State Model\n",
    "- Node Functions\n",
    "- Graph Definition\n",
    "- Graph Visualization\n",
    "- Generated Answer\n",
    "- Message History"
   ]
  },
  {
   "cell_type": "markdown",
   "id": "01a533df-f921-4f06-9197-9e33b9e5c799",
   "metadata": {},
   "source": [
    "# Start Execution"
   ]
  },
  {
   "cell_type": "code",
   "execution_count": 1,
   "id": "490becc1-2ff2-4273-a49f-0fdacf30c2c6",
   "metadata": {},
   "outputs": [],
   "source": [
    "# Standard library imports\n",
    "import os  # Provides OS-related utilities\n",
    "import sys  # Allows manipulation of Python runtime environment\n",
    "import time  # Enables time-based operations\n",
    "from pathlib import Path  # Object-oriented file system paths\n",
    "\n",
    "# Extend sys.path to allow importing from parent directory\n",
    "sys.path.append(os.path.abspath(os.path.join(os.getcwd(), \"..\")))\n",
    "\n",
    "# Local application-specific imports\n",
    "from src.simple_kv_memory import SimpleKVMemory  # In-memory key-value store for agent state\n",
    "from src.utils import (  # Utility functions for logging, LLM I/O, and schema generation\n",
    "    display_image,\n",
    "    get_response_from_llm,\n",
    "    json_schema_from_type,\n",
    "    log_timing,\n",
    "    logger,\n",
    ")"
   ]
  },
  {
   "cell_type": "code",
   "execution_count": 2,
   "id": "16d77c68-e160-4c24-9844-de484272733e",
   "metadata": {},
   "outputs": [
    {
     "data": {
      "text/html": [
       "\n",
       "        <div style=\"background-color: #228B22; color: white;\n",
       "                    padding: 4px 8px; font-family: monospace; border-radius: 4px;\">\n",
       "            ✅ 2025-09-12 15:02:19 - INFO - Notebook execution started.\n",
       "        </div>\n",
       "        "
      ],
      "text/plain": [
       "<IPython.core.display.HTML object>"
      ]
     },
     "metadata": {},
     "output_type": "display_data"
    }
   ],
   "source": [
    "start_time = time.time()  \n",
    "logger.info(\"Notebook execution started.\")"
   ]
  },
  {
   "cell_type": "markdown",
   "id": "84444adc-85c6-45cd-8769-7159e29fbace",
   "metadata": {},
   "source": [
    "# Define User Constants"
   ]
  },
  {
   "cell_type": "code",
   "execution_count": 3,
   "id": "a21d3385-704e-4107-ae45-749decdd305d",
   "metadata": {},
   "outputs": [],
   "source": [
    "TOPIC: str = \"Classification Algorithms\"  \n",
    "QUESTION: str = \"Which machine learning classification algorithms are used in this project?\"\n",
    "REPO_URL: str = \"https://github.com/HPInc/AI-Blueprints\" \n",
    "FOLDER_PATH: Path = Path(\"data-science/classification-with-svm\") "
   ]
  },
  {
   "cell_type": "markdown",
   "id": "f8b7b5e0-2acd-4729-b8a2-03e81cf0df2d",
   "metadata": {},
   "source": [
    "# Install and Import Libraries"
   ]
  },
  {
   "cell_type": "code",
   "execution_count": 4,
   "id": "1c533cc2-9ca5-442a-9409-bbad88be3eb4",
   "metadata": {
    "scrolled": true
   },
   "outputs": [
    {
     "name": "stdout",
     "output_type": "stream",
     "text": [
      "Note: you may need to restart the kernel to use updated packages.\n",
      "CPU times: user 23 ms, sys: 8.87 ms, total: 31.9 ms\n",
      "Wall time: 1.3 s\n"
     ]
    }
   ],
   "source": [
    "%%time\n",
    "\n",
    "%pip install -r ../requirements.txt --quiet"
   ]
  },
  {
   "cell_type": "code",
   "execution_count": 5,
   "id": "8b95da1c-2715-497b-b1e0-2aaefe09dc04",
   "metadata": {},
   "outputs": [],
   "source": [
    "from __future__ import annotations  # Enables postponed evaluation of annotations (PEP 563)\n",
    "\n",
    "# ─────── Standard Library Imports ───────\n",
    "import base64                        # Encoding and decoding binary data\n",
    "import functools                     # Higher-order functions and decorators\n",
    "import io                            # Core tools for stream handling\n",
    "import json                          # JSON serialization and deserialization\n",
    "import logging                       # Logging configuration\n",
    "import multiprocessing               # Multi-process parallelism\n",
    "import os                            # OS-level operations\n",
    "import shutil                        # File and directory operations\n",
    "import sys                           # System-specific parameters and functions\n",
    "import time                          # Time tracking utilities\n",
    "import warnings                      # Warning control\n",
    "import zipfile                       # Archive file handling\n",
    "from collections import namedtuple   # Lightweight immutable object containers\n",
    "from pathlib import Path             # Filesystem path manipulation\n",
    "from typing import (\n",
    "    Any, Dict, List, Literal, Optional, TypedDict  # Static type hints\n",
    ")\n",
    "\n",
    "# ─────── Third-Party Packages ───────\n",
    "import requests                      # HTTP requests for external resources\n",
    "import yaml  # YAML parsing and serialization\n",
    "from IPython.display import Markdown, display  # IPython utilities for notebook output formatting\n",
    "from tqdm import tqdm  # Visual progress bar for loops\n",
    "\n",
    "# ─────── LangChain Core & Community ───────\n",
    "from langchain.docstore.document import Document  # Core document abstraction\n",
    "from langchain.text_splitter import RecursiveCharacterTextSplitter  # Text chunking utility\n",
    "from langchain_community.document_loaders import (  # Loaders for various document types\n",
    "    CSVLoader,\n",
    "    PyPDFLoader,\n",
    "    TextLoader,\n",
    "    UnstructuredExcelLoader,\n",
    "    UnstructuredMarkdownLoader,\n",
    "    UnstructuredWordDocumentLoader,\n",
    ")\n",
    "from langchain_community.llms import LlamaCpp  # Integration for local LlamaCpp models\n",
    "\n",
    "# ─────── LangGraph ───────\n",
    "from langgraph.graph import END, START, StateGraph  # Graph components for stateful workflows"
   ]
  },
  {
   "cell_type": "markdown",
   "id": "14909251-86d2-4eff-b15e-4a8c4cbddc61",
   "metadata": {},
   "source": [
    "# Configure Settings"
   ]
  },
  {
   "cell_type": "code",
   "execution_count": 6,
   "id": "27be6c46",
   "metadata": {},
   "outputs": [],
   "source": [
    "# Suppress Python warnings\n",
    "warnings.filterwarnings(\"ignore\")"
   ]
  },
  {
   "cell_type": "code",
   "execution_count": 7,
   "id": "530e293b-873e-47b3-8747-0c73d60f55a2",
   "metadata": {},
   "outputs": [],
   "source": [
    "REPO_NAME = Path(REPO_URL.split('/')[-1] + '-main')"
   ]
  },
  {
   "cell_type": "code",
   "execution_count": 8,
   "id": "5b49f4d0-7662-43ce-ae95-59c13af024bc",
   "metadata": {},
   "outputs": [],
   "source": [
    "INPUT_PATH: Path = Path(\"../data/input/downloaded_repo\") / REPO_NAME /  FOLDER_PATH\n",
    "MEMORY_PATH: Path = Path(\"../data/memory\")   \n",
    "MODEL_PATH = \"/home/jovyan/datafabric/meta-llama3.1-8b-Q8/Meta-Llama-3.1-8B-Instruct-Q8_0.gguf\"\n",
    "CONTEXT_WINDOW = 8192\n",
    "MAX_TOKENS = CONTEXT_WINDOW // 8\n",
    "CHUNK_SIZE = CONTEXT_WINDOW // 2\n",
    "CHUNK_OVERLAP = CHUNK_SIZE // 16"
   ]
  },
  {
   "cell_type": "code",
   "execution_count": 9,
   "id": "92c8dc01-e50f-4077-9056-b966895ad8ab",
   "metadata": {},
   "outputs": [
    {
     "data": {
      "text/html": [
       "\n",
       "        <div style=\"background-color: #228B22; color: white;\n",
       "                    padding: 4px 8px; font-family: monospace; border-radius: 4px;\">\n",
       "            ✅ 2025-09-12 15:02:24 - INFO - Notebook execution started.\n",
       "        </div>\n",
       "        "
      ],
      "text/plain": [
       "<IPython.core.display.HTML object>"
      ]
     },
     "metadata": {},
     "output_type": "display_data"
    }
   ],
   "source": [
    "logger.info('Notebook execution started.')"
   ]
  },
  {
   "cell_type": "markdown",
   "id": "a8dad079",
   "metadata": {},
   "source": [
    "## Verify Assets"
   ]
  },
  {
   "cell_type": "code",
   "execution_count": 10,
   "id": "98593ec3",
   "metadata": {},
   "outputs": [],
   "source": [
    "def log_asset_status(asset_path: str, asset_name: str) -> None:\n",
    "    \"\"\"\n",
    "    Logs the status of a given asset based on its existence.\n",
    "\n",
    "    Parameters:\n",
    "        asset_path (str): File or directory path to check.\n",
    "        asset_name (str): Name of the asset for logging context.\n",
    "    \"\"\"\n",
    "    if Path(asset_path).exists():\n",
    "        logger.info(f\"{asset_name} is properly configured.\")\n",
    "    else:\n",
    "        logger.info(f\"{asset_name} is not properly configured. Please ensure the required asset is correctly configured in your AI Studio project according to the README file.\")"
   ]
  },
  {
   "cell_type": "code",
   "execution_count": 11,
   "id": "61dd389c-4a0c-421f-9f29-fe9080aec9bd",
   "metadata": {},
   "outputs": [
    {
     "data": {
      "text/html": [
       "\n",
       "        <div style=\"background-color: #228B22; color: white;\n",
       "                    padding: 4px 8px; font-family: monospace; border-radius: 4px;\">\n",
       "            ✅ 2025-09-12 15:02:24 - INFO - Input Data is properly configured.\n",
       "        </div>\n",
       "        "
      ],
      "text/plain": [
       "<IPython.core.display.HTML object>"
      ]
     },
     "metadata": {},
     "output_type": "display_data"
    },
    {
     "data": {
      "text/html": [
       "\n",
       "        <div style=\"background-color: #228B22; color: white;\n",
       "                    padding: 4px 8px; font-family: monospace; border-radius: 4px;\">\n",
       "            ✅ 2025-09-12 15:02:24 - INFO - LLM is properly configured.\n",
       "        </div>\n",
       "        "
      ],
      "text/plain": [
       "<IPython.core.display.HTML object>"
      ]
     },
     "metadata": {},
     "output_type": "display_data"
    }
   ],
   "source": [
    "log_asset_status(\n",
    "    asset_path=INPUT_PATH,\n",
    "    asset_name=\"Input Data\",\n",
    ")\n",
    "log_asset_status(\n",
    "    asset_path=MODEL_PATH,\n",
    "    asset_name=\"LLM\",\n",
    ")"
   ]
  },
  {
   "cell_type": "markdown",
   "id": "2f0bfa26-1ee9-4a63-af86-0e72695c51d4",
   "metadata": {},
   "source": [
    "# LLM Setup"
   ]
  },
  {
   "cell_type": "code",
   "execution_count": 12,
   "id": "d1b49c0f-20ea-4331-9d2e-35cf25852686",
   "metadata": {},
   "outputs": [
    {
     "name": "stdout",
     "output_type": "stream",
     "text": [
      "CPU times: user 1.43 s, sys: 2.73 s, total: 4.16 s\n",
      "Wall time: 1min 2s\n"
     ]
    }
   ],
   "source": [
    "%%time\n",
    "\n",
    "llm = LlamaCpp(\n",
    "    model_path=MODEL_PATH,\n",
    "    n_gpu_layers=-1,                             \n",
    "    n_batch=512,                                 \n",
    "    n_ctx=CONTEXT_WINDOW,\n",
    "    max_tokens=MAX_TOKENS,\n",
    "    f16_kv=True,\n",
    "    use_mmap=False,                             \n",
    "    low_vram=False,                            \n",
    "    rope_scaling=None,\n",
    "    temperature=0.0,\n",
    "    repeat_penalty=1.0,\n",
    "    streaming=False,\n",
    "    stop=None,\n",
    "    seed=42,\n",
    "    num_threads=multiprocessing.cpu_count(),\n",
    "    verbose=False                                \n",
    ")"
   ]
  },
  {
   "cell_type": "markdown",
   "id": "c51178d0-cf1b-465d-9ee7-c45212a38ceb",
   "metadata": {},
   "source": [
    "# KV Memory"
   ]
  },
  {
   "cell_type": "code",
   "execution_count": 13,
   "id": "de8aff30-531b-4923-9dc4-239c516b44e6",
   "metadata": {},
   "outputs": [],
   "source": [
    "memory: SimpleKVMemory = SimpleKVMemory(MEMORY_PATH)"
   ]
  },
  {
   "cell_type": "markdown",
   "id": "f4531fd2-fa3e-4524-ac6f-ab8eaf2249f1",
   "metadata": {},
   "source": [
    "# Download the GitHub Repo"
   ]
  },
  {
   "cell_type": "code",
   "execution_count": 14,
   "id": "2148313d-b694-4fea-839c-0a6065669a91",
   "metadata": {},
   "outputs": [],
   "source": [
    "def download_github_repo(repo_url: str, output_dir: str = \"../data/input/downloaded_repo\") -> Path:\n",
    "    \"\"\"\n",
    "    Download and extract a public GitHub repository as a zip file.\n",
    "\n",
    "    Args:\n",
    "        repo_url (str): The GitHub URL (e.g., https://github.com/HPInc/AI-Blueprints)\n",
    "        output_dir (str): Directory to extract the repo contents into.\n",
    "\n",
    "    Returns:\n",
    "        Path: Path to the extracted root folder.\n",
    "    \"\"\"\n",
    "    # Normalize URL\n",
    "    repo_url = repo_url.rstrip(\"/\")\n",
    "    if not repo_url.startswith(\"https://github.com/\"):\n",
    "        raise ValueError(\"URL must be a valid GitHub repository URL.\")\n",
    "\n",
    "    # Extract user/repo name\n",
    "    parts = repo_url.replace(\"https://github.com/\", \"\").split(\"/\")\n",
    "    if len(parts) != 2:\n",
    "        raise ValueError(\"URL must be in format: https://github.com/owner/repo\")\n",
    "\n",
    "    owner, repo = parts\n",
    "    zip_url = f\"https://github.com/{owner}/{repo}/archive/refs/heads/main.zip\"\n",
    "\n",
    "    print(f\"📦 Downloading repo zip from: {zip_url}\")\n",
    "    response = requests.get(zip_url)\n",
    "    response.raise_for_status()\n",
    "\n",
    "    # Extract zip contents\n",
    "    with zipfile.ZipFile(io.BytesIO(response.content)) as z:\n",
    "        z.extractall(output_dir)\n",
    "\n",
    "    # The zip structure is usually: output_dir/repo-main/\n",
    "    extracted_path = Path(output_dir) / f\"{repo}-main\"\n",
    "    print(f\"✅ Repository extracted to: {extracted_path.resolve()}\")\n",
    "\n",
    "    return extracted_path"
   ]
  },
  {
   "cell_type": "code",
   "execution_count": 15,
   "id": "84773e9f-b87d-40c0-88ca-f72b06794ad7",
   "metadata": {},
   "outputs": [
    {
     "name": "stdout",
     "output_type": "stream",
     "text": [
      "📦 Downloading repo zip from: https://github.com/HPInc/AI-Blueprints/archive/refs/heads/main.zip\n",
      "✅ Repository extracted to: /home/jovyan/agentic-github-repo-analyzer-with-langgraph/data/input/downloaded_repo/AI-Blueprints-main\n",
      "CPU times: user 923 ms, sys: 785 ms, total: 1.71 s\n",
      "Wall time: 31.9 s\n"
     ]
    },
    {
     "data": {
      "text/plain": [
       "PosixPath('../data/input/downloaded_repo/AI-Blueprints-main')"
      ]
     },
     "execution_count": 15,
     "metadata": {},
     "output_type": "execute_result"
    }
   ],
   "source": [
    "%%time\n",
    "\n",
    "download_github_repo(REPO_URL)"
   ]
  },
  {
   "cell_type": "markdown",
   "id": "588eaa69-07ea-41f8-9fb6-6e6a9a55a101",
   "metadata": {},
   "source": [
    "# State Model"
   ]
  },
  {
   "cell_type": "code",
   "execution_count": 16,
   "id": "f4d57c81-4540-46bf-ac95-2c569cc011d5",
   "metadata": {},
   "outputs": [],
   "source": [
    "class AgenticState(TypedDict, total=False):\n",
    "    \"\"\"\n",
    "    Represents the internal state of an agentic feedback analysis pipeline.\n",
    "    This state is passed through the LangGraph nodes.\n",
    "    \"\"\"\n",
    "\n",
    "    # Input metadata\n",
    "    topic: str\n",
    "    input_path: str\n",
    "    question: str\n",
    "\n",
    "    # Document & chunking\n",
    "    docs: str                      # Raw or combined document content\n",
    "    chunks: str                    # Raw or processed chunks\n",
    "\n",
    "    # LLM configuration\n",
    "    llm: LlamaCpp\n",
    "    rewritten_question: Optional[str]\n",
    "\n",
    "    # Processing logic\n",
    "    is_relevant: Optional[bool]\n",
    "    from_memory: Optional[bool]\n",
    "    chunk_responses: str\n",
    "\n",
    "    # Output\n",
    "    answer: Optional[str]\n",
    "\n",
    "    # Memory and conversation\n",
    "    memory: SimpleKVMemory\n",
    "    messages: List[Dict[str, Any]]  # Full conversation history with the LLM"
   ]
  },
  {
   "cell_type": "markdown",
   "id": "0e299c50-b78b-4f80-ab24-fb3d4e29f1d1",
   "metadata": {},
   "source": [
    "# Node Functions"
   ]
  },
  {
   "cell_type": "code",
   "execution_count": 17,
   "id": "6f817e4b-e6f9-4916-b210-211c124ddcff",
   "metadata": {},
   "outputs": [],
   "source": [
    "@log_timing\n",
    "def ingest_question(state: AgenticState) -> Dict[str, Any]:\n",
    "    \"\"\"\n",
    "    Record the user's input question and append it to the system message history.\n",
    "\n",
    "    Returns:\n",
    "        Dict[str, Any]: A dictionary with the updated message history.\n",
    "    \"\"\"\n",
    "    question = state[\"question\"].strip()\n",
    "    logger.info(\"🗣️ Ingested user question: %s\", question)\n",
    "\n",
    "    # Build updated message history\n",
    "    messages = state.get(\"messages\", [])\n",
    "    messages += [\n",
    "        {\"role\": \"developer\", \"content\": \"User submitted a question.\"},\n",
    "        {\"role\": \"user\", \"content\": question},\n",
    "    ]\n",
    "\n",
    "    return {\"messages\": messages}\n",
    "\n",
    "\n",
    "@log_timing\n",
    "def check_relevance(state: AgenticState) -> Dict[str, Any]:\n",
    "    \"\"\"\n",
    "    Determines whether the user's question is relevant to the given topic using the LLM.\n",
    "\n",
    "    If irrelevant, returns a polite default answer and flags the result.\n",
    "    \"\"\"\n",
    "    topic = state[\"topic\"]\n",
    "    question = state[\"question\"]\n",
    "    llm = state[\"llm\"]\n",
    "\n",
    "    # Define strict classification prompts\n",
    "    system_prompt = (\n",
    "        \"You are a binary classification assistant designed to evaluate the relevance of user questions \"\n",
    "        \"to a specified topic in a document intelligence system.\\n\\n\"\n",
    "        \"Your task is to determine whether a user's question is relevant to the topic — either directly or indirectly — \"\n",
    "        \"based on whether the question could help support, relate to, or expand a conversation or analysis about that topic.\\n\\n\"\n",
    "        \"Rules:\\n\"\n",
    "        \"- Only respond with 'yes' or 'no' — no punctuation, no elaboration, and no additional words.\\n\"\n",
    "        \"- If the question is clearly about the topic, answer 'yes'.\\n\"\n",
    "        \"- If the question does not mention the topic directly but can logically contribute to answering, clarifying, or deepening understanding about the topic, answer 'yes'.\\n\"\n",
    "        \"- Only answer 'no' if the question is completely unrelated or disconnected from the topic and cannot be used in any meaningful way to explore it.\\n\\n\"\n",
    "        \"Your judgment should be inclusive — if there's any reasonable connection or utility, classify it as relevant ('yes').\"\n",
    "    )\n",
    "\n",
    "\n",
    "    user_prompt = (\n",
    "        f\"Topic: \\\"{topic}\\\"\\n\"\n",
    "        f\"User's Question: \\\"{question}\\\"\\n\\n\"\n",
    "        \"Determine if the question is relevant to the topic.\\n\"\n",
    "        \"A question is considered relevant if it:\\n\"\n",
    "        \"- Directly asks about the topic, or\\n\"\n",
    "        \"- Could be used to inform, support, or guide a discussion, analysis, or answer related to the topic.\\n\\n\"\n",
    "        \"If there's any logical connection between the question and the topic — even if implicit — respond with 'yes'.\\n\"\n",
    "        \"Respond strictly with one word: 'yes' or 'no'.\\n\"\n",
    "        \"Answer:\"\n",
    "    )\n",
    "\n",
    "\n",
    "    # Get LLM response\n",
    "    response = get_response_from_llm(llm, system_prompt, user_prompt).strip().lower()\n",
    "    is_relevant = response == \"yes\"\n",
    "\n",
    "    logger.info(\"🧠 Relevance response: %s → %s\", response, \"Relevant\" if is_relevant else \"Irrelevant\")\n",
    "\n",
    "    # Append LLM trace and result\n",
    "    messages = state.get(\"messages\", [])\n",
    "    messages += [\n",
    "        {\"role\": \"developer\", \"content\": \"🧠 Relevance check result:\"},\n",
    "        {\"role\": \"assistant\", \"content\": response},\n",
    "    ]\n",
    "\n",
    "    result: Dict[str, Any] = {\n",
    "        \"is_relevant\": is_relevant,\n",
    "        \"messages\": messages,\n",
    "    }\n",
    "\n",
    "    if not is_relevant:\n",
    "        result[\"answer\"] = f\"🚫 Sorry, I can only answer questions related to '{topic}'.\"\n",
    "\n",
    "    return result\n",
    "\n",
    "\n",
    "@log_timing\n",
    "def check_memory(state: AgenticState) -> Dict[str, Any]:\n",
    "    \"\"\"\n",
    "    Check if the user's question has been previously answered and cached in memory.\n",
    "\n",
    "    If found, return the cached answer along with a `from_memory` flag.\n",
    "    \"\"\"\n",
    "    question = state[\"question\"]\n",
    "    memory = state[\"memory\"]\n",
    "\n",
    "    key = question.strip().lower()\n",
    "    cached_answer = memory.get(key)\n",
    "\n",
    "    messages = state.get(\"messages\", [])\n",
    "\n",
    "    if cached_answer:\n",
    "        logger.info(\"💾 Cache hit for question: %s\", question)\n",
    "        messages.append({\n",
    "            \"role\": \"developer\",\n",
    "            \"content\": f\"💾 Retrieved cached answer for question: '{question}'\"\n",
    "        })\n",
    "        return {\n",
    "            \"answer\": cached_answer,\n",
    "            \"from_memory\": True,\n",
    "            \"messages\": messages\n",
    "        }\n",
    "\n",
    "    logger.info(\"🧭 Cache miss for question: %s\", question)\n",
    "    messages.append({\n",
    "        \"role\": \"developer\",\n",
    "        \"content\": f\"🧭 No cached answer found for question: '{question}'\"\n",
    "    })\n",
    "    return {\n",
    "        \"from_memory\": False,\n",
    "        \"messages\": messages\n",
    "    }\n",
    "\n",
    "\n",
    "@log_timing\n",
    "def rewrite_question(state: AgenticState) -> Dict[str, Any]:\n",
    "    \"\"\"\n",
    "    Refines the user's original question into a clear, specific, and LLM-optimized form.\n",
    "\n",
    "    Returns:\n",
    "        Dict[str, Any]: Contains the rewritten question and updated message history.\n",
    "    \"\"\"\n",
    "    original_question = state[\"question\"].strip()\n",
    "    llm = state[\"llm\"]\n",
    "\n",
    "    # Prompt engineering\n",
    "    system_prompt = (\n",
    "        \"You are a professional assistant that rewrites vague or ambiguous questions \"\n",
    "        \"into clear, focused, and LLM-friendly formats.\\n\"\n",
    "        \"The rewritten question must:\\n\"\n",
    "        \"- Be specific to document analysis\\n\"\n",
    "        \"- Be grammatically correct\\n\"\n",
    "        \"- Remain a QUESTION (not a statement)\\n\"\n",
    "        \"- Avoid ambiguity or conversational phrasing\\n\"\n",
    "        \"Do NOT include explanations or formatting—just return the cleaned question.\"\n",
    "    )\n",
    "\n",
    "    user_prompt = (\n",
    "        f\"Original user question:\\n\\\"{original_question}\\\"\\n\\n\"\n",
    "        \"Rewrite the question above as a clear and concise instruction for an AI to answer using document content. \"\n",
    "        \"Ensure it remains in question form, not declarative.\"\n",
    "    )\n",
    "\n",
    "    # Run LLM\n",
    "    response = get_response_from_llm(llm, system_prompt, user_prompt)\n",
    "    rewritten = response.strip()\n",
    "\n",
    "    # Log and message updates\n",
    "    logger.info(\"✏️ Rewritten user question:\\n→ %s\", rewritten)\n",
    "\n",
    "    messages = state.get(\"messages\", [])\n",
    "    messages += [\n",
    "        {\"role\": \"developer\", \"content\": \"✏️ Rewritten user question:\"},\n",
    "        {\"role\": \"assistant\", \"content\": rewritten},\n",
    "    ]\n",
    "\n",
    "    return {\n",
    "        \"rewritten_question\": rewritten,\n",
    "        \"messages\": messages,\n",
    "    }\n",
    "\n",
    "\n",
    "@log_timing\n",
    "def load_input_files(state: AgenticState) -> Dict[str, Any]:\n",
    "    \"\"\"\n",
    "    Load all supported document files from the specified input directory.\n",
    "\n",
    "    Supported formats:\n",
    "        - .txt (plain text)\n",
    "        - .csv (UTF-8 with comma delimiter)\n",
    "        - .xlsx (Excel)\n",
    "        - .docx (Word)\n",
    "        - .pdf  (PDF)\n",
    "        - .md   (Markdown)\n",
    "        - .py   (Python source)\n",
    "        - .ipynb (Jupyter Notebooks)\n",
    "        - .json (JSON config/data)\n",
    "        - .yaml / .yml (YAML files)\n",
    "\n",
    "    Skips hidden or system folders (e.g., .git, __pycache__).\n",
    "    \"\"\"\n",
    "\n",
    "    class SafeTextLoader(TextLoader):\n",
    "        def load(self) -> list[Document]:\n",
    "            encodings = [\"utf-8\", \"utf-16\", \"latin-1\", \"cp1252\"]\n",
    "            for enc in encodings:\n",
    "                try:\n",
    "                    with open(self.file_path, encoding=enc) as f:\n",
    "                        text = f.read()\n",
    "                    return [Document(page_content=text)]\n",
    "                except Exception:\n",
    "                    continue\n",
    "            raise ValueError(f\"Failed to decode file: {self.file_path}\")\n",
    "\n",
    "    class NotebookLoader:\n",
    "        def __init__(self, file_path: str):\n",
    "            self.file_path = file_path\n",
    "\n",
    "        def load(self) -> list[Document]:\n",
    "            try:\n",
    "                with open(self.file_path, encoding=\"utf-8\") as f:\n",
    "                    notebook = json.load(f)\n",
    "                cells = notebook.get(\"cells\", [])\n",
    "                source = \"\\n\".join(\"\".join(cell.get(\"source\", [])) for cell in cells)\n",
    "                return [Document(page_content=source)]\n",
    "            except Exception as e:\n",
    "                raise ValueError(f\"Failed to load notebook: {self.file_path}: {e}\")\n",
    "\n",
    "    input_path = state[\"input_path\"]\n",
    "    logger.info(\"📂 Scanning directory for documents: %s\", input_path)\n",
    "\n",
    "    supported_extensions = {\n",
    "        \".txt\": SafeTextLoader,\n",
    "        \".csv\": lambda path: CSVLoader(path, encoding=\"utf-8\", csv_args={\"delimiter\": \",\"}),\n",
    "        \".xlsx\": UnstructuredExcelLoader,\n",
    "        \".docx\": UnstructuredWordDocumentLoader,\n",
    "        \".pdf\": PyPDFLoader,\n",
    "        \".md\": UnstructuredMarkdownLoader,\n",
    "        \".py\": SafeTextLoader,\n",
    "        \".json\": SafeTextLoader,\n",
    "        \".yml\": SafeTextLoader,\n",
    "        \".yaml\": SafeTextLoader,\n",
    "        \".ipynb\": NotebookLoader,\n",
    "    }\n",
    "\n",
    "    all_docs = []\n",
    "\n",
    "    for file_path in Path(input_path).rglob(\"*\"):\n",
    "        if any(part.startswith(\".\") and part not in {\".\", \"..\"} for part in file_path.parts):\n",
    "            continue\n",
    "\n",
    "        if file_path.is_dir():\n",
    "            continue\n",
    "\n",
    "        ext = file_path.suffix.lower()\n",
    "        loader_class = supported_extensions.get(ext)\n",
    "\n",
    "        if loader_class:\n",
    "            try:\n",
    "                loader = loader_class(str(file_path))\n",
    "                docs = loader.load()\n",
    "                all_docs.extend(docs)\n",
    "                logger.info(\"✅ Loaded %d docs from %s\", len(docs), file_path.name)\n",
    "            except Exception as e:\n",
    "                logger.warning(\"❌ Failed to load %s: %s\", file_path.name, e)\n",
    "        else:\n",
    "            logger.info(\"⚠️ Unsupported file type: %s\", file_path.name)\n",
    "\n",
    "    messages = state.get(\"messages\", []) + [\n",
    "        {\"role\": \"developer\", \"content\": f\"📄 Loaded documents from: {input_path}\"}\n",
    "    ]\n",
    "\n",
    "    return {\"docs\": all_docs, \"messages\": messages}\n",
    "\n",
    "\n",
    "@log_timing\n",
    "def create_chunks(state: AgenticState) -> Dict[str, Any]:\n",
    "    \"\"\"\n",
    "    Split all loaded documents into semantically coherent, overlapping chunks.\n",
    "\n",
    "    Uses LangChain's RecursiveCharacterTextSplitter to preserve context boundaries\n",
    "    and control token limits for downstream LLM usage.\n",
    "\n",
    "    Returns:\n",
    "        Dict[str, Any]: Contains a \"chunks\" key with the resulting split Document list.\n",
    "    \"\"\"\n",
    "    docs = state[\"docs\"]\n",
    "    logger.info(\"📑 Starting chunking for %d loaded documents\", len(docs))\n",
    "\n",
    "    splitter = RecursiveCharacterTextSplitter(\n",
    "        chunk_size=CHUNK_SIZE,\n",
    "        chunk_overlap=CHUNK_OVERLAP,\n",
    "        separators=[\"\\n\\n\", \"\\n\", \".\", \"!\", \"?\", \" \", \"\"],  # Order: most to least semantic\n",
    "        add_start_index=True,\n",
    "    )\n",
    "\n",
    "    chunks = splitter.split_documents(docs)\n",
    "    logger.info(\"🧩 Created %d total chunks (size=%d, overlap=%d)\", len(chunks), CHUNK_SIZE, CHUNK_OVERLAP)\n",
    "\n",
    "    # Append developer message\n",
    "    messages = state.get(\"messages\", [])\n",
    "    messages.append({\n",
    "        \"role\": \"developer\",\n",
    "        \"content\": f\"🧩 Chunked {len(docs)} documents into {len(chunks)} chunks (size={CHUNK_SIZE}, overlap={CHUNK_OVERLAP})\"\n",
    "    })\n",
    "\n",
    "    return {\n",
    "        \"chunks\": chunks,\n",
    "        \"messages\": messages,\n",
    "    }\n",
    "\n",
    "\n",
    "@log_timing\n",
    "def generate_answer_per_chunks(state: AgenticState) -> Dict[str, Any]:\n",
    "    \"\"\"\n",
    "    Generate an answer for each document chunk based on the rewritten question.\n",
    "\n",
    "    Each chunk is independently evaluated by the LLM using a shared system/user prompt pair.\n",
    "    Only the information inside the chunk may be used—no inference or guessing allowed.\n",
    "    \"\"\"\n",
    "    rewritten_question = state[\"rewritten_question\"].strip()\n",
    "    chunks = state[\"chunks\"]\n",
    "    llm = state[\"llm\"]\n",
    "    topic = state[\"topic\"]\n",
    "    \n",
    "    logger.info(\"🧩 Generating answers for %d chunks using rewritten question: '%s'\", len(chunks), rewritten_question)\n",
    "\n",
    "    # 🔒 System Prompt (invariant per chunk)\n",
    "    system_prompt = (\n",
    "        \"You are a document chunk analysis assistant for a feedback intelligence system.\\n\\n\"\n",
    "        \"Your task is to help answer a specific user question by analyzing **one chunk** of a larger document.\\n\\n\"\n",
    "        \"Instructions:\\n\"\n",
    "        \"- You are only given one chunk at a time.\\n\"\n",
    "        \"- Use only the information in that chunk to answer.\\n\"\n",
    "        \"- Do NOT guess, infer, or draw conclusions from missing context.\\n\"\n",
    "        \"- If the chunk does not provide enough information to answer, reply exactly with: Not mentioned in this chunk.\\n\\n\"\n",
    "        \"Output Guidelines:\\n\"\n",
    "        \"- Be factual, clear, and complete.\\n\"\n",
    "        \"- Use relevant details from the chunk if available.\\n\"\n",
    "        \"- If the question is not answerable from the chunk, respond accordingly and concisely.\\n\"\n",
    "    )\n",
    "\n",
    "    # 🧾 User Prompt Template\n",
    "    user_prompt_template = (\n",
    "        f\"User question:\\n\"\n",
    "        f\"\\\"{rewritten_question}\\\"\\n\\n\"\n",
    "        f\"This chunk is part of a document about the topic: \\\"{topic}\\\".\\n\"\n",
    "        f\"Read the chunk carefully and answer the question using only what is written below:\\n\\n\"\n",
    "        f\"--- START OF CHUNK ---\\n\"\n",
    "        f\"{{chunk}}\\n\"\n",
    "        f\"--- END OF CHUNK ---\\n\\n\"\n",
    "        f\"If the answer is not found in this chunk, respond with:\\n\"\n",
    "        f\"Not mentioned in this chunk.\"\n",
    "    )\n",
    "\n",
    "    chunk_responses = []\n",
    "    messages = state.get(\"messages\", [])\n",
    "\n",
    "    progress_bar = tqdm(chunks, desc=\"🔁 Processing each chunk\")\n",
    "\n",
    "    for i, chunk in enumerate(progress_bar):\n",
    "        chunk_text = chunk.page_content.strip()\n",
    "        user_prompt = user_prompt_template.replace(\"{chunk}\", chunk_text)\n",
    "\n",
    "        try:\n",
    "            response = get_response_from_llm(llm, system_prompt, user_prompt).strip()\n",
    "            progress_bar.set_postfix({\"group\": f\"✅ Chunk {i + 1} response length: {len(response)} chars\"})\n",
    "        except Exception as e:\n",
    "            response = f\"[ERROR in chunk {i+1}]: {e}\"\n",
    "            progress_bar.set_postfix({\"group\": f\"❌ Error processing chunk {i + 1}: {e}\"})\n",
    "\n",
    "        chunk_responses.append(response)\n",
    "\n",
    "    logger.info(\"🧠 Finished generating %d chunk-level responses.\", len(chunk_responses))\n",
    "\n",
    "    # Add summary message\n",
    "    messages.append({\n",
    "        \"role\": \"developer\",\n",
    "        \"content\": f\"🧠 Processed {len(chunks)} chunks for question: '{rewritten_question}'\"\n",
    "    })\n",
    "\n",
    "    return {\n",
    "        \"chunk_responses\": chunk_responses,\n",
    "        \"messages\": messages,\n",
    "    }\n",
    "\n",
    "@log_timing\n",
    "def generate_synthetized_answer(state: AgenticState) -> Dict[str, Any]:\n",
    "    \"\"\"\n",
    "    Synthesizes a final, comprehensive answer to the user's question\n",
    "    based on the collected per-chunk LLM responses.\n",
    "    \"\"\"\n",
    "    chunk_answers = state[\"chunk_responses\"]\n",
    "    rewritten_question = state[\"rewritten_question\"]\n",
    "    topic = state[\"topic\"]\n",
    "    llm = state[\"llm\"]\n",
    "\n",
    "    if not chunk_answers:\n",
    "        logger.warning(\"🚫 No chunk-level responses available to synthesize.\")\n",
    "        return {\"answer\": \"No information available to synthesize a final answer.\"}\n",
    "\n",
    "    max_context_tokens = getattr(llm, \"context_window\", 8192)\n",
    "    chunk_token_budget = max_context_tokens // 2\n",
    "\n",
    "    # 🧱 Split formatted chunk answers into token-safe groups\n",
    "    def chunk_by_token_limit(answers: List[str], max_tokens: int) -> List[List[str]]:\n",
    "        groups, current, current_len = [], [], 0\n",
    "        for a in answers:\n",
    "            a = a.strip()\n",
    "            tokens = int(a.count(\" \") * 1.5)\n",
    "            if current_len + tokens > max_tokens and current:\n",
    "                groups.append(current)\n",
    "                current, current_len = [], 0\n",
    "            current.append(a)\n",
    "            current_len += tokens\n",
    "        if current:\n",
    "            groups.append(current)\n",
    "        return groups\n",
    "\n",
    "    grouped_chunks = chunk_by_token_limit(chunk_answers, chunk_token_budget)\n",
    "\n",
    "    logger.info(\"🧠 Synthesizing across %d chunk groups\", len(grouped_chunks))\n",
    "\n",
    "    logger.info(\"🧠 Synthesizing final answer from %d chunk responses\", len(chunk_answers))\n",
    "\n",
    "    # 🧠 System Prompt (for synthesis agent)\n",
    "    synthesis_system_prompt = (\n",
    "        \"You are a synthesis assistant in a document reasoning system.\\n\\n\"\n",
    "        \"Your job is to produce a final, complete, and precise answer to the user's question \"\n",
    "        \"based on multiple intermediate answers derived from different chunks of a document.\\n\\n\"\n",
    "        \"Instructions:\\n\"\n",
    "        \"- Use ONLY the information provided in the chunk responses.\\n\"\n",
    "        \"- Do NOT hallucinate, invent, or infer beyond what's included.\\n\"\n",
    "        \"- Eliminate redundancy and merge overlapping information.\\n\"\n",
    "        \"- Combine details and structure them clearly.\\n\"\n",
    "        \"- Be detailed, factual, and coherent.\\n\"\n",
    "        \"- Avoid repeating redundant or identical statements from the chunks; instead, consolidate and rephrase them concisely.\\n\"\n",
    "        \"- Format the answer using valid and clean Markdown for headings, lists, and emphasis.\\n\"\n",
    "        \"- **Return the final answer in clean and well-formatted Markdown.**\\n\"\n",
    "    )\n",
    "\n",
    "    progress_bar = tqdm(grouped_chunks, desc=\"🔁 Processing each grouped chunk answers\")\n",
    "\n",
    "    partial_summaries = [] \n",
    "\n",
    "    for i, chunk_group in enumerate(progress_bar):\n",
    "        formatted_chunks = \"\\n\".join(f\"- Chunk {j+1}: {a}\" for j, a in enumerate(chunk_group))\n",
    "        # 💬 User Prompt Template\n",
    "        synthesis_user_prompt = (\n",
    "            f\"The user asked the following question:\\n\"\n",
    "            f\"\\\"{rewritten_question}\\\"\\n\\n\"\n",
    "            f\"The topic of the document is: \\\"{topic}\\\"\\n\\n\"\n",
    "            f\"Below are the LLM-generated answers for each chunk:\\n\\n\"\n",
    "            f\"{formatted_chunks}\\n\\n\"\n",
    "            f\"Please now synthesize a final, complete, non-redundant answer to the user's question. \"\n",
    "            f\"Make sure your answer is factual, logically structured, and clearly written.\"\n",
    "            f\"Avoid repeating redundant or identical statements from the chunks; instead, consolidate and rephrase them concisely.\"\n",
    "            f\"If the chunks provide conflicting answers, prioritize the most consistent and complete one. \"\n",
    "            f\"\\n\\n➡️ **Return the final answer in clean and well-formatted Markdown.**\"\n",
    "        )\n",
    "        summary = get_response_from_llm(\n",
    "            llm=llm,\n",
    "            system_prompt=synthesis_system_prompt,\n",
    "            user_prompt=synthesis_user_prompt,\n",
    "            ).strip()\n",
    "        \n",
    "        progress_bar.set_postfix({\"group\": f\"🧠 Synthesized partial answer ({i + 1}/{len(grouped_chunks)})\"})\n",
    "        \n",
    "        partial_summary = f\"# 🧠 Synthesized partial answer ({i + 1}/{len(grouped_chunks)})\\n\\n\" + summary\n",
    "        partial_summaries.append(partial_summary)\n",
    "        \n",
    "    logger.info(f\"✅ Synthesized {len(partial_summaries)} group-level summaries.\")\n",
    "\n",
    "    final_answer = \"\\n---\\n\".join(partial_summaries)\n",
    "\n",
    "    messages = state.get(\"messages\", [])\n",
    "    messages += [\n",
    "        {\"role\": \"developer\", \"content\": f\"✅ Synthesized {len(partial_summaries)} group-level summaries.\"},\n",
    "        {\"role\": \"assistant\", \"content\": final_answer}\n",
    "    ]\n",
    "\n",
    "    return {\n",
    "        \"answer\": final_answer,\n",
    "        \"messages\": messages,\n",
    "    }\n",
    "\n",
    "\n",
    "@log_timing\n",
    "def update_memory(state: AgenticState) -> Dict[str, Any]:\n",
    "    \"\"\"\n",
    "    Persist the current question-answer pair to memory if it was not served from cache.\n",
    "\n",
    "    Returns:\n",
    "        Dict[str, Any]: Updated message history (if applicable).\n",
    "    \"\"\"\n",
    "    if state.get(\"from_memory\"):\n",
    "        logger.info(\"⏩ Skipping memory update (already served from cache).\")\n",
    "        return {}\n",
    "\n",
    "    question = state[\"question\"].strip().lower()\n",
    "    answer = state[\"answer\"]\n",
    "    memory = state[\"memory\"]\n",
    "\n",
    "    memory.set(question, answer)\n",
    "    logger.info(\"💾 Stored question-answer pair in memory (key: %s)\", question)\n",
    "\n",
    "    messages = state.get(\"messages\", [])\n",
    "    messages.append({\n",
    "        \"role\": \"developer\",\n",
    "        \"content\": f\"💾 Stored answer in memory for question key: '{question}'\"\n",
    "    })\n",
    "\n",
    "    return {\"messages\": messages}\n",
    "\n",
    "\n",
    "@log_timing\n",
    "def output_answer(state: AgenticState) -> Dict[str, Any]:\n",
    "    \"\"\"\n",
    "    Display the final synthesized answer and record the action in the developer trace.\n",
    "\n",
    "    Returns:\n",
    "        Dict[str, Any]: Contains updated message history.\n",
    "    \"\"\"\n",
    "    answer = state.get(\"answer\", \"\").strip()\n",
    "\n",
    "    # Display output in console (or could be adapted for Streamlit, CLI, etc.)\n",
    "    print(\"\\n🔚 === Final Answer ===\\n\")\n",
    "    print(answer)\n",
    "    print(\"\\n========================\\n\")\n",
    "\n",
    "    logger.info(\"📤 Delivered final answer (%d characters)\", len(answer))\n",
    "\n",
    "    # Append developer message to trace\n",
    "    messages = state.get(\"messages\", [])\n",
    "    messages.append({\n",
    "        \"role\": \"developer\",\n",
    "        \"content\": f\"📤 Final answer delivered: {answer}\"\n",
    "    })\n",
    "\n",
    "    return {\"messages\": messages}"
   ]
  },
  {
   "cell_type": "markdown",
   "id": "fb4b0622-ae83-4838-9160-6d087ce35d03",
   "metadata": {},
   "source": [
    "# Graph Definition"
   ]
  },
  {
   "cell_type": "code",
   "execution_count": 18,
   "id": "475e5a8c-b34c-41a7-8b2d-9073841a49cf",
   "metadata": {},
   "outputs": [],
   "source": [
    "agentic_graph = StateGraph(AgenticState)\n",
    "\n",
    "# Nodes\n",
    "agentic_graph.add_node(\"ingest_question\", ingest_question)\n",
    "agentic_graph.add_node(\"check_relevance\", check_relevance)\n",
    "agentic_graph.add_node(\"check_memory\", check_memory)\n",
    "agentic_graph.add_node(\"rewrite_question\", rewrite_question)\n",
    "agentic_graph.add_node(\"load_input_files\", load_input_files)\n",
    "agentic_graph.add_node(\"create_chunks\", create_chunks)\n",
    "agentic_graph.add_node(\"generate_answer_per_chunks\", generate_answer_per_chunks)\n",
    "agentic_graph.add_node(\"generate_synthetized_answer\", generate_synthetized_answer)\n",
    "agentic_graph.add_node(\"update_memory\", update_memory)\n",
    "agentic_graph.add_node(\"output_answer\", output_answer)\n",
    "\n",
    "# Edges\n",
    "agentic_graph.add_edge(START, \"ingest_question\") \n",
    "agentic_graph.add_edge(\"ingest_question\", \"check_relevance\")\n",
    "\n",
    "def route_relevance(state: AgenticState) -> Literal[\"irrelevant\", \"relevant\"]:\n",
    "    return \"relevant\" if state[\"is_relevant\"] else \"irrelevant\"\n",
    "\n",
    "agentic_graph.add_conditional_edges(\n",
    "    \"check_relevance\",\n",
    "    route_relevance,\n",
    "    {\n",
    "        \"irrelevant\": \"output_answer\",      \n",
    "        \"relevant\": \"check_memory\",\n",
    "    },\n",
    ")\n",
    "\n",
    "def route_memory(state: AgenticState) -> Literal[\"cached\", \"not_cached\"]:\n",
    "    return \"cached\" if state.get(\"from_memory\") else \"not_cached\"\n",
    "\n",
    "agentic_graph.add_conditional_edges(\n",
    "    \"check_memory\",\n",
    "    route_memory,\n",
    "    {\n",
    "        \"cached\": \"output_answer\",\n",
    "        \"not_cached\": \"rewrite_question\",\n",
    "    },\n",
    ")\n",
    "\n",
    "agentic_graph.add_edge(\"rewrite_question\", \"load_input_files\")\n",
    "agentic_graph.add_edge(\"load_input_files\", \"create_chunks\")\n",
    "agentic_graph.add_edge(\"create_chunks\", \"generate_answer_per_chunks\")\n",
    "agentic_graph.add_edge(\"generate_answer_per_chunks\", \"generate_synthetized_answer\")\n",
    "agentic_graph.add_edge(\"generate_synthetized_answer\", \"update_memory\")\n",
    "agentic_graph.add_edge(\"update_memory\", \"output_answer\")\n",
    "agentic_graph.add_edge(\"output_answer\", END)\n",
    "\n",
    "compiled_graph = agentic_graph.compile()"
   ]
  },
  {
   "cell_type": "markdown",
   "id": "8c99d3d4-7e34-4d1d-9240-0bf6d86e5e42",
   "metadata": {},
   "source": [
    "# Graph Visualization"
   ]
  },
  {
   "cell_type": "code",
   "execution_count": 19,
   "id": "e35c73df-c446-4e5d-a628-2927d7d86a7d",
   "metadata": {},
   "outputs": [
    {
     "data": {
      "text/html": [
       "<img src=\"data:image/png;base64,iVBORw0KGgoAAAANSUhEUgAAAY8AAASuCAIAAAC1MDKEAAAQAElEQVR4nOydBWDTWhuGT9o5M8bGkAHD3Ydc3N3d3X7c3d394u7ufnF3NtjQwXBnMNe2/9cGSucbVNL0fe5uSZOTk9M0eft97zlJzBQKBQMAAMFjxgAAwBiAWgEAjAOoFQDAOIBaAQCMA6gVAMA4gFoBAIwDqJUJ4XXR//WTsNAgWXSkIjpKwSk4TsrkcvqHkygnmEI5zRQKxilnMblMwUkkClrAmJQK0BpyhVTCyeT8qBdlWU7CUQ1mZpLoaDm/FYmEo8XKqiT0D+NHyKhm0vpUibJyftwMPyFR1RB/i6mBEmZpI7FLbZazeKrsBewZMGE4jLcSPae2fXjzKCw8VE7yYWklMbPgpGacPIqTKxRSKYmRglTk5wQJDkmMXKlDNKGQMU7KKWTKI0RiRgKk/KNKFLwu8aomUUqYhCqMVhZTqDRMKWN8SfpPTnUpp1VLlW95QVTNpC1y6gqVcqaarW65UjHlpJaKiFC5UvdkzNZRWqCsfbEqaRgwPaBWYubo2vevn4SamUsy5rD6p55zahcLZsz4egV6Xgj4+i6CBM+jumPxqtAs0wJqJU5CgiO3TnsjNefKNHDO6yG2BOr87k+PbgZZ25l1Gu/OgMkAtRIhN45/vfXfjwL/2FVq7srEy855r7+8jey7IAcDpgHUSmx8fhe2Z8G73nNN4hy+d9H/yn5/CJaJALUSFZcPf7l/KaD3bBM6e/0/h22f+a7PfAiW+JEwIBbe+gZ7XTAtqSKc0lqXa+i0fPhzBsQO1Eo8HFr5sUy91Mz0KFzRyTmD+ebpfgyIGqiVSNg+51Uqe2nRSibaqd98YOaQANndc98YEC9QK5Hw7X1U6xGZmQmTy8P2zukfDIgXqJUY2L3wdSpHqYWFlJkwVZqni4pQ3L8MwRItUCsx8PltZPHKDszkcc5ocffsdwZECtTK6Hl8J4ApWKEKTkyPPH/+vF69eizl7Nq1a8KECUw3FKvqEBooY0CkQK2Mnsc3Aq1t9Z0DPnz4kP0Rf7xicshRyEGhUF5OyIAYwR1jjJ6Ab9F2aXSlVkFBQStWrLh8+bK/v3++fPlq167dqFEjmrNmzRpa6uHhMWjQoLZt2166dOnkyZP37t0LCAgoUKBAt27daBEV8PX1bdWq1cKFC6dOnZo6dWo7O7u7d+/S/KNHj27ZsiVPnjxM21hac34+ITkK494yIgRqZfREhisyZjNnumHSpEmfPn0aNWpU1qxZKYmbMWNGtmzZevXqFRkZeerUqSNHjlCZ8PDwsWPHlixZkgrT29OnT5OEHThwIE2aNObmyoaRtLVv375IkSL58+fv1KlTlixZ+JK6wNxSEvAligExArUyehQyhYWNrr5HCoU6dOhQunRpmu7Xr1+1atUcHR1jlbGystqxY4e1tTW/iGKrPXv2eHp6Vq1aVXkvK8ZodYq/mF4wk0qiIhgQJVArEaC8fyfTDRQQUcr248ePYsWK/fPPP3nz5o23WEhIyNKlS+/cufP161d+zvfvv/vmElpLFyhvR8pxDIgRuOxGDydVhIcxHTFx4sQ2bdpcu3Zt8ODB1atXX758eXR0dKwyHz9+JKMqKipq+vTpVPL69euxClhaWjJ9ERWtMDOHWokTxFZGj5m5JOBrJNMN9vb2Xbp06dy5s5eX17lz59auXUtOebt27TTL/Pfff2RjkRVFySCLGVXpn8hwWdpM+hNHoE+gVkaPnZNZ4LdopgOog+/EiRMNGzYkZ6qIiidPnjx+/DhuMRI1XqqIM2fOMMMREcoy57FhQIwgEzR6chRKpaMhkWZmZqtWrRoxYgQFVt++fTt69ChJFWkWLcqcOTNZVOfPn3/16lXOnDlpeu/evZQkXr169ebNm2S3U3oYb52ZMmXy9va+deuWv78/0zYf/JQpcf7SjgyIESkZEwwYM+ncrW+e8E+T0dzJVcsZkIWFRcGCBSnRW79+PXntb9686d69e6NGjainz9nZ+eHDhxs2bCBhatmypUwm27Zt2+LFiykNHDNmTGho6ObNm0nCChUqtHPnzjp16ri5ufF1pk6d+tKlS9u3by9VqpR6prY4selDRKjMo7peh/UDvYF7h4qBLdNeMgnXblQWZtr8O9i3UHmH8o1dGBAjyATFQO0u6X98NvUhkbdOKW9uBakSMXDZxUCa9JY2dpJts161GRF/eHXq1Knp06fHu8jBwYFs8ngXUdI3cOBAphuoZk9Pz3gXRUREJDTogXLSrFmzxrvo7rnveUulYkC8IBMUD0sH+bYYkiGtWzw9YlFRUeHh4fGuRYv462PiQvOpN5DpBvK2yO2KdxE1NaHt2tjYSKXxXBR5dO37Dy/Cuk3LzoB4gVqJh+tHv3heCOhlYk+RIAK/h2+a8rYvHnsjduBbiYfSdV1c3S3XTXjBTIzN097WaJ+WAbGD2Eps3Dvvf/2Y//9MI8KSRclWjPBrPSKzk6sFA2IHaiVC9i97+/FleP3u6dxy2jLxcn73J++rQfW6p3fPB3PdJIBaiZPb/327efJ76nRmrYe6M9Hx6mnwf5s/y6LlPWfAqzIhoFZiZstMvx+fZQ5ppIUqOBYuL4YHo17c9+nZvZDwUHnm3Nb1e2RkwJSAWomc4ODIw8s//PgSpZAzSxsulb2Zta0ZTcjlMTpYOI7xB4L63lCax4VyKb3+OlrUhQmJlFPIFep1+QmJhClnMk49k145KiiPNYeaoYhRm2pD/FJ6pbojo+QRIfLggKjIUHlkBDOzYBmzWdXvqeVLdoBRALUyFZ55Bj67G+z/KTIiTC6LUshi3rWB434rkfKoYMr/NJbyCqIu8/uwUaqVTFlapTJyCacUQU5CBeRMoVI+euG1TKLUtRhzVPVo1sZr5e9tSZT6RZuwTsW5ult5VHNMndaaAVMFagW0w5s3b/r163fgwAEGgG7AlTdAO0RHR5uZ4XACOgSHF9AOUCuga3B4Ae0AtQK6BocX0A6JXB0NgFaAWgHtgNgK6BocXkA7QK2ArsHhBbQD1AroGhxeQDvAtwK6BmoFtANiK6BrcHgB7QC1AroGhxfQDlAroGtweAHtALUCugaHF9AOUCuga3B4Ae0AtQK6BocX0A5QK6BrcHgB7QC1AroGhxfQDhgdCnQN1ApoB6gV0DV4VjPQDsgEga7B4QW0A9QK6BocXkA7QK2ArsHhBbQDfCuga6BWQDsgtgK6BocX0A6pUqWytLRkAOgMqBXQDuHh4aGhoQwAnQG1AtqB0kBKBhkAOgNqBbQD1AroGqgV0A5QK6BroFZAO0CtgK6BWgHtALUCugbXCQLtALUCugZqBbQD1AroGmSCQDtArYCugVoB7QC1AroGagW0A9QK6BqoFdAOUCuga6BWQDtArYCugVoB7QC1AroGagW0A9QK6BqoFdAOUCuga6BWQDtArYCu4RQKBQPgT2nVqtWTJ08kEgkdSBz383BycnI6ffo0A0Cr4Mob8Ff07ds3derUpFMkWPwrCVaBAgUYANoGagX+inLlyuXKlUtzDgVW7du3ZwBoG6gV+Fu6du2aJk0a9ducOXMWL16cAaBtoFbgbylRooQ69bOxsWnXrh0DQAdArYAW6Ny5M7lXNJE9e3bKDRkAOgB9ggbm0a2Ad89DI8M5mpZwTK76Njh6J1eQZS1XfTv0Vvkvzfy59Oe3JpEwuZxprqieQ4U5hbK4siqmXJ2vhFZVfemxmyGVcDLaIve7JOMPDtrYr7dq+Er4atXNe+D94POnTwXyF3BNn44p1CV/lVG1XSJlctnveiTKiugjcr/e/vwUmltRxKzq56uqYbE38WuC7H65PJ6j+tdujNmmWGXkCktblr+MnaubLQMCA2plMIL8I7fPfS2LZmbmkqgIlSpJOAWdZpzqPFL8PutiichvkZJychkvWz9LqudQYZIZuVzxW60kTCFXbYQmFLG/dokZk0fH3hBTndFcPCe/UjD5+lU18jUrq6WWMPZ7dY2PoDzS1M3TWMrUmvFban9tgzav+LVpfueolVqjWGy1MpNy0bL41EpVA0lkjN+A2IUU5hZcZLjCxp7rPCE7A0ICamUYAr9Hbpn2Ol8p++I10jIgPPav8I0OlXSZlI0BwQC1MgzLhvlWbZc2g7s9A0Ll5MbXQd+iOk9ChCUU4LIbgP3L31imkkCqBE7NjplDQxRPPb8zIAygVgbg+6eoNK5WDAgeq1TSJ7dCGRAGuKrZAESHyzkpfieMAQULD4ZVIhSgVgZAJpfINXu/gFCRyxi+KOEAtQIgQZQjPeSIrYQC1AqABFHeV0LKMSAMoFYAJIhcrlDIEFsJBagVAAkikSK2EhBQKwOgSi9wDhgB5LLDtxIOUCsDoEovcA4YBQqGL0owQK0ASBDlHSgkiIKFAtQKgATBCAZBAbUCIEGkZpzEDLGVUIBaAZAgKpedAYEAtTIAEgl/xz0AQArAtbUGQC5PWVfTixe+lat63L9/jwEVe/ftqFq9JNM98K0EBdTKCHB0TN2hfbe0adMxPbL/wK4ZsyYwwaDZnnx5C7Rv143pHtX9ohkQCMgEjQAnpzSdO/Vi+uXJk4dMSGi2J2/eAvTHdI+C4d66AgKxlRGgmQlSiNGkWY3Xr1927tqCZnbt3urEycN8MblcvmDhjKbNa7ZuU3/N2n+vX79MBfz9v/FLqVjvvp1q1y1Hr3v2blOfhVTVpMkjGzet3qhJtTHjBj944EkzBw7ucfLUkVOnjlINT589Trx5Z86ebNe+EZWkmj98fE8Tp8+coPmjxgykP3WxkyeP0KLQ0NC/b0+sTHDT5jVt2zeqWbtM+45N5s2fpr4bD9Vw8NAeWkqF6zWoSNV++/aVpQTVVc0MCASolQHgOIWE+8M9b25uHhwctHjJ7GFDxp09fatihWqz50z+9OkjLdq9Z+vhI/v69R22YsUWa2ubteuWMeX5ptwQyces2ZNy5cyzbcuhbl37kDosXTaP5kdGRpIQSKXSWTOXzJuz3ExqNmbsoPDw8IXzV1HwUqNG3XNnbtNaibSHxGXa9LFVq9Y6eOBsl87/mz5jHM00M0siZtdie9ZvWHHg4K7/9Ry4Z/fJrl16n7/wH+0H9b7auXMT7YED+89sXL/3gbfnho0rWUpQSqgCqaBQgFoZBE7+Fx3jUVFRHTv0yJevIHkqNWvUo6jE1/cJzafoo0L5KpUqVnOwd2jbprNNqlTqVY4dO1CoUNGBA0amTu1UrGiJzh17HTiw6/t3/zdvXtFr0yatSQKyZ885YfzMSZPmREdHJ78xtFGVrdbd3s7eo3ip+nWbJGctbbUnKDho+46N5GGVK1fJztaOPnvjRi23bF1Lu4gvkDFjpnZtu9CiNGmcS3j88/TpI5YS4LILCqiVAfh7KyRPnvz8hJ2d8lEUFG3JZLKXL1/kz19IXaZC+ar8BGVG3j5edK6qFxUtWoJm3n9wz80tM2nNzNkTt2xd5+3tRWFI0SIetrYpePAnCWXu3PkoGuLf5i9QmLEkKWLb3wAAEABJREFUzB4ttofUjYRJ08PKlStvcHDwu3dv1G/Vi2hfhYQEs5SAK28EBVx2oyRuT1VwSDBphI3N73jKwcGRn6D0ik5pSgz53FANRTGWlpaLFqw+euwA5WK0NEMGt04delSvXoclmx8/vlP8on5rbWWd5CpabI+/v9KHsrL8/UgOSoHpNSzspzv21116pLsYHioUoFYiwUZ1lqozIKY8+X/661ZWVjY2NjWq161QoarmKhnSu9Fr5szu/+s1kPoc7969efzEoekzx2dxz5a4V6UJBSwRkRHqt6FhCT4hRvbrofJabE+qVMqwKyw87HcDQkOYshfVmWkHDuN4hQPUygBwqltcMa1CjnLatK4vXz5Xz7ly9YJ6Onv2XGTxUFbFvyVR+/DhHZUnj9zn4f3atRqQgpQpU6FUqbK16pQlcyf5apUuXYYbN69QHsfb+V5ed9SLLMwtfgT8fhgfZW1abw/VQ0moj49X3l+p8aNH3uRSubho5wnYqm8JaiUU4FsZAIXqFldM25T5p8Kp/47eun2dUkLqFwsKClQv6t6175Ur548dP0iy8uCB5+QpowYP7UUZWWBgAHUpLl+x8O27N6QmW7etJ0u7QH6l90T5HZ35d+/dogQtkY1WrFjt69cvy5YvoBWvX7+8a/cW9SKykx4/9nnxwpemb9+5cfnKea23h6z96tXqkMl19erFwKDAU6eO7j+ws1mztrx0/j3KOx3DZRcMUCvxQB2FBQsWHT6ib/sOjV+98mvWtA1TDiYwp9eCBYusWrH1/v17jZtWHzq8N5nNU6fMJ5OoQIHCgweNPn3mOK3SoVPTBw/uzZ+3wt09G61CvXtk+gwb3uf5i2eJbLSER+mePfpfu3axes3S06aP1RzF2qhhi6pVavXo1bZyVY/jxw+2a9OF/TLgtdiePr2HlC1Tccq00U2b1di6fX2b1p3btO7EgBjhMFZX/ywf/iJdNqtqrTMwrRIeHv7580fyffi3O3Zu2rp13eFD55keIdOdBGj8uBmVK1Vnxs+O2X72TuYth7gxIAAQWxkEBaeDMYckTxTI7N23IyDgx9lzpygpa9CgGQNALMBlNwDKbnVO+yFtp449AgK+nzp1ZPWaJS4uro0btWzbpjP7a0aNGeituvwlLnXqNKL+OyZeMDpUUECtDIBCZ48mGNB/BNM2QwePjYyKjHcRP2xCE0fH1OfO3GZiAU8/FRRQK5AEadJoa+yS8YGnnwoKqBUACSJRXnnDgECAWhkAOgG0NSAI6BYJrhMUEFArA6CQM/U9mICQkcvk8mhkgkIBagUAMA6gVgAA4wBqZQCkUiaFG2IMSM0kZub4poQC1MoAyGRMhjGHxoAsWh4dhW9KKECtAADGAdQKAGAcQK0MgKUVZ2YBN8QIsLDkLK3xTQkFjFE0AGZWLPRHJAOCJyJcZpsaaiUUoFYGIHcxu++fU/AULGAQAvzDZFGsetuMDAgDqJUBKFXL2caG2zXvOQMC5vCKd9kK2TAgGHDvUINxaOXbD6/C3XLbZsiSytwyBT8bHPt5wxn66mI8jEK9IPHVld95PNmNIuHnJVB5LqEbciWw0YTaktBW4i8fcy7/TqG8ei/+j5DAhn5Oxt1EfI2RhQRHvX4S+vVNRLVWaXMWtWdAMECtDMl/W9+9fBQeHamQRTH9odDHY1xiK6n2CqtW0OFHMLdg5taS0rVT5yuVmgEhAbUC2uHt27d9+vQ5ePAgA0A3YAQD0A7R0dFmZjicgA7B4QW0A9QK6BocXkA7QK2ArsHhBbRDVFSUubk5A0BnQK2AdkBsBXQNDi+gHaBWQNfg8ALaAWoFdA0OL6Ad4FsBXQO1AtoBsRXQNTi8gHaAWgFdg8MLaAeoFdA1OLyAdoBaAV2DwwtoB7jsQNdArYB2QGwFdA0OL6AdoFZA1+DwAtoBagV0DQ4voB2gVkDX4PAC2gEuO9A1eOYN0A6IrYCuweEFtAPUCugaHF5AO0CtgK7B4QW0A3wroGugVkA7ILYCugaHF9AOjo6ONjZ4DjvQIVAroB0CAgJCQkIYADoDagW0A6WBlAwyAHQG1ApoB6gV0DVQK6AdoFZA10CtgHaAWgFdA7UC2gFqBXQNrhME2sHc3DwqKooBoDOgVkA7ILYCugaZINAOUCuga6BWQDtArYCugVoB7QC1AroGagW0A9QK6BqoFdAOUCuga6BWQDtArYCugVoB7QC1AroGagW0A9QK6BqoFdAOUCugaziFQsEA+FPq1q374cMHjotxINH0vXv3GABaBVfegL+iZ8+eVlZWpFaSX9DMIkWKMAC0DdQK/BUNGjRwd3fXnGNnZ9emTRsGgLaBWoG/pWPHjtbW1uq3mTNnrl69OgNA20CtwN9Ss2bNnDlz8tOWlpZNmzZlAOgAqBXQAurwKmPGjI0aNWIA6ACMYDAML7yDFXIu1kxOwRS/5tG/ipgT8Rb7PZM64hiXyFrKmapCqrXjrK8qz8Wo8GcNCtVvmiK+Reppt9QepQs29PPzq12+7vP7IbGqSmpTMWuO+fFifZC4jYmnEuqSVO6JBHYCv/lfZeLdCo9cJjO3lrjnsWVAGGAEg77ZNNUv6IdMwjFZMgYn0ZdDJWOrlYRTyJP5rcVzGv5UtRTAxa8PCWtS4pvgEpcbXlOFgcRM2dZ07mZN+rozYGigVnpl1WhfByez8i1c7RysGTAGXj7xv7rfP20Wi8a9MjNgUKBW+mPVKN8s+VKVaZCeAWNj14LnllZcu5HZGDAccNn1xKnNHyRSCaTKSGkxKHvgV/m3z2EMGA6olZ545xfm6Io+DSPG3IrdOPaNAcOB80dPyCKZpbUFA0aLVGoWFsiAAYFa6YmoSBYdLWfAaImOVMiiYPIaEqgVAMlEwVI28gNoGagVAMmCUw4Fg1wZEqiV3lBIcKgbM5wk7kBdoFegVnqDk+NQN2YULKkLioCOgVrpCamUSZFHGDMKOZPjB8egQK30hEzGZLhswJih3xoOybxBgVrpC06BkbjGjYLhMjXDArXSFwoOo62MGuWtbIBBgVoBkCwoDZQiEzQoUCs9IZEwqQS5oBGjIOdRhvDKkECt9IRczmRy5IIA/Dn4tTcy3r59Xbmqx63b15k2ePHCl2q7f18nTyrlK3/wwJOJAk7COCkyQUOC2EpvKHDdhlGjkFMyiEzQkECt9AZu02rkcAoJXHaDArUSLoFBgStXLjp2/KCDg6NH8VLdu/VzdU2nXjpv/rQjR/enSeNcoXyV/v2G8zP9/b8tWz7f28crPDy8RIl/OrTrlilTluTUxrNp85pt29cvmL8qb578CbVq774dVGbQwFETJg5v1KhFvz5DE9moJidOHj50eK+fn2/WrDmqVK7RtElrCjbXrP13/4GdB/adMTc354vt2Llp7bplB/eflcvlu/dsuXnr2suXz9M4OZcpU7FL5/9ZWVlRmUZNqnXu1Csg4MfGTausra1LePzTt89Q2hVMOQpXtnvPVppP0/nyFuzUsWfBgsrH3EdHR1O1129c/vz5Y4ECRRo3bFG6dDmWIhQcxrIbFvhWeoL6A1P0w0xn18hR/b9++zJ/3op+fYd9/vJp5Oj+NJNfun7DikKFitGiFs3b7T+w6+y5U0x1og4a0tPT686ggaPXrdmZ2tGpd5+O796/TbI2ntNnTlC148ZMT0SqCAsLi9DQkEOH9owaOZnO+UQ2GqvyWbMn5cqZZ9uWQ9269tmzd9vSZfNofuVKNUJDQ2/evKoueenyuX9Kl7exsdm3n2RxQ8sW7adPW9iz54DzF/7jNYggadu5c5NEIjmw/8zG9XsfeHtu2LiSX7Rq9ZKDB3dPnjR37OhpLi6uI0b1e/36Jc1fvGQ2bbRxo5bbth6uWKHqhEnDL1w8w1ICJ8VYdgOD2EpPUH9gin6YKQp49Mh74/o9mTO701uKVnbt3kJRDL+0aBGP6tVq8xN0Vj94cI+iFfKz6cycN3d5saIlaNH/eg28cvXC3r3bKPJKvDbC0/POrNkTe/boX7ZsxcQbRgERxVCtWnXkt0IrJrRRzbWOHTtQqFDRgQNG0nTq1E6dO/aaPXdyuzZdsmfPmSGDGykUv91v374+fPhgwviZNE1CTLKSJUtWvgZvb6+bt65SC/m3GTNmate2i3LK1o5iq6dPH9FkQGAAfS7aSgmP0vS2VKmyJKzf/L+6uqY/eepIm9adGtRXPke6Tu2GVNumzaupfpZsFDKmQGxlUBBbCZTnz59RfMGLC0FRydjRU9OmdeXfFixQRF3Swd4xIiKCJijEoKCDVw2mkpUihYt73b+bZG2v37wcO35w1Sq1WrXswJJHntw/469ENqqGcjrKE0lT1HOKFi1BM+8/UPZFkuxeunyWYjSavnjpLGV25cpWYqoA6tbta//r3aF6zdLUt0gy9P27v7qGXLnyqqft7OxDQoJp4qXfc2XbfsWGZmZmkyfNIUEnLYuMjNRsADWSuiyDg4MZMB4QW+mLFHq0dPpZWloltFRqFs8XFxwcFBUVRSe25kxHx9RJ1rZo8SzKCp2c0rBkQ/lgkhtVQ0pBZcg2oj/N+bz6VKtae+Om1Xfv3aKA6PLlc+XLVzFTfTrK6SgioxyQVIYsNnK4yHRTrxtvBys1hl6t4nxSfn6/AV1jzQ8I/GFrm9xHMVMmKMEIBoMCtdITnIJLUR5hY5MqLCyUAhBJskfAk81Mgcm0qQs0Z0ol0iRrq1mjHsUjZNt7eJRWR0l/v1E1ZI1TZFejet0KMTOvDOnd6NXNLTPlg1eunKdwifyvmTMWM+XTnhWHj+xt1rRNvbqN+cK84iROqlRK6aHsL3YjnV3odcjgMZQ/xpjv5MySDWWCcoxgMChQK72hYCm5C0Oe3PnIHnry9BHveZM3NH/h9H59hllaWia0SvbsucLCwtKmTZcxgxs/5/2Hd44OqROpjY9QSEfIVLp169q06WPXrd3lYO/Akk0iG41VLCg4iJIy/i2FWh8+vFOnouS1HzmyL0uWbPb2DrxcUgGq1tk5LV+AorOr1y4m2ZgcOXJTXEZ5aN68BZhK8kaNGVi5YnWK1/j9pm4AhXW0lO9hTCbKa6cQWxkU+FZ6QqGMrlJw5Q2FORQIrFq1mBzoW7evL1w088vnT2rLOV6KFytZsmSZuXOnfPr0kXr3Dxzc3et/7U+cOJTM2oYPm0Cn+sxZE1hKSGSjmnTv2peiJ0rlKL6j3oDJU0YNHtqLNIhfWqlS9Y+fPtBalSvXkEqVcRllmuSyHT9xiLoXqVqy5MmqCwoKDAkJSaQxlNZVr1aH+gRpxXuet5csnXPnzg1SLorsOnXsSbY6bZo2Sr2BQ4f3pp3AUoLy2inEVgYFaiVQSDjmzl4mV8jHTxg2fERfK2vrGdMXmZklEQvPmLawYsVqk6eOatSkGvUVVqtWu0mTVsmsLVWqVBPGzbxx48q+/TtZSkhoo5oULFhk1Yqt9+/fa9y0OikF+WhTp8xXx4kUl7xEzKgAABAASURBVOXOlffps8dVK9dUrzJuzHRyoDp1btauQyPSxG7d+tLbxk2rffj4PpHGDOg/okgRD8pqBw/ppZTFiXP4vgXqQBg2dPy2HRvqN6xEPh0loUOGjGXAqMAAaz2xYsSLdNlsqrZKx4BxsmOWn6OLefNBbgwYCPhWekI1OhQ/DEYM/axjvJVhgVrpCbI8jCWM3bZ9w/btG+JdlMU929LF6xgAhgBqpTeM5gld9es3Jbc73kVmUtM9YDhlgIw+QUMCtdIbRvP0UztbO/pjICYKhid0GRiold7A00+NG+UTuhBaGRSolZ6QMIUUT/o1ZpQuO35vDArUSk/IGSdjONiNGWVshW/QkECt9AQd6IisjBoJx+Fe1YYFaqU3OIZM0Jghix0PLTIsUCs9oRwdKkEeYcRQXIVv0LBArfSEnFwr5ILGDFnscjm+QUMCtdITypHsyCMA+AugVvpCabMjjwDgz4Fa6QlzC4WZOe7PY8RIzeUSc/zeGBKolZ4wt5SEB0cxYLQo5JytozkDhgO/9nrCLZfV908RDBgt4aHyKs1T8KANoHWgVnqiasv0HMf9t/UNA0bIzrm+LpmkFtYWDBgO3DtUr6yf5CeRyovVcHbPnYInNQAD8uDylweXA7IXsq3WGvd9NTBQK32zffbLH1+iFXImS2pAA8eSvrBQ+f0lejkIfb2JLVckOsBe8WfD71O4WgLFk/PxEy+c/JnxtoG6cDkpk5qxLPmsa3fMyIChgVoZhoDvkZFhiRXgVP8n8uX8POsUHIt3YATH/RyN+qsSb2/vXTt3TZ4ymWmesXFW5zQ2GvfEVs9RDsfQWFGivGz7V5mYi2jy56jYmNtSb4iL+TET2oRGAYni99YYx28hTmFOtSTWDvzZkDh1SiTsyJFjW7ds+ffffx1T/3q8mEzm4CpVP+cVGByolamwc+fOli1bMpAw0dHRoaGh9vb2HTp0aNKkSaNGjRgQEnDZRc7379+nTJlCE5CqJDEzMyOpoonx48d/+PCBJl69enXz5k0GhAFiK5FDYcLcuXPTpk3LQMr58ePHqFGjcuXKNWjQoJCQkFSpUjFgOKBWouXixYsVKlRg4K8hzXJ0dNy6devVq1fHjRuXLh06Bw0DMkFx0q5dOwcHDJLQDiRV9Nq2bdv27dt//PiRpnft2vXixQsG9AtiK7Hx9etXSljoXMqfPz8DuuHUqVOrV69es2YN7WqJCgZ0D9RKVCxbtqyECgZ0D/UhyuXysmXLdu7cuXfv3gzoGPwmiAdfX19LS0tIld6gPkQLC4tbt27xYSxNbNmyJSICV4PqCsRWYsDLy8vW1tbV1ZVeGTAQoaGhK1eutLKy+t///vf8+fPs2bMzoFUQWxk9jx8/XrRoEZ0bkCrDYmNjM2jQIJIqmvb09Kxevfrr168Z0B6IrYyeBw8eFCxYkAGB4e/vT9GWm5vb+PHjy5QpU6tWLQb+DsRWxgr1/VWuXJkmIFXCxMnJiaSKJpo1a3bp0iWZTBYQEECBMAN/CmIrY4V60Fu2bMlfKQKMgpCQkB49epAlP3r0aOpMxLiHlAK1Mj6WLl3at29fBoyTt2/fUsx16NAh6kPs06cPRsYnH6i7kTF48OBixYoxYLTw6WGDBg3++ecf6syl6bNnz1Jez0BSILYyGujILly48Pfv31Orb8AERMHJkyfnz5+/Zs2aTJkyMZAwiK2Mg7lz5/r6+tIEpEp81KxZkwSL/2Yp5lqxYgUD8QG1EjqRkZH0mjNnzqZNmzIgXvjhclu3buVl6+XLlwcPHmRAA2SCgubChQufPn1q0aIFAyZGWFjYnDlzwsPDp0+fTq6Ws7MzM3mgVsLlx48fkydPJkeDAdPm6NGjGzduJNnKkSMHM2GgVkJEJpM9evTI3d0dF9MAnufPn1O0VaBAgZUrV9Jr2bJlmekB30pwUEhFfdtZsmSBVAE12bNnJ5GiCQ8Pj507d5I/QHEGvTJTArGVsKDfzydPnhQpUoQBkDAUfXMcV69evdKlS48fP56ZBiatVlFRUXJ5Us8g1SOLFy/u2bOnpaVlitaysLDguD95SCkQAfwovBs3blCHTKdOncT9uBCTVqvv37/TbxQTBqGhofzd3VgKQW8RoB/d3bt3U2BOgvXgwYN8+fJJpVImOuBbGR7qpaZXa2trPBYY/BkSiaRly5YkVTT98eNH8j1FebMHqJWBod9DPr5DNge0QvXq1W/evMk/p6d///4bNmxgYgFqZTB4y4yyPzxTE2gd/tYOo0ePDgoKioyMpNeLFy8yIwe+lWF8q4iICDqG7Ozs2F8D3wokCR1sI0aMoJN94cKFxvvQacRWf4Kfn1+tWrW8vb3ZnxIdHa0VqQIgOZAlumDBgilTptD07du3u3Xr9vTpU2ZsQK30CmV/1PdHE3/w43bo0KG5c+cyAP4U/geyYsWKffr0ef/+PU0fPnz44cOHzEiAWukVyj2trKzYH/Hs2TMGgDYoWrRopUqVaMLV1XXGjBlPnjxhv/qmhYwZA784cODAzp07+/XrN3Xq1Pr16//vf/+jfG3jxo3Uw/L58+f8+fM3aNCgZMmScVekX6etW7fSV+7g4FCqVKl27drZ2NisX7+eoqFdu3aZm5sz1UhUqp9qozlkH+zdu/fOnTuvXr1ycnIqXbp0hw4deBWbNm0adQ5WqVJl3rx51F2YJ08eCtrpddiwYQ8ePKACp0+fXrp0qYlf3Qq0BR3Pmzdv5nWqZcuWRYoUmTRpEhMqiK1+Q7k9CcTRo0dJGkiYmOpB7fv376dpUpny5cuTil26dCnWWu/evaOeF/q+yRcYP348WVq0OskcxdtUG3kETBVSSSSSq1evkpaRkB08eJA0q2nTpnRkdO3alTprSOz42qiL8NGjR2fOnFm8eDGpm6WlJZ/9zZkzhzSrWrVqJ06cgFQB7cL/UtJhSQctTdCP6Jo1awIDA5nAgFr9hoIaEp3mzZtXrlw5Y8aM1G1HgUyLFi3q1q1rb29fs2ZNCp63bdsWa61z586RxJBOZcqUKUuWLAMHDnz+/DkJU7Zs2dKnT3/lyhXeUA8ICCAZ4o+GJk2akA5WqFChcOHCZcuWpZm8qPGQxg0aNIjWpWppi2/fvuWtLgB0DQX19EoHP6UC1HvIVMrFBAPUKja5cuXiJ8gnon7f4sWLqxcVKlSIQqdYvzmUBubOnZtyQP4tGQEkNHx3IWkNqRWJIOnO5cuX6ResTJkyNJ9yQ0oD+/fvX69ePepbpKzwx48f6gpJ9Sj+4qf52zAEBwczAPQFHa5kg/AXS5Na0W8nEwbwrWKjvvwlJCSEXocMGRKrAKV1mm9JSqgzONaTePky5cqV2759u6enJ0keRVv0lo4Dmr9u3TpK6MiQovlp06Ylh+vUqVPqdfGYOSAcKAO4d+8eEwZQqwRJkyYNvQ4YMCBDhgya811cXDTvK0Q2ORnwZJNrluEfSuru7p41a9Zr167lzJnz/v37/GgXstjJGmvcuHHt2rX5wrwsAiBM6BRgwgBqlSAkUvzNW8hd4udQxERao07TeEiPyBQvWLCgOiai4Jkyf5qQSqXkSR0/fjxz5sykX/xdq8gRIHdMPQCdks3r168zAITKhg0b+OulDQ6SjgQhVWrXrh311pEJRZpCvYHU9/fvv//GKkaWuVwuX7FiBWkQOeJr167t1avXy5cvmUqYqBOQAjFK9Cii5m/iQZkmOVM05/3792S9U08ihWZBQUFJWumkno8fP6a8MlYqCoBOWbp0KRMGUKvEoP5Bshh37drVrFkz6sUj+zxuVEz9fSRV5KD369ePrCjK+KhbkB9kIJPJKIaiNNDX15cfjMczcuRIitp69OjRpUsXCrg6d+5Mb1u2bPnx48dEGlOnTh0y7EkxyelnAOgLgQRWDFc16/SqZqqcwi5+dKjuwFXNwERAbKVDKPXTtVQBoGuEc4csqJUOId8qLCyMAWDMwLcyCSgNJMFiABgz8K0EAXwrAIwIxFY6BL4VEAHC8a1MOraKjIzU6fMEP3786OvrW65cOaZL/viGWQAkBw8PD82r7g2ISY9l1/UTsT58+HDgwIFq1aoxAIwW+FYmwdevXym2Kl26NAMA/DXwrXQI+d+QKmDsYLyVSfDmzZt169YxAIwZjLcyCb5//x73zsgAGBfwrUyCHz9+eHt767pPEAATAbGVDnF0dIRUAWMHvpVJ8PHjx+XLlzMAjBn4ViZBSEjIuXPnGADGDHwrkyA4OPjWrVuVK1dmAIC/BrGVDrG1tYVUAWMHvpVJQH2CCxYsYAAYM/CtTILw8PDTp08zAIwZ+FYmAanV5cuXcVUzAFoBsZUOsbKyglQBYwe+lUkQFhY2e/ZsBoAxA9/KJJDJZEePHmUAGDPwrcRM586dvby8+GmO+7mH6fXevXsMAPCnILbSPr1793ZxcZGoILXiJ9zc3BgARgh8KzFTokSJggULagatcrm8UKFCDAAjBL6VyGnXrl369OnVb2m6ffv2DAAjRDi+FdRKJxQpUoSCKbVjRdN58uRhABghffv2ZcIAaqUr2rZty4dX5GG1bt2aAWCcwLcSP/nz56eQSiaT8RMMAONEOL6VQEcwHFjx9qNfuFzOZNEJluEoyUpgEX0mjvuTFZULOD0t4hRMwSWjSSzxMvFvQLPyn+Xi2yex6lQeDTELSaVMImXObhbN+mVmwCQhtRJIMihEtdo2+1V4aHTOIvZueRy4hII/1Vml4H43Xn3i8fMU8WkEp/j9X5xFqlXinPs/Cyvnx5YLjXpiLOJUlfx8H6tCjbea63CM30Z8S35NazZbPR1/0Zh7g98VnJxTSOJ8as1VFMpWxCohV7APvgFPbweSjHWZmI0BYDgEp1Zrxz+3SMU16oUTQ1ic3Pzy+/vo7tNzMGBikG8lkG5BYflWF/Z/kkUpIFUCpGZ7d4kZd2T1GwZMDIy3ip9XPqGOrhYMCJJ0Waw/vY5kwMTAeKv4iQyX2ziYMyBInNJZRUfhqlKTA+Ot4icqgsmjOAYESVS08gsCpgbGWwHjg8PviEkiHN/KjAGQbCBYJohwfCuoFUgBcK1MEPhWwAhRILIyReBbxQ8SDSHDSSBXpgh8q/hBoiFkFAp8QaYIfKsEwNkgYLiEr90GIga+VfwoM0EOiiVQ5AqGR46YIPCt4kd5MsAbESr0WwJj0QSBbwWMD071wDEGTAz4VvEjkSj/gDBR4OmTJgl8q/iRy5V/QJgoFBArUwS+lW55+/Z15aoet25fZ9pg774dVauXZCYPJ0EiaIrAtwLGh0KO2MoUgW8FjA8Jx6RmsBVNDvhW8fMHiUZgUOCcuVMo72vUpNrUaWM+ffqouXTe/Gm0qFmLWouXzFbP9Pf/RiVbtalHq0ybMe7Nm1fqRa9fvxwwqDut0rZdwxUrF0VGxr5VpkwmGzqsd7sOjQMCAxJp1f4Du5o0q+Hr+7Rl67rVapTq2r3Vw4cPrl69WL9Bpdp1y42fMOwi4ZgtAAAQAElEQVTHj++JN8bP7zk1w8fnPt+e1m3qHzy0h5rXsXMzSkv79Ov8+MlD9eY2bV7Ttn2jmrXLtO/YhD6y/Jf517Bx1b17t/M10MepU698dPTvhwjRop692rFkI1cwWTRsRZMDvlUCcCkbLU3n3shR/b9++zJ/3op+fYd9/vJp5Oj+6hNy/YYVhQoVo0Utmrcj+Th77hRTyc2gIT09ve4MGjh63ZqdqR2devfp+O79W1r08eOHvv06FyxQZN7c5S1bdjhz9oSmxvHMnjv56dNHs2ctdbB3SKRh5ubmwcFBGzatnDt72eGD56OioqbPHH/8xKE1q3ds3Xzwgbfnzl2bE28M1UCvS/+d27FDj7Onb+UvUHj1miULF80cMXziyeNXLS0s1W2jj3ng4K7/9Ry4Z/fJrl16n7/w3+49W9XNOHJsf44cuefM/rdRoxZhYWGXLp9TN/LCpTNFi5ZgACQK7ssePwoZS9Fv9/Ublx898u7zv8FFi3hUrVKzb5+h2bPnomiFX0ozq1erTa+kVq6u6R48uEczHzzwpAhl9KgppUqWcXJK879eA+0dHPfu3UaL9uzdZmll1blTr2JFSzSo35TOfF4y1FAIc+7cqenTFmZInzHJtpFCkdBkypTF2tq6VMmyHz68GzRwFDWDNlqkcPHnz58m3hieqlVrUWPI3K5UoVpISEiDBs3y5S1gZmZWoUJVX98nZCMFBQdt37Gxfbtu5cpVsrO1q1SxWuNGLbdsXUtbZ6rhUfb2Dv36DPUoXiqda/oSHqXPnj3J1/zt21fa+j+ly7Nkw+Gyc5ME92VPgBTGVs+fP7Oxscmc2Z1/mytnnrGjp6ZN68q/pShJXdLB3jEiQnmbXoprSIOK/Yop6Hwm7fC6f5emX7x4ljNnHqlUyi+qVbP+gP4j+DLE6TMnKIohZSlQoDBLHu5Zfj68hxqZOrUT6RH/1traJjgkOPHG8GTK5M5PpLK1pddsWX8+IMvaypr0iBJVyhxpIm/eAupVcuXKGxwc/O7dz4fT5M6VT72oTp1GpO98Dnv+wmkHB8eCBYuwZKNguPLGFBGOb2XcLntISLClpVVCS6Vm8Xw6StDo9CYfR3Omo2NqvjZ+IhYUwlDKNnPWBJq2SnhzcdHs8I+38z+RxvBIYg6WlcQZO+vv/zVWq0gK6TUsLJR/a2Hx+xlC5cpWSpXK9sKF0xQ5Xrx0pkb1upKUDMblcF2zSSKc5wkKS604ScpyDRubVHRakqmc/LMuTRpnSs2mTV2gOVMqUcZTdCaHhIYktOKQwWMo6pk5e+L6tbsoUGLaIJHGJBNqM72GhYep54SqPoKTk3PcwpRC1q7V4L/TxypWqHr//r0B/UawlKC6YQyCK5ODfCs8/TQ+UniVf57c+cLDw588fcS/JQ9o4OAelB4msgoZW2Q2p02bjvws/s/VNT350LQod+58Pj5eapP+zNmT1P1HURVTBTV0ntPpbWNtM236WKYlEmlM8mug1JWarZ5DRh4ZWC4uaeMtX7duY29vr127t1DWnC0bHrwMkga+Vfyk1Bbx8CidMWOmVasWU1fXrdvXqcvsy+dPWbJkTWSV4sVKlixZZu7cKZ8+fQwI+HHg4O5e/2t/4sQhWlS3TiNyguYvmH77zg2qkPrg0ji7qG0spkyyrCdOnE1deHS2M22QSGOSib2dffVqdbZsXXf16sXAoMBTp47uP7CzWbO2CQWbbhkzkTW2d9/2mjXqsZQCj90kgW+lHSi1mTt72YxZ48dPGEZv//mn/Izpi8zMkvhQM6YtPHR47+Spox4+fEB9dtWq1W7SpBXNd3PLPHPGYtKO4ycOWVpa0vncrVvs74lCkg7tu69es9SjeGmtxCYJNSb59Ok9hLRpyrTRFBVmyODWpnXn1q06JlK+TJkK3j5e1NvIUgo8dpNEOL6VsK6qXz7secacqSq3TMeAzhg1ZqCdnf3okZNZCrl/wd/zwvc+87IzYEp4eHjcvn2bCQBhxVZSM47DpR26ITg4+Jnv43v3bvl4e61bu4ulHJlCeakgAyYGrhOMH1m0QmEkl3ZQhOL9wDPeRXXqNPpfr4FMYLx69WLwkF7kvk+aNMfZ2YWlHA4DGEwS+Fbxo7yXrpH0kY8bM10ml8W7yNzMnAmP/PkLnTvzV/G8AgMYTBKMt4of1TOgjOPn28bGhgFgAghnvJXgfKuUDI0EekUiUd6QjwETA75V/JBvlUB2BQwPMkHTBPe3AsaHMk/HkCvTA/e3AgAYB7gve/xIpHhOgXBR2lb4dTM94FvFj1yGVEO4yJkCz08zQeBbAQCMA/hWAADjAL5V/EjNGB4BJVikUk6K0XCmB3yr+DGzYJGRUQwIkuCAcAmeP2l6wLeKH5eMlv6fohkQJJ9eRTq6WDBgYsC3ip/6PdwiwmQvHvkzIDAiIyOD/aNaDsnMgImB5wkmSI8ZWS/v9b+4/x0DguHG8U/bZ75uOwJSZYoIx7cS1r1DeWQy2fqJfpFhyouco+O4WBz3+4673K8L1zRnqpFwLO7N4/hVVMU5zRV/T8S8GC7emmPP11gnZvNoI1ys+lUoNO8U9ftTxLdpLr6L8+I2W1WrIu6t05VfMMcl0QAuwZsYm5sroqKZhSXXpF+GNOmsGQCGQ4hqxfPhdaifZ2h01J83T6584lfs1X+dpkoRIFn877/T1atXk0qlqhNdwWKdx79Kxl479vz4iVmVpqTFv6q6DUmi1qXDR47WrFHDwsKcxdPyGI2IWXmMFvxaFE8F9IPhltssSx5HBkwV3JddEKxdu7Z8+fK5cuViRsvHjx93797dr18/BoBuEM592U10dBPfzdG1a1ejlioiXbp0vFRt3bqVAaAD8DxBQ0J9HFZWKXhAvFFgb28/Z84cBoC2Ec54K9PKBJ8/f549e/aXL1+6u7sz0eHr65sjR463b9+6ubkxALSEcHwrE4qt9uzZc/jwYZoQpVQRJFX0un///oMHDzIAtATGWxmA0NDQgQMF9+AsrUM21rt3GK0GtAbGW+mPp0+fnj59unfv3szEIN+9Vq1aadKkYQCIApHHVtHR0RMmTOjWrRszPerVq9e6dWvaAwyAv0A41wmKObby9PTMnz+/ubkQn0WqN8LDw1+9epU7d24GwB+B8Va6JSIigpIgV1dXE5cqwsrKinZCz549GQB/BHwrHRIUFES9+M7Ozi4uLgyouHPnjqWlJXUaim+gGTAdxBZbTZ48OSwsLG/evJAqTYoXL05J8YcPH3bt2sUASAm4v5VOOHnyZOHChdOmTctAHDiOy5o1q5+fH9l5DIBkI5zxViLJBM+ePVulSpXg4GBbW1sGEoVPk8l9d3TEnRVA0pBaCeTiGzHEVmfOnDl+/DhNQKqSg5ubG3lYTZs2pTiLAZAUuC+7dqC+P3q1s7PDBb0pgrJCkviHDx8yAJICvpUWoJON75gvWbIkAymnbt269Dpq1CgGQMLgOkEtQNmfcFTfeGnVqhUECyQCxlv9FcK5hYU4iIqKMjc3v3jxYoUKFRgAQsX4YqtKlSrhpNIu/Ij/9+/fL1myhAEQE1wn+Cf4+Pjkz59fJpNJ8YBz3XD+/Hn6MQgPD8eQd6AG1wmmmCFDhvA9gJAq3UFSRa8rV668cuUKA0AFfKsUEBYWFhAQ8PjxY/5cAnqgf//+ixcvZgAICaGr1d69e7Nnz16oUCGJxEQfz5Mkcrmc6YarV6+WKVOGGSE4WrQInieYLCie2rdv3+jRoxlImG/fvunoSyQd9Pf3T5MmDcdxzKgwxjYLFuH4VmZMkHz48IGM3tSpU0OqDAhFKHTak2bRmY9oxWSBb5UYvr6+AwcOPHToEM6Q5KC72EoN9cOGhoba2dkxIwGxlSgRohy8fv36yJEjkCrhQP2w5ubmUVFRDJgeuE4wHqjvr3v37jRRpUoVBgQGJeZmZmaUFUZGRjJgSuA6wXiYNWsWXCohw7tX9KOilSDr+PHjtWrV+stH8ly8eJEq+fHjBwM6Qzi+lSDUav/+/fQ6ceLErFmzMmAIXr582aFDh+SUdHBwYMCUwP2tfjNixAgjsm/FytOnT5NfmL+ukNx93Q31AsJBOL6VIUcwvH371s3NrUuXLnjanRahvtTt27fPnj176tSpr169onC1cePGNWrU4Je+efOGbIhnz56RCZU5c+b27dsXLlx406ZN27Zto6WUVfXo0aNJkyaJ1B8UFLRmzZqTJ09SkFWwYEEqz98I/8aNG+fPn/f29qYC9IW2adOGalZvdNGiRbQoffr0ZcuWpSDOwsKCX+Tv7z9z5syHDx9mzJixefPm1AB+Ps3ZunXrkydPaCulSpVq166djY0Nv4i2fubMGWtr60qVKtHxw4COoQNGIMmglPIvZgjWrl376dOnAgUKODs7M/AXkJGk+fbFixdXrlwhnerZs+fAgQMDAwNXrlxJapUqVarv37/36dMnT548I0eOrFmzJmnBvn376tSp4+HhERER8fXr17179+bNmzeRbZHNNGrUKJlMNmDAAPruvLy8SLYqVqyoUCgGDx5MstW5c+fKlSuTkbRu3TraKGkKfcv9+/cnkSJlzJQp0+HDh9+/f1+6dGlfX987d+68e/eOxJH3nnbv3l2tWjVqJ80cMmSIvb09HZwVKlQ4ffo09RFTg8k1o4kdO3bQ1mlDtArpMoljs2bNYl2GTdKGEQzagvpVBHLDS8PEVnTQ0+nRtWtXBnQAueBt27bldYfOfwqdnj9/TlJC/iAFNXSqU2BFiwYNGkQREJ3/LVq0SGbNN2/efPz48erVq0l3mOoW7yRwpBekLMuXLyfJ4F0tiq2oWh8fn/Lly9NGLS0tKZ6SSqVFihShLJIiO742Ogzq1q1bokQJmnZxcTl79ixVTu08d+4ctXD8+PF8baS5HTt2vHr1KinXwYMHy6ug+aSGJLgkbQzoEuH4VvpWKzqyPT096Ze2d+/eDOgMdXLNP1kjODiYXv38/HLkyMFLFVMFIJR/qbUjOVANFC7xUkVQbWQ7MtXwUQrN1q9ff//+fUru+KUBAQHqjarvnFFDhbpCyiX5Cf4BPPxtNigNpPar7XxXV1dKISmRJJGiuExz9Zw5czKgY/bs2UPRKxMA+larR48ekUXC/zYC3RFvHkQ6kiFDBs05FA3FSiQTJyQkJN5bX5HjPnToUDKqKE+kTJO2Xq9ePfUqiXQjqqVTE9JWcv3VHhYPpbGhoaEkiySXmu1nQMeQsWiiapUuXbqqVasyYAgomOKDFzUkVRResWRDNdAq1BUY60qDixcvkrtB/hQfImkOgCIfilSGpQQnJ6f8+fPHGlFBySZtnWI0zY+QIqkFf4bpjreifiiB6LQJkitXLjJ61GM7KSun3jp3d/cU1RAeHq5OHmn1YcOGka9PVdmp4OdfvnxZcxXK7NSjQKnfkPfpE9kK9WN++fKFksTCvyARpPSTQjZytSg8V5ckH40BHWO6460+fvxIZioDhoC6kb56ywAAEABJREFU/ygvW7x48efPn6nTcM6cOeR/8wkXRViUJ5KT/fbt20RqKFasGOWS1J9L3Y7Uo0d922RX0S8Q6QutfuLECVKlW7dukTVJ2R8pDlONiiB9pI3evXuX1qK+wjRp0iR+A1jqJaTwbcWKFaSM1B7aXK9evV6+fEmLyGgnKaRQjqZ37dpFrjwDOsZ0rxN8/fo1dVQzYAhIkkaPHk22NyVZw4cPpzlz587lxzFRxxwlX5MnT6bYJ5EayGaaMWMGScmUKVPGjBlDthGtQjMrVarUvHnzrVu3kl114MAB6kKpUqXKzp07SaRoo1SY3Hfa9OzZs2lDJD2Jt5NiNJIqqrxfv37dunWjdalbkKx6WtS6dWuSP+p/pNcbN2706NGDZhrjc5uMCOFcJ6jvO8aQWlH0jmRQi+jhjjHJgaxxipg0LXADgjvGaBFSK4Ekg0b5PEGgiUDUinJAEgiBPOMDaiVK9N0nSL4Vea64J4xgofSN/KB4F2XJkmX+/PkJrRjvWAQgAkz3vuyUBq5fv558Bwa0hHZjq2AV8S4iPUrkMqmIiAgKZ9QXABoWxFZaxHTvy47xVgLHVgVLOfygBIGoFdAiuC870BrC8a2YYPJBxFaiBL6V0UPhjBDUClGVWIFvBd9KbFy6dCksLEzzkmMgDoTjW+l7dCh8K7Hy6tUrHx8fBkQHfCsgNl6+fEmxVeI38wPgb8B1gkA7uLu7Q6pECa4TBGKDrI1Dhw4xIDpM93mC8K3Eyps3b+7fv8+A6IBvBcTG27dvv3//rr5zMQBaB74V0A5ubm6QKlEC3wqIDS8vrz179jAgOuBbAbHx6dOnO3fuMCA64FsBsUE5/ocPH4oWLcoA0A3wrYB2oKgZUiVK4FsBsfHkyZMtW7YwIDrgWwGx8fXrVzwvS5TAtwJig9TKz8+vRIkSDADdAN8KaAdnZ2dIlSiBbwXExsuXL9euXcuA6BCOb4X7soO/olWrVoGBgRzHRUREBAcHHzhwgLyFsLCwM2fOMCAK4FsBkfDvv/9u3LhRLpdrzsycOfO+ffsYAFoFvhX4K9q2bevu7q45h37/KleuzIBYgG8FRIKjo2Pt2rU1H9GcIUOGpk2bMiAWMN4KiIcWLVpkypRJ/bZ8+fIkWAyIBfhWQFRs3ryZDKzo6OiMGTMuWrQoVm4IgFaAbwW0QMuWLd3c3JjqaU6QKpEhHN8KzxM0ADKZbPfCN0H+suhIhVwe45HCnOp/ze+EU75VKP/VmK+cpn8UyvKK38VUs/g6VG81Vvk9X/lGwa9CFXPqCtXzY7QnRmN+VhKnHuWEQoVEQu84jWpirBKjSVRKwcXayq+PE3utGDXwL/E0L0YB9Z5J6BMlVIBHIlVYWHLObhYNe2Zipo1wnieI8Vb6JtA/csv016mcJFny2pI5rYh1yihYIidaPPM1zutEzr6fp2/CK2vWoFIRLtZMVSWKBB7XrlEPL0BcPKsofmlsfFv/rbqJagin+iiazYunwK9isTYXp5gipq7GKiHhQkOiPr8KXTnqec8Z2ZkJA9/KRHl0K+Dczi9tRmfV7EQDQubyoXevvMN6zcrBgKGBb6VXLuz9Urx6akiVEVGuQcbUaS03z3jJTBWMtzJF7pz/SvlHvtJpGDAqStR2CvwWzUwVjLcyRb6+iTQz1/cOB3+PS8ZUZHF9fhvJTBLh+Fb6dtkzq2AmSXQ4i4qQM2CEyGVyRbSMmSR9+/ZlwgC+FQAgMeBbAQCMA9zfCgCjQjlqzEQ9R/hWABgVymGJJuo5wrcySSQcS3AQNhA2iYyfFzvwrUwSuSLRy0qAgOEUJvvVwbcCwKiAbyUA4FsBkAzgWwkA+FYAgMSAb2WKcBIugTuuAKGjuhGYiX538K1MEXjsxgvH3ybRJIFvZZLIFQx3EzNW4FsZHvhWpsuEicOHDP0fM2ZE8BGED3wrYHgqVKhavXodfnrS5JHHjh9kxoBmUzU/AtAR8K2A4alapaZ6+smThyVK/MOMAc2man4E3QPfysDgvuz64+jaD6+fhLYbk4JHElCmI5VKXV3T79i5adLE2RXKV/Hxub9x06rHj30cHFP/U7p8xw49UqVKdejw3n+XzTt6+KKZmfLnZ/6C6YeP7Fu3ZmfWrMpt0dLlKxYcPni+afOaHdp1u3j57P379w4eODtv3tTg4KB5c5dXrurBb87W1paK0cSJk4dpLT8/36xZc1SpXKNpk9ZJ9maGhoZOmzH27t2b0dHRfXoP+fr188VLZzdt2EuLatctR+1s1bIDX3L2nMnPnz9duWILTVPhteuWXb9x+fPnjwUKFGncsEXp0uX4YtdvXNm5c9PjJz5OTs4FChTu0a1fmjTOsZpK+4f/CHwD5i+c7ul5Oygo0D1Lttq1GzZq2Jzm+/k979Kt5bJ/N27btv7ylfMuLmkrV6rRo3u/FN1vesNE3xYDM7lmsWTAcMC30iMpd9nNzc1f+PnS37Qp8wsVLPr23Zuhw3uHR4QvXbJ+yqS5L148GzS4B53wxYuXioyMfPbsMb/WA29PV9d0Pg/v82+9fbw8ipcmIaPajhzbnyNH7jmz/7WxtlFv5cSxK/Q6bOg4XqpOnzkxa/akXDnzbNtyqFvXPnv2blu6bF6STSWlePH82cIFq3duP/r27evTZ47T5pJca/GS2VR/40Ytt209XLFC1QmThl+4eIbmP332eNToAUWLltiwbk//fsNJ3WbNnhi3qZqMHN3//fu3UybP27XjGGWIixbPevTYh9+H9Dpv/tSqVWudOnFtzKipu3ZvOXf+P5YSlI/PUZioyw7fCiQLimg+fnw/acLsMmUqODqmPn36uLmZOelU5szu7u7Zhg4Z98z3CcULGTO4qeXp+3f/V6/8alSve//BPb4S7weexYqV5Guzt3fo12eoR/FSfBQWL8eOHShUqOjAASNTp3YqVrRE5469DhzYRdUm0s7g4OALF063aNE+d668Tk5p+vQeTNqYZNgeERFx8tSRNq07Najf1MHeoU7thlWr1Nq0eTXfZisrq3Ztu9DnKlWyzLw5y1u37pRIVRSIPXjgOWzIuLx58js4OLZt07lgwSIUhKoLVKxQrVLFaqRchQsXy5A+49OnjxhIHiZ9X/Y6dUzUFuUk7A9Gh2bJnJXOW37ax8crj+ps5N+mS5c+QwY3XpWKFyvl7e1FE/Q2Z47cFJU89FGK15cvnz98fE/yxK+SO1e+xDcnl8spFivh8dvDoqpoplr74uX1az8K8aht/Fv6mHnzFkhSrUgyKCTU3FaRwsVfvPANCAwoULBIeHj4qDEDd+/ZShElfeSiRTwSqYqSVtpLfObLkytnXnK4fr/NlVc9bWtrR/kjA8mjX79+TBhgvJU++ROb1sLyt1dC59jjJw/V3g3Pd/9vTKUpS5bOoQkvrzsFCxbNl7fgx08fSKo8ve6kTeuaKVOWn7VZWCS+OZKPqKgo8pLoL8ZWEo2t/FVt0MwuNacTgpeMfgO6xppPn4jy0JkzFl+8eGbV6iXLli8oXqxkp449yb1KqKpv375aWVlrzrGxsQkLC1W/lUj+/ofZRF32jh07MmGgb7Ui3+rhw4dVqlRhpofqmefsb3BK40wJTudOvTRnOtgrQy3qJgsMDKAwioKgDu27W1pa5s6djwwsb2/PYkVLJn8TFKHQeU6JJFk/mvMzpHdLZC0+3IuIjFDPCQkNSaiwTP7zcQxpnF3odcjgMRkzxnh6e9q06eiVEkD6ow97586Nvfu2jx4zcN/eBM0m6moIDw/TnEMNcE7jwrSEQnnLGBNVK/KtBNItqG+14n0r01QryrL+8iZJ2bPlPPXf0cKFiqkjhZcvX7i5KWNV8n1yZM919cqF58+fUQGaU7BAkQcP7t25ezOWuiW9ley5goKD1JkXhVofPryjAC2RVdKly0Cv1FNJMRFTpZOUh1r+SmAtLCw1w5w3b17xE24ZM1uqIkf1tiiCo/yR5NLT8w5pH6mVs7NLzZr1qP6Bg3tQtOjinDbeBlCGS5kjuXiUBfNzHj3yds+qtSfCc8rb8Zmoy06+lUDUCs8TNCaaNWtLQkA9dHRm0jm/ctVi6punHkN+KSWD+/bvIPedj3QK5C9848aVd+/eqE2rhCDJoH7927ev3/O8TfZT9659r1w5f+z4QdoWWdeTp4waPLQXZYiJ1ECrU5q2Zu2/5DF9/fplwcIZQcGB6qX58hWknj5y4ml685a1X79+5ueTKlF+R7Y6bYXqpzLU47lw0Uym6secOGn44SP7fvz4/vCRN30ukq10ruljNVW9iZIly5CFN3/+NMqUKS2lNJbUqmXz9gz8NcIZb6VvtSLTqlmzZgz8EfZ29mvX7LS2su75v3YdOjUlT4r68vlwhqD+u/cf3hUqWJR/SzkjJYYUa6hd+URo26bL3Xu3xo0fEhYeRiuuWrH1/v17jZtWJ/kICQmeOmW+pWUSQ41GjZycJ3e+7j1aN29Zm1ahPjj1or59hjqlTlO/YaXqNUtHRIRTx596UauWHYYNHb9txwZaumjxLMo3hwwZS/NbNG9Xt07jpf/OpTYMGtzDxibVgvmr+H5Mzaaq66FFUyfPox7P3n06tmnXgCLKKZPn0gdh4K8RznWC+h4dasq+1dHV718/DW03NgczAShE8rp/d/3aXUwUbJz4rPkAN1d3a2Z6CMe3wngrAJJGOfSEM9E7HeM6QWB81G9QKaFFI0ZMLFe2EhMvyhTEVMey4/5WwPjYsH5PQovs7OxjzRk4YCQDokA4vhXGW+kPY7/TcZo0zgyYHvCtTBTc8MJIUchxX3bDA99Kfyjw9FOjhZOY7ncH3woA48J0n36K+7IDYFyY7lMkcH8rk4QzXe8DGC/wrUwSBXwr48V0f2ngWwFgXJjuLw18KwCAcQDfyiQxo90N38ooUTBOxkwU+FamiIUlJ7GAWhklUimzt2emCXwrUyRfSbtnd0MYMDa8r33lJMzWyRRvF8PgWzGTJGMOWxs76alNbxkwKh5dC3TLZcVMFfhWJkqnCVm/f4o4tv4FA0bC9lm+rlms6ndzY6YKfCvTpdvU7OvG+26d7mtpLVUoFDJZYk4Wp9FtLuGUD3tWTXBy1eXREgknlyfYrS6VcjJZgks5Lr7bxiqUm1RXq96Qmni2+KuJ/L9xq427Ci3nEt5KQh+KVlGXir/xCWxUvSKnfG5NvDXHU5u5hUQWJYsIkztnNK/bJQMzYYTjW+n7TseAx+e6/3Ov0LAguSzZl3NIJEyuKkweiiLmRLxIzThZtMaXq4gxvFHz5NcooxSSROqPO0etoXK57MePgDTOTkmuwrckoa0k9KHUG0qw8QlsVK34XAIjpuKtzdyCs7GXlq5rn8bVlgFhgPuyA+1AOf6AAQP279/PgLjA/a2A2IiKijI3N2dAdMC3AmIjOjqaf4IWEBkYbwXEBtRKrGC8FRAbyATFCsZbAbGB2EqswLcCYoPUCrGVKIFvBcQGYiuxAt8KiPSr67QAABAASURBVA2olViBbwXEBrnsUCtRAt8KiA3EVmIFvhUQGxjBIFbgWwGxgdhKrMC3AmIDsZVYgW8FxAZiK7EC3wqIDaiVWIFvBcQG1EqswLcCYgNqJVaE41vpW63gW4kVqJVYgW8FxAbUSqzAtwJiQyaTSaVSBkQHfCsgNhBbiRWMtwJiA2olVuBbARFiaWnJgOiAbwXEBsVWZF0xIDrgWwGxQWkgCRYDogO+FRAbUCuxAt8KiA2olViBbwXEBtRKrMC3AmIDaiVW4FsBsQG1EivwrYDYILUKCwtjQHTAtwJiA7GVWIFvBcSGubl5VFQUA6IDvhUQG4itxAp8KyA2oFZiBb4VEBtQK7EC3wqIDaiVWIFvBcQG1EqswLcCYgNqJVbgWwGxAbUSK8LxrTiFQsH0yM2bN9evX798+XIGxEKzZs3kcnlQUFBwcLCLi4tMJgsLC8Nvkmjw8PC4ffs2EwDwrcBfMXbsWD8/P47j+Lfv37+n1wwZMjAgFoTjW+k7tgIi49GjR0OGDPn8+bN6DsVZLVu2HDFiBANAq8C3An9F3rx5S5YsqfmbR4FVixYtGBALGG8FxANlCm5ubvw0yVaxYsWyZs3KgFgQzngrfasVfCvx4e7uXr58eUoAaTpt2rRt2rRhQETAtwKi4sOHD71793716lWlSpXmz5/PANAB+lYr8q0ePnxYpUoVBlRc2Pfp3bPQiAhOFhXji5BIlF9N3C+HkzCF/Ne0EnK1FRIJk8s1ynCUkSlroEWxVpdKONmvmdSNp14soXoU6mlOrtowX4/mhn617ffm1FsJUxJqb+/AP7GZVkjo0IqxrV+rS6ScXBajvHrrmvvkZ2FaptGe2LsogRU1P29CmFsyaxtJ/jJ2+Us7MaCCfCuBhFcYb2VIVo/xZQrOykFqJjWTRck1F5Eq0bkVj1rFVAFevDQljP06XTnSu9/ns0KlTr+VSHOmap3fp7K6tt/zONW0ej3NwhrSEKNtmtqgbA0Xq3m/tvWzkbE+guaiuCtyKgMjVnnNgrF06ede+jlX41PHQWrJRYXLQgOiHdOatxqShQGMt2KAsVWjfNO6W1RtheuQhMjOub67FrxuMQjfDnwrk2fDpBepHKW1OuHXW7jsnPs8Q1arOl0yMiAMMN7KAAQHhIUGySFVAid7Ybu3z/BcDIy3Mm28r4RIpAwInDwlHaNxo3nc34qZNtFR1APIgMCRSqUy3FQC97diAAAjAfe3AgAYB/CtAADGAXwrAAQPxzEA34oBIHwwFFEFfCuTRnnhCH63gZEA38qk4eQKiBUwFuBbmTRyFvt6XSBA8IvCA98KAKED24oHvhUAQodjCK6UwLcCQOgoGIIrJfCtTBrlTzaHMwEYB8LxrfQdW5Fp1axZM2bacBKFRJKyPT9x0oihw3oz7dG5a4uFi2YmXmbvvh1Vq5dkBuXFC98RI/tVr1l667b1mu1p1KTaps1rmE6Bza4CvpVJI5fHvge5MMmXt0D7dt2Ybpg0eeSx4weTLHbm7In7D+5NmjC7apVaOm1PPMBmVwHfChgBefMW6NSxB9MNT548TE6xkJDgdOkylClTIV269DptD0gI+FbgzwkNDZ2/cLqn5+2goED3LNlq127YqGFzftG1a5fOnjtJwUhgYEDePAXat+9WtIgHv+jlyxczZ0149dqvSBGPDsmLUCjzWrZ8/pn/bjJV5tW5U6+AgB8bN62ytrYu4fFP3z5D06RxpkX1GlRs07ozqc/FS2dTpUpVsGDR0aOm2NnaPXrs07tPx2X/bsybJz9fYbv2jcqUqdj7f4MqV1W2as7cKctXLDh88HxCDeg3oKu3txdNUPluXftYWVmr26OJj899atXjxz4Ojqn/KV2+Y4ce1AymehTr3n3bT5488ubtqyyZs3p4lO7S+X9SKW6EmDLgW5k0nPrljxg5uv/792+nTJ63a8exChWqLlo8i3SB5oeHh0+bMTYiImLkiEnTpy3MnNl9zNhB/v7faFFUVNSIUf1cXFw3rNvTs3v/HTs3ffv2NUUbNTc337lzE9ltB/af2bh+7wNvzw0bV/KLpFKz3Xu21qvX5OzpW7NnLn39+uWSpXMSr+3EsSv0OmzouESkiliyaG3DBs3c3bOdO3O7bZvO8ZZ5++7N0OG9wyPCly5ZP2XS3Bcvng0a3CM6WnkbvX37dmzZuq5Z0zY7th2pX7/p0WMH6IMzkELgW5k63J/2CV6/ceXBA89hQ8ZRwOLg4EjncMGCRSiyoEVWVlZrVu0YMngMxVP016vnwLCwMJIVWkRRz+fPn/r0HuLqmo5O/v79hgcHB7EUkjFjpnZtu1DQRCEVxVZPnz5SL8qRPVcJj9Icx+XLV5D05fz5/0gfmV44ffq4uZk56RSpM320oUPGPfN9cvnKeVrkdf9u7tz5atas5+iYul7dxv8u3VCqZNnk1wyTncd0fat3795du3aNmTrKB+yxP8LPz5dUKWvW7Oo5uXLmVXtAoaEhFNc0a1GLUqfadcvRnB8/vjPlbn9Da5H1wxcjuUmb1pWlkFy58qqn7ezsyVFSv82RI7d6OmOGTCRVFP0xveDj45VHJdz8W/qMGTK4US5M0wUKFL5z58bsOZNPnDwcEBiQMYNbjhy5UlC1AnKl5OrVq0wY6Nu3cnFxyZ07NzNtlFL1p/1NlMGRfaM5x8bGJiwslCY+ffo4YFC3YkVLjhsznWIcinSo458vQzaWtbWN5lqWllYshXAJBxuatVlZK5tHWsZJ9PFbSEHi4ycPeSNMzXdV/ks5oI1NqitXL8yaPcnMzKxSpeqUBTs7uzCQEgoVKsSEAa4TNDLIPw4Pj/HYqJDQEOc0yjPw/IX/IiMjybSyVukFH1Xx2Ns78IqmhqIwpj0046zwMGXzSFIjIiNiFYvWwVMZnNI4Uy5MPQCaMx3slaEWuWyUANIf9TDcvXtzw6ZV1M7pUxcks2aMZeeBb2XiKP7YZc+dKx+56WTNqOc8euTtrkoMKYCiBI2XKuLCxTPqMulc09NaL1748m99fZ9+/fqFaQ8vrzvqaWobBTJkcllaWNJbtUoGBwdrd6M82bPl/Pz5Y+FCxXi3jv5SOzqRh0WLqDfQz+85TZCf1aRJq6ZNWvtq7DeQTDDeyqShjOqPXfaSJcuQLzN//jRKf6i/b+26ZaRWLZu3p0XZsuWkPPHQ4b3UI3bj5lWKJsjNoTOZFpUpU9HCwmLu/KmkWSQZk6eOomiLaY8vXz9Tt6BMJqMOwSNH91WuXMPS0jJTpixkyR87flChUFCTZs6eQGLKl6elLi5pb9++fs/zNt9/98c0a9ZWLpcvXTaPPtqbN69WrlrcpVvLF35KXT5z9sT4icOuXr1IptX165cvXT5bIH9hBlKIcMZb6VutMN6KKT127o+HSVPYMnXyPNKa3n06tmnX4M7dm1Mmz6VUiBZVrVKzfbuumzavJrtq795t1PFXvVqdbds3zF8w3dbWdvq0hbLo6HoNKnbq0owMnSxZsjLtQdmWj8/9ajVKdezcLEvmrP36DmOqQQ/jxs14/NinSrUSrdvWr1Sxevr0GRW/PnnbNl3u3rs1bvyQsPC/eh6yvZ392jU7ra2se/6vXYdOTT297gwbOi5Xzjy0aMjgse5Zso0ZN7hR46pz5k0pW6bi4EFjGEghwhlvxSlweYHeuXzwm9eF7x0m5GCioGHjqpRkdWivx2ti9EJYsGznHL9+C0XyNYkA+FaGQJUKMgCMAeH4VvruE+R9qypVqjBThuJZYYS0o8YM9H7gGe+iOnUa/a/XQKZjHjzwHD0mwa1s2XxAPZAKGAryrQSSDOI6QUMgmNBq6OCxkVGR8S6yiTk+KxEO7j/D/hRy3Fat2pbQUsNKFcJfHtyX3bQRSmjF+MuSDUv6dBkYEDAYb2XScIzhlt/CB/1PPBhvZdLgLABGBO5vZdJwCK6A8QDfyqRRphhIMwQPntDFA98KAKGDq5p54FuZNlJOYobfbWAcwLcybWQKeTR+t4FxAN8KAGAcwLcCABgH8K1MGomZzMxM33sepBQZk3H4lnB/K2ba5PnHTiaXMyBsntwMNLdkAPe3MnXWTXjumM6yehs3BoTK7nnPnd0sG/TAdyQU4FsZhi6Tsn9+GX7h0BsGBMnu+c8tbaSQKiYk30rfsdXNmzfXr1+/fPlyBhhbOdpXKpWkcpBYWpnJo2P+cnC/ryck90QhjzERo6AZU8R/Z3OF8hof9dfLKZQPyKONqGtIaFpj0zGmYzUgbgv5OQlVq/E2ng8Sd10Wt5LYT99QfaQYc37XrNnyeJsR37YkForwkOjAr1H2aczbDM/CAGMeHh63b99mAgDjrQxJz+k5/tvy4b1faMgPeayHV3EajxxMXK2kUiaTxVt9jHObrzBGtZqilMATDmOKVYwGxF5drpDJ5FIzaYxNxKxW/TbuB4nbvPg2GlutuDiXiP/eRHw7UPNtvDvTwkpiac2KV3MoUR2PHfwJfCsgNt68edOvX78DBw4wAHQDfCugHaKjo83M9B2qAz2A8VZAbERFRZmbmzMgOnCdIBAbiK3ECq4TBGIDaiVWcJ0gEBtQK7EC3wqIDaiVWIFvBcQGXHaxAt8KiA3EVmIFvhUQG1ArsQLfCogNqJVYgW8FxAbUSqzAtwJiA2olVuBbAbEBtRIr8K2A2IBaiRX4VkBsQK3ECnwrIDYwOlSswLcCYgOxlViBbwXEBmIrsYLnCQKxgdhKrMC3AmIDsZVYgW8FxAZiK7EC3wqIDaiVWMF4KyA2oFZiBb4VEBuWlpYWFhYMiA74VkBsUGwVFhbGgOiAbwXEBqWBJFgMiA74VkBsQK3ECnwrIDagVmIFvhUQG1ArsQLfCogNc3PzqKgoBkQHrhMEYgOxlViBbwXEBtRKrMC3AmIDaiVW4FsBsQG1EisYbwXEBtRKrMC3AmIDaiVW4FsBsQG1EivwrYDYgFqJFfhWQGxArcQKfCsgNqBWYgW+FRAbUCuxIhzfilMoFEyP3Lx5c/369cuXL2dAFFCa4OXlJZFI5HI59wtHR8fTp08zIAo8PDxu377NBACuEwR/Ra9evVKnTk0KJZVKSbNogmSrSJEiDIgF4fhW+o6tgPjo37//1atX1W8dHBzmz59fuHBhBoBWgW8F/pbu3bs7OTmp3+bJkwdSJSYw3gqIh4IFC6rlycbGpkOHDgyICNzfCoiKrl27kntFEzly5ChVqhQDIgK+FYiHW6e+fnwVFh0pTdFaHKOvkEuqDFN/zZxqheSUTLK85qIXz1/8+PE9a7ZsTk6pU3BMKdvOJb8xqhlJfNiE102gCUxuacPlKGKTu2hqBgSMvtWKfKuHDx9WqVKFAQ2+vAvfu+QtxzgzCy46gqWM5JyXGmU4CVPIEy4YR5sSKa+5SPmvXCaRSBOrP56mJqo+8WhnUh9WXSDZcqXg5OYWkohQ0izWdXIOBmJCvpVAwiuMtzI8n9+E7l38vkgVxwJlnBly9XMJAAAQAElEQVQwHEfXvQj+xrpNzcaABhhvBX6ze+H7mp0zQqoMTt0u2ZzdLNaNf86ABvCtwE/2LXsT8Dmq2SD8nguFzVN9q7RyylPciQGBgfFWBibgc7RjWgsGBIOVtfT5vVAGfoHxVuAnkREyefI6uYB+kMsVIcFIOH6D+1uBnyhknESm798MkAjUocnJGVCD+1sBIFAUCg5eria4vxUAAoWT0B9y89/AtwI/4ZQ3WcFPuYCgTFAhxzfyG/hW4Cd0YlDqwYBgoNhKIsU38hv4VuAnyovkcGoICgXDIERNhONb6VutcJ1gLJTnBU4NIUHfiELYfYJyuVyferpjx45WrVoxPSKVxn9hv77VivetoFZqlIYuYishQdGuRCLoH5CAgACZTMb0RbFixb5//870iLNz/FehwbcyMEpDF7GV4MAPyG9sbGyYMIBvBUBMOPx8xCBVqlRMGGC8laHhErkbHTAECkRWMQgNFcpVkxhvZWgUDB1QQgN6pUlISAgTBri/lYExnREM06aP7TegK9MeDRtX3bR5DdM2qj5BY/oBOXDgQJ06ddjf4efnV6tWLW9v77iLhONb6VutyLRq1qwZA78Q2giG/Qd2zZg1gZk0CmZUV97kyZOnTZs2TGfozrc6dOjQ3Llzk18e461ADJ48echMHY4ZVWyVRwXTGeRb6Si8evbsWYrKY7yV8REYFLhy5aJjxw86ODh6FC/VvVs/V9d0L174du3easa0hXPnT3V0TL1m1XYqeeLk4UOH9/r5+WbNmqNK5RpNm7TmVJa+n9/zQ4f33L136+PH9+5ZstWp06hhA2XAO3BwDy+vuzRx6tTRlSu25MqZx8fn/sZNqx4/9nFwTP1P6fIdO/RIzi/ttWuXFi2Z9eXL5xzZczVq1KJ2rQb8fHMzc0/PO9NmjP3x4zst6tdveL68BWh+7brlqOZWLX8+iHD2nMnPnz+lBtB0oybVOnfqFRDwg5phbW1dwuOfvn2GpkkTezwOVTtsRJ8+vYc0atj89euX6zes8PS6o1Ao8ucv1KpFh4IFU/Cke4mEkxjVLXwoE1y1atWxY8doeurUqRKJxNXVlc6ysWPHfv36defOnf369aP59evX/9///ufv70+FKWKIiIgoXrw4BWVubm5x6zx16hRV+PLlS3d3dyrWrl07OnLWr19P0dCuXbvMzc35YrSVjRs30hza1Xv37r1z586rV6+cnJxKly7doUMHKysrKtOyZcv27dsHBgZu2bKF5lBtvXr1SpMmzbBhwx48eEAFTp8+vXTp0hw5kn5+B3wrIyM6OnrkqP5fv32ZP29Fv77DPn/5NHJ0f5rJH0Cbtqxp2aL9kMFjafr0mROzZk8ixdm25VC3rn327N22dNk8vpJ/l827devagP4jZs5YTFK1aPGs6zeu0PyF81flzVugRo26587cphXfvnszdHjv8IjwpUvWT5k098WLZ4MG96BtJd5CkqpxE4Z27dKHKi9XrjJJD7WEX/Tp80dSydGjptCiyKjIOXMnJzkmmz7Xzp2b6Aw8sP/MxvV7H3h7bti4MlaZV6/8xo4f3KBBM5KqyMhI0lypVDpr5pJ5c5abSc3GjB1EZyZLNnKF3HgvajYzMyOJIRNq4sSJBQoUsLCwCAsLO3r0KElDgwYNZDLZiBEj7t+/T/q1fPlyR0fHAQMGvH//PlYl586dmz9/PskHyVOnTp1IuVasWEHzK1asSLVpPlHi6tWrpUqVosjr4MGDpFlNmzadNGlS165dL168uHXrVnWT9uzZQ98gFVi9erWPjw/JFs2fM2cOhYTVqlU7ceJEcqSKYbyV4ZGkzGW/fuPyo0feG9fvyZzZnd5mypRl1+4t/v7f+KCphEfp5s3a8iWPHTtQqFDRgQNG0nTq1E6dO/aaPXdyuzZdaHrcuBmhoSHp02WgRUWLeJw4cejmraulS5WNta3Tp49TNEQ6RUEcvR06ZFzrtvUvXzlfqWK1RFpIcU2F8lWqV6vNtyckJJi2xS/68uXTiuWb7WztaLpJ41Zz500NDAzgK0+EjBkztWvbRTlla0ex1dOnjzSXfvv2lSS1YMGiff43mN6+efPq+3d/iiJJbenthPEzve7fTdnIb4URD7iiw+DTp0+LFy/m4xp6Gx4e3rx58yJFlNEl6dSbN29mzpzJv+3evfu1a9coNOvdu7dmJSQfpHT85YGpU6emKGnBggWtWrXKli1b+vTpSaH++ecfWkRh2qNHj0aPHk3TTZo0KVeunPrUptiNRI1ki3+bIUMG/todW1tbiq1SmgCq0XdsRbvy0qVLDKiRp8xlf/78Gf2U8VJF0Dk5dvTUtGldf73N+7NWudzbx4vObfWKRYuWoJn3H9xTvlEo9u3b0aFT08pVPejv8ZOHP777x92Wj49Xnjz51WqSLl36DBncftaQ0KeRy5+/eEZrqef06jmgQf2m/HT27Ll4qSIc7JXV0rnEkiJXrrzqaTs7e5I/fppOxYiI8OEj+9rbO0wYN1Oiyt/c3DJTIjxz9sQtW9d5e3vRTJLjFNkuUiknNTPiu7lmypSJlyo1uXLl4icorqFYlZcqptqBhQoV4tMxNfQNktZ4eHio51AEpDycVN2F5OFcvnyZV3+aoA2VKVOGqUJgSgP79+9fr1496lukrPDHjx/qGnLmzKmetrOz++MBXPqOrSit3bZtW/ny5Rn4I+hctbS0SmiphaUlP0EJUVRU1Np1y+hPswDFHXTkjRw9ICoqsnu3vkWKeJB8JDSwIDg4iISM5CxGDf7fWMKQ+lD9CbWQkgL1NJfsQbEJlaQskuJKykzz5StIKQ8/09LSctGC1UePHaDMlz47yWunDj2qV09BB79MppBFG/Gtji1/HQNq1DsnODiYjgpSE82llA9qvuWPnA0qNOfz6kNqRSmep6cnhUgUZFE8xX+n69ato4isW7duND9t2rSUQlL+yLQNrhM0NCkcy25jkyosLJQUQZKoFUw/ehRQ1Khet0KFGHs7Q3q3p88ek2s+d86y4sVK8jNJlVyc08atxCmNM/nTZHJrzuRjooSgU4Uapg5//gyZPLmJW86ceXp060fO3abNqzt17MnPpMDzf70GUrPv3r15/MSh6TPHUzF39+Q+A011VTMTJeR/04FB1pLmzFg3PKAC1JtBdhIpET+HfoFoJuWATJmVZ6R8kPJHCpcor5wyZQpT/WyQNda4cePatWvzq+hoQCl8K0OTwrHseXLno6PnydNHeVXZFvV/zV84vV+fYXF/USntCgoOojyIf0s/mB8+vKOc8eWrF/RWLU8vX76gv6zu2eNuK3u2nKf+O1q4UDG1MlJJSrVYwtChnzt3PvLC1XNWr1lKP9d9eg9OZC0LC0uSYPVb8p5Y8ihdqlyRIsV79Ry4eMnskiXKUJBFO8Tn4X3qhVQlKRVKlSpbq05Z+sjJVyvlMzZFOmCXhIYOHhcXFzKS+DkfPnxwcHCIW4yisMKFC/Nv6cj5+PEjrcW/rVChwvHjx+kstre355NKKkDVqm+cQF/39evXmQ7AdYIGJqVj2T08SpPrvGrV4kuXz926fX3hoplfPn/KkiVr3JLdu/a9cuX8seMHKRB78MBz8pRRg4f2oiPJPUs2it537tocGBRI5/aSpXPIC//46QO/FlVOLv7de7coZ2zWrC2tSz2JdCySgqxctbhLt5Yv/HwTb2HD+s2ow5Hqv+d5++ChPdt3bMyaNXviq5DKXLh4hs4Qmt68Ze3Xr59ZSqCuQFKlSVNG0k862fbUC7l8xULq0KQ2b922nlLFnDlTMBxJIefEeqfjokWLkiG1cOHCz58/BwQEHD58mJym//77L1axzp07U/R08uRJ3q6aOnUq9STSkcMvJbUi95kSPZrg4zLKNMksoznUvUjVkiWfP3/+oKCgJP0pEk2K8ymvTOYdaXCdoIFJ6Vh2Epq5s5dRL/v4CcOGj+hLUfuM6Ys0/SA1lMStWrH1/v17jZtWp14zys6mTplPIZira7oxo6c+fPSgYaMqo8cO6ta1D/X9k0J17KwcclW/bhPyiYYN70Nmub2d/do1O62trHv+rx1Z8p5ed4YNHZcrqTO/Zs16PXv037xlzeAhvei1R/d+dWo3THyVvn2GOqVOU79hpeo1S5NxXrVKLZZCRo6YRKo0e86kAgUKDx40+vSZ4+07NKY2P3hwb/68FRkzuDGgYvLkyeQaz5gxo2XLlgcPHqxcuXLDhrG/HeoQXLp0KekUdeRRlx/pzsSJE9XBO0kMpYG+vr6VKlVSrzJy5Egq0KNHjy5dulDARXpHb2kTFJ0k0pg6derQwUab8PPzY8lA30+WJ7W6efMmLr5Rs2L4c9dMNtU6pGdAGOyY5efoYt58kHAFjiIRfd6NjyJWPd80Rih344NvFQvl86Bwwb+Q4Djc4SoGwrm/Fa4TNDDK50EZ26lRv0GlhBaNGDGxXNlKzJiRy5V/QI3urhNMKbhO0NBQYGVsz9pctWpbQotSOzoxI0cZW+HppxpQJmiiaoXxVrFRMOO64p/gL9kRNcgEf4P7soNf4HmCAkP4T+jSM/CtkAn+As8TFBgSCZOaCfoHxMLCQp99go8fP9bp/bPiktClGvCtAIgBWeyyaEH/gOg52Ondu7fmXWIMCHwrA6PgOIRWQMh06tSJCQP4VgaGUyhgWwEhw9/oSgjgOkFDA5ddYEiU97fCV/KbWLeOMSC4TtDQwGUXGHLl/a3wlfxm6dKlTBjAtwIAJAZ8KwCAcQDfCvzE3FoitcRgRAFhbsksbER689A/Ar4V+ImlDQv6EcWAYIiMkDmllTLwC+H4VnieoIEpVNYh8Gs0A8LgvV+wPJpVaJqOgV8Ix7fS9934QFy2znoR/EPeZmSyHgAJdMqWqb4FytqWbwS1EiL6VitcJxgvZ3Z89PUKTpvJ2iWzlUSSdNcHp3r6hHqkFhffKAj1TI6LfQstLuFRE6qycaqNs4JmsVhIVM9ITCbKerjYN7/TrIHfctzNSZSXHnMJrKIsHKsZibSKY7KIsKj3fuEBn6Ia9s6YIas1AxqQbyWQ8ErfanXz5s3169cvX76cgZhcOvTp2d2QiDC5PDIZpWOdvonLFfvTRb8FL055Xi85xsW7XZZg/cpmc0kV1tjcT0nmEisTexWOU14hIIl5K4VEPzI569b20sqtXNyy2jIQEw8PD1wnCGJQvoFr+QbMeHn79m2fPn0OHjzIgLjAeCsgNpJ8ICswUjDeCogNmUwW66m/QBxgvBUQG1ArsYLrBIHYgFqJFfhWQGzAtxIr8K2A2EBsJVbgWwGxAbUSK/CtgNiAWokV+FZAbMC3EivwrYDYQGwlVuBbAbEBtRIr8K2A2IBaiRX4VkBswLcSK/CtgNiIjo42M9P3jx/QA/CtgNhAbCVW4FsBsQHfSqzAtwJiA2olVuBbAbEBtRIr8K2A2IBvJVbgWwGxgdhKrMC3AmIDaiVW4FsBsQG1EivwrYDYgG8lPDANbwAAEABJREFUVozAtwoKCmI6wM3NrXv37jqq3M7OjgEDgbHsYsUIfKuIiAimAywsLMi30lHlUCsDgkxQrJiub0XHtI6kChgWZIJixXR9K1Kr8PBwBkQHMkGxIhzfSt9qRckCJYMMiA7EVmJFOL6VAdRq8eLFQ4YMYX/HxYsXa9Wq9ePHDwaEAWIrsWLSvhX9CDMgOhBbiRWT9q0IBkQH+gTFilFeJ/jmzZtFixZ5e3unT5++bNmyHTp04B2ogwcP3rx58/Hjx/S2YMGClOVmyJCBX+XGjRv//vvv169fs2XLVr9+/Zo1a9IBTb/AlDLcv39/1qxZAQEBtKh379558uThVzl16tSxY8devnzp7u5esWLFRo0acRzHL1qzZs2ZM2esra0rVark5ubGgJCAWokV4/OtPn36NGjQoPz588+cObNZs2bnzp1btmwZzSfxWr58eb58+caPHz906FAykmbPns2vQlI1efJk+qhTpkwhdVuwYAGtJVXx+fPnI0eODB8+nBZFRUXRIoVCQatQgfnz5+fIkWP9+vW04v79+1esWMHXdkQF6RopZrp06bZu3cqAkIBaiRXh+FbJja1IOCwtLSmeoiOySJEi5ubmz549o/l58+ZduXJlxowZeYeVrNYJEyYEBgba29tv2rSJRKpKlSo0v3jx4iEhIaGhobxvRdHWkiVLbG1taVHDhg0XLlxIqzg4OJw4caJAgQL83kmdOnX79u1JyFq1akXTFMGVV0GLatSo8eTJk3fv3jEgGOBbiRXyrQQSXiVXrfz8/CjkUf941lDBVH18Hz58IMGiTJDEiF9KERYpEa3CSxVPt27d6DUyMpIEi7I/XqoI0jWmGjpPh/vDhw/btm2rXoVkkWZS+FauXLn379/zW+TJmTMnA0ICsZVYId/KyNSKIiOKfeLOv3bt2qRJk1q2bNm1a1fSoLt3744ZM4bmh4eHk9BQOBarvNq3Us9R21IkZJQVblChuQppHx+UkWOlnmllZcWAkHB0dMSXIkr69evHhEFy1SpVqlTq0EmT48ePk5nVuXNn/i2JGj9BOkWqpH6rhvet4t0EHeukR9WqVaNISnM+mfo2Nja0luYlO2FhYQwICfpRwVUKoqRjx45MGCTXaMiVKxelaWRL8W/Pnz8/atQoineCgoKcnZ3VxS5fvsxPkLjQKj4+PupFZJxTwpj4eCuKzoKDgwv/gsx7JycnFxcXir/Spk376NEjdUnqhWRASFC8rD48gJgwvvFWtWrVojRt8eLFlOtduXJl3bp1adKkIUnisz8vLy86Uvft28cXpg5Eeq1bt+6dO3f27NlDS6k7b9euXe7u7omPt6IYjVLLkydP8nbVjBkzRowYQRkiLapQoQJJ4cWLF2maqiKbjAEhQaE0xv2KEuMbb0W9flOmTKHOu1OnTlGWR/kan/1RlEgZ4sSJEykLoN69oUOHfvz4cdy4caQy1atXp8hry5YtVIBCpC5dutSsWZOkKpGeI+oQpF2zc+fOtWvXUoXU4Ug18+ZX69atAwICli9fPn36dMo9e/ToMWvWLH7cAxACUCuxIpzxVlxCJ/zXr1+ZsaGZkwI9M3/+fFdXV80uXQC0C+5vBbQDYiuxgvtbAbFBJiauABUlpvs8QdzfSqxArcSK6T5PkI5pzUGeQDQgExQruC87EBsYbyVW4FsBsYHYSqwYgW/l5OTEdMDbt299fHzq1avHgLiAbyVWjMC30tHdPzKrYEB0QK3Eiun6Vh8/fjx79iwDogOZoFgxXd/q9evXu3fvZkB0ILYSK6Y73ipdunRVq1ZlQHRArcSK6Y63gm8lVpAJihX4VkBsILYSK/CtgNiAWokV+FZAbCATFCvwrYDYQGwlVuBbAbEBtRIr8K2A2EAmKFbgWwGxgdhKrMC3AmIDaiVW4FsBsYFMUKzAtwJiA7GVWIFvBcQG1EqswLcCYgOZoFgRjm/F6flxx+RbPXz4sEqVKgyIgpYtWz59+pSkig4kjvt5OJFseXp6MiAKyLcSSHgF3wr8FX369HFyciKdIsHiX0mwihQpwoBYEI5vpW+1gm8lMipUqJAjRw7NOfb29q1atWJALAjHt9J3JgjEx7Vr1yZMmODv70/TdDjlz59/06ZNDABtg/FW4G/5559/8uXLx0/b2to2b96cARGB8VZAVHTo0IF/pJubm1v9+vUZEBEYb6VvHt8OCAuSyxVJqLOqU4vjpyUc5TUs/jyZowVc3Nm0ivzXCqq1OZYoyk2w31tMFAVjSRfjWOwGc6qV4qb7mk2NVQUXs3wiH+Tn5pT/ZC9XsJPvC98qJSvdORvAktW+pD4Rp9rNLGl+fpa4Hz6hirl4dkismZpHQsINVCh+NjPpLbJfn0XCFPJ4Pzgdm4mOAFGwaOf0lu55bZl+gW+lPw6uePP+hfJZ9srBQEmNXlQk59BTFlP+F3e+5hHP9+cnWVWSx+jP2tRndqLnZDwCwP1aEHt+fKdsfOVVwpyErPDlSTIkiZ/gCTXm7wuzGHsmiTYnR9eSUeb3NpJT269iCbWNU8lYIkhUoYVEykrVSV2kQhpmeug7ttLzeKvT2z58fBVRpZVrhux2DADjx/P8l8sHvzu5WGbWV5CF8Vb6YO/SN6+fhLQZmQNSBURDkUouHcfnOLb+o8/Vr0wvYLyVPvj0MqJSm4wMANHhltv6xolApheE41vpW60yZ87crFkzpntunPhCGb5LOmsGgOgoXMUlLERPV2Xi/lY6JzSY3Ex9fzoA9IOjk0UK+h/+Doy30jmcjJNF45YAQLTorTMf460AAMYB7m8FADAO4FvpHE7CSaTJGSMOAEgM+FY6RyFXyGW4vQQAfwt8Kz3AcegSBOCvgW+lezjGEFoB8NfAt9I5CuUVovCtAPhb4FvpHA63RQVAG8C3AgD8Hfr6LYZvpXskjJMyAESLvnwO+Fa6h3555PCtAPhb4FvpHtUthBkAKeHt29eVq3rcun2daYm9+3ZUrV6SGTO4v5XO4SQKThRj2fcf2DVj1gQGgIGAb6VzFHJOIYqx7E+ePGQAGA74VkJELpcvWDijafOardvUX7P23+vXL1NS4O//jV964uTh3n071a5bjl737N2mTjMbNal28NCeTZvXUMBfr0HFSZNHfvv28xa00dHRK1ct7ty1Rd36FUaM6k8V8vNfvPClmultsxa1uvVoTXOCg4PXb1jxvz4dqf527RstW74gPDyc5g8c3OPkqSOnTh2l8k+fPaY5Pj73h4/o26Bh5fYdm1CxkJCQJD9XQpUT1NrJU0ZdvXqxQaMq1WuWHjCo+6NH3vyi169f0tLGTavTBxwzbvCDB540s0mzGhs3reYLBAT8oFZRGfWG6ONs37GRJminTZ02plWberTutBnj3rx5xRegtIh27+Ur52lfLfl3biJtpg9LlV+8dLZr91Y0QTX/u2y+eunf108EBgXOmTuFKqdKqLZPnz5qLp03fxq/3cVLZvNzHj32oTn0qi7D70ymin9pz9Aeo++aylCb6WiJu0WZTDZ0WO92HRoHBAbQ8UNHUfcebWrVKduzV7vVa5bSUiZI4FvpHqlCYp6yTHD3nq2Hj+zr13fYihVbrK1t1q5bRjMlEuUuOn3mxKzZk3LlzLNty6FuXfvQcbZ02Tx+LXNz8507N1GxA/vPbFy/94G354aNK/lFdKBTycaNWm7berhihaoTJg2/cPEMvwq9btqypmWL9kMGj6Xpfft3bNu+gd5On7awZ88B5y/8t3HTKpq/cP6qvHkL1KhR99yZ27T1t+/eDB3eOzwifOmS9VMmzX3x4tmgwT1IExP/XAlVTpiZmfk8vP/f6WMrlm8+fvSypYUln3VGRkaSUEql0lkzl8ybs9xMajZm7CDSOA+P0g8fPeDXvXvvlqtrOvq8/Nt379+STFMBOusGDenp6XVn0MDR69bsTO3o1LtPR1pKZSwsLEJDQw4d2jNq5OTGDVsk0mbaIr1u2bJ26pT5J49f7dN7yMFDu48eO8BU5/zf1087beSo/l+/fZk/bwV945+/fBo5ur96T5K4FypUjBa1aN6OlOjsuVMsUegLDQ4Ooq972JBxZ0/fqlih2uw5k2PJHzF77uSnTx/NnrXUwd5h374dW7aua9a0zY5tR+rXb0ofbcdOgT7gGr6V7pFx8qiUZYIUxVQoX6VSxWp0MLVt09kmVSr1omPHDhQqVHTggJGpUzsVK1qic8deBw7s+v7dn1+aMWOmdm272NnapUnjXMLjHzoiaWZERARV2KZ1pwb1m1KFdWo3rFql1qbNysCEUz3kr4RH6ebN2ubNk5+m6axYs2o7bbpoEY/y5SpXrlTj5q2rcVt4+vRxczNz0qnMmd3d3bMNHTLume8TCiUS/1yJVx4WGjps6PgM6TOSclELKU4JDQ2lV/p0TZu0JonMnj3nhPEzJ02aQyczfXZvb08+rvTyulOpYnU6S3mlePDgnqNj6pw5clMURlHG6FFTSpUs4+SU5n+9Bto7OO7du43/4CR5rVp1rFa1lptb0oZA+fJV0qfLQBpUuVL1EiX+OXPmhGpDWqj/+o3LFEX2+d9g2idVq9Ts22do9uy51HE0zaxerTa90q5TKvKDe0k2NSoqqmOHHvnyFaQ21KxRj3aRr+8TzQIUfZ87d4p+MGhXK/fe/bu5c+erWbMe7bR6dRv/u3RDqZJlmSDBfdn1AZeS0IrSwJcvX+TPX0g9p0L5qupF3j5eJEPqRUWLlqCZ938dxLly5VUvsrOzDwkJpgnSLIpQNNcqUrg45YCUBfxcK+fvtejH+dbta//r3YHSMUoldu3eopZCTXx8vPLkye/g4Mi/TZcufYYMbveTOpcSrzxTZncbGxt+2tZW+XCgoKBAOtXpLJo5eyL9/nt7e1HkSKeura1t8WKlSMv8/J5TMYqqChYoQu3xViWJJCLFi5Xk59MWSdf4OunspQ9OJ6d6i3ly52fJg7RPPZ0xQ6aXr15oq/7nz5/RpybR59+SKI8dPTVtWlf+LX0udUkHe0f64WHJIE+en9ulY4ApE/AgvnkExeYUr5HCFihQmC9DE3fu3KAQjHJGOiQyZnDLkSMXEyTC8a3E+zxBjilSolZ0EtLvoY3N73hKLQokOvTLSYkhnxuqUZ/zXHy6yB+s/QZ0jTX/u/83imJowsLSUj1z1eolFL5RmkbqRj/m5JodO34w3jofP3lIihOrQpYoiVfOp7qxsLS0XLRgNaUnlMnSpyZN7NShR/XqdVxc0mbKlIW0m6JI0ixS7UePvUk+KEYg0WzVsgPfSNpdsRpJ2qeepliJJQ8rK2uNaSv+Z0Ar9VNVlpZWCS2Vmv3JeRHvYUAHFaWuM1X5tZXGFikHpIPtytUL5DDQ8VCpUvWe3fs7O7uwZKPQ1328hfM8QX2rFe9b6UOtFMl6BrIaOhmYKp5Xz/n+/Zt6Ef0O16het0KFGDlshvRuiVSYRnXkDRk8hvJEzflp06bz94/xJHKylaIAABAASURBVDg6oA8f2UuHL2UE/Bxe6eLilMa5YMEinTv10pxJP/4sYZJfeSwo7qAki7Z19+7N4ycOTZ85Pot7NopBKIAi64rUIVu2HLRbChYsunzFAnLc3759/U/p8soPnsbZ2tp62tQFmrVJJX9yYYFmUynF48VLK/WTUoSFhVKAHK9YJ5NoWXQyS9JhQNEfxarr1+4iM4GpfiToG6E/iuhpD2/YtIoEdHrMD5U4ershEvlWJqpW+vOtpExiloLvk37fKBF4+fK5eg797qmnydQICg6ibIh/S6L24cM7deIQL24ZM1uqoif1WhSLqcI3G/+YSR7VFhYW5uycln9LodzVaxfjrTN7tpyn/jtauFAx9TlGx3riBk3yK9eEjCFy32vXakBKXaZMhVKlylLXFeW2pFbFipVcvnyBbSq7woWLM1XSRIXJUCN1IxeJqfYVbZFEmbIbvrb3H945OqRmKYes9HLlKvHTZANly5pDW/XnyZ2P5O/J00e8b0gfYf7C6f36DLPUCHhjQV0Q9Eoax7+lntavX78kY1NKYaI9SR7ffa+706aPnTtHGaGfPHmEDISsWbOT/0h/dHQdPbafCRL4VrpHxuQpfOZNmX8qkBbcun2dNIX6B8m+US/q3rXvlSvnKYGiX2MyaKjXf/DQXnTmJ1IbqVKnjj3JVqfyVJJ6A6k7b+GimXFLUuZCpzrFL2RXU5BCPUckAbR1fnQChWbkB1MHHIlds2ZtqQHUHUlnGhnhK1ct7tKt5Qs/30SakXjlCREYGECWyvIVC6kXkja0ddt6stgL5Fd6LkWLlPj46cO1axf5t/QxyV2ibsfixUvx61LwVbJkmblzp1CnGG3xwMHdvf7X/sSJQyzlkN1246ayQ4B6Eu553q5Wrba26qe+S9qxq1YtvnT5HH3j9L18+fwpS5asiaxCKTB1pNAxQIcH7Y2Zsyfw/lQyoXhw4sTZpL/kG9LbM2dPjJ847OrVi2RaXb9++dLls/z+FCAYb6V7JCkOlalPh/Ka4SP6tu/Q+NUrP8qemDLmUo42oPxr1Yqt9+/fa9y0OokOBe3Us57I7zAP+TjU3bZtx4b6DSstWjyLMschQ8bGW3LcmOlkanTq3Kxdh0Z0Nnbr1pfeNm5a7cPH9/XrNiFDZNjwPs9fPLO3s1+7Zqe1lXXP/7Xr0KkpHfrDho6jeCfxZiRSeUKrkAc8eNDo02eO066gDVGnGHXnUwjAlE68LXVmUTij9rmpa0LzLTFj2sKKFatNnjqqUZNqJGSkMk2atGIpp02rTmvX/ksW1YSJw6mGunUaaat+CqXnzl4mV8jHTxhG37iVtfWM6YvMErWryNofN27G48c+VaqVaN22PsVK6dNnTNHVXfRNdWjfffWapdTZMmTwWPcs2caMG9yocdU586aULVNx8KAxTJAIZ7yVvm8CdfPmzfXr1y9fvpzpmPO7vz688aP9uBzJX4UCls+fP6r7iXbs3LR167rDh84zoHfofO7avRU5/YUKFWUgPjZO9O27IAWH9x/j4eFx+/ZtJgDEO95KrkjpDYBInnr0art33w7KL86eO0URe4MGehpsAYBgwXWCukc5giFlY9k7dewREPD91Kkjq9cscXFxbdyoZds2nZkxMGrMQH7QU1zq1GlEXXtMeJCdN3pMgg2bNnU+02X9WzYfUI9QAYkjHN9K35mg3sZbnd/15eGNgPbj9REqG5xv375GRsVv+dtY2wj2tEzEOEufLgMTfP2GRW+ZIMZb6X68lXLElancjS9NGmdmhOhaMkQgSUIA4630AYdHdAHxoresCL6V7pGk8EJBAIwKTl+HN8Zb6R4Fw+NPAfh7cH8rnaOQc3J9XfYJgIjB8wR1jkSqkJohEwTgb4FvpXPIglQgtgLgr4FvpXvkCkRWAPw98K10j4SDxw7A3wPfSvfIKROEXgHwt8C30j1SZm75J/erBABoAt9K5zilkwj2AW0A/CXv/YKl+oo04FvpnELllHfdfXL3GwNAdNy/4G9tr6duJDxPUB/k9rC7ffI7A0B0fH4d2X6EO9MLwvGt9H3HGD3j6xV0asunzPlSFSjjmCadNQPAmHn/PNjrkv/X15HdZmS1sDA5W1a097dSc+fc13tnAyLDFPJEXSzaDYlcJapQPpyQS3hdRcKXmCpYYjeuSXBpgu1JuL6EmpFQVQlvO/4FCZWPt/74NxpfFfGvHt+24s5MbrHkbSLuDoynfi725adxK0/enFjbir2puKtwqkcN2NhLOo3LxvSIcO5vJdr7sseFTHepFL2EuuLt27d9+vQ5ePAgA+JCOPdlF/P9rWIBqdIp0dHRZmb6PpyAHsB4KyA2oFZiBeOtgNiAWokVjLcCYgNqJVZwnSAQG1ArsQLfCogNqJVYgW8FxEZUVJS5uTkDogO+FRAbiK3ECnwrIDagVmIFvhUQG1ArsQLfCogN+FZiBb4VEBuIrcQKfCsgNqBWYgW+FRAbUCuxAt8KiA2olViBbwXEBlx2sQLfCogNxFZiBb4VEBtQK7EC3wqIDaiVWIFvBcQGfCuxAt8KiA3EVmIFvhUQG1ArsQLfCogNqJVYMV3f6t27d1evXmVAdKROnTpVqlQMiI5r164xYaDvH0MXF5c8efIwIDq+f/8eEhLCgOgoWLAgEwbwrYB2oDSQkkEGRAd8KyA2oFZiBeOtgNiAWokVjLcCYgNqJVYw3gqIDaiVWIFvBcSGubl5VFQUA6IDvhUQG4itxAp8KyA2oFZiBb4VEBtQK7EC3wqIDaiVWIFvBcQG1EqswLcCYgNqJVbgWwGxAbUSK/CtgNiAWokV+FZAbECtxAp8KyA2oFZiRTi+FadQKBgAf0r9+vXfvXtHE3QgcRxHE/Qql8vv3bvHANAq8K3AX9G6dWtLS0uJRCKVSiUqSLZy587NgFiAbwVEQosWLbJkyaI5h1JCmsmAWBCOb6VvtYJvJTJIm5o3b675/IhMmTI1adKEAbEA3wqIig4dOjx8+JAmKB/s169fu3btGADaBr4V0AJt27a1sbGhCTc3Nwq1GBAR8K2AqKhZs2a2bNmYqouQTHcGRIRwfCt9Z4KkVjdv3mzWrBnTI+f2fHp2LygqnCnkySpPu0TVF5+ssrQPk1Uu2XWmYOvJ3XjyCyp3EZfsnzD1qAVttiBl+z9lhVPUjBQWTlE7Ula3Ek75vVjZsJodM7hlt2F6hNRKIBffiN+3un7iq+f5HzmK2OYv72Bra80AME6+vA/zuvD13dOITuMz2zpaMNND32pFvhXZsVWqVGF6Yf+K11/eRLYenoMBIBa2TPOt0to5d1FHphfItxJIt6DIfav3zyIb9MYtH4CoyJI/1aU9X5m+wHgrfXB21wcLKy6VrSnGzEDElG+UPjKcRUZGMr2A+1vpg+Dvcom+1RgAvcBx756GZS2gj19i3N9KH8iiuejIlHW8AGAUyKLJbpYyvYDxVgCAP4fjmITT0y8x7m+lLxBaAZEi19fBDd9KX+AiSCBGlOOOkjnW+a+BbwUA+HP0mQnCtwIA/AVyShvgW+kY+FYA/D0KCZ8N6gP4VvoCvhUQI/QrLNfTAAb4VnqB8nqOg1wBEaK844NMT8c2fCt9QN+oQoFUEIgQlcuup5MXvpU+UKoVA0CEUGilt6MbvpU+kEgYrhMEokTCKGvQU94A30ofKGMrPQ2gA0CvyBX0p6eDG74VEANHju6vXNXjbx4o/+KFL9Vw/752Hux87vx/VNuPH9+Z2OGUgxhMbrwVnidoBOw/sGvGrAlMGPx9Y/z8nrdqU4+fdnRM3aF9t7Rp0zGQEpS3ddeXKQvfCqSAJ08eMsHw94158vR3DU5OaTp36sVAytGbWgnHt9K3WunzvuzUw5vSTl65XL5o8azLV85bmFtUrVqrQP7Co8YM3Lv7JJ1UlO+sXbfs+o3Lnz9/LFCgSOOGLUqXLsev1ahJNTrlAgJ+bNy0ytrauoTHP337DE2TxpkW+ft/W7Z8vrePV3h4eIkS/3Ro1y1TJuVz2CkD6tq91YxpC+fOn0rxxZpV2yniOHR4z917tz5+fO+eJVudOo0aNlA+GWjg4B5eXndp4tSpoytXbMmVM4+Pz33a0OPHPg6Oqf8pXb5jhx6aj0qOl6DgoPUbVty4fvn7D//cufJVq1a7bp1GNGf3nq2HDpwzM/t5GOzdu33FqkV795xasGA6x3HVqtaeOXtiWFhovnwFe/UYkDdvgViN4df69u3rlGmjqVVubplbtexANfPz420nbXTT5jW0lFK23v8bVLxYKdoPixaszpEjd936FWI1e8jgMfXqNqaJEycPHzq818/PN2vWHFUq12japLX6WTsrVi469d9RG2sb+r7c3LKwZJDQrk78q7x+48rOnZseP/FxcnIuUKBwj279QkKCO3ZutnD+qsKFi1GB02dOTJs+tn+/4Y0btWBK0+MlLf136YZ8eQsk9JVNmDhcKpW6uqbfsXPTsSOXaIsseXB6HJmD+7LrA3IhU2pE0tl7+Mi+fn2HrVixxdrahuSJKfsWlXtp8ZLZe/Zua9yo5bathytWqDph0vALF8/wa5mbm9NxTMUO7D+zcf3eB96eGzaupPkymWzQkJ6eXncGDRy9bs3O1I5Ovft0fPf+Lb8KvW7asqZli/ZDBo+l6X+Xzbt169qA/iNmzlhM5w+JJp0eNJ9OBpKJGjXqnjtzm6Tq7bs3Q4f3Do8IX7pk/ZRJc1+8eDZocI8knaPZsyc99Lk/cOCoDev2UG0LFs6g86d+vaZhYWGXLp9TF7tw6Uy5spXs7exJv3we3v/v9LEVyzcfP3rZ0sKSz/5iNYapniy/eOns9u26zZ+3Ik+e/AsXzfz06SPNT6idpAWkaK6u6aiG5s3aqjdtaWlJNaj/atWsT6dxrlx5mUoFZs2eRJvbtuVQt6596FtYumwev9bBQ3sOHtpNO23Zsk3p02fctHk1SwYJ7epEvsqnzx6PGj2gaNEStANJj54/fzpr9sTMmd3TpnWlHcWv6+3tSZ/r4a+3tK5tKts8ufMl8pXR5l74+dLftCnzLSxScCNQ1egcPQVXGG+lFyhWlqTsGz156kiF8lUqVaxG023bdL556yo/PyIigha1ad2pQf2m9LZO7Ybe3l50bpBs8QUyZszUrm0X5ZStHf0gP336iCYfPPCkH9h5c5cXK1qC3v6v18ArVy/s3buNDnc+NCjhUVp9xo4bNyM0NCR9ugw0XbSIx4kTh2jrpUuVjdXC06ePm5uZ00Hv4KB85MnQIeNat61PwSDf5oTwun+XNII2R9M9uverWLGag72js7MLzTl79mTlStWZKkSiBk+fuoBfJSw0dNjQ8fwTmKtWqUVBVmhoKP9WEzrrGtRvVqpkGZom+4ma9+ixN520KW0naRN9an7a1/fpmbMnBg0cxQvisWMHChUqOnDASJpOndqpc8des+dObtemC03v27+jYoVq/LdAAvfokffbt69ZUiS+q+Mezt4hAAAQAElEQVT9Kr0feFpZWdF8EjL6dKRBJDGq1UvQRtU7mdpw7PhB/i3tTA+P0lQ+kV1BhwHFdyuWbabKWUpQjg7VV6ghHN9K37EVmVb6e/SpgmMpGctOodDLly/y5y+knlOh/E8xokM2MjKSjl31oiKFi1M2FxAYwL/lowAeOzt7yhGY6teVfjx5qWLKI4yjteiYVpfMlTOvRmsV+/bt6NCpKaVI9Pf4ycMf3/3jNtLHx4tCGP64Z0r1T58hg9v9B0n0qRUsWGTX7i3LVyy8evViVFRU7lx5aUWaT5EF5bb8pzh/4TRVW1KlO0SmzO5qbbK1taPXoKDAeCsvXKgYP+HokJpeI8LD/7idBGni2PGDa1Svy2eUlJtTHq255ynAoZlUlUKhePfujbt7NvUizW8hMRLd1fF+lQUKFqFcnmwBir4pVqLPxWsrfbn8h6LkkQ4eEm4SfT66pG+/WLGSSe6KLJmzplSqmMpll+vLuIJvpafnCaYoWA4NC6UTwMbmtwekPsKCg4Potd+ArrFW+e7/zcHegamUKG6FtBZJA50PmjPJpVJPW/x6CDudfiNHD4iKiuzerW+RIh52tnZxt6Wuk86uWHVSM1iijBg+8dChPWfPnSTNovSkceOWHdp3pySO8r5UqWwvXDhNMePFS2dIIyjG4VeRJHtkrdr20twJf9ZOYur0MRT38ZEUQT8StA8pJeez8t9VffcPCQmhHxhK2NUzrayS9n2S3NXxfpUU5VHaePHimVWrlyxbvqB4sZKdOvYk96p48VKBgQEUQVOolTNHbvI3yeO7f/8uif77929LliiT5K5QHwMpQ6G/ezAIx7fSt1rxvpWeXHYuZS67tepYp3NDPef795+HVBpnF6YyfSlN0Fwl8a53cmfJN532K7fikUriuXaebBGyYOfOWVZc9WvMVIe4i3PauCWd0jhToBSrH41Ob5YoZEVRFkO5LSWwZFRt3rKWwqUWzduR0NSu1YD8KUqm7t+/N6DfCKYl/qydO3dtpsRq1YqtagWkuINCPJLRChViGAgZ0ruRUU3aGhERrp5JHQIsKZK/q2NB2S790Se6c+fG3n3bR48ZuG/vf/QVZ82anawr3+dPCxYqSsUKFSxKbyVSaYb0GSln/ONdkTiqTFB/461MVK30fZ1gSlx2OkPINH358rl6DtlM/IRbxsyWqt9AtbdCv+2qQMwmkQqzZ89FNjYpWsYMbvyc9x/e8elSLCiPoFf1OUM5Bf1ldc8eT53ZclIXGCVf6tiHSlJnHEsYSvTOnDlBXhud+XTa0J+v7xM6afmldes2pg4pirkofMiWTWsPtf6DdpKSUgC1YN5KF5cY2kG7kfo01Xuefk4+fHhH3xQFQdSbRt0FrPnPkpTVsqRI/q7WxNPzTkRkBKkVmX01a9ZLly4DdY9+/PTBLWMmykypn5S883btlDFawQJFVq1ZQnaeh8ol/LNdkSR0bMtN7zpBUftWKafMPxXowLp1+zopETkUaqeGVIkif7LVyTql3IR6A6mXh/q/Eq+Nfr0pI5g7dwoZGXSSHDi4u9f/2pOnG7ck9aOTVlJkERgUSGnFkqVzyP+mk4FfSgEdRRzU404S2axZW8plqFOMbJQ3b16tXLW4S7eWvOObEGZSM+o+nzh5BMmBv/+3U6eOPvN9TCcVv5TON3LTKFioWaMeSwaajUmkWCLtpBOVzJ3Ll8/TfHX5Hz++Uzcr2f+RUZH3PG/zf+QM0qLuXfteuXKe3GuqkPb/5CmjBg/txT/7k/oHLl46e+78fzS9fcfGhw8fsKRIfFcnBHlnEycNp/5iaufDR97k7pNspXNVen/FipBa3VHGVqpdWqBAkVev/Cj+KvYrdvuDr0xQ4DpBgdKxQ4+CBYsOH9G3fYfGdMw1a9qGKWMu5WgD6lOjPrJtOzbUb1iJ+rwpExkyZGySFc6YtpDOwMlTRzVqUo0O8WrVajdp0ipuMUoZxoye+vDRg4aNqoweO4j66Rs0aEai0LGzUtnr121CccSw4X2ev3hGOd3aNTspae35v3bkE3t63Rk2dBzfd5YQlDFNnjjn69fPZNA0bV5zx65NvXoOrF+vibpAmTIVyACqWrUWSwaajUmkWCLtLF2qHJ3Y4yYMPXP2pLr8jRtXSEmp+2zwkF7qPxJZpuoioNyQEtXGTavTjwTZ3lOnzOdD3XZtu5IZT4pDrtC165d6/28wU8YdiQUdie/qhKCsuW6dxkv/nUttGDS4B5mbC+av4tNVUiUSu0yZslAfJVP2SNiS8U9ziv7qXfmDryxJOKa/TFA41wlyCoVe76py8+bN9evXL1++nOme/f++//w6vM3obMlfhX79Pn/+mDmzO/+WUqStW9cdPnSeiRrq6qLOr9EjJzNgJGyY6FuvW/qs+VMx3ePh4XH79m0mAMR+X/YUQvK0Y+fG7t36Vata687dm+TmNGgg3Lz1LwkODqaU8N69Wz7eXuvW7mLAiFDgvuy6R9/XCaYwWO7UsUdAwPdTp46sXrPExcW1caOW1I/GjIH6DSoltGjEiInlysaz9NWrF5RtkaU9adIcZ1Wnp2j4g71hXChHWUhM7v5W+s4E9Tneav+yd19eR7QelYJM0HgJUo0IixdyTNQDAkwE0e+NDRMoE0yXtYAt0z0Yb6WX8Vam9HwuO9Vwc8CDvaFFMN5KH6ieIsEAEB/6HB0K3woA8OconyKhr8wB4630BR7QBUSJQqHQ43WCTBiI/b7syAQB+DtwfysAwJ8jUT6H3OTubwXfCgDjQ67sQdLTE7rgWwEAjAP4VgAA4wC+lT7gpExqzgAQH8pbOsK30jX69K2sbZnynmUAiBEHF/hWOkafvlXpOqmjwhgAIuPu2S/mlswprT4uEmTwrZhecHCydkgr2bvoOQNARDy9FZjbQ09SxYTkW0knTpzI9IhMJrO0tMyXLx/TC4XKpX7hHXzj2Jd0WS1T2afg6ZIACBCf6/4nN7yr1DKtR5U0TF9ERkaWLFmSCQB93zHGIOxe9OrLmygyJWVRSV+Lw3HxXwvNxRwYH28xTjUQRvMJT1ySw+kVP1fgkj3wPnZLEl4xbiO5lAzvT6gwp3yurCLZhZM9X6FI7hPTk7fTkr+j4i2T0FesSGpOkvAfkl8rmR9aKuXkCoVUyvKWtKvY1JWZJGK+v1UsHt0JCPkuS/AWZupjM8bRp/Em1sEb70Eaz7Ec95CPUUih4Dj+MZax64/nXFEd2IrYNfycGc9H+rk8iSaqK0luYU7CKeSx54eEhJw5c6ZBgwaxa+ASustl7MqVu0KS8C0xNXZIgjstJorYv00JCovGPtT8xuMpLld2xSW0l2JoXSIixilPOwlfIOGvL2YLJcw5vXmWPAa4E45w7m8l5vuyA33y6tWrQYMG7du3jwFxgfuyA7ERFRVlbo7hbSIE462A2IiOjja1+ymbCBhvBcQG1EqsYLwVEBtQK7GC6wSB2JDJZFArUQLfCogNctmhVqIEvhUQG8gExQp8KyA2oFZiBb4VEBtQK7EC3wqIDYwOFSvwrYDYQGwlVuBbAbEBtRIr8K2A2IBaiRX4VkBsQK3ECnwrIDbgsosV+FZAbCC2EivwrYDYgFqJFfhWQGyQWllaWjIgOuBbAbEB30qswLcCYgOZoFiBbwXEBtRKrMC3AmIDaiVWTNe3+vTp08WLFxkQHXZ2dqlSpWJAdOzatYsJA32r1atXr7Zv386A6AgICAgLC2NAdMyePZsJA/hWQDtQGkjJIAOiA74VEBtQK7GC8VZAbECtxArGWwGxAbUSKxhvBcQG1EqswLcCYsPc3DwqKooB0QHfCogNxFZiBb4VEBtQK7EC3wqIDaiVWIFvBcQG1EqswLcCYgNqJVbgWwGxAbUSK/CtgNiAWokV+FZAbECtxAp8KyA2oFZiBb4VEBtQK7EC3wqIhBYtWgQGBpJOhYeHR0RElC1bNlrFnTt3GBAFwvGtOIVCwQD4UxYvXrxp06ZYM7Nlyyac2+MC0QDfCvwVrVu3jtVtIpVK69Spw4BYgG8FRIKLi0vNmjVJodRzMmbM2KRJEwbEgnB8K32rFXwr8dGuXbtMmTLx0xzHVatWzd7engGxAN8KiIpt27b9+++/5LJTVrhixYq0adMyALQNfCugBahnkBJAmqhYsSKkSmQIx7fSd2x18+bN9evXL1++nJk2z7wCrh32DwuWR0UoGPd7Pn0b3K+3NBHvlyPhmFy1kiK+teJdUV1Yc624aC6NVfJ3nQqm2WCNRQqFXMFR4zQWqyuJ1cJYG6VCikQ/Naf6P9698bN8IhvQqFPCcfI4tcTdJ1IJk1iw1E7mLYZmYSaPh4fH7du3mQDAeCsD4Hs/8MzWL07pLdwL2pqZSznNc0UR78keAwWZQwpFotoSe6bqVFZNKySMkydc8vcqNCX/uaGYZUhXYrQ4lr7EVrkEdDJm46nCBGtQb4Px8xUxWvXro8VuVYxKND5+7MYnsEEuNDTiw7PwZcN8e07LKrWQMhMGvpXpcmrr+2f3QjuMy8GA4AkICDuw6F2b4emcXG0ZMDTwrfSN773QJv0zMmAMODhYZyuUat+ST8yEwXgrE+Xk5nfmlszWwZoBI6F8o/QRYQr/T8HMVMF4KxMl+LvMwkrfXiH4S8zMuFdPI5mpgvtbmSiRESwqHEahkREVpVCYrljh/lYAACMBvhUAwDjA/a0AMCYUev9dFw7wrQAwJjgmZ6YKfCsTRcIlcn0IAEIEvpWJIlcwXDsAjAv4VgAYFQrTDYnhW5koHBf7BgbAOJCYbkgM38pEUd3bhAHjw4S/NfhWJgqndNkRXAFjAr6V6aJAcAWMCvhWJgoyQWPExANi+FZAr3Tu2mLhopkM/BHKYSfwrQQAfCvwm0mTRx47fpABoAHubwWEyJMnDxkAMYFvZaJIOEVKHZDadct17NCjVcsO/NvZcyY/f/505YotNF2vQcU2rTuTxFy8dDZVqlQFCxYdPWqKna0dLXr58sXMWRNevfYrUsSjQ7tumhVeu3bp7LmT9x/cCwwMyJunQPv23YoW8aD5lasqX+fMnbJ8xYLDB89HR0evXbfs+o3Lnz9/LFCgSOOGLUqXLpdkaxs1qdapY8+3b1/v3bfd0TH1P6XL9+0zdPrMcVeuXMiUKUu7Nl1q1KjLlzxx8vChw3v9/HyzZs1RpXKNpk1a8+YQxXc0QSvOmTdFKpXmyZ1/4oRZBw7u3rhplb29Q80a9Xr1HMCXfP36JaW3T589kkrN3N2z0Xb5DzJh4nBa0dU1/Y6dm8aMnjJv/rS2bbq0a9uF365MJmvctHrdOo169ujPkgenfjFJ4FuZKHIFp0UHhM7S3Xu21qvX5OzpW7NnLqWzd8nSOUx597ioEaP6ubi4bli3p2f3/nTSfvv2lV8lPDx82oyxERERI0dMmj5tYebM7mPGDvL3/0aLThy7Qq/Dho4jqaKJxUtm79m7rXGjltu2Hq5YoeqEScMvXDyTSbtWTAAAEABJREFUZJPMzc137NxI1Z48frVb1z7HTxwaNLhH1Sq1/jt5vXKl6iRAQcFBVOz0mROzZk/KlTPPti2HqBhtaOmyeXwNZmZm3j5e9Ld75/EVyzbTxIBB3eVy2ZFDFyaMn7lr95YbN5Tt/P7dv2+/zmnTplu1ctu/S9andnSaMnV0aGgo34YXfr70N23KfI/ipStXqnH6zHF1C+953g4KCqxVsz5LEZzpGlfwrUwUiUTL3Us5sucq4VGa6syXr2DDBs3On/+PpIpCrc+fP/XpPcTVNR0FHf37DQ9WaQRhZWW1ZtWOIYPHUBhCf716DgwLC3vg7RmrWpKzk6eOtGndqUH9pg72DnVqNyTF2bR5dXKalDNHHlrLwsKiUsXq9DZ//kKkU6RBpBoUr71+5Uczjx07UKhQ0YEDRqZO7VSsaInOHXsdOLCLBIivITIykiIyBwfHLFmyZsuagwKlzp162djYUIMpXnv+4hmVIZm2sLQcOmRshvQZ3dwyDxs6Piws9OAh5aFFe+Pjx/eTJswuU6YClacw6tUrv2e+T/jKL1w4nSd3PqqZJZtfzwYzUUzXt0qfPn3dunWZqSKXa7l7KUeO3OrpjBkykVS9f//23bs3pErp0qXn56dJ45w2rau6WGhoCIVgzVrUotSP0kya8+PH91jVPn36iCSjhMc/6jlFChd/8cI3IDCAJQUFVvwEJaf06u6enX9rbW1DrxTXyOVyipg0Ky9atATNpOT05wfJmInio59r2di4Z8mmLpnKJhWvvBQ65cyZh0RQva1Mblmo2fzbLJmz0h7gp0kuSc5On1aGV7TzKUKsXt10j8A/oH//5KbMukbfvlUmFcxU0br5YWlppZ62slY+SickJJgMKV4a4hb79OnjgEHdihUtOW7MdArHKAypXrN03Gp5Reg3oGus+d/9v1GoxRIlVvAokcT+RSQdJFUlU4z+YlT+K7aKtUrcGgj/b19J1DTn0McPDQvlpyns0lzUqEHzLdvWkeFFaSCFYNWq1WYg2XTo0IEJA32rFflWDx8+rFKlCjNd/iq2ksllmm9Jm9TT4WFhTJnrWZMbHfbrvOWheIqfOH/hPxILMq2sVdIWN6riSePsQq+UMMZSBPKJ2F9DUQ+ldTWq161QIUbvcIb0bsmvxCZVqvCIcM05YaGhbhnj78CpXqPuilWLbt+5ce36pTL/VLC3s2cpQfVce9N12cm3Eki3IHwrvaISqpQd9xYWlprS8+bNK82lXl531NNkzVBmRPqSzjU9uemUuPHzfX2ffv36hZ+msMvOzp6XKiIh45xOe0tVeMLbW/RH6RilV6QyTBtkz56L7HZ15QXyF07jFCNdTZLcufI9euRNMRr/NjAokDpAs2bNHm9hkqdKFauRY3X27Mnq1eqwlKMw3VuHYrwVSDaUr5GmBAcrY6jNW9Z+/fpZc+mXr5/Jb6ZeeeoQPHJ0X+XKNUhlypSpSCb33PlTSbNIpyZPHWX/K33Lli0n9Q8eOryXDO8bN6/evXuTzOzPnz8yZbZo6eKS9vbt65Qu0eqdOvYkW/3BA0+KxagBQ4f31uJo+O5d+165cv7Y8YNkV9EmJk8ZNXhoL9pQ8muoX78pxZXz5k+j3PblyxczZo63srSqU7tRQuXr1GnE9wwmZxxGLBTK0Mp0bXbhjLfSt1plzpy5WbNmDCQb6h1zSp2mfsNKZDBFRIRT35zm0np1G/v43K9Wo1THzs0o9unXdxjNtLW1nT5toSw6ul6Dip26NGvWtI26C6xqlZrt23UlGaLa9u7dRt2FFGts275h/oLptLRtmy53790aN35IWHhYq5YdqKNt244NtOlFi2dRmjZkyFimJQoWLLJqxdb79+81blqddJB0Z+qU+ZYxzabEccuYacL4mX5+vq3a1Bs4uAfNWbRwDe/rxwtFcBR40odVG/MgmQhnvBWn5yugTNy32jHndXCArOWwFHSfJ0LDxlWbNmndoX03BpLiydNH/+vdYdOGvdQ/yFLIxkm+Zeo6FavqxEwS+FYmiomP3DEIZNtduXJh+oxxrVt1/AOp+okJ3+kY97cCRgl5TKPHDExo6ZbNB8gFYwJj1erFt25fr169TpfO/2N/isKE73QsHN+KM+l7YeidnfNeB/+QtxjqzowW9UU8cUmTxpmJERPPBIUDxluBlCFWSQIJAd/KRFEoONzpGBgX8K1MFGXebcLjDIExgvtbAWA8KG91jPtbGR7c3wqApOBMeiw77m9loijvT4DHCQKjAr6ViaL0rWCyA6MCvhUAwDiAbwUAMA7gW5koyt0tZcDIUDA57ssuAHB/K71ikYozg1oZG1Jzliq16X5t8K1MlCwFbG4c/c6A8fDeL1AhZ3mLOzBTBb6ViVKsQhozc+78nvcMGAlXDn52yWLSN/CDb2W6dJ+a/f2z0FNbXjEgeHbM8XVytWzez52ZMBhvZdL0nJlj3YQXm6b4WllLoiOTuqhD8fu5E1yce/lxHFPf8ifWUtVTWmLcEYjjknjL2M/HHXIs9tXX6sKJrKXZ1J9LJZxCrohnFWp2nPm/K1dwms9G5iuRSiUymTyexivieS6Huv2aa/Gr8LVp1MPi3jfJ3Fwql0dHRbDUrtJGvUz3gXI8uL8VYE/vf39+LywsUKZIdHg7pzob+S9JU5t+Lf4tUbGW8s+U0pwjkSgfv6rxlpPHPm9/lpdwsXvB1OvG2grNV8qLgkVHR3/6+DGjW4ynbHES5dNi4jaM/uTyeD4OXz6WAvGblppxsmhF3PYksCt+HthSKSeTKdTbpXmxV+RUHzZmVWbmEis7rmw9R1sHawYEA+7LDrTDq1evBg0atG/fPgbEBe5vBcQGxVZ4nIwogW8FxAbUSqxgvBUQG1ArsYLxVkBsQK3ECsZbAbEBtRIr8K2A2IBaiRX4VkBsQK3ECnwrIDagVmIFvhUQG1ArsQLfCoiNqKgoc3NzBkQHfCsgNhBbiRX4VkBsQK3ECnwrIDagVmIFvhUQG1ArsQLfCogNuOxiBb4VEBuIrcQKfCsgNqBWYgXPEwRiA5mgWIFvBcQGxVapUqViQHTAtwJiA5mgWIFvBcQG1EqsYLwVEBtQK7Fi0r6Vk5OTl5dX4cKFGRARJFXW1nj6nti4efOm6fpWyk1KJIsWLeJ3wY8fPxgQBeHh4dQtyIDxQ98jRcqRkZElS5Y8ffo0EwwGCN1tbGzWrVsXEBBA02/fvm3QoMHQoUPplQFjhmIrOsQZMFpkMplUKp0+ffqhQ4cuXrxI09euXaNXJhgMEFvxODg40GuBAgWOHz/u7u5O02vXrh0yZMjLly8ZMEKgVsbLjRs3evfu/eDBA5quWbPm9evXLSwspCqYkDCYWqlJlSpVoUKFaKJr167169f/9OkTUynX3r17cfQbEVAr4yI4OHjLli3//fcfU40r6tixY5EiRWi6ePHiTKgYXq00qVSpUqlSpWiifPnyT548efz4MU1TXPr+/XsGhA3Uyiig3OXChQs0cfLkyS9fvhQtWpSmGzZsyJ93AkdYaqUmV65co0ePpjyRpr99+9azZ0/exH369CkDggRqJWR4g4VyPTJb5HI5TTdt2nTQoEHOzs7MeOAUCgUzBuQq2rdvT4bXihUrQkJCcJ2HoFi9ejXZtL169WJASISFhbVo0SJfvnyzZs2iaaMeZSLQ2CouEomEfr23b98+ceJEeku5IdmBBw4cYEAYILYSFMuWLatRowb9ftCJs3LlSpIqmmnsA+KMRq3UpEuXjl5z5sy5detWfnrfvn0TJkx4/fo1A4YDamVwfHx8Jk2aRIYvUw3Dpp926tSztLTMkCEDEwVGfKmEswqaaNCgAXW4kqVF39Du3bttbGxq1aoltM5X0QO1Mgjk5Jw5c8be3r5kyZLXrl0j1zxHjhw0v169ekx0GF9sFRc6T+i7qVatGk0XKlTohgqaPnv27Pfv3xnQC1ArfUKdTt7e3jSxZs2a//77j4+eunXrRr/cIv6dFoNaaZI7d+7JkyeXKVOGpl+9etW8eXNesD58+MCALoFa6YHg4GB6vX//ftWqVf38/Gi6e/fu5Em5ubkxE8Bo+gT/GP6elo0aNSKTizoTIyMjKW1kQNscPnz4zp07fB8I0DqkUwMGDCCXY8mSJf7+/k5OTsz0EFtsFRf+9rvUezh06FCa+Pz5c8OGDcmYZ0CrILbSBTt37uzatStTjeDp168fSRVNm6ZUMVNQKzW8+0gx87///kuuJE2TPTlz5sw3b94w8NdArbTF27dvKQngD8vAwMBBgwbRBB2x/JUxpowp3j7NTQVNlCtXjoLqW7duZcqU6dSpU9TXW7FiRQb+CKjVX+Lj40P7kIzXTZs2ubi4uLq6MpUtxcAvTPpmjyRPZMPz0yRYq1evDgsLq1Wr1s2bN6lv0crKioFkA7X6MyiSot/OtWvXXrhwYcKECTRn9OjRDMSH+F32FEF7g+O4jRs3rlq1irwt+n0LCAjgb24D4qVz586hoaEymYxs4KCgIGdnZ3JYaA5l2QwkCgVTZEX17NmzZcuWtPdsbW0ZSBSoVYLwF1WRJZ8xY8Zly5bx9ypjICYUDlBvoEQSwwClYAEXRcUL6fiMGTPIfyDzlKIqOzs7/BYmHxNy2VMKf1HVwYMHe/ToQRNfv35t164dnZkMaNCxY8dYF3ZQbIUHhcSCXNHx48cz1UCEf/75Z+HChUyl6ZCqFAG1Shq+L4aywjFjxkRGRjLVvRYXL16Mu24R2bJli9U1QSchBaTM5AkPD6efOgqjaPrq1av8tRZp06atU6cOHmr9Z0CtUkDevHmbNm3KVNf30K8if9/FK1euUK8iM2Hatm2rGV6VKlXKlB/HTTE4pXg0MXToUC8vLxsbG5qeOHFihQoVGPg7oFZ/AiWJHVUw1Q3mqUPn0KFDNP3w4UNmepBUValShZ+mCLRVq1bM9AgMDKTXrVu3knaHhIQw1UNDKftDz7IWgVr9LQUKFFixYkXt2rVp+tq1axRZ8OP6+JwxFo0bN6ZE4MWLF0xctG/fno+nChcunD17diYuKOtPxIl7/Phx69ateUOzcuXKJ0+ezJ07NwM6AH2CWiY6OpqcVEdHR8oZKeggP5X6yziO45eWL1+euhrpxB49erSHh4fmiuf3fnr9KDg6kouKSvoboQqVXxzVqogzM96Smig4TsLiK8niHgv86vHWrFFI2YzIyKioqAgrKxupVBKrKs23mlWppzk6DpkinkrjtJ9TlU38mNVY5fcOSvwjWFpJLCxZwQqOBcukjrVo3bp1mzdvDgoKoq5h8qH4meRJ0fwfP37Q90hqRV9xrly5GNAxUCsdQt5qyZIl6cgeNGhQo0aN6tatW6xYMb6zn9zWqVOn0lu+5JqxzxVyZpdGam5lIYuSx6onpiip5qjO/18n9M/FCchN7Jk0gylP3bgl1drxe3MSjskV8dcct3m/J2JJjKZCaVZOHYjxlY+3TvV8xiVx0MbdXfBQurgAABAASURBVIwl8RHMLbjgwMiQ77IM2awa9Px9P4P169dv2LCBz+zMzMwoiKYOlp49e7569er06dP16tXjR5wD/QC10gd37969f//+gQMHeP+VhwRr8uTJFGGtHf/Czsm8dudMDBianbN9HVwsmg9UZrWkU2vWrKEfG36RXC4vWrQo/eQ0adKEAUMAtdIfZEXzXqwacuhbll1sa5eqfg93BoTBjlm+uYrbXvfdePTo0dDQUM1Fmskg0D8mfZ2gniGbQz3mm39KEs0JD5JWa41sQkCky2rz4Pq3ozeO8re+Y6onmPAT/OApYCigVvqDOrPt7e1tbGzMzc0pqqJMMJNz0ajXZi4ZjPtJJCLDOZv1u2cho0aNevfuna+v76dPn6hjJCIigl7p14UBwwG10h+DBw8mhcqogh+GQ52Ah1bhFszCwspMGhXF8UNSeCjIIuX6+PEjbihkWKBW+qNZs2YMGCG2tra5VTBgUKBWAADjAGplUBTUJ8sxAEAygFoZFE7BcRhBAkCygFoBAIwDqBUAwDiAWhkSRXzX6wEA4gVqZUiUHjtMdgCSB9TKsECrhIdEgm9FmECtDAvyQMHByfGlCBSolWHhGMZbCQwFg5coUKBWhkXBMN4KgOQBtQIAGAd4ioQhUTA9XXnj5/e8VZt67O9o3LT6+w/vGAAGArGVIeGYnq68efL0bx8d9vHjhx8/vjMADAdiK+Pj9euXg4f0qtegYsPGVQcM6n7P8zY/f9SYgfSnLnby5JHKVT1CQ0PXb1gxa/akT58+0tvde7Y+ffaYJi5eOtu1eyuaaNai1r/L5vOr7Ni5qXbdcuoa+FWuXLlAm2jdtj7Naduu4djxQxJv3rVrl6ZNH9uydV2qitqpbh7Fd1Tbo8c+48YPpYkWreosX7FQJpPRIoVCsWfvtu492tSqU7Znr3ar1yyl+YcO761Zu0x0dDS/+vwF02ktqoR/S0upfn7piZOHe/ftRG/plepR37yb9s/evdtpF9GK8T4wDRgXUCuDkvJ7MHz/7t+3X+e0adOtWrnt3yXrUzs6TZk6Otbtw2PRuVOvVi07uLqmO3fmdvNmbc2kyoB6y5a1U6fMP3n8ap/eQw4e2n302IFEaihaxGPGtIU0sXXLwamT5yVSMjw8fNqMsRERESNHTJo+bWHmzO5jxg7y9/9Gi/jHqc+bP7Vq1VqnTlwbM2rqrt1bzp1XPu96374dW7aua9a0zY5tR+rXb0qNId0sXrwUScyzZ4/5mh94e9JH8Hl4n3/r7ePlUby0mZnZ6TMnSItz5cyzbcuhbl37kFotXfazhbTFI8f258iRe87sf6kkA0YO1MqgcCylmSAFRxaWlkOHjM2QPqObW+ZhQ8eHhYWS3LAUUr58lfTpMlhYWFSuVL1EiX/OnDnBtIGVldWaVTuGDB5DAkd/vXoODAsLI6FRF6hYoVqlitVIRwoXLkYf4enTRzTT6/7d3Lnz1axZz9Exdb26jf9duqFUybIZM7ip5Yk0+tUrvxrV695/cI+vx/uBZ7FiJWni2LEDhQoVHThgZOrUTsWKlujcsdeBA7uoPFM9+Mve3qFfn6EexUup762eJBzH4QIDYQK1MiSqwCplZ8YLP9+cOfOoI4VUqVJlcsvCn/MpImeO33fCzJgh08tXWnt8dGhoyJKlcyjBpPyLzys1Da9cufKqp21t7YKDg5jyedeF79y5MXvOZMrpAgIDSKdy5FA+TLR4sVLe3l40QSJFDS5atMRDH6V4ffny+cPH96RBcrmcgqwSHv+o66QyNFMtarlz5WMpRKHAc6AECsJjQ8Jx8pQOZ/f/9jVjxhhPHrSytg4NC2UpxMrKWmPaKiQkmGkDsroGDOpWrGjJcWOm58tXkKKU6jVLaxaIN8ahHNDGJtWVqxcopyMhrlSpes/u/Z2dXUh6SPiogJfXnYIFi+bLW/Djpw8kVZ5ed9Kmdc2UKQslnlFRUWvXLaM/zQr52Iqg4JGlFGVoheBKiECtjAybVKnCI8I154SFhrplzBy3pEwuS6QePqjhoXNeU7ySWUO8nL/wH5lNZFpZWysrTGY3IkkYJYD09/Lli7t3b27YtIrUc/rUBZSiBgYGUBhFsVKH9t0tLS0pYaS80tvbkwSRqXTWxsaGMsQKFapqVpghvRv7Y5ShFYIrIYJM0JAoUn7lDaU2jx55U0DBvw0MCnz12i9r1uw0bWFuQVmYuuSbN68SqYfCE/W0r++TbFlzMKUtbUEGubob7vUrP5ZCSFzs7Ox5qSIuXDyTnLWo+5Lv7HN3z9akSaumTVpTk+itg71Djuy5rl658Pz5s8KFitGcggWKPHhw787dmx4eP0O27NlzBQUH8TYZ/RXIXziNkzNFXgyIDqiVIeFSfuUNdZlR3DFv/jTKuSgSmTFzvJWlVZ3ajWhR3rwFHj/2efHCl6Zv37lx+cp59Vrkx3/79vXy5fNqCbt1+9qNm1dpgord87xdrZrygVSUu1FgQeYRU+V023ZsUNeQKbM7vZ4//9/DR96JNC9btpy0oUOH95LkUf0UKDk4OH7+/JElypmzJ8ZPHHb16kUyra5fv3zp8lkSHX4RJYP79u8gFaN66C3Nv3Hjyrt3b8i04gt079r3ypXzx44fJLvqwQPPyVNGDR7aC+MVRAnUypCoxrKnaA3mljHThPEz/fx8W7WpN3BwD5qzaOEa8tppolHDFlWr1OrRqy3Z28ePH2zXpgvj0xrGSpcqR1HJuAlDz5w9ydfTplWntWv/pZITJg6ncKZuHZXe5cn/v14DV61aTPMnTx3VtXNvdQ3kfNeqWX/9hhWrVy9JpHlVq9Rs367rps2rya7au3db/37Dq1ers237hvkLpiey1pDBY92zZBszbnCjxlXnzJtStkzFwYPG8Iuom+/9h3eFChbl3xYsWIQSQ3LcefHi56xasfX+/XuNm1YfOrw3SfnUKfMpZ2RAdHDo/zAg/NNPO07MyfQIBV9du7datGA1dfwzEAdfz8DLBz73W5CDAYEBl92QKBScAt1PACQPqJUh4TgFZ2zdT+QNjda4vicWWzYfUOdoAGgXqJUhUSh9Q33HVtmy5Th35jb7U5Q+0aptCS0Vg1RJMJhdoECtDAnHUjw6VAikT5eBiRg5BrMLFKiVIVFeeYM7HQsMRFaCBWplSJSXNONOxwIDkZVggVoZEo7hiQUAJBeolSFRKMMrBgBIDlArQ6JQ6Om+7ACIAKiVIeE4hsGhACQTqJVhMb7RoQAYCqiVQcEIBgCSDdTKoGAEAwDJBmplSDgp/SG2EhZRkTLzlN8eGegB3N/KkGTKZUtG+4eXIQwIhvfPQyytcV4IEXwrBsbJVXr92BcGBMOnl+F5StgyIDygVgam1dCsnFyxb8lzBgTAthm+GXLa/FM3LQPCA/cOFQTrJ76ICFfY2EssLc2jo+SJlKTMUfmNcb/v3fBzzi8UqhmqBQne3yFuJXEr0nwnkTC5RqM4CVPI+QlOIY+5Db7OuJvmVB2gMef+rCfWdlUzFRoD0eJp7a9p5eGruhpA3SQm4ZiqSepa+QnNjfDD3BQan0hqLgkPiQwLkmctYF2rY0YGBAnUSijcOfvV915weCiLjkjsG+EFQlMmYknG79MylozFqSS2plCcLY9Thl8iZZoP6/q9SGMV2lRkVKTqhuiKuNc/chxFkLEHa/z6LDGEI27b4haj2vjjVi1qGk1SqZXqRgr8HH7FGHtM9cBAzZ1mbs3RT0Xpus5u2WwYECpQK6Ad3rx5069fvwMHDjAAdANGMADtEBUVZW5uzgDQGVAroB2io6PNzHA4AR2CwwtoB6gV0DU4vIB2gFoBXYPDC2gH+FZA10CtgHZAbAV0DQ4voB2gVkDX4PAC2gFqBXQNDi+gHaBWQNfg8ALaAWoFdA0OL6AdoFZA1+DwAtoBagV0DQ4voB2gVkDX4PAC2gGjQ4GugVoB7YDYCugaHF5AO0CtgK7B4QW0A9QK6BocXkA7wLcCugbPvAHaAWoFdA1iK6AdkAkCXYPDC2gHqBXQNTi8gHaAWgFdg8MLaAeoFdA1OLyAdiCpkkqlDACdAbUCWiMiIoIBoDOgVkA7UGxFySADQGdArYB2gFoBXQO1AtoBagV0DdQKaAeoFdA1UCugHaBWQNfgOkGgHaBWQNcgtgLaAWoFdA3UCmgHqBXQNVAroB2gVkDXQK2AdoBaAV0DtQLaAWoFdA3UCmgHqBXQNVAroB2gVkDXQK2AdoBaAV0DtQLaAWoFdA3GsgPtoKlW9evXZwBoG8RW4K/o3r377du3OY5TKBT0WqxYMXpNmzYtA0DbILYCf0XPnj2dnZ0lEolUKpWoINkqWrQoA0DbQK3AX+Hh4VGgQAHNOSRebdu2ZQBoG6gV+Ft69OihTv3kcjmJV/78+RkA2gZqBf6WvHnzlixZknSKpkm22rdvzwDQAVAroAU6dOiQJUsWEqxs2bLBtAI6QtmVw4Ap8flN6MObQT8+R0aFK6KiFRzjpBImkzOOMToUJPRewsnlyuOC5ij/pz+58pVTvadFVIZKUgGJckohVyjX+vjpU1BQcPr0rjY2tnwXoXqLUiknkyl+ViahbJFWpPWUG1SXIo9eJpOrVzGTKptiZS1xzWpRvKoTnlQIGNTKdPC5+ePumR9B36LlMmVITdIjNZPKZcphB5xScxj/qlQlptQt/rBQLvs5m6lmK//nuN8TjP1alynXJ6VTqhevfD9rUP6vnPnrrao8x9epPvz4RqiPRWU9CorV5Aq5UiulZswpnUWDni7WttYMmCpQK/Hjc+375UP+0ZEKy1TmDm62LpkcmbHx7uHXoC8hski5jYO084SsDJgkUCuRs2nKy6Af0XYuNpkLuzLj59m1txFBUe55Lev1yMSAiQG1EjP/DvU1tzHP9Y8bExGUHj4698rGVtJ5YjYGTAmolWhZOsg3bQ77tNnSMDHy/OZr6hzoNA5ZoQkBtRIn/w72zezhapfahokX3xtv5JHyHtMRYZkKGG8lQpYN83XNnVrcUkXkKJXJzNpsw6SXDJgGUCuxsX6Sn6WtuXNm4+v4+wOyeWQMC5Wf3vaRARMAaiUqbv73NSxIlr2kqGz1xHH3SPv4djADJgDUSlTcPf3DIb0tMyWsba0tbcy2z33FgNiBWomHGye/RUezjPlcmImRsZDzt3dRDIgdqJV48LkaaGVvwYSK54PTQ8eVCg75zrSNjZ211Iw7vvEDA6IGaiUeQoP+z97dx7RRxnEAf+6FvlDobKEUysugY24KIlMMyzRbBmzTYbbFZEvgj42ZhYUEo4kzUdF/jP6BsGCUBI3bXBajhmlCzMS5kZGpGws6AoIMhPDSrgMKhfJ6vWvvzisglK2giVyyPvf7kDSX515Ik/ab53597nl4s1URxfUHaTaoHT0MAliDtMLEn01ugkCR0TqkSMYkPcsICGANVpHAxGDXHEkTSDYDtj+uNJ6x3+2M0Bke2/Lc3t0nNBp5wQv/AAAEjklEQVR/Mt64dfHq9XMlL9dc+OatEWdfnDl1546CZ556ceGsS5c/+b2tXq0K35axLyY6Cclmg0lnF9GwbS42CfNRZkoGfStMTI17CdnSasxl/+z8K14vW1p85lhh+dBIT825Ep73r8dF0WEMM133Q+WRQ29XvHcrIz2ntu79Cbd/ANTN5u9uNn/7Uv4br578Ispgudp4FsmJIJG9C24GcQZphQkvK9KyTVnX0naZpsKKCsrNpuTYGOvhg2WOoe6OO9cX9vK8d8/uExsTnyAIIiszXxRFx9BfUvuvTbUZablSfoWH66XeVqo1C8mJQuSsG5ZfxRmkFSZEfnEePTlIt4GJCY/rdIslfKMhLsqY0D/YunRAUvzishHhWr30ynimpcwaG7ebY5afOk6wbEVyEgnEQ+UKa1C3wgStIhiPXF9WxjNjd3Seejc7sHFq2rW0TRD3B6WHnRUEXq1eriKpVPJO+8nzgjYCJkTGGaQVJrSR5KSLQ/KIjIxK2Zi5L6c4sFGn27DGKRq1jiQpr9ez1MJyc0hWIjInPbzDzcD/B2mFCYtV6+hlkTws5s232+qtydtIcrF0MOzsM0Wt9Ruf1NsyPBI3YGvf9exiy53uG0g27Iw/qTdl6BHAF9StMJH9fLTUueA5Hslg544CQRC+/7GK4zzO0cFLP1Wfri4cGuld+6wn0/PaOxtb2xuk7Wu/XBi824Fk4+x3k3AXiDtIK3xIX1dbxwiSgfSj3qnSr1Rh2o8+Pfbhx0f6BloOHyr716p53q7j2U8frKs/LRW8pI7VgRdeQ4Frcq2rGRcTHQ+3gZiDuUPxUX/e0d/BpOUqcfLfjiv9hW8mGs1qBPAFfSt87C+KF3k0MTyFFKav+Z5KQ0JUYQ+q7FhJfFTt6HQZYoMXm13jjqqao0F3adURDBt8TrtYk7W0+HO0ft75IDdouyDwUk+fooJ8JlOtWUUF5WgVc272wMkYBHAHd4K4qX6915iot2wJstSNVCln2dmgZ3l9XBi9St2HILSa9Zzhj2GmV9vF876gaUWSVODQrUDdPw9qI9DRMlhLAn+QVrhxOZivKx3pexVRvXL2jrtskyUVqQgoANStcBMVr83Miey81o9wx86xzn6IKgWBvhWeulqmG74cSd+DbQ9ranTG1jpaUpFCUTDOSikgrbDVVD96u2HSvNlgSsZtQtG+3xyMmyuptC6NrQdKAGmFs4Gumfqzw7Sa3rTdgkcfZMw2Mdzjlt5KSTncACoOpBX+aqtso3aO1lLGhEhTsgGFJnvHyLRzTuDR1ixdXmEcAsoDaaUUF6XMuseJAqJoklJRKg1FqWn/lFj/tctFzE8hRYgo8AMj+tvnX1ZYODDgkMD2hb8V1w327wSfz8cJXsbnY3nBJxIUSkkL33/cgoBSQVopS0/bZGfTjNvJcR6RYwUpvB6cmmo5PwI30ELuiP7EWXnkfBOx4rCgV/vnEvfnU7CzKBpJJSkpocL1tClevT3fqDfAY4BKB2kFAAgN8OQNACA0QFoBAEIDpBUAIDRAWgEAQgOkFQAgNEBaAQBCw98AAAD///MEg/IAAAAGSURBVAMAktgwLbgoTE8AAAAASUVORK5CYII=\" style=\"width: 400px;\" />"
      ],
      "text/plain": [
       "<IPython.core.display.HTML object>"
      ]
     },
     "metadata": {},
     "output_type": "display_data"
    }
   ],
   "source": [
    "png = compiled_graph.get_graph().draw_mermaid_png()\n",
    "display_image(png)"
   ]
  },
  {
   "cell_type": "markdown",
   "id": "fc4d05ba-ed68-46a5-971a-491ffb93c17a",
   "metadata": {},
   "source": [
    "# Run the Agentic Workflow"
   ]
  },
  {
   "cell_type": "code",
   "execution_count": 20,
   "id": "06a6da3d-6f53-46b7-9bbb-09b30636ae07",
   "metadata": {
    "scrolled": true
   },
   "outputs": [
    {
     "data": {
      "text/html": [
       "\n",
       "        <div style=\"background-color: #228B22; color: white;\n",
       "                    padding: 4px 8px; font-family: monospace; border-radius: 4px;\">\n",
       "            ✅ 2025-09-12 15:03:59 - INFO - 🗣️ Ingested user question: Which machine learning classification algorithms are used in this project?\n",
       "        </div>\n",
       "        "
      ],
      "text/plain": [
       "<IPython.core.display.HTML object>"
      ]
     },
     "metadata": {},
     "output_type": "display_data"
    },
    {
     "data": {
      "text/html": [
       "\n",
       "        <div style=\"background-color: #228B22; color: white;\n",
       "                    padding: 4px 8px; font-family: monospace; border-radius: 4px;\">\n",
       "            ✅ 2025-09-12 15:03:59 - INFO - Function 'ingest_question' took 0.0009 seconds.\n",
       "        </div>\n",
       "        "
      ],
      "text/plain": [
       "<IPython.core.display.HTML object>"
      ]
     },
     "metadata": {},
     "output_type": "display_data"
    },
    {
     "data": {
      "text/html": [
       "\n",
       "        <div style=\"background-color: #228B22; color: white;\n",
       "                    padding: 4px 8px; font-family: monospace; border-radius: 4px;\">\n",
       "            ✅ 2025-09-12 15:04:00 - INFO - 🧠 Relevance response: yes → Relevant\n",
       "        </div>\n",
       "        "
      ],
      "text/plain": [
       "<IPython.core.display.HTML object>"
      ]
     },
     "metadata": {},
     "output_type": "display_data"
    },
    {
     "data": {
      "text/html": [
       "\n",
       "        <div style=\"background-color: #228B22; color: white;\n",
       "                    padding: 4px 8px; font-family: monospace; border-radius: 4px;\">\n",
       "            ✅ 2025-09-12 15:04:00 - INFO - Function 'check_relevance' took 0.5579 seconds.\n",
       "        </div>\n",
       "        "
      ],
      "text/plain": [
       "<IPython.core.display.HTML object>"
      ]
     },
     "metadata": {},
     "output_type": "display_data"
    },
    {
     "data": {
      "text/html": [
       "\n",
       "        <div style=\"background-color: #228B22; color: white;\n",
       "                    padding: 4px 8px; font-family: monospace; border-radius: 4px;\">\n",
       "            ✅ 2025-09-12 15:04:00 - INFO - 🧭 Cache miss for question: Which machine learning classification algorithms are used in this project?\n",
       "        </div>\n",
       "        "
      ],
      "text/plain": [
       "<IPython.core.display.HTML object>"
      ]
     },
     "metadata": {},
     "output_type": "display_data"
    },
    {
     "data": {
      "text/html": [
       "\n",
       "        <div style=\"background-color: #228B22; color: white;\n",
       "                    padding: 4px 8px; font-family: monospace; border-radius: 4px;\">\n",
       "            ✅ 2025-09-12 15:04:00 - INFO - Function 'check_memory' took 0.0007 seconds.\n",
       "        </div>\n",
       "        "
      ],
      "text/plain": [
       "<IPython.core.display.HTML object>"
      ]
     },
     "metadata": {},
     "output_type": "display_data"
    },
    {
     "data": {
      "text/html": [
       "\n",
       "        <div style=\"background-color: #228B22; color: white;\n",
       "                    padding: 4px 8px; font-family: monospace; border-radius: 4px;\">\n",
       "            ✅ 2025-09-12 15:04:00 - INFO - ✏️ Rewritten user question:\n",
       "→ What machine learning classification algorithms are mentioned or utilized in the project documentation?\n",
       "        </div>\n",
       "        "
      ],
      "text/plain": [
       "<IPython.core.display.HTML object>"
      ]
     },
     "metadata": {},
     "output_type": "display_data"
    },
    {
     "data": {
      "text/html": [
       "\n",
       "        <div style=\"background-color: #228B22; color: white;\n",
       "                    padding: 4px 8px; font-family: monospace; border-radius: 4px;\">\n",
       "            ✅ 2025-09-12 15:04:00 - INFO - Function 'rewrite_question' took 0.4343 seconds.\n",
       "        </div>\n",
       "        "
      ],
      "text/plain": [
       "<IPython.core.display.HTML object>"
      ]
     },
     "metadata": {},
     "output_type": "display_data"
    },
    {
     "data": {
      "text/html": [
       "\n",
       "        <div style=\"background-color: #228B22; color: white;\n",
       "                    padding: 4px 8px; font-family: monospace; border-radius: 4px;\">\n",
       "            ✅ 2025-09-12 15:04:00 - INFO - 📂 Scanning directory for documents: ../data/input/downloaded_repo/AI-Blueprints-main/data-science/classification-with-svm\n",
       "        </div>\n",
       "        "
      ],
      "text/plain": [
       "<IPython.core.display.HTML object>"
      ]
     },
     "metadata": {},
     "output_type": "display_data"
    },
    {
     "data": {
      "text/html": [
       "\n",
       "        <div style=\"background-color: #228B22; color: white;\n",
       "                    padding: 4px 8px; font-family: monospace; border-radius: 4px;\">\n",
       "            ✅ 2025-09-12 15:04:03 - INFO - ✅ Loaded 1 docs from README.md\n",
       "        </div>\n",
       "        "
      ],
      "text/plain": [
       "<IPython.core.display.HTML object>"
      ]
     },
     "metadata": {},
     "output_type": "display_data"
    },
    {
     "data": {
      "text/html": [
       "\n",
       "        <div style=\"background-color: #228B22; color: white;\n",
       "                    padding: 4px 8px; font-family: monospace; border-radius: 4px;\">\n",
       "            ✅ 2025-09-12 15:04:04 - INFO - ✅ Loaded 1 docs from requirements.txt\n",
       "        </div>\n",
       "        "
      ],
      "text/plain": [
       "<IPython.core.display.HTML object>"
      ]
     },
     "metadata": {},
     "output_type": "display_data"
    },
    {
     "data": {
      "text/html": [
       "\n",
       "        <div style=\"background-color: #228B22; color: white;\n",
       "                    padding: 4px 8px; font-family: monospace; border-radius: 4px;\">\n",
       "            ✅ 2025-09-12 15:04:04 - INFO - ✅ Loaded 1 docs from config.yaml\n",
       "        </div>\n",
       "        "
      ],
      "text/plain": [
       "<IPython.core.display.HTML object>"
      ]
     },
     "metadata": {},
     "output_type": "display_data"
    },
    {
     "data": {
      "text/html": [
       "\n",
       "        <div style=\"background-color: #228B22; color: white;\n",
       "                    padding: 4px 8px; font-family: monospace; border-radius: 4px;\">\n",
       "            ✅ 2025-09-12 15:04:04 - INFO - ✅ Loaded 1 docs from Streamilt.pdf\n",
       "        </div>\n",
       "        "
      ],
      "text/plain": [
       "<IPython.core.display.HTML object>"
      ]
     },
     "metadata": {},
     "output_type": "display_data"
    },
    {
     "data": {
      "text/html": [
       "\n",
       "        <div style=\"background-color: #228B22; color: white;\n",
       "                    padding: 4px 8px; font-family: monospace; border-radius: 4px;\">\n",
       "            ✅ 2025-09-12 15:04:04 - INFO - ✅ Loaded 2 docs from StreamlitUI.pdf\n",
       "        </div>\n",
       "        "
      ],
      "text/plain": [
       "<IPython.core.display.HTML object>"
      ]
     },
     "metadata": {},
     "output_type": "display_data"
    },
    {
     "data": {
      "text/html": [
       "\n",
       "        <div style=\"background-color: #228B22; color: white;\n",
       "                    padding: 4px 8px; font-family: monospace; border-radius: 4px;\">\n",
       "            ✅ 2025-09-12 15:04:04 - INFO - ⚠️ Unsupported file type: successful-streamlit-ui-for-classification-with-svm.png\n",
       "        </div>\n",
       "        "
      ],
      "text/plain": [
       "<IPython.core.display.HTML object>"
      ]
     },
     "metadata": {},
     "output_type": "display_data"
    },
    {
     "data": {
      "text/html": [
       "\n",
       "        <div style=\"background-color: #228B22; color: white;\n",
       "                    padding: 4px 8px; font-family: monospace; border-radius: 4px;\">\n",
       "            ✅ 2025-09-12 15:04:04 - INFO - ✅ Loaded 3 docs from Swagger UI.pdf\n",
       "        </div>\n",
       "        "
      ],
      "text/plain": [
       "<IPython.core.display.HTML object>"
      ]
     },
     "metadata": {},
     "output_type": "display_data"
    },
    {
     "data": {
      "text/html": [
       "\n",
       "        <div style=\"background-color: #228B22; color: white;\n",
       "                    padding: 4px 8px; font-family: monospace; border-radius: 4px;\">\n",
       "            ✅ 2025-09-12 15:04:04 - INFO - ⚠️ Unsupported file type: swagger-UI-classification-with-svm.png\n",
       "        </div>\n",
       "        "
      ],
      "text/plain": [
       "<IPython.core.display.HTML object>"
      ]
     },
     "metadata": {},
     "output_type": "display_data"
    },
    {
     "data": {
      "text/html": [
       "\n",
       "        <div style=\"background-color: #228B22; color: white;\n",
       "                    padding: 4px 8px; font-family: monospace; border-radius: 4px;\">\n",
       "            ✅ 2025-09-12 15:04:04 - INFO - ✅ Loaded 4 docs from SwaggerUI.pdf\n",
       "        </div>\n",
       "        "
      ],
      "text/plain": [
       "<IPython.core.display.HTML object>"
      ]
     },
     "metadata": {},
     "output_type": "display_data"
    },
    {
     "data": {
      "text/html": [
       "\n",
       "        <div style=\"background-color: #228B22; color: white;\n",
       "                    padding: 4px 8px; font-family: monospace; border-radius: 4px;\">\n",
       "            ✅ 2025-09-12 15:04:04 - INFO - ✅ Loaded 1 docs from register-model.ipynb\n",
       "        </div>\n",
       "        "
      ],
      "text/plain": [
       "<IPython.core.display.HTML object>"
      ]
     },
     "metadata": {},
     "output_type": "display_data"
    },
    {
     "data": {
      "text/html": [
       "\n",
       "        <div style=\"background-color: #228B22; color: white;\n",
       "                    padding: 4px 8px; font-family: monospace; border-radius: 4px;\">\n",
       "            ✅ 2025-09-12 15:04:04 - INFO - ✅ Loaded 1 docs from run-workflow.ipynb\n",
       "        </div>\n",
       "        "
      ],
      "text/plain": [
       "<IPython.core.display.HTML object>"
      ]
     },
     "metadata": {},
     "output_type": "display_data"
    },
    {
     "data": {
      "text/html": [
       "\n",
       "        <div style=\"background-color: #228B22; color: white;\n",
       "                    padding: 4px 8px; font-family: monospace; border-radius: 4px;\">\n",
       "            ✅ 2025-09-12 15:04:04 - INFO - ✅ Loaded 1 docs from run-workflow_test.py\n",
       "        </div>\n",
       "        "
      ],
      "text/plain": [
       "<IPython.core.display.HTML object>"
      ]
     },
     "metadata": {},
     "output_type": "display_data"
    },
    {
     "data": {
      "text/html": [
       "\n",
       "        <div style=\"background-color: #228B22; color: white;\n",
       "                    padding: 4px 8px; font-family: monospace; border-radius: 4px;\">\n",
       "            ✅ 2025-09-12 15:04:04 - INFO - ✅ Loaded 1 docs from main-cloud.py\n",
       "        </div>\n",
       "        "
      ],
      "text/plain": [
       "<IPython.core.display.HTML object>"
      ]
     },
     "metadata": {},
     "output_type": "display_data"
    },
    {
     "data": {
      "text/html": [
       "\n",
       "        <div style=\"background-color: #228B22; color: white;\n",
       "                    padding: 4px 8px; font-family: monospace; border-radius: 4px;\">\n",
       "            ✅ 2025-09-12 15:04:04 - INFO - ✅ Loaded 1 docs from main.py\n",
       "        </div>\n",
       "        "
      ],
      "text/plain": [
       "<IPython.core.display.HTML object>"
      ]
     },
     "metadata": {},
     "output_type": "display_data"
    },
    {
     "data": {
      "text/html": [
       "\n",
       "        <div style=\"background-color: #228B22; color: white;\n",
       "                    padding: 4px 8px; font-family: monospace; border-radius: 4px;\">\n",
       "            ✅ 2025-09-12 15:04:04 - INFO - ⚠️ Unsupported file type: pyproject.toml\n",
       "        </div>\n",
       "        "
      ],
      "text/plain": [
       "<IPython.core.display.HTML object>"
      ]
     },
     "metadata": {},
     "output_type": "display_data"
    },
    {
     "data": {
      "text/html": [
       "\n",
       "        <div style=\"background-color: #228B22; color: white;\n",
       "                    padding: 4px 8px; font-family: monospace; border-radius: 4px;\">\n",
       "            ✅ 2025-09-12 15:04:04 - INFO - ✅ Loaded 1 docs from README.md\n",
       "        </div>\n",
       "        "
      ],
      "text/plain": [
       "<IPython.core.display.HTML object>"
      ]
     },
     "metadata": {},
     "output_type": "display_data"
    },
    {
     "data": {
      "text/html": [
       "\n",
       "        <div style=\"background-color: #228B22; color: white;\n",
       "                    padding: 4px 8px; font-family: monospace; border-radius: 4px;\">\n",
       "            ✅ 2025-09-12 15:04:04 - INFO - ⚠️ Unsupported file type: AI-Studio.png\n",
       "        </div>\n",
       "        "
      ],
      "text/plain": [
       "<IPython.core.display.HTML object>"
      ]
     },
     "metadata": {},
     "output_type": "display_data"
    },
    {
     "data": {
      "text/html": [
       "\n",
       "        <div style=\"background-color: #228B22; color: white;\n",
       "                    padding: 4px 8px; font-family: monospace; border-radius: 4px;\">\n",
       "            ✅ 2025-09-12 15:04:04 - INFO - ⚠️ Unsupported file type: HP-Logo.png\n",
       "        </div>\n",
       "        "
      ],
      "text/plain": [
       "<IPython.core.display.HTML object>"
      ]
     },
     "metadata": {},
     "output_type": "display_data"
    },
    {
     "data": {
      "text/html": [
       "\n",
       "        <div style=\"background-color: #228B22; color: white;\n",
       "                    padding: 4px 8px; font-family: monospace; border-radius: 4px;\">\n",
       "            ✅ 2025-09-12 15:04:04 - INFO - ⚠️ Unsupported file type: Z-HP-logo.png\n",
       "        </div>\n",
       "        "
      ],
      "text/plain": [
       "<IPython.core.display.HTML object>"
      ]
     },
     "metadata": {},
     "output_type": "display_data"
    },
    {
     "data": {
      "text/html": [
       "\n",
       "        <div style=\"background-color: #228B22; color: white;\n",
       "                    padding: 4px 8px; font-family: monospace; border-radius: 4px;\">\n",
       "            ✅ 2025-09-12 15:04:04 - INFO - Function 'load_input_files' took 3.9570 seconds.\n",
       "        </div>\n",
       "        "
      ],
      "text/plain": [
       "<IPython.core.display.HTML object>"
      ]
     },
     "metadata": {},
     "output_type": "display_data"
    },
    {
     "data": {
      "text/html": [
       "\n",
       "        <div style=\"background-color: #228B22; color: white;\n",
       "                    padding: 4px 8px; font-family: monospace; border-radius: 4px;\">\n",
       "            ✅ 2025-09-12 15:04:04 - INFO - 📑 Starting chunking for 19 loaded documents\n",
       "        </div>\n",
       "        "
      ],
      "text/plain": [
       "<IPython.core.display.HTML object>"
      ]
     },
     "metadata": {},
     "output_type": "display_data"
    },
    {
     "data": {
      "text/html": [
       "\n",
       "        <div style=\"background-color: #228B22; color: white;\n",
       "                    padding: 4px 8px; font-family: monospace; border-radius: 4px;\">\n",
       "            ✅ 2025-09-12 15:04:05 - INFO - 🧩 Created 149 total chunks (size=4096, overlap=256)\n",
       "        </div>\n",
       "        "
      ],
      "text/plain": [
       "<IPython.core.display.HTML object>"
      ]
     },
     "metadata": {},
     "output_type": "display_data"
    },
    {
     "data": {
      "text/html": [
       "\n",
       "        <div style=\"background-color: #228B22; color: white;\n",
       "                    padding: 4px 8px; font-family: monospace; border-radius: 4px;\">\n",
       "            ✅ 2025-09-12 15:04:05 - INFO - Function 'create_chunks' took 0.8131 seconds.\n",
       "        </div>\n",
       "        "
      ],
      "text/plain": [
       "<IPython.core.display.HTML object>"
      ]
     },
     "metadata": {},
     "output_type": "display_data"
    },
    {
     "data": {
      "text/html": [
       "\n",
       "        <div style=\"background-color: #228B22; color: white;\n",
       "                    padding: 4px 8px; font-family: monospace; border-radius: 4px;\">\n",
       "            ✅ 2025-09-12 15:04:05 - INFO - 🧩 Generating answers for 149 chunks using rewritten question: 'What machine learning classification algorithms are mentioned or utilized in the project documentation?'\n",
       "        </div>\n",
       "        "
      ],
      "text/plain": [
       "<IPython.core.display.HTML object>"
      ]
     },
     "metadata": {},
     "output_type": "display_data"
    },
    {
     "name": "stderr",
     "output_type": "stream",
     "text": [
      "🔁 Processing each chunk: 100%|██████████| 149/149 [02:54<00:00,  1.17s/it, group=✅ Chunk 149 response length: 28 chars] \n"
     ]
    },
    {
     "data": {
      "text/html": [
       "\n",
       "        <div style=\"background-color: #228B22; color: white;\n",
       "                    padding: 4px 8px; font-family: monospace; border-radius: 4px;\">\n",
       "            ✅ 2025-09-12 15:07:00 - INFO - 🧠 Finished generating 149 chunk-level responses.\n",
       "        </div>\n",
       "        "
      ],
      "text/plain": [
       "<IPython.core.display.HTML object>"
      ]
     },
     "metadata": {},
     "output_type": "display_data"
    },
    {
     "data": {
      "text/html": [
       "\n",
       "        <div style=\"background-color: #228B22; color: white;\n",
       "                    padding: 4px 8px; font-family: monospace; border-radius: 4px;\">\n",
       "            ✅ 2025-09-12 15:07:00 - INFO - Function 'generate_answer_per_chunks' took 174.9066 seconds.\n",
       "        </div>\n",
       "        "
      ],
      "text/plain": [
       "<IPython.core.display.HTML object>"
      ]
     },
     "metadata": {},
     "output_type": "display_data"
    },
    {
     "data": {
      "text/html": [
       "\n",
       "        <div style=\"background-color: #228B22; color: white;\n",
       "                    padding: 4px 8px; font-family: monospace; border-radius: 4px;\">\n",
       "            ✅ 2025-09-12 15:07:00 - INFO - 🧠 Synthesizing across 1 chunk groups\n",
       "        </div>\n",
       "        "
      ],
      "text/plain": [
       "<IPython.core.display.HTML object>"
      ]
     },
     "metadata": {},
     "output_type": "display_data"
    },
    {
     "data": {
      "text/html": [
       "\n",
       "        <div style=\"background-color: #228B22; color: white;\n",
       "                    padding: 4px 8px; font-family: monospace; border-radius: 4px;\">\n",
       "            ✅ 2025-09-12 15:07:00 - INFO - 🧠 Synthesizing final answer from 149 chunk responses\n",
       "        </div>\n",
       "        "
      ],
      "text/plain": [
       "<IPython.core.display.HTML object>"
      ]
     },
     "metadata": {},
     "output_type": "display_data"
    },
    {
     "name": "stderr",
     "output_type": "stream",
     "text": [
      "🔁 Processing each grouped chunk answers: 100%|██████████| 1/1 [00:10<00:00, 10.91s/it, group=🧠 Synthesized partial answer (1/1)]\n"
     ]
    },
    {
     "data": {
      "text/html": [
       "\n",
       "        <div style=\"background-color: #228B22; color: white;\n",
       "                    padding: 4px 8px; font-family: monospace; border-radius: 4px;\">\n",
       "            ✅ 2025-09-12 15:07:11 - INFO - ✅ Synthesized 1 group-level summaries.\n",
       "        </div>\n",
       "        "
      ],
      "text/plain": [
       "<IPython.core.display.HTML object>"
      ]
     },
     "metadata": {},
     "output_type": "display_data"
    },
    {
     "data": {
      "text/html": [
       "\n",
       "        <div style=\"background-color: #228B22; color: white;\n",
       "                    padding: 4px 8px; font-family: monospace; border-radius: 4px;\">\n",
       "            ✅ 2025-09-12 15:07:11 - INFO - Function 'generate_synthetized_answer' took 10.9179 seconds.\n",
       "        </div>\n",
       "        "
      ],
      "text/plain": [
       "<IPython.core.display.HTML object>"
      ]
     },
     "metadata": {},
     "output_type": "display_data"
    },
    {
     "data": {
      "text/html": [
       "\n",
       "        <div style=\"background-color: #228B22; color: white;\n",
       "                    padding: 4px 8px; font-family: monospace; border-radius: 4px;\">\n",
       "            ✅ 2025-09-12 15:07:11 - INFO - 💾 Stored question-answer pair in memory (key: which machine learning classification algorithms are used in this project?)\n",
       "        </div>\n",
       "        "
      ],
      "text/plain": [
       "<IPython.core.display.HTML object>"
      ]
     },
     "metadata": {},
     "output_type": "display_data"
    },
    {
     "data": {
      "text/html": [
       "\n",
       "        <div style=\"background-color: #228B22; color: white;\n",
       "                    padding: 4px 8px; font-family: monospace; border-radius: 4px;\">\n",
       "            ✅ 2025-09-12 15:07:11 - INFO - Function 'update_memory' took 0.0173 seconds.\n",
       "        </div>\n",
       "        "
      ],
      "text/plain": [
       "<IPython.core.display.HTML object>"
      ]
     },
     "metadata": {},
     "output_type": "display_data"
    },
    {
     "name": "stdout",
     "output_type": "stream",
     "text": [
      "\n",
      "🔚 === Final Answer ===\n",
      "\n",
      "# 🧠 Synthesized partial answer (1/1)\n",
      "\n",
      "# Machine Learning Classification Algorithms\n",
      "## Overview\n",
      "The machine learning classification algorithms mentioned or utilized in the project documentation are:\n",
      "\n",
      "### 1. Train/Test Split\n",
      "This is a technique used to evaluate the performance of a machine learning model. It involves splitting the dataset into two parts: a training set and a test set.\n",
      "\n",
      "### 2. StandardScaler\n",
      "This is a feature scaling algorithm used to scale the features of a dataset to have a mean of 0 and a standard deviation of 1. This is useful for many machine learning algorithms that assume features are on the same scale.\n",
      "\n",
      "### 3. Logistic Regression (LR)\n",
      "Logistic regression is a type of regression analysis that is used to model the relationship between a dependent variable and one or more independent variables.\n",
      "\n",
      "### 4. Linear Discriminant Analysis (LDA)\n",
      "Linear discriminant analysis (LDA) is a type of linear regression analysis that is used to model the relationship between a dependent variable and one or more independent variables.\n",
      "\n",
      "### 5. K-Nearest Neighbors (KNN)\n",
      "K-nearest neighbors (KNN) is a type of supervised learning algorithm that is used to classify new data points based on their similarity to existing data points.\n",
      "\n",
      "### 6. Classification and Regression Trees (CART)\n",
      "Classification and regression trees (CART) is a type of decision tree algorithm that is used to classify new data points based on their similarity to existing data points.\n",
      "\n",
      "### 7. Gaussian Naive Bayes (NB)\n",
      "Gaussian naive Bayes (NB) is a type of supervised learning algorithm that is used to classify new data points based on their similarity to existing data points.\n",
      "\n",
      "### 8. Support Vector Machines (SVM)\n",
      "Support vector machines (SVM) is a type of supervised learning algorithm that is used to classify new data points based on their similarity to existing data points.\n",
      "\n",
      "========================\n",
      "\n"
     ]
    },
    {
     "data": {
      "text/html": [
       "\n",
       "        <div style=\"background-color: #228B22; color: white;\n",
       "                    padding: 4px 8px; font-family: monospace; border-radius: 4px;\">\n",
       "            ✅ 2025-09-12 15:07:11 - INFO - 📤 Delivered final answer (1865 characters)\n",
       "        </div>\n",
       "        "
      ],
      "text/plain": [
       "<IPython.core.display.HTML object>"
      ]
     },
     "metadata": {},
     "output_type": "display_data"
    },
    {
     "data": {
      "text/html": [
       "\n",
       "        <div style=\"background-color: #228B22; color: white;\n",
       "                    padding: 4px 8px; font-family: monospace; border-radius: 4px;\">\n",
       "            ✅ 2025-09-12 15:07:11 - INFO - Function 'output_answer' took 0.0024 seconds.\n",
       "        </div>\n",
       "        "
      ],
      "text/plain": [
       "<IPython.core.display.HTML object>"
      ]
     },
     "metadata": {},
     "output_type": "display_data"
    },
    {
     "name": "stdout",
     "output_type": "stream",
     "text": [
      "CPU times: user 2min 49s, sys: 23.9 s, total: 3min 13s\n",
      "Wall time: 3min 11s\n"
     ]
    }
   ],
   "source": [
    "%%time\n",
    "\n",
    "final_graph = compiled_graph.invoke(\n",
    "        input={\n",
    "            \"topic\": TOPIC,\n",
    "            \"question\": QUESTION,\n",
    "            \"input_path\": INPUT_PATH, \n",
    "            \"memory\": memory, \n",
    "            \"llm\": llm,\n",
    "            \"messages\": [],\n",
    "        },\n",
    "    )"
   ]
  },
  {
   "cell_type": "markdown",
   "id": "4bbaea47-4f85-4601-9ae3-6f54d809204e",
   "metadata": {},
   "source": [
    "# Generated Answer"
   ]
  },
  {
   "cell_type": "code",
   "execution_count": 21,
   "id": "411d8847-ee43-4f83-8c5c-054118aa0626",
   "metadata": {},
   "outputs": [
    {
     "data": {
      "text/markdown": [
       "# 🧠 Synthesized partial answer (1/1)\n",
       "\n",
       "# Machine Learning Classification Algorithms\n",
       "## Overview\n",
       "The machine learning classification algorithms mentioned or utilized in the project documentation are:\n",
       "\n",
       "### 1. Train/Test Split\n",
       "This is a technique used to evaluate the performance of a machine learning model. It involves splitting the dataset into two parts: a training set and a test set.\n",
       "\n",
       "### 2. StandardScaler\n",
       "This is a feature scaling algorithm used to scale the features of a dataset to have a mean of 0 and a standard deviation of 1. This is useful for many machine learning algorithms that assume features are on the same scale.\n",
       "\n",
       "### 3. Logistic Regression (LR)\n",
       "Logistic regression is a type of regression analysis that is used to model the relationship between a dependent variable and one or more independent variables.\n",
       "\n",
       "### 4. Linear Discriminant Analysis (LDA)\n",
       "Linear discriminant analysis (LDA) is a type of linear regression analysis that is used to model the relationship between a dependent variable and one or more independent variables.\n",
       "\n",
       "### 5. K-Nearest Neighbors (KNN)\n",
       "K-nearest neighbors (KNN) is a type of supervised learning algorithm that is used to classify new data points based on their similarity to existing data points.\n",
       "\n",
       "### 6. Classification and Regression Trees (CART)\n",
       "Classification and regression trees (CART) is a type of decision tree algorithm that is used to classify new data points based on their similarity to existing data points.\n",
       "\n",
       "### 7. Gaussian Naive Bayes (NB)\n",
       "Gaussian naive Bayes (NB) is a type of supervised learning algorithm that is used to classify new data points based on their similarity to existing data points.\n",
       "\n",
       "### 8. Support Vector Machines (SVM)\n",
       "Support vector machines (SVM) is a type of supervised learning algorithm that is used to classify new data points based on their similarity to existing data points."
      ],
      "text/plain": [
       "<IPython.core.display.Markdown object>"
      ]
     },
     "metadata": {},
     "output_type": "display_data"
    }
   ],
   "source": [
    "answer = final_graph.get('answer')\n",
    "display(Markdown(answer))"
   ]
  },
  {
   "cell_type": "markdown",
   "id": "16159a90-d40d-4d20-b9e6-57cb3bd14cf3",
   "metadata": {},
   "source": [
    "# Message History"
   ]
  },
  {
   "cell_type": "code",
   "execution_count": 22,
   "id": "370f4cac-c92f-4f8b-b2e5-10cd12e08a87",
   "metadata": {
    "scrolled": true
   },
   "outputs": [
    {
     "name": "stdout",
     "output_type": "stream",
     "text": [
      "[\n",
      "    {\n",
      "        \"role\": \"developer\",\n",
      "        \"content\": \"User submitted a question.\"\n",
      "    },\n",
      "    {\n",
      "        \"role\": \"user\",\n",
      "        \"content\": \"Which machine learning classification algorithms are used in this project?\"\n",
      "    },\n",
      "    {\n",
      "        \"role\": \"developer\",\n",
      "        \"content\": \"\\ud83e\\udde0 Relevance check result:\"\n",
      "    },\n",
      "    {\n",
      "        \"role\": \"assistant\",\n",
      "        \"content\": \"yes\"\n",
      "    },\n",
      "    {\n",
      "        \"role\": \"developer\",\n",
      "        \"content\": \"\\ud83e\\udded No cached answer found for question: 'Which machine learning classification algorithms are used in this project?'\"\n",
      "    },\n",
      "    {\n",
      "        \"role\": \"developer\",\n",
      "        \"content\": \"\\u270f\\ufe0f Rewritten user question:\"\n",
      "    },\n",
      "    {\n",
      "        \"role\": \"assistant\",\n",
      "        \"content\": \"What machine learning classification algorithms are mentioned or utilized in the project documentation?\"\n",
      "    },\n",
      "    {\n",
      "        \"role\": \"developer\",\n",
      "        \"content\": \"\\ud83d\\udcc4 Loaded documents from: ../data/input/downloaded_repo/AI-Blueprints-main/data-science/classification-with-svm\"\n",
      "    },\n",
      "    {\n",
      "        \"role\": \"developer\",\n",
      "        \"content\": \"\\ud83e\\udde9 Chunked 19 documents into 149 chunks (size=4096, overlap=256)\"\n",
      "    },\n",
      "    {\n",
      "        \"role\": \"developer\",\n",
      "        \"content\": \"\\ud83e\\udde0 Processed 149 chunks for question: 'What machine learning classification algorithms are mentioned or utilized in the project documentation?'\"\n",
      "    },\n",
      "    {\n",
      "        \"role\": \"developer\",\n",
      "        \"content\": \"\\u2705 Synthesized 1 group-level summaries.\"\n",
      "    },\n",
      "    {\n",
      "        \"role\": \"assistant\",\n",
      "        \"content\": \"# \\ud83e\\udde0 Synthesized partial answer (1/1)\\n\\n# Machine Learning Classification Algorithms\\n## Overview\\nThe machine learning classification algorithms mentioned or utilized in the project documentation are:\\n\\n### 1. Train/Test Split\\nThis is a technique used to evaluate the performance of a machine learning model. It involves splitting the dataset into two parts: a training set and a test set.\\n\\n### 2. StandardScaler\\nThis is a feature scaling algorithm used to scale the features of a dataset to have a mean of 0 and a standard deviation of 1. This is useful for many machine learning algorithms that assume features are on the same scale.\\n\\n### 3. Logistic Regression (LR)\\nLogistic regression is a type of regression analysis that is used to model the relationship between a dependent variable and one or more independent variables.\\n\\n### 4. Linear Discriminant Analysis (LDA)\\nLinear discriminant analysis (LDA) is a type of linear regression analysis that is used to model the relationship between a dependent variable and one or more independent variables.\\n\\n### 5. K-Nearest Neighbors (KNN)\\nK-nearest neighbors (KNN) is a type of supervised learning algorithm that is used to classify new data points based on their similarity to existing data points.\\n\\n### 6. Classification and Regression Trees (CART)\\nClassification and regression trees (CART) is a type of decision tree algorithm that is used to classify new data points based on their similarity to existing data points.\\n\\n### 7. Gaussian Naive Bayes (NB)\\nGaussian naive Bayes (NB) is a type of supervised learning algorithm that is used to classify new data points based on their similarity to existing data points.\\n\\n### 8. Support Vector Machines (SVM)\\nSupport vector machines (SVM) is a type of supervised learning algorithm that is used to classify new data points based on their similarity to existing data points.\"\n",
      "    },\n",
      "    {\n",
      "        \"role\": \"developer\",\n",
      "        \"content\": \"\\ud83d\\udcbe Stored answer in memory for question key: 'which machine learning classification algorithms are used in this project?'\"\n",
      "    },\n",
      "    {\n",
      "        \"role\": \"developer\",\n",
      "        \"content\": \"\\ud83d\\udce4 Final answer delivered: # \\ud83e\\udde0 Synthesized partial answer (1/1)\\n\\n# Machine Learning Classification Algorithms\\n## Overview\\nThe machine learning classification algorithms mentioned or utilized in the project documentation are:\\n\\n### 1. Train/Test Split\\nThis is a technique used to evaluate the performance of a machine learning model. It involves splitting the dataset into two parts: a training set and a test set.\\n\\n### 2. StandardScaler\\nThis is a feature scaling algorithm used to scale the features of a dataset to have a mean of 0 and a standard deviation of 1. This is useful for many machine learning algorithms that assume features are on the same scale.\\n\\n### 3. Logistic Regression (LR)\\nLogistic regression is a type of regression analysis that is used to model the relationship between a dependent variable and one or more independent variables.\\n\\n### 4. Linear Discriminant Analysis (LDA)\\nLinear discriminant analysis (LDA) is a type of linear regression analysis that is used to model the relationship between a dependent variable and one or more independent variables.\\n\\n### 5. K-Nearest Neighbors (KNN)\\nK-nearest neighbors (KNN) is a type of supervised learning algorithm that is used to classify new data points based on their similarity to existing data points.\\n\\n### 6. Classification and Regression Trees (CART)\\nClassification and regression trees (CART) is a type of decision tree algorithm that is used to classify new data points based on their similarity to existing data points.\\n\\n### 7. Gaussian Naive Bayes (NB)\\nGaussian naive Bayes (NB) is a type of supervised learning algorithm that is used to classify new data points based on their similarity to existing data points.\\n\\n### 8. Support Vector Machines (SVM)\\nSupport vector machines (SVM) is a type of supervised learning algorithm that is used to classify new data points based on their similarity to existing data points.\"\n",
      "    }\n",
      "]\n"
     ]
    }
   ],
   "source": [
    "pretty_json = json.dumps(final_graph.get('messages'), indent=4)\n",
    "print(pretty_json)"
   ]
  },
  {
   "cell_type": "code",
   "execution_count": 23,
   "id": "1723e941-2523-4db6-ab89-fedffbc0be0b",
   "metadata": {},
   "outputs": [
    {
     "data": {
      "text/html": [
       "\n",
       "        <div style=\"background-color: #228B22; color: white;\n",
       "                    padding: 4px 8px; font-family: monospace; border-radius: 4px;\">\n",
       "            ✅ 2025-09-12 15:07:11 - INFO - ⏱️ Total execution time: 4m 52.26s\n",
       "        </div>\n",
       "        "
      ],
      "text/plain": [
       "<IPython.core.display.HTML object>"
      ]
     },
     "metadata": {},
     "output_type": "display_data"
    },
    {
     "data": {
      "text/html": [
       "\n",
       "        <div style=\"background-color: #228B22; color: white;\n",
       "                    padding: 4px 8px; font-family: monospace; border-radius: 4px;\">\n",
       "            ✅ 2025-09-12 15:07:11 - INFO - ✅ Notebook execution completed successfully.\n",
       "        </div>\n",
       "        "
      ],
      "text/plain": [
       "<IPython.core.display.HTML object>"
      ]
     },
     "metadata": {},
     "output_type": "display_data"
    }
   ],
   "source": [
    "end_time: float = time.time()\n",
    "elapsed_time: float = end_time - start_time\n",
    "elapsed_minutes: int = int(elapsed_time // 60)\n",
    "elapsed_seconds: float = elapsed_time % 60\n",
    "\n",
    "logger.info(f\"⏱️ Total execution time: {elapsed_minutes}m {elapsed_seconds:.2f}s\")\n",
    "logger.info(\"✅ Notebook execution completed successfully.\")"
   ]
  },
  {
   "cell_type": "markdown",
   "id": "d0c45acb",
   "metadata": {},
   "source": [
    "Built with ❤️ using [**HP AI Studio**](https://hp.com/ai-studio)."
   ]
  }
 ],
 "metadata": {
  "kernelspec": {
   "display_name": "Python [conda env:base] *",
   "language": "python",
   "name": "conda-base-py"
  },
  "language_info": {
   "codemirror_mode": {
    "name": "ipython",
    "version": 3
   },
   "file_extension": ".py",
   "mimetype": "text/x-python",
   "name": "python",
   "nbconvert_exporter": "python",
   "pygments_lexer": "ipython3",
   "version": "3.12.7"
  }
 },
 "nbformat": 4,
 "nbformat_minor": 5
}
