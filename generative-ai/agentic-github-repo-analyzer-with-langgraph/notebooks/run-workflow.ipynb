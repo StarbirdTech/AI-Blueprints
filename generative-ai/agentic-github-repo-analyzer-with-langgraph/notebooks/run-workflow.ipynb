{
 "cells": [
  {
   "cell_type": "markdown",
   "id": "c5f8d3ca-e260-4d56-967d-dc4feb92e2e4",
   "metadata": {},
   "source": [
    "<h1 style=\\\"text-align: center; font-size: 50px;\\\"> ⚙️ Run Workflow </h1>"
   ]
  },
  {
   "cell_type": "markdown",
   "id": "74217537-b174-49e0-b746-f3c53b5b0043",
   "metadata": {},
   "source": [
    "📘 Project Overview: \n",
    " This notebook demonstrates a modular architecture for answering natural language questions \n",
    " over a GitHub Repo using only local and open-source models (e.g., LLaMA.cpp).\n",
    " The system processes long documents chunk-by-chunk and synthesizes a final answer using a multi-step LLM workflow."
   ]
  },
  {
   "cell_type": "markdown",
   "id": "38f858ca",
   "metadata": {},
   "source": [
    "# Notebook Overview\n",
    "\n",
    "- Start Execution\n",
    "- Define User Constants\n",
    "- Install and Import Libraries\n",
    "- Configure Settings\n",
    "- Verify Assets\n",
    "- KV Memory\n",
    "- Download the GitHub Repo\n",
    "- LLM Setup\n",
    "- State Model\n",
    "- Node Functions\n",
    "- Graph Definition\n",
    "- Graph Visualization\n",
    "- Generated Answer\n",
    "- Message History"
   ]
  },
  {
   "cell_type": "markdown",
   "id": "01a533df-f921-4f06-9197-9e33b9e5c799",
   "metadata": {},
   "source": [
    "# Start Execution"
   ]
  },
  {
   "cell_type": "code",
   "execution_count": 1,
   "id": "490becc1-2ff2-4273-a49f-0fdacf30c2c6",
   "metadata": {},
   "outputs": [],
   "source": [
    "# Standard library imports\n",
    "import os  # Provides OS-related utilities\n",
    "import sys  # Allows manipulation of Python runtime environment\n",
    "import time  # Enables time-based operations\n",
    "from pathlib import Path  # Object-oriented file system paths\n",
    "\n",
    "# Extend sys.path to allow importing from parent directory\n",
    "sys.path.append(os.path.abspath(os.path.join(os.getcwd(), \"..\")))\n",
    "\n",
    "# Local application-specific imports\n",
    "from src.simple_kv_memory import SimpleKVMemory  # In-memory key-value store for agent state\n",
    "from src.utils import (  # Utility functions for logging, LLM I/O, and schema generation\n",
    "    display_image,\n",
    "    get_response_from_llm,\n",
    "    json_schema_from_type,\n",
    "    log_timing,\n",
    "    logger,\n",
    ")"
   ]
  },
  {
   "cell_type": "code",
   "execution_count": 2,
   "id": "16d77c68-e160-4c24-9844-de484272733e",
   "metadata": {},
   "outputs": [
    {
     "data": {
      "text/html": [
       "\n",
       "        <div style=\"background-color: #228B22; color: white;\n",
       "                    padding: 4px 8px; font-family: monospace; border-radius: 4px;\">\n",
       "            ✅ 2025-08-12 21:36:11 - INFO - Notebook execution started.\n",
       "        </div>\n",
       "        "
      ],
      "text/plain": [
       "<IPython.core.display.HTML object>"
      ]
     },
     "metadata": {},
     "output_type": "display_data"
    }
   ],
   "source": [
    "start_time = time.time()  \n",
    "logger.info(\"Notebook execution started.\")"
   ]
  },
  {
   "cell_type": "markdown",
   "id": "84444adc-85c6-45cd-8769-7159e29fbace",
   "metadata": {},
   "source": [
    "# Define User Constants"
   ]
  },
  {
   "cell_type": "code",
   "execution_count": 3,
   "id": "a21d3385-704e-4107-ae45-749decdd305d",
   "metadata": {},
   "outputs": [],
   "source": [
    "TOPIC: str = \"Classification Algorithms\"  \n",
    "QUESTION: str = \"Which machine learning classification algorithms are used in this project?\"\n",
    "REPO_URL: str = \"https://github.com/HPInc/AI-Blueprints\" \n",
    "FOLDER_PATH: Path = Path(\"data-science/classification-with-svm\") "
   ]
  },
  {
   "cell_type": "markdown",
   "id": "f8b7b5e0-2acd-4729-b8a2-03e81cf0df2d",
   "metadata": {},
   "source": [
    "# Install and Import Libraries"
   ]
  },
  {
   "cell_type": "code",
   "execution_count": 4,
   "id": "1c533cc2-9ca5-442a-9409-bbad88be3eb4",
   "metadata": {
    "scrolled": true
   },
   "outputs": [
    {
     "name": "stdout",
     "output_type": "stream",
     "text": [
      "Note: you may need to restart the kernel to use updated packages.\n",
      "CPU times: user 145 ms, sys: 35.1 ms, total: 180 ms\n",
      "Wall time: 13.1 s\n"
     ]
    }
   ],
   "source": [
    "%%time\n",
    "\n",
    "%pip install -r ../requirements.txt --quiet"
   ]
  },
  {
   "cell_type": "code",
   "execution_count": 5,
   "id": "8b95da1c-2715-497b-b1e0-2aaefe09dc04",
   "metadata": {},
   "outputs": [],
   "source": [
    "from __future__ import annotations  # Enables postponed evaluation of annotations (PEP 563)\n",
    "\n",
    "# ─────── Standard Library Imports ───────\n",
    "import base64                        # Encoding and decoding binary data\n",
    "import functools                     # Higher-order functions and decorators\n",
    "import io                            # Core tools for stream handling\n",
    "import json                          # JSON serialization and deserialization\n",
    "import logging                       # Logging configuration\n",
    "import multiprocessing               # Multi-process parallelism\n",
    "import os                            # OS-level operations\n",
    "import shutil                        # File and directory operations\n",
    "import sys                           # System-specific parameters and functions\n",
    "import time                          # Time tracking utilities\n",
    "import warnings                      # Warning control\n",
    "import zipfile                       # Archive file handling\n",
    "from collections import namedtuple   # Lightweight immutable object containers\n",
    "from pathlib import Path             # Filesystem path manipulation\n",
    "from typing import (\n",
    "    Any, Dict, List, Literal, Optional, TypedDict  # Static type hints\n",
    ")\n",
    "\n",
    "# ─────── Third-Party Packages ───────\n",
    "import requests                      # HTTP requests for external resources\n",
    "import yaml  # YAML parsing and serialization\n",
    "from IPython.display import Markdown, display  # IPython utilities for notebook output formatting\n",
    "from tqdm import tqdm  # Visual progress bar for loops\n",
    "\n",
    "# ─────── LangChain Core & Community ───────\n",
    "from langchain.docstore.document import Document  # Core document abstraction\n",
    "from langchain.text_splitter import RecursiveCharacterTextSplitter  # Text chunking utility\n",
    "from langchain_community.document_loaders import (  # Loaders for various document types\n",
    "    CSVLoader,\n",
    "    PyPDFLoader,\n",
    "    TextLoader,\n",
    "    UnstructuredExcelLoader,\n",
    "    UnstructuredMarkdownLoader,\n",
    "    UnstructuredWordDocumentLoader,\n",
    ")\n",
    "from langchain_community.llms import LlamaCpp  # Integration for local LlamaCpp models\n",
    "\n",
    "# ─────── LangGraph ───────\n",
    "from langgraph.graph import END, START, StateGraph  # Graph components for stateful workflows"
   ]
  },
  {
   "cell_type": "markdown",
   "id": "14909251-86d2-4eff-b15e-4a8c4cbddc61",
   "metadata": {},
   "source": [
    "# Configure Settings"
   ]
  },
  {
   "cell_type": "code",
   "execution_count": 6,
   "id": "27be6c46",
   "metadata": {},
   "outputs": [],
   "source": [
    "# Suppress Python warnings\n",
    "warnings.filterwarnings(\"ignore\")"
   ]
  },
  {
   "cell_type": "code",
   "execution_count": 7,
   "id": "530e293b-873e-47b3-8747-0c73d60f55a2",
   "metadata": {},
   "outputs": [],
   "source": [
    "REPO_NAME = Path(REPO_URL.split('/')[-1] + '-main')"
   ]
  },
  {
   "cell_type": "code",
   "execution_count": 8,
   "id": "5b49f4d0-7662-43ce-ae95-59c13af024bc",
   "metadata": {},
   "outputs": [],
   "source": [
    "INPUT_PATH: Path = Path(\"../data/input/downloaded_repo\") / REPO_NAME /  FOLDER_PATH\n",
    "MEMORY_PATH: Path = Path(\"../data/memory\")   \n",
    "MODEL_PATH = \"/home/jovyan/datafabric/meta-llama3.1-8b-Q8/Meta-Llama-3.1-8B-Instruct-Q8_0.gguf\"\n",
    "CONTEXT_WINDOW = 8192\n",
    "MAX_TOKENS = CONTEXT_WINDOW // 8\n",
    "CHUNK_SIZE = CONTEXT_WINDOW // 2\n",
    "CHUNK_OVERLAP = CHUNK_SIZE // 16"
   ]
  },
  {
   "cell_type": "code",
   "execution_count": 9,
   "id": "92c8dc01-e50f-4077-9056-b966895ad8ab",
   "metadata": {},
   "outputs": [
    {
     "data": {
      "text/html": [
       "\n",
       "        <div style=\"background-color: #228B22; color: white;\n",
       "                    padding: 4px 8px; font-family: monospace; border-radius: 4px;\">\n",
       "            ✅ 2025-08-12 21:36:25 - INFO - Notebook execution started.\n",
       "        </div>\n",
       "        "
      ],
      "text/plain": [
       "<IPython.core.display.HTML object>"
      ]
     },
     "metadata": {},
     "output_type": "display_data"
    }
   ],
   "source": [
    "logger.info('Notebook execution started.')"
   ]
  },
  {
   "cell_type": "markdown",
   "id": "a8dad079",
   "metadata": {},
   "source": [
    "## Verify Assets"
   ]
  },
  {
   "cell_type": "code",
   "execution_count": 10,
   "id": "98593ec3",
   "metadata": {},
   "outputs": [],
   "source": [
    "def log_asset_status(asset_path: str, asset_name: str) -> None:\n",
    "    \"\"\"\n",
    "    Logs the status of a given asset based on its existence.\n",
    "\n",
    "    Parameters:\n",
    "        asset_path (str): File or directory path to check.\n",
    "        asset_name (str): Name of the asset for logging context.\n",
    "    \"\"\"\n",
    "    if Path(asset_path).exists():\n",
    "        logger.info(f\"{asset_name} is properly configured.\")\n",
    "    else:\n",
    "        logger.info(f\"{asset_name} is not properly configured. Please ensure the required asset is correctly configured in your AI Studio project according to the README file.\")"
   ]
  },
  {
   "cell_type": "code",
   "execution_count": 11,
   "id": "61dd389c-4a0c-421f-9f29-fe9080aec9bd",
   "metadata": {},
   "outputs": [
    {
     "data": {
      "text/html": [
       "\n",
       "        <div style=\"background-color: #228B22; color: white;\n",
       "                    padding: 4px 8px; font-family: monospace; border-radius: 4px;\">\n",
       "            ✅ 2025-08-12 21:36:25 - INFO - Input Data is not properly configured. Please ensure the required asset is correctly configured in your AI Studio project according to the README file.\n",
       "        </div>\n",
       "        "
      ],
      "text/plain": [
       "<IPython.core.display.HTML object>"
      ]
     },
     "metadata": {},
     "output_type": "display_data"
    },
    {
     "data": {
      "text/html": [
       "\n",
       "        <div style=\"background-color: #228B22; color: white;\n",
       "                    padding: 4px 8px; font-family: monospace; border-radius: 4px;\">\n",
       "            ✅ 2025-08-12 21:36:25 - INFO - LLM is properly configured.\n",
       "        </div>\n",
       "        "
      ],
      "text/plain": [
       "<IPython.core.display.HTML object>"
      ]
     },
     "metadata": {},
     "output_type": "display_data"
    }
   ],
   "source": [
    "log_asset_status(\n",
    "    asset_path=INPUT_PATH,\n",
    "    asset_name=\"Input Data\",\n",
    ")\n",
    "log_asset_status(\n",
    "    asset_path=MODEL_PATH,\n",
    "    asset_name=\"LLM\",\n",
    ")"
   ]
  },
  {
   "cell_type": "markdown",
   "id": "2f0bfa26-1ee9-4a63-af86-0e72695c51d4",
   "metadata": {},
   "source": [
    "# LLM Setup"
   ]
  },
  {
   "cell_type": "code",
   "execution_count": 12,
   "id": "d1b49c0f-20ea-4331-9d2e-35cf25852686",
   "metadata": {},
   "outputs": [
    {
     "name": "stdout",
     "output_type": "stream",
     "text": [
      "CPU times: user 1.04 s, sys: 2.48 s, total: 3.52 s\n",
      "Wall time: 1min 47s\n"
     ]
    }
   ],
   "source": [
    "%%time\n",
    "\n",
    "llm = LlamaCpp(\n",
    "    model_path=MODEL_PATH,\n",
    "    n_gpu_layers=-1,                             \n",
    "    n_batch=512,                                 \n",
    "    n_ctx=CONTEXT_WINDOW,\n",
    "    max_tokens=MAX_TOKENS,\n",
    "    f16_kv=True,\n",
    "    use_mmap=False,                             \n",
    "    low_vram=False,                            \n",
    "    rope_scaling=None,\n",
    "    temperature=0.0,\n",
    "    repeat_penalty=1.0,\n",
    "    streaming=False,\n",
    "    stop=None,\n",
    "    seed=42,\n",
    "    num_threads=multiprocessing.cpu_count(),\n",
    "    verbose=False                                \n",
    ")"
   ]
  },
  {
   "cell_type": "markdown",
   "id": "c51178d0-cf1b-465d-9ee7-c45212a38ceb",
   "metadata": {},
   "source": [
    "# KV Memory"
   ]
  },
  {
   "cell_type": "code",
   "execution_count": 13,
   "id": "de8aff30-531b-4923-9dc4-239c516b44e6",
   "metadata": {},
   "outputs": [],
   "source": [
    "memory: SimpleKVMemory = SimpleKVMemory(MEMORY_PATH)"
   ]
  },
  {
   "cell_type": "markdown",
   "id": "f4531fd2-fa3e-4524-ac6f-ab8eaf2249f1",
   "metadata": {},
   "source": [
    "# Download the GitHub Repo"
   ]
  },
  {
   "cell_type": "code",
   "execution_count": 14,
   "id": "2148313d-b694-4fea-839c-0a6065669a91",
   "metadata": {},
   "outputs": [],
   "source": [
    "def download_github_repo(repo_url: str, output_dir: str = \"../data/input/downloaded_repo\") -> Path:\n",
    "    \"\"\"\n",
    "    Download and extract a public GitHub repository as a zip file.\n",
    "\n",
    "    Args:\n",
    "        repo_url (str): The GitHub URL (e.g., https://github.com/HPInc/AI-Blueprints)\n",
    "        output_dir (str): Directory to extract the repo contents into.\n",
    "\n",
    "    Returns:\n",
    "        Path: Path to the extracted root folder.\n",
    "    \"\"\"\n",
    "    # Normalize URL\n",
    "    repo_url = repo_url.rstrip(\"/\")\n",
    "    if not repo_url.startswith(\"https://github.com/\"):\n",
    "        raise ValueError(\"URL must be a valid GitHub repository URL.\")\n",
    "\n",
    "    # Extract user/repo name\n",
    "    parts = repo_url.replace(\"https://github.com/\", \"\").split(\"/\")\n",
    "    if len(parts) != 2:\n",
    "        raise ValueError(\"URL must be in format: https://github.com/owner/repo\")\n",
    "\n",
    "    owner, repo = parts\n",
    "    zip_url = f\"https://github.com/{owner}/{repo}/archive/refs/heads/main.zip\"\n",
    "\n",
    "    print(f\"📦 Downloading repo zip from: {zip_url}\")\n",
    "    response = requests.get(zip_url)\n",
    "    response.raise_for_status()\n",
    "\n",
    "    # Extract zip contents\n",
    "    with zipfile.ZipFile(io.BytesIO(response.content)) as z:\n",
    "        z.extractall(output_dir)\n",
    "\n",
    "    # The zip structure is usually: output_dir/repo-main/\n",
    "    extracted_path = Path(output_dir) / f\"{repo}-main\"\n",
    "    print(f\"✅ Repository extracted to: {extracted_path.resolve()}\")\n",
    "\n",
    "    return extracted_path"
   ]
  },
  {
   "cell_type": "code",
   "execution_count": 15,
   "id": "84773e9f-b87d-40c0-88ca-f72b06794ad7",
   "metadata": {},
   "outputs": [
    {
     "name": "stdout",
     "output_type": "stream",
     "text": [
      "📦 Downloading repo zip from: https://github.com/HPInc/AI-Blueprints/archive/refs/heads/main.zip\n",
      "✅ Repository extracted to: /home/jovyan/agentic-feedback-analyzer-with-langgraph/data/input/downloaded_repo/AI-Blueprints-main\n",
      "CPU times: user 869 ms, sys: 590 ms, total: 1.46 s\n",
      "Wall time: 41.3 s\n"
     ]
    },
    {
     "data": {
      "text/plain": [
       "PosixPath('../data/input/downloaded_repo/AI-Blueprints-main')"
      ]
     },
     "execution_count": 15,
     "metadata": {},
     "output_type": "execute_result"
    }
   ],
   "source": [
    "%%time\n",
    "\n",
    "download_github_repo(REPO_URL)"
   ]
  },
  {
   "cell_type": "markdown",
   "id": "588eaa69-07ea-41f8-9fb6-6e6a9a55a101",
   "metadata": {},
   "source": [
    "# State Model"
   ]
  },
  {
   "cell_type": "code",
   "execution_count": 16,
   "id": "f4d57c81-4540-46bf-ac95-2c569cc011d5",
   "metadata": {},
   "outputs": [],
   "source": [
    "class AgenticState(TypedDict, total=False):\n",
    "    \"\"\"\n",
    "    Represents the internal state of an agentic feedback analysis pipeline.\n",
    "    This state is passed through the LangGraph nodes.\n",
    "    \"\"\"\n",
    "\n",
    "    # Input metadata\n",
    "    topic: str\n",
    "    input_path: str\n",
    "    question: str\n",
    "\n",
    "    # Document & chunking\n",
    "    docs: str                      # Raw or combined document content\n",
    "    chunks: str                    # Raw or processed chunks\n",
    "\n",
    "    # LLM configuration\n",
    "    llm: LlamaCpp\n",
    "    rewritten_question: Optional[str]\n",
    "\n",
    "    # Processing logic\n",
    "    is_relevant: Optional[bool]\n",
    "    from_memory: Optional[bool]\n",
    "    chunk_responses: str\n",
    "\n",
    "    # Output\n",
    "    answer: Optional[str]\n",
    "\n",
    "    # Memory and conversation\n",
    "    memory: SimpleKVMemory\n",
    "    messages: List[Dict[str, Any]]  # Full conversation history with the LLM"
   ]
  },
  {
   "cell_type": "markdown",
   "id": "0e299c50-b78b-4f80-ab24-fb3d4e29f1d1",
   "metadata": {},
   "source": [
    "# Node Functions"
   ]
  },
  {
   "cell_type": "code",
   "execution_count": 17,
   "id": "6f817e4b-e6f9-4916-b210-211c124ddcff",
   "metadata": {},
   "outputs": [],
   "source": [
    "@log_timing\n",
    "def ingest_question(state: AgenticState) -> Dict[str, Any]:\n",
    "    \"\"\"\n",
    "    Record the user's input question and append it to the system message history.\n",
    "\n",
    "    Returns:\n",
    "        Dict[str, Any]: A dictionary with the updated message history.\n",
    "    \"\"\"\n",
    "    question = state[\"question\"].strip()\n",
    "    logger.info(\"🗣️ Ingested user question: %s\", question)\n",
    "\n",
    "    # Build updated message history\n",
    "    messages = state.get(\"messages\", [])\n",
    "    messages += [\n",
    "        {\"role\": \"developer\", \"content\": \"User submitted a question.\"},\n",
    "        {\"role\": \"user\", \"content\": question},\n",
    "    ]\n",
    "\n",
    "    return {\"messages\": messages}\n",
    "\n",
    "\n",
    "@log_timing\n",
    "def check_relevance(state: AgenticState) -> Dict[str, Any]:\n",
    "    \"\"\"\n",
    "    Determines whether the user's question is relevant to the given topic using the LLM.\n",
    "\n",
    "    If irrelevant, returns a polite default answer and flags the result.\n",
    "    \"\"\"\n",
    "    topic = state[\"topic\"]\n",
    "    question = state[\"question\"]\n",
    "    llm = state[\"llm\"]\n",
    "\n",
    "    # Define strict classification prompts\n",
    "    system_prompt = (\n",
    "        \"You are a binary classification assistant designed to evaluate the relevance of user questions \"\n",
    "        \"to a specified topic in a document intelligence system.\\n\\n\"\n",
    "        \"Your task is to determine whether a user's question is relevant to the topic — either directly or indirectly — \"\n",
    "        \"based on whether the question could help support, relate to, or expand a conversation or analysis about that topic.\\n\\n\"\n",
    "        \"Rules:\\n\"\n",
    "        \"- Only respond with 'yes' or 'no' — no punctuation, no elaboration, and no additional words.\\n\"\n",
    "        \"- If the question is clearly about the topic, answer 'yes'.\\n\"\n",
    "        \"- If the question does not mention the topic directly but can logically contribute to answering, clarifying, or deepening understanding about the topic, answer 'yes'.\\n\"\n",
    "        \"- Only answer 'no' if the question is completely unrelated or disconnected from the topic and cannot be used in any meaningful way to explore it.\\n\\n\"\n",
    "        \"Your judgment should be inclusive — if there's any reasonable connection or utility, classify it as relevant ('yes').\"\n",
    "    )\n",
    "\n",
    "\n",
    "    user_prompt = (\n",
    "        f\"Topic: \\\"{topic}\\\"\\n\"\n",
    "        f\"User's Question: \\\"{question}\\\"\\n\\n\"\n",
    "        \"Determine if the question is relevant to the topic.\\n\"\n",
    "        \"A question is considered relevant if it:\\n\"\n",
    "        \"- Directly asks about the topic, or\\n\"\n",
    "        \"- Could be used to inform, support, or guide a discussion, analysis, or answer related to the topic.\\n\\n\"\n",
    "        \"If there's any logical connection between the question and the topic — even if implicit — respond with 'yes'.\\n\"\n",
    "        \"Respond strictly with one word: 'yes' or 'no'.\\n\"\n",
    "        \"Answer:\"\n",
    "    )\n",
    "\n",
    "\n",
    "    # Get LLM response\n",
    "    response = get_response_from_llm(llm, system_prompt, user_prompt).strip().lower()\n",
    "    is_relevant = response == \"yes\"\n",
    "\n",
    "    logger.info(\"🧠 Relevance response: %s → %s\", response, \"Relevant\" if is_relevant else \"Irrelevant\")\n",
    "\n",
    "    # Append LLM trace and result\n",
    "    messages = state.get(\"messages\", [])\n",
    "    messages += [\n",
    "        {\"role\": \"developer\", \"content\": \"🧠 Relevance check result:\"},\n",
    "        {\"role\": \"assistant\", \"content\": response},\n",
    "    ]\n",
    "\n",
    "    result: Dict[str, Any] = {\n",
    "        \"is_relevant\": is_relevant,\n",
    "        \"messages\": messages,\n",
    "    }\n",
    "\n",
    "    if not is_relevant:\n",
    "        result[\"answer\"] = f\"🚫 Sorry, I can only answer questions related to '{topic}'.\"\n",
    "\n",
    "    return result\n",
    "\n",
    "\n",
    "@log_timing\n",
    "def check_memory(state: AgenticState) -> Dict[str, Any]:\n",
    "    \"\"\"\n",
    "    Check if the user's question has been previously answered and cached in memory.\n",
    "\n",
    "    If found, return the cached answer along with a `from_memory` flag.\n",
    "    \"\"\"\n",
    "    question = state[\"question\"]\n",
    "    memory = state[\"memory\"]\n",
    "\n",
    "    key = question.strip().lower()\n",
    "    cached_answer = memory.get(key)\n",
    "\n",
    "    messages = state.get(\"messages\", [])\n",
    "\n",
    "    if cached_answer:\n",
    "        logger.info(\"💾 Cache hit for question: %s\", question)\n",
    "        messages.append({\n",
    "            \"role\": \"developer\",\n",
    "            \"content\": f\"💾 Retrieved cached answer for question: '{question}'\"\n",
    "        })\n",
    "        return {\n",
    "            \"answer\": cached_answer,\n",
    "            \"from_memory\": True,\n",
    "            \"messages\": messages\n",
    "        }\n",
    "\n",
    "    logger.info(\"🧭 Cache miss for question: %s\", question)\n",
    "    messages.append({\n",
    "        \"role\": \"developer\",\n",
    "        \"content\": f\"🧭 No cached answer found for question: '{question}'\"\n",
    "    })\n",
    "    return {\n",
    "        \"from_memory\": False,\n",
    "        \"messages\": messages\n",
    "    }\n",
    "\n",
    "\n",
    "@log_timing\n",
    "def rewrite_question(state: AgenticState) -> Dict[str, Any]:\n",
    "    \"\"\"\n",
    "    Refines the user's original question into a clear, specific, and LLM-optimized form.\n",
    "\n",
    "    Returns:\n",
    "        Dict[str, Any]: Contains the rewritten question and updated message history.\n",
    "    \"\"\"\n",
    "    original_question = state[\"question\"].strip()\n",
    "    llm = state[\"llm\"]\n",
    "\n",
    "    # Prompt engineering\n",
    "    system_prompt = (\n",
    "        \"You are a professional assistant that rewrites vague or ambiguous questions \"\n",
    "        \"into clear, focused, and LLM-friendly formats.\\n\"\n",
    "        \"The rewritten question must:\\n\"\n",
    "        \"- Be specific to document analysis\\n\"\n",
    "        \"- Be grammatically correct\\n\"\n",
    "        \"- Remain a QUESTION (not a statement)\\n\"\n",
    "        \"- Avoid ambiguity or conversational phrasing\\n\"\n",
    "        \"Do NOT include explanations or formatting—just return the cleaned question.\"\n",
    "    )\n",
    "\n",
    "    user_prompt = (\n",
    "        f\"Original user question:\\n\\\"{original_question}\\\"\\n\\n\"\n",
    "        \"Rewrite the question above as a clear and concise instruction for an AI to answer using document content. \"\n",
    "        \"Ensure it remains in question form, not declarative.\"\n",
    "    )\n",
    "\n",
    "    # Run LLM\n",
    "    response = get_response_from_llm(llm, system_prompt, user_prompt)\n",
    "    rewritten = response.strip()\n",
    "\n",
    "    # Log and message updates\n",
    "    logger.info(\"✏️ Rewritten user question:\\n→ %s\", rewritten)\n",
    "\n",
    "    messages = state.get(\"messages\", [])\n",
    "    messages += [\n",
    "        {\"role\": \"developer\", \"content\": \"✏️ Rewritten user question:\"},\n",
    "        {\"role\": \"assistant\", \"content\": rewritten},\n",
    "    ]\n",
    "\n",
    "    return {\n",
    "        \"rewritten_question\": rewritten,\n",
    "        \"messages\": messages,\n",
    "    }\n",
    "\n",
    "\n",
    "@log_timing\n",
    "def load_input_files(state: AgenticState) -> Dict[str, Any]:\n",
    "    \"\"\"\n",
    "    Load all supported document files from the specified input directory.\n",
    "\n",
    "    Supported formats:\n",
    "        - .txt (plain text)\n",
    "        - .csv (UTF-8 with comma delimiter)\n",
    "        - .xlsx (Excel)\n",
    "        - .docx (Word)\n",
    "        - .pdf  (PDF)\n",
    "        - .md   (Markdown)\n",
    "        - .py   (Python source)\n",
    "        - .ipynb (Jupyter Notebooks)\n",
    "        - .json (JSON config/data)\n",
    "        - .yaml / .yml (YAML files)\n",
    "\n",
    "    Skips hidden or system folders (e.g., .git, __pycache__).\n",
    "    \"\"\"\n",
    "\n",
    "    class SafeTextLoader(TextLoader):\n",
    "        def load(self) -> list[Document]:\n",
    "            encodings = [\"utf-8\", \"utf-16\", \"latin-1\", \"cp1252\"]\n",
    "            for enc in encodings:\n",
    "                try:\n",
    "                    with open(self.file_path, encoding=enc) as f:\n",
    "                        text = f.read()\n",
    "                    return [Document(page_content=text)]\n",
    "                except Exception:\n",
    "                    continue\n",
    "            raise ValueError(f\"Failed to decode file: {self.file_path}\")\n",
    "\n",
    "    class NotebookLoader:\n",
    "        def __init__(self, file_path: str):\n",
    "            self.file_path = file_path\n",
    "\n",
    "        def load(self) -> list[Document]:\n",
    "            try:\n",
    "                with open(self.file_path, encoding=\"utf-8\") as f:\n",
    "                    notebook = json.load(f)\n",
    "                cells = notebook.get(\"cells\", [])\n",
    "                source = \"\\n\".join(\"\".join(cell.get(\"source\", [])) for cell in cells)\n",
    "                return [Document(page_content=source)]\n",
    "            except Exception as e:\n",
    "                raise ValueError(f\"Failed to load notebook: {self.file_path}: {e}\")\n",
    "\n",
    "    input_path = state[\"input_path\"]\n",
    "    logger.info(\"📂 Scanning directory for documents: %s\", input_path)\n",
    "\n",
    "    supported_extensions = {\n",
    "        \".txt\": SafeTextLoader,\n",
    "        \".csv\": lambda path: CSVLoader(path, encoding=\"utf-8\", csv_args={\"delimiter\": \",\"}),\n",
    "        \".xlsx\": UnstructuredExcelLoader,\n",
    "        \".docx\": UnstructuredWordDocumentLoader,\n",
    "        \".pdf\": PyPDFLoader,\n",
    "        \".md\": UnstructuredMarkdownLoader,\n",
    "        \".py\": SafeTextLoader,\n",
    "        \".json\": SafeTextLoader,\n",
    "        \".yml\": SafeTextLoader,\n",
    "        \".yaml\": SafeTextLoader,\n",
    "        \".ipynb\": NotebookLoader,\n",
    "    }\n",
    "\n",
    "    all_docs = []\n",
    "\n",
    "    for file_path in Path(input_path).rglob(\"*\"):\n",
    "        if any(part.startswith(\".\") and part not in {\".\", \"..\"} for part in file_path.parts):\n",
    "            continue\n",
    "\n",
    "        if file_path.is_dir():\n",
    "            continue\n",
    "\n",
    "        ext = file_path.suffix.lower()\n",
    "        loader_class = supported_extensions.get(ext)\n",
    "\n",
    "        if loader_class:\n",
    "            try:\n",
    "                loader = loader_class(str(file_path))\n",
    "                docs = loader.load()\n",
    "                all_docs.extend(docs)\n",
    "                logger.info(\"✅ Loaded %d docs from %s\", len(docs), file_path.name)\n",
    "            except Exception as e:\n",
    "                logger.warning(\"❌ Failed to load %s: %s\", file_path.name, e)\n",
    "        else:\n",
    "            logger.info(\"⚠️ Unsupported file type: %s\", file_path.name)\n",
    "\n",
    "    messages = state.get(\"messages\", []) + [\n",
    "        {\"role\": \"developer\", \"content\": f\"📄 Loaded documents from: {input_path}\"}\n",
    "    ]\n",
    "\n",
    "    return {\"docs\": all_docs, \"messages\": messages}\n",
    "\n",
    "\n",
    "@log_timing\n",
    "def create_chunks(state: AgenticState) -> Dict[str, Any]:\n",
    "    \"\"\"\n",
    "    Split all loaded documents into semantically coherent, overlapping chunks.\n",
    "\n",
    "    Uses LangChain's RecursiveCharacterTextSplitter to preserve context boundaries\n",
    "    and control token limits for downstream LLM usage.\n",
    "\n",
    "    Returns:\n",
    "        Dict[str, Any]: Contains a \"chunks\" key with the resulting split Document list.\n",
    "    \"\"\"\n",
    "    docs = state[\"docs\"]\n",
    "    logger.info(\"📑 Starting chunking for %d loaded documents\", len(docs))\n",
    "\n",
    "    splitter = RecursiveCharacterTextSplitter(\n",
    "        chunk_size=CHUNK_SIZE,\n",
    "        chunk_overlap=CHUNK_OVERLAP,\n",
    "        separators=[\"\\n\\n\", \"\\n\", \".\", \"!\", \"?\", \" \", \"\"],  # Order: most to least semantic\n",
    "        add_start_index=True,\n",
    "    )\n",
    "\n",
    "    chunks = splitter.split_documents(docs)\n",
    "    logger.info(\"🧩 Created %d total chunks (size=%d, overlap=%d)\", len(chunks), CHUNK_SIZE, CHUNK_OVERLAP)\n",
    "\n",
    "    # Append developer message\n",
    "    messages = state.get(\"messages\", [])\n",
    "    messages.append({\n",
    "        \"role\": \"developer\",\n",
    "        \"content\": f\"🧩 Chunked {len(docs)} documents into {len(chunks)} chunks (size={CHUNK_SIZE}, overlap={CHUNK_OVERLAP})\"\n",
    "    })\n",
    "\n",
    "    return {\n",
    "        \"chunks\": chunks,\n",
    "        \"messages\": messages,\n",
    "    }\n",
    "\n",
    "\n",
    "@log_timing\n",
    "def generate_answer_per_chunks(state: AgenticState) -> Dict[str, Any]:\n",
    "    \"\"\"\n",
    "    Generate an answer for each document chunk based on the rewritten question.\n",
    "\n",
    "    Each chunk is independently evaluated by the LLM using a shared system/user prompt pair.\n",
    "    Only the information inside the chunk may be used—no inference or guessing allowed.\n",
    "    \"\"\"\n",
    "    rewritten_question = state[\"rewritten_question\"].strip()\n",
    "    chunks = state[\"chunks\"]\n",
    "    llm = state[\"llm\"]\n",
    "    topic = state[\"topic\"]\n",
    "    \n",
    "    logger.info(\"🧩 Generating answers for %d chunks using rewritten question: '%s'\", len(chunks), rewritten_question)\n",
    "\n",
    "    # 🔒 System Prompt (invariant per chunk)\n",
    "    system_prompt = (\n",
    "        \"You are a document chunk analysis assistant for a feedback intelligence system.\\n\\n\"\n",
    "        \"Your task is to help answer a specific user question by analyzing **one chunk** of a larger document.\\n\\n\"\n",
    "        \"Instructions:\\n\"\n",
    "        \"- You are only given one chunk at a time.\\n\"\n",
    "        \"- Use only the information in that chunk to answer.\\n\"\n",
    "        \"- Do NOT guess, infer, or draw conclusions from missing context.\\n\"\n",
    "        \"- If the chunk does not provide enough information to answer, reply exactly with: Not mentioned in this chunk.\\n\\n\"\n",
    "        \"Output Guidelines:\\n\"\n",
    "        \"- Be factual, clear, and complete.\\n\"\n",
    "        \"- Use relevant details from the chunk if available.\\n\"\n",
    "        \"- If the question is not answerable from the chunk, respond accordingly and concisely.\\n\"\n",
    "    )\n",
    "\n",
    "    # 🧾 User Prompt Template\n",
    "    user_prompt_template = (\n",
    "        f\"User question:\\n\"\n",
    "        f\"\\\"{rewritten_question}\\\"\\n\\n\"\n",
    "        f\"This chunk is part of a document about the topic: \\\"{topic}\\\".\\n\"\n",
    "        f\"Read the chunk carefully and answer the question using only what is written below:\\n\\n\"\n",
    "        f\"--- START OF CHUNK ---\\n\"\n",
    "        f\"{{chunk}}\\n\"\n",
    "        f\"--- END OF CHUNK ---\\n\\n\"\n",
    "        f\"If the answer is not found in this chunk, respond with:\\n\"\n",
    "        f\"Not mentioned in this chunk.\"\n",
    "    )\n",
    "\n",
    "    chunk_responses = []\n",
    "    messages = state.get(\"messages\", [])\n",
    "\n",
    "    progress_bar = tqdm(chunks, desc=\"🔁 Processing each chunk\")\n",
    "\n",
    "    for i, chunk in enumerate(progress_bar):\n",
    "        chunk_text = chunk.page_content.strip()\n",
    "        user_prompt = user_prompt_template.replace(\"{chunk}\", chunk_text)\n",
    "\n",
    "        try:\n",
    "            response = get_response_from_llm(llm, system_prompt, user_prompt).strip()\n",
    "            progress_bar.set_postfix({\"group\": f\"✅ Chunk {i + 1} response length: {len(response)} chars\"})\n",
    "        except Exception as e:\n",
    "            response = f\"[ERROR in chunk {i+1}]: {e}\"\n",
    "            progress_bar.set_postfix({\"group\": f\"❌ Error processing chunk {i + 1}: {e}\"})\n",
    "\n",
    "        chunk_responses.append(response)\n",
    "\n",
    "    logger.info(\"🧠 Finished generating %d chunk-level responses.\", len(chunk_responses))\n",
    "\n",
    "    # Add summary message\n",
    "    messages.append({\n",
    "        \"role\": \"developer\",\n",
    "        \"content\": f\"🧠 Processed {len(chunks)} chunks for question: '{rewritten_question}'\"\n",
    "    })\n",
    "\n",
    "    return {\n",
    "        \"chunk_responses\": chunk_responses,\n",
    "        \"messages\": messages,\n",
    "    }\n",
    "\n",
    "@log_timing\n",
    "def generate_synthetized_answer(state: AgenticState) -> Dict[str, Any]:\n",
    "    \"\"\"\n",
    "    Synthesizes a final, comprehensive answer to the user's question\n",
    "    based on the collected per-chunk LLM responses.\n",
    "    \"\"\"\n",
    "    chunk_answers = state[\"chunk_responses\"]\n",
    "    rewritten_question = state[\"rewritten_question\"]\n",
    "    topic = state[\"topic\"]\n",
    "    llm = state[\"llm\"]\n",
    "\n",
    "    if not chunk_answers:\n",
    "        logger.warning(\"🚫 No chunk-level responses available to synthesize.\")\n",
    "        return {\"answer\": \"No information available to synthesize a final answer.\"}\n",
    "\n",
    "    max_context_tokens = getattr(llm, \"context_window\", 8192)\n",
    "    chunk_token_budget = max_context_tokens // 2\n",
    "\n",
    "    # 🧱 Split formatted chunk answers into token-safe groups\n",
    "    def chunk_by_token_limit(answers: List[str], max_tokens: int) -> List[List[str]]:\n",
    "        groups, current, current_len = [], [], 0\n",
    "        for a in answers:\n",
    "            a = a.strip()\n",
    "            tokens = int(a.count(\" \") * 1.5)\n",
    "            if current_len + tokens > max_tokens and current:\n",
    "                groups.append(current)\n",
    "                current, current_len = [], 0\n",
    "            current.append(a)\n",
    "            current_len += tokens\n",
    "        if current:\n",
    "            groups.append(current)\n",
    "        return groups\n",
    "\n",
    "    grouped_chunks = chunk_by_token_limit(chunk_answers, chunk_token_budget)\n",
    "\n",
    "    logger.info(\"🧠 Synthesizing across %d chunk groups\", len(grouped_chunks))\n",
    "\n",
    "    logger.info(\"🧠 Synthesizing final answer from %d chunk responses\", len(chunk_answers))\n",
    "\n",
    "    # 🧠 System Prompt (for synthesis agent)\n",
    "    synthesis_system_prompt = (\n",
    "        \"You are a synthesis assistant in a document reasoning system.\\n\\n\"\n",
    "        \"Your job is to produce a final, complete, and precise answer to the user's question \"\n",
    "        \"based on multiple intermediate answers derived from different chunks of a document.\\n\\n\"\n",
    "        \"Instructions:\\n\"\n",
    "        \"- Use ONLY the information provided in the chunk responses.\\n\"\n",
    "        \"- Do NOT hallucinate, invent, or infer beyond what's included.\\n\"\n",
    "        \"- Eliminate redundancy and merge overlapping information.\\n\"\n",
    "        \"- Combine details and structure them clearly.\\n\"\n",
    "        \"- Be detailed, factual, and coherent.\\n\"\n",
    "        \"- Avoid repeating redundant or identical statements from the chunks; instead, consolidate and rephrase them concisely.\\n\"\n",
    "        \"- Format the answer using valid and clean Markdown for headings, lists, and emphasis.\\n\"\n",
    "        \"- **Return the final answer in clean and well-formatted Markdown.**\\n\"\n",
    "    )\n",
    "\n",
    "    progress_bar = tqdm(grouped_chunks, desc=\"🔁 Processing each grouped chunk answers\")\n",
    "\n",
    "    partial_summaries = [] \n",
    "\n",
    "    for i, chunk_group in enumerate(progress_bar):\n",
    "        formatted_chunks = \"\\n\".join(f\"- Chunk {j+1}: {a}\" for j, a in enumerate(chunk_group))\n",
    "        # 💬 User Prompt Template\n",
    "        synthesis_user_prompt = (\n",
    "            f\"The user asked the following question:\\n\"\n",
    "            f\"\\\"{rewritten_question}\\\"\\n\\n\"\n",
    "            f\"The topic of the document is: \\\"{topic}\\\"\\n\\n\"\n",
    "            f\"Below are the LLM-generated answers for each chunk:\\n\\n\"\n",
    "            f\"{formatted_chunks}\\n\\n\"\n",
    "            f\"Please now synthesize a final, complete, non-redundant answer to the user's question. \"\n",
    "            f\"Make sure your answer is factual, logically structured, and clearly written.\"\n",
    "            f\"Avoid repeating redundant or identical statements from the chunks; instead, consolidate and rephrase them concisely.\"\n",
    "            f\"If the chunks provide conflicting answers, prioritize the most consistent and complete one. \"\n",
    "            f\"\\n\\n➡️ **Return the final answer in clean and well-formatted Markdown.**\"\n",
    "        )\n",
    "        summary = get_response_from_llm(\n",
    "            llm=llm,\n",
    "            system_prompt=synthesis_system_prompt,\n",
    "            user_prompt=synthesis_user_prompt,\n",
    "            ).strip()\n",
    "        \n",
    "        progress_bar.set_postfix({\"group\": f\"🧠 Synthesized partial answer ({i + 1}/{len(grouped_chunks)})\"})\n",
    "        \n",
    "        partial_summary = f\"# 🧠 Synthesized partial answer ({i + 1}/{len(grouped_chunks)})\\n\\n\" + summary\n",
    "        partial_summaries.append(partial_summary)\n",
    "        \n",
    "    logger.info(f\"✅ Synthesized {len(partial_summaries)} group-level summaries.\")\n",
    "\n",
    "    final_answer = \"\\n---\\n\".join(partial_summaries)\n",
    "\n",
    "    messages = state.get(\"messages\", [])\n",
    "    messages += [\n",
    "        {\"role\": \"developer\", \"content\": f\"✅ Synthesized {len(partial_summaries)} group-level summaries.\"},\n",
    "        {\"role\": \"assistant\", \"content\": final_answer}\n",
    "    ]\n",
    "\n",
    "    return {\n",
    "        \"answer\": final_answer,\n",
    "        \"messages\": messages,\n",
    "    }\n",
    "\n",
    "\n",
    "@log_timing\n",
    "def update_memory(state: AgenticState) -> Dict[str, Any]:\n",
    "    \"\"\"\n",
    "    Persist the current question-answer pair to memory if it was not served from cache.\n",
    "\n",
    "    Returns:\n",
    "        Dict[str, Any]: Updated message history (if applicable).\n",
    "    \"\"\"\n",
    "    if state.get(\"from_memory\"):\n",
    "        logger.info(\"⏩ Skipping memory update (already served from cache).\")\n",
    "        return {}\n",
    "\n",
    "    question = state[\"question\"].strip().lower()\n",
    "    answer = state[\"answer\"]\n",
    "    memory = state[\"memory\"]\n",
    "\n",
    "    memory.set(question, answer)\n",
    "    logger.info(\"💾 Stored question-answer pair in memory (key: %s)\", question)\n",
    "\n",
    "    messages = state.get(\"messages\", [])\n",
    "    messages.append({\n",
    "        \"role\": \"developer\",\n",
    "        \"content\": f\"💾 Stored answer in memory for question key: '{question}'\"\n",
    "    })\n",
    "\n",
    "    return {\"messages\": messages}\n",
    "\n",
    "\n",
    "@log_timing\n",
    "def output_answer(state: AgenticState) -> Dict[str, Any]:\n",
    "    \"\"\"\n",
    "    Display the final synthesized answer and record the action in the developer trace.\n",
    "\n",
    "    Returns:\n",
    "        Dict[str, Any]: Contains updated message history.\n",
    "    \"\"\"\n",
    "    answer = state.get(\"answer\", \"\").strip()\n",
    "\n",
    "    # Display output in console (or could be adapted for Streamlit, CLI, etc.)\n",
    "    print(\"\\n🔚 === Final Answer ===\\n\")\n",
    "    print(answer)\n",
    "    print(\"\\n========================\\n\")\n",
    "\n",
    "    logger.info(\"📤 Delivered final answer (%d characters)\", len(answer))\n",
    "\n",
    "    # Append developer message to trace\n",
    "    messages = state.get(\"messages\", [])\n",
    "    messages.append({\n",
    "        \"role\": \"developer\",\n",
    "        \"content\": f\"📤 Final answer delivered: {answer}\"\n",
    "    })\n",
    "\n",
    "    return {\"messages\": messages}"
   ]
  },
  {
   "cell_type": "markdown",
   "id": "fb4b0622-ae83-4838-9160-6d087ce35d03",
   "metadata": {},
   "source": [
    "# Graph Definition"
   ]
  },
  {
   "cell_type": "code",
   "execution_count": 18,
   "id": "475e5a8c-b34c-41a7-8b2d-9073841a49cf",
   "metadata": {},
   "outputs": [],
   "source": [
    "agentic_graph = StateGraph(AgenticState)\n",
    "\n",
    "# Nodes\n",
    "agentic_graph.add_node(\"ingest_question\", ingest_question)\n",
    "agentic_graph.add_node(\"check_relevance\", check_relevance)\n",
    "agentic_graph.add_node(\"check_memory\", check_memory)\n",
    "agentic_graph.add_node(\"rewrite_question\", rewrite_question)\n",
    "agentic_graph.add_node(\"load_input_files\", load_input_files)\n",
    "agentic_graph.add_node(\"create_chunks\", create_chunks)\n",
    "agentic_graph.add_node(\"generate_answer_per_chunks\", generate_answer_per_chunks)\n",
    "agentic_graph.add_node(\"generate_synthetized_answer\", generate_synthetized_answer)\n",
    "agentic_graph.add_node(\"update_memory\", update_memory)\n",
    "agentic_graph.add_node(\"output_answer\", output_answer)\n",
    "\n",
    "# Edges\n",
    "agentic_graph.add_edge(START, \"ingest_question\") \n",
    "agentic_graph.add_edge(\"ingest_question\", \"check_relevance\")\n",
    "\n",
    "def route_relevance(state: AgenticState) -> Literal[\"irrelevant\", \"relevant\"]:\n",
    "    return \"relevant\" if state[\"is_relevant\"] else \"irrelevant\"\n",
    "\n",
    "agentic_graph.add_conditional_edges(\n",
    "    \"check_relevance\",\n",
    "    route_relevance,\n",
    "    {\n",
    "        \"irrelevant\": \"output_answer\",      \n",
    "        \"relevant\": \"check_memory\",\n",
    "    },\n",
    ")\n",
    "\n",
    "def route_memory(state: AgenticState) -> Literal[\"cached\", \"not_cached\"]:\n",
    "    return \"cached\" if state.get(\"from_memory\") else \"not_cached\"\n",
    "\n",
    "agentic_graph.add_conditional_edges(\n",
    "    \"check_memory\",\n",
    "    route_memory,\n",
    "    {\n",
    "        \"cached\": \"output_answer\",\n",
    "        \"not_cached\": \"rewrite_question\",\n",
    "    },\n",
    ")\n",
    "\n",
    "agentic_graph.add_edge(\"rewrite_question\", \"load_input_files\")\n",
    "agentic_graph.add_edge(\"load_input_files\", \"create_chunks\")\n",
    "agentic_graph.add_edge(\"create_chunks\", \"generate_answer_per_chunks\")\n",
    "agentic_graph.add_edge(\"generate_answer_per_chunks\", \"generate_synthetized_answer\")\n",
    "agentic_graph.add_edge(\"generate_synthetized_answer\", \"update_memory\")\n",
    "agentic_graph.add_edge(\"update_memory\", \"output_answer\")\n",
    "agentic_graph.add_edge(\"output_answer\", END)\n",
    "\n",
    "compiled_graph = agentic_graph.compile()"
   ]
  },
  {
   "cell_type": "markdown",
   "id": "8c99d3d4-7e34-4d1d-9240-0bf6d86e5e42",
   "metadata": {},
   "source": [
    "# Graph Visualization"
   ]
  },
  {
   "cell_type": "code",
   "execution_count": 19,
   "id": "e35c73df-c446-4e5d-a628-2927d7d86a7d",
   "metadata": {},
   "outputs": [
    {
     "data": {
      "text/html": [
       "<img src=\"data:image/png;base64,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\" style=\"width: 400px;\" />"
      ],
      "text/plain": [
       "<IPython.core.display.HTML object>"
      ]
     },
     "metadata": {},
     "output_type": "display_data"
    }
   ],
   "source": [
    "png = compiled_graph.get_graph().draw_mermaid_png()\n",
    "display_image(png)"
   ]
  },
  {
   "cell_type": "markdown",
   "id": "fc4d05ba-ed68-46a5-971a-491ffb93c17a",
   "metadata": {},
   "source": [
    "# Run the Agentic Workflow"
   ]
  },
  {
   "cell_type": "code",
   "execution_count": 20,
   "id": "06a6da3d-6f53-46b7-9bbb-09b30636ae07",
   "metadata": {
    "scrolled": true
   },
   "outputs": [
    {
     "data": {
      "text/html": [
       "\n",
       "        <div style=\"background-color: #228B22; color: white;\n",
       "                    padding: 4px 8px; font-family: monospace; border-radius: 4px;\">\n",
       "            ✅ 2025-08-12 21:38:55 - INFO - 🗣️ Ingested user question: Which machine learning classification algorithms are used in this project?\n",
       "        </div>\n",
       "        "
      ],
      "text/plain": [
       "<IPython.core.display.HTML object>"
      ]
     },
     "metadata": {},
     "output_type": "display_data"
    },
    {
     "data": {
      "text/html": [
       "\n",
       "        <div style=\"background-color: #228B22; color: white;\n",
       "                    padding: 4px 8px; font-family: monospace; border-radius: 4px;\">\n",
       "            ✅ 2025-08-12 21:38:55 - INFO - Function 'ingest_question' took 0.0010 seconds.\n",
       "        </div>\n",
       "        "
      ],
      "text/plain": [
       "<IPython.core.display.HTML object>"
      ]
     },
     "metadata": {},
     "output_type": "display_data"
    },
    {
     "data": {
      "text/html": [
       "\n",
       "        <div style=\"background-color: #228B22; color: white;\n",
       "                    padding: 4px 8px; font-family: monospace; border-radius: 4px;\">\n",
       "            ✅ 2025-08-12 21:39:08 - INFO - 🧠 Relevance response: yes → Relevant\n",
       "        </div>\n",
       "        "
      ],
      "text/plain": [
       "<IPython.core.display.HTML object>"
      ]
     },
     "metadata": {},
     "output_type": "display_data"
    },
    {
     "data": {
      "text/html": [
       "\n",
       "        <div style=\"background-color: #228B22; color: white;\n",
       "                    padding: 4px 8px; font-family: monospace; border-radius: 4px;\">\n",
       "            ✅ 2025-08-12 21:39:08 - INFO - Function 'check_relevance' took 13.1822 seconds.\n",
       "        </div>\n",
       "        "
      ],
      "text/plain": [
       "<IPython.core.display.HTML object>"
      ]
     },
     "metadata": {},
     "output_type": "display_data"
    },
    {
     "data": {
      "text/html": [
       "\n",
       "        <div style=\"background-color: #228B22; color: white;\n",
       "                    padding: 4px 8px; font-family: monospace; border-radius: 4px;\">\n",
       "            ✅ 2025-08-12 21:39:08 - INFO - 🧭 Cache miss for question: Which machine learning classification algorithms are used in this project?\n",
       "        </div>\n",
       "        "
      ],
      "text/plain": [
       "<IPython.core.display.HTML object>"
      ]
     },
     "metadata": {},
     "output_type": "display_data"
    },
    {
     "data": {
      "text/html": [
       "\n",
       "        <div style=\"background-color: #228B22; color: white;\n",
       "                    padding: 4px 8px; font-family: monospace; border-radius: 4px;\">\n",
       "            ✅ 2025-08-12 21:39:08 - INFO - Function 'check_memory' took 0.0006 seconds.\n",
       "        </div>\n",
       "        "
      ],
      "text/plain": [
       "<IPython.core.display.HTML object>"
      ]
     },
     "metadata": {},
     "output_type": "display_data"
    },
    {
     "data": {
      "text/html": [
       "\n",
       "        <div style=\"background-color: #228B22; color: white;\n",
       "                    padding: 4px 8px; font-family: monospace; border-radius: 4px;\">\n",
       "            ✅ 2025-08-12 21:39:08 - INFO - ✏️ Rewritten user question:\n",
       "→ What machine learning classification algorithms are mentioned or utilized in the project documentation?\n",
       "        </div>\n",
       "        "
      ],
      "text/plain": [
       "<IPython.core.display.HTML object>"
      ]
     },
     "metadata": {},
     "output_type": "display_data"
    },
    {
     "data": {
      "text/html": [
       "\n",
       "        <div style=\"background-color: #228B22; color: white;\n",
       "                    padding: 4px 8px; font-family: monospace; border-radius: 4px;\">\n",
       "            ✅ 2025-08-12 21:39:08 - INFO - Function 'rewrite_question' took 0.5985 seconds.\n",
       "        </div>\n",
       "        "
      ],
      "text/plain": [
       "<IPython.core.display.HTML object>"
      ]
     },
     "metadata": {},
     "output_type": "display_data"
    },
    {
     "data": {
      "text/html": [
       "\n",
       "        <div style=\"background-color: #228B22; color: white;\n",
       "                    padding: 4px 8px; font-family: monospace; border-radius: 4px;\">\n",
       "            ✅ 2025-08-12 21:39:08 - INFO - 📂 Scanning directory for documents: ../data/input/downloaded_repo/AI-Blueprints-main/data-science/classification-with-svm\n",
       "        </div>\n",
       "        "
      ],
      "text/plain": [
       "<IPython.core.display.HTML object>"
      ]
     },
     "metadata": {},
     "output_type": "display_data"
    },
    {
     "data": {
      "text/html": [
       "\n",
       "        <div style=\"background-color: #228B22; color: white;\n",
       "                    padding: 4px 8px; font-family: monospace; border-radius: 4px;\">\n",
       "            ✅ 2025-08-12 21:39:13 - INFO - ✅ Loaded 1 docs from README.md\n",
       "        </div>\n",
       "        "
      ],
      "text/plain": [
       "<IPython.core.display.HTML object>"
      ]
     },
     "metadata": {},
     "output_type": "display_data"
    },
    {
     "data": {
      "text/html": [
       "\n",
       "        <div style=\"background-color: #228B22; color: white;\n",
       "                    padding: 4px 8px; font-family: monospace; border-radius: 4px;\">\n",
       "            ✅ 2025-08-12 21:39:13 - INFO - ✅ Loaded 1 docs from config.yaml\n",
       "        </div>\n",
       "        "
      ],
      "text/plain": [
       "<IPython.core.display.HTML object>"
      ]
     },
     "metadata": {},
     "output_type": "display_data"
    },
    {
     "data": {
      "text/html": [
       "\n",
       "        <div style=\"background-color: #228B22; color: white;\n",
       "                    padding: 4px 8px; font-family: monospace; border-radius: 4px;\">\n",
       "            ✅ 2025-08-12 21:39:13 - INFO - ✅ Loaded 1 docs from Streamilt.pdf\n",
       "        </div>\n",
       "        "
      ],
      "text/plain": [
       "<IPython.core.display.HTML object>"
      ]
     },
     "metadata": {},
     "output_type": "display_data"
    },
    {
     "data": {
      "text/html": [
       "\n",
       "        <div style=\"background-color: #228B22; color: white;\n",
       "                    padding: 4px 8px; font-family: monospace; border-radius: 4px;\">\n",
       "            ✅ 2025-08-12 21:39:13 - INFO - ⚠️ Unsupported file type: successful-streamlit-ui-for-classification-with-svm.png\n",
       "        </div>\n",
       "        "
      ],
      "text/plain": [
       "<IPython.core.display.HTML object>"
      ]
     },
     "metadata": {},
     "output_type": "display_data"
    },
    {
     "data": {
      "text/html": [
       "\n",
       "        <div style=\"background-color: #228B22; color: white;\n",
       "                    padding: 4px 8px; font-family: monospace; border-radius: 4px;\">\n",
       "            ✅ 2025-08-12 21:39:13 - INFO - ✅ Loaded 3 docs from Swagger UI.pdf\n",
       "        </div>\n",
       "        "
      ],
      "text/plain": [
       "<IPython.core.display.HTML object>"
      ]
     },
     "metadata": {},
     "output_type": "display_data"
    },
    {
     "data": {
      "text/html": [
       "\n",
       "        <div style=\"background-color: #228B22; color: white;\n",
       "                    padding: 4px 8px; font-family: monospace; border-radius: 4px;\">\n",
       "            ✅ 2025-08-12 21:39:13 - INFO - ⚠️ Unsupported file type: swagger-UI-classification-with-svm.png\n",
       "        </div>\n",
       "        "
      ],
      "text/plain": [
       "<IPython.core.display.HTML object>"
      ]
     },
     "metadata": {},
     "output_type": "display_data"
    },
    {
     "data": {
      "text/html": [
       "\n",
       "        <div style=\"background-color: #228B22; color: white;\n",
       "                    padding: 4px 8px; font-family: monospace; border-radius: 4px;\">\n",
       "            ✅ 2025-08-12 21:39:13 - INFO - ✅ Loaded 1 docs from register-model.ipynb\n",
       "        </div>\n",
       "        "
      ],
      "text/plain": [
       "<IPython.core.display.HTML object>"
      ]
     },
     "metadata": {},
     "output_type": "display_data"
    },
    {
     "data": {
      "text/html": [
       "\n",
       "        <div style=\"background-color: #228B22; color: white;\n",
       "                    padding: 4px 8px; font-family: monospace; border-radius: 4px;\">\n",
       "            ✅ 2025-08-12 21:39:14 - INFO - ✅ Loaded 1 docs from run-workflow.ipynb\n",
       "        </div>\n",
       "        "
      ],
      "text/plain": [
       "<IPython.core.display.HTML object>"
      ]
     },
     "metadata": {},
     "output_type": "display_data"
    },
    {
     "data": {
      "text/html": [
       "\n",
       "        <div style=\"background-color: #228B22; color: white;\n",
       "                    padding: 4px 8px; font-family: monospace; border-radius: 4px;\">\n",
       "            ✅ 2025-08-12 21:39:14 - INFO - ✅ Loaded 1 docs from main.py\n",
       "        </div>\n",
       "        "
      ],
      "text/plain": [
       "<IPython.core.display.HTML object>"
      ]
     },
     "metadata": {},
     "output_type": "display_data"
    },
    {
     "data": {
      "text/html": [
       "\n",
       "        <div style=\"background-color: #228B22; color: white;\n",
       "                    padding: 4px 8px; font-family: monospace; border-radius: 4px;\">\n",
       "            ✅ 2025-08-12 21:39:14 - INFO - ⚠️ Unsupported file type: poetry.lock\n",
       "        </div>\n",
       "        "
      ],
      "text/plain": [
       "<IPython.core.display.HTML object>"
      ]
     },
     "metadata": {},
     "output_type": "display_data"
    },
    {
     "data": {
      "text/html": [
       "\n",
       "        <div style=\"background-color: #228B22; color: white;\n",
       "                    padding: 4px 8px; font-family: monospace; border-radius: 4px;\">\n",
       "            ✅ 2025-08-12 21:39:14 - INFO - ⚠️ Unsupported file type: pyproject.toml\n",
       "        </div>\n",
       "        "
      ],
      "text/plain": [
       "<IPython.core.display.HTML object>"
      ]
     },
     "metadata": {},
     "output_type": "display_data"
    },
    {
     "data": {
      "text/html": [
       "\n",
       "        <div style=\"background-color: #228B22; color: white;\n",
       "                    padding: 4px 8px; font-family: monospace; border-radius: 4px;\">\n",
       "            ✅ 2025-08-12 21:39:14 - INFO - ✅ Loaded 1 docs from README.md\n",
       "        </div>\n",
       "        "
      ],
      "text/plain": [
       "<IPython.core.display.HTML object>"
      ]
     },
     "metadata": {},
     "output_type": "display_data"
    },
    {
     "data": {
      "text/html": [
       "\n",
       "        <div style=\"background-color: #228B22; color: white;\n",
       "                    padding: 4px 8px; font-family: monospace; border-radius: 4px;\">\n",
       "            ✅ 2025-08-12 21:39:14 - INFO - ⚠️ Unsupported file type: AI-Studio.png\n",
       "        </div>\n",
       "        "
      ],
      "text/plain": [
       "<IPython.core.display.HTML object>"
      ]
     },
     "metadata": {},
     "output_type": "display_data"
    },
    {
     "data": {
      "text/html": [
       "\n",
       "        <div style=\"background-color: #228B22; color: white;\n",
       "                    padding: 4px 8px; font-family: monospace; border-radius: 4px;\">\n",
       "            ✅ 2025-08-12 21:39:14 - INFO - ⚠️ Unsupported file type: HP-Logo.png\n",
       "        </div>\n",
       "        "
      ],
      "text/plain": [
       "<IPython.core.display.HTML object>"
      ]
     },
     "metadata": {},
     "output_type": "display_data"
    },
    {
     "data": {
      "text/html": [
       "\n",
       "        <div style=\"background-color: #228B22; color: white;\n",
       "                    padding: 4px 8px; font-family: monospace; border-radius: 4px;\">\n",
       "            ✅ 2025-08-12 21:39:14 - INFO - ⚠️ Unsupported file type: Z-HP-logo.png\n",
       "        </div>\n",
       "        "
      ],
      "text/plain": [
       "<IPython.core.display.HTML object>"
      ]
     },
     "metadata": {},
     "output_type": "display_data"
    },
    {
     "data": {
      "text/html": [
       "\n",
       "        <div style=\"background-color: #228B22; color: white;\n",
       "                    padding: 4px 8px; font-family: monospace; border-radius: 4px;\">\n",
       "            ✅ 2025-08-12 21:39:14 - INFO - Function 'load_input_files' took 5.3603 seconds.\n",
       "        </div>\n",
       "        "
      ],
      "text/plain": [
       "<IPython.core.display.HTML object>"
      ]
     },
     "metadata": {},
     "output_type": "display_data"
    },
    {
     "data": {
      "text/html": [
       "\n",
       "        <div style=\"background-color: #228B22; color: white;\n",
       "                    padding: 4px 8px; font-family: monospace; border-radius: 4px;\">\n",
       "            ✅ 2025-08-12 21:39:14 - INFO - 📑 Starting chunking for 10 loaded documents\n",
       "        </div>\n",
       "        "
      ],
      "text/plain": [
       "<IPython.core.display.HTML object>"
      ]
     },
     "metadata": {},
     "output_type": "display_data"
    },
    {
     "data": {
      "text/html": [
       "\n",
       "        <div style=\"background-color: #228B22; color: white;\n",
       "                    padding: 4px 8px; font-family: monospace; border-radius: 4px;\">\n",
       "            ✅ 2025-08-12 21:39:15 - INFO - 🧩 Created 139 total chunks (size=4096, overlap=256)\n",
       "        </div>\n",
       "        "
      ],
      "text/plain": [
       "<IPython.core.display.HTML object>"
      ]
     },
     "metadata": {},
     "output_type": "display_data"
    },
    {
     "data": {
      "text/html": [
       "\n",
       "        <div style=\"background-color: #228B22; color: white;\n",
       "                    padding: 4px 8px; font-family: monospace; border-radius: 4px;\">\n",
       "            ✅ 2025-08-12 21:39:15 - INFO - Function 'create_chunks' took 0.8189 seconds.\n",
       "        </div>\n",
       "        "
      ],
      "text/plain": [
       "<IPython.core.display.HTML object>"
      ]
     },
     "metadata": {},
     "output_type": "display_data"
    },
    {
     "data": {
      "text/html": [
       "\n",
       "        <div style=\"background-color: #228B22; color: white;\n",
       "                    padding: 4px 8px; font-family: monospace; border-radius: 4px;\">\n",
       "            ✅ 2025-08-12 21:39:15 - INFO - 🧩 Generating answers for 139 chunks using rewritten question: 'What machine learning classification algorithms are mentioned or utilized in the project documentation?'\n",
       "        </div>\n",
       "        "
      ],
      "text/plain": [
       "<IPython.core.display.HTML object>"
      ]
     },
     "metadata": {},
     "output_type": "display_data"
    },
    {
     "name": "stderr",
     "output_type": "stream",
     "text": [
      "🔁 Processing each chunk: 100%|██████████| 139/139 [02:52<00:00,  1.24s/it, group=✅ Chunk 139 response length: 28 chars] \n"
     ]
    },
    {
     "data": {
      "text/html": [
       "\n",
       "        <div style=\"background-color: #228B22; color: white;\n",
       "                    padding: 4px 8px; font-family: monospace; border-radius: 4px;\">\n",
       "            ✅ 2025-08-12 21:42:07 - INFO - 🧠 Finished generating 139 chunk-level responses.\n",
       "        </div>\n",
       "        "
      ],
      "text/plain": [
       "<IPython.core.display.HTML object>"
      ]
     },
     "metadata": {},
     "output_type": "display_data"
    },
    {
     "data": {
      "text/html": [
       "\n",
       "        <div style=\"background-color: #228B22; color: white;\n",
       "                    padding: 4px 8px; font-family: monospace; border-radius: 4px;\">\n",
       "            ✅ 2025-08-12 21:42:07 - INFO - Function 'generate_answer_per_chunks' took 172.8217 seconds.\n",
       "        </div>\n",
       "        "
      ],
      "text/plain": [
       "<IPython.core.display.HTML object>"
      ]
     },
     "metadata": {},
     "output_type": "display_data"
    },
    {
     "data": {
      "text/html": [
       "\n",
       "        <div style=\"background-color: #228B22; color: white;\n",
       "                    padding: 4px 8px; font-family: monospace; border-radius: 4px;\">\n",
       "            ✅ 2025-08-12 21:42:07 - INFO - 🧠 Synthesizing across 1 chunk groups\n",
       "        </div>\n",
       "        "
      ],
      "text/plain": [
       "<IPython.core.display.HTML object>"
      ]
     },
     "metadata": {},
     "output_type": "display_data"
    },
    {
     "data": {
      "text/html": [
       "\n",
       "        <div style=\"background-color: #228B22; color: white;\n",
       "                    padding: 4px 8px; font-family: monospace; border-radius: 4px;\">\n",
       "            ✅ 2025-08-12 21:42:07 - INFO - 🧠 Synthesizing final answer from 139 chunk responses\n",
       "        </div>\n",
       "        "
      ],
      "text/plain": [
       "<IPython.core.display.HTML object>"
      ]
     },
     "metadata": {},
     "output_type": "display_data"
    },
    {
     "name": "stderr",
     "output_type": "stream",
     "text": [
      "🔁 Processing each grouped chunk answers: 100%|██████████| 1/1 [00:11<00:00, 11.64s/it, group=🧠 Synthesized partial answer (1/1)]\n"
     ]
    },
    {
     "data": {
      "text/html": [
       "\n",
       "        <div style=\"background-color: #228B22; color: white;\n",
       "                    padding: 4px 8px; font-family: monospace; border-radius: 4px;\">\n",
       "            ✅ 2025-08-12 21:42:19 - INFO - ✅ Synthesized 1 group-level summaries.\n",
       "        </div>\n",
       "        "
      ],
      "text/plain": [
       "<IPython.core.display.HTML object>"
      ]
     },
     "metadata": {},
     "output_type": "display_data"
    },
    {
     "data": {
      "text/html": [
       "\n",
       "        <div style=\"background-color: #228B22; color: white;\n",
       "                    padding: 4px 8px; font-family: monospace; border-radius: 4px;\">\n",
       "            ✅ 2025-08-12 21:42:19 - INFO - Function 'generate_synthetized_answer' took 11.6467 seconds.\n",
       "        </div>\n",
       "        "
      ],
      "text/plain": [
       "<IPython.core.display.HTML object>"
      ]
     },
     "metadata": {},
     "output_type": "display_data"
    },
    {
     "data": {
      "text/html": [
       "\n",
       "        <div style=\"background-color: #228B22; color: white;\n",
       "                    padding: 4px 8px; font-family: monospace; border-radius: 4px;\">\n",
       "            ✅ 2025-08-12 21:42:19 - INFO - 💾 Stored question-answer pair in memory (key: which machine learning classification algorithms are used in this project?)\n",
       "        </div>\n",
       "        "
      ],
      "text/plain": [
       "<IPython.core.display.HTML object>"
      ]
     },
     "metadata": {},
     "output_type": "display_data"
    },
    {
     "data": {
      "text/html": [
       "\n",
       "        <div style=\"background-color: #228B22; color: white;\n",
       "                    padding: 4px 8px; font-family: monospace; border-radius: 4px;\">\n",
       "            ✅ 2025-08-12 21:42:19 - INFO - Function 'update_memory' took 0.0113 seconds.\n",
       "        </div>\n",
       "        "
      ],
      "text/plain": [
       "<IPython.core.display.HTML object>"
      ]
     },
     "metadata": {},
     "output_type": "display_data"
    },
    {
     "name": "stdout",
     "output_type": "stream",
     "text": [
      "\n",
      "🔚 === Final Answer ===\n",
      "\n",
      "# 🧠 Synthesized partial answer (1/1)\n",
      "\n",
      "# Machine Learning Classification Algorithms\n",
      "     The machine learning classification algorithms mentioned or utilized in the project documentation are:\n",
      "\n",
      "1. **Train/Test Split**: This is a technique used to evaluate the performance of a machine learning model. It involves splitting the dataset into two parts: a training set and a test set.\n",
      "\n",
      "2. **StandardScaler**: This is a feature scaling algorithm used to scale the features of a dataset to have a mean of 0 and a standard deviation of 1. This is useful for many machine learning algorithms that assume features are on the same scale.\n",
      "\n",
      "3. **Logistic Regression (LR)**: This is a linear model used for classification problems. It is based on the logistic function, which maps any real-valued number to a value between 0 and 1.\n",
      "\n",
      "4. **Linear Discriminant Analysis (LDA)**: This is a linear model used for classification problems. It is based on the idea of finding a linear combination of the features that maximizes the separation between the classes.\n",
      "\n",
      "5. **K-Nearest Neighbors (KNN)**: This is a non-parametric model used for classification problems. It is based on the idea of finding the K nearest neighbors to a new data point and using their labels to make a prediction.\n",
      "\n",
      "6. **Classification and Regression Trees (CART)**: This is a non-parametric model used for classification and regression problems. It is based on the idea of recursively partitioning the data into smaller subsets based on the values of the features.\n",
      "\n",
      "7. **Gaussian Naive Bayes (NB)**: This is a probabilistic model used for classification problems. It is based on the idea of assuming that the features are independent and identically distributed, and that the probability distribution of each feature is a Gaussian distribution.\n",
      "\n",
      "8. **Support Vector Machines (SVM)**: This is a linear model used for classification problems. It is based on the idea of finding the hyperplane that maximally separates the classes in the feature space.\n",
      "\n",
      "========================\n",
      "\n"
     ]
    },
    {
     "data": {
      "text/html": [
       "\n",
       "        <div style=\"background-color: #228B22; color: white;\n",
       "                    padding: 4px 8px; font-family: monospace; border-radius: 4px;\">\n",
       "            ✅ 2025-08-12 21:42:19 - INFO - 📤 Delivered final answer (2001 characters)\n",
       "        </div>\n",
       "        "
      ],
      "text/plain": [
       "<IPython.core.display.HTML object>"
      ]
     },
     "metadata": {},
     "output_type": "display_data"
    },
    {
     "data": {
      "text/html": [
       "\n",
       "        <div style=\"background-color: #228B22; color: white;\n",
       "                    padding: 4px 8px; font-family: monospace; border-radius: 4px;\">\n",
       "            ✅ 2025-08-12 21:42:19 - INFO - Function 'output_answer' took 0.0015 seconds.\n",
       "        </div>\n",
       "        "
      ],
      "text/plain": [
       "<IPython.core.display.HTML object>"
      ]
     },
     "metadata": {},
     "output_type": "display_data"
    },
    {
     "name": "stdout",
     "output_type": "stream",
     "text": [
      "CPU times: user 2min 59s, sys: 23.6 s, total: 3min 23s\n",
      "Wall time: 3min 24s\n"
     ]
    }
   ],
   "source": [
    "%%time\n",
    "\n",
    "final_graph = compiled_graph.invoke(\n",
    "        input={\n",
    "            \"topic\": TOPIC,\n",
    "            \"question\": QUESTION,\n",
    "            \"input_path\": INPUT_PATH, \n",
    "            \"memory\": memory, \n",
    "            \"llm\": llm,\n",
    "            \"messages\": [],\n",
    "        },\n",
    "    )"
   ]
  },
  {
   "cell_type": "markdown",
   "id": "4bbaea47-4f85-4601-9ae3-6f54d809204e",
   "metadata": {},
   "source": [
    "# Generated Answer"
   ]
  },
  {
   "cell_type": "code",
   "execution_count": 21,
   "id": "411d8847-ee43-4f83-8c5c-054118aa0626",
   "metadata": {},
   "outputs": [
    {
     "data": {
      "text/markdown": [
       "# 🧠 Synthesized partial answer (1/1)\n",
       "\n",
       "# Machine Learning Classification Algorithms\n",
       "     The machine learning classification algorithms mentioned or utilized in the project documentation are:\n",
       "\n",
       "1. **Train/Test Split**: This is a technique used to evaluate the performance of a machine learning model. It involves splitting the dataset into two parts: a training set and a test set.\n",
       "\n",
       "2. **StandardScaler**: This is a feature scaling algorithm used to scale the features of a dataset to have a mean of 0 and a standard deviation of 1. This is useful for many machine learning algorithms that assume features are on the same scale.\n",
       "\n",
       "3. **Logistic Regression (LR)**: This is a linear model used for classification problems. It is based on the logistic function, which maps any real-valued number to a value between 0 and 1.\n",
       "\n",
       "4. **Linear Discriminant Analysis (LDA)**: This is a linear model used for classification problems. It is based on the idea of finding a linear combination of the features that maximizes the separation between the classes.\n",
       "\n",
       "5. **K-Nearest Neighbors (KNN)**: This is a non-parametric model used for classification problems. It is based on the idea of finding the K nearest neighbors to a new data point and using their labels to make a prediction.\n",
       "\n",
       "6. **Classification and Regression Trees (CART)**: This is a non-parametric model used for classification and regression problems. It is based on the idea of recursively partitioning the data into smaller subsets based on the values of the features.\n",
       "\n",
       "7. **Gaussian Naive Bayes (NB)**: This is a probabilistic model used for classification problems. It is based on the idea of assuming that the features are independent and identically distributed, and that the probability distribution of each feature is a Gaussian distribution.\n",
       "\n",
       "8. **Support Vector Machines (SVM)**: This is a linear model used for classification problems. It is based on the idea of finding the hyperplane that maximally separates the classes in the feature space."
      ],
      "text/plain": [
       "<IPython.core.display.Markdown object>"
      ]
     },
     "metadata": {},
     "output_type": "display_data"
    }
   ],
   "source": [
    "answer = final_graph.get('answer')\n",
    "display(Markdown(answer))"
   ]
  },
  {
   "cell_type": "markdown",
   "id": "16159a90-d40d-4d20-b9e6-57cb3bd14cf3",
   "metadata": {},
   "source": [
    "# Message History"
   ]
  },
  {
   "cell_type": "code",
   "execution_count": 22,
   "id": "370f4cac-c92f-4f8b-b2e5-10cd12e08a87",
   "metadata": {
    "scrolled": true
   },
   "outputs": [
    {
     "name": "stdout",
     "output_type": "stream",
     "text": [
      "[\n",
      "    {\n",
      "        \"role\": \"developer\",\n",
      "        \"content\": \"User submitted a question.\"\n",
      "    },\n",
      "    {\n",
      "        \"role\": \"user\",\n",
      "        \"content\": \"Which machine learning classification algorithms are used in this project?\"\n",
      "    },\n",
      "    {\n",
      "        \"role\": \"developer\",\n",
      "        \"content\": \"\\ud83e\\udde0 Relevance check result:\"\n",
      "    },\n",
      "    {\n",
      "        \"role\": \"assistant\",\n",
      "        \"content\": \"yes\"\n",
      "    },\n",
      "    {\n",
      "        \"role\": \"developer\",\n",
      "        \"content\": \"\\ud83e\\udded No cached answer found for question: 'Which machine learning classification algorithms are used in this project?'\"\n",
      "    },\n",
      "    {\n",
      "        \"role\": \"developer\",\n",
      "        \"content\": \"\\u270f\\ufe0f Rewritten user question:\"\n",
      "    },\n",
      "    {\n",
      "        \"role\": \"assistant\",\n",
      "        \"content\": \"What machine learning classification algorithms are mentioned or utilized in the project documentation?\"\n",
      "    },\n",
      "    {\n",
      "        \"role\": \"developer\",\n",
      "        \"content\": \"\\ud83d\\udcc4 Loaded documents from: ../data/input/downloaded_repo/AI-Blueprints-main/data-science/classification-with-svm\"\n",
      "    },\n",
      "    {\n",
      "        \"role\": \"developer\",\n",
      "        \"content\": \"\\ud83e\\udde9 Chunked 10 documents into 139 chunks (size=4096, overlap=256)\"\n",
      "    },\n",
      "    {\n",
      "        \"role\": \"developer\",\n",
      "        \"content\": \"\\ud83e\\udde0 Processed 139 chunks for question: 'What machine learning classification algorithms are mentioned or utilized in the project documentation?'\"\n",
      "    },\n",
      "    {\n",
      "        \"role\": \"developer\",\n",
      "        \"content\": \"\\u2705 Synthesized 1 group-level summaries.\"\n",
      "    },\n",
      "    {\n",
      "        \"role\": \"assistant\",\n",
      "        \"content\": \"# \\ud83e\\udde0 Synthesized partial answer (1/1)\\n\\n# Machine Learning Classification Algorithms\\n     The machine learning classification algorithms mentioned or utilized in the project documentation are:\\n\\n1. **Train/Test Split**: This is a technique used to evaluate the performance of a machine learning model. It involves splitting the dataset into two parts: a training set and a test set.\\n\\n2. **StandardScaler**: This is a feature scaling algorithm used to scale the features of a dataset to have a mean of 0 and a standard deviation of 1. This is useful for many machine learning algorithms that assume features are on the same scale.\\n\\n3. **Logistic Regression (LR)**: This is a linear model used for classification problems. It is based on the logistic function, which maps any real-valued number to a value between 0 and 1.\\n\\n4. **Linear Discriminant Analysis (LDA)**: This is a linear model used for classification problems. It is based on the idea of finding a linear combination of the features that maximizes the separation between the classes.\\n\\n5. **K-Nearest Neighbors (KNN)**: This is a non-parametric model used for classification problems. It is based on the idea of finding the K nearest neighbors to a new data point and using their labels to make a prediction.\\n\\n6. **Classification and Regression Trees (CART)**: This is a non-parametric model used for classification and regression problems. It is based on the idea of recursively partitioning the data into smaller subsets based on the values of the features.\\n\\n7. **Gaussian Naive Bayes (NB)**: This is a probabilistic model used for classification problems. It is based on the idea of assuming that the features are independent and identically distributed, and that the probability distribution of each feature is a Gaussian distribution.\\n\\n8. **Support Vector Machines (SVM)**: This is a linear model used for classification problems. It is based on the idea of finding the hyperplane that maximally separates the classes in the feature space.\"\n",
      "    },\n",
      "    {\n",
      "        \"role\": \"developer\",\n",
      "        \"content\": \"\\ud83d\\udcbe Stored answer in memory for question key: 'which machine learning classification algorithms are used in this project?'\"\n",
      "    },\n",
      "    {\n",
      "        \"role\": \"developer\",\n",
      "        \"content\": \"\\ud83d\\udce4 Final answer delivered: # \\ud83e\\udde0 Synthesized partial answer (1/1)\\n\\n# Machine Learning Classification Algorithms\\n     The machine learning classification algorithms mentioned or utilized in the project documentation are:\\n\\n1. **Train/Test Split**: This is a technique used to evaluate the performance of a machine learning model. It involves splitting the dataset into two parts: a training set and a test set.\\n\\n2. **StandardScaler**: This is a feature scaling algorithm used to scale the features of a dataset to have a mean of 0 and a standard deviation of 1. This is useful for many machine learning algorithms that assume features are on the same scale.\\n\\n3. **Logistic Regression (LR)**: This is a linear model used for classification problems. It is based on the logistic function, which maps any real-valued number to a value between 0 and 1.\\n\\n4. **Linear Discriminant Analysis (LDA)**: This is a linear model used for classification problems. It is based on the idea of finding a linear combination of the features that maximizes the separation between the classes.\\n\\n5. **K-Nearest Neighbors (KNN)**: This is a non-parametric model used for classification problems. It is based on the idea of finding the K nearest neighbors to a new data point and using their labels to make a prediction.\\n\\n6. **Classification and Regression Trees (CART)**: This is a non-parametric model used for classification and regression problems. It is based on the idea of recursively partitioning the data into smaller subsets based on the values of the features.\\n\\n7. **Gaussian Naive Bayes (NB)**: This is a probabilistic model used for classification problems. It is based on the idea of assuming that the features are independent and identically distributed, and that the probability distribution of each feature is a Gaussian distribution.\\n\\n8. **Support Vector Machines (SVM)**: This is a linear model used for classification problems. It is based on the idea of finding the hyperplane that maximally separates the classes in the feature space.\"\n",
      "    }\n",
      "]\n"
     ]
    }
   ],
   "source": [
    "pretty_json = json.dumps(final_graph.get('messages'), indent=4)\n",
    "print(pretty_json)"
   ]
  },
  {
   "cell_type": "code",
   "execution_count": 23,
   "id": "1723e941-2523-4db6-ab89-fedffbc0be0b",
   "metadata": {},
   "outputs": [
    {
     "data": {
      "text/html": [
       "\n",
       "        <div style=\"background-color: #228B22; color: white;\n",
       "                    padding: 4px 8px; font-family: monospace; border-radius: 4px;\">\n",
       "            ✅ 2025-08-12 21:42:19 - INFO - ⏱️ Total execution time: 6m 7.88s\n",
       "        </div>\n",
       "        "
      ],
      "text/plain": [
       "<IPython.core.display.HTML object>"
      ]
     },
     "metadata": {},
     "output_type": "display_data"
    },
    {
     "data": {
      "text/html": [
       "\n",
       "        <div style=\"background-color: #228B22; color: white;\n",
       "                    padding: 4px 8px; font-family: monospace; border-radius: 4px;\">\n",
       "            ✅ 2025-08-12 21:42:19 - INFO - ✅ Notebook execution completed successfully.\n",
       "        </div>\n",
       "        "
      ],
      "text/plain": [
       "<IPython.core.display.HTML object>"
      ]
     },
     "metadata": {},
     "output_type": "display_data"
    }
   ],
   "source": [
    "end_time: float = time.time()\n",
    "elapsed_time: float = end_time - start_time\n",
    "elapsed_minutes: int = int(elapsed_time // 60)\n",
    "elapsed_seconds: float = elapsed_time % 60\n",
    "\n",
    "logger.info(f\"⏱️ Total execution time: {elapsed_minutes}m {elapsed_seconds:.2f}s\")\n",
    "logger.info(\"✅ Notebook execution completed successfully.\")"
   ]
  },
  {
   "cell_type": "markdown",
   "id": "d0c45acb",
   "metadata": {},
   "source": [
    "Built with ❤️ using [**HP AI Studio**](https://hp.com/ai-studio)."
   ]
  }
 ],
 "metadata": {
  "kernelspec": {
   "display_name": "Python [conda env:base] *",
   "language": "python",
   "name": "conda-base-py"
  },
  "language_info": {
   "codemirror_mode": {
    "name": "ipython",
    "version": 3
   },
   "file_extension": ".py",
   "mimetype": "text/x-python",
   "name": "python",
   "nbconvert_exporter": "python",
   "pygments_lexer": "ipython3",
   "version": "3.12.7"
  }
 },
 "nbformat": 4,
 "nbformat_minor": 5
}
