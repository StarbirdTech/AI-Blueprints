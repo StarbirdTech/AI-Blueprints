{
 "cells": [
  {
   "cell_type": "markdown",
   "id": "c5f8d3ca-e260-4d56-967d-dc4feb92e2e4",
   "metadata": {},
   "source": [
    "<h1 style=\\\"text-align: center; font-size: 50px;\\\"> <h1 style=\\\"text-align: center; font-size: 50px;\\\"> 📦 Register Model </h1> </h1>"
   ]
  },
  {
   "cell_type": "markdown",
   "id": "74217537-b174-49e0-b746-f3c53b5b0043",
   "metadata": {},
   "source": [
    "📘 Project Overview: \n",
    " This notebook demonstrates a modular architecture for answering natural language questions \n",
    " over a GitHub Repo using only local and open-source models (e.g., LLaMA.cpp).\n",
    " The system processes long documents chunk-by-chunk and synthesizes a final answer using a multi-step LLM workflow."
   ]
  },
  {
   "cell_type": "markdown",
   "id": "38f858ca",
   "metadata": {},
   "source": [
    "# Notebook Overview\n",
    "\n",
    "- Start Execution\n",
    "- Define User Constants\n",
    "- Install and Import Libraries\n",
    "- Configure Settings\n",
    "- Verify Assets\n",
    "- KV Memory\n",
    "- LLM Setup\n",
    "- State Model\n",
    "- Node Functions\n",
    "- Graph Definition\n",
    "- Graph Visualization\n",
    "- Generated Answer\n",
    "- Message History"
   ]
  },
  {
   "cell_type": "markdown",
   "id": "01a533df-f921-4f06-9197-9e33b9e5c799",
   "metadata": {},
   "source": [
    "# Start Execution"
   ]
  },
  {
   "cell_type": "code",
   "execution_count": 1,
   "id": "490becc1-2ff2-4273-a49f-0fdacf30c2c6",
   "metadata": {},
   "outputs": [],
   "source": [
    "# ─────── Standard Library Imports ───────\n",
    "import os  # OS-level utilities like path and environment operations\n",
    "import sys  # Access to interpreter variables and runtime configuration\n",
    "import time  # Time-related functions\n",
    "from pathlib import Path  # Object-oriented file system paths\n",
    "\n",
    "# Extend sys.path to include parent directory for local module resolution\n",
    "sys.path.append(os.path.abspath(os.path.join(os.getcwd(), \"..\")))\n",
    "\n",
    "# ─────── Local Application Imports ───────\n",
    "from src.utils import (  # Core utilities for logging, LLM interaction, and schema generation\n",
    "    display_image,\n",
    "    get_response_from_llm,\n",
    "    json_schema_from_type,\n",
    "    log_timing,\n",
    "    logger,\n",
    ")"
   ]
  },
  {
   "cell_type": "code",
   "execution_count": 2,
   "id": "16d77c68-e160-4c24-9844-de484272733e",
   "metadata": {},
   "outputs": [
    {
     "data": {
      "text/html": [
       "\n",
       "        <div style=\"background-color: #228B22; color: white;\n",
       "                    padding: 4px 8px; font-family: monospace; border-radius: 4px;\">\n",
       "            ✅ 2025-09-11 20:57:52 - INFO - Notebook execution started.\n",
       "        </div>\n",
       "        "
      ],
      "text/plain": [
       "<IPython.core.display.HTML object>"
      ]
     },
     "metadata": {},
     "output_type": "display_data"
    }
   ],
   "source": [
    "start_time = time.time()  \n",
    "logger.info(\"Notebook execution started.\")"
   ]
  },
  {
   "cell_type": "markdown",
   "id": "84444adc-85c6-45cd-8769-7159e29fbace",
   "metadata": {},
   "source": [
    "# Define User Constants"
   ]
  },
  {
   "cell_type": "code",
   "execution_count": 3,
   "id": "a21d3385-704e-4107-ae45-749decdd305d",
   "metadata": {},
   "outputs": [],
   "source": [
    "TOPIC: str = \"Classification Algorithms\"  \n",
    "QUESTION: str = \"Which machine learning classification algorithms are used in this project?\"\n",
    "REPO_URL: str = \"https://github.com/HPInc/AI-Blueprints\" \n",
    "FOLDER_PATH: Path = Path(\"data-science/classification-with-svm\") "
   ]
  },
  {
   "cell_type": "markdown",
   "id": "f8b7b5e0-2acd-4729-b8a2-03e81cf0df2d",
   "metadata": {},
   "source": [
    "# Install and Import Libraries"
   ]
  },
  {
   "cell_type": "code",
   "execution_count": 4,
   "id": "5b876fc6-cbb8-4330-9529-d2936b202d4a",
   "metadata": {},
   "outputs": [
    {
     "name": "stdout",
     "output_type": "stream",
     "text": [
      "Note: you may need to restart the kernel to use updated packages.\n",
      "CPU times: user 11.8 ms, sys: 10.3 ms, total: 22.1 ms\n",
      "Wall time: 1.06 s\n"
     ]
    }
   ],
   "source": [
    "%%time\n",
    "\n",
    "%pip install -r ../requirements.txt --quiet"
   ]
  },
  {
   "cell_type": "code",
   "execution_count": 5,
   "id": "8b95da1c-2715-497b-b1e0-2aaefe09dc04",
   "metadata": {},
   "outputs": [],
   "source": [
    "from __future__ import annotations  # Enables postponed evaluation of type annotations (PEP 563)\n",
    "\n",
    "# ─────── Standard Library Imports ───────\n",
    "import base64                        # Encoding and decoding binary data\n",
    "import functools                     # Higher-order functions and decorators\n",
    "import io                            # Core tools for stream handling\n",
    "import json                          # JSON serialization and deserialization\n",
    "import logging                       # Logging configuration\n",
    "import multiprocessing               # Multi-process parallelism\n",
    "import os                            # OS-level operations\n",
    "import shutil                        # File and directory operations\n",
    "import sys                           # System-specific parameters and functions\n",
    "import time                          # Time tracking utilities\n",
    "import warnings                      # Warning control\n",
    "import zipfile                       # Archive file handling\n",
    "from collections import namedtuple   # Lightweight immutable object containers\n",
    "from pathlib import Path             # Filesystem path manipulation\n",
    "from typing import (\n",
    "    Any, Dict, List, Literal, Optional, TypedDict  # Static type hints\n",
    ")\n",
    "\n",
    "\n",
    "# ─────── Third-Party Package Imports ───────\n",
    "import requests                      # HTTP requests for external resources\n",
    "import mlflow  # Model tracking and serving framework\n",
    "from mlflow.tracking import MlflowClient  # Interface to interact with MLflow tracking server for experiments, runs, and artifacts\n",
    "import yaml  # YAML file parsing\n",
    "from IPython.display import HTML, display, Markdown  # Rich output formatting in Jupyter environments\n",
    "from tqdm import tqdm  # Progress bar for loops\n",
    "\n",
    "# ─────── LangChain Core & Community Imports ───────\n",
    "from langchain.docstore.document import Document  # Document abstraction\n",
    "from langchain.text_splitter import RecursiveCharacterTextSplitter  # Intelligent text splitting\n",
    "from langchain_community.document_loaders import (  # Document loaders for different file types\n",
    "    CSVLoader,\n",
    "    PyPDFLoader,\n",
    "    TextLoader,\n",
    "    UnstructuredExcelLoader,\n",
    "    UnstructuredMarkdownLoader,\n",
    "    UnstructuredWordDocumentLoader,\n",
    ")\n",
    "from langchain_community.llms import LlamaCpp  # Integration for running LlamaCpp locally\n",
    "\n",
    "# ─────── LangGraph Imports ───────\n",
    "from langgraph.graph import END, START, StateGraph  # Constructs and controls stateful agent graphs\n",
    "\n",
    "# ─────── Local Application-Specific Imports ───────\n",
    "from src.agentic_feedback_model import AgenticFeedbackModel  # Core agent logic for feedback analysis\n",
    "from src.simple_kv_memory import SimpleKVMemory  # In-memory store for agent state"
   ]
  },
  {
   "cell_type": "markdown",
   "id": "14909251-86d2-4eff-b15e-4a8c4cbddc61",
   "metadata": {},
   "source": [
    "# Configure Settings"
   ]
  },
  {
   "cell_type": "code",
   "execution_count": 6,
   "id": "27be6c46",
   "metadata": {},
   "outputs": [],
   "source": [
    "# Suppress Python warnings\n",
    "warnings.filterwarnings(\"ignore\")"
   ]
  },
  {
   "cell_type": "code",
   "execution_count": 7,
   "id": "7a4c0d7c-48f8-45af-9ce5-fb76324ed0a4",
   "metadata": {},
   "outputs": [],
   "source": [
    "REPO_NAME = Path(REPO_URL.split('/')[-1] + '-main')"
   ]
  },
  {
   "cell_type": "code",
   "execution_count": 8,
   "id": "5b49f4d0-7662-43ce-ae95-59c13af024bc",
   "metadata": {},
   "outputs": [],
   "source": [
    "INPUT_PATH: Path = Path(\"../data/input/downloaded_repo\") / REPO_NAME /  FOLDER_PATH\n",
    "\n",
    "MEMORY_PATH: Path = Path(\"../data/memory\")   \n",
    "\n",
    "CONFIG_PATH: Path = Path(\"../configs/config.yaml\") \n",
    "\n",
    "MODEL_PATH = \"/home/jovyan/datafabric/meta-llama3.1-8b-Q8/Meta-Llama-3.1-8B-Instruct-Q8_0.gguf\"\n",
    "CONTEXT_WINDOW = 8192\n",
    "MAX_TOKENS = CONTEXT_WINDOW // 8\n",
    "CHUNK_SIZE = CONTEXT_WINDOW // 2\n",
    "CHUNK_OVERLAP = CHUNK_SIZE // 8  \n",
    "\n",
    "EXPERIMENT_NAME = \"AIStudio-Agentic-Github-Repo-Analyzer-with-LangGraph-Experiment\"\n",
    "RUN_NAME = \"AIStudio-Agentic-Github-Repo-Analyzer-with-LangGraph-Run\"\n",
    "MODEL_NAME = \"AIStudio-Agentic-Github-Repo-Analyzer-with-LangGraph-Model\""
   ]
  },
  {
   "cell_type": "code",
   "execution_count": 9,
   "id": "92c8dc01-e50f-4077-9056-b966895ad8ab",
   "metadata": {},
   "outputs": [
    {
     "data": {
      "text/html": [
       "\n",
       "        <div style=\"background-color: #228B22; color: white;\n",
       "                    padding: 4px 8px; font-family: monospace; border-radius: 4px;\">\n",
       "            ✅ 2025-09-11 20:57:59 - INFO - Notebook execution started.\n",
       "        </div>\n",
       "        "
      ],
      "text/plain": [
       "<IPython.core.display.HTML object>"
      ]
     },
     "metadata": {},
     "output_type": "display_data"
    }
   ],
   "source": [
    "logger.info('Notebook execution started.')"
   ]
  },
  {
   "cell_type": "markdown",
   "id": "a8dad079",
   "metadata": {},
   "source": [
    "## Verify Assets"
   ]
  },
  {
   "cell_type": "code",
   "execution_count": 10,
   "id": "98593ec3",
   "metadata": {},
   "outputs": [],
   "source": [
    "def log_asset_status(asset_path: str, asset_name: str) -> None:\n",
    "    \"\"\"\n",
    "    Logs the status of a given asset based on its existence.\n",
    "\n",
    "    Parameters:\n",
    "        asset_path (str): File or directory path to check.\n",
    "        asset_name (str): Name of the asset for logging context.\n",
    "    \"\"\"\n",
    "    if Path(asset_path).exists():\n",
    "        logger.info(f\"{asset_name} is properly configured.\")\n",
    "    else:\n",
    "        logger.info(f\"{asset_name} is not properly configured. Please ensure the required asset is correctly configured in your AI Studio project according to the README file.\")"
   ]
  },
  {
   "cell_type": "code",
   "execution_count": 11,
   "id": "61dd389c-4a0c-421f-9f29-fe9080aec9bd",
   "metadata": {},
   "outputs": [
    {
     "data": {
      "text/html": [
       "\n",
       "        <div style=\"background-color: #228B22; color: white;\n",
       "                    padding: 4px 8px; font-family: monospace; border-radius: 4px;\">\n",
       "            ✅ 2025-09-11 20:57:59 - INFO - Input Data is not properly configured. Please ensure the required asset is correctly configured in your AI Studio project according to the README file.\n",
       "        </div>\n",
       "        "
      ],
      "text/plain": [
       "<IPython.core.display.HTML object>"
      ]
     },
     "metadata": {},
     "output_type": "display_data"
    },
    {
     "data": {
      "text/html": [
       "\n",
       "        <div style=\"background-color: #228B22; color: white;\n",
       "                    padding: 4px 8px; font-family: monospace; border-radius: 4px;\">\n",
       "            ✅ 2025-09-11 20:57:59 - INFO - LLM is properly configured.\n",
       "        </div>\n",
       "        "
      ],
      "text/plain": [
       "<IPython.core.display.HTML object>"
      ]
     },
     "metadata": {},
     "output_type": "display_data"
    }
   ],
   "source": [
    "log_asset_status(\n",
    "    asset_path=INPUT_PATH,\n",
    "    asset_name=\"Input Data\",\n",
    ")\n",
    "log_asset_status(\n",
    "    asset_path=MODEL_PATH,\n",
    "    asset_name=\"LLM\",\n",
    ")"
   ]
  },
  {
   "cell_type": "markdown",
   "id": "5e5f0b3a-b878-4528-99f9-64678ae273bf",
   "metadata": {},
   "source": [
    "# KV Memory"
   ]
  },
  {
   "cell_type": "code",
   "execution_count": 12,
   "id": "fa0e3126-b7c4-407f-82ac-73955213f4e1",
   "metadata": {},
   "outputs": [],
   "source": [
    "memory: SimpleKVMemory = SimpleKVMemory(MEMORY_PATH)\n",
    "memory.set('dummy key', 'dummy value')"
   ]
  },
  {
   "cell_type": "markdown",
   "id": "808f6dbd-8b2e-4789-ba87-489c2a2cfcf4",
   "metadata": {},
   "source": [
    "# Download the GitHub Repo"
   ]
  },
  {
   "cell_type": "code",
   "execution_count": 13,
   "id": "b8572a88-2dde-4d3b-867c-a8c8f86d809e",
   "metadata": {},
   "outputs": [],
   "source": [
    "def download_github_repo(repo_url: str, output_dir: str = \"../data/input/downloaded_repo\") -> Path:\n",
    "    \"\"\"\n",
    "    Download and extract a public GitHub repository as a zip file.\n",
    "\n",
    "    Args:\n",
    "        repo_url (str): The GitHub URL (e.g., https://github.com/HPInc/AI-Blueprints)\n",
    "        output_dir (str): Directory to extract the repo contents into.\n",
    "\n",
    "    Returns:\n",
    "        Path: Path to the extracted root folder.\n",
    "    \"\"\"\n",
    "    # Normalize URL\n",
    "    repo_url = repo_url.rstrip(\"/\")\n",
    "    if not repo_url.startswith(\"https://github.com/\"):\n",
    "        raise ValueError(\"URL must be a valid GitHub repository URL.\")\n",
    "\n",
    "    # Extract user/repo name\n",
    "    parts = repo_url.replace(\"https://github.com/\", \"\").split(\"/\")\n",
    "    if len(parts) != 2:\n",
    "        raise ValueError(\"URL must be in format: https://github.com/owner/repo\")\n",
    "\n",
    "    owner, repo = parts\n",
    "    zip_url = f\"https://github.com/{owner}/{repo}/archive/refs/heads/main.zip\"\n",
    "\n",
    "    print(f\"📦 Downloading repo zip from: {zip_url}\")\n",
    "    response = requests.get(zip_url)\n",
    "    response.raise_for_status()\n",
    "\n",
    "    # Extract zip contents\n",
    "    with zipfile.ZipFile(io.BytesIO(response.content)) as z:\n",
    "        z.extractall(output_dir)\n",
    "\n",
    "    # The zip structure is usually: output_dir/repo-main/\n",
    "    extracted_path = Path(output_dir) / f\"{repo}-main\"\n",
    "    print(f\"✅ Repository extracted to: {extracted_path.resolve()}\")\n",
    "\n",
    "    return extracted_path"
   ]
  },
  {
   "cell_type": "code",
   "execution_count": 14,
   "id": "61b5fb9a-1a0e-4db7-a33c-69aceeeb7469",
   "metadata": {},
   "outputs": [
    {
     "name": "stdout",
     "output_type": "stream",
     "text": [
      "📦 Downloading repo zip from: https://github.com/HPInc/AI-Blueprints/archive/refs/heads/main.zip\n",
      "✅ Repository extracted to: /home/jovyan/AI-Blueprints/generative-ai/agentic-github-repo-analyzer-with-langgraph/data/input/downloaded_repo/AI-Blueprints-main\n",
      "CPU times: user 1.03 s, sys: 786 ms, total: 1.81 s\n",
      "Wall time: 27.8 s\n"
     ]
    },
    {
     "data": {
      "text/plain": [
       "PosixPath('../data/input/downloaded_repo/AI-Blueprints-main')"
      ]
     },
     "execution_count": 14,
     "metadata": {},
     "output_type": "execute_result"
    }
   ],
   "source": [
    "%%time\n",
    "\n",
    "download_github_repo(REPO_URL)"
   ]
  },
  {
   "cell_type": "markdown",
   "id": "d48ec21b-ac6e-44c8-ba14-955edb9ddab3",
   "metadata": {},
   "source": [
    "# Load Documents"
   ]
  },
  {
   "cell_type": "code",
   "execution_count": 15,
   "id": "1340bc2e-2866-4fa3-9739-105afeb24e9f",
   "metadata": {},
   "outputs": [],
   "source": [
    "class SafeTextLoader(TextLoader):\n",
    "    def load(self) -> list[Document]:\n",
    "        encodings = [\"utf-8\", \"utf-16\", \"latin-1\", \"cp1252\"]\n",
    "        for enc in encodings:\n",
    "            try:\n",
    "                with open(self.file_path, encoding=enc) as f:\n",
    "                    text = f.read()\n",
    "                return [Document(page_content=text)]\n",
    "            except Exception:\n",
    "                continue\n",
    "        raise ValueError(f\"Failed to decode file: {self.file_path}\")\n",
    "\n",
    "class NotebookLoader:\n",
    "    def __init__(self, file_path: str):\n",
    "        self.file_path = file_path\n",
    "\n",
    "    def load(self) -> list[Document]:\n",
    "        try:\n",
    "            with open(self.file_path, encoding=\"utf-8\") as f:\n",
    "                notebook = json.load(f)\n",
    "            cells = notebook.get(\"cells\", [])\n",
    "            source = \"\\n\".join(\"\".join(cell.get(\"source\", [])) for cell in cells)\n",
    "            return [Document(page_content=source)]\n",
    "        except Exception as e:\n",
    "            raise ValueError(f\"Failed to load notebook: {self.file_path}: {e}\")"
   ]
  },
  {
   "cell_type": "code",
   "execution_count": 16,
   "id": "da62e7ed-cd98-46a3-a954-a7a3cf39d8c4",
   "metadata": {},
   "outputs": [
    {
     "data": {
      "text/html": [
       "\n",
       "        <div style=\"background-color: #228B22; color: white;\n",
       "                    padding: 4px 8px; font-family: monospace; border-radius: 4px;\">\n",
       "            ✅ 2025-09-11 20:58:27 - INFO - 📂 Scanning directory for documents: ../data/input/downloaded_repo/AI-Blueprints-main/data-science/classification-with-svm\n",
       "        </div>\n",
       "        "
      ],
      "text/plain": [
       "<IPython.core.display.HTML object>"
      ]
     },
     "metadata": {},
     "output_type": "display_data"
    },
    {
     "data": {
      "text/html": [
       "\n",
       "        <div style=\"background-color: #228B22; color: white;\n",
       "                    padding: 4px 8px; font-family: monospace; border-radius: 4px;\">\n",
       "            ✅ 2025-09-11 20:58:31 - INFO - ✅ Loaded 1 docs from README.md\n",
       "        </div>\n",
       "        "
      ],
      "text/plain": [
       "<IPython.core.display.HTML object>"
      ]
     },
     "metadata": {},
     "output_type": "display_data"
    },
    {
     "data": {
      "text/html": [
       "\n",
       "        <div style=\"background-color: #228B22; color: white;\n",
       "                    padding: 4px 8px; font-family: monospace; border-radius: 4px;\">\n",
       "            ✅ 2025-09-11 20:58:31 - INFO - ✅ Loaded 1 docs from requirements.txt\n",
       "        </div>\n",
       "        "
      ],
      "text/plain": [
       "<IPython.core.display.HTML object>"
      ]
     },
     "metadata": {},
     "output_type": "display_data"
    },
    {
     "data": {
      "text/html": [
       "\n",
       "        <div style=\"background-color: #228B22; color: white;\n",
       "                    padding: 4px 8px; font-family: monospace; border-radius: 4px;\">\n",
       "            ✅ 2025-09-11 20:58:31 - INFO - ✅ Loaded 1 docs from config.yaml\n",
       "        </div>\n",
       "        "
      ],
      "text/plain": [
       "<IPython.core.display.HTML object>"
      ]
     },
     "metadata": {},
     "output_type": "display_data"
    },
    {
     "data": {
      "text/html": [
       "\n",
       "        <div style=\"background-color: #228B22; color: white;\n",
       "                    padding: 4px 8px; font-family: monospace; border-radius: 4px;\">\n",
       "            ✅ 2025-09-11 20:58:31 - INFO - ✅ Loaded 1 docs from Streamilt.pdf\n",
       "        </div>\n",
       "        "
      ],
      "text/plain": [
       "<IPython.core.display.HTML object>"
      ]
     },
     "metadata": {},
     "output_type": "display_data"
    },
    {
     "data": {
      "text/html": [
       "\n",
       "        <div style=\"background-color: #228B22; color: white;\n",
       "                    padding: 4px 8px; font-family: monospace; border-radius: 4px;\">\n",
       "            ✅ 2025-09-11 20:58:31 - INFO - ✅ Loaded 2 docs from StreamlitUI.pdf\n",
       "        </div>\n",
       "        "
      ],
      "text/plain": [
       "<IPython.core.display.HTML object>"
      ]
     },
     "metadata": {},
     "output_type": "display_data"
    },
    {
     "data": {
      "text/html": [
       "\n",
       "        <div style=\"background-color: #228B22; color: white;\n",
       "                    padding: 4px 8px; font-family: monospace; border-radius: 4px;\">\n",
       "            ✅ 2025-09-11 20:58:31 - INFO - ⚠️ Unsupported file type: successful-streamlit-ui-for-classification-with-svm.png\n",
       "        </div>\n",
       "        "
      ],
      "text/plain": [
       "<IPython.core.display.HTML object>"
      ]
     },
     "metadata": {},
     "output_type": "display_data"
    },
    {
     "data": {
      "text/html": [
       "\n",
       "        <div style=\"background-color: #228B22; color: white;\n",
       "                    padding: 4px 8px; font-family: monospace; border-radius: 4px;\">\n",
       "            ✅ 2025-09-11 20:58:31 - INFO - ✅ Loaded 3 docs from Swagger UI.pdf\n",
       "        </div>\n",
       "        "
      ],
      "text/plain": [
       "<IPython.core.display.HTML object>"
      ]
     },
     "metadata": {},
     "output_type": "display_data"
    },
    {
     "data": {
      "text/html": [
       "\n",
       "        <div style=\"background-color: #228B22; color: white;\n",
       "                    padding: 4px 8px; font-family: monospace; border-radius: 4px;\">\n",
       "            ✅ 2025-09-11 20:58:31 - INFO - ⚠️ Unsupported file type: swagger-UI-classification-with-svm.png\n",
       "        </div>\n",
       "        "
      ],
      "text/plain": [
       "<IPython.core.display.HTML object>"
      ]
     },
     "metadata": {},
     "output_type": "display_data"
    },
    {
     "data": {
      "text/html": [
       "\n",
       "        <div style=\"background-color: #228B22; color: white;\n",
       "                    padding: 4px 8px; font-family: monospace; border-radius: 4px;\">\n",
       "            ✅ 2025-09-11 20:58:31 - INFO - ✅ Loaded 4 docs from SwaggerUI.pdf\n",
       "        </div>\n",
       "        "
      ],
      "text/plain": [
       "<IPython.core.display.HTML object>"
      ]
     },
     "metadata": {},
     "output_type": "display_data"
    },
    {
     "data": {
      "text/html": [
       "\n",
       "        <div style=\"background-color: #228B22; color: white;\n",
       "                    padding: 4px 8px; font-family: monospace; border-radius: 4px;\">\n",
       "            ✅ 2025-09-11 20:58:31 - INFO - ✅ Loaded 1 docs from register-model.ipynb\n",
       "        </div>\n",
       "        "
      ],
      "text/plain": [
       "<IPython.core.display.HTML object>"
      ]
     },
     "metadata": {},
     "output_type": "display_data"
    },
    {
     "data": {
      "text/html": [
       "\n",
       "        <div style=\"background-color: #228B22; color: white;\n",
       "                    padding: 4px 8px; font-family: monospace; border-radius: 4px;\">\n",
       "            ✅ 2025-09-11 20:58:31 - INFO - ✅ Loaded 1 docs from run-workflow.ipynb\n",
       "        </div>\n",
       "        "
      ],
      "text/plain": [
       "<IPython.core.display.HTML object>"
      ]
     },
     "metadata": {},
     "output_type": "display_data"
    },
    {
     "data": {
      "text/html": [
       "\n",
       "        <div style=\"background-color: #228B22; color: white;\n",
       "                    padding: 4px 8px; font-family: monospace; border-radius: 4px;\">\n",
       "            ✅ 2025-09-11 20:58:31 - INFO - ✅ Loaded 1 docs from run-workflow_test.py\n",
       "        </div>\n",
       "        "
      ],
      "text/plain": [
       "<IPython.core.display.HTML object>"
      ]
     },
     "metadata": {},
     "output_type": "display_data"
    },
    {
     "data": {
      "text/html": [
       "\n",
       "        <div style=\"background-color: #228B22; color: white;\n",
       "                    padding: 4px 8px; font-family: monospace; border-radius: 4px;\">\n",
       "            ✅ 2025-09-11 20:58:31 - INFO - ✅ Loaded 1 docs from main-cloud.py\n",
       "        </div>\n",
       "        "
      ],
      "text/plain": [
       "<IPython.core.display.HTML object>"
      ]
     },
     "metadata": {},
     "output_type": "display_data"
    },
    {
     "data": {
      "text/html": [
       "\n",
       "        <div style=\"background-color: #228B22; color: white;\n",
       "                    padding: 4px 8px; font-family: monospace; border-radius: 4px;\">\n",
       "            ✅ 2025-09-11 20:58:31 - INFO - ✅ Loaded 1 docs from main.py\n",
       "        </div>\n",
       "        "
      ],
      "text/plain": [
       "<IPython.core.display.HTML object>"
      ]
     },
     "metadata": {},
     "output_type": "display_data"
    },
    {
     "data": {
      "text/html": [
       "\n",
       "        <div style=\"background-color: #228B22; color: white;\n",
       "                    padding: 4px 8px; font-family: monospace; border-radius: 4px;\">\n",
       "            ✅ 2025-09-11 20:58:31 - INFO - ⚠️ Unsupported file type: pyproject.toml\n",
       "        </div>\n",
       "        "
      ],
      "text/plain": [
       "<IPython.core.display.HTML object>"
      ]
     },
     "metadata": {},
     "output_type": "display_data"
    },
    {
     "data": {
      "text/html": [
       "\n",
       "        <div style=\"background-color: #228B22; color: white;\n",
       "                    padding: 4px 8px; font-family: monospace; border-radius: 4px;\">\n",
       "            ✅ 2025-09-11 20:58:31 - INFO - ✅ Loaded 1 docs from README.md\n",
       "        </div>\n",
       "        "
      ],
      "text/plain": [
       "<IPython.core.display.HTML object>"
      ]
     },
     "metadata": {},
     "output_type": "display_data"
    },
    {
     "data": {
      "text/html": [
       "\n",
       "        <div style=\"background-color: #228B22; color: white;\n",
       "                    padding: 4px 8px; font-family: monospace; border-radius: 4px;\">\n",
       "            ✅ 2025-09-11 20:58:31 - INFO - ⚠️ Unsupported file type: AI-Studio.png\n",
       "        </div>\n",
       "        "
      ],
      "text/plain": [
       "<IPython.core.display.HTML object>"
      ]
     },
     "metadata": {},
     "output_type": "display_data"
    },
    {
     "data": {
      "text/html": [
       "\n",
       "        <div style=\"background-color: #228B22; color: white;\n",
       "                    padding: 4px 8px; font-family: monospace; border-radius: 4px;\">\n",
       "            ✅ 2025-09-11 20:58:31 - INFO - ⚠️ Unsupported file type: HP-Logo.png\n",
       "        </div>\n",
       "        "
      ],
      "text/plain": [
       "<IPython.core.display.HTML object>"
      ]
     },
     "metadata": {},
     "output_type": "display_data"
    },
    {
     "data": {
      "text/html": [
       "\n",
       "        <div style=\"background-color: #228B22; color: white;\n",
       "                    padding: 4px 8px; font-family: monospace; border-radius: 4px;\">\n",
       "            ✅ 2025-09-11 20:58:31 - INFO - ⚠️ Unsupported file type: Z-HP-logo.png\n",
       "        </div>\n",
       "        "
      ],
      "text/plain": [
       "<IPython.core.display.HTML object>"
      ]
     },
     "metadata": {},
     "output_type": "display_data"
    }
   ],
   "source": [
    "logger.info(\"📂 Scanning directory for documents: %s\", INPUT_PATH)\n",
    "\n",
    "supported_extensions = {\n",
    "    \".txt\": SafeTextLoader,\n",
    "    \".csv\": lambda path: CSVLoader(path, encoding=\"utf-8\", csv_args={\"delimiter\": \",\"}),\n",
    "    \".xlsx\": UnstructuredExcelLoader,\n",
    "    \".docx\": UnstructuredWordDocumentLoader,\n",
    "    \".pdf\": PyPDFLoader,\n",
    "    \".md\": UnstructuredMarkdownLoader,\n",
    "    \".py\": SafeTextLoader,\n",
    "    \".json\": SafeTextLoader,\n",
    "    \".yml\": SafeTextLoader,\n",
    "    \".yaml\": SafeTextLoader,\n",
    "    \".ipynb\": NotebookLoader,\n",
    "}\n",
    "\n",
    "\n",
    "all_docs = []\n",
    "\n",
    "for file_path in Path(INPUT_PATH).rglob(\"*\"):\n",
    "    if any(part.startswith(\".\") and part not in {\".\", \"..\"} for part in file_path.parts):\n",
    "        continue\n",
    "\n",
    "    if file_path.is_dir():\n",
    "        continue\n",
    "\n",
    "    ext = file_path.suffix.lower()\n",
    "    loader_class = supported_extensions.get(ext)\n",
    "\n",
    "    if loader_class:\n",
    "        try:\n",
    "            loader = loader_class(str(file_path))\n",
    "            docs = loader.load()\n",
    "            all_docs.extend(docs)\n",
    "            logger.info(\"✅ Loaded %d docs from %s\", len(docs), file_path.name)\n",
    "        except Exception as e:\n",
    "            logger.warning(\"❌ Failed to load %s: %s\", file_path.name, e)\n",
    "    else:\n",
    "        logger.info(\"⚠️ Unsupported file type: %s\", file_path.name)"
   ]
  },
  {
   "cell_type": "code",
   "execution_count": 17,
   "id": "2f2df425-9816-4337-b573-e8ecb48a122a",
   "metadata": {},
   "outputs": [],
   "source": [
    "INPUT_TEXT = '\\n\\n'.join([doc.page_content for doc in all_docs])"
   ]
  },
  {
   "cell_type": "markdown",
   "id": "882e9213-a911-400f-a79f-b8fe944b887d",
   "metadata": {},
   "source": [
    "# MLflow Registration"
   ]
  },
  {
   "cell_type": "code",
   "execution_count": 18,
   "id": "914f9774-40d1-4186-a16a-1b7bc22d7858",
   "metadata": {},
   "outputs": [
    {
     "name": "stderr",
     "output_type": "stream",
     "text": [
      "2025/09/11 20:58:32 INFO mlflow.tracking.fluent: Experiment with name 'AIStudio-Agentic-Github-Repo-Analyzer-with-LangGraph-Experiment' does not exist. Creating a new experiment.\n"
     ]
    },
    {
     "name": "stdout",
     "output_type": "stream",
     "text": [
      "Using MLflow tracking URI: /phoenix/mlflow\n",
      "Experiment: AIStudio-Agentic-Github-Repo-Analyzer-with-LangGraph-Experiment\n"
     ]
    }
   ],
   "source": [
    "# 1. Set MLflow tracking URI and experiment\n",
    "mlflow.set_tracking_uri(os.getenv(\"MLFLOW_TRACKING_URI\", \"/phoenix/mlflow\"))\n",
    "mlflow.set_experiment(experiment_name=EXPERIMENT_NAME)\n",
    "print(f\"Using MLflow tracking URI: {mlflow.get_tracking_uri()}\")\n",
    "print(f\"Experiment: {EXPERIMENT_NAME}\")"
   ]
  },
  {
   "cell_type": "code",
   "execution_count": 19,
   "id": "b1c56599-743c-4ded-a3c9-4f03c0fbb04c",
   "metadata": {},
   "outputs": [
    {
     "name": "stderr",
     "output_type": "stream",
     "text": [
      "2025/09/11 20:58:32 INFO mlflow.models.signature: Inferring model signature from type hints\n"
     ]
    },
    {
     "name": "stdout",
     "output_type": "stream",
     "text": [
      "🚀 Started MLflow run: 7af09b5a2dfa4358b3a4749c7b7bae17\n"
     ]
    },
    {
     "data": {
      "application/vnd.jupyter.widget-view+json": {
       "model_id": "df3caf0f91a04bbb8fa82e0877062bf0",
       "version_major": 2,
       "version_minor": 0
      },
      "text/plain": [
       "Downloading artifacts:   0%|          | 0/1 [00:00<?, ?it/s]"
      ]
     },
     "metadata": {},
     "output_type": "display_data"
    },
    {
     "data": {
      "application/vnd.jupyter.widget-view+json": {
       "model_id": "67eb9c770aca49138e6c7323d1e4fe94",
       "version_major": 2,
       "version_minor": 0
      },
      "text/plain": [
       "Downloading artifacts:   0%|          | 0/1 [00:00<?, ?it/s]"
      ]
     },
     "metadata": {},
     "output_type": "display_data"
    },
    {
     "data": {
      "application/vnd.jupyter.widget-view+json": {
       "model_id": "48387817565d422a8422ea9f9f0300b5",
       "version_major": 2,
       "version_minor": 0
      },
      "text/plain": [
       "Downloading artifacts:   0%|          | 0/1 [00:00<?, ?it/s]"
      ]
     },
     "metadata": {},
     "output_type": "display_data"
    },
    {
     "data": {
      "application/vnd.jupyter.widget-view+json": {
       "model_id": "46efde72e8d542eca0cd1e85e77aa951",
       "version_major": 2,
       "version_minor": 0
      },
      "text/plain": [
       "Downloading artifacts:   0%|          | 0/8 [00:00<?, ?it/s]"
      ]
     },
     "metadata": {},
     "output_type": "display_data"
    },
    {
     "name": "stderr",
     "output_type": "stream",
     "text": [
      "Successfully registered model 'AIStudio-Agentic-Github-Repo-Analyzer-with-LangGraph-Model'.\n",
      "Created version '1' of model 'AIStudio-Agentic-Github-Repo-Analyzer-with-LangGraph-Model'.\n"
     ]
    },
    {
     "data": {
      "text/html": [
       "\n",
       "        <div style=\"background-color: #228B22; color: white;\n",
       "                    padding: 4px 8px; font-family: monospace; border-radius: 4px;\">\n",
       "            ✅ 2025-09-11 21:02:14 - INFO - ✅ Model 'AIStudio-Agentic-Github-Repo-Analyzer-with-LangGraph-Model' successfully logged and registered.\n",
       "        </div>\n",
       "        "
      ],
      "text/plain": [
       "<IPython.core.display.HTML object>"
      ]
     },
     "metadata": {},
     "output_type": "display_data"
    },
    {
     "name": "stdout",
     "output_type": "stream",
     "text": [
      "CPU times: user 892 ms, sys: 19.4 s, total: 20.3 s\n",
      "Wall time: 3min 42s\n"
     ]
    }
   ],
   "source": [
    "%%time\n",
    "\n",
    "# These should point to the actual files you're using for model and memory\n",
    "MODEL_ARTIFACTS = {\n",
    "    \"model_path\": str(MODEL_PATH),\n",
    "    \"memory_path\": str(MEMORY_PATH),\n",
    "    \"config_path\": str(CONFIG_PATH),\n",
    "    \"demo\": \"../demo\",\n",
    "}\n",
    " \n",
    "# === Start MLflow run, log, and register ===\n",
    "with mlflow.start_run(run_name=RUN_NAME) as run:\n",
    "    print(f\"🚀 Started MLflow run: {run.info.run_id}\")\n",
    "\n",
    "    # Log and register the model using the classmethod\n",
    "    AgenticFeedbackModel.log_model(\n",
    "        model_name=MODEL_NAME,\n",
    "        model_artifacts=MODEL_ARTIFACTS\n",
    "    )\n",
    "\n",
    "logger.info(f\"✅ Model '{MODEL_NAME}' successfully logged and registered.\")"
   ]
  },
  {
   "cell_type": "code",
   "execution_count": 20,
   "id": "139d19b6-c12f-4cdd-84eb-4ecd2466330a",
   "metadata": {},
   "outputs": [
    {
     "data": {
      "text/html": [
       "\n",
       "        <div style=\"background-color: #228B22; color: white;\n",
       "                    padding: 4px 8px; font-family: monospace; border-radius: 4px;\">\n",
       "            ✅ 2025-09-11 21:02:14 - INFO - Latest registered version of 'AIStudio-Agentic-Github-Repo-Analyzer-with-LangGraph-Model': 1\n",
       "        </div>\n",
       "        "
      ],
      "text/plain": [
       "<IPython.core.display.HTML object>"
      ]
     },
     "metadata": {},
     "output_type": "display_data"
    },
    {
     "data": {
      "text/html": [
       "\n",
       "        <div style=\"background-color: #228B22; color: white;\n",
       "                    padding: 4px 8px; font-family: monospace; border-radius: 4px;\">\n",
       "            ✅ 2025-09-11 21:02:14 - INFO - Signature: inputs: \n",
       "  [{input_text: string (required), question: string (required), topic: string (required)} (required)]\n",
       "outputs: \n",
       "  [{answer: string (required), messages: string (required)} (required)]\n",
       "params: \n",
       "  None\n",
       "\n",
       "        </div>\n",
       "        "
      ],
      "text/plain": [
       "<IPython.core.display.HTML object>"
      ]
     },
     "metadata": {},
     "output_type": "display_data"
    }
   ],
   "source": [
    "# 3. Retrieve the latest version from the Model Registry\n",
    "client = MlflowClient()\n",
    "versions = client.get_latest_versions(MODEL_NAME, stages=[\"None\"])\n",
    "\n",
    "if not versions:\n",
    "    raise RuntimeError(f\"No registered versions found for model '{MODEL_NAME}'.\")\n",
    "    \n",
    "latest_version = versions[0].version\n",
    "model_info = mlflow.models.get_model_info(f\"models:/{MODEL_NAME}/{latest_version}\")\n",
    "\n",
    "logger.info(f\"Latest registered version of '{MODEL_NAME}': {latest_version}\")\n",
    "logger.info(f\"Signature: {model_info.signature}\")"
   ]
  },
  {
   "cell_type": "code",
   "execution_count": 21,
   "id": "051d1f33-6f06-4c07-a7e3-dd60e478f95a",
   "metadata": {
    "scrolled": true
   },
   "outputs": [
    {
     "data": {
      "text/html": [
       "\n",
       "        <div style=\"background-color: #228B22; color: white;\n",
       "                    padding: 4px 8px; font-family: monospace; border-radius: 4px;\">\n",
       "            ✅ 2025-09-11 21:03:10 - INFO - Successfully loaded model 'AIStudio-Agentic-Github-Repo-Analyzer-with-LangGraph-Model' version 1 for inference.\n",
       "        </div>\n",
       "        "
      ],
      "text/plain": [
       "<IPython.core.display.HTML object>"
      ]
     },
     "metadata": {},
     "output_type": "display_data"
    },
    {
     "name": "stdout",
     "output_type": "stream",
     "text": [
      "CPU times: user 1.19 s, sys: 2.59 s, total: 3.78 s\n",
      "Wall time: 55.7 s\n"
     ]
    }
   ],
   "source": [
    "%%time\n",
    "\n",
    "# 4. Load the model from the Model Registry\n",
    "loaded_model = mlflow.pyfunc.load_model(model_uri=f\"models:/{MODEL_NAME}/{latest_version}\")\n",
    "logger.info(f\"Successfully loaded model '{MODEL_NAME}' version {latest_version} for inference.\")"
   ]
  },
  {
   "cell_type": "code",
   "execution_count": 22,
   "id": "7f9435e6-b591-416a-b263-b2432e61f0b3",
   "metadata": {
    "scrolled": true
   },
   "outputs": [
    {
     "name": "stdout",
     "output_type": "stream",
     "text": [
      "\n",
      "=== Running Sample Inference ===\n"
     ]
    },
    {
     "data": {
      "text/html": [
       "\n",
       "        <div style=\"background-color: #228B22; color: white;\n",
       "                    padding: 4px 8px; font-family: monospace; border-radius: 4px;\">\n",
       "            ✅ 2025-09-11 21:03:10 - INFO - 🗣️ Ingested user question: Which machine learning classification algorithms are used in this project?\n",
       "        </div>\n",
       "        "
      ],
      "text/plain": [
       "<IPython.core.display.HTML object>"
      ]
     },
     "metadata": {},
     "output_type": "display_data"
    },
    {
     "data": {
      "text/html": [
       "\n",
       "        <div style=\"background-color: #228B22; color: white;\n",
       "                    padding: 4px 8px; font-family: monospace; border-radius: 4px;\">\n",
       "            ✅ 2025-09-11 21:03:10 - INFO - Function 'ingest_question' took 0.0041 seconds.\n",
       "        </div>\n",
       "        "
      ],
      "text/plain": [
       "<IPython.core.display.HTML object>"
      ]
     },
     "metadata": {},
     "output_type": "display_data"
    },
    {
     "data": {
      "text/html": [
       "\n",
       "        <div style=\"background-color: #228B22; color: white;\n",
       "                    padding: 4px 8px; font-family: monospace; border-radius: 4px;\">\n",
       "            ✅ 2025-09-11 21:03:11 - INFO - 🧠 Relevance response: yes → Relevant\n",
       "        </div>\n",
       "        "
      ],
      "text/plain": [
       "<IPython.core.display.HTML object>"
      ]
     },
     "metadata": {},
     "output_type": "display_data"
    },
    {
     "data": {
      "text/html": [
       "\n",
       "        <div style=\"background-color: #228B22; color: white;\n",
       "                    padding: 4px 8px; font-family: monospace; border-radius: 4px;\">\n",
       "            ✅ 2025-09-11 21:03:11 - INFO - Function 'check_relevance' took 0.4680 seconds.\n",
       "        </div>\n",
       "        "
      ],
      "text/plain": [
       "<IPython.core.display.HTML object>"
      ]
     },
     "metadata": {},
     "output_type": "display_data"
    },
    {
     "data": {
      "text/html": [
       "\n",
       "        <div style=\"background-color: #228B22; color: white;\n",
       "                    padding: 4px 8px; font-family: monospace; border-radius: 4px;\">\n",
       "            ✅ 2025-09-11 21:03:11 - INFO - 🧭 Cache miss for question: Which machine learning classification algorithms are used in this project?\n",
       "        </div>\n",
       "        "
      ],
      "text/plain": [
       "<IPython.core.display.HTML object>"
      ]
     },
     "metadata": {},
     "output_type": "display_data"
    },
    {
     "data": {
      "text/html": [
       "\n",
       "        <div style=\"background-color: #228B22; color: white;\n",
       "                    padding: 4px 8px; font-family: monospace; border-radius: 4px;\">\n",
       "            ✅ 2025-09-11 21:03:11 - INFO - Function 'check_memory' took 0.0010 seconds.\n",
       "        </div>\n",
       "        "
      ],
      "text/plain": [
       "<IPython.core.display.HTML object>"
      ]
     },
     "metadata": {},
     "output_type": "display_data"
    },
    {
     "data": {
      "text/html": [
       "\n",
       "        <div style=\"background-color: #228B22; color: white;\n",
       "                    padding: 4px 8px; font-family: monospace; border-radius: 4px;\">\n",
       "            ✅ 2025-09-11 21:03:11 - INFO - ✏️ Rewritten user question:\n",
       "→ What machine learning classification algorithms are mentioned or utilized in the project documentation?\n",
       "        </div>\n",
       "        "
      ],
      "text/plain": [
       "<IPython.core.display.HTML object>"
      ]
     },
     "metadata": {},
     "output_type": "display_data"
    },
    {
     "data": {
      "text/html": [
       "\n",
       "        <div style=\"background-color: #228B22; color: white;\n",
       "                    padding: 4px 8px; font-family: monospace; border-radius: 4px;\">\n",
       "            ✅ 2025-09-11 21:03:11 - INFO - Function 'rewrite_question' took 0.4580 seconds.\n",
       "        </div>\n",
       "        "
      ],
      "text/plain": [
       "<IPython.core.display.HTML object>"
      ]
     },
     "metadata": {},
     "output_type": "display_data"
    },
    {
     "data": {
      "text/html": [
       "\n",
       "        <div style=\"background-color: #228B22; color: white;\n",
       "                    padding: 4px 8px; font-family: monospace; border-radius: 4px;\">\n",
       "            ✅ 2025-09-11 21:03:11 - INFO - 📑 Starting chunking for 1 loaded documents\n",
       "        </div>\n",
       "        "
      ],
      "text/plain": [
       "<IPython.core.display.HTML object>"
      ]
     },
     "metadata": {},
     "output_type": "display_data"
    },
    {
     "data": {
      "text/html": [
       "\n",
       "        <div style=\"background-color: #228B22; color: white;\n",
       "                    padding: 4px 8px; font-family: monospace; border-radius: 4px;\">\n",
       "            ✅ 2025-09-11 21:03:12 - INFO - 🧩 Created 135 total chunks (size=4096, overlap=256)\n",
       "        </div>\n",
       "        "
      ],
      "text/plain": [
       "<IPython.core.display.HTML object>"
      ]
     },
     "metadata": {},
     "output_type": "display_data"
    },
    {
     "data": {
      "text/html": [
       "\n",
       "        <div style=\"background-color: #228B22; color: white;\n",
       "                    padding: 4px 8px; font-family: monospace; border-radius: 4px;\">\n",
       "            ✅ 2025-09-11 21:03:12 - INFO - Function 'create_chunks' took 0.9440 seconds.\n",
       "        </div>\n",
       "        "
      ],
      "text/plain": [
       "<IPython.core.display.HTML object>"
      ]
     },
     "metadata": {},
     "output_type": "display_data"
    },
    {
     "data": {
      "text/html": [
       "\n",
       "        <div style=\"background-color: #228B22; color: white;\n",
       "                    padding: 4px 8px; font-family: monospace; border-radius: 4px;\">\n",
       "            ✅ 2025-09-11 21:03:12 - INFO - 🧩 Generating answers for 135 chunks using rewritten question: 'What machine learning classification algorithms are mentioned or utilized in the project documentation?'\n",
       "        </div>\n",
       "        "
      ],
      "text/plain": [
       "<IPython.core.display.HTML object>"
      ]
     },
     "metadata": {},
     "output_type": "display_data"
    },
    {
     "name": "stderr",
     "output_type": "stream",
     "text": [
      "🔁 Processing each chunk: 100%|██████████| 135/135 [02:55<00:00,  1.30s/it, group=✅ Chunk 135 response length: 28 chars] \n"
     ]
    },
    {
     "data": {
      "text/html": [
       "\n",
       "        <div style=\"background-color: #228B22; color: white;\n",
       "                    padding: 4px 8px; font-family: monospace; border-radius: 4px;\">\n",
       "            ✅ 2025-09-11 21:06:08 - INFO - 🧠 Finished generating 135 chunk-level responses.\n",
       "        </div>\n",
       "        "
      ],
      "text/plain": [
       "<IPython.core.display.HTML object>"
      ]
     },
     "metadata": {},
     "output_type": "display_data"
    },
    {
     "data": {
      "text/html": [
       "\n",
       "        <div style=\"background-color: #228B22; color: white;\n",
       "                    padding: 4px 8px; font-family: monospace; border-radius: 4px;\">\n",
       "            ✅ 2025-09-11 21:06:08 - INFO - Function 'generate_answer_per_chunks' took 175.9440 seconds.\n",
       "        </div>\n",
       "        "
      ],
      "text/plain": [
       "<IPython.core.display.HTML object>"
      ]
     },
     "metadata": {},
     "output_type": "display_data"
    },
    {
     "data": {
      "text/html": [
       "\n",
       "        <div style=\"background-color: #228B22; color: white;\n",
       "                    padding: 4px 8px; font-family: monospace; border-radius: 4px;\">\n",
       "            ✅ 2025-09-11 21:06:08 - INFO - 🧠 Synthesizing across 1 chunk groups\n",
       "        </div>\n",
       "        "
      ],
      "text/plain": [
       "<IPython.core.display.HTML object>"
      ]
     },
     "metadata": {},
     "output_type": "display_data"
    },
    {
     "data": {
      "text/html": [
       "\n",
       "        <div style=\"background-color: #228B22; color: white;\n",
       "                    padding: 4px 8px; font-family: monospace; border-radius: 4px;\">\n",
       "            ✅ 2025-09-11 21:06:08 - INFO - 🧠 Synthesizing final answer from 135 chunk responses\n",
       "        </div>\n",
       "        "
      ],
      "text/plain": [
       "<IPython.core.display.HTML object>"
      ]
     },
     "metadata": {},
     "output_type": "display_data"
    },
    {
     "name": "stderr",
     "output_type": "stream",
     "text": [
      "🔁 Processing each grouped chunk answers: 100%|██████████| 1/1 [00:10<00:00, 10.56s/it, group=🧠 Synthesized partial answer (1/1)]\n"
     ]
    },
    {
     "data": {
      "text/html": [
       "\n",
       "        <div style=\"background-color: #228B22; color: white;\n",
       "                    padding: 4px 8px; font-family: monospace; border-radius: 4px;\">\n",
       "            ✅ 2025-09-11 21:06:19 - INFO - ✅ Synthesized 1 group-level summaries.\n",
       "        </div>\n",
       "        "
      ],
      "text/plain": [
       "<IPython.core.display.HTML object>"
      ]
     },
     "metadata": {},
     "output_type": "display_data"
    },
    {
     "data": {
      "text/html": [
       "\n",
       "        <div style=\"background-color: #228B22; color: white;\n",
       "                    padding: 4px 8px; font-family: monospace; border-radius: 4px;\">\n",
       "            ✅ 2025-09-11 21:06:19 - INFO - Function 'generate_synthetized_answer' took 10.5680 seconds.\n",
       "        </div>\n",
       "        "
      ],
      "text/plain": [
       "<IPython.core.display.HTML object>"
      ]
     },
     "metadata": {},
     "output_type": "display_data"
    },
    {
     "data": {
      "text/html": [
       "\n",
       "        <div style=\"background-color: #228B22; color: white;\n",
       "                    padding: 4px 8px; font-family: monospace; border-radius: 4px;\">\n",
       "            ✅ 2025-09-11 21:06:19 - INFO - 💾 Stored question-answer pair in memory (key: which machine learning classification algorithms are used in this project?)\n",
       "        </div>\n",
       "        "
      ],
      "text/plain": [
       "<IPython.core.display.HTML object>"
      ]
     },
     "metadata": {},
     "output_type": "display_data"
    },
    {
     "data": {
      "text/html": [
       "\n",
       "        <div style=\"background-color: #228B22; color: white;\n",
       "                    padding: 4px 8px; font-family: monospace; border-radius: 4px;\">\n",
       "            ✅ 2025-09-11 21:06:19 - INFO - Function 'update_memory' took 0.0250 seconds.\n",
       "        </div>\n",
       "        "
      ],
      "text/plain": [
       "<IPython.core.display.HTML object>"
      ]
     },
     "metadata": {},
     "output_type": "display_data"
    },
    {
     "name": "stdout",
     "output_type": "stream",
     "text": [
      "\n",
      "🔚 === Final Answer ===\n",
      "\n",
      "# 🧠 Synthesized partial answer (1/1)\n",
      "\n",
      "# Machine Learning Classification Algorithms\n",
      "     The machine learning classification algorithms mentioned or utilized in the project documentation are:\n",
      "\n",
      "## 1. Train/Test Split\n",
      "     This is a technique used to evaluate the performance of a machine learning model. It involves splitting the dataset into two parts: a training set and a test set.\n",
      "\n",
      "## 2. StandardScaler\n",
      "     This is a feature scaling algorithm used to scale the features of a dataset to have a mean of 0 and a standard deviation of 1. This is useful for many machine learning algorithms that assume features are on the same scale.\n",
      "\n",
      "## 3. Logistic Regression (LR)\n",
      "     Logistic regression is a type of regression analysis that is used to model the relationship between a dependent variable and one or more independent variables.\n",
      "\n",
      "## 4. Linear Discriminant Analysis (LDA)\n",
      "     Linear discriminant analysis (LDA) is a type of linear regression analysis that is used to model the relationship between a dependent variable and one or more independent variables.\n",
      "\n",
      "## 5. K-Nearest Neighbors (KNN)\n",
      "     K-nearest neighbors (KNN) is a type of supervised learning algorithm that is used to classify objects based on their features.\n",
      "\n",
      "## 6. Classification and Regression Trees (CART)\n",
      "     Classification and regression trees (CART) is a type of decision tree algorithm that is used to classify objects based on their features.\n",
      "\n",
      "## 7. Gaussian Naive Bayes (NB)\n",
      "     Gaussian naive Bayes (NB) is a type of supervised learning algorithm that is used to classify objects based on their features.\n",
      "\n",
      "## 8. Support Vector Machines (SVM)\n",
      "     Support vector machines (SVM) is a type of supervised learning algorithm that is used to classify objects based on their features.\n",
      "\n",
      "========================\n",
      "\n"
     ]
    },
    {
     "data": {
      "text/html": [
       "\n",
       "        <div style=\"background-color: #228B22; color: white;\n",
       "                    padding: 4px 8px; font-family: monospace; border-radius: 4px;\">\n",
       "            ✅ 2025-09-11 21:06:19 - INFO - 📤 Delivered final answer (1754 characters)\n",
       "        </div>\n",
       "        "
      ],
      "text/plain": [
       "<IPython.core.display.HTML object>"
      ]
     },
     "metadata": {},
     "output_type": "display_data"
    },
    {
     "data": {
      "text/html": [
       "\n",
       "        <div style=\"background-color: #228B22; color: white;\n",
       "                    padding: 4px 8px; font-family: monospace; border-radius: 4px;\">\n",
       "            ✅ 2025-09-11 21:06:19 - INFO - Function 'output_answer' took 0.0019 seconds.\n",
       "        </div>\n",
       "        "
      ],
      "text/plain": [
       "<IPython.core.display.HTML object>"
      ]
     },
     "metadata": {},
     "output_type": "display_data"
    }
   ],
   "source": [
    "# 5. Run a sample inference using the loaded model\n",
    "input_payload = [{\"topic\": TOPIC, \"question\": QUESTION, \"input_text\": INPUT_TEXT, }]\n",
    "\n",
    "print(\"\\n=== Running Sample Inference ===\")\n",
    "results = loaded_model.predict(input_payload)\n",
    "result = results[0]"
   ]
  },
  {
   "cell_type": "markdown",
   "id": "fc4d05ba-ed68-46a5-971a-491ffb93c17a",
   "metadata": {},
   "source": [
    "# Generated Answer"
   ]
  },
  {
   "cell_type": "code",
   "execution_count": 23,
   "id": "3216c60d-5bfe-405f-868c-bf353d3609f5",
   "metadata": {},
   "outputs": [
    {
     "data": {
      "text/markdown": [
       "# 🧠 Synthesized partial answer (1/1)\n",
       "\n",
       "# Machine Learning Classification Algorithms\n",
       "     The machine learning classification algorithms mentioned or utilized in the project documentation are:\n",
       "\n",
       "## 1. Train/Test Split\n",
       "     This is a technique used to evaluate the performance of a machine learning model. It involves splitting the dataset into two parts: a training set and a test set.\n",
       "\n",
       "## 2. StandardScaler\n",
       "     This is a feature scaling algorithm used to scale the features of a dataset to have a mean of 0 and a standard deviation of 1. This is useful for many machine learning algorithms that assume features are on the same scale.\n",
       "\n",
       "## 3. Logistic Regression (LR)\n",
       "     Logistic regression is a type of regression analysis that is used to model the relationship between a dependent variable and one or more independent variables.\n",
       "\n",
       "## 4. Linear Discriminant Analysis (LDA)\n",
       "     Linear discriminant analysis (LDA) is a type of linear regression analysis that is used to model the relationship between a dependent variable and one or more independent variables.\n",
       "\n",
       "## 5. K-Nearest Neighbors (KNN)\n",
       "     K-nearest neighbors (KNN) is a type of supervised learning algorithm that is used to classify objects based on their features.\n",
       "\n",
       "## 6. Classification and Regression Trees (CART)\n",
       "     Classification and regression trees (CART) is a type of decision tree algorithm that is used to classify objects based on their features.\n",
       "\n",
       "## 7. Gaussian Naive Bayes (NB)\n",
       "     Gaussian naive Bayes (NB) is a type of supervised learning algorithm that is used to classify objects based on their features.\n",
       "\n",
       "## 8. Support Vector Machines (SVM)\n",
       "     Support vector machines (SVM) is a type of supervised learning algorithm that is used to classify objects based on their features."
      ],
      "text/plain": [
       "<IPython.core.display.Markdown object>"
      ]
     },
     "metadata": {},
     "output_type": "display_data"
    }
   ],
   "source": [
    "display(Markdown(result.answer))"
   ]
  },
  {
   "cell_type": "markdown",
   "id": "16159a90-d40d-4d20-b9e6-57cb3bd14cf3",
   "metadata": {},
   "source": [
    "# Message History"
   ]
  },
  {
   "cell_type": "code",
   "execution_count": 24,
   "id": "370f4cac-c92f-4f8b-b2e5-10cd12e08a87",
   "metadata": {
    "scrolled": true
   },
   "outputs": [
    {
     "name": "stdout",
     "output_type": "stream",
     "text": [
      "[\n",
      "    {\n",
      "        \"role\": \"developer\",\n",
      "        \"content\": \"User submitted a question.\"\n",
      "    },\n",
      "    {\n",
      "        \"role\": \"user\",\n",
      "        \"content\": \"Which machine learning classification algorithms are used in this project?\"\n",
      "    },\n",
      "    {\n",
      "        \"role\": \"developer\",\n",
      "        \"content\": \"\\ud83e\\udde0 Relevance check result:\"\n",
      "    },\n",
      "    {\n",
      "        \"role\": \"assistant\",\n",
      "        \"content\": \"yes\"\n",
      "    },\n",
      "    {\n",
      "        \"role\": \"developer\",\n",
      "        \"content\": \"\\ud83e\\udded No cached answer found for question: 'Which machine learning classification algorithms are used in this project?'\"\n",
      "    },\n",
      "    {\n",
      "        \"role\": \"developer\",\n",
      "        \"content\": \"\\u270f\\ufe0f Rewritten user question:\"\n",
      "    },\n",
      "    {\n",
      "        \"role\": \"assistant\",\n",
      "        \"content\": \"What machine learning classification algorithms are mentioned or utilized in the project documentation?\"\n",
      "    },\n",
      "    {\n",
      "        \"role\": \"developer\",\n",
      "        \"content\": \"\\ud83e\\udde9 Chunked 1 documents into 135 chunks (size=4096, overlap=256)\"\n",
      "    },\n",
      "    {\n",
      "        \"role\": \"developer\",\n",
      "        \"content\": \"\\ud83e\\udde0 Processed 135 chunks for question: 'What machine learning classification algorithms are mentioned or utilized in the project documentation?'\"\n",
      "    },\n",
      "    {\n",
      "        \"role\": \"developer\",\n",
      "        \"content\": \"\\u2705 Synthesized 1 group-level summaries.\"\n",
      "    },\n",
      "    {\n",
      "        \"role\": \"assistant\",\n",
      "        \"content\": \"# \\ud83e\\udde0 Synthesized partial answer (1/1)\\n\\n# Machine Learning Classification Algorithms\\n     The machine learning classification algorithms mentioned or utilized in the project documentation are:\\n\\n## 1. Train/Test Split\\n     This is a technique used to evaluate the performance of a machine learning model. It involves splitting the dataset into two parts: a training set and a test set.\\n\\n## 2. StandardScaler\\n     This is a feature scaling algorithm used to scale the features of a dataset to have a mean of 0 and a standard deviation of 1. This is useful for many machine learning algorithms that assume features are on the same scale.\\n\\n## 3. Logistic Regression (LR)\\n     Logistic regression is a type of regression analysis that is used to model the relationship between a dependent variable and one or more independent variables.\\n\\n## 4. Linear Discriminant Analysis (LDA)\\n     Linear discriminant analysis (LDA) is a type of linear regression analysis that is used to model the relationship between a dependent variable and one or more independent variables.\\n\\n## 5. K-Nearest Neighbors (KNN)\\n     K-nearest neighbors (KNN) is a type of supervised learning algorithm that is used to classify objects based on their features.\\n\\n## 6. Classification and Regression Trees (CART)\\n     Classification and regression trees (CART) is a type of decision tree algorithm that is used to classify objects based on their features.\\n\\n## 7. Gaussian Naive Bayes (NB)\\n     Gaussian naive Bayes (NB) is a type of supervised learning algorithm that is used to classify objects based on their features.\\n\\n## 8. Support Vector Machines (SVM)\\n     Support vector machines (SVM) is a type of supervised learning algorithm that is used to classify objects based on their features.\"\n",
      "    },\n",
      "    {\n",
      "        \"role\": \"developer\",\n",
      "        \"content\": \"\\ud83d\\udcbe Stored answer in memory for question key: 'which machine learning classification algorithms are used in this project?'\"\n",
      "    },\n",
      "    {\n",
      "        \"role\": \"developer\",\n",
      "        \"content\": \"\\ud83d\\udce4 Final answer delivered: # \\ud83e\\udde0 Synthesized partial answer (1/1)\\n\\n# Machine Learning Classification Algorithms\\n     The machine learning classification algorithms mentioned or utilized in the project documentation are:\\n\\n## 1. Train/Test Split\\n     This is a technique used to evaluate the performance of a machine learning model. It involves splitting the dataset into two parts: a training set and a test set.\\n\\n## 2. StandardScaler\\n     This is a feature scaling algorithm used to scale the features of a dataset to have a mean of 0 and a standard deviation of 1. This is useful for many machine learning algorithms that assume features are on the same scale.\\n\\n## 3. Logistic Regression (LR)\\n     Logistic regression is a type of regression analysis that is used to model the relationship between a dependent variable and one or more independent variables.\\n\\n## 4. Linear Discriminant Analysis (LDA)\\n     Linear discriminant analysis (LDA) is a type of linear regression analysis that is used to model the relationship between a dependent variable and one or more independent variables.\\n\\n## 5. K-Nearest Neighbors (KNN)\\n     K-nearest neighbors (KNN) is a type of supervised learning algorithm that is used to classify objects based on their features.\\n\\n## 6. Classification and Regression Trees (CART)\\n     Classification and regression trees (CART) is a type of decision tree algorithm that is used to classify objects based on their features.\\n\\n## 7. Gaussian Naive Bayes (NB)\\n     Gaussian naive Bayes (NB) is a type of supervised learning algorithm that is used to classify objects based on their features.\\n\\n## 8. Support Vector Machines (SVM)\\n     Support vector machines (SVM) is a type of supervised learning algorithm that is used to classify objects based on their features.\"\n",
      "    }\n",
      "]\n"
     ]
    }
   ],
   "source": [
    "print(result.messages)"
   ]
  },
  {
   "cell_type": "code",
   "execution_count": 25,
   "id": "1723e941-2523-4db6-ab89-fedffbc0be0b",
   "metadata": {},
   "outputs": [
    {
     "data": {
      "text/html": [
       "\n",
       "        <div style=\"background-color: #228B22; color: white;\n",
       "                    padding: 4px 8px; font-family: monospace; border-radius: 4px;\">\n",
       "            ✅ 2025-09-11 21:06:19 - INFO - ⏱️ Total execution time: 8m 26.50s\n",
       "        </div>\n",
       "        "
      ],
      "text/plain": [
       "<IPython.core.display.HTML object>"
      ]
     },
     "metadata": {},
     "output_type": "display_data"
    },
    {
     "data": {
      "text/html": [
       "\n",
       "        <div style=\"background-color: #228B22; color: white;\n",
       "                    padding: 4px 8px; font-family: monospace; border-radius: 4px;\">\n",
       "            ✅ 2025-09-11 21:06:19 - INFO - ✅ Notebook execution completed successfully.\n",
       "        </div>\n",
       "        "
      ],
      "text/plain": [
       "<IPython.core.display.HTML object>"
      ]
     },
     "metadata": {},
     "output_type": "display_data"
    }
   ],
   "source": [
    "end_time: float = time.time()\n",
    "elapsed_time: float = end_time - start_time\n",
    "elapsed_minutes: int = int(elapsed_time // 60)\n",
    "elapsed_seconds: float = elapsed_time % 60\n",
    "\n",
    "logger.info(f\"⏱️ Total execution time: {elapsed_minutes}m {elapsed_seconds:.2f}s\")\n",
    "logger.info(\"✅ Notebook execution completed successfully.\")"
   ]
  },
  {
   "cell_type": "markdown",
   "id": "d0c45acb",
   "metadata": {},
   "source": [
    "Built with ❤️ using [**HP AI Studio**](https://hp.com/ai-studio)."
   ]
  }
 ],
 "metadata": {
  "kernelspec": {
   "display_name": "Python [conda env:base] *",
   "language": "python",
   "name": "conda-base-py"
  },
  "language_info": {
   "codemirror_mode": {
    "name": "ipython",
    "version": 3
   },
   "file_extension": ".py",
   "mimetype": "text/x-python",
   "name": "python",
   "nbconvert_exporter": "python",
   "pygments_lexer": "ipython3",
   "version": "3.12.7"
  }
 },
 "nbformat": 4,
 "nbformat_minor": 5
}
