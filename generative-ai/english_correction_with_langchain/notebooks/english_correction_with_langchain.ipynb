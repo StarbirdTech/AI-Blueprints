{
 "cells": [
  {
   "cell_type": "markdown",
   "id": "0fdb4bbf",
   "metadata": {},
   "source": [
    "# English Correction with Langchain"
   ]
  },
  {
   "cell_type": "markdown",
   "id": "149608e8",
   "metadata": {},
   "source": [
    "# Overview"
   ]
  },
  {
   "cell_type": "markdown",
   "id": "115eb488",
   "metadata": {},
   "source": [
    "## Step 0: Configuring the Environment "
   ]
  },
  {
   "cell_type": "code",
   "execution_count": null,
   "id": "6591e9f3",
   "metadata": {
    "vscode": {
     "languageId": "plaintext"
    }
   },
   "outputs": [],
   "source": [
    "# Required Libraries\n",
    "!pip install -r ../requirements.txt --quiet"
   ]
  },
  {
   "cell_type": "code",
   "execution_count": null,
   "id": "97410cf1",
   "metadata": {
    "vscode": {
     "languageId": "plaintext"
    }
   },
   "outputs": [],
   "source": [
    "# Standard Libraries\n",
    "import os\n",
    "import sys\n",
    "import logging\n",
    "from collections import defaultdict\n",
    "\n",
    "# Add src directory to system path\n",
    "sys.path.append(os.path.abspath('../src'))\n",
    "\n",
    "# Internal Modules\n",
    "from github_extractor import GitHubMarkdownProcessor\n",
    "from utils import load_config_and_secrets\n",
    "from utils import (\n",
    "    load_config_and_secrets,\n",
    "    initialize_llm,\n",
    ")\n",
    "from parser import parse_md_for_grammar_correction\n",
    "from chunker import chunk_markdown\n",
    "from core.prompt_templates import get_markdown_correction_prompt\n",
    "from core.markdown_correction_service import MarkdownCorrectionService\n",
    "\n",
    "# Other modules\n",
    "import mlflow\n",
    "from mlflow.models import evaluate\n",
    "import pandas as pd"
   ]
  },
  {
   "cell_type": "markdown",
   "id": "b4d56403",
   "metadata": {},
   "source": [
    "### Define Constants and Paths"
   ]
  },
  {
   "cell_type": "code",
   "execution_count": null,
   "id": "3c21ae9c",
   "metadata": {
    "vscode": {
     "languageId": "plaintext"
    }
   },
   "outputs": [],
   "source": [
    "CONFIG_PATH = \"../configs/configs.yaml\"\n",
    "SECRETS_PATH = \"../configs/secrets.yaml\"\n",
    "LOCAL_MODEL_PATH = \"/home/jovyan/datafabric/llama2-7b/ggml-model-f16-Q5_K_M.gguf\""
   ]
  },
  {
   "cell_type": "markdown",
   "id": "84de48c5",
   "metadata": {},
   "source": [
    "### Configuration and Secrets Loading"
   ]
  },
  {
   "cell_type": "code",
   "execution_count": null,
   "id": "cca78569",
   "metadata": {
    "vscode": {
     "languageId": "plaintext"
    }
   },
   "outputs": [],
   "source": [
    "config, secrets = load_config_and_secrets(CONFIG_PATH, SECRETS_PATH)"
   ]
  },
  {
   "cell_type": "code",
   "execution_count": null,
   "id": "06d617b8",
   "metadata": {
    "vscode": {
     "languageId": "plaintext"
    }
   },
   "outputs": [],
   "source": [
    "# Create Logger\n",
    "logger = logging.getLogger(\"english-correction-notebook\")\n",
    "logger.setLevel(logging.INFO)\n",
    "\n",
    "formatter = logging.Formatter(\"%(asctime)s - %(levelname)s - %(message)s\", \n",
    "                             datefmt=\"%Y-%m-%d %H:%M:%S\") \n",
    "\n",
    "stream_handler = logging.StreamHandler()\n",
    "stream_handler.setFormatter(formatter)\n",
    "logger.addHandler(stream_handler)\n",
    "logger.propagate = False"
   ]
  },
  {
   "cell_type": "markdown",
   "id": "9594ff16",
   "metadata": {},
   "source": [
    "## Step 1: Extracting and Parsing Markdown Files From GitHub Repositories"
   ]
  },
  {
   "cell_type": "markdown",
   "id": "7f1634fe",
   "metadata": {},
   "source": [
    "### Extract Markdown Files"
   ]
  },
  {
   "cell_type": "code",
   "execution_count": null,
   "id": "2012bfaf",
   "metadata": {
    "vscode": {
     "languageId": "plaintext"
    }
   },
   "outputs": [],
   "source": [
    "# Repo URL and token\n",
    "repo_url = \"https://github.com/hp-david/test/tree/main\"\n",
    "access_token = secrets.get(\"GITHUB_ACCESS_TOKEN\")\n",
    "\n",
    "# Create processor instance\n",
    "processor = GitHubMarkdownProcessor(repo_url=repo_url, access_token=access_token)\n",
    "\n",
    "# Run preprocessing workflow\n",
    "markdowns = processor.run()"
   ]
  },
  {
   "cell_type": "markdown",
   "id": "fc969753",
   "metadata": {},
   "source": [
    "### Parse Markdown Files with Placeholders"
   ]
  },
  {
   "cell_type": "code",
   "execution_count": null,
   "id": "5b6c5a8c",
   "metadata": {
    "vscode": {
     "languageId": "plaintext"
    }
   },
   "outputs": [],
   "source": [
    "parsed_markdowns = {}\n",
    "placeholder_maps = {}\n",
    "\n",
    "for filename, content in markdowns.items():\n",
    "    # Parse the content and get placeholder map\n",
    "    placeholder_map, processed_content = parse_md_for_grammar_correction(content)\n",
    "    \n",
    "    # Store the processed content (maintains dictionary structure for chunker)\n",
    "    parsed_markdowns[filename] = processed_content\n",
    "    \n",
    "    # Store the placeholder map for later restoration\n",
    "    placeholder_maps[filename] = placeholder_map\n",
    "\n",
    "logger.info(f\"Parsed {len(parsed_markdowns)} files successfully\")"
   ]
  },
  {
   "cell_type": "markdown",
   "id": "6342a312",
   "metadata": {},
   "source": [
    "### Chunk Markdown Content"
   ]
  },
  {
   "cell_type": "code",
   "execution_count": null,
   "id": "545c7a75",
   "metadata": {
    "vscode": {
     "languageId": "plaintext"
    }
   },
   "outputs": [],
   "source": [
    "all_chunks = {}  \n",
    "\n",
    "for file_name, content in parsed_markdowns.items():\n",
    "    chunks = chunk_markdown(content, max_tokens=100)\n",
    "    all_chunks[file_name] = chunks\n",
    "\n",
    "# Print chunks during testing\n",
    "for file_name, chunks in all_chunks.items():\n",
    "    logger.info(f\"\\n===== {file_name} =====\\n\")\n",
    "    for i, chunk in enumerate(chunks):\n",
    "        logger.info(f\"\\n--- Chunk {i+1} ---\\n\")\n",
    "        logger.info(chunk)\n",
    "        logger.info(\"\\n\" + \"-\" * 40 + \"\\n\")"
   ]
  },
  {
   "cell_type": "markdown",
   "id": "78cfa1f8",
   "metadata": {},
   "source": [
    "## Step 2: Correct Markdown Files with LLM"
   ]
  },
  {
   "cell_type": "code",
   "execution_count": null,
   "id": "89a5b195",
   "metadata": {
    "vscode": {
     "languageId": "plaintext"
    }
   },
   "outputs": [],
   "source": [
    "# Get markdown correction prompt from prompt_templates module\n",
    "correction_prompt = get_markdown_correction_prompt()"
   ]
  },
  {
   "cell_type": "markdown",
   "id": "65823c9d",
   "metadata": {},
   "source": [
    "### Initialize Mode"
   ]
  },
  {
   "cell_type": "code",
   "execution_count": null,
   "id": "6470bbf6",
   "metadata": {
    "vscode": {
     "languageId": "plaintext"
    }
   },
   "outputs": [],
   "source": [
    "if \"model_source\" in config:\n",
    "    model_source = config[\"model_source\"]\n",
    "\n",
    "# Initialize llm \n",
    "llm = initialize_llm(model_source, secrets, LOCAL_MODEL_PATH)\n",
    "\n",
    "# Create the LLM chain with the correction prompt\n",
    "llm_chain = correction_prompt | llm"
   ]
  },
  {
   "cell_type": "markdown",
   "id": "9a7b3fb3",
   "metadata": {},
   "source": [
    "### Invoke Model on Each Chunk"
   ]
  },
  {
   "cell_type": "code",
   "execution_count": null,
   "id": "2eb6cc26",
   "metadata": {
    "vscode": {
     "languageId": "plaintext"
    }
   },
   "outputs": [],
   "source": [
    "results = []\n",
    "\n",
    "for file_name, chunks in all_chunks.items():  \n",
    "    for chunk in chunks:\n",
    "        response = llm_chain.invoke({\"markdown\": chunk})\n",
    "        results.append({\n",
    "            \"file\": file_name,\n",
    "            \"original\": chunk,\n",
    "            \"corrected\": response\n",
    "        })"
   ]
  },
  {
   "cell_type": "code",
   "execution_count": null,
   "id": "3b4223c3",
   "metadata": {
    "vscode": {
     "languageId": "plaintext"
    }
   },
   "outputs": [],
   "source": [
    "# Print results during testing\n",
    "for result in results:\n",
    "    logger.info(f\"\\n===== {result['file']} =====\\n\")\n",
    "    logger.info(\"--- Original ---\\n\")\n",
    "    logger.info(result[\"original\"])\n",
    "    logger.info(\"\\n--- Corrected ---\\n\")\n",
    "    logger.info(result[\"corrected\"])\n",
    "    logger.info(\"\\n\" + \"=\" * 60 + \"\\n\")"
   ]
  },
  {
   "cell_type": "markdown",
   "id": "51e81dfb",
   "metadata": {},
   "source": [
    "## ML Flow Logging and Eval"
   ]
  },
  {
   "cell_type": "markdown",
   "id": "7b12acae",
   "metadata": {},
   "source": [
    "### Reigster the Model with ML Flow"
   ]
  },
  {
   "cell_type": "code",
   "execution_count": null,
   "id": "8343330f",
   "metadata": {
    "vscode": {
     "languageId": "plaintext"
    }
   },
   "outputs": [],
   "source": [
    "mlflow.set_experiment(\"markdown-correction-experiment\")\n",
    "\n",
    "with mlflow.start_run(run_name=\"markdown-correction-run\") as run:\n",
    "    MarkdownCorrectionService.log_model(\n",
    "        llm_artifact=LOCAL_MODEL_PATH,\n",
    "        config_yaml=CONFIG_PATH,\n",
    "        secrets_yaml=SECRETS_PATH,\n",
    "    )\n",
    "\n",
    "    model_uri = f\"runs:/{run.info.run_id}/markdown_corrector\"\n",
    "    mlflow.register_model(model_uri, \"MarkdownCorrector\")\n",
    "\n",
    "    logger.info(f\"Model registered: MarkdownCorrector\")"
   ]
  },
  {
   "cell_type": "markdown",
   "id": "015cc5a9",
   "metadata": {},
   "source": [
    "### Testing ML Flow LLM Evaluation"
   ]
  },
  {
   "cell_type": "code",
   "execution_count": null,
   "id": "7b21d336",
   "metadata": {
    "vscode": {
     "languageId": "plaintext"
    }
   },
   "outputs": [],
   "source": [
    "from mlflow.metrics import ari_grade_level, flesch_kincaid_grade_level, exact_match, rouge1, rougeL\n",
    "\n",
    "eval_df = pd.DataFrame([\n",
    "    {\"markdown\": item[\"original\"], \"corrected\": item[\"corrected\"]}\n",
    "    for item in results\n",
    "])\n",
    "\n",
    "results = mlflow.evaluate(\n",
    "    model=model_uri,\n",
    "    data=eval_df,\n",
    "    targets=\"corrected\",\n",
    "    extra_metrics=[\n",
    "        ari_grade_level(),\n",
    "        flesch_kincaid_grade_level(),\n",
    "        exact_match(),\n",
    "        rouge1(),\n",
    "        rougeL()\n",
    "    ]\n",
    ")\n",
    "\n",
    "logger.info(\"Evaluation results:\")\n",
    "logger.info(results.metrics)"
   ]
  },
  {
   "cell_type": "code",
   "execution_count": null,
   "id": "3293cea5",
   "metadata": {
    "vscode": {
     "languageId": "plaintext"
    }
   },
   "outputs": [],
   "source": [
    "mlflow.log_metrics(results.metrics)"
   ]
  }
 ],
 "metadata": {
  "language_info": {
   "name": "python"
  }
 },
 "nbformat": 4,
 "nbformat_minor": 5
}
