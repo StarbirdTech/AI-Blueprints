{
 "cells": [
  {
   "cell_type": "markdown",
   "id": "0fdb4bbf",
   "metadata": {},
   "source": [
    "# English Correction with Langchain"
   ]
  },
  {
   "cell_type": "markdown",
   "id": "149608e8",
   "metadata": {},
   "source": [
    "# Overview"
   ]
  },
  {
   "cell_type": "markdown",
   "id": "115eb488",
   "metadata": {},
   "source": [
    "## Step 0: Configuring the Environment "
   ]
  },
  {
   "cell_type": "code",
   "execution_count": null,
   "id": "6591e9f3",
   "metadata": {
    "vscode": {
     "languageId": "plaintext"
    }
   },
   "outputs": [],
   "source": [
    "# Required Libraries\n",
    "!pip install -r ../requirements.txt --quiet"
   ]
  },
  {
   "cell_type": "code",
   "execution_count": null,
   "id": "97410cf1",
   "metadata": {
    "vscode": {
     "languageId": "plaintext"
    }
   },
   "outputs": [],
   "source": [
    "# Standard Libraries\n",
    "import os\n",
    "import sys\n",
    "from collections import defaultdict\n",
    "\n",
    "# Add src directory to system path\n",
    "sys.path.append(os.path.abspath('../src'))\n",
    "\n",
    "# Internal Modules\n",
    "from github_extractor import GitHubMarkdownProcessor\n",
    "from utils import load_config_and_secrets\n",
    "from utils import (\n",
    "    load_config_and_secrets,\n",
    "    initialize_llm,\n",
    ")"
   ]
  },
  {
   "cell_type": "markdown",
   "id": "b4d56403",
   "metadata": {},
   "source": [
    "### Define Constants and Paths"
   ]
  },
  {
   "cell_type": "code",
   "execution_count": null,
   "id": "3c21ae9c",
   "metadata": {
    "vscode": {
     "languageId": "plaintext"
    }
   },
   "outputs": [],
   "source": [
    "CONFIG_PATH = \"../configs/configs.yaml\"\n",
    "SECRETS_PATH = \"../configs/secrets.yaml\"\n",
    "LOCAL_MODEL_PATH = \"/home/jovyan/datafabric/llama2-7b/ggml-model-f16-Q5_K_M.gguf\""
   ]
  },
  {
   "cell_type": "markdown",
   "id": "84de48c5",
   "metadata": {},
   "source": [
    "### Configuration and Secrets Loading"
   ]
  },
  {
   "cell_type": "code",
   "execution_count": null,
   "id": "cca78569",
   "metadata": {
    "vscode": {
     "languageId": "plaintext"
    }
   },
   "outputs": [],
   "source": [
    "config, secrets = load_config_and_secrets(CONFIG_PATH, SECRETS_PATH)"
   ]
  },
  {
   "cell_type": "markdown",
   "id": "9594ff16",
   "metadata": {},
   "source": [
    "## Step 1: Extracting and Parsing Markdown Files From GitHub Repositories"
   ]
  },
  {
   "cell_type": "code",
   "execution_count": null,
   "id": "2012bfaf",
   "metadata": {
    "vscode": {
     "languageId": "plaintext"
    }
   },
   "outputs": [],
   "source": [
    "# Repo URL and token\n",
    "repo_url = \"https://github.com/hp-david/test/tree/main\"\n",
    "access_token = secrets.get(\"GITHUB_ACCESS_TOKEN\")\n",
    "\n",
    "# Create processor instance\n",
    "processor = GitHubMarkdownProcessor(repo_url=repo_url, access_token=access_token)\n",
    "\n",
    "# Run preprocessing workflow\n",
    "chunks = processor.run()"
   ]
  },
  {
   "cell_type": "markdown",
   "id": "78cfa1f8",
   "metadata": {},
   "source": [
    "## Step 2: Correct Markdown Files with LLM"
   ]
  },
  {
   "cell_type": "code",
   "execution_count": null,
   "id": "89a5b195",
   "metadata": {
    "vscode": {
     "languageId": "plaintext"
    }
   },
   "outputs": [],
   "source": [
    "from core.prompt_templates import get_markdown_correction_prompt\n",
    "\n",
    "# Get markdown correction prompt from prompt_templates module\n",
    "correction_prompt = get_markdown_correction_prompt()"
   ]
  },
  {
   "cell_type": "code",
   "execution_count": null,
   "id": "6470bbf6",
   "metadata": {
    "vscode": {
     "languageId": "plaintext"
    }
   },
   "outputs": [],
   "source": [
    "if \"model_source\" in config:\n",
    "    model_source = config[\"model_source\"]\n",
    "\n",
    "# Initialize llm \n",
    "llm = initialize_llm(model_source, secrets, LOCAL_MODEL_PATH)\n",
    "\n",
    "# Create the LLM chain with the correction prompt\n",
    "llm_chain = correction_prompt | llm"
   ]
  },
  {
   "cell_type": "code",
   "execution_count": null,
   "id": "2eb6cc26",
   "metadata": {
    "vscode": {
     "languageId": "plaintext"
    }
   },
   "outputs": [],
   "source": [
    "results = []\n",
    "\n",
    "# Process each markdown chunk through the language model and store the results\n",
    "for file_path, file_chunks in chunks.items():\n",
    "    for idx, chunk in enumerate(file_chunks):\n",
    "        response = llm_chain.invoke({\"markdown\": chunk})\n",
    "        results.append({\n",
    "            \"file\": file_path,\n",
    "            \"chunk_index\": idx,\n",
    "            \"original\": chunk,\n",
    "            \"corrected\": response\n",
    "        })"
   ]
  },
  {
   "cell_type": "code",
   "execution_count": null,
   "id": "3b4223c3",
   "metadata": {
    "vscode": {
     "languageId": "plaintext"
    }
   },
   "outputs": [],
   "source": [
    "# Print results during testing\n",
    "print(results)"
   ]
  },
  {
   "cell_type": "code",
   "execution_count": null,
   "id": "8343330f",
   "metadata": {
    "vscode": {
     "languageId": "plaintext"
    }
   },
   "outputs": [],
   "source": [
    "# Group corrected chunks by filename\n",
    "grouped_chunks = defaultdict(list)\n",
    "\n",
    "for item in results:\n",
    "    grouped_chunks[item[\"file\"]].append((item[\"chunk_index\"], item[\"corrected\"]))\n",
    "\n",
    "# Write one merged corrected markdown file per original file\n",
    "for file_path, chunks in grouped_chunks.items():\n",
    "    # Sort chunks by their original index to preserve order\n",
    "    sorted_chunks = [chunk for idx, chunk in sorted(chunks)]\n",
    "    merged_markdown = \"\\n\\n\".join(sorted_chunks)\n",
    "\n",
    "    output_filename = file_path.replace(\".md\", \"_corrected.md\")\n",
    "    output_path = os.path.join(\"corrected_output\", output_filename)\n",
    "\n",
    "    os.makedirs(\"corrected_output\", exist_ok=True)\n",
    "\n",
    "    with open(output_path, \"w\", encoding=\"utf-8\") as f:\n",
    "        f.write(merged_markdown)"
   ]
  }
 ],
 "metadata": {
  "language_info": {
   "name": "python"
  }
 },
 "nbformat": 4,
 "nbformat_minor": 5
}
