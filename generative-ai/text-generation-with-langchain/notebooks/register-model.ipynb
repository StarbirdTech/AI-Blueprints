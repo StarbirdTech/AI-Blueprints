{
 "cells": [
  {
   "cell_type": "code",
   "execution_count": 1,
   "id": "c3571923-119d-4958-bac3-72d30c4c07f0",
   "metadata": {},
   "outputs": [],
   "source": [
    "import logging\n",
    "import time\n",
    "\n",
    "# Configure logger\n",
    "logger: logging.Logger = logging.getLogger(\"run_workflow_logger\")\n",
    "logger.setLevel(logging.INFO)\n",
    "logger.propagate = False  # Prevent duplicate logs from parent loggers\n",
    "\n",
    "# Set formatter\n",
    "formatter: logging.Formatter = logging.Formatter(\n",
    "    fmt=\"%(asctime)s - %(levelname)s - %(message)s\",\n",
    "    datefmt=\"%Y-%m-%d %H:%M:%S\"\n",
    ")\n",
    "\n",
    "# Configure and attach stream handler\n",
    "stream_handler: logging.StreamHandler = logging.StreamHandler()\n",
    "stream_handler.setFormatter(formatter)\n",
    "logger.addHandler(stream_handler)"
   ]
  },
  {
   "cell_type": "code",
   "execution_count": 2,
   "id": "c40cd27a-a4a7-4c09-89c0-5be4217717c3",
   "metadata": {},
   "outputs": [
    {
     "name": "stderr",
     "output_type": "stream",
     "text": [
      "2025-07-09 02:36:02 - INFO - Notebook execution started.\n"
     ]
    }
   ],
   "source": [
    "start_time = time.time()  \n",
    "\n",
    "logger.info(\"Notebook execution started.\")"
   ]
  },
  {
   "cell_type": "code",
   "execution_count": 3,
   "id": "b23a663a-22ec-4f40-ab6b-5bd5659d5e4d",
   "metadata": {},
   "outputs": [
    {
     "name": "stdout",
     "output_type": "stream",
     "text": [
      "Note: you may need to restart the kernel to use updated packages.\n",
      "CPU times: user 133 ms, sys: 61.8 ms, total: 194 ms\n",
      "Wall time: 5.04 s\n"
     ]
    }
   ],
   "source": [
    "%%time\n",
    "\n",
    "%pip install -r ../requirements.txt --quiet"
   ]
  },
  {
   "cell_type": "code",
   "execution_count": null,
   "id": "066d4e2f-063f-4b5e-afc8-456e136a1c82",
   "metadata": {},
   "outputs": [],
   "source": [
    "\n",
    "# === Standard Library Imports ===\n",
    "import os\n",
    "import sys\n",
    "import json\n",
    "import warnings\n",
    "from datetime import datetime\n",
    "from pathlib import Path\n",
    "\n",
    "# Define the relative path to the 'src' directory (two levels up from current working directory)\n",
    "src_path = os.path.abspath(os.path.join(os.getcwd(), \"..\"))\n",
    "\n",
    "# Add 'src' directory to system path for module imports (e.g., utils)\n",
    "if src_path not in sys.path:\n",
    "    sys.path.append(src_path)\n",
    "\n",
    "# === Third-Party Imports ===\n",
    "import numpy as np\n",
    "import pandas as pd\n",
    "import mlflow\n",
    "from typing import List\n",
    "\n",
    "# Import transformers from huggingface\n",
    "from transformers import AutoModelForCausalLM, AutoTokenizer, pipeline\n",
    "\n",
    "#Import components of notebook\n",
    "from core.extract_text.arxiv_search import ArxivSearcher\n",
    "from core.generator.script_generator import ScriptGenerator\n",
    "from core.analyzer.scientific_paper_analyzer import ScientificPaperAnalyzer\n",
    "from core.deploy.text_generation_service import TextGenerationService\n",
    "\n",
    "#import langchain libraries\n",
    "from langchain_huggingface import HuggingFaceEmbeddings\n",
    "from langchain.schema import Document\n",
    "from langchain_text_splitters import RecursiveCharacterTextSplitter\n",
    "from langchain.vectorstores import Chroma\n",
    "from langchain.prompts import ChatPromptTemplate\n",
    "from langchain.schema.runnable import RunnablePassthrough\n",
    "from langchain.schema import StrOutputParser\n",
    "from langchain_huggingface import HuggingFacePipeline, HuggingFaceEndpoint\n",
    "from langchain_core.callbacks import CallbackManager, StreamingStdOutCallbackHandler\n",
    "from langchain_community.llms import LlamaCpp\n",
    "\n",
    "# === Project-Specific Imports (from src.utils) ===\n",
    "from src.utils import (\n",
    "    load_config_and_secrets,\n",
    "    configure_proxy,\n",
    "    initialize_llm,\n",
    "    configure_hf_cache\n",
    ")"
   ]
  },
  {
   "cell_type": "markdown",
   "id": "ee4c1df6-e894-4423-bfa4-0a9c2ccbd471",
   "metadata": {},
   "source": [
    "## Model Service Registration\n",
    "\n",
    "In this section, we implement the **Model Service**, a REST API responsible for serving the language model. The API is automatically documented using Swagger (via FastAPI), enabling interactive testing and clear documentation of the endpoints."
   ]
  },
  {
   "cell_type": "markdown",
   "id": "cf09222f-67ed-465a-90b4-585925d6d0f8",
   "metadata": {},
   "source": [
    "## Text Generation Service\n",
    "\n",
    "This section demonstrates how to use our TextGenerationService from the src/service directory. This approach improves code organization by separating the service implementation from the notebook, making it easier to maintain and update."
   ]
  },
  {
   "cell_type": "code",
   "execution_count": null,
   "id": "1b67f548-6765-4d42-8730-fab796acd64c",
   "metadata": {},
   "outputs": [
    {
     "name": "stderr",
     "output_type": "stream",
     "text": [
      "/opt/conda/lib/python3.12/site-packages/mlflow/pyfunc/utils/data_validation.py:168: UserWarning: \u001b[33mAdd type hints to the `predict` method to enable data validation and automatic signature inference during model logging. Check https://mlflow.org/docs/latest/model/python_model.html#type-hint-usage-in-pythonmodel for more details.\u001b[0m\n",
      "  color_warning(\n",
      "/opt/conda/lib/python3.12/site-packages/mlflow/pyfunc/utils/data_validation.py:168: UserWarning: \u001b[33mAdd type hints to the `predict` method to enable data validation and automatic signature inference during model logging. Check https://mlflow.org/docs/latest/model/python_model.html#type-hint-usage-in-pythonmodel for more details.\u001b[0m\n",
      "  color_warning(\n",
      "2025/07/09 02:36:31 INFO mlflow.tracking.fluent: Experiment with name 'Summarization_Service' does not exist. Creating a new experiment.\n",
      "/opt/conda/lib/python3.12/site-packages/mlflow/pyfunc/__init__.py:3212: UserWarning: \u001b[1;33mAn input example was not provided when logging the model. To ensure the model signature functions correctly, specify the `input_example` parameter. See https://mlflow.org/docs/latest/model/signatures.html#model-input-example for more details about the benefits of using input_example.\u001b[0m\n",
      "  color_warning(\n"
     ]
    },
    {
     "data": {
      "application/vnd.jupyter.widget-view+json": {
       "model_id": "283af8bda2ed48788001436701ab206c",
       "version_major": 2,
       "version_minor": 0
      },
      "text/plain": [
       "Downloading artifacts:   0%|          | 0/1 [00:00<?, ?it/s]"
      ]
     },
     "metadata": {},
     "output_type": "display_data"
    },
    {
     "data": {
      "application/vnd.jupyter.widget-view+json": {
       "model_id": "a50da07d812d491f937d0e57a5698235",
       "version_major": 2,
       "version_minor": 0
      },
      "text/plain": [
       "Downloading artifacts:   0%|          | 0/1 [00:00<?, ?it/s]"
      ]
     },
     "metadata": {},
     "output_type": "display_data"
    },
    {
     "data": {
      "application/vnd.jupyter.widget-view+json": {
       "model_id": "763ffc7e6b8c46e7aac2a9f87b21832e",
       "version_major": 2,
       "version_minor": 0
      },
      "text/plain": [
       "Downloading artifacts:   0%|          | 0/28 [00:00<?, ?it/s]"
      ]
     },
     "metadata": {},
     "output_type": "display_data"
    },
    {
     "data": {
      "application/vnd.jupyter.widget-view+json": {
       "model_id": "125c7c2acb27400eb1fa3402183343e8",
       "version_major": 2,
       "version_minor": 0
      },
      "text/plain": [
       "Downloading artifacts:   0%|          | 0/1 [00:00<?, ?it/s]"
      ]
     },
     "metadata": {},
     "output_type": "display_data"
    },
    {
     "name": "stderr",
     "output_type": "stream",
     "text": [
      "2025-07-09 02:43:11,462 - INFO - Model and artifacts successfully registered in MLflow.\n",
      "Successfully registered model 'Text_Summarization_Service'.\n"
     ]
    },
    {
     "name": "stdout",
     "output_type": "stream",
     "text": [
      "Model registered successfully with run ID: e90ccd3296994d57bdbf9268f2113236\n",
      "CPU times: user 2.73 s, sys: 31.2 s, total: 33.9 s\n",
      "Wall time: 6min 41s\n"
     ]
    },
    {
     "name": "stderr",
     "output_type": "stream",
     "text": [
      "Created version '1' of model 'Text_Summarization_Service'.\n"
     ]
    }
   ],
   "source": [
    "%%time\n",
    "\n",
    "sys.path.append(os.path.abspath(os.path.join(os.getcwd(), \"..\")))\n",
    "\n",
    "# In case you just want to run this cell without the rest of the notebook \n",
    "# (you still need to install the requirements and run the import block), run the following block:\n",
    "CONFIG_PATH = \"../configs/config.yaml\"\n",
    "SECRETS_PATH = \"../configs/secrets.yaml\"\n",
    "MODEL_PATH = \"/home/jovyan/datafabric/meta-llama3.1-8b-Q8/Meta-Llama-3.1-8B-Instruct-Q8_0.gguf\"\n",
    "config, secrets = load_config_and_secrets(CONFIG_PATH, SECRETS_PATH)\n",
    "\n",
    "# Import the TextGenerationService class\n",
    "from core.deploy.text_generation_service import TextGenerationService\n",
    "\n",
    "mlflow.set_tracking_uri('/phoenix/mlflow')\n",
    "# Set up the MLflow experiment\n",
    "mlflow.set_experiment(\"Text-Generation-service\")\n",
    "\n",
    "# Define path to the model\n",
    "\n",
    "# Check if the model file exists\n",
    "if not os.path.exists(MODEL_PATH):\n",
    "    print(f\"Warning: Model file not found at {MODEL_PATH}. You may need to update the path.\")\n",
    "\n",
    "# Define demo folder path\n",
    "DEMO_FOLDER = \"../demo\"\n",
    "\n",
    "#Only logs the model path in the case where it is local\n",
    "if config[\"model_source\"] == \"local\":\n",
    "    model_path = MODEL_PATH\n",
    "else:\n",
    "    model_path = None\n",
    "\n",
    "\n",
    "# Use the TextGenerationService's log_model method to register the model in MLflow\n",
    "with mlflow.start_run(run_name=\"Script-Generation\") as run:\n",
    "    # Log and register the model using the service's classmethod\n",
    "    TextGenerationService.log_model(\n",
    "         llm_artifact = MODEL_PATH,\n",
    "        config_yaml  = CONFIG_PATH,\n",
    "        secrets_yaml = SECRETS_PATH\n",
    "    )\n",
    "    \n",
    "    # Register the model in MLflow Model Registry\n",
    "    model_uri = f\"runs:/{run.info.run_id}/script_generation_model\"\n",
    "    mlflow.register_model(model_uri=model_uri, name=\"Script-Generation-Service\")\n",
    "    print(f\"Model registered successfully with run ID: {run.info.run_id}\")"
   ]
  },
  {
   "cell_type": "code",
   "execution_count": 6,
   "id": "8649162e-d673-4370-9a6f-9b37a8a1f34d",
   "metadata": {},
   "outputs": [
    {
     "name": "stderr",
     "output_type": "stream",
     "text": [
      "2025-07-09 02:43:11 - INFO - ⏱️ Total execution time: 7m 9.17s\n",
      "2025-07-09 02:43:11 - INFO - ✅ Notebook execution completed successfully.\n"
     ]
    }
   ],
   "source": [
    "end_time: float = time.time()\n",
    "elapsed_time: float = end_time - start_time\n",
    "elapsed_minutes: int = int(elapsed_time // 60)\n",
    "elapsed_seconds: float = elapsed_time % 60\n",
    "\n",
    "logger.info(f\"⏱️ Total execution time: {elapsed_minutes}m {elapsed_seconds:.2f}s\")\n",
    "logger.info(\"✅ Notebook execution completed successfully.\")"
   ]
  },
  {
   "cell_type": "markdown",
   "id": "d46e5db7-5e01-4186-a958-1b5585b71a7a",
   "metadata": {},
   "source": [
    "Built with ❤️ using [**HP AI Studio**](https://hp.com/ai-studio)."
   ]
  }
 ],
 "metadata": {
  "kernelspec": {
   "display_name": "Python [conda env:base] *",
   "language": "python",
   "name": "conda-base-py"
  },
  "language_info": {
   "codemirror_mode": {
    "name": "ipython",
    "version": 3
   },
   "file_extension": ".py",
   "mimetype": "text/x-python",
   "name": "python",
   "nbconvert_exporter": "python",
   "pygments_lexer": "ipython3",
   "version": "3.12.7"
  }
 },
 "nbformat": 4,
 "nbformat_minor": 5
}
