{
 "cells": [
  {
   "cell_type": "markdown",
   "id": "30ecc342",
   "metadata": {},
   "source": [
    "# Model Service for Code Generation \n",
    "\n",
    "In this section, we demonstrate how to deploy a code generation service that provides a REST API endpoint for generating code based on natural language queries. This service provides a REST API endpoint for generating code based on natural language queries, \n",
    "The service includes performance optimization features to handle large repositories:\n",
    "- **Parameter-based operation control** with `metadata_only` mode for fast processing \n",
    "- **Resource optimization** with batched processing and configurable timeouts"
   ]
  },
  {
   "cell_type": "markdown",
   "id": "ea547e6b",
   "metadata": {},
   "source": [
    "# Notebook Overview\n",
    "\n",
    "- Start Execution\n",
    "- Install and Import Libraries\n",
    "- Configure Settings\n",
    "- Register and Log the Model to MLFlow\n",
    "- API Usage Examples"
   ]
  },
  {
   "cell_type": "markdown",
   "id": "f62de18e",
   "metadata": {},
   "source": [
    "# Start Execution"
   ]
  },
  {
   "cell_type": "code",
   "execution_count": 1,
   "id": "fea72cd5",
   "metadata": {},
   "outputs": [],
   "source": [
    "import logging\n",
    "import time\n",
    "\n",
    "# Configure logger\n",
    "logger: logging.Logger = logging.getLogger(\"register_model_logger\")\n",
    "logger.setLevel(logging.INFO)\n",
    "logger.propagate = False  # Prevent duplicate logs from parent loggers\n",
    "\n",
    "# Set formatter\n",
    "formatter: logging.Formatter = logging.Formatter(\n",
    "    fmt=\"%(asctime)s - %(levelname)s - %(message)s\",\n",
    "    datefmt=\"%Y-%m-%d %H:%M:%S\"\n",
    ")\n",
    "\n",
    "# Configure and attach stream handler\n",
    "stream_handler: logging.StreamHandler = logging.StreamHandler()\n",
    "stream_handler.setFormatter(formatter)\n",
    "logger.addHandler(stream_handler)"
   ]
  },
  {
   "cell_type": "code",
   "execution_count": 2,
   "id": "dc46ab2b-a3ac-40b8-9be3-0f07d14ae585",
   "metadata": {},
   "outputs": [
    {
     "name": "stderr",
     "output_type": "stream",
     "text": [
      "2025-08-08 11:55:58 - INFO - Notebook execution started.\n"
     ]
    }
   ],
   "source": [
    "start_time = time.time()  \n",
    "\n",
    "logger.info(\"Notebook execution started.\")"
   ]
  },
  {
   "cell_type": "markdown",
   "id": "1f175e5c",
   "metadata": {},
   "source": [
    "# Install and Import Libraries"
   ]
  },
  {
   "cell_type": "code",
   "execution_count": 3,
   "id": "2019f851",
   "metadata": {},
   "outputs": [
    {
     "name": "stdout",
     "output_type": "stream",
     "text": [
      "Note: you may need to restart the kernel to use updated packages.\n",
      "CPU times: user 28.8 ms, sys: 7.83 ms, total: 36.7 ms\n",
      "Wall time: 1.74 s\n"
     ]
    }
   ],
   "source": [
    "%%time\n",
    "\n",
    "%pip install -r ../requirements.txt --quiet"
   ]
  },
  {
   "cell_type": "code",
   "execution_count": 4,
   "id": "b99cd164",
   "metadata": {},
   "outputs": [
    {
     "name": "stderr",
     "output_type": "stream",
     "text": [
      "/opt/conda/lib/python3.12/site-packages/mlflow/pyfunc/utils/data_validation.py:168: UserWarning: \u001b[33mAdd type hints to the `predict` method to enable data validation and automatic signature inference during model logging. Check https://mlflow.org/docs/latest/model/python_model.html#type-hint-usage-in-pythonmodel for more details.\u001b[0m\n",
      "  color_warning(\n",
      "/opt/conda/lib/python3.12/site-packages/mlflow/pyfunc/model.py:172: UserWarning: \u001b[31mType hint used in the model's predict function is not supported for MLflow's schema validation. Type hints must be wrapped in list[...] because MLflow assumes the predict method to take multiple input instances. Specify your type hint as `list[typing.Dict[str, typing.Any]]` for a valid signature. Remove the type hint to disable this warning. To enable validation for the input data, specify input example or model signature when logging the model. \u001b[0m\n",
      "  func_info = _get_func_info_if_type_hint_supported(predict_attr)\n"
     ]
    }
   ],
   "source": [
    "# === Built-in ===\n",
    "import os\n",
    "import sys\n",
    "import datetime\n",
    "from pathlib import Path\n",
    "from typing import List\n",
    "import mlflow\n",
    "import logging\n",
    "\n",
    "sys.path.append(os.path.abspath(os.path.join(os.getcwd(), \"..\")))\n",
    "sys.path.append(os.path.abspath(os.path.join(os.getcwd(), \"../../\")))\n",
    "\n",
    "# === Third-party libraries ===\n",
    "import pandas as pd\n",
    "import warnings\n",
    "import yaml\n",
    "from IPython import get_ipython\n",
    "from IPython.display import display, Markdown, Code\n",
    "\n",
    "# === Langchain ===\n",
    "from langchain.prompts import ChatPromptTemplate\n",
    "from langchain.schema import Document, StrOutputParser\n",
    "from langchain.schema.runnable import RunnablePassthrough\n",
    "from langchain_core.prompts import PromptTemplate\n",
    "from langchain_huggingface import HuggingFaceEmbeddings\n",
    "\n",
    "# === Internal modules ===\n",
    " \n",
    "# Utils\n",
    "from src.utils import (\n",
    "    load_config,\n",
    "    load_secrets,\n",
    "    load_secrets_to_env,\n",
    "    configure_proxy,\n",
    "    initialize_llm,\n",
    "    configure_hf_cache,\n",
    "    clean_code,\n",
    "    generate_code_with_retries,\n",
    "    get_context_window,\n",
    "    dynamic_retriever,\n",
    "    format_docs_with_adaptive_context\n",
    ")\n",
    "\n",
    "# Import utility functions and CodeGenerationService\n",
    "from core.code_generation_service import CodeGenerationService"
   ]
  },
  {
   "cell_type": "markdown",
   "id": "f3a09188",
   "metadata": {},
   "source": [
    "# Configure Settings"
   ]
  },
  {
   "cell_type": "code",
   "execution_count": 5,
   "id": "c0274328",
   "metadata": {},
   "outputs": [],
   "source": [
    "# ------------------------ Suppress Verbose Logs ------------------------\n",
    "warnings.filterwarnings(\"ignore\")"
   ]
  },
  {
   "cell_type": "code",
   "execution_count": 6,
   "id": "e99df635",
   "metadata": {},
   "outputs": [],
   "source": [
    "# === Configuration settings ===\n",
    "CONFIG_PATH = \"../configs/config.yaml\"\n",
    "SECRETS_PATH = \"../configs/secrets.yaml\"\n",
    "DEMO_FOLDER = \"../demo\"\n",
    "MLFLOW_MODEL_NAME = \"Code-Generation-Model\"\n",
    "LOCAL_MODEL_PATH = \"/home/jovyan/datafabric/meta-llama3.1-8b-Q8/Meta-Llama-3.1-8B-Instruct-Q8_0.gguf\"\n",
    "\n",
    "# Define embedding model parameters\n",
    "EMBEDDING_MODEL_NAME = \"all-MiniLM-L6-v2\"\n",
    "EMBEDDING_MODEL_PATH = os.path.join(\n",
    "    os.environ.get(\"HF_HOME\", \"/home/jovyan/local/hugging_face\"),\n",
    "    \"embedding_models\", \n",
    "    EMBEDDING_MODEL_NAME\n",
    ")"
   ]
  },
  {
   "cell_type": "code",
   "execution_count": 7,
   "id": "17aeed9a",
   "metadata": {},
   "outputs": [],
   "source": [
    "# Configure HuggingFace cache for the embedding model\n",
    "configure_hf_cache()"
   ]
  },
  {
   "cell_type": "markdown",
   "id": "fba00fda-95db-4f0c-98cd-d5ea7b8dabd3",
   "metadata": {},
   "source": [
    "## Configuration and Secrets Loading\n",
    "\n",
    "In this section, we load configuration parameters and API keys from separate YAML files. This separation helps maintain security by keeping sensitive information (API keys) separate from configuration settings.\n",
    "\n",
    "- **config.yaml**: Contains non-sensitive configuration parameters like model sources and URLs\n",
    "- **secrets.yaml**: Contains sensitive API keys for services like HuggingFace\n",
    "- *(Optional for Premium users)* Secrets such as API keys for services like HuggingFace can be stored as environment variables for the project and loaded into the notebook (see the project's README file for steps on how to save secrets in Secrets Manager)."
   ]
  },
  {
   "cell_type": "code",
   "execution_count": 8,
   "id": "0548c1a0-d9f6-4f6a-a2ae-3265276cd503",
   "metadata": {},
   "outputs": [
    {
     "name": "stdout",
     "output_type": "stream",
     "text": [
      "No secrets file found at ../configs/secrets.yaml; relying on preexisting environment\n",
      "✅ Configuration loaded successfully\n",
      "✅ Secrets loaded successfully\n"
     ]
    }
   ],
   "source": [
    "# Load secrets from secrets.yaml file (if it exists) into environment\n",
    "if Path(SECRETS_PATH).exists():\n",
    "    load_secrets_to_env(SECRETS_PATH)\n",
    "else:\n",
    "    print(f\"No secrets file found at {SECRETS_PATH}; relying on preexisting environment\")\n",
    "\n",
    "# Retrieve secrets from environment\n",
    "try:\n",
    "    secrets = load_secrets()\n",
    "except ValueError:\n",
    "    secrets = {}\n",
    "\n",
    "# Load configuration and secrets\n",
    "config = load_config(CONFIG_PATH)\n",
    "\n",
    "print(\"✅ Configuration loaded successfully\")\n",
    "print(\"✅ Secrets loaded successfully\")"
   ]
  },
  {
   "cell_type": "markdown",
   "id": "65b156d7-0b39-4b73-8277-8448ddb9fbed",
   "metadata": {},
   "source": [
    "# Register and Log the Model to MLFlow"
   ]
  },
  {
   "cell_type": "code",
   "execution_count": 9,
   "id": "b0fd9146-acac-4735-84b1-9c2ab7342afd",
   "metadata": {},
   "outputs": [
    {
     "name": "stderr",
     "output_type": "stream",
     "text": [
      "2025-08-08 11:56:03,296 - INFO - Using local embedding model from: /home/jovyan/local/hugging_face/embedding_models/all-MiniLM-L6-v2\n",
      "2025/08/08 11:56:03 INFO mlflow.models.signature: Inferring model signature from type hints\n",
      "/opt/conda/lib/python3.12/site-packages/mlflow/pyfunc/__init__.py:3139: UserWarning: Failed to infer signature from type hint: Type hints must be wrapped in list[...] because MLflow assumes the predict method to take multiple input instances. Specify your type hint as `list[typing.Dict[str, typing.Any]]` for a valid signature.\n",
      "  signature_from_type_hints = _infer_signature_from_type_hints(\n"
     ]
    },
    {
     "data": {
      "application/vnd.jupyter.widget-view+json": {
       "model_id": "3c341262f6694bbca6b19d6d63ef154d",
       "version_major": 2,
       "version_minor": 0
      },
      "text/plain": [
       "Downloading artifacts:   0%|          | 0/1 [00:00<?, ?it/s]"
      ]
     },
     "metadata": {},
     "output_type": "display_data"
    },
    {
     "data": {
      "application/vnd.jupyter.widget-view+json": {
       "model_id": "1e2518bc629744fba834cafdf76571cb",
       "version_major": 2,
       "version_minor": 0
      },
      "text/plain": [
       "Downloading artifacts:   0%|          | 0/1 [00:00<?, ?it/s]"
      ]
     },
     "metadata": {},
     "output_type": "display_data"
    },
    {
     "data": {
      "application/vnd.jupyter.widget-view+json": {
       "model_id": "5b760d7148ba419686e451c742531cbe",
       "version_major": 2,
       "version_minor": 0
      },
      "text/plain": [
       "Downloading artifacts:   0%|          | 0/7 [00:00<?, ?it/s]"
      ]
     },
     "metadata": {},
     "output_type": "display_data"
    },
    {
     "data": {
      "application/vnd.jupyter.widget-view+json": {
       "model_id": "004fdef497a344bdaade18fac4896dbb",
       "version_major": 2,
       "version_minor": 0
      },
      "text/plain": [
       "Downloading artifacts:   0%|          | 0/11 [00:00<?, ?it/s]"
      ]
     },
     "metadata": {},
     "output_type": "display_data"
    },
    {
     "name": "stderr",
     "output_type": "stream",
     "text": [
      "2025-08-08 11:58:14,490 - INFO - Model and artifacts successfully registered in MLflow.\n",
      "Registered model 'Code-Generation-Model' already exists. Creating a new version of this model...\n",
      "Created version '16' of model 'Code-Generation-Model'.\n",
      "2025-08-08 11:58:15 - INFO - ✅ Model registered successfully with run ID: 12dd903e9ea2469f8f292d2f3c802940\n"
     ]
    },
    {
     "name": "stdout",
     "output_type": "stream",
     "text": [
      "CPU times: user 819 ms, sys: 16 s, total: 16.8 s\n",
      "Wall time: 2min 12s\n"
     ]
    }
   ],
   "source": [
    "%%time\n",
    "\n",
    "mlflow.set_tracking_uri('/phoenix/mlflow')\n",
    "# Set up the MLflow experiment\n",
    "mlflow.set_experiment(MLFLOW_MODEL_NAME)\n",
    "\n",
    "# Check if the model file exists\n",
    "if not os.path.exists(LOCAL_MODEL_PATH):\n",
    "    logger.info(f\"⚠️ Warning: Model file not found at {LOCAL_MODEL_PATH}. Please verify the path.\")\n",
    "\n",
    "# Verify the locally saved embedding model exists\n",
    "if not os.path.exists(EMBEDDING_MODEL_PATH):\n",
    "    # If the embedding model wasn't saved earlier, do it now\n",
    "    try:\n",
    "        from sentence_transformers import SentenceTransformer\n",
    "        os.makedirs(os.path.dirname(EMBEDDING_MODEL_PATH), exist_ok=True)\n",
    "        logger.info(f\"Downloading and saving embedding model to {EMBEDDING_MODEL_PATH}...\")\n",
    "        model = SentenceTransformer(EMBEDDING_MODEL_NAME)\n",
    "        model.save(EMBEDDING_MODEL_PATH)\n",
    "        logger.info(f\"Embedding model saved successfully.\")\n",
    "    except Exception as e:\n",
    "        logger.error(f\"Error saving embedding model: {str(e)}\")\n",
    "        logger.warning(\"Will proceed without a local embedding model. The service will download it during initialization.\")\n",
    "        EMBEDDING_MODEL_PATH = None\n",
    "\n",
    "# Use the CodeGenerationService's log_model method to register the model in MLflow\n",
    "with mlflow.start_run(run_name=MLFLOW_MODEL_NAME) as run:\n",
    "    # Log and register the model using the service's classmethod\n",
    "    CodeGenerationService.log_model(\n",
    "        artifact_path=\"code_generation_service\",\n",
    "        config_path=CONFIG_PATH,\n",
    "        secrets_dict=secrets if secrets else None,\n",
    "        model_path=LOCAL_MODEL_PATH,\n",
    "        embedding_model_path=EMBEDDING_MODEL_PATH,\n",
    "        delay_async_init=True,  # Since this service requires parallelism we use this parameter to avoid error when picling the model\n",
    "        demo_folder=DEMO_FOLDER\n",
    "    )\n",
    "    \n",
    "    # Register the model in MLflow Model Registry\n",
    "    model_uri = f\"runs:/{run.info.run_id}/code_generation_service\"\n",
    "    mlflow.register_model(\n",
    "        model_uri=model_uri,\n",
    "        name=MLFLOW_MODEL_NAME\n",
    "    )\n",
    "    \n",
    "    logger.info(f\"✅ Model registered successfully with run ID: {run.info.run_id}\")"
   ]
  },
  {
   "cell_type": "markdown",
   "id": "f4670a35",
   "metadata": {},
   "source": [
    "### API Usage Examples\n",
    "\n",
    "The optimized code generation service can be invoked through its REST API using the following patterns:\n",
    "\n",
    "#### Details\n",
    "\n",
    "The API includes some features like:\n",
    "\n",
    "1. **metadata_only mode**: Allows extracting only basic metadata without running the resource-intensive LLM analysis\n",
    "2. **Timeout controls**: Prevents worker timeouts with configurable processing limits\n",
    "\n",
    "```bash\n",
    "# Example 1: Direct code generation (no repository)\n",
    "curl -X 'POST' \\\n",
    "  'https://endpoint/invocations' \\\n",
    "  -H 'accept: application/json' \\\n",
    "  -H 'Content-Type: application/json' \\\n",
    "  -d '{\n",
    "  \"inputs\": {\n",
    "    \"question\": \"Write Python code to load the LLM model using Ollama with \\'llama3\\' and generate an inspirational quote.\"\n",
    "  }\n",
    "}'\n",
    "\n",
    "# Example 2: Repository-enhanced code generation with metadata-only mode (FAST)\n",
    "curl -X 'POST' \\\n",
    "  'https://endpoint/invocations' \\\n",
    "  -H 'accept: application/json' \\\n",
    "  -H 'Content-Type: application/json' \\\n",
    "  -d '{\n",
    "  \"inputs\": {\n",
    "    \"question\": \"Write Python code to scrape a website and extract all links\",\n",
    "    \"repository_url\": \"https://github.com/MunGell/awesome-for-beginners\"\n",
    "  }\n",
    "}'\n",
    "\n",
    "# Example 3: Repository-enhanced code generation with full processing (DEEP UNDERSTANDING)\n",
    "curl -X 'POST' \\\n",
    "  'https://endpoint/invocations' \\\n",
    "  -H 'accept: application/json' \\\n",
    "  -H 'Content-Type: application/json' \\\n",
    "  -d '{\n",
    "  \"inputs\": {\n",
    "    \"question\": \"Write Python code to scrape a website and extract all links\",\n",
    "    \"repository_url\": \"https://github.com/MunGell/awesome-for-beginners\"\n",
    "  }\n",
    "}'\n",
    "```\n",
    "\n",
    "The service will automatically adapt to the parameters provided:\n",
    "- With `metadata_only=true`, it performs lightweight processing ideal for large repositories\n",
    "- With full processing, it performs deep analysis but take longer"
   ]
  },
  {
   "cell_type": "code",
   "execution_count": 10,
   "id": "90e6d558-3a8b-4926-82e5-e59635186b46",
   "metadata": {},
   "outputs": [
    {
     "name": "stderr",
     "output_type": "stream",
     "text": [
      "2025-08-08 11:58:15 - INFO - ⏱️ Total execution time: 2m 17.09s\n",
      "2025-08-08 11:58:15 - INFO - ✅ Notebook execution completed successfully.\n"
     ]
    }
   ],
   "source": [
    "end_time: float = time.time()\n",
    "elapsed_time: float = end_time - start_time\n",
    "elapsed_minutes: int = int(elapsed_time // 60)\n",
    "elapsed_seconds: float = elapsed_time % 60\n",
    "\n",
    "logger.info(f\"⏱️ Total execution time: {elapsed_minutes}m {elapsed_seconds:.2f}s\")\n",
    "logger.info(\"✅ Notebook execution completed successfully.\")"
   ]
  },
  {
   "cell_type": "markdown",
   "id": "4f7d4c40-b619-45ea-bc58-e93459b58faf",
   "metadata": {},
   "source": [
    "Built with ❤️ using [**HP AI Studio**](https://hp.com/ai-studio)."
   ]
  }
 ],
 "metadata": {
  "kernelspec": {
   "display_name": "Python [conda env:base] *",
   "language": "python",
   "name": "conda-base-py"
  },
  "language_info": {
   "codemirror_mode": {
    "name": "ipython",
    "version": 3
   },
   "file_extension": ".py",
   "mimetype": "text/x-python",
   "name": "python",
   "nbconvert_exporter": "python",
   "pygments_lexer": "ipython3",
   "version": "3.12.7"
  }
 },
 "nbformat": 4,
 "nbformat_minor": 5
}
