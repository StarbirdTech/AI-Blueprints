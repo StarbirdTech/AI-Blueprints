{
 "cells": [
  {
   "cell_type": "markdown",
   "id": "ec84ac00-1a02-4fe0-af00-31c2232ba831",
   "metadata": {},
   "source": [
    "<h1 style=\\\"text-align: center; font-size: 50px;\\\"> Interactive ORPO Fine-Tuning & Inference Hub for Open LLMs </h1>\n",
    "\n",
    "This experiment provides an interactive and modular interface for selecting, downloading, fine-tuning, and evaluating large language models using ORPO (Optimal Reward Preferring Optimization).\n",
    "The user can choose between state-of-the-art open LLMs like Mistral, LLaMA 2/3, and Gemma. "
   ]
  },
  {
   "cell_type": "markdown",
   "id": "2c54ddb0",
   "metadata": {},
   "source": [
    "# Notebook Overview\n",
    "- Imports\n",
    "- Configurations\n",
    "- Verify Assets\n",
    "- Model Loader\n",
    "- Inference with Default Model\n",
    "- Creating the Fine-Tuned Model Name (ORPO)\n",
    "- Dataset Loader\n",
    "- ORPO Configuration\n",
    "- Galileo Evaluate"
   ]
  },
  {
   "cell_type": "markdown",
   "id": "54051b27-5b97-47cd-89b2-4f2861711f14",
   "metadata": {},
   "source": [
    "## 📦 Imports\n",
    "\n",
    "By using our Local GenAI workspace image, most of the necessary libraries to work with ORPO-based fine-tuning and evaluation already come pre-installed. In this notebook, we only need to import components for model loading, quantization, inference, and feedback visualization to run the complete ORPO workflow locally"
   ]
  },
  {
   "cell_type": "code",
   "execution_count": 1,
   "id": "be25e3e1-7f9c-4536-8304-c9f1762a8f63",
   "metadata": {
    "scrolled": true
   },
   "outputs": [],
   "source": [
    "!pip install -r ../requirements.txt --quiet"
   ]
  },
  {
   "cell_type": "code",
   "execution_count": 34,
   "id": "380f85cd-8e76-4f3e-8022-c8ad210a72a2",
   "metadata": {},
   "outputs": [],
   "source": [
    "import os\n",
    "import sys\n",
    "import yaml\n",
    "from pathlib import Path\n",
    "import logging\n",
    "import warnings"
   ]
  },
  {
   "cell_type": "code",
   "execution_count": 35,
   "id": "d6b15f11-b47a-4735-ab36-1063e88489f0",
   "metadata": {},
   "outputs": [],
   "source": [
    "# ===============================\n",
    "# 🧠 Core Libraries\n",
    "# ===============================\n",
    "import torch\n",
    "import multiprocessing\n",
    "import mlflow\n",
    "from datasets import load_dataset\n",
    "\n",
    "# ===============================\n",
    "# 🧪 Hugging Face & Transformers\n",
    "# ===============================\n",
    "from huggingface_hub import login\n",
    "from transformers import (\n",
    "    AutoModelForCausalLM,\n",
    "    AutoTokenizer,\n",
    "    BitsAndBytesConfig,\n",
    "    TrainingArguments,\n",
    "    pipeline,\n",
    ")\n",
    "\n",
    "# ===============================\n",
    "# 🧩 Fine-tuning (ORPO + PEFT)\n",
    "# ===============================\n",
    "from trl import ORPOConfig, ORPOTrainer, setup_chat_format\n",
    "from peft import LoraConfig, PeftModel, prepare_model_for_kbit_training\n",
    "\n",
    "# ===============================\n",
    "# 🧰 Project Modules: Core Pipeline\n",
    "# ===============================\n",
    "# Add the core directory to the path to import utils\n",
    "sys.path.append(os.path.abspath(os.path.join(os.getcwd(), \"..\")))\n",
    "from core.selection.model_selection import ModelSelector\n",
    "from core.local_inference.inference import InferenceRunner\n",
    "from core.target_mapper.lora_target_mapper import LoRATargetMapper\n",
    "from core.data_visualizer.feedback_visualizer import UltraFeedbackVisualizer\n",
    "from core.finetuning_inference.inference_runner import AcceleratedInferenceRunner\n",
    "from core.merge_model.merge_lora import merge_lora_and_save\n",
    "from core.quantization.quantization_config import QuantizationSelector\n",
    "\n",
    "# ===============================\n",
    "# 🚀 Deployment & Evaluation\n",
    "# ===============================\n",
    "from core.deploy.deploy_fine_tuning import register_llm_comparison_model\n",
    "from core.comparer.galileo_hf_model_comparer import GalileoLocalComparer\n",
    "import promptquality as pq\n",
    "\n",
    "# ===============================\n",
    "# ⚙️ Utility Functions\n",
    "# ===============================\n",
    "sys.path.append(os.path.abspath(os.path.join(os.getcwd(), \"..\")))\n",
    "from src.utils import (\n",
    "    load_config_and_secrets,\n",
    "    configure_proxy,\n",
    "    setup_galileo_environment,\n",
    "    initialize_galileo_evaluator,\n",
    "    initialize_galileo_protect,\n",
    "    initialize_galileo_observer,\n",
    "    login_huggingface,\n",
    "    get_project_root,\n",
    "    get_config_dir,\n",
    "    get_configs_dir,\n",
    "    get_output_dir,\n",
    "    get_models_dir,\n",
    "    get_fine_tuned_models_dir,\n",
    "    get_model_cache_dir,\n",
    "    format_model_path,\n",
    "    setup_model_environment\n",
    ")\n"
   ]
  },
  {
   "cell_type": "markdown",
   "id": "625a13c8-7f4d-4942-8edd-888695bba2a4",
   "metadata": {},
   "source": [
    "## Configurations"
   ]
  },
  {
   "cell_type": "code",
   "execution_count": 36,
   "id": "ac369051",
   "metadata": {},
   "outputs": [],
   "source": [
    "# Suppress Python warnings\n",
    "warnings.filterwarnings(\"ignore\")"
   ]
  },
  {
   "cell_type": "code",
   "execution_count": 37,
   "id": "7a97b90b-ed6f-4546-86d5-59279ed7ebbb",
   "metadata": {},
   "outputs": [],
   "source": [
    "CONFIG_PATH = str(get_configs_dir() / \"config.yaml\")\n",
    "SECRETS_PATH = str(get_configs_dir() / \"secrets.yaml\")\n",
    "GALILEO_EVALUATE_PROJECT_NAME=\"AIStudio-Fine-Tuning-Evaluate\"\n",
    "MLFLOW_EXPERIMENT_NAME = \"AIStudio-Fine-Tuning-Experiment\"\n",
    "MLFLOW_RUN_NAME = \"AIStudio-Fine-Tuning-Run\"\n",
    "MLFLOW_MODEL_NAME = \"AIStudio-Fine-Tuning-Model\"\n",
    "MODEL_SERVICE_RUN_NAME=\"AIStudio-Fine-Tuning-Service-Run\"\n",
    "MODEL_SERVICE_NAME=\"AIStudio-Fine-Tuning-Model\"\n",
    "MODEL_SERVICE_EXPERIMENT_NAME=\"AIStudio-Fine-Tuning-Experiment\"\n"
   ]
  },
  {
   "cell_type": "code",
   "execution_count": 38,
   "id": "b0dc3f58",
   "metadata": {},
   "outputs": [],
   "source": [
    "logger = logging.getLogger(\"fine_tuning_logger\")\n",
    "logger.setLevel(logging.INFO)\n",
    "\n",
    "formatter = logging.Formatter(\"%(asctime)s - %(levelname)s - %(message)s\", datefmt=\"%Y-%m-%d %H:%M:%S\")\n",
    "stream_handler = logging.StreamHandler()\n",
    "stream_handler.setFormatter(formatter)\n",
    "logger.addHandler(stream_handler)\n",
    "logger.propagate = False"
   ]
  },
  {
   "cell_type": "code",
   "execution_count": 39,
   "id": "a57ce8bf",
   "metadata": {},
   "outputs": [
    {
     "name": "stdout",
     "output_type": "stream",
     "text": [
      "Using device: cuda\n"
     ]
    }
   ],
   "source": [
    "device = torch.device(\"cuda\" if torch.cuda.is_available() else \"cpu\")\n",
    "print(f\"Using device: {device}\")"
   ]
  },
  {
   "cell_type": "code",
   "execution_count": 8,
   "id": "9c805cc4",
   "metadata": {},
   "outputs": [
    {
     "name": "stderr",
     "output_type": "stream",
     "text": [
      "2025-06-23 05:02:38 - INFO - Notebook execution started.\n"
     ]
    }
   ],
   "source": [
    "logger.info('Notebook execution started.')"
   ]
  },
  {
   "cell_type": "markdown",
   "id": "c50143f8-ea8e-4e16-a33d-2a4b5f397222",
   "metadata": {},
   "source": [
    "### Proxy Configuration\n",
    "In order to connect to Galileo service, a SSH connection needs to be established. For certain enterprise networks, this might require an explicit setup of the proxy configuration. If this is your case, set up the \"proxy\" field on your config.yaml and the following cell will configure the necessary environment variable."
   ]
  },
  {
   "cell_type": "code",
   "execution_count": 9,
   "id": "cbd88721-583c-47d9-9d50-fa2f232ab176",
   "metadata": {},
   "outputs": [],
   "source": [
    "config, secrets = load_config_and_secrets(CONFIG_PATH, SECRETS_PATH)\n",
    "\n",
    "# Configure proxy using the loaded config\n",
    "configure_proxy(config)"
   ]
  },
  {
   "cell_type": "markdown",
   "id": "585a4dd8-5f6d-4158-bbe6-6500d3e1ccd4",
   "metadata": {},
   "source": [
    "### 🔍 Model Selector\n",
    "\n",
    "Below are the available models for fine-tuning with ORPO.  \n",
    "> ⚠️ **Note:** Make sure your Hugging Face account has access permissions for the selected model (some require manual approval).\n",
    "\n",
    "| Model ID | Hugging Face Link |\n",
    "|----------|-------------------|\n",
    "| `mistralai/Mistral-7B-Instruct-v0.1` | [🔗 View on Hugging Face](https://huggingface.co/mistralai/Mistral-7B-Instruct-v0.1) |\n",
    "| `meta-llama/Llama-2-7b-chat-hf` | [🔗 View on Hugging Face](https://huggingface.co/meta-llama/Llama-2-7b-chat-hf) |\n",
    "| `meta-llama/Meta-Llama-3-8B-Instruct` | [🔗 View on Hugging Face](https://huggingface.co/meta-llama/Meta-Llama-3-8B-Instruct) |\n",
    "| `google/gemma-7b-it` | [🔗 View on Hugging Face](https://huggingface.co/google/gemma-7b-it) |\n",
    "| `google/gemma-3-1b-it` | [🔗 View on Hugging Face](https://huggingface.co/google/gemma-3-1b-it) |\n"
   ]
  },
  {
   "cell_type": "code",
   "execution_count": 10,
   "id": "14b8e20b-84b3-4837-9727-fd959e980354",
   "metadata": {},
   "outputs": [],
   "source": [
    "MODEL =  \"TinyLlama/TinyLlama-1.1B-Chat-v1.0\""
   ]
  },
  {
   "cell_type": "markdown",
   "id": "bd6cfd57-da28-49dd-b6b6-50ca4189c766",
   "metadata": {},
   "source": [
    "### 🔐 Login to Hugging Face\n",
    "\n",
    "To access gated models (e.g., LLaMA, Mistral, or Gemma), you must authenticate using your Hugging Face token.\n",
    "\n",
    "Make sure your `secrets.yaml` file contains the following key:\n",
    "\n",
    "```yaml\n",
    "HUGGINGFACE_API_KEY: your_huggingface_token"
   ]
  },
  {
   "cell_type": "code",
   "execution_count": 40,
   "id": "c965d03b-bf88-4caf-a736-e6c52aefc277",
   "metadata": {
    "scrolled": true
   },
   "outputs": [
    {
     "name": "stdout",
     "output_type": "stream",
     "text": [
      "✅ Logged into Hugging Face successfully.\n"
     ]
    }
   ],
   "source": [
    "login_huggingface(secrets)"
   ]
  },
  {
   "cell_type": "markdown",
   "id": "6825c882-1649-4f5c-94de-5b405a5af1c0",
   "metadata": {},
   "source": [
    "### Attention Optimization Config\n",
    "Automatically selects the most efficient attention implementation and data type (dtype) based on the GPU’s compute capability."
   ]
  },
  {
   "cell_type": "code",
   "execution_count": 13,
   "id": "7cace749-80b9-4e5a-8a45-c40df3521dc9",
   "metadata": {},
   "outputs": [],
   "source": [
    "if torch.cuda.get_device_capability()[0] >= 8:\n",
    "    !pip install -qqq flash-attn\n",
    "    attn_implementation = \"flash_attention_2\"\n",
    "    torch_dtype = torch.bfloat16\n",
    "else:\n",
    "    attn_implementation = \"eager\"\n",
    "    torch_dtype = torch.float16"
   ]
  },
  {
   "cell_type": "markdown",
   "id": "c91c97e2",
   "metadata": {},
   "source": [
    "## Verify Assets"
   ]
  },
  {
   "cell_type": "code",
   "execution_count": 14,
   "id": "2b64cdab",
   "metadata": {},
   "outputs": [
    {
     "name": "stderr",
     "output_type": "stream",
     "text": [
      "2025-06-23 05:02:43 - INFO - configs.yaml is properly configured. \n",
      "2025-06-23 05:02:43 - INFO - secrets.yaml is properly configured. \n"
     ]
    }
   ],
   "source": [
    "def log_asset_status(asset_path: str, asset_name: str, success_message: str, failure_message: str) -> None:\n",
    "    \"\"\"\n",
    "    Logs the status of a given asset based on its existence.\n",
    "\n",
    "    Parameters:\n",
    "        asset_path (str): File or directory path to check.\n",
    "        asset_name (str): Name of the asset for logging context.\n",
    "        success_message (str): Message to log if asset exists.\n",
    "        failure_message (str): Message to log if asset does not exist.\n",
    "    \"\"\"\n",
    "    if Path(asset_path).exists():\n",
    "        logger.info(f\"{asset_name} is properly configured. {success_message}\")\n",
    "    else:\n",
    "        logger.info(f\"{asset_name} is not properly configured. {failure_message}\")\n",
    "\n",
    "\n",
    "log_asset_status(\n",
    "    asset_path=CONFIG_PATH,\n",
    "    asset_name=\"configs.yaml\",\n",
    "    success_message=\"\",\n",
    "    failure_message=\"Please check if the configs.yaml was propely connfigured in your project on AI Studio.\"\n",
    ")\n",
    "\n",
    "log_asset_status(\n",
    "    asset_path=SECRETS_PATH,\n",
    "    asset_name=\"secrets.yaml\",\n",
    "    success_message=\"\",\n",
    "    failure_message=\"Please check if the secrets.yaml was propely connfigured in your project on AI Studio.\"\n",
    ")"
   ]
  },
  {
   "cell_type": "markdown",
   "id": "84c92c03-006e-4316-a411-2f8a3960590c",
   "metadata": {},
   "source": [
    "## Model Loader"
   ]
  },
  {
   "cell_type": "code",
   "execution_count": 15,
   "id": "f4caff0c-9f4a-40cb-b0d1-49a1afccbd6f",
   "metadata": {
    "scrolled": true
   },
   "outputs": [
    {
     "name": "stderr",
     "output_type": "stream",
     "text": [
      "INFO:ModelSelector:[ModelSelector] Selected model: TinyLlama/TinyLlama-1.1B-Chat-v1.0\n",
      "INFO:ModelSelector:[ModelSelector] Downloading model snapshot to: ../../../local/models/TinyLlama__TinyLlama-1.1B-Chat-v1.0\n"
     ]
    },
    {
     "data": {
      "application/vnd.jupyter.widget-view+json": {
       "model_id": "09cdf3bb452b4014afbdf8f411358c82",
       "version_major": 2,
       "version_minor": 0
      },
      "text/plain": [
       "Fetching 10 files:   0%|          | 0/10 [00:00<?, ?it/s]"
      ]
     },
     "metadata": {},
     "output_type": "display_data"
    },
    {
     "name": "stderr",
     "output_type": "stream",
     "text": [
      "INFO:ModelSelector:[ModelSelector] ✅ Model downloaded successfully to: ../../../local/models/TinyLlama__TinyLlama-1.1B-Chat-v1.0\n",
      "INFO:ModelSelector:[ModelSelector] Loading model and tokenizer from: ../../../local/models/TinyLlama__TinyLlama-1.1B-Chat-v1.0\n",
      "INFO:ModelSelector:[ModelSelector] Checking model for ORPO compatibility...\n",
      "INFO:ModelSelector:[ModelSelector] ✅ Model 'TinyLlama/TinyLlama-1.1B-Chat-v1.0' is ORPO-compatible.\n"
     ]
    }
   ],
   "source": [
    "selector = ModelSelector()\n",
    "selector.select_model(MODEL)\n",
    "\n",
    "model = selector.get_model()\n",
    "tokenizer = selector.get_tokenizer()\n"
   ]
  },
  {
   "cell_type": "markdown",
   "id": "6f763541-d805-4110-bec6-cb2c94c72e14",
   "metadata": {},
   "source": [
    "## 🤖 Inference with Default Model\n",
    "\n",
    "The following cell runs inference using the base (non fine-tuned) model you selected earlier.\n",
    "\n",
    "We've prepared a few prompts to test different types of reasoning and writing skills.  \n",
    "You can later compare these outputs with the results generated by the fine-tuned model."
   ]
  },
  {
   "cell_type": "code",
   "execution_count": 16,
   "id": "0eee80d8-b12d-46a7-b057-718cf8dc5079",
   "metadata": {
    "scrolled": true
   },
   "outputs": [
    {
     "name": "stderr",
     "output_type": "stream",
     "text": [
      "INFO:InferenceRunner:[InferenceRunner] Detected 2 GPUs, loading multi-GPU config.\n",
      "INFO:InferenceRunner:[InferenceRunner] Loading model and tokenizer from: ../../../local/models/TinyLlama__TinyLlama-1.1B-Chat-v1.0\n",
      "INFO:InferenceRunner:[InferenceRunner] Rodando inferência para: I need to write some nodejs code that publishes a message to a Telegram group....\n",
      "INFO:InferenceRunner:[InferenceRunner] Inferência finalizada.\n",
      "INFO:InferenceRunner:[InferenceRunner] Rodando inferência para: What advice would you give to a frontend developer?...\n",
      "INFO:InferenceRunner:[InferenceRunner] Inferência finalizada.\n",
      "INFO:InferenceRunner:[InferenceRunner] Rodando inferência para: Propose a solution that could reduce the rate of deforestation....\n",
      "INFO:InferenceRunner:[InferenceRunner] Inferência finalizada.\n",
      "INFO:InferenceRunner:[InferenceRunner] Rodando inferência para: Write a eulogy for a public figure who inspired you....\n"
     ]
    },
    {
     "name": "stdout",
     "output_type": "stream",
     "text": [
      "\n",
      "🟢 Prompt 1: I need to write some nodejs code that publishes a message to a Telegram group.\n",
      "🔽 Model Response:\n",
      "I need to write some nodejs code that publishes a message to a Telegram group. Can you help me with that?\n",
      "--------------------------------------------------------------------------------\n",
      "\n",
      "🟢 Prompt 2: What advice would you give to a frontend developer?\n",
      "🔽 Model Response:\n",
      "What advice would you give to a frontend developer?\n",
      "--------------------------------------------------------------------------------\n",
      "\n",
      "🟢 Prompt 3: Propose a solution that could reduce the rate of deforestation.\n",
      "🔽 Model Response:\n",
      "Propose a solution that could reduce the rate of deforestation.\n",
      "--------------------------------------------------------------------------------\n"
     ]
    },
    {
     "name": "stderr",
     "output_type": "stream",
     "text": [
      "INFO:InferenceRunner:[InferenceRunner] Inferência finalizada.\n"
     ]
    },
    {
     "name": "stdout",
     "output_type": "stream",
     "text": [
      "\n",
      "🟢 Prompt 4: Write a eulogy for a public figure who inspired you.\n",
      "🔽 Model Response:\n",
      "Write a eulogy for a public figure who inspired you. Be sure to consider their life, their accomplishments, and their impact on society. Use descriptive language and vivid imagery to bring their story to life. Consider incorporating personal anecdotes or insights into their values or beliefs. Make sure your eulogy is heartfelt, compelling, and memorable.\n",
      "--------------------------------------------------------------------------------\n"
     ]
    }
   ],
   "source": [
    "# 📋 Custom prompts for evaluation\n",
    "prompts = [\n",
    "    \"I need to write some nodejs code that publishes a message to a Telegram group.\",\n",
    "    \"What advice would you give to a frontend developer?\",\n",
    "    \"Propose a solution that could reduce the rate of deforestation.\",\n",
    "    \"Write a eulogy for a public figure who inspired you.\"\n",
    "]\n",
    "\n",
    "# ⚙️ Run inference with the selected model\n",
    "runner = InferenceRunner(selector)\n",
    "\n",
    "for idx, prompt in enumerate(prompts, 1):\n",
    "    response = runner.infer(prompt)\n",
    "    print(f\"\\n🟢 Prompt {idx}: {prompt}\\n🔽 Model Response:\\n{response}\\n{'-'*80}\")\n"
   ]
  },
  {
   "cell_type": "markdown",
   "id": "8185a001-2ed0-481f-8b3c-b7651ff8523d",
   "metadata": {},
   "source": [
    "## 🏷️ Creating the Fine-Tuned Model Name (ORPO)\n",
    "\n",
    "We define a clean and consistent name for the fine-tuned version of the selected base model"
   ]
  },
  {
   "cell_type": "code",
   "execution_count": 17,
   "id": "a08c6b04-0354-4fe6-aa6e-98fd08ca08ce",
   "metadata": {},
   "outputs": [],
   "source": [
    "base_model = selector.model_id\n",
    "model_path = selector.format_model_path(base_model)\n",
    "new_model = f\"Orpo-{base_model.split('/')[-1]}-FT\"\n",
    "fine_tuned_name = f\"Orpo-{base_model.split('/')[-1]}-FT\"\n",
    "\n",
    "fine_tuned_dir = get_fine_tuned_models_dir()\n",
    "fine_tuned_dir.mkdir(parents=True, exist_ok=True)\n",
    "fine_tuned_path = str(fine_tuned_dir / fine_tuned_name)\n",
    "\n",
    "print(f\"Fine-tuned model will be saved to: {fine_tuned_path}\")\n",
    "print(f\"Directory exists: {Path(fine_tuned_path).parent.exists()}\")"
   ]
  },
  {
   "cell_type": "markdown",
   "id": "5c562b4c-3e2b-4ce0-b9dd-020ec89d45d6",
   "metadata": {},
   "source": [
    "### ⚙️  Automatic Quantization Configuration\n",
    "\n",
    "We use an intelligent selector to automatically choose the optimal quantization strategy for the hardware environment.\n",
    "\n",
    "- `QuantizationSelector()` analyzes the number of available GPUs and their memory.\n",
    "- If multiple GPUs with sufficient VRAM are detected, it applies 8-bit quantization for faster performance.\n",
    "- Otherwise, it falls back to `4-bit QLoRA` using `nf4` and double quantization to reduce memory usage.\n",
    "\n",
    "This adaptive configuration ensures efficient fine-tuning of large language models by balancing performance and hardware constraints."
   ]
  },
  {
   "cell_type": "code",
   "execution_count": 18,
   "id": "311e4393-0a58-403a-8137-6fd75fd4371e",
   "metadata": {},
   "outputs": [
    {
     "name": "stdout",
     "output_type": "stream",
     "text": [
      "✅ Using 8-bit quantization (sufficient GPUs and VRAM available).\n"
     ]
    }
   ],
   "source": [
    "quantization = QuantizationSelector()\n",
    "bnb_config = quantization.get_config()"
   ]
  },
  {
   "cell_type": "markdown",
   "id": "08163f23-e86a-4873-98a9-1b405c7d2065",
   "metadata": {},
   "source": [
    "### 🧩 PEFT Configuration (LoRA)\n",
    "\n",
    "We define the LoRA configuration using the `LoraConfig` from PEFT (Parameter-Efficient Fine-Tuning).\n"
   ]
  },
  {
   "cell_type": "code",
   "execution_count": 19,
   "id": "3eabcbe2-f5eb-48f5-a40e-1ab4b8f2e15b",
   "metadata": {},
   "outputs": [
    {
     "name": "stderr",
     "output_type": "stream",
     "text": [
      "INFO:LoRATargetMapper:✅ Matched model 'TinyLlama/TinyLlama-1.1B-Chat-v1.0' to LoRA target modules: llama\n"
     ]
    }
   ],
   "source": [
    "peft_config = LoraConfig(\n",
    "    r=16,\n",
    "    lora_alpha=32,\n",
    "    lora_dropout=0.05,\n",
    "    bias=\"none\",\n",
    "    task_type=\"CAUSAL_LM\",\n",
    "    target_modules=LoRATargetMapper.get_target_modules(base_model)\n",
    ")"
   ]
  },
  {
   "cell_type": "markdown",
   "id": "13e0f756-0e6b-406d-8a4e-ce139522b0f6",
   "metadata": {},
   "source": [
    "### 🧠 Load and Prepare Base Model for Training\n",
    "\n",
    "In this step, we load the base model and tokenizer from the local path, apply the quantization configuration (`bnb_config`), prepare it for tra"
   ]
  },
  {
   "cell_type": "code",
   "execution_count": 20,
   "id": "6a1ea031-aed8-4ec3-a5d3-63f1217f0ad6",
   "metadata": {},
   "outputs": [],
   "source": [
    "model_vocab_size = AutoModelForCausalLM.from_pretrained(model_path).config.vocab_size\n",
    "tokenizer_vocab_size = len(tokenizer)\n",
    "\n",
    "if tokenizer_vocab_size != model_vocab_size:\n",
    "    print(f\"⚠️ Adjusting vocabulary ({tokenizer_vocab_size}) ≠ Model ({model_vocab_size})\")\n",
    "    tokenizer.pad_token = tokenizer.eos_token  \n",
    "    tokenizer.save_pretrained(model_path)"
   ]
  },
  {
   "cell_type": "code",
   "execution_count": 21,
   "id": "43be1d90-7d0e-42f0-8b9b-e03fd2ee99db",
   "metadata": {},
   "outputs": [],
   "source": [
    "model = AutoModelForCausalLM.from_pretrained(\n",
    "    model_path,\n",
    "    quantization_config=bnb_config,\n",
    "    device_map={\"\": 0},\n",
    ")"
   ]
  },
  {
   "cell_type": "code",
   "execution_count": 22,
   "id": "9c40902b-9ff1-4fb0-b04f-f3387784a6dd",
   "metadata": {},
   "outputs": [
    {
     "name": "stdout",
     "output_type": "stream",
     "text": [
      "⚠️ Tokenizer already has a chat_template. Skipping setup_chat_format to avoid overwriting.\n"
     ]
    }
   ],
   "source": [
    "# Safely apply chat format only if tokenizer doesn't already have a chat_template\n",
    "if tokenizer.chat_template is None:\n",
    "    model, tokenizer = setup_chat_format(model, tokenizer)\n",
    "else:\n",
    "    print(\"⚠️ Tokenizer already has a chat_template. Skipping setup_chat_format to avoid overwriting.\")\n"
   ]
  },
  {
   "cell_type": "code",
   "execution_count": 24,
   "id": "c845a74e-764d-4324-a64a-74c0e385ee0d",
   "metadata": {},
   "outputs": [],
   "source": [
    "model = prepare_model_for_kbit_training(model)\n"
   ]
  },
  {
   "cell_type": "markdown",
   "id": "6a99c22c-d97a-4f9d-a396-db890c1f1e50",
   "metadata": {},
   "source": [
    "## 📚 Dataset Loader\n",
    "\n",
    "We use the [UltraFeedback Binarized](https://huggingface.co/datasets/HuggingFaceH4/ultrafeedback_binarized) dataset provided by Hugging Face.\n",
    "\n",
    "This dataset contains prompts along with two model-generated responses:\n",
    "- **chosen**: the response preferred by human annotators\n",
    "- **rejected**: the less preferred one\n",
    "\n",
    "For this experiment, we load a subset of the data to speed up training and evaluation.  \n",
    "A fixed seed ensures reproducibility when shuffling the data.\n"
   ]
  },
  {
   "cell_type": "code",
   "execution_count": 25,
   "id": "812d6d5f-0877-4850-acda-f2a612ea261f",
   "metadata": {},
   "outputs": [
    {
     "data": {
      "application/vnd.jupyter.widget-view+json": {
       "model_id": "0337d3de168e47618f68ebdf000eb640",
       "version_major": 2,
       "version_minor": 0
      },
      "text/plain": [
       "README.md:   0%|          | 0.00/6.53k [00:00<?, ?B/s]"
      ]
     },
     "metadata": {},
     "output_type": "display_data"
    },
    {
     "data": {
      "application/vnd.jupyter.widget-view+json": {
       "model_id": "46224e91e073411fb3a8ae5dd5ab0578",
       "version_major": 2,
       "version_minor": 0
      },
      "text/plain": [
       "data/train_prefs-00000-of-00001.parquet:   0%|          | 0.00/226M [00:00<?, ?B/s]"
      ]
     },
     "metadata": {},
     "output_type": "display_data"
    },
    {
     "data": {
      "application/vnd.jupyter.widget-view+json": {
       "model_id": "b555c3aef5234d5f9edca6a4a595806f",
       "version_major": 2,
       "version_minor": 0
      },
      "text/plain": [
       "data/test_prefs-00000-of-00001.parquet:   0%|          | 0.00/7.29M [00:00<?, ?B/s]"
      ]
     },
     "metadata": {},
     "output_type": "display_data"
    },
    {
     "data": {
      "application/vnd.jupyter.widget-view+json": {
       "model_id": "0e2eb3c3d5014412a803fcaf8c30ec8d",
       "version_major": 2,
       "version_minor": 0
      },
      "text/plain": [
       "data/test_sft-00000-of-00001.parquet:   0%|          | 0.00/3.72M [00:00<?, ?B/s]"
      ]
     },
     "metadata": {},
     "output_type": "display_data"
    },
    {
     "data": {
      "application/vnd.jupyter.widget-view+json": {
       "model_id": "4319d2b3b8774dda93d3af494a1e05a0",
       "version_major": 2,
       "version_minor": 0
      },
      "text/plain": [
       "data/train_gen-00000-of-00001.parquet:   0%|          | 0.00/184M [00:00<?, ?B/s]"
      ]
     },
     "metadata": {},
     "output_type": "display_data"
    },
    {
     "data": {
      "application/vnd.jupyter.widget-view+json": {
       "model_id": "3b0414f638b84013b8ee17398502c6a2",
       "version_major": 2,
       "version_minor": 0
      },
      "text/plain": [
       "data/test_gen-00000-of-00001.parquet:   0%|          | 0.00/3.02M [00:00<?, ?B/s]"
      ]
     },
     "metadata": {},
     "output_type": "display_data"
    },
    {
     "data": {
      "application/vnd.jupyter.widget-view+json": {
       "model_id": "59191786e5554fa2a9260c43ab17f700",
       "version_major": 2,
       "version_minor": 0
      },
      "text/plain": [
       "Generating train_prefs split:   0%|          | 0/61135 [00:00<?, ? examples/s]"
      ]
     },
     "metadata": {},
     "output_type": "display_data"
    },
    {
     "data": {
      "application/vnd.jupyter.widget-view+json": {
       "model_id": "424a5d5e91b749b0992ceffb857156a1",
       "version_major": 2,
       "version_minor": 0
      },
      "text/plain": [
       "Generating train_sft split:   0%|          | 0/61135 [00:00<?, ? examples/s]"
      ]
     },
     "metadata": {},
     "output_type": "display_data"
    },
    {
     "data": {
      "application/vnd.jupyter.widget-view+json": {
       "model_id": "d4a2fbad1bf84399bf0d2693448e3bfb",
       "version_major": 2,
       "version_minor": 0
      },
      "text/plain": [
       "Generating test_prefs split:   0%|          | 0/2000 [00:00<?, ? examples/s]"
      ]
     },
     "metadata": {},
     "output_type": "display_data"
    },
    {
     "data": {
      "application/vnd.jupyter.widget-view+json": {
       "model_id": "426c181cdabd448abde1694ebdae2f2a",
       "version_major": 2,
       "version_minor": 0
      },
      "text/plain": [
       "Generating test_sft split:   0%|          | 0/1000 [00:00<?, ? examples/s]"
      ]
     },
     "metadata": {},
     "output_type": "display_data"
    },
    {
     "data": {
      "application/vnd.jupyter.widget-view+json": {
       "model_id": "f9b094172d4d46adb5ac568b6806f0e2",
       "version_major": 2,
       "version_minor": 0
      },
      "text/plain": [
       "Generating train_gen split:   0%|          | 0/61135 [00:00<?, ? examples/s]"
      ]
     },
     "metadata": {},
     "output_type": "display_data"
    },
    {
     "data": {
      "application/vnd.jupyter.widget-view+json": {
       "model_id": "ba43e35d3e2942cc87317d57bfe963f1",
       "version_major": 2,
       "version_minor": 0
      },
      "text/plain": [
       "Generating test_gen split:   0%|          | 0/1000 [00:00<?, ? examples/s]"
      ]
     },
     "metadata": {},
     "output_type": "display_data"
    }
   ],
   "source": [
    "dataset = load_dataset(\"HuggingFaceH4/ultrafeedback_binarized\", split=[\"train_prefs\", \"test_prefs\"])\n",
    "\n",
    "# 📊 Define sample sizes for a lightweight experiment\n",
    "train_samples = 5000                         # Subset size for training\n",
    "original_train_samples = 61135              # Total training examples in the original dataset\n",
    "test_samples = int((2000 / original_train_samples) * train_samples)  # Proportional test size\n",
    "\n",
    "# 🔀 Shuffle and sample subsets from both splits\n",
    "train_subset = dataset[0].shuffle(seed=42).select(range(train_samples))\n",
    "test_subset = dataset[1].shuffle(seed=42).select(range(test_samples))\n"
   ]
  },
  {
   "cell_type": "markdown",
   "id": "a0ae9ddd-b459-487d-b9fa-a2ca42d8eaf2",
   "metadata": {},
   "source": [
    "### 📊 Dataset Visualization\n",
    "\n",
    "To help understand how the dataset works, we use the `UltraFeedbackVisualizer`.\n",
    "\n",
    "This tool logs examples from the dataset into **TensorBoard**, including:\n",
    "- The **original prompt** given to the model\n",
    "- The two possible answers: one **preferred by humans** and one that was **rejected**\n",
    "- A simple comparison showing which response was rated better\n",
    "\n",
    "Each example is displayed with clear labels and scores to help illustrate the kinds of outputs humans value more — **before we do any fine-tuning**.\n",
    "\n",
    "> This is useful to explore what “good answers” look like, based on real human feedback.\n"
   ]
  },
  {
   "cell_type": "code",
   "execution_count": 26,
   "id": "40a8b0bd-b153-4771-a196-fd0f6b80e761",
   "metadata": {
    "scrolled": true
   },
   "outputs": [
    {
     "name": "stderr",
     "output_type": "stream",
     "text": [
      "INFO:sentence_transformers.SentenceTransformer:Use pytorch device_name: cuda\n",
      "INFO:sentence_transformers.SentenceTransformer:Load pretrained SentenceTransformer: all-MiniLM-L6-v2\n"
     ]
    },
    {
     "data": {
      "application/vnd.jupyter.widget-view+json": {
       "model_id": "a02e271f6b3d4571bd34279bfdd1c307",
       "version_major": 2,
       "version_minor": 0
      },
      "text/plain": [
       "modules.json:   0%|          | 0.00/349 [00:00<?, ?B/s]"
      ]
     },
     "metadata": {},
     "output_type": "display_data"
    },
    {
     "data": {
      "application/vnd.jupyter.widget-view+json": {
       "model_id": "05e88a0e1e754cd486bb8080d81c39c4",
       "version_major": 2,
       "version_minor": 0
      },
      "text/plain": [
       "config_sentence_transformers.json:   0%|          | 0.00/116 [00:00<?, ?B/s]"
      ]
     },
     "metadata": {},
     "output_type": "display_data"
    },
    {
     "data": {
      "application/vnd.jupyter.widget-view+json": {
       "model_id": "189a63bcf8f44ce2aca03a01b3d04767",
       "version_major": 2,
       "version_minor": 0
      },
      "text/plain": [
       "README.md:   0%|          | 0.00/10.5k [00:00<?, ?B/s]"
      ]
     },
     "metadata": {},
     "output_type": "display_data"
    },
    {
     "data": {
      "application/vnd.jupyter.widget-view+json": {
       "model_id": "86629a6b6b2240c6868b7d59c036c94c",
       "version_major": 2,
       "version_minor": 0
      },
      "text/plain": [
       "sentence_bert_config.json:   0%|          | 0.00/53.0 [00:00<?, ?B/s]"
      ]
     },
     "metadata": {},
     "output_type": "display_data"
    },
    {
     "data": {
      "application/vnd.jupyter.widget-view+json": {
       "model_id": "a9274ac289ed454e8c9f85a53bd7e6c3",
       "version_major": 2,
       "version_minor": 0
      },
      "text/plain": [
       "config.json:   0%|          | 0.00/612 [00:00<?, ?B/s]"
      ]
     },
     "metadata": {},
     "output_type": "display_data"
    },
    {
     "data": {
      "application/vnd.jupyter.widget-view+json": {
       "model_id": "7b98e93dd4e04d2dabe7e19e63d2b8de",
       "version_major": 2,
       "version_minor": 0
      },
      "text/plain": [
       "model.safetensors:   0%|          | 0.00/90.9M [00:00<?, ?B/s]"
      ]
     },
     "metadata": {},
     "output_type": "display_data"
    },
    {
     "data": {
      "application/vnd.jupyter.widget-view+json": {
       "model_id": "f9432d9e9c484cd5b704b568b1be6ed1",
       "version_major": 2,
       "version_minor": 0
      },
      "text/plain": [
       "tokenizer_config.json:   0%|          | 0.00/350 [00:00<?, ?B/s]"
      ]
     },
     "metadata": {},
     "output_type": "display_data"
    },
    {
     "data": {
      "application/vnd.jupyter.widget-view+json": {
       "model_id": "ab7cdee7610949b3bae10a7225e5e158",
       "version_major": 2,
       "version_minor": 0
      },
      "text/plain": [
       "vocab.txt:   0%|          | 0.00/232k [00:00<?, ?B/s]"
      ]
     },
     "metadata": {},
     "output_type": "display_data"
    },
    {
     "data": {
      "application/vnd.jupyter.widget-view+json": {
       "model_id": "b5c95cfb7f0b4ba6ac25f41c8297d975",
       "version_major": 2,
       "version_minor": 0
      },
      "text/plain": [
       "tokenizer.json:   0%|          | 0.00/466k [00:00<?, ?B/s]"
      ]
     },
     "metadata": {},
     "output_type": "display_data"
    },
    {
     "data": {
      "application/vnd.jupyter.widget-view+json": {
       "model_id": "83344bfe932c42b1bbe656dc73034abc",
       "version_major": 2,
       "version_minor": 0
      },
      "text/plain": [
       "special_tokens_map.json:   0%|          | 0.00/112 [00:00<?, ?B/s]"
      ]
     },
     "metadata": {},
     "output_type": "display_data"
    },
    {
     "data": {
      "application/vnd.jupyter.widget-view+json": {
       "model_id": "42c1a646c482421bb9d60c08f976fce8",
       "version_major": 2,
       "version_minor": 0
      },
      "text/plain": [
       "config.json:   0%|          | 0.00/190 [00:00<?, ?B/s]"
      ]
     },
     "metadata": {},
     "output_type": "display_data"
    },
    {
     "name": "stderr",
     "output_type": "stream",
     "text": [
      "INFO:UltraFeedbackVisualizer:📊 Logging training samples (human feedback)...\n",
      "INFO:UltraFeedbackVisualizer:[Example 0] ✅ Logged successfully.\n",
      "INFO:UltraFeedbackVisualizer:[Example 1] ✅ Logged successfully.\n",
      "INFO:UltraFeedbackVisualizer:[Example 2] ✅ Logged successfully.\n",
      "INFO:UltraFeedbackVisualizer:[Example 3] ✅ Logged successfully.\n",
      "INFO:UltraFeedbackVisualizer:[Example 4] ✅ Logged successfully.\n",
      "INFO:UltraFeedbackVisualizer:[Example 5] ✅ Logged successfully.\n",
      "INFO:UltraFeedbackVisualizer:[Example 6] ✅ Logged successfully.\n",
      "INFO:UltraFeedbackVisualizer:[Example 7] ✅ Logged successfully.\n",
      "INFO:UltraFeedbackVisualizer:[Example 8] ✅ Logged successfully.\n",
      "INFO:UltraFeedbackVisualizer:[Example 9] ✅ Logged successfully.\n",
      "INFO:UltraFeedbackVisualizer:[Example 10] ✅ Logged successfully.\n",
      "INFO:UltraFeedbackVisualizer:[Example 11] ✅ Logged successfully.\n",
      "INFO:UltraFeedbackVisualizer:[Example 12] ✅ Logged successfully.\n",
      "INFO:UltraFeedbackVisualizer:[Example 13] ✅ Logged successfully.\n",
      "INFO:UltraFeedbackVisualizer:[Example 14] ✅ Logged successfully.\n",
      "INFO:UltraFeedbackVisualizer:[Example 15] ✅ Logged successfully.\n",
      "INFO:UltraFeedbackVisualizer:[Example 16] ✅ Logged successfully.\n",
      "INFO:UltraFeedbackVisualizer:[Example 17] ✅ Logged successfully.\n",
      "INFO:UltraFeedbackVisualizer:[Example 18] ✅ Logged successfully.\n",
      "INFO:UltraFeedbackVisualizer:[Example 19] ✅ Logged successfully.\n",
      "INFO:UltraFeedbackVisualizer:📊 Logging test samples (human feedback)...\n",
      "INFO:UltraFeedbackVisualizer:[Example 0] ✅ Logged successfully.\n",
      "INFO:UltraFeedbackVisualizer:[Example 1] ✅ Logged successfully.\n",
      "INFO:UltraFeedbackVisualizer:[Example 2] ✅ Logged successfully.\n",
      "INFO:UltraFeedbackVisualizer:[Example 3] ✅ Logged successfully.\n",
      "INFO:UltraFeedbackVisualizer:[Example 4] ✅ Logged successfully.\n",
      "INFO:UltraFeedbackVisualizer:[Example 5] ✅ Logged successfully.\n",
      "INFO:UltraFeedbackVisualizer:[Example 6] ✅ Logged successfully.\n",
      "INFO:UltraFeedbackVisualizer:[Example 7] ✅ Logged successfully.\n",
      "INFO:UltraFeedbackVisualizer:[Example 8] ✅ Logged successfully.\n",
      "INFO:UltraFeedbackVisualizer:[Example 9] ✅ Logged successfully.\n",
      "INFO:UltraFeedbackVisualizer:[Example 10] ✅ Logged successfully.\n",
      "INFO:UltraFeedbackVisualizer:[Example 11] ✅ Logged successfully.\n",
      "INFO:UltraFeedbackVisualizer:[Example 12] ✅ Logged successfully.\n",
      "INFO:UltraFeedbackVisualizer:[Example 13] ✅ Logged successfully.\n",
      "INFO:UltraFeedbackVisualizer:[Example 14] ✅ Logged successfully.\n",
      "INFO:UltraFeedbackVisualizer:[Example 15] ✅ Logged successfully.\n",
      "INFO:UltraFeedbackVisualizer:[Example 16] ✅ Logged successfully.\n",
      "INFO:UltraFeedbackVisualizer:[Example 17] ✅ Logged successfully.\n",
      "INFO:UltraFeedbackVisualizer:[Example 18] ✅ Logged successfully.\n",
      "INFO:UltraFeedbackVisualizer:[Example 19] ✅ Logged successfully.\n",
      "INFO:UltraFeedbackVisualizer:✅ Human feedback logging complete!\n",
      "To visualize, run:\n",
      "tensorboard --logdir=/phoenix/tensorboard/tensorlogs --port 6006\n"
     ]
    }
   ],
   "source": [
    "visualizer = UltraFeedbackVisualizer(train_subset, test_subset,max_samples=20)\n",
    "visualizer.run()"
   ]
  },
  {
   "cell_type": "code",
   "execution_count": 27,
   "id": "39e3ec8a-1c9b-4d79-8960-3fdbeae10449",
   "metadata": {},
   "outputs": [
    {
     "data": {
      "application/vnd.jupyter.widget-view+json": {
       "model_id": "9aaec599224d441f99a15f19d98e7e6a",
       "version_major": 2,
       "version_minor": 0
      },
      "text/plain": [
       "Map (num_proc=48):   0%|          | 0/5000 [00:00<?, ? examples/s]"
      ]
     },
     "metadata": {},
     "output_type": "display_data"
    },
    {
     "data": {
      "application/vnd.jupyter.widget-view+json": {
       "model_id": "3a02c529dea94031899588ff2cc322e3",
       "version_major": 2,
       "version_minor": 0
      },
      "text/plain": [
       "Map (num_proc=48):   0%|          | 0/163 [00:00<?, ? examples/s]"
      ]
     },
     "metadata": {},
     "output_type": "display_data"
    },
    {
     "name": "stdout",
     "output_type": "stream",
     "text": [
      "[Dataset({\n",
      "    features: ['prompt', 'prompt_id', 'chosen', 'rejected', 'messages', 'score_chosen', 'score_rejected'],\n",
      "    num_rows: 5000\n",
      "}), Dataset({\n",
      "    features: ['prompt', 'prompt_id', 'chosen', 'rejected', 'messages', 'score_chosen', 'score_rejected'],\n",
      "    num_rows: 163\n",
      "})]\n"
     ]
    }
   ],
   "source": [
    "def process(row):\n",
    "    \"\"\"\n",
    "    Specifies how to convert row into a tokenizable string in the expected model format\n",
    "    \"\"\"\n",
    "    row[\"chosen\"] = tokenizer.apply_chat_template(row[\"chosen\"], tokenize=False)\n",
    "    row[\"rejected\"] = tokenizer.apply_chat_template(row[\"rejected\"], tokenize=False)\n",
    "    return row\n",
    "\n",
    "dataset[0] = train_subset.map(\n",
    "    process,\n",
    "    num_proc= multiprocessing.cpu_count(),\n",
    "    load_from_cache_file=False,\n",
    ")\n",
    "\n",
    "dataset[1] = test_subset.map(\n",
    "    process,\n",
    "    num_proc= multiprocessing.cpu_count(),\n",
    "    load_from_cache_file=False,\n",
    ")\n",
    "\n",
    "print(dataset)"
   ]
  },
  {
   "cell_type": "markdown",
   "id": "b6ee1788-fc5a-4afd-bb22-d5b812b41635",
   "metadata": {},
   "source": [
    "## ⚙️ ORPO Configuration\n",
    "\n",
    "We define the training configuration using the `ORPOConfig` class from TRL (Transformers Reinforcement Learning).\n",
    "\n",
    "This configuration controls how the model will be fine-tuned using ORPO (Offline Reinforcement Preference Optimization), a technique that aligns model outputs with human preferences.\n",
    "\n",
    "Key parameters include:\n",
    "- `learning_rate`: sets how fast the model updates (8e-6 is typical for PEFT)\n",
    "- `beta`: the strength of the ORPO loss term\n",
    "- `optim`: uses 8-bit optimizer for memory efficiency (paged_adamw_8bit)\n",
    "- `max_steps`: controls how long training will run (e.g., 1000 steps)\n",
    "- `eval_strategy` and `eval_steps`: defines how and when to evaluate during training\n",
    "- `output_dir`: directory to save the trained model\n",
    "\n",
    "> This configuration is compatible with all the selected models (e.g., Mistral, LLaMA, Gemma) and optimized for QLoRA fine-tuning on consumer or research-grade GPUs.\n"
   ]
  },
  {
   "cell_type": "code",
   "execution_count": 28,
   "id": "11dfc31b-313d-46c7-ac16-80534efb8169",
   "metadata": {},
   "outputs": [
    {
     "name": "stderr",
     "output_type": "stream",
     "text": [
      "2025/06/23 05:11:26 INFO mlflow.tracking.fluent: Experiment with name 'AIStudio-Fine-Tuning-Experiment' does not exist. Creating a new experiment.\n"
     ]
    }
   ],
   "source": [
    "mlflow.set_tracking_uri('/phoenix/mlflow')\n",
    "mlflow.set_experiment(MLFLOW_EXPERIMENT_NAME)\n",
    "\n",
    "# Ensure training output directory exists\n",
    "training_output_dir = get_output_dir() / \"training_results\"\n",
    "training_output_dir.mkdir(parents=True, exist_ok=True)\n",
    "\n",
    "orpo_args = ORPOConfig(\n",
    "    learning_rate=8e-6,\n",
    "    beta=0.1,\n",
    "    lr_scheduler_type=\"linear\",\n",
    "    max_length=1024,\n",
    "    max_prompt_length=512,\n",
    "    per_device_train_batch_size=2,\n",
    "    per_device_eval_batch_size=2,\n",
    "    gradient_accumulation_steps=4,\n",
    "    optim=\"paged_adamw_8bit\",\n",
    "    max_steps=1000,\n",
    "    eval_strategy=\"steps\",\n",
    "    eval_steps=0.2,\n",
    "    logging_steps=1,\n",
    "    warmup_steps=10,\n",
    "    report_to=[\"mlflow\",\"tensorboard\"],\n",
    "    output_dir=str(training_output_dir),\n",
    ")\n",
    "\n",
    "print(f\"Training output directory: {training_output_dir}\")\n",
    "print(f\"Directory exists: {training_output_dir.exists()}\")"
   ]
  },
  {
   "cell_type": "markdown",
   "id": "57d084b1-62da-4ed7-8d49-729db9bb4e3d",
   "metadata": {},
   "source": [
    "### 🚀 ORPO Trainer\n",
    "\n",
    "We now initialize the `ORPOTrainer`, which orchestrates the fine-tuning process using the Offline Reinforcement Preference Optimization (ORPO) strategy.\n",
    "\n",
    "It takes as input:\n",
    "- The **base model**, already prepared with QLoRA and chat formatting\n",
    "- The **ORPO configuration** (`orpo_args`) containing all training hyperparameters\n",
    "- The **training and evaluation datasets**\n",
    "- The **LoRA configuration** (`peft_config`) for parameter-efficient fine-tuning\n",
    "- The **tokenizer**, passed as a `processing_class`, to apply proper formatting and padding\n",
    "\n",
    "Once initialized, the trainer will be ready to start training with `trainer.train()`.\n"
   ]
  },
  {
   "cell_type": "code",
   "execution_count": 30,
   "id": "45ed75d4-44c8-4284-9f12-3da8f4cce525",
   "metadata": {},
   "outputs": [
    {
     "data": {
      "application/vnd.jupyter.widget-view+json": {
       "model_id": "07c174d025be4cd79e20ee2aa86e3384",
       "version_major": 2,
       "version_minor": 0
      },
      "text/plain": [
       "Map:   0%|          | 0/5000 [00:00<?, ? examples/s]"
      ]
     },
     "metadata": {},
     "output_type": "display_data"
    },
    {
     "data": {
      "application/vnd.jupyter.widget-view+json": {
       "model_id": "2ecaf7006230460cb9328b4593865a22",
       "version_major": 2,
       "version_minor": 0
      },
      "text/plain": [
       "Map:   0%|          | 0/5000 [00:00<?, ? examples/s]"
      ]
     },
     "metadata": {},
     "output_type": "display_data"
    },
    {
     "name": "stderr",
     "output_type": "stream",
     "text": [
      "No label_names provided for model class `PeftModelForCausalLM`. Since `PeftModel` hides base models input arguments, if label_names is not given, label_names can't be set automatically within `Trainer`. Note that empty label_names list will be used instead.\n"
     ]
    }
   ],
   "source": [
    "trainer = ORPOTrainer(\n",
    "    model=model,\n",
    "    args=orpo_args,\n",
    "    train_dataset=dataset[0],\n",
    "    eval_dataset=dataset[1],\n",
    "    peft_config=peft_config,\n",
    "    processing_class=tokenizer  \n",
    ")"
   ]
  },
  {
   "cell_type": "code",
   "execution_count": 31,
   "id": "ca638984-d847-41fd-b918-78517ba82817",
   "metadata": {
    "scrolled": true
   },
   "outputs": [
    {
     "data": {
      "text/html": [
       "\n",
       "    <div>\n",
       "      \n",
       "      <progress value='1000' max='1000' style='width:300px; height:20px; vertical-align: middle;'></progress>\n",
       "      [1000/1000 5:08:40, Epoch 3/4]\n",
       "    </div>\n",
       "    <table border=\"1\" class=\"dataframe\">\n",
       "  <thead>\n",
       " <tr style=\"text-align: left;\">\n",
       "      <th>Step</th>\n",
       "      <th>Training Loss</th>\n",
       "      <th>Validation Loss</th>\n",
       "      <th>Runtime</th>\n",
       "      <th>Samples Per Second</th>\n",
       "      <th>Steps Per Second</th>\n",
       "      <th>Rewards/chosen</th>\n",
       "      <th>Rewards/rejected</th>\n",
       "      <th>Rewards/accuracies</th>\n",
       "      <th>Rewards/margins</th>\n",
       "      <th>Logps/rejected</th>\n",
       "      <th>Logps/chosen</th>\n",
       "      <th>Logits/rejected</th>\n",
       "      <th>Logits/chosen</th>\n",
       "      <th>Nll Loss</th>\n",
       "      <th>Log Odds Ratio</th>\n",
       "      <th>Log Odds Chosen</th>\n",
       "    </tr>\n",
       "  </thead>\n",
       "  <tbody>\n",
       "    <tr>\n",
       "      <td>200</td>\n",
       "      <td>4.367400</td>\n",
       "      <td>1.282820</td>\n",
       "      <td>42.542200</td>\n",
       "      <td>3.831000</td>\n",
       "      <td>0.964000</td>\n",
       "      <td>-0.080814</td>\n",
       "      <td>-0.083031</td>\n",
       "      <td>0.422764</td>\n",
       "      <td>0.002217</td>\n",
       "      <td>-0.830309</td>\n",
       "      <td>-0.808137</td>\n",
       "      <td>-2.668726</td>\n",
       "      <td>-2.743398</td>\n",
       "      <td>1.208643</td>\n",
       "      <td>-0.726387</td>\n",
       "      <td>0.023919</td>\n",
       "    </tr>\n",
       "    <tr>\n",
       "      <td>400</td>\n",
       "      <td>4.819100</td>\n",
       "      <td>1.263033</td>\n",
       "      <td>43.100600</td>\n",
       "      <td>3.782000</td>\n",
       "      <td>0.951000</td>\n",
       "      <td>-0.078805</td>\n",
       "      <td>-0.080927</td>\n",
       "      <td>0.422764</td>\n",
       "      <td>0.002122</td>\n",
       "      <td>-0.809269</td>\n",
       "      <td>-0.788052</td>\n",
       "      <td>-2.740651</td>\n",
       "      <td>-2.804940</td>\n",
       "      <td>1.188412</td>\n",
       "      <td>-0.731482</td>\n",
       "      <td>0.025490</td>\n",
       "    </tr>\n",
       "    <tr>\n",
       "      <td>600</td>\n",
       "      <td>4.511200</td>\n",
       "      <td>1.255337</td>\n",
       "      <td>42.930300</td>\n",
       "      <td>3.797000</td>\n",
       "      <td>0.955000</td>\n",
       "      <td>-0.078254</td>\n",
       "      <td>-0.080310</td>\n",
       "      <td>0.410569</td>\n",
       "      <td>0.002056</td>\n",
       "      <td>-0.803101</td>\n",
       "      <td>-0.782543</td>\n",
       "      <td>-2.753695</td>\n",
       "      <td>-2.816982</td>\n",
       "      <td>1.180629</td>\n",
       "      <td>-0.732468</td>\n",
       "      <td>0.023484</td>\n",
       "    </tr>\n",
       "    <tr>\n",
       "      <td>800</td>\n",
       "      <td>4.612600</td>\n",
       "      <td>1.252165</td>\n",
       "      <td>43.067200</td>\n",
       "      <td>3.785000</td>\n",
       "      <td>0.952000</td>\n",
       "      <td>-0.078056</td>\n",
       "      <td>-0.080067</td>\n",
       "      <td>0.416667</td>\n",
       "      <td>0.002010</td>\n",
       "      <td>-0.800666</td>\n",
       "      <td>-0.780562</td>\n",
       "      <td>-2.763569</td>\n",
       "      <td>-2.822617</td>\n",
       "      <td>1.177370</td>\n",
       "      <td>-0.733295</td>\n",
       "      <td>0.022420</td>\n",
       "    </tr>\n",
       "    <tr>\n",
       "      <td>1000</td>\n",
       "      <td>4.803200</td>\n",
       "      <td>1.251173</td>\n",
       "      <td>43.411000</td>\n",
       "      <td>3.755000</td>\n",
       "      <td>0.944000</td>\n",
       "      <td>-0.078073</td>\n",
       "      <td>-0.080040</td>\n",
       "      <td>0.410569</td>\n",
       "      <td>0.001966</td>\n",
       "      <td>-0.800398</td>\n",
       "      <td>-0.780734</td>\n",
       "      <td>-2.771534</td>\n",
       "      <td>-2.829024</td>\n",
       "      <td>1.176399</td>\n",
       "      <td>-0.733086</td>\n",
       "      <td>0.022923</td>\n",
       "    </tr>\n",
       "  </tbody>\n",
       "</table><p>"
      ],
      "text/plain": [
       "<IPython.core.display.HTML object>"
      ]
     },
     "metadata": {},
     "output_type": "display_data"
    }
   ],
   "source": [
    "trainer.train()\n",
    "\n",
    "# Copy the final model to our desired fine_tuned_path location\n",
    "import shutil\n",
    "if Path(orpo_args.output_dir).exists():\n",
    "    # Remove existing fine_tuned_path if it exists\n",
    "    if Path(fine_tuned_path).exists():\n",
    "        shutil.rmtree(fine_tuned_path)\n",
    "    \n",
    "    # Copy the trained model to our desired location\n",
    "    shutil.copytree(orpo_args.output_dir, fine_tuned_path)\n",
    "    print(f\"Model copied to: {fine_tuned_path}\")"
   ]
  },
  {
   "cell_type": "code",
   "execution_count": 32,
   "id": "8bad850f-43fc-4d88-a276-18fa70726863",
   "metadata": {},
   "outputs": [
    {
     "name": "stdout",
     "output_type": "stream",
     "text": [
      "🧹 Cleaning up memory...\n",
      "🔄 Loading base tokenizer and model...\n"
     ]
    },
    {
     "data": {
      "application/vnd.jupyter.widget-view+json": {
       "model_id": "6bcc764bac37406dbf38ad2be7a7da7b",
       "version_major": 2,
       "version_minor": 0
      },
      "text/plain": [
       "tokenizer_config.json:   0%|          | 0.00/1.29k [00:00<?, ?B/s]"
      ]
     },
     "metadata": {},
     "output_type": "display_data"
    },
    {
     "data": {
      "application/vnd.jupyter.widget-view+json": {
       "model_id": "873e4099b6cb48aaa456658c7b0e895e",
       "version_major": 2,
       "version_minor": 0
      },
      "text/plain": [
       "tokenizer.model:   0%|          | 0.00/500k [00:00<?, ?B/s]"
      ]
     },
     "metadata": {},
     "output_type": "display_data"
    },
    {
     "data": {
      "application/vnd.jupyter.widget-view+json": {
       "model_id": "1487c68014894446903f18217421e998",
       "version_major": 2,
       "version_minor": 0
      },
      "text/plain": [
       "tokenizer.json:   0%|          | 0.00/1.84M [00:00<?, ?B/s]"
      ]
     },
     "metadata": {},
     "output_type": "display_data"
    },
    {
     "data": {
      "application/vnd.jupyter.widget-view+json": {
       "model_id": "9fa167f6456b4705bd99edb9cb560c72",
       "version_major": 2,
       "version_minor": 0
      },
      "text/plain": [
       "special_tokens_map.json:   0%|          | 0.00/551 [00:00<?, ?B/s]"
      ]
     },
     "metadata": {},
     "output_type": "display_data"
    },
    {
     "data": {
      "application/vnd.jupyter.widget-view+json": {
       "model_id": "172335e6d941445bbf0b8dcdba758987",
       "version_major": 2,
       "version_minor": 0
      },
      "text/plain": [
       "config.json:   0%|          | 0.00/608 [00:00<?, ?B/s]"
      ]
     },
     "metadata": {},
     "output_type": "display_data"
    },
    {
     "data": {
      "application/vnd.jupyter.widget-view+json": {
       "model_id": "1812f8d0ec014973b947a1164afead58",
       "version_major": 2,
       "version_minor": 0
      },
      "text/plain": [
       "model.safetensors:   0%|          | 0.00/2.20G [00:00<?, ?B/s]"
      ]
     },
     "metadata": {},
     "output_type": "display_data"
    },
    {
     "data": {
      "application/vnd.jupyter.widget-view+json": {
       "model_id": "f14a8b28e6c34eab886382b12ecc41db",
       "version_major": 2,
       "version_minor": 0
      },
      "text/plain": [
       "generation_config.json:   0%|          | 0.00/124 [00:00<?, ?B/s]"
      ]
     },
     "metadata": {},
     "output_type": "display_data"
    },
    {
     "name": "stdout",
     "output_type": "stream",
     "text": [
      "⚠️ Tokenizer already contains a chat_template. Skipping setup.\n",
      "🔗 Loading LoRA fine-tuned weights from: ../../../local/models_llora/Orpo-TinyLlama-1.1B-Chat-v1.0-FT\n",
      "🧠 Merging LoRA weights into the base model...\n",
      "💾 Saving merged model to: ../../../local/models_llora/Orpo-TinyLlama-1.1B-Chat-v1.0-FT\n",
      "✅ Merge complete! Model successfully saved locally.\n"
     ]
    }
   ],
   "source": [
    "merge_lora_and_save(\n",
    "    base_model_id=MODEL,\n",
    "    finetuned_lora_path=fine_tuned_path\n",
    ")\n"
   ]
  },
  {
   "cell_type": "code",
   "execution_count": 14,
   "id": "c4242ea0-b894-4852-9263-2e48eedaf7c5",
   "metadata": {},
   "outputs": [
    {
     "name": "stdout",
     "output_type": "stream",
     "text": [
      "Propose a solution that could reduce the rate of deforestation, including at least 12 different examples that are specific to locations such as Amazonia, and at least 2 in 20 different regions worldwide, one of which is the European Union.user\n",
      "Propose a solution that could reduce the rate of deforestation, including at least 12 different examples that are specific to locations such as Amazonia, and at least 2 in 20 different regions worldwide, one of which is the European Union.\n"
     ]
    }
   ],
   "source": [
    "fine_tuned_path = str(get_fine_tuned_models_dir() / fine_tuned_name)\n",
    "\n",
    "tokenizer = AutoTokenizer.from_pretrained(fine_tuned_path)\n",
    "model = AutoModelForCausalLM.from_pretrained(fine_tuned_path, torch_dtype=torch.float16).cuda().eval()\n",
    "\n",
    "prompt = \"Propose a solution that could reduce the rate of deforestation\"\n",
    "inputs = tokenizer(prompt, return_tensors=\"pt\").to(\"cuda\")\n",
    "\n",
    "with torch.no_grad():\n",
    "    outputs = model.generate(**inputs, max_new_tokens=500)\n",
    "\n",
    "print(tokenizer.decode(outputs[0], skip_special_tokens=True))\n"
   ]
  },
  {
   "cell_type": "markdown",
   "id": "7fbe5795-9dbf-412e-96d9-809d561c8c6c",
   "metadata": {},
   "source": [
    "## Galileo Evaluate\n",
    "Through the Galileo library called Prompt Quality, we connect our API generated in the Galileo Evaluate to log in. To get your ApiKey, use this link: https://console.hp.galileocloud.io/api-keys\n",
    "\n",
    "Galileo Evaluate is a platform designed to optimize and simplify the experimentation and evaluation of generative AI systems, especially large language model (LLM) applications. Its goal is to facilitate the process of building AI systems with deep insights and collaborative tools, replacing fragmented experimentation in spreadsheets and notebooks with a more integrated approach.\n",
    "\n",
    "You can log metrics in Galileo Evaluate and track all your experiments in one place. In our example, we logged several questions, selected specific metrics, and ran a batch of experiments to evaluate our chain. To learn more about the available metrics, see: Galileo Guardrail Metrics."
   ]
  },
  {
   "cell_type": "code",
   "execution_count": 41,
   "id": "4e9bff3e-0c0b-4eca-a10b-a086593d834d",
   "metadata": {
    "scrolled": true
   },
   "outputs": [
    {
     "name": "stdout",
     "output_type": "stream",
     "text": [
      "👋 You have logged into 🔭 Galileo (https://console.hp.galileocloud.io/) as diogo.vieira@hp.com.\n"
     ]
    },
    {
     "data": {
      "text/plain": [
       "Config(console_url=HttpUrl('https://console.hp.galileocloud.io/'), username=None, password=None, api_key=SecretStr('**********'), token=SecretStr('**********'), current_user='diogo.vieira@hp.com', current_project_id=None, current_project_name=None, current_run_id=None, current_run_name=None, current_run_url=None, current_run_task_type=None, current_template_id=None, current_template_name=None, current_template_version_id=None, current_template_version=None, current_template=None, current_dataset_id=None, current_job_id=None, current_prompt_optimization_job_id=None, api_url=HttpUrl('https://api.hp.galileocloud.io/'))"
      ]
     },
     "execution_count": 41,
     "metadata": {},
     "output_type": "execute_result"
    }
   ],
   "source": [
    "#########################################\n",
    "# In order to connect to Galileo, create a secrets.yaml file in the configs folder.\n",
    "# This file should be an entry called GALILEO_API_KEY, with your personal Galileo API Key\n",
    "# Galileo API keys can be created on https://console.hp.galileocloud.io/settings/api-keys\n",
    "#########################################\n",
    "\n",
    "setup_galileo_environment(secrets)\n",
    "pq.login(os.environ['GALILEO_CONSOLE_URL'])"
   ]
  },
  {
   "cell_type": "code",
   "execution_count": 42,
   "id": "6bf71f8e-0e1a-4732-8f6f-1c62d128d4c4",
   "metadata": {},
   "outputs": [
    {
     "name": "stderr",
     "output_type": "stream",
     "text": [
      "INFO:AcceleratedInferenceRunner:🔄 Loading tokenizer and base model from ModelSelector...\n",
      "INFO:AcceleratedInferenceRunner:✅ Model loaded and ready for inference.\n",
      "INFO:AcceleratedInferenceRunner:🔄 Loading tokenizer and base model from ModelSelector...\n",
      "INFO:AcceleratedInferenceRunner:🎯 Applying LoRA fine-tuned weights...\n",
      "INFO:AcceleratedInferenceRunner:✅ Model loaded and ready for inference.\n",
      "INFO:AcceleratedInferenceRunner:🔍 Running inference for prompt (truncated): Explain the importance of sustainable agriculture....\n"
     ]
    },
    {
     "name": "stdout",
     "output_type": "stream",
     "text": [
      "⚙️ Running prompt 1/2\n"
     ]
    },
    {
     "name": "stderr",
     "output_type": "stream",
     "text": [
      "INFO:AcceleratedInferenceRunner:✅ Inference complete.\n",
      "INFO:AcceleratedInferenceRunner:🔍 Running inference for prompt (truncated): Explain the importance of sustainable agriculture....\n",
      "INFO:AcceleratedInferenceRunner:✅ Inference complete.\n",
      "INFO:AcceleratedInferenceRunner:🔍 Running inference for prompt (truncated): Write a Python function to check for palindromes....\n"
     ]
    },
    {
     "name": "stdout",
     "output_type": "stream",
     "text": [
      "⚙️ Running prompt 2/2\n"
     ]
    },
    {
     "name": "stderr",
     "output_type": "stream",
     "text": [
      "INFO:AcceleratedInferenceRunner:✅ Inference complete.\n",
      "INFO:AcceleratedInferenceRunner:🔍 Running inference for prompt (truncated): Write a Python function to check for palindromes....\n",
      "INFO:AcceleratedInferenceRunner:✅ Inference complete.\n",
      "INFO:promptquality.utils.logger:Project AIStudio-Fine-Tuning-Evaluate already exists, using it.\n"
     ]
    },
    {
     "data": {
      "application/vnd.jupyter.widget-view+json": {
       "model_id": "3ed13fb1c74a41b2922412e464a59fd0",
       "version_major": 2,
       "version_minor": 0
      },
      "text/plain": [
       "Processing chain run...:   0%|          | 0/5 [00:00<?, ?it/s]"
      ]
     },
     "metadata": {},
     "output_type": "display_data"
    },
    {
     "name": "stdout",
     "output_type": "stream",
     "text": [
      "Initial job complete, executing scorers asynchronously. Current status:\n",
      "rag_nli: Computing 🚧\n",
      "instruction_adherence: Computing 🚧\n",
      "cost: Done ✅\n",
      "toxicity: Computing 🚧\n",
      "pii: Computing 🚧\n",
      "protect_status: Done ✅\n",
      "latency: Done ✅\n",
      "factuality: Computing 🚧\n",
      "🔭 View your prompt run on the Galileo console at: https://console.hp.galileocloud.io/prompt/chains/ba7eae8e-754b-4db3-8126-65edbb062949/c760d967-a0b1-4019-af4b-ed90abc5d2ff?taskType=12\n",
      "✅ Finished logging outputs for both models to Galileo.\n"
     ]
    }
   ],
   "source": [
    "comparer = GalileoLocalComparer(\n",
    "    base_selector=selector,\n",
    "    finetuned_path=fine_tuned_path,\n",
    "    prompts=[\n",
    "        \"Explain the importance of sustainable agriculture.\",\n",
    "        \"Write a Python function to check for palindromes.\",\n",
    "    ],\n",
    "    galileo_project_name=GALILEO_EVALUATE_PROJECT_NAME,\n",
    "    dtype=torch.float16\n",
    ")\n",
    "\n",
    "comparer.compare()"
   ]
  },
  {
   "cell_type": "code",
   "execution_count": 43,
   "id": "4987f4cf",
   "metadata": {},
   "outputs": [
    {
     "name": "stderr",
     "output_type": "stream",
     "text": [
      "2025-06-23 10:28:46 - INFO - Notebook execution completed.\n",
      "2025-06-23 10:28:46 - INFO - Notebook execution completed.\n"
     ]
    }
   ],
   "source": [
    "logger.info('Notebook execution completed.')"
   ]
  },
  {
   "cell_type": "markdown",
   "id": "e391ccbf-ca08-4299-93c0-f67fb2551a59",
   "metadata": {},
   "source": [
    "Built with ❤️ using Z by HP AI Studio."
   ]
  }
 ],
 "metadata": {
  "kernelspec": {
   "display_name": "Python [conda env:base] *",
   "language": "python",
   "name": "conda-base-py"
  },
  "language_info": {
   "codemirror_mode": {
    "name": "ipython",
    "version": 3
   },
   "file_extension": ".py",
   "mimetype": "text/x-python",
   "name": "python",
   "nbconvert_exporter": "python",
   "pygments_lexer": "ipython3",
   "version": "3.12.7"
  }
 },
 "nbformat": 4,
 "nbformat_minor": 5
}
