{
 "cells": [
  {
   "cell_type": "markdown",
   "id": "e7c007e5",
   "metadata": {},
   "source": [
    "<h1 style=\"text-align: center; font-size: 50px;\"> Register Model </h1>"
   ]
  },
  {
   "cell_type": "markdown",
   "id": "3bdcb43f",
   "metadata": {},
   "source": [
    "# Notebook Overview"
   ]
  },
  {
   "cell_type": "markdown",
   "id": "756db15a",
   "metadata": {},
   "source": [
    "- Configure the Environment\n",
    "- Define Constants and Paths\n",
    "- Load Configuratons and Secrets\n",
    "- Register Model \n",
    "- Evaluate Model\n",
    "- Log Execution Time"
   ]
  },
  {
   "cell_type": "markdown",
   "id": "340de4cc",
   "metadata": {},
   "source": [
    "# Step 0: Configure the Environment"
   ]
  },
  {
   "cell_type": "code",
   "execution_count": null,
   "id": "67a1d3d1",
   "metadata": {
    "vscode": {
     "languageId": "plaintext"
    }
   },
   "outputs": [],
   "source": [
    "import logging\n",
    "import time\n",
    "\n",
    "# Configure logger\n",
    "logger: logging.Logger = logging.getLogger(\"run_workflow_logger\")\n",
    "logger.setLevel(logging.INFO)\n",
    "logger.propagate = False  # Prevent duplicate logs from parent loggers\n",
    "\n",
    "# Set formatter\n",
    "formatter: logging.Formatter = logging.Formatter(\n",
    "    fmt=\"%(asctime)s - %(levelname)s - %(message)s\",\n",
    "    datefmt=\"%Y-%m-%d %H:%M:%S\"\n",
    ")\n",
    "\n",
    "# Configure and attach stream handler\n",
    "stream_handler: logging.StreamHandler = logging.StreamHandler()\n",
    "stream_handler.setFormatter(formatter)\n",
    "logger.addHandler(stream_handler)"
   ]
  },
  {
   "cell_type": "code",
   "execution_count": null,
   "id": "0722b2d8",
   "metadata": {
    "vscode": {
     "languageId": "plaintext"
    }
   },
   "outputs": [],
   "source": [
    "start_time = time.time()  \n",
    "\n",
    "logger.info(\"Notebook execution started.\")"
   ]
  },
  {
   "cell_type": "code",
   "execution_count": null,
   "id": "49769695",
   "metadata": {
    "vscode": {
     "languageId": "plaintext"
    }
   },
   "outputs": [],
   "source": [
    "# Standard Libraries\n",
    "import logging\n",
    "import sys\n",
    "import os\n",
    "import json\n",
    "from pathlib import Path\n",
    "\n",
    "# Add src directory to system path\n",
    "sys.path.append(str(Path(\"..\").resolve() / \"src\"))\n",
    "\n",
    "# Internal Modules\n",
    "from markdown_correction_service import MarkdownCorrectionService\n",
    "from utils import load_config_and_secrets\n",
    "from llm_metrics import (\n",
    "    semantic_similarity_metric,\n",
    "    grammar_error_count_metric,\n",
    "    grammar_error_rate_metric,\n",
    "    grammar_improvement_metric,\n",
    "    grammar_score_metric,\n",
    "    readability_improvement_metric,\n",
    "    llm_judge_metric_local,\n",
    ")\n",
    "\n",
    "# Other modules\n",
    "import pandas as pd\n",
    "import mlflow\n",
    "from mlflow.models import evaluate\n",
    "from mlflow.metrics import (\n",
    "    ari_grade_level,\n",
    "    exact_match,\n",
    "    rouge1,\n",
    "    rougeL\n",
    ")"
   ]
  },
  {
   "cell_type": "markdown",
   "id": "e4beff91",
   "metadata": {},
   "source": [
    "# Define Constants and Paths"
   ]
  },
  {
   "cell_type": "code",
   "execution_count": null,
   "id": "96297375",
   "metadata": {
    "vscode": {
     "languageId": "plaintext"
    }
   },
   "outputs": [],
   "source": [
    "CONFIG_PATH = Path(\"../configs/configs.yaml\")\n",
    "SECRETS_PATH = Path(\"../configs/secrets.yaml\")\n",
    "LOCAL_MODEL_PATH = Path(\"/home/jovyan/datafabric/llama3.1-8b-instruct/Meta-Llama-3.1-8B-Instruct-Q8_0.gguf\")"
   ]
  },
  {
   "cell_type": "markdown",
   "id": "c73e2240",
   "metadata": {},
   "source": [
    "# Load Configurations and Secrets"
   ]
  },
  {
   "cell_type": "code",
   "execution_count": null,
   "id": "16b00c95",
   "metadata": {
    "vscode": {
     "languageId": "plaintext"
    }
   },
   "outputs": [],
   "source": [
    "config, secrets = load_config_and_secrets(CONFIG_PATH, SECRETS_PATH)"
   ]
  },
  {
   "cell_type": "markdown",
   "id": "79cc4a21",
   "metadata": {},
   "source": [
    "# Step 1: Register Model"
   ]
  },
  {
   "cell_type": "code",
   "execution_count": null,
   "id": "64c3b585",
   "metadata": {
    "vscode": {
     "languageId": "plaintext"
    }
   },
   "outputs": [],
   "source": [
    "%%time\n",
    "\n",
    "# Set MLflow experiement name\n",
    "mlflow.set_experiment(\"markdown-correction-experiment\")\n",
    "\n",
    "# Start a new MLflow run for logging and model tracking\n",
    "with mlflow.start_run(run_name=\"markdown-correction-run\") as run:\n",
    "    MarkdownCorrectionService.log_model(\n",
    "        llm_artifact=str(LOCAL_MODEL_PATH),\n",
    "        config_yaml=str(CONFIG_PATH),\n",
    "        secrets_yaml=str(SECRETS_PATH),\n",
    "    )\n",
    "\n",
    "    # Create a model URI that poiints to the newly logged model in this run\n",
    "    model_uri = f\"runs:/{run.info.run_id}/markdown_corrector\"\n",
    "\n",
    "    # Register the logged model in the MLflow Model Registry\n",
    "    mlflow.register_model(model_uri, \"MarkdownCorrector\")\n",
    "    logger.info(f\"Model registered: MarkdownCorrector\")"
   ]
  },
  {
   "cell_type": "markdown",
   "id": "aa51f0a9",
   "metadata": {},
   "source": [
    "# Step 2: Evaluate Model"
   ]
  },
  {
   "cell_type": "code",
   "execution_count": null,
   "id": "bdbe3a09",
   "metadata": {
    "vscode": {
     "languageId": "plaintext"
    }
   },
   "outputs": [],
   "source": [
    "%%time\n",
    "\n",
    "# Load evaluation results from the JSON file\n",
    "with open(\"results.json\", \"r\") as f:\n",
    "    results = json.load(f)\n",
    "\n",
    "# Extract original markdown texts from results\n",
    "original_texts = [item[\"original\"] for item in results]\n",
    "\n",
    "# Create evaluation DataFrame\n",
    "eval_df = pd.DataFrame(original_texts, columns=[\"markdown\"])\n",
    "\n",
    "# Run evaluation\n",
    "results = mlflow.evaluate(\n",
    "    model=model_uri,\n",
    "    data=eval_df,\n",
    "    targets=\"markdown\",\n",
    "    feature_names=[\"markdown\"],\n",
    "    extra_metrics=[\n",
    "        ari_grade_level(),\n",
    "        exact_match(),\n",
    "        rouge1(),\n",
    "        rougeL(),\n",
    "        semantic_similarity_metric,\n",
    "        grammar_error_count_metric,\n",
    "        grammar_error_rate_metric,\n",
    "        grammar_improvement_metric,\n",
    "        grammar_score_metric,\n",
    "        readability_improvement_metric,\n",
    "        llm_judge_metric_local\n",
    "    ]\n",
    ")\n",
    "\n",
    "# Print results (optional)\n",
    "'''\n",
    "logger.info(\"Evaluation results:\")\n",
    "logger.info(results.metrics)\n",
    "'''\n",
    "\n",
    "# Log evaluation metric results to MLflow for tracking\n",
    "mlflow.log_metrics(results.metrics)"
   ]
  },
  {
   "cell_type": "markdown",
   "id": "43be76e7",
   "metadata": {},
   "source": [
    "# Log Execution Time"
   ]
  },
  {
   "cell_type": "code",
   "execution_count": null,
   "id": "0118e140",
   "metadata": {
    "vscode": {
     "languageId": "plaintext"
    }
   },
   "outputs": [],
   "source": [
    "end_time: float = time.time()\n",
    "elapsed_time: float = end_time - start_time\n",
    "elapsed_minutes: int = int(elapsed_time // 60)\n",
    "elapsed_seconds: float = elapsed_time % 60\n",
    "\n",
    "logger.info(f\"⏱️ Total execution time: {elapsed_minutes}m {elapsed_seconds:.2f}s\")\n",
    "logger.info(\"✅ Notebook execution completed successfully.\")"
   ]
  }
 ],
 "metadata": {
  "language_info": {
   "name": "python"
  }
 },
 "nbformat": 4,
 "nbformat_minor": 5
}
