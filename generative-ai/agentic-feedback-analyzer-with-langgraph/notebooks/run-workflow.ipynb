{
 "cells": [
  {
   "cell_type": "markdown",
   "id": "c5f8d3ca-e260-4d56-967d-dc4feb92e2e4",
   "metadata": {},
   "source": [
    "<h1 style=\\\"text-align: center; font-size: 50px;\\\"> ⚙️ Run Workflow </h1>"
   ]
  },
  {
   "cell_type": "markdown",
   "id": "74217537-b174-49e0-b746-f3c53b5b0043",
   "metadata": {},
   "source": [
    "📘 Project Overview: \n",
    " This notebook demonstrates a modular architecture for answering natural language questions \n",
    " over one or more feedback documents using only local and open-source models (e.g., LLaMA.cpp).\n",
    " The system processes long documents chunk-by-chunk and synthesizes a final answer using a multi-step LLM workflow."
   ]
  },
  {
   "cell_type": "markdown",
   "id": "38f858ca",
   "metadata": {},
   "source": [
    "# Notebook Overview\n",
    "\n",
    "- Start Execution\n",
    "- Define User Constants\n",
    "- Install and Import Libraries\n",
    "- Configure Settings\n",
    "- Verify Assets\n",
    "- KV Memory\n",
    "- LLM Setup\n",
    "- State Model\n",
    "- Node Functions\n",
    "- Graph Definition\n",
    "- Graph Visualization\n",
    "- Generated Answer\n",
    "- Message History"
   ]
  },
  {
   "cell_type": "markdown",
   "id": "01a533df-f921-4f06-9197-9e33b9e5c799",
   "metadata": {},
   "source": [
    "# Start Execution"
   ]
  },
  {
   "cell_type": "code",
   "execution_count": 1,
   "id": "490becc1-2ff2-4273-a49f-0fdacf30c2c6",
   "metadata": {},
   "outputs": [],
   "source": [
    "# Standard library imports\n",
    "import os  # Provides OS-related utilities\n",
    "import sys  # Allows manipulation of Python runtime environment\n",
    "import time  # Enables time-based operations\n",
    "from pathlib import Path  # Object-oriented file system paths\n",
    "\n",
    "# Extend sys.path to allow importing from parent directory\n",
    "sys.path.append(os.path.abspath(os.path.join(os.getcwd(), \"..\")))\n",
    "\n",
    "# Local application-specific imports\n",
    "from src.simple_kv_memory import SimpleKVMemory  # In-memory key-value store for agent state\n",
    "from src.utils import (  # Utility functions for logging, LLM I/O, and schema generation\n",
    "    display_image,\n",
    "    get_response_from_llm,\n",
    "    json_schema_from_type,\n",
    "    log_timing,\n",
    "    logger,\n",
    ")"
   ]
  },
  {
   "cell_type": "code",
   "execution_count": 2,
   "id": "16d77c68-e160-4c24-9844-de484272733e",
   "metadata": {},
   "outputs": [
    {
     "data": {
      "text/html": [
       "\n",
       "        <div style=\"background-color: #228B22; color: white;\n",
       "                    padding: 4px 8px; font-family: monospace; border-radius: 4px;\">\n",
       "            ✅ 2025-09-18 14:33:02 - INFO - Notebook execution started.\n",
       "        </div>\n",
       "        "
      ],
      "text/plain": [
       "<IPython.core.display.HTML object>"
      ]
     },
     "metadata": {},
     "output_type": "display_data"
    }
   ],
   "source": [
    "start_time = time.time()  \n",
    "logger.info(\"Notebook execution started.\")"
   ]
  },
  {
   "cell_type": "markdown",
   "id": "84444adc-85c6-45cd-8769-7159e29fbace",
   "metadata": {},
   "source": [
    "# Define User Constants"
   ]
  },
  {
   "cell_type": "code",
   "execution_count": 3,
   "id": "a21d3385-704e-4107-ae45-749decdd305d",
   "metadata": {},
   "outputs": [],
   "source": [
    "TOPIC: str = \"Focus Flow\"  \n",
    "QUESTION: str = \"What are the main issues regarding the product\"\n",
    "INPUT_PATH: Path = Path(\"../data/input\")  "
   ]
  },
  {
   "cell_type": "markdown",
   "id": "f8b7b5e0-2acd-4729-b8a2-03e81cf0df2d",
   "metadata": {},
   "source": [
    "# Install and Import Libraries"
   ]
  },
  {
   "cell_type": "code",
   "execution_count": 4,
   "id": "1c533cc2-9ca5-442a-9409-bbad88be3eb4",
   "metadata": {
    "scrolled": true
   },
   "outputs": [
    {
     "name": "stdout",
     "output_type": "stream",
     "text": [
      "\u001b[33mWARNING: Ignoring invalid distribution ~lflow-skinny (/opt/conda/lib/python3.12/site-packages)\u001b[0m\u001b[33m\n",
      "\u001b[0m\u001b[33m    WARNING: Ignoring invalid distribution ~lflow (/opt/conda/lib/python3.12/site-packages)\u001b[0m\u001b[33m\n",
      "\u001b[0m\u001b[33m    WARNING: Ignoring invalid distribution ~lflow (/opt/conda/lib/python3.12/site-packages)\u001b[0m\u001b[33m\n",
      "\u001b[0m\u001b[33m    WARNING: Ignoring invalid distribution ~angchain (/opt/conda/lib/python3.12/site-packages)\u001b[0m\u001b[33m\n",
      "\u001b[0mNote: you may need to restart the kernel to use updated packages.\n",
      "CPU times: user 170 ms, sys: 52.5 ms, total: 222 ms\n",
      "Wall time: 16.7 s\n"
     ]
    }
   ],
   "source": [
    "%%time\n",
    "\n",
    "%pip install -r ../requirements.txt --quiet"
   ]
  },
  {
   "cell_type": "code",
   "execution_count": 5,
   "id": "8b95da1c-2715-497b-b1e0-2aaefe09dc04",
   "metadata": {},
   "outputs": [],
   "source": [
    "from __future__ import annotations  # Enables postponed evaluation of annotations (PEP 563)\n",
    "\n",
    "# ─────── Standard Library ───────\n",
    "import base64  # Provides encoding and decoding of binary data\n",
    "import functools  # Higher-order functions for functional programming\n",
    "import json  # JSON serialization and deserialization\n",
    "import logging  # Flexible logging system\n",
    "import multiprocessing  # Support for spawning processes\n",
    "import shutil  # High-level file operations\n",
    "import warnings  # Issue warning messages\n",
    "from collections import namedtuple  # Factory for creating tuple subclasses with named fields\n",
    "from datetime import datetime  # Date and time utilities\n",
    "from pathlib import Path  # Object-oriented filesystem paths\n",
    "from typing import Any, Dict, List, Literal, Optional, TypedDict  # Type hinting support\n",
    "\n",
    "# ─────── Third-Party Packages ───────\n",
    "import yaml  # YAML parsing and serialization\n",
    "from IPython.display import Markdown, display  # IPython utilities for notebook output formatting\n",
    "from tqdm import tqdm  # Visual progress bar for loops\n",
    "\n",
    "# ─────── LangChain Core & Community ───────\n",
    "from langchain.docstore.document import Document  # Core document abstraction\n",
    "from langchain.text_splitter import RecursiveCharacterTextSplitter  # Text chunking utility\n",
    "from langchain_community.document_loaders import (  # Loaders for various document types\n",
    "    CSVLoader,\n",
    "    PyPDFLoader,\n",
    "    TextLoader,\n",
    "    UnstructuredExcelLoader,\n",
    "    UnstructuredMarkdownLoader,\n",
    "    UnstructuredWordDocumentLoader,\n",
    ")\n",
    "from langchain_community.llms import LlamaCpp  # Integration for local LlamaCpp models\n",
    "\n",
    "# ─────── LangGraph ───────\n",
    "from langgraph.graph import END, START, StateGraph  # Graph components for stateful workflows"
   ]
  },
  {
   "cell_type": "markdown",
   "id": "14909251-86d2-4eff-b15e-4a8c4cbddc61",
   "metadata": {},
   "source": [
    "# Configure Settings"
   ]
  },
  {
   "cell_type": "code",
   "execution_count": 6,
   "id": "27be6c46",
   "metadata": {},
   "outputs": [],
   "source": [
    "# Suppress Python warnings\n",
    "warnings.filterwarnings(\"ignore\")"
   ]
  },
  {
   "cell_type": "code",
   "execution_count": 7,
   "id": "5b49f4d0-7662-43ce-ae95-59c13af024bc",
   "metadata": {},
   "outputs": [],
   "source": [
    "MEMORY_PATH: Path = Path(\"../data/memory\")   \n",
    "MODEL_PATH = \"/home/jovyan/datafabric/meta-llama3.1-8b-Q8/Meta-Llama-3.1-8B-Instruct-Q8_0.gguf\"\n",
    "CONTEXT_WINDOW = 8192\n",
    "MAX_TOKENS = CONTEXT_WINDOW // 8\n",
    "CHUNK_SIZE = CONTEXT_WINDOW // 2\n",
    "CHUNK_OVERLAP = CHUNK_SIZE // 16"
   ]
  },
  {
   "cell_type": "code",
   "execution_count": 8,
   "id": "92c8dc01-e50f-4077-9056-b966895ad8ab",
   "metadata": {},
   "outputs": [
    {
     "data": {
      "text/html": [
       "\n",
       "        <div style=\"background-color: #228B22; color: white;\n",
       "                    padding: 4px 8px; font-family: monospace; border-radius: 4px;\">\n",
       "            ✅ 2025-09-18 14:33:23 - INFO - Notebook execution started.\n",
       "        </div>\n",
       "        "
      ],
      "text/plain": [
       "<IPython.core.display.HTML object>"
      ]
     },
     "metadata": {},
     "output_type": "display_data"
    }
   ],
   "source": [
    "logger.info('Notebook execution started.')"
   ]
  },
  {
   "cell_type": "markdown",
   "id": "a8dad079",
   "metadata": {},
   "source": [
    "## Verify Assets"
   ]
  },
  {
   "cell_type": "code",
   "execution_count": 9,
   "id": "98593ec3",
   "metadata": {},
   "outputs": [],
   "source": [
    "def log_asset_status(asset_path: str, asset_name: str) -> None:\n",
    "    \"\"\"\n",
    "    Logs the status of a given asset based on its existence.\n",
    "\n",
    "    Parameters:\n",
    "        asset_path (str): File or directory path to check.\n",
    "        asset_name (str): Name of the asset for logging context.\n",
    "    \"\"\"\n",
    "    if Path(asset_path).exists():\n",
    "        logger.info(f\"{asset_name} is properly configured.\")\n",
    "    else:\n",
    "        logger.info(f\"{asset_name} is not properly configured. Please ensure the required asset is correctly configured in your AI Studio project according to the README file.\")"
   ]
  },
  {
   "cell_type": "code",
   "execution_count": 10,
   "id": "61dd389c-4a0c-421f-9f29-fe9080aec9bd",
   "metadata": {},
   "outputs": [
    {
     "data": {
      "text/html": [
       "\n",
       "        <div style=\"background-color: #228B22; color: white;\n",
       "                    padding: 4px 8px; font-family: monospace; border-radius: 4px;\">\n",
       "            ✅ 2025-09-18 14:33:23 - INFO - Input Data is properly configured.\n",
       "        </div>\n",
       "        "
      ],
      "text/plain": [
       "<IPython.core.display.HTML object>"
      ]
     },
     "metadata": {},
     "output_type": "display_data"
    },
    {
     "data": {
      "text/html": [
       "\n",
       "        <div style=\"background-color: #228B22; color: white;\n",
       "                    padding: 4px 8px; font-family: monospace; border-radius: 4px;\">\n",
       "            ✅ 2025-09-18 14:33:23 - INFO - LLM is properly configured.\n",
       "        </div>\n",
       "        "
      ],
      "text/plain": [
       "<IPython.core.display.HTML object>"
      ]
     },
     "metadata": {},
     "output_type": "display_data"
    }
   ],
   "source": [
    "log_asset_status(\n",
    "    asset_path=INPUT_PATH,\n",
    "    asset_name=\"Input Data\",\n",
    ")\n",
    "log_asset_status(\n",
    "    asset_path=MODEL_PATH,\n",
    "    asset_name=\"LLM\",\n",
    ")"
   ]
  },
  {
   "cell_type": "markdown",
   "id": "2f0bfa26-1ee9-4a63-af86-0e72695c51d4",
   "metadata": {},
   "source": [
    "# LLM Setup"
   ]
  },
  {
   "cell_type": "code",
   "execution_count": 11,
   "id": "d1b49c0f-20ea-4331-9d2e-35cf25852686",
   "metadata": {},
   "outputs": [
    {
     "name": "stdout",
     "output_type": "stream",
     "text": [
      "CPU times: user 2min 27s, sys: 2.16 s, total: 2min 29s\n",
      "Wall time: 3min 38s\n"
     ]
    }
   ],
   "source": [
    "%%time\n",
    "\n",
    "llm = LlamaCpp(\n",
    "    model_path=MODEL_PATH,\n",
    "    n_gpu_layers=-1,                             \n",
    "    n_batch=512,                                 \n",
    "    n_ctx=CONTEXT_WINDOW,\n",
    "    max_tokens=MAX_TOKENS,\n",
    "    f16_kv=True,\n",
    "    use_mmap=False,                             \n",
    "    low_vram=False,                            \n",
    "    rope_scaling=None,\n",
    "    temperature=0.0,\n",
    "    repeat_penalty=1.0,\n",
    "    streaming=False,\n",
    "    stop=None,\n",
    "    seed=42,\n",
    "    num_threads=multiprocessing.cpu_count(),\n",
    "    verbose=False                                \n",
    ")"
   ]
  },
  {
   "cell_type": "markdown",
   "id": "c51178d0-cf1b-465d-9ee7-c45212a38ceb",
   "metadata": {},
   "source": [
    "# KV Memory"
   ]
  },
  {
   "cell_type": "code",
   "execution_count": 12,
   "id": "de8aff30-531b-4923-9dc4-239c516b44e6",
   "metadata": {},
   "outputs": [],
   "source": [
    "memory: SimpleKVMemory = SimpleKVMemory(MEMORY_PATH)"
   ]
  },
  {
   "cell_type": "markdown",
   "id": "588eaa69-07ea-41f8-9fb6-6e6a9a55a101",
   "metadata": {},
   "source": [
    "# State Model"
   ]
  },
  {
   "cell_type": "code",
   "execution_count": 13,
   "id": "f4d57c81-4540-46bf-ac95-2c569cc011d5",
   "metadata": {},
   "outputs": [],
   "source": [
    "class AgenticState(TypedDict, total=False):\n",
    "    \"\"\"\n",
    "    Represents the internal state of an agentic feedback analysis pipeline.\n",
    "    This state is passed through the LangGraph nodes.\n",
    "    \"\"\"\n",
    "\n",
    "    # Input metadata\n",
    "    topic: str\n",
    "    input_path: str\n",
    "    question: str\n",
    "\n",
    "    # Document & chunking\n",
    "    docs: str                      # Raw or combined document content\n",
    "    chunks: str                    # Raw or processed chunks\n",
    "\n",
    "    # LLM configuration\n",
    "    llm: LlamaCpp\n",
    "    rewritten_question: Optional[str]\n",
    "\n",
    "    # Processing logic\n",
    "    is_relevant: Optional[bool]\n",
    "    from_memory: Optional[bool]\n",
    "    chunk_responses: str\n",
    "\n",
    "    # Output\n",
    "    answer: Optional[str]\n",
    "\n",
    "    # Memory and conversation\n",
    "    memory: SimpleKVMemory\n",
    "    messages: List[Dict[str, Any]]  # Full conversation history with the LLM"
   ]
  },
  {
   "cell_type": "markdown",
   "id": "0e299c50-b78b-4f80-ab24-fb3d4e29f1d1",
   "metadata": {},
   "source": [
    "# Node Functions"
   ]
  },
  {
   "cell_type": "code",
   "execution_count": 14,
   "id": "6f817e4b-e6f9-4916-b210-211c124ddcff",
   "metadata": {},
   "outputs": [],
   "source": [
    "@log_timing\n",
    "def ingest_question(state: AgenticState) -> Dict[str, Any]:\n",
    "    \"\"\"\n",
    "    Record the user's input question and append it to the system message history.\n",
    "\n",
    "    Returns:\n",
    "        Dict[str, Any]: A dictionary with the updated message history.\n",
    "    \"\"\"\n",
    "    question = state[\"question\"].strip()\n",
    "    logger.info(\"🗣️ Ingested user question: %s\", question)\n",
    "\n",
    "    # Build updated message history\n",
    "    messages = state.get(\"messages\", [])\n",
    "    messages += [\n",
    "        {\"role\": \"developer\", \"content\": \"User submitted a question.\"},\n",
    "        {\"role\": \"user\", \"content\": question},\n",
    "    ]\n",
    "\n",
    "    return {\"messages\": messages}\n",
    "\n",
    "\n",
    "@log_timing\n",
    "def check_relevance(state: AgenticState) -> Dict[str, Any]:\n",
    "    \"\"\"\n",
    "    Determines whether the user's question is relevant to the given topic using the LLM.\n",
    "\n",
    "    If irrelevant, returns a polite default answer and flags the result.\n",
    "    \"\"\"\n",
    "    topic = state[\"topic\"]\n",
    "    question = state[\"question\"]\n",
    "    llm = state[\"llm\"]\n",
    "\n",
    "    # Define strict classification prompts\n",
    "    system_prompt = (\n",
    "        \"You are a binary classification assistant designed to evaluate the relevance of user questions \"\n",
    "        \"to a specified topic in a document intelligence system.\\n\\n\"\n",
    "        \"Your task is to determine whether a user's question is relevant to the topic — either directly or indirectly — \"\n",
    "        \"based on whether the question could help support, relate to, or expand a conversation or analysis about that topic.\\n\\n\"\n",
    "        \"Rules:\\n\"\n",
    "        \"- Only respond with 'yes' or 'no' — no punctuation, no elaboration, and no additional words.\\n\"\n",
    "        \"- If the question is clearly about the topic, answer 'yes'.\\n\"\n",
    "        \"- If the question does not mention the topic directly but can logically contribute to answering, clarifying, or deepening understanding about the topic, answer 'yes'.\\n\"\n",
    "        \"- Only answer 'no' if the question is completely unrelated or disconnected from the topic and cannot be used in any meaningful way to explore it.\\n\\n\"\n",
    "        \"Your judgment should be inclusive — if there's any reasonable connection or utility, classify it as relevant ('yes').\"\n",
    "    )\n",
    "\n",
    "\n",
    "    user_prompt = (\n",
    "        f\"Topic: \\\"{topic}\\\"\\n\"\n",
    "        f\"User's Question: \\\"{question}\\\"\\n\\n\"\n",
    "        \"Determine if the question is relevant to the topic.\\n\"\n",
    "        \"A question is considered relevant if it:\\n\"\n",
    "        \"- Directly asks about the topic, or\\n\"\n",
    "        \"- Could be used to inform, support, or guide a discussion, analysis, or answer related to the topic.\\n\\n\"\n",
    "        \"If there's any logical connection between the question and the topic — even if implicit — respond with 'yes'.\\n\"\n",
    "        \"Respond strictly with one word: 'yes' or 'no'.\\n\"\n",
    "        \"Answer:\"\n",
    "    )\n",
    "\n",
    "\n",
    "    # Get LLM response\n",
    "    response = get_response_from_llm(llm, system_prompt, user_prompt).strip().lower()\n",
    "    is_relevant = response == \"yes\"\n",
    "\n",
    "    logger.info(\"🧠 Relevance response: %s → %s\", response, \"Relevant\" if is_relevant else \"Irrelevant\")\n",
    "\n",
    "    # Append LLM trace and result\n",
    "    messages = state.get(\"messages\", [])\n",
    "    messages += [\n",
    "        {\"role\": \"developer\", \"content\": \"🧠 Relevance check result:\"},\n",
    "        {\"role\": \"assistant\", \"content\": response},\n",
    "    ]\n",
    "\n",
    "    result: Dict[str, Any] = {\n",
    "        \"is_relevant\": is_relevant,\n",
    "        \"messages\": messages,\n",
    "    }\n",
    "\n",
    "    if not is_relevant:\n",
    "        result[\"answer\"] = f\"🚫 Sorry, I can only answer questions related to '{topic}'.\"\n",
    "\n",
    "    return result\n",
    "\n",
    "\n",
    "@log_timing\n",
    "def check_memory(state: AgenticState) -> Dict[str, Any]:\n",
    "    \"\"\"\n",
    "    Check if the user's question has been previously answered and cached in memory.\n",
    "\n",
    "    If found, return the cached answer along with a `from_memory` flag.\n",
    "    \"\"\"\n",
    "    question = state[\"question\"]\n",
    "    memory = state[\"memory\"]\n",
    "\n",
    "    key = question.strip().lower()\n",
    "    cached_answer = memory.get(key)\n",
    "\n",
    "    messages = state.get(\"messages\", [])\n",
    "\n",
    "    if cached_answer:\n",
    "        logger.info(\"💾 Cache hit for question: %s\", question)\n",
    "        messages.append({\n",
    "            \"role\": \"developer\",\n",
    "            \"content\": f\"💾 Retrieved cached answer for question: '{question}'\"\n",
    "        })\n",
    "        return {\n",
    "            \"answer\": cached_answer,\n",
    "            \"from_memory\": True,\n",
    "            \"messages\": messages\n",
    "        }\n",
    "\n",
    "    logger.info(\"🧭 Cache miss for question: %s\", question)\n",
    "    messages.append({\n",
    "        \"role\": \"developer\",\n",
    "        \"content\": f\"🧭 No cached answer found for question: '{question}'\"\n",
    "    })\n",
    "    return {\n",
    "        \"from_memory\": False,\n",
    "        \"messages\": messages\n",
    "    }\n",
    "\n",
    "\n",
    "@log_timing\n",
    "def rewrite_question(state: AgenticState) -> Dict[str, Any]:\n",
    "    \"\"\"\n",
    "    Refines the user's original question into a clear, specific, and LLM-optimized form.\n",
    "\n",
    "    Returns:\n",
    "        Dict[str, Any]: Contains the rewritten question and updated message history.\n",
    "    \"\"\"\n",
    "    original_question = state[\"question\"].strip()\n",
    "    llm = state[\"llm\"]\n",
    "\n",
    "    # Prompt engineering\n",
    "    system_prompt = (\n",
    "        \"You are a professional assistant that rewrites vague or ambiguous questions \"\n",
    "        \"into clear, focused, and LLM-friendly formats.\\n\"\n",
    "        \"The rewritten question must:\\n\"\n",
    "        \"- Be specific to document analysis\\n\"\n",
    "        \"- Be grammatically correct\\n\"\n",
    "        \"- Remain a QUESTION (not a statement)\\n\"\n",
    "        \"- Avoid ambiguity or conversational phrasing\\n\"\n",
    "        \"Do NOT include explanations or formatting—just return the cleaned question.\"\n",
    "    )\n",
    "\n",
    "    user_prompt = (\n",
    "        f\"Original user question:\\n\\\"{original_question}\\\"\\n\\n\"\n",
    "        \"Rewrite the question above as a clear and concise instruction for an AI to answer using document content. \"\n",
    "        \"Ensure it remains in question form, not declarative.\"\n",
    "    )\n",
    "\n",
    "    # Run LLM\n",
    "    response = get_response_from_llm(llm, system_prompt, user_prompt)\n",
    "    rewritten = response.strip()\n",
    "\n",
    "    # Log and message updates\n",
    "    logger.info(\"✏️ Rewritten user question:\\n→ %s\", rewritten)\n",
    "\n",
    "    messages = state.get(\"messages\", [])\n",
    "    messages += [\n",
    "        {\"role\": \"developer\", \"content\": \"✏️ Rewritten user question:\"},\n",
    "        {\"role\": \"assistant\", \"content\": rewritten},\n",
    "    ]\n",
    "\n",
    "    return {\n",
    "        \"rewritten_question\": rewritten,\n",
    "        \"messages\": messages,\n",
    "    }\n",
    "\n",
    "\n",
    "@log_timing\n",
    "def load_input_files(state: AgenticState) -> Dict[str, Any]:\n",
    "    \"\"\"\n",
    "    Load all supported document files from the specified input directory.\n",
    "\n",
    "    Supported formats:\n",
    "        - .txt (plain text)\n",
    "        - .csv (UTF-8 with comma delimiter)\n",
    "        - .xlsx (Excel)\n",
    "        - .docx (Word)\n",
    "        - .pdf  (PDF)\n",
    "        - .md   (Markdown)\n",
    "\n",
    "    Ignores hidden or system directories (e.g., .git, __pycache__).\n",
    "    \"\"\"\n",
    "    class SafeTextLoader(TextLoader):\n",
    "        def load(self) -> list[Document]:\n",
    "            encodings = [\"utf-8\", \"utf-16\", \"latin-1\", \"cp1252\"]\n",
    "            for enc in encodings:\n",
    "                try:\n",
    "                    with open(self.file_path, encoding=enc) as f:\n",
    "                        text = f.read()\n",
    "                    return [Document(page_content=text)]\n",
    "                except Exception:\n",
    "                    continue\n",
    "            raise ValueError(f\"Failed to decode file: {self.file_path}\")\n",
    "        \n",
    "    input_path = state[\"input_path\"]\n",
    "    logger.info(\"📂 Scanning directory for documents: %s\", input_path)\n",
    "\n",
    "    supported_extensions = {\n",
    "        \".txt\": SafeTextLoader,\n",
    "        \".csv\": lambda path: CSVLoader(path, encoding=\"utf-8\", csv_args={\"delimiter\": \",\"}),\n",
    "        \".xlsx\": UnstructuredExcelLoader,\n",
    "        \".docx\": UnstructuredWordDocumentLoader,\n",
    "        \".pdf\": PyPDFLoader,\n",
    "        \".md\": UnstructuredMarkdownLoader,\n",
    "    }\n",
    "\n",
    "    all_docs = []\n",
    "\n",
    "    for file_path in Path(input_path).rglob(\"*\"):\n",
    "        # Skip hidden/system folders\n",
    "        if any(part.startswith(\".\") and part not in {\".\", \"..\"} for part in file_path.parts):\n",
    "            continue\n",
    "\n",
    "        ext = file_path.suffix.lower()\n",
    "        loader_class = supported_extensions.get(ext)\n",
    "\n",
    "        if loader_class:\n",
    "            try:\n",
    "                loader = loader_class(str(file_path)) if callable(loader_class) else loader_class\n",
    "                docs = loader.load()\n",
    "                all_docs.extend(docs)\n",
    "                logger.info(\"✅ Loaded %d docs from %s\", len(docs), file_path.name)\n",
    "            except Exception as e:\n",
    "                logger.warning(\"❌ Failed to load %s: %s\", file_path.name, e)\n",
    "        else:\n",
    "            logger.info(\"⚠️ Unsupported file type: %s\", file_path.name)\n",
    "\n",
    "    # Append developer trace message\n",
    "    messages = state.get(\"messages\", []) + [\n",
    "        {\"role\": \"developer\", \"content\": f\"📄 Loaded documents from: {input_path}\"}\n",
    "    ]\n",
    "\n",
    "    return {\"docs\": all_docs, \"messages\": messages}\n",
    "\n",
    "\n",
    "@log_timing\n",
    "def create_chunks(state: AgenticState) -> Dict[str, Any]:\n",
    "    \"\"\"\n",
    "    Split all loaded documents into semantically coherent, overlapping chunks.\n",
    "\n",
    "    Uses LangChain's RecursiveCharacterTextSplitter to preserve context boundaries\n",
    "    and control token limits for downstream LLM usage.\n",
    "\n",
    "    Returns:\n",
    "        Dict[str, Any]: Contains a \"chunks\" key with the resulting split Document list.\n",
    "    \"\"\"\n",
    "    docs = state[\"docs\"]\n",
    "    logger.info(\"📑 Starting chunking for %d loaded documents\", len(docs))\n",
    "\n",
    "    splitter = RecursiveCharacterTextSplitter(\n",
    "        chunk_size=CHUNK_SIZE,\n",
    "        chunk_overlap=CHUNK_OVERLAP,\n",
    "        separators=[\"\\n\\n\", \"\\n\", \".\", \"!\", \"?\", \" \", \"\"],  # Order: most to least semantic\n",
    "        add_start_index=True,\n",
    "    )\n",
    "\n",
    "    chunks = splitter.split_documents(docs)\n",
    "    logger.info(\"🧩 Created %d total chunks (size=%d, overlap=%d)\", len(chunks), CHUNK_SIZE, CHUNK_OVERLAP)\n",
    "\n",
    "    # Append developer message\n",
    "    messages = state.get(\"messages\", [])\n",
    "    messages.append({\n",
    "        \"role\": \"developer\",\n",
    "        \"content\": f\"🧩 Chunked {len(docs)} documents into {len(chunks)} chunks (size={CHUNK_SIZE}, overlap={CHUNK_OVERLAP})\"\n",
    "    })\n",
    "\n",
    "    return {\n",
    "        \"chunks\": chunks,\n",
    "        \"messages\": messages,\n",
    "    }\n",
    "\n",
    "\n",
    "@log_timing\n",
    "def generate_answer_per_chunks(state: AgenticState) -> Dict[str, Any]:\n",
    "    \"\"\"\n",
    "    Generate an answer for each document chunk based on the rewritten question.\n",
    "\n",
    "    Each chunk is independently evaluated by the LLM using a shared system/user prompt pair.\n",
    "    Only the information inside the chunk may be used—no inference or guessing allowed.\n",
    "    \"\"\"\n",
    "    rewritten_question = state[\"rewritten_question\"].strip()\n",
    "    chunks = state[\"chunks\"]\n",
    "    llm = state[\"llm\"]\n",
    "    topic = state[\"topic\"]\n",
    "    \n",
    "    logger.info(\"🧩 Generating answers for %d chunks using rewritten question: '%s'\", len(chunks), rewritten_question)\n",
    "\n",
    "    # 🔒 System Prompt (invariant per chunk)\n",
    "    system_prompt = (\n",
    "        \"You are a document chunk analysis assistant for a feedback intelligence system.\\n\\n\"\n",
    "        \"Your task is to help answer a specific user question by analyzing **one chunk** of a larger document.\\n\\n\"\n",
    "        \"Instructions:\\n\"\n",
    "        \"- You are only given one chunk at a time.\\n\"\n",
    "        \"- Use only the information in that chunk to answer.\\n\"\n",
    "        \"- Do NOT guess, infer, or draw conclusions from missing context.\\n\"\n",
    "        \"- If the chunk does not provide enough information to answer, reply exactly with: Not mentioned in this chunk.\\n\\n\"\n",
    "        \"Output Guidelines:\\n\"\n",
    "        \"- Be factual, clear, and complete.\\n\"\n",
    "        \"- Use relevant details from the chunk if available.\\n\"\n",
    "        \"- If the question is not answerable from the chunk, respond accordingly and concisely.\\n\"\n",
    "    )\n",
    "\n",
    "    # 🧾 User Prompt Template\n",
    "    user_prompt_template = (\n",
    "        f\"User question:\\n\"\n",
    "        f\"\\\"{rewritten_question}\\\"\\n\\n\"\n",
    "        f\"This chunk is part of a document about the topic: \\\"{topic}\\\".\\n\"\n",
    "        f\"Read the chunk carefully and answer the question using only what is written below:\\n\\n\"\n",
    "        f\"--- START OF CHUNK ---\\n\"\n",
    "        f\"{{chunk}}\\n\"\n",
    "        f\"--- END OF CHUNK ---\\n\\n\"\n",
    "        f\"If the answer is not found in this chunk, respond with:\\n\"\n",
    "        f\"Not mentioned in this chunk.\"\n",
    "    )\n",
    "\n",
    "    chunk_responses = []\n",
    "    messages = state.get(\"messages\", [])\n",
    "\n",
    "    progress_bar = tqdm(chunks, desc=\"🔁 Processing each chunk\")\n",
    "\n",
    "    for i, chunk in enumerate(progress_bar):\n",
    "        chunk_text = chunk.page_content.strip()\n",
    "        user_prompt = user_prompt_template.replace(\"{chunk}\", chunk_text)\n",
    "\n",
    "        try:\n",
    "            response = get_response_from_llm(llm, system_prompt, user_prompt).strip()\n",
    "            progress_bar.set_postfix({\"group\": f\"✅ Chunk {i + 1} response length: {len(response)} chars\"})\n",
    "        except Exception as e:\n",
    "            response = f\"[ERROR in chunk {i+1}]: {e}\"\n",
    "            progress_bar.set_postfix({\"group\": f\"❌ Error processing chunk {i + 1}: {e}\"})\n",
    "\n",
    "        chunk_responses.append(response)\n",
    "\n",
    "    logger.info(\"🧠 Finished generating %d chunk-level responses.\", len(chunk_responses))\n",
    "\n",
    "    # Add summary message\n",
    "    messages.append({\n",
    "        \"role\": \"developer\",\n",
    "        \"content\": f\"🧠 Processed {len(chunks)} chunks for question: '{rewritten_question}'\"\n",
    "    })\n",
    "\n",
    "    return {\n",
    "        \"chunk_responses\": chunk_responses,\n",
    "        \"messages\": messages,\n",
    "    }\n",
    "\n",
    "@log_timing\n",
    "def generate_synthetized_answer(state: AgenticState) -> Dict[str, Any]:\n",
    "    \"\"\"\n",
    "    Synthesizes a final, comprehensive answer to the user's question\n",
    "    based on the collected per-chunk LLM responses.\n",
    "    \"\"\"\n",
    "    chunk_answers = state[\"chunk_responses\"]\n",
    "    rewritten_question = state[\"rewritten_question\"]\n",
    "    topic = state[\"topic\"]\n",
    "    llm = state[\"llm\"]\n",
    "\n",
    "    if not chunk_answers:\n",
    "        logger.warning(\"🚫 No chunk-level responses available to synthesize.\")\n",
    "        return {\"answer\": \"No information available to synthesize a final answer.\"}\n",
    "\n",
    "    max_context_tokens = getattr(llm, \"context_window\", 8192)\n",
    "    chunk_token_budget = max_context_tokens // 2\n",
    "\n",
    "    # 🧱 Split formatted chunk answers into token-safe groups\n",
    "    def chunk_by_token_limit(answers: List[str], max_tokens: int) -> List[List[str]]:\n",
    "        groups, current, current_len = [], [], 0\n",
    "        for a in answers:\n",
    "            a = a.strip()\n",
    "            tokens = int(a.count(\" \") * 1.5)\n",
    "            if current_len + tokens > max_tokens and current:\n",
    "                groups.append(current)\n",
    "                current, current_len = [], 0\n",
    "            current.append(a)\n",
    "            current_len += tokens\n",
    "        if current:\n",
    "            groups.append(current)\n",
    "        return groups\n",
    "\n",
    "    grouped_chunks = chunk_by_token_limit(chunk_answers, chunk_token_budget)\n",
    "\n",
    "    logger.info(\"🧠 Synthesizing across %d chunk groups\", len(grouped_chunks))\n",
    "\n",
    "    logger.info(\"🧠 Synthesizing final answer from %d chunk responses\", len(chunk_answers))\n",
    "\n",
    "    # 🧠 System Prompt (for synthesis agent)\n",
    "    synthesis_system_prompt = (\n",
    "        \"You are a synthesis assistant in a document reasoning system.\\n\\n\"\n",
    "        \"Your job is to produce a final, complete, and precise answer to the user's question \"\n",
    "        \"based on multiple intermediate answers derived from different chunks of a document.\\n\\n\"\n",
    "        \"Instructions:\\n\"\n",
    "        \"- Use ONLY the information provided in the chunk responses.\\n\"\n",
    "        \"- Do NOT hallucinate, invent, or infer beyond what's included.\\n\"\n",
    "        \"- Eliminate redundancy and merge overlapping information.\\n\"\n",
    "        \"- Combine details and structure them clearly.\\n\"\n",
    "        \"- Be detailed, factual, and coherent.\\n\"\n",
    "        \"- Avoid repeating redundant or identical statements from the chunks; instead, consolidate and rephrase them concisely.\\n\"\n",
    "        \"- Format the answer using valid and clean Markdown for headings, lists, and emphasis.\\n\"\n",
    "        \"- **Return the final answer in clean and well-formatted Markdown.**\\n\"\n",
    "    )\n",
    "\n",
    "    progress_bar = tqdm(grouped_chunks, desc=\"🔁 Processing each grouped chunk answers\")\n",
    "\n",
    "    partial_summaries = [] \n",
    "\n",
    "    for i, chunk_group in enumerate(progress_bar):\n",
    "        formatted_chunks = \"\\n\".join(f\"- Chunk {j+1}: {a}\" for j, a in enumerate(chunk_group))\n",
    "        # 💬 User Prompt Template\n",
    "        synthesis_user_prompt = (\n",
    "            f\"The user asked the following question:\\n\"\n",
    "            f\"\\\"{rewritten_question}\\\"\\n\\n\"\n",
    "            f\"The topic of the document is: \\\"{topic}\\\"\\n\\n\"\n",
    "            f\"Below are the LLM-generated answers for each chunk:\\n\\n\"\n",
    "            f\"{formatted_chunks}\\n\\n\"\n",
    "            f\"Please now synthesize a final, complete, non-redundant answer to the user's question. \"\n",
    "            f\"Make sure your answer is factual, logically structured, and clearly written.\"\n",
    "            f\"Avoid repeating redundant or identical statements from the chunks; instead, consolidate and rephrase them concisely.\"\n",
    "            f\"If the chunks provide conflicting answers, prioritize the most consistent and complete one. \"\n",
    "            f\"\\n\\n➡️ **Return the final answer in clean and well-formatted Markdown.**\"\n",
    "        )\n",
    "        summary = get_response_from_llm(\n",
    "            llm=llm,\n",
    "            system_prompt=synthesis_system_prompt,\n",
    "            user_prompt=synthesis_user_prompt,\n",
    "            ).strip()\n",
    "        \n",
    "        progress_bar.set_postfix({\"group\": f\"🧠 Synthesized partial answer ({i + 1}/{len(grouped_chunks)})\"})\n",
    "        \n",
    "        partial_summary = f\"# 🧠 Synthesized partial answer ({i + 1}/{len(grouped_chunks)})\\n\\n\" + summary\n",
    "        partial_summaries.append(partial_summary)\n",
    "        \n",
    "    logger.info(f\"✅ Synthesized {len(partial_summaries)} group-level summaries.\")\n",
    "\n",
    "    final_answer = \"\\n---\\n\".join(partial_summaries)\n",
    "\n",
    "    messages = state.get(\"messages\", [])\n",
    "    messages += [\n",
    "        {\"role\": \"developer\", \"content\": f\"✅ Synthesized {len(partial_summaries)} group-level summaries.\"},\n",
    "        {\"role\": \"assistant\", \"content\": final_answer}\n",
    "    ]\n",
    "\n",
    "    return {\n",
    "        \"answer\": final_answer,\n",
    "        \"messages\": messages,\n",
    "    }\n",
    "\n",
    "\n",
    "@log_timing\n",
    "def update_memory(state: AgenticState) -> Dict[str, Any]:\n",
    "    \"\"\"\n",
    "    Persist the current question-answer pair to memory if it was not served from cache.\n",
    "\n",
    "    Returns:\n",
    "        Dict[str, Any]: Updated message history (if applicable).\n",
    "    \"\"\"\n",
    "    if state.get(\"from_memory\"):\n",
    "        logger.info(\"⏩ Skipping memory update (already served from cache).\")\n",
    "        return {}\n",
    "\n",
    "    question = state[\"question\"].strip().lower()\n",
    "    answer = state[\"answer\"]\n",
    "    memory = state[\"memory\"]\n",
    "\n",
    "    memory.set(question, answer)\n",
    "    logger.info(\"💾 Stored question-answer pair in memory (key: %s)\", question)\n",
    "\n",
    "    messages = state.get(\"messages\", [])\n",
    "    messages.append({\n",
    "        \"role\": \"developer\",\n",
    "        \"content\": f\"💾 Stored answer in memory for question key: '{question}'\"\n",
    "    })\n",
    "\n",
    "    return {\"messages\": messages}\n",
    "\n",
    "\n",
    "@log_timing\n",
    "def output_answer(state: AgenticState) -> Dict[str, Any]:\n",
    "    \"\"\"\n",
    "    Display the final synthesized answer and record the action in the developer trace.\n",
    "\n",
    "    Returns:\n",
    "        Dict[str, Any]: Contains updated message history.\n",
    "    \"\"\"\n",
    "    answer = state.get(\"answer\", \"\").strip()\n",
    "\n",
    "    # Display output in console (or could be adapted for Streamlit, CLI, etc.)\n",
    "    print(\"\\n🔚 === Final Answer ===\\n\")\n",
    "    print(answer)\n",
    "    print(\"\\n========================\\n\")\n",
    "\n",
    "    logger.info(\"📤 Delivered final answer (%d characters)\", len(answer))\n",
    "\n",
    "    # Append developer message to trace\n",
    "    messages = state.get(\"messages\", [])\n",
    "    messages.append({\n",
    "        \"role\": \"developer\",\n",
    "        \"content\": f\"📤 Final answer delivered: {answer}\"\n",
    "    })\n",
    "\n",
    "    return {\"messages\": messages}"
   ]
  },
  {
   "cell_type": "markdown",
   "id": "fb4b0622-ae83-4838-9160-6d087ce35d03",
   "metadata": {},
   "source": [
    "# Graph Definition"
   ]
  },
  {
   "cell_type": "code",
   "execution_count": 15,
   "id": "475e5a8c-b34c-41a7-8b2d-9073841a49cf",
   "metadata": {},
   "outputs": [],
   "source": [
    "agentic_graph = StateGraph(AgenticState)\n",
    "\n",
    "# Nodes\n",
    "agentic_graph.add_node(\"ingest_question\", ingest_question)\n",
    "agentic_graph.add_node(\"check_relevance\", check_relevance)\n",
    "agentic_graph.add_node(\"check_memory\", check_memory)\n",
    "agentic_graph.add_node(\"rewrite_question\", rewrite_question)\n",
    "agentic_graph.add_node(\"load_input_files\", load_input_files)\n",
    "agentic_graph.add_node(\"create_chunks\", create_chunks)\n",
    "agentic_graph.add_node(\"generate_answer_per_chunks\", generate_answer_per_chunks)\n",
    "agentic_graph.add_node(\"generate_synthetized_answer\", generate_synthetized_answer)\n",
    "agentic_graph.add_node(\"update_memory\", update_memory)\n",
    "agentic_graph.add_node(\"output_answer\", output_answer)\n",
    "\n",
    "# Edges\n",
    "agentic_graph.add_edge(START, \"ingest_question\") \n",
    "agentic_graph.add_edge(\"ingest_question\", \"check_relevance\")\n",
    "\n",
    "def route_relevance(state: AgenticState) -> Literal[\"irrelevant\", \"relevant\"]:\n",
    "    return \"relevant\" if state[\"is_relevant\"] else \"irrelevant\"\n",
    "\n",
    "agentic_graph.add_conditional_edges(\n",
    "    \"check_relevance\",\n",
    "    route_relevance,\n",
    "    {\n",
    "        \"irrelevant\": \"output_answer\",      \n",
    "        \"relevant\": \"check_memory\",\n",
    "    },\n",
    ")\n",
    "\n",
    "def route_memory(state: AgenticState) -> Literal[\"cached\", \"not_cached\"]:\n",
    "    return \"cached\" if state.get(\"from_memory\") else \"not_cached\"\n",
    "\n",
    "agentic_graph.add_conditional_edges(\n",
    "    \"check_memory\",\n",
    "    route_memory,\n",
    "    {\n",
    "        \"cached\": \"output_answer\",\n",
    "        \"not_cached\": \"rewrite_question\",\n",
    "    },\n",
    ")\n",
    "\n",
    "agentic_graph.add_edge(\"rewrite_question\", \"load_input_files\")\n",
    "agentic_graph.add_edge(\"load_input_files\", \"create_chunks\")\n",
    "agentic_graph.add_edge(\"create_chunks\", \"generate_answer_per_chunks\")\n",
    "agentic_graph.add_edge(\"generate_answer_per_chunks\", \"generate_synthetized_answer\")\n",
    "agentic_graph.add_edge(\"generate_synthetized_answer\", \"update_memory\")\n",
    "agentic_graph.add_edge(\"update_memory\", \"output_answer\")\n",
    "agentic_graph.add_edge(\"output_answer\", END)\n",
    "\n",
    "compiled_graph = agentic_graph.compile()"
   ]
  },
  {
   "cell_type": "markdown",
   "id": "8c99d3d4-7e34-4d1d-9240-0bf6d86e5e42",
   "metadata": {},
   "source": [
    "# Graph Visualization"
   ]
  },
  {
   "cell_type": "code",
   "execution_count": 16,
   "id": "e35c73df-c446-4e5d-a628-2927d7d86a7d",
   "metadata": {},
   "outputs": [
    {
     "data": {
      "text/html": [
       "<img src=\"data:image/png;base64,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\" style=\"width: 400px;\" />"
      ],
      "text/plain": [
       "<IPython.core.display.HTML object>"
      ]
     },
     "metadata": {},
     "output_type": "display_data"
    }
   ],
   "source": [
    "png = compiled_graph.get_graph().draw_mermaid_png()\n",
    "display_image(png)"
   ]
  },
  {
   "cell_type": "markdown",
   "id": "fc4d05ba-ed68-46a5-971a-491ffb93c17a",
   "metadata": {},
   "source": [
    "# Run the Agentic Workflow"
   ]
  },
  {
   "cell_type": "code",
   "execution_count": 17,
   "id": "06a6da3d-6f53-46b7-9bbb-09b30636ae07",
   "metadata": {
    "scrolled": true
   },
   "outputs": [
    {
     "data": {
      "text/html": [
       "\n",
       "        <div style=\"background-color: #228B22; color: white;\n",
       "                    padding: 4px 8px; font-family: monospace; border-radius: 4px;\">\n",
       "            ✅ 2025-09-18 14:37:03 - INFO - 🗣️ Ingested user question: What are the main issues regarding the product\n",
       "        </div>\n",
       "        "
      ],
      "text/plain": [
       "<IPython.core.display.HTML object>"
      ]
     },
     "metadata": {},
     "output_type": "display_data"
    },
    {
     "data": {
      "text/html": [
       "\n",
       "        <div style=\"background-color: #228B22; color: white;\n",
       "                    padding: 4px 8px; font-family: monospace; border-radius: 4px;\">\n",
       "            ✅ 2025-09-18 14:37:03 - INFO - Function 'ingest_question' took 0.0014 seconds.\n",
       "        </div>\n",
       "        "
      ],
      "text/plain": [
       "<IPython.core.display.HTML object>"
      ]
     },
     "metadata": {},
     "output_type": "display_data"
    },
    {
     "data": {
      "text/html": [
       "\n",
       "        <div style=\"background-color: #228B22; color: white;\n",
       "                    padding: 4px 8px; font-family: monospace; border-radius: 4px;\">\n",
       "            ✅ 2025-09-18 14:37:19 - INFO - 🧠 Relevance response: yes → Relevant\n",
       "        </div>\n",
       "        "
      ],
      "text/plain": [
       "<IPython.core.display.HTML object>"
      ]
     },
     "metadata": {},
     "output_type": "display_data"
    },
    {
     "data": {
      "text/html": [
       "\n",
       "        <div style=\"background-color: #228B22; color: white;\n",
       "                    padding: 4px 8px; font-family: monospace; border-radius: 4px;\">\n",
       "            ✅ 2025-09-18 14:37:19 - INFO - Function 'check_relevance' took 16.1886 seconds.\n",
       "        </div>\n",
       "        "
      ],
      "text/plain": [
       "<IPython.core.display.HTML object>"
      ]
     },
     "metadata": {},
     "output_type": "display_data"
    },
    {
     "data": {
      "text/html": [
       "\n",
       "        <div style=\"background-color: #228B22; color: white;\n",
       "                    padding: 4px 8px; font-family: monospace; border-radius: 4px;\">\n",
       "            ✅ 2025-09-18 14:37:19 - INFO - 💾 Cache hit for question: What are the main issues regarding the product\n",
       "        </div>\n",
       "        "
      ],
      "text/plain": [
       "<IPython.core.display.HTML object>"
      ]
     },
     "metadata": {},
     "output_type": "display_data"
    },
    {
     "data": {
      "text/html": [
       "\n",
       "        <div style=\"background-color: #228B22; color: white;\n",
       "                    padding: 4px 8px; font-family: monospace; border-radius: 4px;\">\n",
       "            ✅ 2025-09-18 14:37:19 - INFO - Function 'check_memory' took 0.0007 seconds.\n",
       "        </div>\n",
       "        "
      ],
      "text/plain": [
       "<IPython.core.display.HTML object>"
      ]
     },
     "metadata": {},
     "output_type": "display_data"
    },
    {
     "name": "stdout",
     "output_type": "stream",
     "text": [
      "\n",
      "🔚 === Final Answer ===\n",
      "\n",
      "# 🧠 Synthesized partial answer (1/1)\n",
      "\n",
      "# Primary Concerns or Problems Mentioned in the Document\n",
      "## Overview of Issues\n",
      "The document highlights several primary concerns or problems regarding the product.\n",
      "\n",
      "## Issues with the Product\n",
      "### 1. Complexity for Non-Tech-Savvy Users\n",
      "The product's complexity can be a barrier for non-tech-savvy users.\n",
      "\n",
      "### 2. Lack of Transparency in AI Suggestions\n",
      "The lack of transparency in AI suggestions can make it difficult for users to understand the reasoning behind the suggestions.\n",
      "\n",
      "### 3. Inconsistent Export Options\n",
      "The inconsistent export options can make it difficult for users to export their data in a format that suits their needs.\n",
      "\n",
      "### 4. Limited Customization of AI Suggestions\n",
      "The limited customization of AI suggestions can make it difficult for users to tailor the suggestions to their specific needs.\n",
      "\n",
      "### 5. Bug Where Notes Don’t Save if the App Crashes\n",
      "The bug where notes don’t save if the app crashes can be a significant issue for users who rely on the app to save their notes.\n",
      "\n",
      "### 6. Issues with Daily Summary Emails\n",
      "The issues with daily summary emails, which often omit important entries from the user's Focus Journal, can be a significant problem for users who rely on these emails to stay organized.\n",
      "\n",
      "### 7. Incorrect Marking of Low-Priority Emails as Critical\n",
      "The system sometimes incorrectly marks low-priority emails as \"critical\", which defeats the purpose of its smart triaging feature.\n",
      "\n",
      "### 8. Slow Performance of the Mobile App\n",
      "The mobile app is too slow, with a 3-5 second delay when launching it.\n",
      "\n",
      "### 9. Reminders Not Firing on Android When the App is Backgrounded\n",
      "The reminders don't always fire on Android when the app is backgrounded.\n",
      "\n",
      "### 10. Interrupt Score Seemingly Off\n",
      "The \"Interrupt Score\" seems off, flagging 2-minute Slack pings as major disruptions.\n",
      "\n",
      "### 11. Calendar Sync Issue\n",
      "The calendar sync broke once after a Google API change and it took a day to fix.\n",
      "\n",
      "### 12. Lack of Linux Desktop App\n",
      "The product lacks a Linux desktop app, which is a significant limitation for users who prefer to use Linux.\n",
      "\n",
      "### 13. Too Many Popups\n",
      "The product has too many popups, which can be distracting and interrupt the user's workflow.\n",
      "\n",
      "### 14. Pricing Too High for Some Users\n",
      "The product's pricing is too high for some users, particularly solo developers who may not be able to afford the current pricing plan.\n",
      "\n",
      "========================\n",
      "\n"
     ]
    },
    {
     "data": {
      "text/html": [
       "\n",
       "        <div style=\"background-color: #228B22; color: white;\n",
       "                    padding: 4px 8px; font-family: monospace; border-radius: 4px;\">\n",
       "            ✅ 2025-09-18 14:37:19 - INFO - 📤 Delivered final answer (2374 characters)\n",
       "        </div>\n",
       "        "
      ],
      "text/plain": [
       "<IPython.core.display.HTML object>"
      ]
     },
     "metadata": {},
     "output_type": "display_data"
    },
    {
     "data": {
      "text/html": [
       "\n",
       "        <div style=\"background-color: #228B22; color: white;\n",
       "                    padding: 4px 8px; font-family: monospace; border-radius: 4px;\">\n",
       "            ✅ 2025-09-18 14:37:19 - INFO - Function 'output_answer' took 0.0011 seconds.\n",
       "        </div>\n",
       "        "
      ],
      "text/plain": [
       "<IPython.core.display.HTML object>"
      ]
     },
     "metadata": {},
     "output_type": "display_data"
    },
    {
     "name": "stdout",
     "output_type": "stream",
     "text": [
      "CPU times: user 14.6 s, sys: 482 ms, total: 15 s\n",
      "Wall time: 16.2 s\n"
     ]
    }
   ],
   "source": [
    "%%time\n",
    "\n",
    "final_graph = compiled_graph.invoke(\n",
    "        input={\n",
    "            \"topic\": TOPIC,\n",
    "            \"question\": QUESTION,\n",
    "            \"input_path\": INPUT_PATH, \n",
    "            \"memory\": memory, \n",
    "            \"llm\": llm,\n",
    "            \"messages\": [],\n",
    "        },\n",
    "    )"
   ]
  },
  {
   "cell_type": "markdown",
   "id": "4bbaea47-4f85-4601-9ae3-6f54d809204e",
   "metadata": {},
   "source": [
    "# Generated Answer"
   ]
  },
  {
   "cell_type": "code",
   "execution_count": 18,
   "id": "411d8847-ee43-4f83-8c5c-054118aa0626",
   "metadata": {},
   "outputs": [
    {
     "data": {
      "text/markdown": [
       "# 🧠 Synthesized partial answer (1/1)\n",
       "\n",
       "# Primary Concerns or Problems Mentioned in the Document\n",
       "## Overview of Issues\n",
       "The document highlights several primary concerns or problems regarding the product.\n",
       "\n",
       "## Issues with the Product\n",
       "### 1. Complexity for Non-Tech-Savvy Users\n",
       "The product's complexity can be a barrier for non-tech-savvy users.\n",
       "\n",
       "### 2. Lack of Transparency in AI Suggestions\n",
       "The lack of transparency in AI suggestions can make it difficult for users to understand the reasoning behind the suggestions.\n",
       "\n",
       "### 3. Inconsistent Export Options\n",
       "The inconsistent export options can make it difficult for users to export their data in a format that suits their needs.\n",
       "\n",
       "### 4. Limited Customization of AI Suggestions\n",
       "The limited customization of AI suggestions can make it difficult for users to tailor the suggestions to their specific needs.\n",
       "\n",
       "### 5. Bug Where Notes Don’t Save if the App Crashes\n",
       "The bug where notes don’t save if the app crashes can be a significant issue for users who rely on the app to save their notes.\n",
       "\n",
       "### 6. Issues with Daily Summary Emails\n",
       "The issues with daily summary emails, which often omit important entries from the user's Focus Journal, can be a significant problem for users who rely on these emails to stay organized.\n",
       "\n",
       "### 7. Incorrect Marking of Low-Priority Emails as Critical\n",
       "The system sometimes incorrectly marks low-priority emails as \"critical\", which defeats the purpose of its smart triaging feature.\n",
       "\n",
       "### 8. Slow Performance of the Mobile App\n",
       "The mobile app is too slow, with a 3-5 second delay when launching it.\n",
       "\n",
       "### 9. Reminders Not Firing on Android When the App is Backgrounded\n",
       "The reminders don't always fire on Android when the app is backgrounded.\n",
       "\n",
       "### 10. Interrupt Score Seemingly Off\n",
       "The \"Interrupt Score\" seems off, flagging 2-minute Slack pings as major disruptions.\n",
       "\n",
       "### 11. Calendar Sync Issue\n",
       "The calendar sync broke once after a Google API change and it took a day to fix.\n",
       "\n",
       "### 12. Lack of Linux Desktop App\n",
       "The product lacks a Linux desktop app, which is a significant limitation for users who prefer to use Linux.\n",
       "\n",
       "### 13. Too Many Popups\n",
       "The product has too many popups, which can be distracting and interrupt the user's workflow.\n",
       "\n",
       "### 14. Pricing Too High for Some Users\n",
       "The product's pricing is too high for some users, particularly solo developers who may not be able to afford the current pricing plan."
      ],
      "text/plain": [
       "<IPython.core.display.Markdown object>"
      ]
     },
     "metadata": {},
     "output_type": "display_data"
    }
   ],
   "source": [
    "answer = final_graph.get('answer')\n",
    "display(Markdown(answer))"
   ]
  },
  {
   "cell_type": "markdown",
   "id": "16159a90-d40d-4d20-b9e6-57cb3bd14cf3",
   "metadata": {},
   "source": [
    "# Message History"
   ]
  },
  {
   "cell_type": "code",
   "execution_count": 19,
   "id": "370f4cac-c92f-4f8b-b2e5-10cd12e08a87",
   "metadata": {
    "scrolled": true
   },
   "outputs": [
    {
     "name": "stdout",
     "output_type": "stream",
     "text": [
      "[\n",
      "    {\n",
      "        \"role\": \"developer\",\n",
      "        \"content\": \"User submitted a question.\"\n",
      "    },\n",
      "    {\n",
      "        \"role\": \"user\",\n",
      "        \"content\": \"What are the main issues regarding the product\"\n",
      "    },\n",
      "    {\n",
      "        \"role\": \"developer\",\n",
      "        \"content\": \"\\ud83e\\udde0 Relevance check result:\"\n",
      "    },\n",
      "    {\n",
      "        \"role\": \"assistant\",\n",
      "        \"content\": \"yes\"\n",
      "    },\n",
      "    {\n",
      "        \"role\": \"developer\",\n",
      "        \"content\": \"\\ud83d\\udcbe Retrieved cached answer for question: 'What are the main issues regarding the product'\"\n",
      "    },\n",
      "    {\n",
      "        \"role\": \"developer\",\n",
      "        \"content\": \"\\ud83d\\udce4 Final answer delivered: # \\ud83e\\udde0 Synthesized partial answer (1/1)\\n\\n# Primary Concerns or Problems Mentioned in the Document\\n## Overview of Issues\\nThe document highlights several primary concerns or problems regarding the product.\\n\\n## Issues with the Product\\n### 1. Complexity for Non-Tech-Savvy Users\\nThe product's complexity can be a barrier for non-tech-savvy users.\\n\\n### 2. Lack of Transparency in AI Suggestions\\nThe lack of transparency in AI suggestions can make it difficult for users to understand the reasoning behind the suggestions.\\n\\n### 3. Inconsistent Export Options\\nThe inconsistent export options can make it difficult for users to export their data in a format that suits their needs.\\n\\n### 4. Limited Customization of AI Suggestions\\nThe limited customization of AI suggestions can make it difficult for users to tailor the suggestions to their specific needs.\\n\\n### 5. Bug Where Notes Don\\u2019t Save if the App Crashes\\nThe bug where notes don\\u2019t save if the app crashes can be a significant issue for users who rely on the app to save their notes.\\n\\n### 6. Issues with Daily Summary Emails\\nThe issues with daily summary emails, which often omit important entries from the user's Focus Journal, can be a significant problem for users who rely on these emails to stay organized.\\n\\n### 7. Incorrect Marking of Low-Priority Emails as Critical\\nThe system sometimes incorrectly marks low-priority emails as \\\"critical\\\", which defeats the purpose of its smart triaging feature.\\n\\n### 8. Slow Performance of the Mobile App\\nThe mobile app is too slow, with a 3-5 second delay when launching it.\\n\\n### 9. Reminders Not Firing on Android When the App is Backgrounded\\nThe reminders don't always fire on Android when the app is backgrounded.\\n\\n### 10. Interrupt Score Seemingly Off\\nThe \\\"Interrupt Score\\\" seems off, flagging 2-minute Slack pings as major disruptions.\\n\\n### 11. Calendar Sync Issue\\nThe calendar sync broke once after a Google API change and it took a day to fix.\\n\\n### 12. Lack of Linux Desktop App\\nThe product lacks a Linux desktop app, which is a significant limitation for users who prefer to use Linux.\\n\\n### 13. Too Many Popups\\nThe product has too many popups, which can be distracting and interrupt the user's workflow.\\n\\n### 14. Pricing Too High for Some Users\\nThe product's pricing is too high for some users, particularly solo developers who may not be able to afford the current pricing plan.\"\n",
      "    }\n",
      "]\n"
     ]
    }
   ],
   "source": [
    "pretty_json = json.dumps(final_graph.get('messages'), indent=4)\n",
    "print(pretty_json)"
   ]
  },
  {
   "cell_type": "code",
   "execution_count": 20,
   "id": "1723e941-2523-4db6-ab89-fedffbc0be0b",
   "metadata": {},
   "outputs": [
    {
     "data": {
      "text/html": [
       "\n",
       "        <div style=\"background-color: #228B22; color: white;\n",
       "                    padding: 4px 8px; font-family: monospace; border-radius: 4px;\">\n",
       "            ✅ 2025-09-18 14:37:19 - INFO - ⏱️ Total execution time: 4m 16.98s\n",
       "        </div>\n",
       "        "
      ],
      "text/plain": [
       "<IPython.core.display.HTML object>"
      ]
     },
     "metadata": {},
     "output_type": "display_data"
    },
    {
     "data": {
      "text/html": [
       "\n",
       "        <div style=\"background-color: #228B22; color: white;\n",
       "                    padding: 4px 8px; font-family: monospace; border-radius: 4px;\">\n",
       "            ✅ 2025-09-18 14:37:19 - INFO - ✅ Notebook execution completed successfully.\n",
       "        </div>\n",
       "        "
      ],
      "text/plain": [
       "<IPython.core.display.HTML object>"
      ]
     },
     "metadata": {},
     "output_type": "display_data"
    }
   ],
   "source": [
    "end_time: float = time.time()\n",
    "elapsed_time: float = end_time - start_time\n",
    "elapsed_minutes: int = int(elapsed_time // 60)\n",
    "elapsed_seconds: float = elapsed_time % 60\n",
    "\n",
    "logger.info(f\"⏱️ Total execution time: {elapsed_minutes}m {elapsed_seconds:.2f}s\")\n",
    "logger.info(\"✅ Notebook execution completed successfully.\")"
   ]
  },
  {
   "cell_type": "markdown",
   "id": "d0c45acb",
   "metadata": {},
   "source": [
    "Built with ❤️ using [**HP AI Studio**](https://hp.com/ai-studio)."
   ]
  }
 ],
 "metadata": {
  "kernelspec": {
   "display_name": "Python [conda env:base] *",
   "language": "python",
   "name": "conda-base-py"
  },
  "language_info": {
   "codemirror_mode": {
    "name": "ipython",
    "version": 3
   },
   "file_extension": ".py",
   "mimetype": "text/x-python",
   "name": "python",
   "nbconvert_exporter": "python",
   "pygments_lexer": "ipython3",
   "version": "3.12.7"
  }
 },
 "nbformat": 4,
 "nbformat_minor": 5
}
