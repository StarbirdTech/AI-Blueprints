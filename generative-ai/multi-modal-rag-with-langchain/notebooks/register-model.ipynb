{
 "cells": [
  {
   "cell_type": "markdown",
   "id": "ff193981-f701-4595-9d5f-a08779c65508",
   "metadata": {},
   "source": [
    "<h1 style=\"text-align: center; font-size: 50px;\"> 🤖 MLFlow Registration for Multimodal RAG</h1>"
   ]
  },
  {
   "cell_type": "code",
   "execution_count": 1,
   "id": "d2607392-6bd0-4950-8ac8-84026da9df0f",
   "metadata": {},
   "outputs": [
    {
     "name": "stdout",
     "output_type": "stream",
     "text": [
      "\u001b[31mERROR: pip's dependency resolver does not currently take into account all the packages that are installed. This behaviour is the source of the following dependency conflicts.\n",
      "galileo-protect 0.15.1 requires galileo-core<3.0.0,>=2.17.0, but you have galileo-core 3.60.0 which is incompatible.\n",
      "galileo-observe 1.13.2 requires galileo-core<3.0.0,>=2.20.0, but you have galileo-core 3.60.0 which is incompatible.\u001b[0m\u001b[31m\n",
      "\u001b[0mNote: you may need to restart the kernel to use updated packages.\n"
     ]
    }
   ],
   "source": [
    "%pip install -r ../requirements.txt --quiet"
   ]
  },
  {
   "cell_type": "markdown",
   "id": "b3e7b230-e638-458a-8104-0a30727b2466",
   "metadata": {},
   "source": [
    "# MLFlow Model Service \n",
    "\n",
    "In this section, we demonstrate how to deploy a RAG-based chatbot service. This service provides a REST API endpoint that allows users to query the knowledge base with natural language questions, upload new documents to the knowledge base, and manage conversation history, all with built-in safeguards against sensitive information and toxicity. This service encapsulates all the functionality we developed in this notebook, including the document retrieval system, RAG-based question answering capabilities, and Galileo integration for protection, observation and evaluation. It demonstrates how to use our ChatbotService from the src/service directory. "
   ]
  },
  {
   "cell_type": "markdown",
   "id": "032ab59a-a358-4b11-9ee4-ac38101666bf",
   "metadata": {},
   "source": [
    "## Step 0: Imports and Environment Setup"
   ]
  },
  {
   "cell_type": "code",
   "execution_count": 2,
   "id": "622040db-4d03-482f-958f-45cc87492ff0",
   "metadata": {},
   "outputs": [
    {
     "name": "stderr",
     "output_type": "stream",
     "text": [
      "2025-07-26 21:49:19.464449: I tensorflow/core/util/port.cc:153] oneDNN custom operations are on. You may see slightly different numerical results due to floating-point round-off errors from different computation orders. To turn them off, set the environment variable `TF_ENABLE_ONEDNN_OPTS=0`.\n",
      "2025-07-26 21:49:19.479590: E external/local_xla/xla/stream_executor/cuda/cuda_fft.cc:467] Unable to register cuFFT factory: Attempting to register factory for plugin cuFFT when one has already been registered\n",
      "WARNING: All log messages before absl::InitializeLog() is called are written to STDERR\n",
      "E0000 00:00:1753566559.497224     462 cuda_dnn.cc:8579] Unable to register cuDNN factory: Attempting to register factory for plugin cuDNN when one has already been registered\n",
      "E0000 00:00:1753566559.502832     462 cuda_blas.cc:1407] Unable to register cuBLAS factory: Attempting to register factory for plugin cuBLAS when one has already been registered\n",
      "W0000 00:00:1753566559.516848     462 computation_placer.cc:177] computation placer already registered. Please check linkage and avoid linking the same target more than once.\n",
      "W0000 00:00:1753566559.516867     462 computation_placer.cc:177] computation placer already registered. Please check linkage and avoid linking the same target more than once.\n",
      "W0000 00:00:1753566559.516869     462 computation_placer.cc:177] computation placer already registered. Please check linkage and avoid linking the same target more than once.\n",
      "W0000 00:00:1753566559.516870     462 computation_placer.cc:177] computation placer already registered. Please check linkage and avoid linking the same target more than once.\n",
      "2025-07-26 21:49:19.522160: I tensorflow/core/platform/cpu_feature_guard.cc:210] This TensorFlow binary is optimized to use available CPU instructions in performance-critical operations.\n",
      "To enable the following instructions: AVX2 AVX512F AVX512_VNNI FMA, in other operations, rebuild TensorFlow with the appropriate compiler flags.\n"
     ]
    }
   ],
   "source": [
    "# === Standard Library Imports ===\n",
    "import gc\n",
    "import json\n",
    "import logging\n",
    "import math\n",
    "import os\n",
    "import sys\n",
    "import time\n",
    "import tempfile\n",
    "import warnings\n",
    "from pathlib import Path\n",
    "from typing import Any, Dict, List, Optional, TypedDict\n",
    "\n",
    "# === Third-Party Library Imports ===\n",
    "import matplotlib.pyplot as plt\n",
    "import mlflow\n",
    "import numpy as np\n",
    "import pandas as pd\n",
    "import torch\n",
    "from langchain_core.embeddings import Embeddings\n",
    "from langchain.schema.document import Document\n",
    "from langchain.vectorstores import Chroma\n",
    "from langchain_huggingface import HuggingFaceEmbeddings\n",
    "from mlflow.models.signature import ModelSignature\n",
    "from mlflow.tracking import MlflowClient\n",
    "from mlflow.types import ColSpec, DataType, Schema, TensorSpec\n",
    "from PIL import Image as PILImage\n",
    "from sentence_transformers import CrossEncoder, SentenceTransformer\n",
    "from transformers import AutoImageProcessor, AutoModel, AutoTokenizer, BitsAndBytesConfig, SiglipModel, SiglipProcessor\n",
    "\n",
    "\n",
    "# === Project-Specific Imports ===\n",
    "# Add the project root to the system path to allow importing from 'src'\n",
    "sys.path.append(os.path.abspath(os.path.join(os.getcwd(), \"..\")))\n",
    "\n",
    "from src.utils import (\n",
    "    configure_hf_cache,\n",
    ")"
   ]
  },
  {
   "cell_type": "code",
   "execution_count": 3,
   "id": "6e5a1883-f877-414a-9ff9-b876a2ba6531",
   "metadata": {},
   "outputs": [],
   "source": [
    "logger = logging.getLogger(\"multimodal_rag_register_notebook\")\n",
    "logger.setLevel(logging.INFO)\n",
    "if not logger.handlers:\n",
    "    formatter = logging.Formatter(\"%(asctime)s - %(levelname)s - %(message)s\", datefmt=\"%Y-%m-%d %H:%M:%S\")\n",
    "    stream_handler = logging.StreamHandler(sys.stdout)\n",
    "    stream_handler.setFormatter(formatter)\n",
    "    logger.addHandler(stream_handler)\n",
    "logger.propagate = False"
   ]
  },
  {
   "cell_type": "markdown",
   "id": "c3cb6032-d809-4bf9-b9b8-87ef1f3c47ed",
   "metadata": {},
   "source": [
    "## Step 1: Configurations"
   ]
  },
  {
   "cell_type": "code",
   "execution_count": 4,
   "id": "82d6964a-0768-4fa0-9da4-e8ecbc5487db",
   "metadata": {},
   "outputs": [
    {
     "name": "stdout",
     "output_type": "stream",
     "text": [
      "2025-07-26 21:49:23 - INFO - Using MLflow tracking URI: /phoenix/mlflow\n",
      "2025-07-26 21:49:23 - INFO - Using MLflow experiment: 'AIStudio-Multimodal-Chatbot-Experiment'\n"
     ]
    }
   ],
   "source": [
    "# --- MLflow Configuration ---\n",
    "MODEL_NAME = \"AIStudio-Multimodal-Chatbot-Model\"\n",
    "RUN_NAME = f\"Register_{MODEL_NAME}\"\n",
    "EXPERIMENT_NAME = \"AIStudio-Multimodal-Chatbot-Experiment\"\n",
    "\n",
    "LOCAL_MODEL_PATH = \"/home/jovyan/datafabric/InternVL3-8B-Instruct\"\n",
    "# Set MLflow tracking URI and experiment\n",
    "# This should be configured for your environment, e.g., a remote server or local file path\n",
    "mlflow.set_tracking_uri(os.getenv(\"MLFLOW_TRACKING_URI\", \"/phoenix/mlflow\"))\n",
    "mlflow.set_experiment(experiment_name=EXPERIMENT_NAME)\n",
    "\n",
    "logger.info(f\"Using MLflow tracking URI: {mlflow.get_tracking_uri()}\")\n",
    "logger.info(f\"Using MLflow experiment: '{EXPERIMENT_NAME}'\")"
   ]
  },
  {
   "cell_type": "code",
   "execution_count": 5,
   "id": "192457a9-952b-4b3f-9640-6875692f5f7d",
   "metadata": {},
   "outputs": [],
   "source": [
    "warnings.filterwarnings(\"ignore\")\n"
   ]
  },
  {
   "cell_type": "code",
   "execution_count": 6,
   "id": "38660c87-34b3-40f2-be21-16c78fb12598",
   "metadata": {},
   "outputs": [
    {
     "name": "stdout",
     "output_type": "stream",
     "text": [
      "2025-07-26 21:49:23 - INFO - Notebook execution started.\n"
     ]
    }
   ],
   "source": [
    "logger.info(\"Notebook execution started.\")"
   ]
  },
  {
   "cell_type": "code",
   "execution_count": 7,
   "id": "4576dc32-7e04-48aa-b19d-da1adc92693c",
   "metadata": {},
   "outputs": [],
   "source": [
    "configure_hf_cache()"
   ]
  },
  {
   "cell_type": "markdown",
   "id": "2f1cb8d4-d58a-48bc-96e9-9bd63d43f80f",
   "metadata": {},
   "source": [
    "## Step 2: MLflow Model Setup"
   ]
  },
  {
   "cell_type": "code",
   "execution_count": 8,
   "id": "769f37b3-a909-4cae-8278-015adcdcf69b",
   "metadata": {},
   "outputs": [],
   "source": [
    "class MultimodalRagModel(mlflow.pyfunc.PythonModel):\n",
    "    \"\"\"\n",
    "    An MLflow PythonModel that encapsulates the entire Multimodal RAG pipeline.\n",
    "\n",
    "    This class faithfully reproduces the workflow from the `run-notebook.ipynb`, including\n",
    "    data loading, multi-stage retrieval (vector search + reranking), and multimodal\n",
    "    generation with the InternVL model.\n",
    "\n",
    "    Expected Artifacts during logging/loading:\n",
    "      - \"chroma_dir\": Path to the persisted Chroma vectorstore directory.\n",
    "      - \"context_dir\": Path to the root data directory, containing the `images` subdirectory.\n",
    "      - \"cache_dir\": Path to the directory for the semantic cache.\n",
    "    \"\"\"\n",
    "\n",
    "    # --------------------------------------------------------------------------\n",
    "    # Helper Classes (Encapsulated from the original notebook)\n",
    "    # --------------------------------------------------------------------------\n",
    "\n",
    "    class SemanticCache:\n",
    "        \"\"\"\n",
    "        A semantic cache using a Chroma vector store to find similar queries.\n",
    "        \"\"\"\n",
    "        def __init__(self, persist_directory: Path, embedding_function: Embeddings, collection_name: str = \"multimodal_cache\"):\n",
    "            self.embedding_function = embedding_function\n",
    "            self._vectorstore = Chroma(\n",
    "                collection_name=collection_name,\n",
    "                persist_directory=str(persist_directory),\n",
    "                embedding_function=self.embedding_function\n",
    "            )\n",
    "\n",
    "        def get(self, query: str, threshold: float = 0.90) -> Optional[Dict[str, Any]]:\n",
    "            \"\"\"\n",
    "            Searches for a semantically similar query in the cache.\n",
    "            \"\"\"\n",
    "            if self._vectorstore._collection.count() == 0:\n",
    "                return None # Cache is empty\n",
    "\n",
    "            results = self._vectorstore.similarity_search_with_score(query, k=1)\n",
    "            if not results:\n",
    "                return None\n",
    "\n",
    "            most_similar_doc, score = results[0]\n",
    "            # Chroma's 'score' is a distance metric (L2), so we convert it to similarity\n",
    "            similarity = 1.0 - score\n",
    "\n",
    "            logger.info(f\"Most similar cached query: '{most_similar_doc.page_content}' (Similarity: {similarity:.4f})\")\n",
    "\n",
    "            if similarity >= threshold:\n",
    "                cached_result = most_similar_doc.metadata\n",
    "                # Deserialize the JSON string for used_images\n",
    "                cached_result['used_images'] = json.loads(cached_result.get('used_images', '[]'))\n",
    "                return cached_result\n",
    "\n",
    "            return None\n",
    "\n",
    "        def set(self, query: str, result_dict: Dict[str, Any]) -> None:\n",
    "            \"\"\"\n",
    "            Adds a new query and its result to the cache.\n",
    "            \"\"\"\n",
    "            # Ensure used_images is stored as a JSON string\n",
    "            metadata_to_store = {\n",
    "                'reply': result_dict.get('reply', ''),\n",
    "                'used_images': json.dumps(result_dict.get('used_images', []))\n",
    "            }\n",
    "\n",
    "            doc = Document(page_content=query, metadata=metadata_to_store)\n",
    "            self._vectorstore.add_documents([doc])\n",
    "            logger.info(f\"Added query to semantic cache: '{query}'\")\n",
    "\n",
    "        def delete(self, query: str) -> None:\n",
    "            \"\"\"\n",
    "            Finds and deletes a query and its cached response from the vector store.\n",
    "            \"\"\"\n",
    "            # Note: ChromaDB's `get` with `where` is the intended way to find documents by content.\n",
    "            # This operation might be slow on large collections without proper indexing on metadata.\n",
    "            results = self._vectorstore.get(where={\"page_content\": query})\n",
    "            if results and 'ids' in results and results['ids']:\n",
    "                doc_id_to_delete = results['ids'][0]\n",
    "                self._vectorstore._collection.delete(ids=[doc_id_to_delete])\n",
    "                logger.info(f\"Cleared old cache for query: '{query}'\")\n",
    "\n",
    "\n",
    "    class SiglipEmbeddings(Embeddings):\n",
    "        \"\"\"LangChain compatible wrapper for SigLIP image/text embeddings.\"\"\"\n",
    "        def __init__(self, model_id: str, device: str):\n",
    "            self.device = device\n",
    "            self.model = SiglipModel.from_pretrained(model_id).to(self.device)\n",
    "            self.processor = SiglipProcessor.from_pretrained(model_id)\n",
    "\n",
    "        def _embed_text(self, txts: List[str]) -> np.ndarray:\n",
    "            inp = self.processor(text=txts, return_tensors=\"pt\", padding=True, truncation=True).to(self.device)\n",
    "            with torch.no_grad():\n",
    "                return self.model.get_text_features(**inp).cpu().numpy()\n",
    "\n",
    "        def _embed_imgs(self, paths: List[str]) -> np.ndarray:\n",
    "            imgs = [PILImage.open(p).convert(\"RGB\") for p in paths]\n",
    "            inp = self.processor(images=imgs, return_tensors=\"pt\").to(self.device)\n",
    "            with torch.no_grad():\n",
    "                return self.model.get_image_features(**inp).cpu().numpy()\n",
    "\n",
    "        def embed_documents(self, docs: List[str]) -> List[List[float]]:\n",
    "            return self._embed_imgs(docs).tolist()\n",
    "\n",
    "        def embed_query(self, txt: str) -> List[float]:\n",
    "            return self._embed_text([txt])[0].tolist()\n",
    "\n",
    "\n",
    "    class InternVLMM:\n",
    "        \"\"\"Minimal, self-contained multimodal QA wrapper around InternVL-Chat-V1-5.\"\"\"\n",
    "        def __init__(self, model_path: str, device: str, cache: Any):\n",
    "            self.device = device\n",
    "            self.model = None\n",
    "            self.model_path = model_path\n",
    "            self.tok = None\n",
    "            self.image_processor = None\n",
    "            self.cache = cache\n",
    "            self._load()\n",
    "\n",
    "        def generate(self, query: str, context: Dict[str, Any], force_regenerate: bool = False) -> Dict[str, Any]:\n",
    "            if not force_regenerate:\n",
    "                cached_result = self.cache.get(query, threshold=0.92)\n",
    "                if cached_result:\n",
    "                    logger.info(f\"SEMANTIC CACHE HIT for query: '{query}'\")\n",
    "                    return cached_result\n",
    "\n",
    "            if force_regenerate:\n",
    "                logger.info(f\"Forced regeneration for query: '{query}'. Clearing old cache entry.\")\n",
    "                self.cache.delete(query)\n",
    "\n",
    "            logger.info(f\"CACHE MISS for query: '{query}'. Running full pipeline.\")\n",
    "            if self.model is None or self.tok is None:\n",
    "                return {\"reply\": \"Error: model not initialised.\", \"used_images\": []}\n",
    "\n",
    "            hits = self._retrieve_mm(query, **context)\n",
    "            docs, images = hits[\"docs\"], hits[\"images\"]\n",
    "\n",
    "            if not docs and not images:\n",
    "                return {\"reply\": \"I don't know based on the provided context.\", \"used_images\": []}\n",
    "\n",
    "            # Build prompt\n",
    "            context_str = \"\\n\\n\".join(\n",
    "                f\"<source_document name=\\\"{d.metadata.get('source', 'unknown')}\\\">\\n{d.page_content}\\n</source_document>\"\n",
    "                for d in docs\n",
    "            )\n",
    "\n",
    "            user_content = f\"\"\"\n",
    "                <task_instructions>\n",
    "                Your response must follow this exact structure:\n",
    "                \n",
    "                ## **1. Visual Analysis**\n",
    "                First, provide a detailed description of what is shown in the provided image(s), based only on what you can see.\n",
    "                \n",
    "                ## **2. Synthesized Answer**\n",
    "                Next, answer the user's original query. Your answer must be synthesized from the provided text `<context>`. Use the visual analysis only if it is relevant. If the image is not relevant, rely solely on the text context to formulate your answer.\n",
    "            \n",
    "                ## **3. Source Documents**\n",
    "                At the very end of your response, cite the source from the context in brackets and backticks, like this: [`source-file-name.md`].\n",
    "                </task_instructions>\n",
    "\n",
    "                <context>\n",
    "                    {context_str}\n",
    "                </context>\n",
    "\n",
    "                <user_query>\n",
    "                     {query}\n",
    "                </user_query>\n",
    "\n",
    "                Now, generate the response following all instructions.\n",
    "                \"\"\"\n",
    "            SYSTEM_PROMPT = \"\"\"\n",
    "                You are AI Studio DevOps Assistant. Your function is to analyze images and text, then answer questions based ONLY on the provided materials.\n",
    "                \n",
    "                **PERMANENT INSTRUCTIONS:**\n",
    "                1.  **Analyze and Answer from Context**: Your entire response MUST be derived thoroughly from the provided `<context>` block and the user's image(s).\n",
    "                2.  **Follow Output Structure**: You MUST follow the multi-part response structure outlined in the user's message. Completing all sections is mandatory.\n",
    "                3.  **No External Knowledge**: You MUST NOT use any information outside the provided materials.\n",
    "                4.  **No Hallucination**: Do not invent or assume any details. If information is not present, it does not exist.\n",
    "                5.  **Handle Missing Information**: If the provided context and image(s) do not contain the answer, your ONLY response will be: \"Based on the provided context, I cannot answer this question.\" Do not add any other words or explanation.\n",
    "                \"\"\"\n",
    "            conversation = [\n",
    "                {\"role\": \"system\", \"content\": SYSTEM_PROMPT},\n",
    "                {\"role\": \"user\", \"content\": user_content}\n",
    "            ]\n",
    "\n",
    "            prompt = self.tok.apply_chat_template(\n",
    "                conversation,\n",
    "                tokenize=False,\n",
    "                add_generation_prompt=True\n",
    "            )\n",
    "\n",
    "            # Generate\n",
    "            try:\n",
    "                self._clear_cuda()\n",
    "                pixel_values = self._process_images(images) if images else None\n",
    "                reply = self.model.chat(\n",
    "                    self.tok, pixel_values, prompt,\n",
    "                    generation_config=dict(max_new_tokens=16384, pad_token_id=self.tok.pad_token_id, eos_token_id=self.tok.eos_token_id,repetition_penalty=1.10),\n",
    "                )\n",
    "                self._clear_cuda()\n",
    "                result_dict = {\"reply\": reply, \"used_images\": images}\n",
    "\n",
    "                self.cache.set(query, result_dict)\n",
    "                return result_dict\n",
    "            except RuntimeError as e:\n",
    "                logger.error(\"InternVL generation failed: %s\", e)\n",
    "                return {\"reply\": f\"Error during generation: {e}\", \"used_images\": images}\n",
    "\n",
    "        def _retrieve_mm(self, query: str, text_db: Chroma, image_db: Chroma, siglip_embeds: Any, cross_encoder: Any, k_txt: int = 4, k_img: int = 8, fetch_k: int = 20) -> Dict[str, Any]:\n",
    "            \"\"\"Performs hybrid retrieval for text and associated images.\"\"\"\n",
    "            # 1. Coarse recall (text)\n",
    "            docs_and_init = text_db.similarity_search_with_score(query, k=fetch_k)\n",
    "            if not docs_and_init:\n",
    "                return {\"docs\": [], \"images\": []}\n",
    "            docs, init_scores = zip(*docs_and_init)\n",
    "\n",
    "            # 2. Rerank (text)\n",
    "            rerank_scores = cross_encoder.predict([(query, d.page_content) for d in docs])\n",
    "\n",
    "            # 3. Hybrid scoring\n",
    "            hybrid_scores = [0.4 * init + 0.6 * rerank for init, rerank in zip(init_scores, rerank_scores)]\n",
    "\n",
    "            # 4. Select top-k text\n",
    "            scored_docs = sorted(zip(docs, hybrid_scores), key=lambda x: x[1], reverse=True)\n",
    "            selected_docs = [doc for doc, score in scored_docs[:k_txt]]\n",
    "\n",
    "            # 5. Image retrieval\n",
    "            sources = [d.metadata[\"source\"] for d in selected_docs]\n",
    "            q_emb = siglip_embeds.embed_query(query)\n",
    "            img_hits = image_db.similarity_search_by_vector(q_emb, k=k_img * 2, filter={\"source\": {\"$in\": sources}})\n",
    "            images = [img.page_content for img in img_hits[:k_img]]\n",
    "\n",
    "            return {\"docs\": selected_docs, \"images\": images}\n",
    "\n",
    "        def _load(self):\n",
    "            logger.info(\"Loading %s...\", self.model_path)\n",
    "            self._clear_cuda()\n",
    "\n",
    "            self.tok = AutoTokenizer.from_pretrained(self.model_path, trust_remote_code=True)\n",
    "            if self.tok.pad_token is None: self.tok.pad_token = self.tok.eos_token\n",
    "\n",
    "            self.image_processor = AutoImageProcessor.from_pretrained(self.model_path, trust_remote_code=True, use_fast=True)\n",
    "\n",
    "            q_cfg = BitsAndBytesConfig(\n",
    "                load_in_4bit=True,\n",
    "                bnb_4bit_quant_type=\"nf4\",\n",
    "                bnb_4bit_compute_dtype=torch.bfloat16,\n",
    "                bnb_4bit_use_double_quant=True,\n",
    "            ) if self.device == \"cuda\" else None\n",
    "\n",
    "            self.model = AutoModel.from_pretrained(\n",
    "                self.model_path,\n",
    "                quantization_config=q_cfg,\n",
    "                torch_dtype=(torch.bfloat16 if self.device == \"cuda\" else torch.float32),\n",
    "                low_cpu_mem_usage=True,\n",
    "                use_flash_attn=False,\n",
    "                trust_remote_code=True,\n",
    "                device_map=\"auto\" if self.device == \"cuda\" else None,\n",
    "            ).eval()\n",
    "            logger.info(\"Model loaded on %s.\", self.device)\n",
    "\n",
    "        def _process_images(self, image_paths: List[str]):\n",
    "            if not image_paths: return None\n",
    "            try:\n",
    "                pil_images = [PILImage.open(p).convert(\"RGB\") for p in image_paths]\n",
    "                processed_data = self.image_processor(images=pil_images, return_tensors=\"pt\")\n",
    "                # Ensure pixel values are on the same device and dtype as the model\n",
    "                pixel_values = processed_data['pixel_values'].to(device=self.device, dtype=next(self.model.parameters()).dtype)\n",
    "                return pixel_values\n",
    "            except Exception as e:\n",
    "                logger.error(\"Image processing failed: %s\", e)\n",
    "                return None\n",
    "\n",
    "        def _clear_cuda(self):\n",
    "            if torch.cuda.is_available():\n",
    "                torch.cuda.empty_cache()\n",
    "                torch.cuda.synchronize()\n",
    "\n",
    "    # --------------------------------------------------------------------------\n",
    "    # MLflow pyfunc Methods\n",
    "    # --------------------------------------------------------------------------\n",
    "\n",
    "    def load_context(self, context: mlflow.pyfunc.PythonModelContext) -> None:\n",
    "        \"\"\"\n",
    "        This method is called when loading an MLflow model. It initializes all\n",
    "        necessary components using the artifacts logged with the model.\n",
    "        \"\"\"\n",
    "        logger.info(\"--- Initializing MultimodalRagModel context ---\")\n",
    "        \n",
    "        # This part remains the same\n",
    "        self.device = \"cuda\" if torch.cuda.is_available() else \"cpu\"\n",
    "        logger.info(f\"Running on device: {self.device}\")\n",
    "    \n",
    "        # Get the path to the bundled model artifacts that MLflow provides\n",
    "        # The key \"local_model_dir\" must match the key used in the `artifacts` dict during logging\n",
    "        model_artifact_path = Path(context.artifacts[\"local_model_dir\"])\n",
    "    \n",
    "        self.model_path = model_artifact_path.resolve()\n",
    "        logger.info(f\"Resolved local model path to: {self.model_path}\")\n",
    "        \n",
    "        # The rest of the method now uses this resolved path\n",
    "        self.chroma_dir = Path(context.artifacts[\"chroma_dir\"])\n",
    "        self.context_dir = Path(context.artifacts[\"context_dir\"])\n",
    "        self.cache_dir = Path(context.artifacts[\"cache_dir\"])\n",
    "        logger.info(f\"Artifacts loaded: chroma_dir='{self.chroma_dir}', context_dir='{self.context_dir}', cache_dir='{self.cache_dir}'\")\n",
    "    \n",
    "        # This loads from the local artifacts bundled with your MLflow model\n",
    "        logger.info(\"Loading embedding models and cross-encoder from local artifacts...\")\n",
    "        \n",
    "        # 1. Get the local paths from the MLflow context\n",
    "        e5_model_path = context.artifacts[\"e5_model_dir\"]\n",
    "        siglip_model_path = context.artifacts[\"siglip_model_dir\"]\n",
    "        cross_encoder_path = context.artifacts[\"cross_encoder_dir\"]\n",
    "        \n",
    "        # 2. Initialize models using the local paths\n",
    "        self.text_embed_model = HuggingFaceEmbeddings(\n",
    "            model_name=e5_model_path, \n",
    "            model_kwargs={\"device\": self.device}\n",
    "        )\n",
    "        self.siglip_embed_model = self.SiglipEmbeddings(\n",
    "            model_id=siglip_model_path, \n",
    "            device=self.device\n",
    "        )\n",
    "        self.cross_encoder = CrossEncoder(\n",
    "            cross_encoder_path, \n",
    "            device=self.device\n",
    "        )\n",
    "        \n",
    "        logger.info(\"✅ Models loaded successfully from artifacts.\")\n",
    "    \n",
    "        logger.info(\"Loading ChromaDB vector stores...\")\n",
    "        self.text_db = Chroma(\n",
    "            collection_name=\"mm_text\",\n",
    "            persist_directory=str(self.chroma_dir),\n",
    "            embedding_function=self.text_embed_model,\n",
    "        )\n",
    "        self.image_db = Chroma(\n",
    "            collection_name=\"mm_image\",\n",
    "            persist_directory=str(self.chroma_dir),\n",
    "            embedding_function=self.siglip_embed_model,\n",
    "        )\n",
    "        logger.info(f\"Text DB count: {self.text_db._collection.count()}, Image DB count: {self.image_db._collection.count()}\")\n",
    "    \n",
    "        self.cache = self.SemanticCache(persist_directory=self.cache_dir, embedding_function=self.text_embed_model)\n",
    "    \n",
    "        # The InternVLMM will now be initialized with the safe, absolute path\n",
    "        self.mm_llm = self.InternVLMM(model_path=self.model_path, device=self.device, cache=self.cache)\n",
    "        logger.info(\"--- Context initialization complete ---\")\n",
    "\n",
    "\n",
    "    def predict(self, context: mlflow.pyfunc.PythonModelContext, model_input: pd.DataFrame) -> pd.DataFrame:\n",
    "        \"\"\"\n",
    "        MLflow inference entrypoint.\n",
    "        Expects a pandas DataFrame with a \"query\" column.\n",
    "        Returns a DataFrame with \"reply\" and \"used_images\" columns.\n",
    "        \"\"\"\n",
    "        logger.info(\"Received prediction request.\")\n",
    "        queries = model_input[\"query\"].tolist()\n",
    "        force_regenerate = model_input.get(\"force_regenerate\", pd.Series([False] * len(queries))).tolist()\n",
    "        results = []\n",
    "\n",
    "        retrieval_context = {\n",
    "            \"text_db\": self.text_db,\n",
    "            \"image_db\": self.image_db,\n",
    "            \"siglip_embeds\": self.siglip_embed_model,\n",
    "            \"cross_encoder\": self.cross_encoder\n",
    "        }\n",
    "\n",
    "        for i, query in enumerate(queries):\n",
    "            logger.info(f\"Processing query: '{query}'\")\n",
    "            response_dict = self.mm_llm.generate(query, retrieval_context, force_regenerate=force_regenerate[i])\n",
    "            results.append(response_dict)\n",
    "\n",
    "        return pd.DataFrame(results)\n",
    "\n",
    "    @classmethod\n",
    "    def log_model(cls, model_name: str, local_model_path: str) -> None:\n",
    "        \"\"\"\n",
    "        Helper class method to log the MultimodalRagModel to MLflow.\n",
    "        This version downloads supporting models to a temporary directory that is\n",
    "        automatically cleaned up after logging.\n",
    "        \"\"\"\n",
    "        logger.info(f\"--- Logging '{model_name}' to MLflow ---\")\n",
    "        \n",
    "        # Use a temporary directory that gets automatically deleted\n",
    "        with tempfile.TemporaryDirectory() as temp_dir:\n",
    "            logger.info(f\"Created temporary directory for models: {temp_dir}\")\n",
    "            temp_path = Path(temp_dir)\n",
    "    \n",
    "            # --- 1. Download models into the temporary directory ---\n",
    "            # e5 model\n",
    "            e5_path = temp_path / \"e5-large-v2\"\n",
    "            e5_model = SentenceTransformer(\"intfloat/e5-large-v2\")\n",
    "            e5_model.save(str(e5_path))\n",
    "            logger.info(f\"✅ Temporarily saved e5-large-v2 to {e5_path}\")\n",
    "    \n",
    "            # SigLIP model\n",
    "            siglip_path = temp_path / \"siglip2-base-patch16-224\"\n",
    "            SiglipModel.from_pretrained(\"google/siglip2-base-patch16-224\").save_pretrained(siglip_path)\n",
    "            SiglipProcessor.from_pretrained(\"google/siglip2-base-patch16-224\").save_pretrained(siglip_path)\n",
    "            logger.info(f\"✅ Temporarily saved SigLIP to {siglip_path}\")\n",
    "    \n",
    "            # Cross-Encoder model\n",
    "            cross_encoder_path = temp_path / \"ms-marco-MiniLM-L-6-v2\"\n",
    "            CrossEncoder(\"cross-encoder/ms-marco-MiniLM-L-6-v2\").save(str(cross_encoder_path))\n",
    "            logger.info(f\"✅ Temporarily saved Cross-Encoder to {cross_encoder_path}\")\n",
    "    \n",
    "            # --- 2. Define artifacts using paths from the temporary directory ---\n",
    "            project_root = Path.cwd().parent.resolve()\n",
    "            artifacts = {\n",
    "                \"local_model_dir\": local_model_path,\n",
    "                \"e5_model_dir\": str(e5_path),\n",
    "                \"siglip_model_dir\": str(siglip_path),\n",
    "                \"cross_encoder_dir\": str(cross_encoder_path),\n",
    "                \"chroma_dir\": str(project_root / \"data\" / \"chroma_store\"),\n",
    "                \"context_dir\": str(project_root / \"data\" / \"context\"),\n",
    "                \"cache_dir\": str(project_root / \"data\" / \"chroma_store\" / \"semantic_cache\"),\n",
    "            }\n",
    "    \n",
    "            # --- 3. Log the model (MLflow will copy from the temp dir) ---\n",
    "            input_schema = Schema([\n",
    "                ColSpec(DataType.string, \"query\"),\n",
    "                ColSpec(DataType.boolean, \"force_regenerate\")\n",
    "            ])\n",
    "            output_schema = Schema([\n",
    "                ColSpec(DataType.string, \"reply\"),\n",
    "                ColSpec(DataType.string, \"used_images\"),\n",
    "            ])\n",
    "            signature = ModelSignature(inputs=input_schema, outputs=output_schema)\n",
    "    \n",
    "            mlflow.pyfunc.log_model(\n",
    "                artifact_path=model_name,\n",
    "                python_model=cls(),\n",
    "                artifacts=artifacts,\n",
    "                pip_requirements=\"../requirements.txt\",\n",
    "                signature=signature,\n",
    "                code_paths=[\"../src\"],\n",
    "            )\n",
    "    \n",
    "        # The temporary directory and all its contents are automatically deleted here\n",
    "        logger.info(f\"✅ Successfully logged '{model_name}' and cleaned up temporary files.\")"
   ]
  },
  {
   "cell_type": "markdown",
   "id": "fdfee18b-a495-42c0-aaf4-a37a4d5009eb",
   "metadata": {},
   "source": [
    "## Step 3: Start Run, Log & Register Model"
   ]
  },
  {
   "cell_type": "code",
   "execution_count": 9,
   "id": "97c7b785-0628-4358-8e8d-9d49a0d6f1da",
   "metadata": {},
   "outputs": [
    {
     "name": "stdout",
     "output_type": "stream",
     "text": [
      "2025-07-26 21:49:23 - INFO - Started MLflow run: df1538690fca45f299941c9651847ac9\n",
      "2025-07-26 21:49:23 - INFO - --- Logging 'AIStudio-Multimodal-Chatbot-Model' to MLflow ---\n",
      "2025-07-26 21:49:23 - INFO - Created temporary directory for models: /tmp/tmppcqtxh6n\n"
     ]
    },
    {
     "data": {
      "application/vnd.jupyter.widget-view+json": {
       "model_id": "09591bb66b164cfba43b5e34f7cecaff",
       "version_major": 2,
       "version_minor": 0
      },
      "text/plain": [
       "modules.json:   0%|          | 0.00/387 [00:00<?, ?B/s]"
      ]
     },
     "metadata": {},
     "output_type": "display_data"
    },
    {
     "data": {
      "application/vnd.jupyter.widget-view+json": {
       "model_id": "09dd80a4637241a6b3d78163740d507e",
       "version_major": 2,
       "version_minor": 0
      },
      "text/plain": [
       "README.md: 0.00B [00:00, ?B/s]"
      ]
     },
     "metadata": {},
     "output_type": "display_data"
    },
    {
     "data": {
      "application/vnd.jupyter.widget-view+json": {
       "model_id": "c19475f001c94de0aff73f959477c297",
       "version_major": 2,
       "version_minor": 0
      },
      "text/plain": [
       "sentence_bert_config.json:   0%|          | 0.00/57.0 [00:00<?, ?B/s]"
      ]
     },
     "metadata": {},
     "output_type": "display_data"
    },
    {
     "data": {
      "application/vnd.jupyter.widget-view+json": {
       "model_id": "1a9491dceb4d4c10b7ac2daaf468cbe0",
       "version_major": 2,
       "version_minor": 0
      },
      "text/plain": [
       "config.json:   0%|          | 0.00/616 [00:00<?, ?B/s]"
      ]
     },
     "metadata": {},
     "output_type": "display_data"
    },
    {
     "data": {
      "application/vnd.jupyter.widget-view+json": {
       "model_id": "b5f16f1663414bc5a163c34fc16739d4",
       "version_major": 2,
       "version_minor": 0
      },
      "text/plain": [
       "model.safetensors:   0%|          | 0.00/1.34G [00:00<?, ?B/s]"
      ]
     },
     "metadata": {},
     "output_type": "display_data"
    },
    {
     "data": {
      "application/vnd.jupyter.widget-view+json": {
       "model_id": "96f3cc1415854a25b34eb0fb975200f5",
       "version_major": 2,
       "version_minor": 0
      },
      "text/plain": [
       "tokenizer_config.json:   0%|          | 0.00/314 [00:00<?, ?B/s]"
      ]
     },
     "metadata": {},
     "output_type": "display_data"
    },
    {
     "data": {
      "application/vnd.jupyter.widget-view+json": {
       "model_id": "1016e404836748599a1302f1fc6ef698",
       "version_major": 2,
       "version_minor": 0
      },
      "text/plain": [
       "vocab.txt: 0.00B [00:00, ?B/s]"
      ]
     },
     "metadata": {},
     "output_type": "display_data"
    },
    {
     "data": {
      "application/vnd.jupyter.widget-view+json": {
       "model_id": "4be525b17dd64562a09769fcfd6129c1",
       "version_major": 2,
       "version_minor": 0
      },
      "text/plain": [
       "tokenizer.json: 0.00B [00:00, ?B/s]"
      ]
     },
     "metadata": {},
     "output_type": "display_data"
    },
    {
     "data": {
      "application/vnd.jupyter.widget-view+json": {
       "model_id": "c7c60b27d9f349c98a68b3d9ad705a24",
       "version_major": 2,
       "version_minor": 0
      },
      "text/plain": [
       "special_tokens_map.json:   0%|          | 0.00/125 [00:00<?, ?B/s]"
      ]
     },
     "metadata": {},
     "output_type": "display_data"
    },
    {
     "data": {
      "application/vnd.jupyter.widget-view+json": {
       "model_id": "f0ab6166ccc74b4dbb4b9621598fee8f",
       "version_major": 2,
       "version_minor": 0
      },
      "text/plain": [
       "config.json:   0%|          | 0.00/201 [00:00<?, ?B/s]"
      ]
     },
     "metadata": {},
     "output_type": "display_data"
    },
    {
     "name": "stdout",
     "output_type": "stream",
     "text": [
      "2025-07-26 21:49:45 - INFO - ✅ Temporarily saved e5-large-v2 to /tmp/tmppcqtxh6n/e5-large-v2\n"
     ]
    },
    {
     "data": {
      "application/vnd.jupyter.widget-view+json": {
       "model_id": "ff1fd5f560b040d789abe597e11cc01c",
       "version_major": 2,
       "version_minor": 0
      },
      "text/plain": [
       "config.json:   0%|          | 0.00/253 [00:00<?, ?B/s]"
      ]
     },
     "metadata": {},
     "output_type": "display_data"
    },
    {
     "data": {
      "application/vnd.jupyter.widget-view+json": {
       "model_id": "6b8fc5cd5ed14f788d4c4f27db77afd8",
       "version_major": 2,
       "version_minor": 0
      },
      "text/plain": [
       "model.safetensors:   0%|          | 0.00/1.50G [00:00<?, ?B/s]"
      ]
     },
     "metadata": {},
     "output_type": "display_data"
    },
    {
     "name": "stderr",
     "output_type": "stream",
     "text": [
      "Using a slow image processor as `use_fast` is unset and a slow processor was saved with this model. `use_fast=True` will be the default behavior in v4.52, even if the model was saved with a slow processor. This will result in minor differences in outputs. You'll still be able to use a slow processor with `use_fast=False`.\n"
     ]
    },
    {
     "data": {
      "application/vnd.jupyter.widget-view+json": {
       "model_id": "c141e25d9cde4391b25578afdc03ec58",
       "version_major": 2,
       "version_minor": 0
      },
      "text/plain": [
       "preprocessor_config.json:   0%|          | 0.00/394 [00:00<?, ?B/s]"
      ]
     },
     "metadata": {},
     "output_type": "display_data"
    },
    {
     "data": {
      "application/vnd.jupyter.widget-view+json": {
       "model_id": "5fe6d9d26f29401e88b339c030d8eea7",
       "version_major": 2,
       "version_minor": 0
      },
      "text/plain": [
       "tokenizer_config.json: 0.00B [00:00, ?B/s]"
      ]
     },
     "metadata": {},
     "output_type": "display_data"
    },
    {
     "data": {
      "application/vnd.jupyter.widget-view+json": {
       "model_id": "6c89519e461d4e7ab71678d63a64146b",
       "version_major": 2,
       "version_minor": 0
      },
      "text/plain": [
       "tokenizer.model:   0%|          | 0.00/4.24M [00:00<?, ?B/s]"
      ]
     },
     "metadata": {},
     "output_type": "display_data"
    },
    {
     "data": {
      "application/vnd.jupyter.widget-view+json": {
       "model_id": "1bd5d5014f294bb1919d281a0766a1a7",
       "version_major": 2,
       "version_minor": 0
      },
      "text/plain": [
       "tokenizer.json:   0%|          | 0.00/34.4M [00:00<?, ?B/s]"
      ]
     },
     "metadata": {},
     "output_type": "display_data"
    },
    {
     "data": {
      "application/vnd.jupyter.widget-view+json": {
       "model_id": "5b9d364fa5054fb1b039eab434c781ce",
       "version_major": 2,
       "version_minor": 0
      },
      "text/plain": [
       "special_tokens_map.json:   0%|          | 0.00/636 [00:00<?, ?B/s]"
      ]
     },
     "metadata": {},
     "output_type": "display_data"
    },
    {
     "name": "stdout",
     "output_type": "stream",
     "text": [
      "2025-07-26 21:50:45 - INFO - ✅ Temporarily saved SigLIP to /tmp/tmppcqtxh6n/siglip2-base-patch16-224\n"
     ]
    },
    {
     "data": {
      "application/vnd.jupyter.widget-view+json": {
       "model_id": "d074b7d9220946f99d7719013977b53f",
       "version_major": 2,
       "version_minor": 0
      },
      "text/plain": [
       "config.json:   0%|          | 0.00/794 [00:00<?, ?B/s]"
      ]
     },
     "metadata": {},
     "output_type": "display_data"
    },
    {
     "data": {
      "application/vnd.jupyter.widget-view+json": {
       "model_id": "7714366f04f5454ab99335c7ea8ff2e1",
       "version_major": 2,
       "version_minor": 0
      },
      "text/plain": [
       "model.safetensors:   0%|          | 0.00/90.9M [00:00<?, ?B/s]"
      ]
     },
     "metadata": {},
     "output_type": "display_data"
    },
    {
     "data": {
      "application/vnd.jupyter.widget-view+json": {
       "model_id": "fd704a666bbe424d8372db06cd556c83",
       "version_major": 2,
       "version_minor": 0
      },
      "text/plain": [
       "tokenizer_config.json: 0.00B [00:00, ?B/s]"
      ]
     },
     "metadata": {},
     "output_type": "display_data"
    },
    {
     "data": {
      "application/vnd.jupyter.widget-view+json": {
       "model_id": "b9ebffa833d94555b3955c4980c4dba9",
       "version_major": 2,
       "version_minor": 0
      },
      "text/plain": [
       "vocab.txt: 0.00B [00:00, ?B/s]"
      ]
     },
     "metadata": {},
     "output_type": "display_data"
    },
    {
     "data": {
      "application/vnd.jupyter.widget-view+json": {
       "model_id": "daadfa0b8e6247b284e80b017108a26d",
       "version_major": 2,
       "version_minor": 0
      },
      "text/plain": [
       "tokenizer.json: 0.00B [00:00, ?B/s]"
      ]
     },
     "metadata": {},
     "output_type": "display_data"
    },
    {
     "data": {
      "application/vnd.jupyter.widget-view+json": {
       "model_id": "0ec83bc4e13b4aafb8e3cace5c8ba029",
       "version_major": 2,
       "version_minor": 0
      },
      "text/plain": [
       "special_tokens_map.json:   0%|          | 0.00/132 [00:00<?, ?B/s]"
      ]
     },
     "metadata": {},
     "output_type": "display_data"
    },
    {
     "data": {
      "application/vnd.jupyter.widget-view+json": {
       "model_id": "d5cc5ca69de8424997f58dd1a0459dd8",
       "version_major": 2,
       "version_minor": 0
      },
      "text/plain": [
       "README.md: 0.00B [00:00, ?B/s]"
      ]
     },
     "metadata": {},
     "output_type": "display_data"
    },
    {
     "name": "stdout",
     "output_type": "stream",
     "text": [
      "2025-07-26 21:51:02 - INFO - ✅ Temporarily saved Cross-Encoder to /tmp/tmppcqtxh6n/ms-marco-MiniLM-L-6-v2\n"
     ]
    },
    {
     "data": {
      "application/vnd.jupyter.widget-view+json": {
       "model_id": "d62fcf047c3640d59600e119fc3b36a7",
       "version_major": 2,
       "version_minor": 0
      },
      "text/plain": [
       "Downloading artifacts:   0%|          | 0/107 [00:00<?, ?it/s]"
      ]
     },
     "metadata": {},
     "output_type": "display_data"
    },
    {
     "data": {
      "application/vnd.jupyter.widget-view+json": {
       "model_id": "e2c950cb1b96426696a47f250e03ff0e",
       "version_major": 2,
       "version_minor": 0
      },
      "text/plain": [
       "Downloading artifacts:   0%|          | 0/11 [00:00<?, ?it/s]"
      ]
     },
     "metadata": {},
     "output_type": "display_data"
    },
    {
     "data": {
      "application/vnd.jupyter.widget-view+json": {
       "model_id": "1b23b8ca8ed349eba3707073da9a782c",
       "version_major": 2,
       "version_minor": 0
      },
      "text/plain": [
       "Downloading artifacts:   0%|          | 0/7 [00:00<?, ?it/s]"
      ]
     },
     "metadata": {},
     "output_type": "display_data"
    },
    {
     "data": {
      "application/vnd.jupyter.widget-view+json": {
       "model_id": "2ef0ca02f3d245d6adf4e13bd89237e1",
       "version_major": 2,
       "version_minor": 0
      },
      "text/plain": [
       "Downloading artifacts:   0%|          | 0/7 [00:00<?, ?it/s]"
      ]
     },
     "metadata": {},
     "output_type": "display_data"
    },
    {
     "data": {
      "application/vnd.jupyter.widget-view+json": {
       "model_id": "bd942237ffac44c5a1192b34889d8820",
       "version_major": 2,
       "version_minor": 0
      },
      "text/plain": [
       "Downloading artifacts:   0%|          | 0/16 [00:00<?, ?it/s]"
      ]
     },
     "metadata": {},
     "output_type": "display_data"
    },
    {
     "data": {
      "application/vnd.jupyter.widget-view+json": {
       "model_id": "8391e038d5a54a5a856c03c6dfcc98e9",
       "version_major": 2,
       "version_minor": 0
      },
      "text/plain": [
       "Downloading artifacts:   0%|          | 0/741 [00:00<?, ?it/s]"
      ]
     },
     "metadata": {},
     "output_type": "display_data"
    },
    {
     "data": {
      "application/vnd.jupyter.widget-view+json": {
       "model_id": "6343d6d296a743fa8e9fb063d7c1ead2",
       "version_major": 2,
       "version_minor": 0
      },
      "text/plain": [
       "Downloading artifacts:   0%|          | 0/5 [00:00<?, ?it/s]"
      ]
     },
     "metadata": {},
     "output_type": "display_data"
    },
    {
     "name": "stdout",
     "output_type": "stream",
     "text": [
      "2025-07-26 22:10:55 - INFO - ✅ Successfully logged 'AIStudio-Multimodal-Chatbot-Model' and cleaned up temporary files.\n",
      "2025-07-26 22:10:55 - INFO - Registering model from URI: runs:/df1538690fca45f299941c9651847ac9/AIStudio-Multimodal-Chatbot-Model\n"
     ]
    },
    {
     "name": "stderr",
     "output_type": "stream",
     "text": [
      "Registered model 'AIStudio-Multimodal-Chatbot-Model' already exists. Creating a new version of this model...\n"
     ]
    },
    {
     "name": "stdout",
     "output_type": "stream",
     "text": [
      "2025-07-26 22:10:55 - INFO - ✅ Successfully registered model 'AIStudio-Multimodal-Chatbot-Model'\n",
      "CPU times: user 23.3 s, sys: 5min 57s, total: 6min 21s\n",
      "Wall time: 21min 32s\n"
     ]
    },
    {
     "name": "stderr",
     "output_type": "stream",
     "text": [
      "Created version '3' of model 'AIStudio-Multimodal-Chatbot-Model'.\n"
     ]
    }
   ],
   "source": [
    "%%time\n",
    "\n",
    "# --- Start MLflow Run and Log the Model ---\n",
    "try:\n",
    "    with mlflow.start_run(run_name=RUN_NAME) as run:\n",
    "        run_id = run.info.run_id\n",
    "        logger.info(f\"Started MLflow run: {run_id}\")\n",
    "\n",
    "        # Use the class method to log the model and its artifacts\n",
    "        MultimodalRagModel.log_model(model_name=MODEL_NAME, local_model_path=LOCAL_MODEL_PATH)\n",
    "\n",
    "\n",
    "        model_uri = f\"runs:/{run_id}/{MODEL_NAME}\"\n",
    "        logger.info(f\"Registering model from URI: {model_uri}\")\n",
    "        \n",
    "        # R.0egister the model in the MLflow Model Registry\n",
    "        mlflow.register_model(model_uri=model_uri, name=MODEL_NAME)\n",
    "        logger.info(f\"✅ Successfully registered model '{MODEL_NAME}'\")\n",
    "\n",
    "except FileNotFoundError as e:\n",
    "    logger.error(f\"Error: A required file or directory was not found. Please ensure the project structure is correct.\")\n",
    "    logger.error(f\"Details: {e}\")\n",
    "except Exception as e:\n",
    "    logger.error(f\"An unexpected error occurred during the MLflow run: {e}\", exc_info=True)"
   ]
  },
  {
   "cell_type": "code",
   "execution_count": 10,
   "id": "1c628e7f-9d9d-4e7a-9790-34ed1b003caa",
   "metadata": {},
   "outputs": [
    {
     "name": "stdout",
     "output_type": "stream",
     "text": [
      "2025-07-26 22:10:56 - INFO - Found latest version '3' for model 'AIStudio-Multimodal-Chatbot-Model' in stage 'None'.\n"
     ]
    }
   ],
   "source": [
    "# --- Retrieve the latest version from the Model Registry ---\n",
    "try:\n",
    "    client = MlflowClient()\n",
    "    versions = client.get_latest_versions(MODEL_NAME, stages=[\"None\"])\n",
    "    if not versions:\n",
    "        raise RuntimeError(f\"No registered versions found for model '{MODEL_NAME}'.\")\n",
    "    \n",
    "    latest_version = versions[0]\n",
    "    logger.info(f\"Found latest version '{latest_version.version}' for model '{MODEL_NAME}' in stage '{latest_version.current_stage}'.\")\n",
    "    model_uri_registry = latest_version.source\n",
    "\n",
    "except Exception as e:\n",
    "    logger.error(f\"Failed to retrieve model from registry: {e}\", exc_info=True)\n",
    "    model_uri_registry = None # Ensure variable exists\n"
   ]
  },
  {
   "cell_type": "code",
   "execution_count": null,
   "id": "c31856b3-5ff5-48b9-98b7-ddbf7dd16be3",
   "metadata": {},
   "outputs": [
    {
     "name": "stdout",
     "output_type": "stream",
     "text": [
      "2025-07-26 22:10:56 - INFO - Loading model from: /phoenix/mlflow/590601882206787813/df1538690fca45f299941c9651847ac9/artifacts/AIStudio-Multimodal-Chatbot-Model\n",
      "2025-07-26 22:10:56 - INFO - --- Initializing MultimodalRagModel context ---\n",
      "2025-07-26 22:10:56 - INFO - Running on device: cuda\n",
      "2025-07-26 22:10:56 - INFO - Resolved local model path to: /phoenix/mlflow/590601882206787813/df1538690fca45f299941c9651847ac9/artifacts/AIStudio-Multimodal-Chatbot-Model/artifacts/InternVL3-8B-Instruct\n",
      "2025-07-26 22:10:56 - INFO - Artifacts loaded: chroma_dir='/phoenix/mlflow/590601882206787813/df1538690fca45f299941c9651847ac9/artifacts/AIStudio-Multimodal-Chatbot-Model/artifacts/chroma_store', context_dir='/phoenix/mlflow/590601882206787813/df1538690fca45f299941c9651847ac9/artifacts/AIStudio-Multimodal-Chatbot-Model/artifacts/context', cache_dir='/phoenix/mlflow/590601882206787813/df1538690fca45f299941c9651847ac9/artifacts/AIStudio-Multimodal-Chatbot-Model/artifacts/semantic_cache'\n",
      "2025-07-26 22:10:56 - INFO - Loading embedding models and cross-encoder from local artifacts...\n",
      "2025-07-26 22:11:58 - INFO - ✅ Models loaded successfully from artifacts.\n",
      "2025-07-26 22:11:58 - INFO - Loading ChromaDB vector stores...\n",
      "2025-07-26 22:12:00 - INFO - Text DB count: 2613, Image DB count: 752\n",
      "2025-07-26 22:12:00 - INFO - Loading /phoenix/mlflow/590601882206787813/df1538690fca45f299941c9651847ac9/artifacts/AIStudio-Multimodal-Chatbot-Model/artifacts/InternVL3-8B-Instruct...\n"
     ]
    },
    {
     "data": {
      "application/vnd.jupyter.widget-view+json": {
       "model_id": "b8d1053e1cba4923bdcc37ab4b8b03bc",
       "version_major": 2,
       "version_minor": 0
      },
      "text/plain": [
       "Loading checkpoint shards:   0%|          | 0/4 [00:00<?, ?it/s]"
      ]
     },
     "metadata": {},
     "output_type": "display_data"
    }
   ],
   "source": [
    "if model_uri_registry:\n",
    "    try:\n",
    "        logger.info(f\"Loading model from: {model_uri_registry}\")\n",
    "        loaded_model = mlflow.pyfunc.load_model(model_uri=model_uri_registry)\n",
    "        logger.info(\"✅ Successfully loaded model from registry.\")\n",
    "    except Exception as e:\n",
    "        logger.error(f\"Failed to load model from registry URI: {e}\", exc_info=True)\n",
    "        loaded_model = None\n",
    "else:\n",
    "    logger.warning(\"Skipping model loading due to previous errors.\")\n",
    "    loaded_model = None"
   ]
  },
  {
   "cell_type": "markdown",
   "id": "aa2d9db6-b2dd-44e5-989d-ebb498372229",
   "metadata": {},
   "source": [
    "## Step 4: Display Results"
   ]
  },
  {
   "cell_type": "code",
   "execution_count": null,
   "id": "279582c0-74e3-4b98-9d1d-6007c98f109d",
   "metadata": {},
   "outputs": [],
   "source": [
    "# --- Helper Function to Display Test Results ---\n",
    "def display_results(query: str, result_df: pd.DataFrame):\n",
    "    \"\"\"Helper to neatly print the query, reply, and display images.\"\"\"\n",
    "    if result_df.empty:\n",
    "        print(\"Received an empty result.\")\n",
    "        return\n",
    "\n",
    "    reply = result_df[\"reply\"].iloc[0]\n",
    "    # Images are stored as a string representation of a list, so we need to evaluate it\n",
    "    image_paths_str = result_df[\"used_images\"].iloc[0]\n",
    "    image_paths = eval(image_paths_str) if isinstance(image_paths_str, str) and image_paths_str.startswith('[') else []\n",
    "    \n",
    "    print(\"---\" * 20)\n",
    "    print(f\"❓ Query:\\n{query}\\n\")\n",
    "    print(f\"🤖 Reply:\\n{reply}\\n\")\n",
    "    \n",
    "    if image_paths:\n",
    "        print(f\"🖼️ Displaying {len(image_paths)} retrieved image(s):\")\n",
    "        # You can integrate the display_images function from the original notebook here\n",
    "        # For simplicity, we'll just print the paths.\n",
    "        for path in image_paths:\n",
    "            print(f\"  - {path}\")\n",
    "    else:\n",
    "        print(\"▶ No images were retrieved for this query.\")\n",
    "    print(\"---\" * 20 + \"\\n\")"
   ]
  },
  {
   "cell_type": "code",
   "execution_count": null,
   "id": "7fa1c9dd-974c-475d-876c-e4621b03a202",
   "metadata": {},
   "outputs": [],
   "source": [
    "if loaded_model:\n",
    "    logger.info(\"Running sample inference with the loaded model...\")\n",
    "    \n",
    "    sample_queries = [\n",
    "        \"Which log files from hooh contain information about deployment issues?\",\n",
    "        \"What are some feature flags that i can enable in AIStudio?\",\n",
    "        \"How do i manually clean my environment without hooh?\",\n",
    "    ]\n",
    "\n",
    "    for query in sample_queries:\n",
    "        try:\n",
    "            # --- MODIFIED LINE ---\n",
    "            # Add 'force_regenerate': False to the dictionary when creating the DataFrame\n",
    "            input_payload = pd.DataFrame([{\"query\": query, \"force_regenerate\": False}])\n",
    "            \n",
    "            result = loaded_model.predict(input_payload)\n",
    "            display_results(query, result)\n",
    "        except Exception as e:\n",
    "            logger.error(f\"Prediction failed for query '{query}': {e}\", exc_info=True)\n",
    "\n",
    "else:\n",
    "    logger.warning(\"Skipping sample inference because the model was not loaded.\")"
   ]
  },
  {
   "cell_type": "code",
   "execution_count": null,
   "id": "725e1d0b-333c-43fd-95a7-5ce13fdfe3d0",
   "metadata": {},
   "outputs": [],
   "source": [
    "logger.info(\"✅ Notebook execution completed.\")\n"
   ]
  },
  {
   "cell_type": "markdown",
   "id": "53e89eee-6171-446a-8da6-9381d3fe10c0",
   "metadata": {},
   "source": [
    "Built with ❤️ using Z by HP AI Studio."
   ]
  },
  {
   "cell_type": "markdown",
   "id": "b83806df-79a8-4273-ab62-96c4bf1c2ded",
   "metadata": {},
   "source": [
    "# Evaluate Hallucinations & Relevance"
   ]
  },
  {
   "cell_type": "code",
   "execution_count": null,
   "id": "79afd929-1a1c-40df-ad6f-2140059ebe78",
   "metadata": {},
   "outputs": [],
   "source": [
    "# model_source = config[\"model_source\"]"
   ]
  },
  {
   "cell_type": "code",
   "execution_count": null,
   "id": "a65785be-a49d-447d-855d-7a359ead6e11",
   "metadata": {},
   "outputs": [],
   "source": [
    "# %%time\n",
    "\n",
    "# llm = initialize_llm(model_source, secrets)"
   ]
  },
  {
   "cell_type": "code",
   "execution_count": null,
   "id": "05a04d0f-2827-4f3d-9b2e-88f09f5aeeca",
   "metadata": {},
   "outputs": [],
   "source": [
    "\n",
    "# def model(batch_df: pd.DataFrame) -> pd.DataFrame:\n",
    "#     preds, contexts = [], []\n",
    "#     for q in batch_df[\"questions\"]:\n",
    "#         answer = mm_chain.invoke(q)\n",
    "#         preds.append(answer)\n",
    "\n",
    "#         docs = retriever.get_relevant_documents(q)\n",
    "#         contexts.append(\" \".join(d.page_content for d in docs))\n",
    "\n",
    "#     # keep the incoming index so every batch’s rows stay unique\n",
    "#     return pd.DataFrame(\n",
    "#         {\n",
    "#             \"result\": preds,\n",
    "#             \"source_documents\": contexts,\n",
    "#         },\n",
    "#         index=batch_df.index,      #  ← key line\n",
    "#     )\n",
    "\n",
    "# # --- 3)  Evaluation dataset\n",
    "# eval_df = pd.DataFrame({\"questions\": [\n",
    "#     \"What naming convention should I use for a new blueprint project folder?\",\n",
    "#     \"What is the first step in the standard blueprint testing workflow?\",\n",
    "#     \"How do I fetch logs from a running Kubernetes pod?\",\n",
    "# ]})\n",
    "\n",
    "# judge = LocalGenAIJudge(\n",
    "#     llm=llm\n",
    "# )\n",
    "\n",
    "# faithfulness_metric = judge.to_mlflow_metric(\"faithfulness\")\n",
    "# relevance_metric = judge.to_mlflow_metric(\"relevance\")\n",
    "\n",
    "# results = mlflow.evaluate(\n",
    "#     model,\n",
    "#     eval_df,\n",
    "#     predictions=\"result\",\n",
    "#     evaluators=\"default\",\n",
    "#     extra_metrics=[faithfulness_metric, relevance_metric],\n",
    "#     evaluator_config={\n",
    "#         \"col_mapping\": {\n",
    "#             \"inputs\": \"questions\",\n",
    "#             \"context\": \"source_documents\"\n",
    "#         }\n",
    "#     },\n",
    "# )\n"
   ]
  }
 ],
 "metadata": {
  "kernelspec": {
   "display_name": "Python [conda env:base] *",
   "language": "python",
   "name": "conda-base-py"
  },
  "language_info": {
   "codemirror_mode": {
    "name": "ipython",
    "version": 3
   },
   "file_extension": ".py",
   "mimetype": "text/x-python",
   "name": "python",
   "nbconvert_exporter": "python",
   "pygments_lexer": "ipython3",
   "version": "3.12.7"
  }
 },
 "nbformat": 4,
 "nbformat_minor": 5
}
