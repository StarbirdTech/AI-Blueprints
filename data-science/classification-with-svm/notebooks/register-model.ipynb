{
 "cells": [
  {
   "cell_type": "markdown",
   "metadata": {
    "id": "TfCmzNfz-1a6"
   },
   "source": [
    "<h1 style=\\\"text-align: center; font-size: 50px;\\\">🌷 Register Model with LDA and SVM </h1>\n",
    "This notebook is about Iris Flowers: a famous machine learning classification problem. <br>\n",
    "The goal is to create a model that classifies the categorical variable (setosa, virginica or versicolor) based in some probability."
   ]
  },
  {
   "cell_type": "markdown",
   "metadata": {},
   "source": [
    "## Notebook Overview\n",
    "- Imports\n",
    "- Configurations\n",
    "- Define User Constants\n",
    "- Loading the dataset\n",
    "- Summarize the Dataset \n",
    "- Define MLflow Class\n",
    "- Logging Model to MLflow\n",
    "- Fetching the Latest Model Version from MLflow\n",
    "- Loading the Model and Running Inference\n"
   ]
  },
  {
   "cell_type": "markdown",
   "metadata": {},
   "source": [
    "## Imports"
   ]
  },
  {
   "cell_type": "code",
   "execution_count": 1,
   "metadata": {
    "id": "CU61fYH9jT1c"
   },
   "outputs": [],
   "source": [
    "%%time",
    "\n",
    "\n",
    "%pip install -r ../requirements.txt --quiet",
    "\n",
    "\n",
    "# ------------------------ Data Manipulation ------------------------\n",
    "import numpy as np\n",
    "import pandas as pd\n",
    "\n",
    "# ------------------------ System Utilities ------------------------\n",
    "import os\n",
    "import warnings\n",
    "import logging\n",
    "import time\n",
    "from typing import Optional, Any\n",
    "\n",
    "# ------------------------ Machine Learning tools ------------------------\n",
    "from sklearn.model_selection import train_test_split\n",
    "from sklearn.model_selection import cross_val_score\n",
    "from sklearn.metrics import accuracy_score\n",
    "from sklearn.metrics import classification_report\n",
    "from sklearn.preprocessing import StandardScaler\n",
    "from sklearn.discriminant_analysis import LinearDiscriminantAnalysis\n",
    "from sklearn.svm import SVC\n",
    "\n",
    "# ------------------------ MLflow for Experiment Tracking and Model Management ------------------------\n",
    "import mlflow\n",
    "from mlflow import MlflowClient\n",
    "from mlflow.models.signature import ModelSignature\n",
    "from mlflow.types.schema import Schema, ColSpec\n"
   ]
  },
  {
   "cell_type": "markdown",
   "metadata": {},
   "source": [
    "## Configurations"
   ]
  },
  {
   "cell_type": "code",
   "execution_count": 2,
   "metadata": {},
   "outputs": [],
   "source": [
    "# Suppress Python warnings\n",
    "warnings.filterwarnings(\"ignore\")"
   ]
  },
  {
   "cell_type": "code",
   "execution_count": 3,
   "metadata": {},
   "outputs": [],
   "source": [
    "# Create logger\n",
    "logger = logging.getLogger(\"flower_logger\")\n",
    "logger.setLevel(logging.INFO)\n",
    "logger.propagate = False\n",
    "logger.handlers.clear()\n",
    "\n",
    "formatter = logging.Formatter(\"%(asctime)s - %(levelname)s - %(message)s\", \n",
    "                              datefmt=\"%Y-%m-%d %H:%M:%S\")  \n",
    "\n",
    "stream_handler = logging.StreamHandler()\n",
    "stream_handler.setFormatter(formatter)\n",
    "logger.addHandler(stream_handler)"
   ]
  },
  {
   "cell_type": "markdown",
   "metadata": {},
   "source": [
    "## Define User Constants"
   ]
  },
  {
   "cell_type": "code",
   "execution_count": 4,
   "metadata": {},
   "outputs": [],
   "source": [
    "# ------------------------- Paths -------------------------\n",
    "DATASET_URL = \"https://raw.githubusercontent.com/jbrownlee/Datasets/master/iris.csv\"\n",
    "MODEL_DIR = \"../model/Iris_model.joblib\"\n",
    "ARTIFACT_PATH = \"iris_model\"\n",
    "\n",
    "# ------------------------ MLflow Integration ------------------------\n",
    "EXPERIMENT_NAME = \"Iris_Flower_Experiment\"\n",
    "RUN_NAME = \"Iris_Flower_Run\"\n",
    "MODEL_NAME = \"Iris_Flower_Model\""
   ]
  },
  {
   "cell_type": "code",
   "execution_count": 5,
   "metadata": {},
   "outputs": [
    {
     "name": "stderr",
     "output_type": "stream",
     "text": [
      "2025-08-14 15:10:59 - INFO - Notebook execution started.\n"
     ]
    }
   ],
   "source": [
    "start_time = time.time() \n",
    "logger.info('Notebook execution started.')"
   ]
  },
  {
   "cell_type": "markdown",
   "metadata": {},
   "source": [
    "# Loading the dataset\n",
    "First of all we will import some libraries for analysis and model building:"
   ]
  },
  {
   "cell_type": "code",
   "execution_count": 6,
   "metadata": {
    "id": "vXvWqBc9joj-"
   },
   "outputs": [],
   "source": [
    "dataset_url = DATASET_URL\n",
    "col_name = [\"sepal-length\", \"sepal-width\", \"petal-length\",\"petal-width\",\"class\"]\n",
    "\n",
    "# Reading the .csv file\n",
    "dataset = pd.read_csv(dataset_url, names = col_name)"
   ]
  },
  {
   "cell_type": "markdown",
   "metadata": {
    "id": "iagGVahQlYXJ"
   },
   "source": [
    "# Summarize the Dataset "
   ]
  },
  {
   "cell_type": "markdown",
   "metadata": {
    "id": "KeiGE2wl4L2O"
   },
   "source": [
    "## Dataset overview"
   ]
  },
  {
   "cell_type": "markdown",
   "metadata": {
    "id": "e8yw1iV05nPm"
   },
   "source": [
    "Dataset contains the data for this project in comma-separated values (CSV) format. The number of columns is 5, and the number of rows is 150."
   ]
  },
  {
   "cell_type": "code",
   "execution_count": 7,
   "metadata": {
    "colab": {
     "base_uri": "https://localhost:8080/",
     "height": 458
    },
    "id": "e2Dy5FStlakB",
    "outputId": "16483dbc-8bd4-482a-e86a-210a29d1dfe3"
   },
   "outputs": [
    {
     "name": "stdout",
     "output_type": "stream",
     "text": [
      "Dataset shape: (150, 5)  => 150 rows and 5 columns \n",
      "\n"
     ]
    },
    {
     "data": {
      "text/html": [
       "<div>\n",
       "<style scoped>\n",
       "    .dataframe tbody tr th:only-of-type {\n",
       "        vertical-align: middle;\n",
       "    }\n",
       "\n",
       "    .dataframe tbody tr th {\n",
       "        vertical-align: top;\n",
       "    }\n",
       "\n",
       "    .dataframe thead th {\n",
       "        text-align: right;\n",
       "    }\n",
       "</style>\n",
       "<table border=\"1\" class=\"dataframe\">\n",
       "  <thead>\n",
       "    <tr style=\"text-align: right;\">\n",
       "      <th></th>\n",
       "      <th>sepal-length</th>\n",
       "      <th>sepal-width</th>\n",
       "      <th>petal-length</th>\n",
       "      <th>petal-width</th>\n",
       "      <th>class</th>\n",
       "    </tr>\n",
       "  </thead>\n",
       "  <tbody>\n",
       "    <tr>\n",
       "      <th>0</th>\n",
       "      <td>5.1</td>\n",
       "      <td>3.5</td>\n",
       "      <td>1.4</td>\n",
       "      <td>0.2</td>\n",
       "      <td>Iris-setosa</td>\n",
       "    </tr>\n",
       "    <tr>\n",
       "      <th>1</th>\n",
       "      <td>4.9</td>\n",
       "      <td>3.0</td>\n",
       "      <td>1.4</td>\n",
       "      <td>0.2</td>\n",
       "      <td>Iris-setosa</td>\n",
       "    </tr>\n",
       "    <tr>\n",
       "      <th>2</th>\n",
       "      <td>4.7</td>\n",
       "      <td>3.2</td>\n",
       "      <td>1.3</td>\n",
       "      <td>0.2</td>\n",
       "      <td>Iris-setosa</td>\n",
       "    </tr>\n",
       "    <tr>\n",
       "      <th>3</th>\n",
       "      <td>4.6</td>\n",
       "      <td>3.1</td>\n",
       "      <td>1.5</td>\n",
       "      <td>0.2</td>\n",
       "      <td>Iris-setosa</td>\n",
       "    </tr>\n",
       "    <tr>\n",
       "      <th>4</th>\n",
       "      <td>5.0</td>\n",
       "      <td>3.6</td>\n",
       "      <td>1.4</td>\n",
       "      <td>0.2</td>\n",
       "      <td>Iris-setosa</td>\n",
       "    </tr>\n",
       "    <tr>\n",
       "      <th>5</th>\n",
       "      <td>5.4</td>\n",
       "      <td>3.9</td>\n",
       "      <td>1.7</td>\n",
       "      <td>0.4</td>\n",
       "      <td>Iris-setosa</td>\n",
       "    </tr>\n",
       "    <tr>\n",
       "      <th>6</th>\n",
       "      <td>4.6</td>\n",
       "      <td>3.4</td>\n",
       "      <td>1.4</td>\n",
       "      <td>0.3</td>\n",
       "      <td>Iris-setosa</td>\n",
       "    </tr>\n",
       "    <tr>\n",
       "      <th>7</th>\n",
       "      <td>5.0</td>\n",
       "      <td>3.4</td>\n",
       "      <td>1.5</td>\n",
       "      <td>0.2</td>\n",
       "      <td>Iris-setosa</td>\n",
       "    </tr>\n",
       "    <tr>\n",
       "      <th>8</th>\n",
       "      <td>4.4</td>\n",
       "      <td>2.9</td>\n",
       "      <td>1.4</td>\n",
       "      <td>0.2</td>\n",
       "      <td>Iris-setosa</td>\n",
       "    </tr>\n",
       "    <tr>\n",
       "      <th>9</th>\n",
       "      <td>4.9</td>\n",
       "      <td>3.1</td>\n",
       "      <td>1.5</td>\n",
       "      <td>0.1</td>\n",
       "      <td>Iris-setosa</td>\n",
       "    </tr>\n",
       "  </tbody>\n",
       "</table>\n",
       "</div>"
      ],
      "text/plain": [
       "   sepal-length  sepal-width  petal-length  petal-width        class\n",
       "0           5.1          3.5           1.4          0.2  Iris-setosa\n",
       "1           4.9          3.0           1.4          0.2  Iris-setosa\n",
       "2           4.7          3.2           1.3          0.2  Iris-setosa\n",
       "3           4.6          3.1           1.5          0.2  Iris-setosa\n",
       "4           5.0          3.6           1.4          0.2  Iris-setosa\n",
       "5           5.4          3.9           1.7          0.4  Iris-setosa\n",
       "6           4.6          3.4           1.4          0.3  Iris-setosa\n",
       "7           5.0          3.4           1.5          0.2  Iris-setosa\n",
       "8           4.4          2.9           1.4          0.2  Iris-setosa\n",
       "9           4.9          3.1           1.5          0.1  Iris-setosa"
      ]
     },
     "execution_count": 7,
     "metadata": {},
     "output_type": "execute_result"
    }
   ],
   "source": [
    "print(\"Dataset shape:\", dataset.shape, \" => 150 rows and 5 columns \\n\")\n",
    "dataset.head(10) # The head() function is used to get the first n rows. By default: n = 5"
   ]
  },
  {
   "cell_type": "code",
   "execution_count": 8,
   "metadata": {
    "colab": {
     "base_uri": "https://localhost:8080/"
    },
    "id": "qkdc0EjNEAAN",
    "outputId": "a7faf4df-be74-4ae7-8d02-44f99d6dd25e"
   },
   "outputs": [
    {
     "name": "stderr",
     "output_type": "stream",
     "text": [
      "2025-08-14 15:10:59 - INFO - x shape: (150, 4) | y shape: (150,) \n"
     ]
    }
   ],
   "source": [
    "x = dataset.drop(['class'], axis=1)\n",
    "y = dataset['class']\n",
    "logger.info(f'x shape: {x.shape} | y shape: {y.shape} ')\n",
    "\n",
    "x_train, x_test, y_train, y_test = train_test_split(x, y, test_size=0.20, random_state=1)"
   ]
  },
  {
   "cell_type": "markdown",
   "metadata": {},
   "source": [
    "## Define MLflow Class"
   ]
  },
  {
   "cell_type": "code",
   "execution_count": 9,
   "metadata": {},
   "outputs": [],
   "source": [
    "class IrisFlowerModel(mlflow.pyfunc.PythonModel):\n",
    "    def load_context(self, context: Optional[Any]) -> None:\n",
    "        try:    \n",
    "            dataset_url = DATASET_URL\n",
    "            col_name = [\"sepal-length\", \"sepal-width\", \"petal-length\",\"petal-width\",\"class\"]\n",
    "            dataset = pd.read_csv(dataset_url, names = col_name)\n",
    "\n",
    "            x = dataset.drop(['class'], axis=1)\n",
    "            y = dataset['class']\n",
    "\n",
    "            x_train, x_test, y_train, y_test = train_test_split(x, y, test_size=0.20, random_state=1)\n",
    "\n",
    "            self.scaler = StandardScaler()\n",
    "            x_train_scaled = self.scaler.fit_transform(x_train)\n",
    "            x_test_scaled = self.scaler.transform(x_test)\n",
    "\n",
    "            self.model = SVC(kernel=\"rbf\", gamma=\"scale\", C=6.812920690579608)\n",
    "            self.model.fit(x_train_scaled,y_train)\n",
    "\n",
    "            self.model = LinearDiscriminantAnalysis(solver=\"svd\")\n",
    "            self.model.fit(x_train_scaled, y_train)\n",
    "\n",
    "            self.acc_test = accuracy_score(y_test, self.model.predict(x_test_scaled))\n",
    "\n",
    "        except Exception as e:\n",
    "            logger.error(f\"Error error during initialization: {str(e)}\")\n",
    "            raise\n",
    "    \n",
    "    def predict(self, context: Any, model_input: pd.DataFrame, params: Optional[dict] = None) -> list[str]:\n",
    "        \"\"\"\n",
    "        Computes the predicted class of Iris Flower.\n",
    "        \"\"\"\n",
    "        try:       \n",
    "            x_scaled = self.scaler.transform(model_input)\n",
    "            prediction = self.model.predict(x_scaled)\n",
    "            return prediction.tolist()\n",
    "            \n",
    "        except Exception as e:\n",
    "            logger.error(f\"Error performing prediction: {str(e)}\")\n",
    "            raise\n",
    "            \n",
    "    @classmethod\n",
    "    def log_model(cls, model_name: str) -> None:\n",
    "        \"\"\"\n",
    "        Logs the model to MLflow with artifacts for demo and config.\n",
    "        \"\"\"\n",
    "        try:\n",
    "            # Define input and output schema\n",
    "            input_schema = Schema([\n",
    "                ColSpec(\"double\",\"sepal-length\"),\n",
    "                ColSpec(\"double\",\"sepal-width\"),\n",
    "                ColSpec(\"double\",\"petal-length\"),\n",
    "                ColSpec(\"double\",\"petal-width\"),\n",
    "                ])\n",
    "            output_schema = Schema([\n",
    "                ColSpec(\"string\", \"class\"),\n",
    "            ])\n",
    "            \n",
    "            # Define model signature\n",
    "            signature = ModelSignature(inputs=input_schema, outputs=output_schema)\n",
    "\n",
    "            model_instance = cls()\n",
    "            model_instance.load_context(None)\n",
    "            \n",
    "            # Prepare artifacts dictionary\n",
    "            artifacts = {}\n",
    "            \n",
    "            # Add demo folder as artifact\n",
    "            demo_folder = \"../demo\"\n",
    "            if os.path.exists(demo_folder):\n",
    "                artifacts[\"demo\"] = demo_folder\n",
    "                logger.info(f\"✅ Demo folder added to artifacts: {demo_folder}\")\n",
    "            else:\n",
    "                logger.warning(f\"⚠️  Demo folder not found: {demo_folder}\")\n",
    "                \n",
    "            # Add config file as artifact\n",
    "            config_path = \"../configs/config.yaml\"\n",
    "            if os.path.exists(config_path):\n",
    "                artifacts[\"config\"] = config_path\n",
    "                logger.info(f\"✅ Config file added to artifacts: {config_path}\")\n",
    "            else:\n",
    "                logger.warning(f\"⚠️  Config file not found: {config_path}\")\n",
    "            \n",
    "            # Log the model in MLflow\n",
    "            mlflow.pyfunc.log_model(\n",
    "                artifact_path=model_name,\n",
    "                python_model=cls(),\n",
    "                signature=signature,\n",
    "                artifacts=artifacts if artifacts else None,\n",
    "                pip_requirements=[\"mlflow\", \"pandas\", \"scikit-learn\", \"numpy\"]\n",
    "            )\n",
    "            \n",
    "            mlflow.log_metric(\"test_accuracy\", model_instance.acc_test)\n",
    "        \n",
    "        except Exception as e:\n",
    "            logger.error(f\"Error logging model: {str(e)}\")\n",
    "            raise"
   ]
  },
  {
   "cell_type": "markdown",
   "metadata": {},
   "source": [
    "## Logging Model to MLflow"
   ]
  },
  {
   "cell_type": "code",
   "execution_count": 10,
   "metadata": {},
   "outputs": [
    {
     "name": "stderr",
     "output_type": "stream",
     "text": [
      "2025/08/14 15:10:59 INFO mlflow.tracking.fluent: Experiment with name 'Iris_Flower_Experiment' does not exist. Creating a new experiment.\n",
      "2025-08-14 15:10:59 - INFO - Starting the experiment: Iris_Flower_Experiment\n",
      "2025-08-14 15:10:59 - INFO - ✅ Demo folder added to artifacts: ../demo\n",
      "2025-08-14 15:10:59 - INFO - ✅ Config file added to artifacts: ../configs/config.yaml\n"
     ]
    },
    {
     "data": {
      "application/vnd.jupyter.widget-view+json": {
       "model_id": "5639f2a7209c4fd887fca67aafd465e7",
       "version_major": 2,
       "version_minor": 0
      },
      "text/plain": [
       "Downloading artifacts:   0%|          | 0/8 [00:00<?, ?it/s]"
      ]
     },
     "metadata": {},
     "output_type": "display_data"
    },
    {
     "data": {
      "application/vnd.jupyter.widget-view+json": {
       "model_id": "3ae23389cfbc44a192c2536bf86b8065",
       "version_major": 2,
       "version_minor": 0
      },
      "text/plain": [
       "Downloading artifacts:   0%|          | 0/1 [00:00<?, ?it/s]"
      ]
     },
     "metadata": {},
     "output_type": "display_data"
    },
    {
     "name": "stderr",
     "output_type": "stream",
     "text": [
      "Successfully registered model 'Iris_Flower_Model'.\n",
      "Created version '1' of model 'Iris_Flower_Model'.\n",
      "2025-08-14 15:11:01 - INFO - Registered the model: Iris_Flower_Model\n"
     ]
    }
   ],
   "source": [
    "# Set up MLflow experiment\n",
    "mlflow.set_experiment(EXPERIMENT_NAME)\n",
    "\n",
    "# Start an MLflow run\n",
    "with mlflow.start_run(run_name=RUN_NAME) as run:\n",
    "    logger.info(f\"Starting the experiment: {EXPERIMENT_NAME}\")\n",
    "    \n",
    "    # Log the model using our custom class\n",
    "    IrisFlowerModel.log_model(model_name=MODEL_NAME)\n",
    "    \n",
    "    # Register the model in the MLflow Model Registry\n",
    "    model_uri = f\"runs:/{run.info.run_id}/{MODEL_NAME}\"\n",
    "    mlflow.register_model(\n",
    "        model_uri=model_uri, \n",
    "        name=MODEL_NAME\n",
    "    )\n",
    "\n",
    "logger.info(f'Registered the model: {MODEL_NAME}')"
   ]
  },
  {
   "cell_type": "markdown",
   "metadata": {},
   "source": [
    "## Fetching the Latest Model Version from MLflow"
   ]
  },
  {
   "cell_type": "code",
   "execution_count": 11,
   "metadata": {},
   "outputs": [
    {
     "name": "stderr",
     "output_type": "stream",
     "text": [
      "2025-08-14 15:11:01 - INFO - Latest Model Version: 1\n",
      "2025-08-14 15:11:01 - INFO - Model Signature: inputs: \n",
      "  ['sepal-length': double (required), 'sepal-width': double (required), 'petal-length': double (required), 'petal-width': double (required)]\n",
      "outputs: \n",
      "  ['class': string (required)]\n",
      "params: \n",
      "  None\n",
      "\n"
     ]
    }
   ],
   "source": [
    "# Initialize the MLflow client\n",
    "client = MlflowClient()\n",
    "\n",
    "# Retrieve the latest version of the \"Iris_Flower_Model\" model (not yet in a specific stage)\n",
    "model_metadata = client.get_latest_versions(MODEL_NAME, stages=[\"None\"])\n",
    "latest_model_version = model_metadata[0].version  # Extract the latest model version\n",
    "\n",
    "# Fetch model information, including its signature\n",
    "model_info = mlflow.models.get_model_info(f\"models:/{MODEL_NAME}/{latest_model_version}\")\n",
    "\n",
    "# Print the latest model version and its signature\n",
    "logger.info(f\"Latest Model Version: {latest_model_version}\")\n",
    "logger.info(f\"Model Signature: {model_info.signature}\")"
   ]
  },
  {
   "cell_type": "markdown",
   "metadata": {},
   "source": [
    "## Loading the Model and Running Inference"
   ]
  },
  {
   "cell_type": "code",
   "execution_count": 12,
   "metadata": {},
   "outputs": [
    {
     "name": "stderr",
     "output_type": "stream",
     "text": [
      "2025-08-14 15:11:01 - INFO - ['Iris-setosa']\n"
     ]
    }
   ],
   "source": [
    "model = mlflow.pyfunc.load_model(model_uri=f\"models:/{MODEL_NAME}/{latest_model_version}\")\n",
    "\n",
    "df_input = pd.DataFrame({\n",
    "    'sepal-length': [5.1],\n",
    "    'sepal-width': [3.5],\n",
    "    'petal-length':\t[1.4],\n",
    "    'petal-width': [0.2]\n",
    "})\n",
    "prediction = model.predict(df_input)\n",
    "logger.info(prediction)\n"
   ]
  },
  {
   "cell_type": "code",
   "execution_count": 13,
   "metadata": {},
   "outputs": [
    {
     "name": "stderr",
     "output_type": "stream",
     "text": [
      "2025-08-14 15:11:01 - INFO - Total execution time: 0m 2.52s\n",
      "2025-08-14 15:11:01 - INFO - Notebook execution completed successfully.\n"
     ]
    }
   ],
   "source": [
    "end_time: float = time.time()\n",
    "elapsed_time: float = end_time - start_time\n",
    "elapsed_minutes: int = int(elapsed_time // 60)\n",
    "elapsed_seconds: float = elapsed_time % 60\n",
    "logger.info(f\"Total execution time: {elapsed_minutes}m {elapsed_seconds:.2f}s\")\n",
    "logger.info(\"Notebook execution completed successfully.\")\n"
   ]
  },
  {
   "cell_type": "markdown",
   "metadata": {},
   "source": [
    "Built with ❤️ using [**HP AI Studio**](https://hp.com/ai-studio)."
   ]
  }
 ],
 "metadata": {
  "colab": {
   "name": "IrisFlowersClassification.ipynb",
   "provenance": [],
   "toc_visible": true
  },
  "kernelspec": {
   "display_name": "Python [conda env:base] *",
   "language": "python",
   "name": "conda-base-py"
  },
  "language_info": {
   "codemirror_mode": {
    "name": "ipython",
    "version": 3
   },
   "file_extension": ".py",
   "mimetype": "text/x-python",
   "name": "python",
   "nbconvert_exporter": "python",
   "pygments_lexer": "ipython3",
   "version": "3.12.7"
  }
 },
 "nbformat": 4,
 "nbformat_minor": 4
}
